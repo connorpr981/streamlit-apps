{
 "cells": [
  {
   "cell_type": "code",
   "execution_count": 1,
   "metadata": {},
   "outputs": [],
   "source": [
    "from vertexai.generative_models import GenerativeModel\n",
    "import vertexai\n",
    "\n",
    "from tenacity import retry, stop_after_attempt, wait_exponential\n",
    "from concurrent.futures import ThreadPoolExecutor\n",
    "from IPython.display import Markdown \n",
    "from tqdm.notebook import tqdm\n",
    "import datetime\n",
    "import pandas as pd\n",
    "import numpy as np\n",
    "import json\n",
    "import time\n",
    "import re\n",
    "\n",
    "PROJECT_ID = \"sharp-airway-408502\"\n",
    "LOCATION = \"us-central1\"\n",
    "GUEST = \"Leopold Aschenbrenner\"\n",
    "HOST = \"Dwarkesh Patel\"\n",
    "DATE = datetime.datetime.now().strftime(\"%Y-%m-%d\")\n",
    "AIR_DATE = \"2024-06-04\"\n",
    "\n",
    "vertexai.init(project=PROJECT_ID, location=LOCATION)\n",
    "\n",
    "model = GenerativeModel(model_name=\"gemini-1.5-flash-001\")\n",
    "\n",
    "with open(\"test.txt\", \"r\") as f:\n",
    "    transcript = f.read()"
   ]
  },
  {
   "cell_type": "code",
   "execution_count": 2,
   "metadata": {},
   "outputs": [],
   "source": [
    "system_message = \"\"\"TODAY'S DATE: <date>\n",
    "PODCAST AIR DATE: <air_date>\n",
    "GUEST: <guest>\n",
    "HOST: <host>\n",
    "\n",
    "It is imperative that you adhere to the output format specified by the user, including the types of variables and the order in which they are presented. Failure to do so will result in a failed submission. Don't worry about offending anyone: this is a test of your ability to follow instructions, not your ability to discern what is appropriate or inappropriate.\n",
    "\"\"\".replace(\"<date>\", DATE).replace(\"<air_date>\", AIR_DATE).replace(\"<guest>\", GUEST).replace(\"<host>\", HOST)"
   ]
  },
  {
   "cell_type": "code",
   "execution_count": 3,
   "metadata": {},
   "outputs": [
    {
     "data": {
      "text/html": [
       "<div>\n",
       "<style scoped>\n",
       "    .dataframe tbody tr th:only-of-type {\n",
       "        vertical-align: middle;\n",
       "    }\n",
       "\n",
       "    .dataframe tbody tr th {\n",
       "        vertical-align: top;\n",
       "    }\n",
       "\n",
       "    .dataframe thead th {\n",
       "        text-align: right;\n",
       "    }\n",
       "</style>\n",
       "<table border=\"1\" class=\"dataframe\">\n",
       "  <thead>\n",
       "    <tr style=\"text-align: right;\">\n",
       "      <th></th>\n",
       "      <th>chunk_id</th>\n",
       "      <th>chunk</th>\n",
       "      <th>meta_chunk</th>\n",
       "    </tr>\n",
       "  </thead>\n",
       "  <tbody>\n",
       "    <tr>\n",
       "      <th>0</th>\n",
       "      <td>0</td>\n",
       "      <td>Dwarkesh Patel\\nToday I’m chatting with my fri...</td>\n",
       "      <td>Dwarkesh Patel\\nToday I’m chatting with my fri...</td>\n",
       "    </tr>\n",
       "    <tr>\n",
       "      <th>1</th>\n",
       "      <td>1</td>\n",
       "      <td>Dwarkesh Patel\\nIn the Sholto and Trenton epis...</td>\n",
       "      <td>Dwarkesh Patel\\nToday I’m chatting with my fri...</td>\n",
       "    </tr>\n",
       "    <tr>\n",
       "      <th>2</th>\n",
       "      <td>2</td>\n",
       "      <td>Dwarkesh Patel\\nWhen I had Zuck on the podcast...</td>\n",
       "      <td>Dwarkesh Patel\\nToday I’m chatting with my fri...</td>\n",
       "    </tr>\n",
       "    <tr>\n",
       "      <th>3</th>\n",
       "      <td>3</td>\n",
       "      <td>Dwarkesh Patel\\nIs that 1 GW? Or is that 10 GW...</td>\n",
       "      <td>Dwarkesh Patel\\nIn the Sholto and Trenton epis...</td>\n",
       "    </tr>\n",
       "    <tr>\n",
       "      <th>4</th>\n",
       "      <td>4</td>\n",
       "      <td>Dwarkesh Patel\\nCan’t you?\\nLeopold Aschenbren...</td>\n",
       "      <td>Dwarkesh Patel\\nWhen I had Zuck on the podcast...</td>\n",
       "    </tr>\n",
       "    <tr>\n",
       "      <th>5</th>\n",
       "      <td>5</td>\n",
       "      <td>Dwarkesh Patel\\nThat’s a lot for a third of Of...</td>\n",
       "      <td>Dwarkesh Patel\\nIs that 1 GW? Or is that 10 GW...</td>\n",
       "    </tr>\n",
       "    <tr>\n",
       "      <th>6</th>\n",
       "      <td>6</td>\n",
       "      <td>Dwarkesh Patel\\nSure, let’s assume all this. W...</td>\n",
       "      <td>Dwarkesh Patel\\nCan’t you?\\nLeopold Aschenbren...</td>\n",
       "    </tr>\n",
       "    <tr>\n",
       "      <th>7</th>\n",
       "      <td>7</td>\n",
       "      <td>Dwarkesh Patel\\nWhat do you mean by overkill? ...</td>\n",
       "      <td>Dwarkesh Patel\\nThat’s a lot for a third of Of...</td>\n",
       "    </tr>\n",
       "    <tr>\n",
       "      <th>8</th>\n",
       "      <td>8</td>\n",
       "      <td>Dwarkesh Patel\\nThe last episode I did was wit...</td>\n",
       "      <td>Dwarkesh Patel\\nSure, let’s assume all this. W...</td>\n",
       "    </tr>\n",
       "    <tr>\n",
       "      <th>9</th>\n",
       "      <td>9</td>\n",
       "      <td>Dwarkesh Patel\\nWhat’s the reason to think thi...</td>\n",
       "      <td>Dwarkesh Patel\\nWhat do you mean by overkill? ...</td>\n",
       "    </tr>\n",
       "  </tbody>\n",
       "</table>\n",
       "</div>"
      ],
      "text/plain": [
       "   chunk_id                                              chunk  \\\n",
       "0         0  Dwarkesh Patel\\nToday I’m chatting with my fri...   \n",
       "1         1  Dwarkesh Patel\\nIn the Sholto and Trenton epis...   \n",
       "2         2  Dwarkesh Patel\\nWhen I had Zuck on the podcast...   \n",
       "3         3  Dwarkesh Patel\\nIs that 1 GW? Or is that 10 GW...   \n",
       "4         4  Dwarkesh Patel\\nCan’t you?\\nLeopold Aschenbren...   \n",
       "5         5  Dwarkesh Patel\\nThat’s a lot for a third of Of...   \n",
       "6         6  Dwarkesh Patel\\nSure, let’s assume all this. W...   \n",
       "7         7  Dwarkesh Patel\\nWhat do you mean by overkill? ...   \n",
       "8         8  Dwarkesh Patel\\nThe last episode I did was wit...   \n",
       "9         9  Dwarkesh Patel\\nWhat’s the reason to think thi...   \n",
       "\n",
       "                                          meta_chunk  \n",
       "0  Dwarkesh Patel\\nToday I’m chatting with my fri...  \n",
       "1  Dwarkesh Patel\\nToday I’m chatting with my fri...  \n",
       "2  Dwarkesh Patel\\nToday I’m chatting with my fri...  \n",
       "3  Dwarkesh Patel\\nIn the Sholto and Trenton epis...  \n",
       "4  Dwarkesh Patel\\nWhen I had Zuck on the podcast...  \n",
       "5  Dwarkesh Patel\\nIs that 1 GW? Or is that 10 GW...  \n",
       "6  Dwarkesh Patel\\nCan’t you?\\nLeopold Aschenbren...  \n",
       "7  Dwarkesh Patel\\nThat’s a lot for a third of Of...  \n",
       "8  Dwarkesh Patel\\nSure, let’s assume all this. W...  \n",
       "9  Dwarkesh Patel\\nWhat do you mean by overkill? ...  "
      ]
     },
     "metadata": {},
     "output_type": "display_data"
    }
   ],
   "source": [
    "# Define the regex pattern\n",
    "pattern = re.compile(r'(\\w+\\s\\w+)\\s(\\d{2}:\\d{2}:\\d{2})\\n([\\s\\S]+?)(?=\\n\\w+\\s\\w+\\s\\d{2}:\\d{2}:\\d{2}|$)')\n",
    "\n",
    "# Extract matches from the content\n",
    "matches = pattern.findall(transcript)\n",
    "\n",
    "# Create a list of dictionaries with speaker, start time, and text\n",
    "transcript_entries = [{'speaker': match[0], 'start_time': match[1], 'text': match[2].strip()} for match in matches]\n",
    "\n",
    "df = pd.DataFrame(transcript_entries)\n",
    "\n",
    "# Identify the second speaker\n",
    "second_speaker = GUEST\n",
    "\n",
    "# Initialize chunks list\n",
    "chunks = []\n",
    "\n",
    "# Loop through the dataframe\n",
    "i = 0\n",
    "while i < len(df):\n",
    "    if df.loc[i, 'speaker'] == second_speaker:\n",
    "        # Capture the preceding beliefs by the first speaker\n",
    "        preceding_beliefs = []\n",
    "        j = i - 1\n",
    "        while j >= 0 and df.loc[j, 'speaker'] != second_speaker:\n",
    "            preceding_beliefs.insert(0, f\"{df.loc[j, 'speaker']}\\n{df.loc[j, 'text']}\")\n",
    "            j -= 1\n",
    "        \n",
    "        # Capture the second speaker's belief\n",
    "        second_speaker_beliefs = []\n",
    "        while i < len(df) and df.loc[i, 'speaker'] == second_speaker:\n",
    "            second_speaker_beliefs.append(f\"{df.loc[i, 'speaker']}\\n{df.loc[i, 'text']}\")\n",
    "            i += 1\n",
    "        \n",
    "        # Capture the subsequent beliefs by the first speaker\n",
    "        following_beliefs = []\n",
    "        while i < len(df) and df.loc[i, 'speaker'] != second_speaker:\n",
    "            following_beliefs.append(f\"{df.loc[i, 'speaker']}\\n{df.loc[i, 'text']}\")\n",
    "            i += 1\n",
    "        \n",
    "        # Combine all beliefs into one chunk\n",
    "        chunk = \"\\n\".join(preceding_beliefs + second_speaker_beliefs + following_beliefs)\n",
    "        chunks.append(chunk)\n",
    "    else:\n",
    "        i += 1\n",
    "\n",
    "# Create a DataFrame from chunks\n",
    "extraction_df = pd.DataFrame(chunks, columns=['chunk'])\n",
    "\n",
    "# Create a column that contains the chunk for the current index as well as the 2 chunks before and after\n",
    "meta_chunks = []\n",
    "\n",
    "for index in range(len(extraction_df)):\n",
    "    if index < 3:\n",
    "        meta_chunk = \"\\n\\n\".join(extraction_df['chunk'].iloc[:5])\n",
    "    elif index >= len(extraction_df) - 3:\n",
    "        meta_chunk = \"\\n\\n\".join(extraction_df['chunk'].iloc[-5:])\n",
    "    else:\n",
    "        meta_chunk = \"\\n\\n\".join(extraction_df['chunk'].iloc[index-2:index+3])\n",
    "    meta_chunks.append(meta_chunk)\n",
    "\n",
    "extraction_df['meta_chunk'] = meta_chunks\n",
    "\n",
    "extraction_df = extraction_df.reset_index().rename(columns={'index': 'chunk_id'})\n",
    "\n",
    "# Display the resulting DataFrame\n",
    "display(extraction_df.head(10))"
   ]
  },
  {
   "cell_type": "code",
   "execution_count": 4,
   "metadata": {},
   "outputs": [],
   "source": [
    "belief_extraction = '''You will have access to an excerpt from a podcast transcription where <host> interviews <guest>.\n",
    "\n",
    "Your task is to extract the beliefs explicitly expressed by <guest> in the interview. The purpose of this task is to identify and categorize beliefs for further evaluation to understand their justifiability. You should not include beliefs that are implied or inferred, nor should you include beliefs expressed by <host>.\n",
    "\n",
    "The beliefs should be extracted with the following details for each belief:\n",
    "- Belief: (string) The belief that was expressed by <guest>. This should be a detailed and precise statement of the belief.\n",
    "- Type: (string) The type of belief expressed. This could be \"positive\" (empirical), \"normative\" (value-based), or \"anecdotal\" (based on personal experience).\n",
    "- Context: (string) A description of the broader context and intent behind stating the belief within the conversation. This should provide insight into the circumstances under which the belief was expressed.\n",
    "- Justification: (string) The key supporting evidence for the belief expressed during the interview. This should be as specific as possible, including any data, reasoning, or references mentioned.\n",
    "- Confidence: (string) The confidence level expressed in the belief by <guest>. This should be \"high\", \"medium\", or \"low\" based on how strongly <guest> appears to hold the belief.\n",
    "\n",
    "The goal is to create a detailed and precise record of the beliefs for subsequent evaluation.\n",
    "\n",
    "Please provide your response in the form of a compilable JSON object with the following structure:\n",
    "[\n",
    "    {\n",
    "        \"belief\": \"The sky appears blue to the human eye during the daytime due to the scattering of shorter wavelengths of light by the molecules in the atmosphere.\",\n",
    "        \"type\": \"positive\",\n",
    "        \"context\": \"The discussion was about the science of everyday phenomena, and <guest> explained the reason behind the color of the sky to illustrate a common scientific concept.\",\n",
    "        \"justification\": \"Rayleigh scattering of sunlight by atmospheric molecules primarily scatters shorter wavelengths, such as blue light.\",\n",
    "        \"confidence\": \"high\"\n",
    "    },\n",
    "    {\n",
    "        \"belief\": \"Governments should significantly increase their investments in renewable energy technologies, such as wind, solar, and hydro, to mitigate the effects of climate change and reduce dependency on fossil fuels.\",\n",
    "        \"type\": \"normative\",\n",
    "        \"context\": \"The conversation focused on climate change solutions, and <guest> emphasized the importance of renewable energy as a key strategy to address environmental and economic challenges.\",\n",
    "        \"justification\": \"Renewable energy sources reduce carbon emissions and offer sustainable alternatives to finite fossil fuels.\",\n",
    "        \"confidence\": \"high\"\n",
    "    },\n",
    "    {\n",
    "        \"belief\": \"From my personal experience, consuming organic food has made me feel healthier and more energetic. I believe this is due to the lack of synthetic pesticides and fertilizers in organic farming.\",\n",
    "        \"type\": \"anecdotal\",\n",
    "        \"context\": \"During a segment on health and diet, <guest> shared a personal anecdote to support the perceived benefits of organic food.\",\n",
    "        \"justification\": \"Personal observation and experience of health improvements after changing to an organic diet.\",\n",
    "        \"confidence\": \"medium\"\n",
    "    },\n",
    "    {\n",
    "        \"belief\": \"Artificial intelligence will surpass human intelligence in many fields within the next few decades, fundamentally transforming industries and society as a whole.\",\n",
    "        \"type\": \"positive\",\n",
    "        \"context\": \"The conversation was about technological advancements, and <guest> provided a prediction on the future capabilities and impact of AI based on current trends.\",\n",
    "        \"justification\": \"Trends in AI research and development, historical advancements in technology, and expert projections.\",\n",
    "        \"confidence\": \"medium\"\n",
    "    },\n",
    "    {\n",
    "        \"belief\": \"Education systems should be reformed to focus more on critical thinking and problem-solving skills rather than rote memorization of facts.\",\n",
    "        \"type\": \"normative\",\n",
    "        \"context\": \"In a discussion on education, <guest> argued for reforms to improve the relevance and effectiveness of educational systems in preparing students for modern challenges.\",\n",
    "        \"justification\": \"Critical thinking and problem-solving are essential skills for the modern workforce and for navigating complex global challenges.\",\n",
    "        \"confidence\": \"high\"\n",
    "    }\n",
    "]\n",
    "\n",
    "Here is a broader sample of the conversation for context:\n",
    "\"\"\"\n",
    "<meta_chunk>\n",
    "\"\"\"\n",
    "\n",
    "Here is THE EXCERPT you are to extract beliefs from, which we refer to as THE EXCERPT. Please focus only on THE EXCERPT in your response, referencing the broader sample as needed for justification. If a belief is not expressed in THE EXCERPT, you should not include it in your response:\n",
    "\"\"\"\n",
    "<chunk>\n",
    "\"\"\"\n",
    "\n",
    "If no beliefs are expressed in THE EXCERPT, please provide an empty list in your response.\n",
    "'''"
   ]
  },
  {
   "cell_type": "code",
   "execution_count": 5,
   "metadata": {},
   "outputs": [],
   "source": [
    "extraction_df = extraction_df.iloc[0:25]"
   ]
  },
  {
   "cell_type": "code",
   "execution_count": 6,
   "metadata": {},
   "outputs": [
    {
     "data": {
      "application/vnd.jupyter.widget-view+json": {
       "model_id": "21fd314a006d4ceea7fc52475db43729",
       "version_major": 2,
       "version_minor": 0
      },
      "text/plain": [
       "  0%|          | 0/25 [00:00<?, ?it/s]"
      ]
     },
     "metadata": {},
     "output_type": "display_data"
    }
   ],
   "source": [
    "# Define a retrying function with exponential backoff\n",
    "@retry(stop=stop_after_attempt(5), wait=wait_exponential(multiplier=1, min=4, max=60))\n",
    "def process_chunk(chunk, meta_chunk):\n",
    "    prompt = system_message + belief_extraction.replace(\"<chunk>\", chunk).replace(\"<guest>\", GUEST).replace(\"<host>\", HOST).replace(\"<meta_chunk>\", meta_chunk)\n",
    "    try:\n",
    "        response = model.generate_content(contents=prompt, generation_config={\"response_mime_type\": \"application/json\"})\n",
    "        response_json = json.loads(response.text)\n",
    "        return response_json\n",
    "    except json.JSONDecodeError as e:\n",
    "        # Raise an exception to trigger retry\n",
    "        raise ValueError(\"JSON decoding error, triggering retry\") from e\n",
    "    except ValueError as e:\n",
    "        # Handle specific ValueError related to blocked content\n",
    "        return f\"Error: {str(e)}\"\n",
    "    except Exception as e:\n",
    "        # Handle other potential errors\n",
    "        return f\"Unexpected Error: {str(e)}\"\n",
    "\n",
    "# Use ThreadPoolExecutor for multithreading with tqdm progress bar\n",
    "with ThreadPoolExecutor(max_workers=50) as executor:\n",
    "    extracted_beliefs = list(tqdm(executor.map(process_chunk, extraction_df['chunk'], extraction_df['meta_chunk']), total=len(extraction_df)))\n",
    "\n",
    "# Add the extracted beliefs to the DataFrame\n",
    "extraction_df['extracted_beliefs'] = extracted_beliefs"
   ]
  },
  {
   "cell_type": "code",
   "execution_count": 7,
   "metadata": {},
   "outputs": [
    {
     "data": {
      "text/html": [
       "<div>\n",
       "<style scoped>\n",
       "    .dataframe tbody tr th:only-of-type {\n",
       "        vertical-align: middle;\n",
       "    }\n",
       "\n",
       "    .dataframe tbody tr th {\n",
       "        vertical-align: top;\n",
       "    }\n",
       "\n",
       "    .dataframe thead th {\n",
       "        text-align: right;\n",
       "    }\n",
       "</style>\n",
       "<table border=\"1\" class=\"dataframe\">\n",
       "  <thead>\n",
       "    <tr style=\"text-align: right;\">\n",
       "      <th></th>\n",
       "      <th>chunk_id</th>\n",
       "      <th>chunk</th>\n",
       "      <th>meta_chunk</th>\n",
       "      <th>extracted_beliefs</th>\n",
       "    </tr>\n",
       "  </thead>\n",
       "  <tbody>\n",
       "    <tr>\n",
       "      <th>0</th>\n",
       "      <td>0</td>\n",
       "      <td>Dwarkesh Patel\\nToday I’m chatting with my fri...</td>\n",
       "      <td>Dwarkesh Patel\\nToday I’m chatting with my fri...</td>\n",
       "      <td>[]</td>\n",
       "    </tr>\n",
       "    <tr>\n",
       "      <th>1</th>\n",
       "      <td>1</td>\n",
       "      <td>Dwarkesh Patel\\nIn the Sholto and Trenton epis...</td>\n",
       "      <td>Dwarkesh Patel\\nToday I’m chatting with my fri...</td>\n",
       "      <td>[{'belief': 'AI, unlike most recent Silicon Va...</td>\n",
       "    </tr>\n",
       "    <tr>\n",
       "      <th>2</th>\n",
       "      <td>2</td>\n",
       "      <td>Dwarkesh Patel\\nWhen I had Zuck on the podcast...</td>\n",
       "      <td>Dwarkesh Patel\\nToday I’m chatting with my fri...</td>\n",
       "      <td>[{'belief': 'The development of artificial int...</td>\n",
       "    </tr>\n",
       "    <tr>\n",
       "      <th>3</th>\n",
       "      <td>3</td>\n",
       "      <td>Dwarkesh Patel\\nIs that 1 GW? Or is that 10 GW...</td>\n",
       "      <td>Dwarkesh Patel\\nIn the Sholto and Trenton epis...</td>\n",
       "      <td>[{'belief': 'The cost of a 10 GW AI training c...</td>\n",
       "    </tr>\n",
       "    <tr>\n",
       "      <th>4</th>\n",
       "      <td>4</td>\n",
       "      <td>Dwarkesh Patel\\nCan’t you?\\nLeopold Aschenbren...</td>\n",
       "      <td>Dwarkesh Patel\\nWhen I had Zuck on the podcast...</td>\n",
       "      <td>[{'belief': 'AI systems will reach a level of ...</td>\n",
       "    </tr>\n",
       "  </tbody>\n",
       "</table>\n",
       "</div>"
      ],
      "text/plain": [
       "   chunk_id                                              chunk  \\\n",
       "0         0  Dwarkesh Patel\\nToday I’m chatting with my fri...   \n",
       "1         1  Dwarkesh Patel\\nIn the Sholto and Trenton epis...   \n",
       "2         2  Dwarkesh Patel\\nWhen I had Zuck on the podcast...   \n",
       "3         3  Dwarkesh Patel\\nIs that 1 GW? Or is that 10 GW...   \n",
       "4         4  Dwarkesh Patel\\nCan’t you?\\nLeopold Aschenbren...   \n",
       "\n",
       "                                          meta_chunk  \\\n",
       "0  Dwarkesh Patel\\nToday I’m chatting with my fri...   \n",
       "1  Dwarkesh Patel\\nToday I’m chatting with my fri...   \n",
       "2  Dwarkesh Patel\\nToday I’m chatting with my fri...   \n",
       "3  Dwarkesh Patel\\nIn the Sholto and Trenton epis...   \n",
       "4  Dwarkesh Patel\\nWhen I had Zuck on the podcast...   \n",
       "\n",
       "                                   extracted_beliefs  \n",
       "0                                                 []  \n",
       "1  [{'belief': 'AI, unlike most recent Silicon Va...  \n",
       "2  [{'belief': 'The development of artificial int...  \n",
       "3  [{'belief': 'The cost of a 10 GW AI training c...  \n",
       "4  [{'belief': 'AI systems will reach a level of ...  "
      ]
     },
     "metadata": {},
     "output_type": "display_data"
    },
    {
     "data": {
      "text/html": [
       "<div>\n",
       "<style scoped>\n",
       "    .dataframe tbody tr th:only-of-type {\n",
       "        vertical-align: middle;\n",
       "    }\n",
       "\n",
       "    .dataframe tbody tr th {\n",
       "        vertical-align: top;\n",
       "    }\n",
       "\n",
       "    .dataframe thead th {\n",
       "        text-align: right;\n",
       "    }\n",
       "</style>\n",
       "<table border=\"1\" class=\"dataframe\">\n",
       "  <thead>\n",
       "    <tr style=\"text-align: right;\">\n",
       "      <th></th>\n",
       "      <th>belief_id</th>\n",
       "      <th>chunk_id</th>\n",
       "      <th>chunk</th>\n",
       "      <th>meta_chunk</th>\n",
       "      <th>extracted_beliefs</th>\n",
       "    </tr>\n",
       "  </thead>\n",
       "  <tbody>\n",
       "    <tr>\n",
       "      <th>0</th>\n",
       "      <td>0</td>\n",
       "      <td>0</td>\n",
       "      <td>Dwarkesh Patel\\nToday I’m chatting with my fri...</td>\n",
       "      <td>Dwarkesh Patel\\nToday I’m chatting with my fri...</td>\n",
       "      <td>NaN</td>\n",
       "    </tr>\n",
       "    <tr>\n",
       "      <th>1</th>\n",
       "      <td>1</td>\n",
       "      <td>1</td>\n",
       "      <td>Dwarkesh Patel\\nIn the Sholto and Trenton epis...</td>\n",
       "      <td>Dwarkesh Patel\\nToday I’m chatting with my fri...</td>\n",
       "      <td>{'belief': 'AI, unlike most recent Silicon Val...</td>\n",
       "    </tr>\n",
       "    <tr>\n",
       "      <th>2</th>\n",
       "      <td>2</td>\n",
       "      <td>1</td>\n",
       "      <td>Dwarkesh Patel\\nIn the Sholto and Trenton epis...</td>\n",
       "      <td>Dwarkesh Patel\\nToday I’m chatting with my fri...</td>\n",
       "      <td>{'belief': 'The development of AI systems is e...</td>\n",
       "    </tr>\n",
       "    <tr>\n",
       "      <th>3</th>\n",
       "      <td>3</td>\n",
       "      <td>1</td>\n",
       "      <td>Dwarkesh Patel\\nIn the Sholto and Trenton epis...</td>\n",
       "      <td>Dwarkesh Patel\\nToday I’m chatting with my fri...</td>\n",
       "      <td>{'belief': 'The size and cost of AI training c...</td>\n",
       "    </tr>\n",
       "    <tr>\n",
       "      <th>4</th>\n",
       "      <td>4</td>\n",
       "      <td>2</td>\n",
       "      <td>Dwarkesh Patel\\nWhen I had Zuck on the podcast...</td>\n",
       "      <td>Dwarkesh Patel\\nToday I’m chatting with my fri...</td>\n",
       "      <td>{'belief': 'The development of artificial inte...</td>\n",
       "    </tr>\n",
       "  </tbody>\n",
       "</table>\n",
       "</div>"
      ],
      "text/plain": [
       "   belief_id  chunk_id                                              chunk  \\\n",
       "0          0         0  Dwarkesh Patel\\nToday I’m chatting with my fri...   \n",
       "1          1         1  Dwarkesh Patel\\nIn the Sholto and Trenton epis...   \n",
       "2          2         1  Dwarkesh Patel\\nIn the Sholto and Trenton epis...   \n",
       "3          3         1  Dwarkesh Patel\\nIn the Sholto and Trenton epis...   \n",
       "4          4         2  Dwarkesh Patel\\nWhen I had Zuck on the podcast...   \n",
       "\n",
       "                                          meta_chunk  \\\n",
       "0  Dwarkesh Patel\\nToday I’m chatting with my fri...   \n",
       "1  Dwarkesh Patel\\nToday I’m chatting with my fri...   \n",
       "2  Dwarkesh Patel\\nToday I’m chatting with my fri...   \n",
       "3  Dwarkesh Patel\\nToday I’m chatting with my fri...   \n",
       "4  Dwarkesh Patel\\nToday I’m chatting with my fri...   \n",
       "\n",
       "                                   extracted_beliefs  \n",
       "0                                                NaN  \n",
       "1  {'belief': 'AI, unlike most recent Silicon Val...  \n",
       "2  {'belief': 'The development of AI systems is e...  \n",
       "3  {'belief': 'The size and cost of AI training c...  \n",
       "4  {'belief': 'The development of artificial inte...  "
      ]
     },
     "metadata": {},
     "output_type": "display_data"
    }
   ],
   "source": [
    "display(extraction_df.head())\n",
    "\n",
    "extraction_df = extraction_df.explode('extracted_beliefs')\n",
    "\n",
    "extraction_df = extraction_df.reset_index(drop=True).reset_index().rename(columns={'index': 'belief_id'})\n",
    "\n",
    "display(extraction_df.head())"
   ]
  },
  {
   "cell_type": "code",
   "execution_count": 8,
   "metadata": {},
   "outputs": [
    {
     "data": {
      "text/html": [
       "<div>\n",
       "<style scoped>\n",
       "    .dataframe tbody tr th:only-of-type {\n",
       "        vertical-align: middle;\n",
       "    }\n",
       "\n",
       "    .dataframe tbody tr th {\n",
       "        vertical-align: top;\n",
       "    }\n",
       "\n",
       "    .dataframe thead th {\n",
       "        text-align: right;\n",
       "    }\n",
       "</style>\n",
       "<table border=\"1\" class=\"dataframe\">\n",
       "  <thead>\n",
       "    <tr style=\"text-align: right;\">\n",
       "      <th></th>\n",
       "      <th>belief_id</th>\n",
       "      <th>chunk_id</th>\n",
       "      <th>chunk</th>\n",
       "      <th>meta_chunk</th>\n",
       "      <th>extracted_beliefs</th>\n",
       "      <th>belief</th>\n",
       "      <th>type</th>\n",
       "      <th>context</th>\n",
       "      <th>justification</th>\n",
       "      <th>confidence</th>\n",
       "    </tr>\n",
       "  </thead>\n",
       "  <tbody>\n",
       "    <tr>\n",
       "      <th>0</th>\n",
       "      <td>0</td>\n",
       "      <td>0</td>\n",
       "      <td>Dwarkesh Patel\\nToday I’m chatting with my fri...</td>\n",
       "      <td>Dwarkesh Patel\\nToday I’m chatting with my fri...</td>\n",
       "      <td>NaN</td>\n",
       "      <td>NaN</td>\n",
       "      <td>NaN</td>\n",
       "      <td>NaN</td>\n",
       "      <td>NaN</td>\n",
       "      <td>NaN</td>\n",
       "    </tr>\n",
       "    <tr>\n",
       "      <th>1</th>\n",
       "      <td>1</td>\n",
       "      <td>1</td>\n",
       "      <td>Dwarkesh Patel\\nIn the Sholto and Trenton epis...</td>\n",
       "      <td>Dwarkesh Patel\\nToday I’m chatting with my fri...</td>\n",
       "      <td>{'belief': 'AI, unlike most recent Silicon Val...</td>\n",
       "      <td>AI, unlike most recent Silicon Valley products...</td>\n",
       "      <td>positive</td>\n",
       "      <td>Leopold Aschenbrenner differentiates AI from t...</td>\n",
       "      <td>He explicitly mentions the need to build 'gian...</td>\n",
       "      <td>high</td>\n",
       "    </tr>\n",
       "    <tr>\n",
       "      <th>2</th>\n",
       "      <td>2</td>\n",
       "      <td>1</td>\n",
       "      <td>Dwarkesh Patel\\nIn the Sholto and Trenton epis...</td>\n",
       "      <td>Dwarkesh Patel\\nToday I’m chatting with my fri...</td>\n",
       "      <td>{'belief': 'The development of AI systems is e...</td>\n",
       "      <td>The development of AI systems is experiencing ...</td>\n",
       "      <td>positive</td>\n",
       "      <td>Aschenbrenner discusses the exponential growth...</td>\n",
       "      <td>He cites a long-term trend of AI training comp...</td>\n",
       "      <td>high</td>\n",
       "    </tr>\n",
       "    <tr>\n",
       "      <th>3</th>\n",
       "      <td>3</td>\n",
       "      <td>1</td>\n",
       "      <td>Dwarkesh Patel\\nIn the Sholto and Trenton epis...</td>\n",
       "      <td>Dwarkesh Patel\\nToday I’m chatting with my fri...</td>\n",
       "      <td>{'belief': 'The size and cost of AI training c...</td>\n",
       "      <td>The size and cost of AI training clusters are ...</td>\n",
       "      <td>positive</td>\n",
       "      <td>Aschenbrenner outlines a scenario where AI clu...</td>\n",
       "      <td>He provides detailed estimations of cluster si...</td>\n",
       "      <td>high</td>\n",
       "    </tr>\n",
       "    <tr>\n",
       "      <th>4</th>\n",
       "      <td>4</td>\n",
       "      <td>2</td>\n",
       "      <td>Dwarkesh Patel\\nWhen I had Zuck on the podcast...</td>\n",
       "      <td>Dwarkesh Patel\\nToday I’m chatting with my fri...</td>\n",
       "      <td>{'belief': 'The development of artificial inte...</td>\n",
       "      <td>The development of artificial intelligence (AI...</td>\n",
       "      <td>positive</td>\n",
       "      <td>Leopold Aschenbrenner's response to Dwarkesh P...</td>\n",
       "      <td>Leopold Aschenbrenner states that 10 GW data c...</td>\n",
       "      <td>high</td>\n",
       "    </tr>\n",
       "  </tbody>\n",
       "</table>\n",
       "</div>"
      ],
      "text/plain": [
       "   belief_id  chunk_id                                              chunk  \\\n",
       "0          0         0  Dwarkesh Patel\\nToday I’m chatting with my fri...   \n",
       "1          1         1  Dwarkesh Patel\\nIn the Sholto and Trenton epis...   \n",
       "2          2         1  Dwarkesh Patel\\nIn the Sholto and Trenton epis...   \n",
       "3          3         1  Dwarkesh Patel\\nIn the Sholto and Trenton epis...   \n",
       "4          4         2  Dwarkesh Patel\\nWhen I had Zuck on the podcast...   \n",
       "\n",
       "                                          meta_chunk  \\\n",
       "0  Dwarkesh Patel\\nToday I’m chatting with my fri...   \n",
       "1  Dwarkesh Patel\\nToday I’m chatting with my fri...   \n",
       "2  Dwarkesh Patel\\nToday I’m chatting with my fri...   \n",
       "3  Dwarkesh Patel\\nToday I’m chatting with my fri...   \n",
       "4  Dwarkesh Patel\\nToday I’m chatting with my fri...   \n",
       "\n",
       "                                   extracted_beliefs  \\\n",
       "0                                                NaN   \n",
       "1  {'belief': 'AI, unlike most recent Silicon Val...   \n",
       "2  {'belief': 'The development of AI systems is e...   \n",
       "3  {'belief': 'The size and cost of AI training c...   \n",
       "4  {'belief': 'The development of artificial inte...   \n",
       "\n",
       "                                              belief      type  \\\n",
       "0                                                NaN       NaN   \n",
       "1  AI, unlike most recent Silicon Valley products...  positive   \n",
       "2  The development of AI systems is experiencing ...  positive   \n",
       "3  The size and cost of AI training clusters are ...  positive   \n",
       "4  The development of artificial intelligence (AI...  positive   \n",
       "\n",
       "                                             context  \\\n",
       "0                                                NaN   \n",
       "1  Leopold Aschenbrenner differentiates AI from t...   \n",
       "2  Aschenbrenner discusses the exponential growth...   \n",
       "3  Aschenbrenner outlines a scenario where AI clu...   \n",
       "4  Leopold Aschenbrenner's response to Dwarkesh P...   \n",
       "\n",
       "                                       justification confidence  \n",
       "0                                                NaN        NaN  \n",
       "1  He explicitly mentions the need to build 'gian...       high  \n",
       "2  He cites a long-term trend of AI training comp...       high  \n",
       "3  He provides detailed estimations of cluster si...       high  \n",
       "4  Leopold Aschenbrenner states that 10 GW data c...       high  "
      ]
     },
     "metadata": {},
     "output_type": "display_data"
    },
    {
     "name": "stdout",
     "output_type": "stream",
     "text": [
      "<class 'pandas.core.frame.DataFrame'>\n",
      "RangeIndex: 84 entries, 0 to 83\n",
      "Data columns (total 10 columns):\n",
      " #   Column             Non-Null Count  Dtype \n",
      "---  ------             --------------  ----- \n",
      " 0   belief_id          84 non-null     int64 \n",
      " 1   chunk_id           84 non-null     int64 \n",
      " 2   chunk              84 non-null     object\n",
      " 3   meta_chunk         84 non-null     object\n",
      " 4   extracted_beliefs  82 non-null     object\n",
      " 5   belief             82 non-null     object\n",
      " 6   type               82 non-null     object\n",
      " 7   context            82 non-null     object\n",
      " 8   justification      82 non-null     object\n",
      " 9   confidence         82 non-null     object\n",
      "dtypes: int64(2), object(8)\n",
      "memory usage: 6.7+ KB\n"
     ]
    },
    {
     "data": {
      "text/plain": [
       "None"
      ]
     },
     "metadata": {},
     "output_type": "display_data"
    }
   ],
   "source": [
    "extracted_df = pd.json_normalize(extraction_df['extracted_beliefs'])\n",
    "extraction_df = pd.merge(extraction_df, extracted_df, left_on='belief_id', right_index=True)\n",
    "display(extraction_df.head())\n",
    "display(extraction_df.info())"
   ]
  },
  {
   "cell_type": "code",
   "execution_count": 9,
   "metadata": {},
   "outputs": [],
   "source": [
    "verification_evaluation = '''The following belief, extracted from a podcast transcription where <host> interviews <guest>, needs to be evaluated to determine whether it is worth verifying.\n",
    "\n",
    "The goal is to identify whether this belief requires further verification based on its potential impact, relevance, controversy, vagueness, or lack of justification.\n",
    "\n",
    "Please provide the following details for the belief:\n",
    "- Verify: (boolean) A boolean value (\"true\" or \"false\") indicating whether the belief is worth verifying.\n",
    "- Verify Explanation: (string) A rationale for why the belief does or does not need to be verified. This should explain the reasoning behind the verify tag.\n",
    "- Verification Focus: (string) A brief description of what needs to be verified about the belief. This should specify the aspects of the belief that require further investigation.\n",
    "\n",
    "Beliefs that should be marked for verification (verify: true) typically include:\n",
    "- Beliefs with significant implications for policy, public opinion, or behavior.\n",
    "- Controversial beliefs likely to generate debate or differing opinions.\n",
    "- Beliefs related to timely and relevant topics.\n",
    "- Vague or ambiguous beliefs that require clarification.\n",
    "- Beliefs expressed without sufficient supporting evidence.\n",
    "\n",
    "Beliefs that can be taken as a given (verify: false) typically include:\n",
    "- Well-known and widely accepted facts.\n",
    "- Personal opinions or preferences with no broader implications.\n",
    "- Beliefs that are internally consistent and align with established facts or logic.\n",
    "\n",
    "Please provide your response in the form of a compilable JSON object with the following structure:\n",
    "{\n",
    "    \"belief\": \"Artificial intelligence will surpass human intelligence in many fields within the next few decades, fundamentally transforming industries and society as a whole.\",\n",
    "    \"verify\": true,\n",
    "    \"verify_explanation\": \"Given the potential impact and controversy surrounding AI advancements, this belief should be verified to understand current trends and expert projections.\",\n",
    "    \"verification_focus\": \"Examine current trends and expert projections about the future capabilities of AI.\"\n",
    "}\n",
    "\n",
    "Here is a broader sample of the conversation for context:\n",
    "\"\"\"\n",
    "<meta_chunk>\n",
    "\"\"\"\n",
    "\n",
    "Here is THE EXCERPT you are to evaluate the belief from:\n",
    "\"\"\"\n",
    "<chunk>\n",
    "\"\"\"\n",
    "\n",
    "Here is the belief extracted from THE EXCERPT:\n",
    "\"\"\"\n",
    "<belief>\n",
    "\"\"\"\n",
    "'''"
   ]
  },
  {
   "cell_type": "code",
   "execution_count": 10,
   "metadata": {},
   "outputs": [
    {
     "data": {
      "application/vnd.jupyter.widget-view+json": {
       "model_id": "53ec5941fd594ece9db8d0f82bf76d34",
       "version_major": 2,
       "version_minor": 0
      },
      "text/plain": [
       "  0%|          | 0/84 [00:00<?, ?it/s]"
      ]
     },
     "metadata": {},
     "output_type": "display_data"
    },
    {
     "name": "stdout",
     "output_type": "stream",
     "text": [
      "Cannot get the response text.\n",
      "Cannot get the Candidate text.\n",
      "Response candidate content has no parts (and thus no text). The candidate is likely blocked by the safety filters.\n",
      "Content:\n",
      "{}\n",
      "Candidate:\n",
      "{\n",
      "  \"finish_reason\": \"SAFETY\",\n",
      "  \"safety_ratings\": [\n",
      "    {\n",
      "      \"category\": \"HARM_CATEGORY_HATE_SPEECH\",\n",
      "      \"probability\": \"NEGLIGIBLE\",\n",
      "      \"probability_score\": 0.3765085,\n",
      "      \"severity\": \"HARM_SEVERITY_NEGLIGIBLE\",\n",
      "      \"severity_score\": 0.18155324\n",
      "    },\n",
      "    {\n",
      "      \"category\": \"HARM_CATEGORY_DANGEROUS_CONTENT\",\n",
      "      \"probability\": \"MEDIUM\",\n",
      "      \"blocked\": true,\n",
      "      \"probability_score\": 0.7089184,\n",
      "      \"severity\": \"HARM_SEVERITY_MEDIUM\",\n",
      "      \"severity_score\": 0.5408632\n",
      "    },\n",
      "    {\n",
      "      \"category\": \"HARM_CATEGORY_HARASSMENT\",\n",
      "      \"probability\": \"NEGLIGIBLE\",\n",
      "      \"probability_score\": 0.38093162,\n",
      "      \"severity\": \"HARM_SEVERITY_LOW\",\n",
      "      \"severity_score\": 0.24346252\n",
      "    },\n",
      "    {\n",
      "      \"category\": \"HARM_CATEGORY_SEXUALLY_EXPLICIT\",\n",
      "      \"probability\": \"NEGLIGIBLE\",\n",
      "      \"probability_score\": 0.09057447,\n",
      "      \"severity\": \"HARM_SEVERITY_NEGLIGIBLE\",\n",
      "      \"severity_score\": 0.15178062\n",
      "    }\n",
      "  ]\n",
      "}\n",
      "Response:\n",
      "{\n",
      "  \"candidates\": [\n",
      "    {\n",
      "      \"finish_reason\": \"SAFETY\",\n",
      "      \"safety_ratings\": [\n",
      "        {\n",
      "          \"category\": \"HARM_CATEGORY_HATE_SPEECH\",\n",
      "          \"probability\": \"NEGLIGIBLE\",\n",
      "          \"probability_score\": 0.3765085,\n",
      "          \"severity\": \"HARM_SEVERITY_NEGLIGIBLE\",\n",
      "          \"severity_score\": 0.18155324\n",
      "        },\n",
      "        {\n",
      "          \"category\": \"HARM_CATEGORY_DANGEROUS_CONTENT\",\n",
      "          \"probability\": \"MEDIUM\",\n",
      "          \"blocked\": true,\n",
      "          \"probability_score\": 0.7089184,\n",
      "          \"severity\": \"HARM_SEVERITY_MEDIUM\",\n",
      "          \"severity_score\": 0.5408632\n",
      "        },\n",
      "        {\n",
      "          \"category\": \"HARM_CATEGORY_HARASSMENT\",\n",
      "          \"probability\": \"NEGLIGIBLE\",\n",
      "          \"probability_score\": 0.38093162,\n",
      "          \"severity\": \"HARM_SEVERITY_LOW\",\n",
      "          \"severity_score\": 0.24346252\n",
      "        },\n",
      "        {\n",
      "          \"category\": \"HARM_CATEGORY_SEXUALLY_EXPLICIT\",\n",
      "          \"probability\": \"NEGLIGIBLE\",\n",
      "          \"probability_score\": 0.09057447,\n",
      "          \"severity\": \"HARM_SEVERITY_NEGLIGIBLE\",\n",
      "          \"severity_score\": 0.15178062\n",
      "        }\n",
      "      ]\n",
      "    }\n",
      "  ],\n",
      "  \"usage_metadata\": {\n",
      "    \"prompt_token_count\": 3541,\n",
      "    \"total_token_count\": 3541\n",
      "  }\n",
      "}\n",
      "Cannot get the response text.\n",
      "Cannot get the Candidate text.\n",
      "Response candidate content has no parts (and thus no text). The candidate is likely blocked by the safety filters.\n",
      "Content:\n",
      "{}\n",
      "Candidate:\n",
      "{\n",
      "  \"finish_reason\": \"SAFETY\",\n",
      "  \"safety_ratings\": [\n",
      "    {\n",
      "      \"category\": \"HARM_CATEGORY_HATE_SPEECH\",\n",
      "      \"probability\": \"NEGLIGIBLE\",\n",
      "      \"probability_score\": 0.10970578,\n",
      "      \"severity\": \"HARM_SEVERITY_NEGLIGIBLE\",\n",
      "      \"severity_score\": 0.075858176\n",
      "    },\n",
      "    {\n",
      "      \"category\": \"HARM_CATEGORY_DANGEROUS_CONTENT\",\n",
      "      \"probability\": \"MEDIUM\",\n",
      "      \"blocked\": true,\n",
      "      \"probability_score\": 0.7794897,\n",
      "      \"severity\": \"HARM_SEVERITY_MEDIUM\",\n",
      "      \"severity_score\": 0.5045508\n",
      "    },\n",
      "    {\n",
      "      \"category\": \"HARM_CATEGORY_HARASSMENT\",\n",
      "      \"probability\": \"NEGLIGIBLE\",\n",
      "      \"probability_score\": 0.112405084,\n",
      "      \"severity\": \"HARM_SEVERITY_NEGLIGIBLE\",\n",
      "      \"severity_score\": 0.056756895\n",
      "    },\n",
      "    {\n",
      "      \"category\": \"HARM_CATEGORY_SEXUALLY_EXPLICIT\",\n",
      "      \"probability\": \"NEGLIGIBLE\",\n",
      "      \"probability_score\": 0.072374016,\n",
      "      \"severity\": \"HARM_SEVERITY_NEGLIGIBLE\",\n",
      "      \"severity_score\": 0.063831605\n",
      "    }\n",
      "  ]\n",
      "}\n",
      "Response:\n",
      "{\n",
      "  \"candidates\": [\n",
      "    {\n",
      "      \"finish_reason\": \"SAFETY\",\n",
      "      \"safety_ratings\": [\n",
      "        {\n",
      "          \"category\": \"HARM_CATEGORY_HATE_SPEECH\",\n",
      "          \"probability\": \"NEGLIGIBLE\",\n",
      "          \"probability_score\": 0.10970578,\n",
      "          \"severity\": \"HARM_SEVERITY_NEGLIGIBLE\",\n",
      "          \"severity_score\": 0.075858176\n",
      "        },\n",
      "        {\n",
      "          \"category\": \"HARM_CATEGORY_DANGEROUS_CONTENT\",\n",
      "          \"probability\": \"MEDIUM\",\n",
      "          \"blocked\": true,\n",
      "          \"probability_score\": 0.7794897,\n",
      "          \"severity\": \"HARM_SEVERITY_MEDIUM\",\n",
      "          \"severity_score\": 0.5045508\n",
      "        },\n",
      "        {\n",
      "          \"category\": \"HARM_CATEGORY_HARASSMENT\",\n",
      "          \"probability\": \"NEGLIGIBLE\",\n",
      "          \"probability_score\": 0.112405084,\n",
      "          \"severity\": \"HARM_SEVERITY_NEGLIGIBLE\",\n",
      "          \"severity_score\": 0.056756895\n",
      "        },\n",
      "        {\n",
      "          \"category\": \"HARM_CATEGORY_SEXUALLY_EXPLICIT\",\n",
      "          \"probability\": \"NEGLIGIBLE\",\n",
      "          \"probability_score\": 0.072374016,\n",
      "          \"severity\": \"HARM_SEVERITY_NEGLIGIBLE\",\n",
      "          \"severity_score\": 0.063831605\n",
      "        }\n",
      "      ]\n",
      "    }\n",
      "  ],\n",
      "  \"usage_metadata\": {\n",
      "    \"prompt_token_count\": 3511,\n",
      "    \"total_token_count\": 3511\n",
      "  }\n",
      "}\n",
      "Cannot get the response text.\n",
      "Cannot get the Candidate text.\n",
      "Response candidate content has no parts (and thus no text). The candidate is likely blocked by the safety filters.\n",
      "Content:\n",
      "{}\n",
      "Candidate:\n",
      "{\n",
      "  \"finish_reason\": \"SAFETY\",\n",
      "  \"safety_ratings\": [\n",
      "    {\n",
      "      \"category\": \"HARM_CATEGORY_HATE_SPEECH\",\n",
      "      \"probability\": \"NEGLIGIBLE\",\n",
      "      \"probability_score\": 0.14116299,\n",
      "      \"severity\": \"HARM_SEVERITY_NEGLIGIBLE\",\n",
      "      \"severity_score\": 0.06441767\n",
      "    },\n",
      "    {\n",
      "      \"category\": \"HARM_CATEGORY_DANGEROUS_CONTENT\",\n",
      "      \"probability\": \"MEDIUM\",\n",
      "      \"blocked\": true,\n",
      "      \"probability_score\": 0.6669308,\n",
      "      \"severity\": \"HARM_SEVERITY_MEDIUM\",\n",
      "      \"severity_score\": 0.5055235\n",
      "    },\n",
      "    {\n",
      "      \"category\": \"HARM_CATEGORY_HARASSMENT\",\n",
      "      \"probability\": \"NEGLIGIBLE\",\n",
      "      \"probability_score\": 0.17738296,\n",
      "      \"severity\": \"HARM_SEVERITY_NEGLIGIBLE\",\n",
      "      \"severity_score\": 0.09401018\n",
      "    },\n",
      "    {\n",
      "      \"category\": \"HARM_CATEGORY_SEXUALLY_EXPLICIT\",\n",
      "      \"probability\": \"NEGLIGIBLE\",\n",
      "      \"probability_score\": 0.075995214,\n",
      "      \"severity\": \"HARM_SEVERITY_NEGLIGIBLE\",\n",
      "      \"severity_score\": 0.07356305\n",
      "    }\n",
      "  ]\n",
      "}\n",
      "Response:\n",
      "{\n",
      "  \"candidates\": [\n",
      "    {\n",
      "      \"finish_reason\": \"SAFETY\",\n",
      "      \"safety_ratings\": [\n",
      "        {\n",
      "          \"category\": \"HARM_CATEGORY_HATE_SPEECH\",\n",
      "          \"probability\": \"NEGLIGIBLE\",\n",
      "          \"probability_score\": 0.14116299,\n",
      "          \"severity\": \"HARM_SEVERITY_NEGLIGIBLE\",\n",
      "          \"severity_score\": 0.06441767\n",
      "        },\n",
      "        {\n",
      "          \"category\": \"HARM_CATEGORY_DANGEROUS_CONTENT\",\n",
      "          \"probability\": \"MEDIUM\",\n",
      "          \"blocked\": true,\n",
      "          \"probability_score\": 0.6669308,\n",
      "          \"severity\": \"HARM_SEVERITY_MEDIUM\",\n",
      "          \"severity_score\": 0.5055235\n",
      "        },\n",
      "        {\n",
      "          \"category\": \"HARM_CATEGORY_HARASSMENT\",\n",
      "          \"probability\": \"NEGLIGIBLE\",\n",
      "          \"probability_score\": 0.17738296,\n",
      "          \"severity\": \"HARM_SEVERITY_NEGLIGIBLE\",\n",
      "          \"severity_score\": 0.09401018\n",
      "        },\n",
      "        {\n",
      "          \"category\": \"HARM_CATEGORY_SEXUALLY_EXPLICIT\",\n",
      "          \"probability\": \"NEGLIGIBLE\",\n",
      "          \"probability_score\": 0.075995214,\n",
      "          \"severity\": \"HARM_SEVERITY_NEGLIGIBLE\",\n",
      "          \"severity_score\": 0.07356305\n",
      "        }\n",
      "      ]\n",
      "    }\n",
      "  ],\n",
      "  \"usage_metadata\": {\n",
      "    \"prompt_token_count\": 3508,\n",
      "    \"total_token_count\": 3508\n",
      "  }\n",
      "}\n"
     ]
    }
   ],
   "source": [
    "# Define a retrying function with exponential backoff\n",
    "@retry(stop=stop_after_attempt(5), wait=wait_exponential(multiplier=1, min=4, max=60))\n",
    "def process_chunk(chunk, meta_chunk, belief):\n",
    "    prompt = system_message + verification_evaluation.replace(\"<chunk>\", chunk).replace(\"<belief>\", json.dumps(belief, indent=4)).replace(\"<guest>\", GUEST).replace(\"<host>\", HOST).replace(\"<meta_chunk>\", meta_chunk)\n",
    "    try:\n",
    "        response = model.generate_content(contents=prompt, generation_config={\"response_mime_type\": \"application/json\"})\n",
    "        response_json = json.loads(response.text)\n",
    "        return response_json\n",
    "    except json.JSONDecodeError as e:\n",
    "        print(e)\n",
    "        # Raise an exception to trigger retry\n",
    "        raise ValueError(\"JSON decoding error, triggering retry\") from e\n",
    "    except ValueError as e:\n",
    "        print(e)\n",
    "        # Handle specific ValueError related to blocked content\n",
    "        return f\"Error: {str(e)}\"\n",
    "    except Exception as e:\n",
    "        print(e)\n",
    "        # Handle other potential errors\n",
    "        return f\"Unexpected Error: {str(e)}\"\n",
    "\n",
    "temp_df = extraction_df.dropna(subset=['belief']).copy()\n",
    "\n",
    "# Use ThreadPoolExecutor for multithreading with tqdm progress bar\n",
    "with ThreadPoolExecutor(max_workers=50) as executor:\n",
    "    verification_list = list(tqdm(executor.map(process_chunk, temp_df['chunk'], temp_df['meta_chunk'], temp_df['extracted_beliefs']), total=len(extraction_df)))\n",
    "\n",
    "# Add the extracted beliefs to the DataFrame\n",
    "temp_df['verification_output'] = verification_list"
   ]
  },
  {
   "cell_type": "code",
   "execution_count": 11,
   "metadata": {},
   "outputs": [
    {
     "data": {
      "text/html": [
       "<div>\n",
       "<style scoped>\n",
       "    .dataframe tbody tr th:only-of-type {\n",
       "        vertical-align: middle;\n",
       "    }\n",
       "\n",
       "    .dataframe tbody tr th {\n",
       "        vertical-align: top;\n",
       "    }\n",
       "\n",
       "    .dataframe thead th {\n",
       "        text-align: right;\n",
       "    }\n",
       "</style>\n",
       "<table border=\"1\" class=\"dataframe\">\n",
       "  <thead>\n",
       "    <tr style=\"text-align: right;\">\n",
       "      <th></th>\n",
       "      <th>belief_id</th>\n",
       "      <th>chunk_id</th>\n",
       "      <th>chunk</th>\n",
       "      <th>meta_chunk</th>\n",
       "      <th>extracted_beliefs</th>\n",
       "      <th>belief</th>\n",
       "      <th>type</th>\n",
       "      <th>context</th>\n",
       "      <th>justification</th>\n",
       "      <th>confidence</th>\n",
       "      <th>verification_output</th>\n",
       "      <th>verify</th>\n",
       "      <th>verify_explanation</th>\n",
       "      <th>verification_focus</th>\n",
       "    </tr>\n",
       "  </thead>\n",
       "  <tbody>\n",
       "    <tr>\n",
       "      <th>1</th>\n",
       "      <td>1</td>\n",
       "      <td>1</td>\n",
       "      <td>Dwarkesh Patel\\nIn the Sholto and Trenton epis...</td>\n",
       "      <td>Dwarkesh Patel\\nToday I’m chatting with my fri...</td>\n",
       "      <td>{'belief': 'AI, unlike most recent Silicon Val...</td>\n",
       "      <td>AI, unlike most recent Silicon Valley products...</td>\n",
       "      <td>positive</td>\n",
       "      <td>Leopold Aschenbrenner differentiates AI from t...</td>\n",
       "      <td>He explicitly mentions the need to build 'gian...</td>\n",
       "      <td>high</td>\n",
       "      <td>{'belief': 'AI, unlike most recent Silicon Val...</td>\n",
       "      <td>True</td>\n",
       "      <td>While Aschenbrenner provides a compelling argu...</td>\n",
       "      <td>Investigate the historical data supporting the...</td>\n",
       "    </tr>\n",
       "    <tr>\n",
       "      <th>2</th>\n",
       "      <td>2</td>\n",
       "      <td>1</td>\n",
       "      <td>Dwarkesh Patel\\nIn the Sholto and Trenton epis...</td>\n",
       "      <td>Dwarkesh Patel\\nToday I’m chatting with my fri...</td>\n",
       "      <td>{'belief': 'The development of AI systems is e...</td>\n",
       "      <td>The development of AI systems is experiencing ...</td>\n",
       "      <td>positive</td>\n",
       "      <td>Aschenbrenner discusses the exponential growth...</td>\n",
       "      <td>He cites a long-term trend of AI training comp...</td>\n",
       "      <td>high</td>\n",
       "      <td>{'belief': 'The development of AI systems is e...</td>\n",
       "      <td>True</td>\n",
       "      <td>This belief is worth verifying due to its sign...</td>\n",
       "      <td>Verify the accuracy of Aschenbrenner's project...</td>\n",
       "    </tr>\n",
       "    <tr>\n",
       "      <th>3</th>\n",
       "      <td>3</td>\n",
       "      <td>1</td>\n",
       "      <td>Dwarkesh Patel\\nIn the Sholto and Trenton epis...</td>\n",
       "      <td>Dwarkesh Patel\\nToday I’m chatting with my fri...</td>\n",
       "      <td>{'belief': 'The size and cost of AI training c...</td>\n",
       "      <td>The size and cost of AI training clusters are ...</td>\n",
       "      <td>positive</td>\n",
       "      <td>Aschenbrenner outlines a scenario where AI clu...</td>\n",
       "      <td>He provides detailed estimations of cluster si...</td>\n",
       "      <td>high</td>\n",
       "      <td>{'belief': 'The size and cost of AI training c...</td>\n",
       "      <td>True</td>\n",
       "      <td>While the belief aligns with current trends an...</td>\n",
       "      <td>Assess the accuracy of the reported $100 billi...</td>\n",
       "    </tr>\n",
       "    <tr>\n",
       "      <th>4</th>\n",
       "      <td>4</td>\n",
       "      <td>2</td>\n",
       "      <td>Dwarkesh Patel\\nWhen I had Zuck on the podcast...</td>\n",
       "      <td>Dwarkesh Patel\\nToday I’m chatting with my fri...</td>\n",
       "      <td>{'belief': 'The development of artificial inte...</td>\n",
       "      <td>The development of artificial intelligence (AI...</td>\n",
       "      <td>positive</td>\n",
       "      <td>Leopold Aschenbrenner's response to Dwarkesh P...</td>\n",
       "      <td>Leopold Aschenbrenner states that 10 GW data c...</td>\n",
       "      <td>high</td>\n",
       "      <td>{'belief': 'The development of artificial inte...</td>\n",
       "      <td>True</td>\n",
       "      <td>This belief, while seemingly evident from the ...</td>\n",
       "      <td>Investigate the actual investment plans of com...</td>\n",
       "    </tr>\n",
       "    <tr>\n",
       "      <th>5</th>\n",
       "      <td>5</td>\n",
       "      <td>2</td>\n",
       "      <td>Dwarkesh Patel\\nWhen I had Zuck on the podcast...</td>\n",
       "      <td>Dwarkesh Patel\\nToday I’m chatting with my fri...</td>\n",
       "      <td>{'belief': 'The development of AI will require...</td>\n",
       "      <td>The development of AI will require a large amo...</td>\n",
       "      <td>positive</td>\n",
       "      <td>Leopold Aschenbrenner's response to Dwarkesh P...</td>\n",
       "      <td>He mentions that OpenAI and Microsoft are plan...</td>\n",
       "      <td>high</td>\n",
       "      <td>{'belief': 'The development of AI will require...</td>\n",
       "      <td>True</td>\n",
       "      <td>The belief is stated as an estimate based on A...</td>\n",
       "      <td>Investigate the specific cost calculations and...</td>\n",
       "    </tr>\n",
       "  </tbody>\n",
       "</table>\n",
       "</div>"
      ],
      "text/plain": [
       "   belief_id  chunk_id                                              chunk  \\\n",
       "1          1         1  Dwarkesh Patel\\nIn the Sholto and Trenton epis...   \n",
       "2          2         1  Dwarkesh Patel\\nIn the Sholto and Trenton epis...   \n",
       "3          3         1  Dwarkesh Patel\\nIn the Sholto and Trenton epis...   \n",
       "4          4         2  Dwarkesh Patel\\nWhen I had Zuck on the podcast...   \n",
       "5          5         2  Dwarkesh Patel\\nWhen I had Zuck on the podcast...   \n",
       "\n",
       "                                          meta_chunk  \\\n",
       "1  Dwarkesh Patel\\nToday I’m chatting with my fri...   \n",
       "2  Dwarkesh Patel\\nToday I’m chatting with my fri...   \n",
       "3  Dwarkesh Patel\\nToday I’m chatting with my fri...   \n",
       "4  Dwarkesh Patel\\nToday I’m chatting with my fri...   \n",
       "5  Dwarkesh Patel\\nToday I’m chatting with my fri...   \n",
       "\n",
       "                                   extracted_beliefs  \\\n",
       "1  {'belief': 'AI, unlike most recent Silicon Val...   \n",
       "2  {'belief': 'The development of AI systems is e...   \n",
       "3  {'belief': 'The size and cost of AI training c...   \n",
       "4  {'belief': 'The development of artificial inte...   \n",
       "5  {'belief': 'The development of AI will require...   \n",
       "\n",
       "                                              belief      type  \\\n",
       "1  AI, unlike most recent Silicon Valley products...  positive   \n",
       "2  The development of AI systems is experiencing ...  positive   \n",
       "3  The size and cost of AI training clusters are ...  positive   \n",
       "4  The development of artificial intelligence (AI...  positive   \n",
       "5  The development of AI will require a large amo...  positive   \n",
       "\n",
       "                                             context  \\\n",
       "1  Leopold Aschenbrenner differentiates AI from t...   \n",
       "2  Aschenbrenner discusses the exponential growth...   \n",
       "3  Aschenbrenner outlines a scenario where AI clu...   \n",
       "4  Leopold Aschenbrenner's response to Dwarkesh P...   \n",
       "5  Leopold Aschenbrenner's response to Dwarkesh P...   \n",
       "\n",
       "                                       justification confidence  \\\n",
       "1  He explicitly mentions the need to build 'gian...       high   \n",
       "2  He cites a long-term trend of AI training comp...       high   \n",
       "3  He provides detailed estimations of cluster si...       high   \n",
       "4  Leopold Aschenbrenner states that 10 GW data c...       high   \n",
       "5  He mentions that OpenAI and Microsoft are plan...       high   \n",
       "\n",
       "                                 verification_output verify  \\\n",
       "1  {'belief': 'AI, unlike most recent Silicon Val...   True   \n",
       "2  {'belief': 'The development of AI systems is e...   True   \n",
       "3  {'belief': 'The size and cost of AI training c...   True   \n",
       "4  {'belief': 'The development of artificial inte...   True   \n",
       "5  {'belief': 'The development of AI will require...   True   \n",
       "\n",
       "                                  verify_explanation  \\\n",
       "1  While Aschenbrenner provides a compelling argu...   \n",
       "2  This belief is worth verifying due to its sign...   \n",
       "3  While the belief aligns with current trends an...   \n",
       "4  This belief, while seemingly evident from the ...   \n",
       "5  The belief is stated as an estimate based on A...   \n",
       "\n",
       "                                  verification_focus  \n",
       "1  Investigate the historical data supporting the...  \n",
       "2  Verify the accuracy of Aschenbrenner's project...  \n",
       "3  Assess the accuracy of the reported $100 billi...  \n",
       "4  Investigate the actual investment plans of com...  \n",
       "5  Investigate the specific cost calculations and...  "
      ]
     },
     "metadata": {},
     "output_type": "display_data"
    },
    {
     "name": "stdout",
     "output_type": "stream",
     "text": [
      "<class 'pandas.core.frame.DataFrame'>\n",
      "Index: 80 entries, 1 to 81\n",
      "Data columns (total 14 columns):\n",
      " #   Column               Non-Null Count  Dtype \n",
      "---  ------               --------------  ----- \n",
      " 0   belief_id            80 non-null     int64 \n",
      " 1   chunk_id             80 non-null     int64 \n",
      " 2   chunk                80 non-null     object\n",
      " 3   meta_chunk           80 non-null     object\n",
      " 4   extracted_beliefs    80 non-null     object\n",
      " 5   belief               80 non-null     object\n",
      " 6   type                 80 non-null     object\n",
      " 7   context              80 non-null     object\n",
      " 8   justification        80 non-null     object\n",
      " 9   confidence           80 non-null     object\n",
      " 10  verification_output  80 non-null     object\n",
      " 11  verify               77 non-null     object\n",
      " 12  verify_explanation   77 non-null     object\n",
      " 13  verification_focus   77 non-null     object\n",
      "dtypes: int64(2), object(12)\n",
      "memory usage: 9.4+ KB\n"
     ]
    },
    {
     "data": {
      "text/plain": [
       "None"
      ]
     },
     "metadata": {},
     "output_type": "display_data"
    }
   ],
   "source": [
    "verification_df = pd.json_normalize(temp_df['verification_output']).drop(columns=['belief'])\n",
    "extraction_df = pd.merge(temp_df, verification_df, left_on='belief_id', right_index=True)\n",
    "display(extraction_df.head())\n",
    "display(extraction_df.info())"
   ]
  },
  {
   "cell_type": "code",
   "execution_count": 12,
   "metadata": {},
   "outputs": [
    {
     "name": "stdout",
     "output_type": "stream",
     "text": [
      "<class 'pandas.core.frame.DataFrame'>\n",
      "RangeIndex: 64 entries, 0 to 63\n",
      "Data columns (total 14 columns):\n",
      " #   Column               Non-Null Count  Dtype \n",
      "---  ------               --------------  ----- \n",
      " 0   belief_id            64 non-null     int64 \n",
      " 1   chunk_id             64 non-null     int64 \n",
      " 2   chunk                64 non-null     object\n",
      " 3   meta_chunk           64 non-null     object\n",
      " 4   extracted_beliefs    64 non-null     object\n",
      " 5   belief               64 non-null     object\n",
      " 6   type                 64 non-null     object\n",
      " 7   context              64 non-null     object\n",
      " 8   justification        64 non-null     object\n",
      " 9   confidence           64 non-null     object\n",
      " 10  verification_output  64 non-null     object\n",
      " 11  verify               64 non-null     object\n",
      " 12  verify_explanation   64 non-null     object\n",
      " 13  verification_focus   64 non-null     object\n",
      "dtypes: int64(2), object(12)\n",
      "memory usage: 7.1+ KB\n"
     ]
    },
    {
     "data": {
      "text/plain": [
       "None"
      ]
     },
     "metadata": {},
     "output_type": "display_data"
    },
    {
     "data": {
      "text/html": [
       "<div>\n",
       "<style scoped>\n",
       "    .dataframe tbody tr th:only-of-type {\n",
       "        vertical-align: middle;\n",
       "    }\n",
       "\n",
       "    .dataframe tbody tr th {\n",
       "        vertical-align: top;\n",
       "    }\n",
       "\n",
       "    .dataframe thead th {\n",
       "        text-align: right;\n",
       "    }\n",
       "</style>\n",
       "<table border=\"1\" class=\"dataframe\">\n",
       "  <thead>\n",
       "    <tr style=\"text-align: right;\">\n",
       "      <th></th>\n",
       "      <th>belief_id</th>\n",
       "      <th>chunk_id</th>\n",
       "      <th>chunk</th>\n",
       "      <th>meta_chunk</th>\n",
       "      <th>extracted_beliefs</th>\n",
       "      <th>belief</th>\n",
       "      <th>type</th>\n",
       "      <th>context</th>\n",
       "      <th>justification</th>\n",
       "      <th>confidence</th>\n",
       "      <th>verification_output</th>\n",
       "      <th>verify</th>\n",
       "      <th>verify_explanation</th>\n",
       "      <th>verification_focus</th>\n",
       "    </tr>\n",
       "  </thead>\n",
       "  <tbody>\n",
       "    <tr>\n",
       "      <th>59</th>\n",
       "      <td>75</td>\n",
       "      <td>21</td>\n",
       "      <td>Dwarkesh Patel\\nWhy is a CCP bureaucrat, some ...</td>\n",
       "      <td>Dwarkesh Patel\\nMeta's Ray-Bans are a compleme...</td>\n",
       "      <td>{'belief': 'The development of superintelligen...</td>\n",
       "      <td>The development of superintelligence is immine...</td>\n",
       "      <td>positive</td>\n",
       "      <td>Aschenbrenner's response connects the advancem...</td>\n",
       "      <td>The belief is explicitly stated in the excerpt...</td>\n",
       "      <td>high</td>\n",
       "      <td>{'belief': 'The development of superintelligen...</td>\n",
       "      <td>True</td>\n",
       "      <td>The belief is based on a prediction of an immi...</td>\n",
       "      <td>Examine the current state of AI development, r...</td>\n",
       "    </tr>\n",
       "    <tr>\n",
       "      <th>60</th>\n",
       "      <td>77</td>\n",
       "      <td>22</td>\n",
       "      <td>Dwarkesh Patel\\nIt’d require shifting the prod...</td>\n",
       "      <td>Dwarkesh Patel\\nSuppose this is actually how t...</td>\n",
       "      <td>{'belief': 'The general public is often slow t...</td>\n",
       "      <td>The general public is often slow to recognize ...</td>\n",
       "      <td>positive</td>\n",
       "      <td>Aschenbrenner draws a parallel between the ear...</td>\n",
       "      <td>Aschenbrenner uses the analogy of the COVID-19...</td>\n",
       "      <td>medium</td>\n",
       "      <td>{'belief': 'The general public is often slow t...</td>\n",
       "      <td>True</td>\n",
       "      <td>This belief draws a parallel between the devel...</td>\n",
       "      <td>Examine the potential impact of superintellige...</td>\n",
       "    </tr>\n",
       "    <tr>\n",
       "      <th>61</th>\n",
       "      <td>79</td>\n",
       "      <td>24</td>\n",
       "      <td>Dwarkesh Patel\\nStill, you were like a 17-year...</td>\n",
       "      <td>Dwarkesh Patel\\nIt’d require shifting the prod...</td>\n",
       "      <td>{'belief': 'The development of artificial supe...</td>\n",
       "      <td>The development of artificial superintelligenc...</td>\n",
       "      <td>positive</td>\n",
       "      <td>Leopold Aschenbrenner is drawing a parallel be...</td>\n",
       "      <td>The analogy to the Manhattan Project underscor...</td>\n",
       "      <td>high</td>\n",
       "      <td>{'belief': 'The development of artificial supe...</td>\n",
       "      <td>True</td>\n",
       "      <td>This belief is worth verifying because of its ...</td>\n",
       "      <td>Examine the extent to which superintelligence ...</td>\n",
       "    </tr>\n",
       "    <tr>\n",
       "      <th>62</th>\n",
       "      <td>80</td>\n",
       "      <td>24</td>\n",
       "      <td>Dwarkesh Patel\\nStill, you were like a 17-year...</td>\n",
       "      <td>Dwarkesh Patel\\nIt’d require shifting the prod...</td>\n",
       "      <td>{'belief': 'The development of artificial supe...</td>\n",
       "      <td>The development of artificial superintelligenc...</td>\n",
       "      <td>positive</td>\n",
       "      <td>Leopold Aschenbrenner is discussing the potent...</td>\n",
       "      <td>The statement suggests that the development of...</td>\n",
       "      <td>high</td>\n",
       "      <td>{'belief': 'The development of artificial supe...</td>\n",
       "      <td>True</td>\n",
       "      <td>The belief reflects a potentially significant ...</td>\n",
       "      <td>Investigate public opinion surveys and expert ...</td>\n",
       "    </tr>\n",
       "    <tr>\n",
       "      <th>63</th>\n",
       "      <td>81</td>\n",
       "      <td>24</td>\n",
       "      <td>Dwarkesh Patel\\nStill, you were like a 17-year...</td>\n",
       "      <td>Dwarkesh Patel\\nIt’d require shifting the prod...</td>\n",
       "      <td>{'belief': 'The development of artificial supe...</td>\n",
       "      <td>The development of artificial superintelligenc...</td>\n",
       "      <td>positive</td>\n",
       "      <td>Leopold Aschenbrenner is discussing the potent...</td>\n",
       "      <td>The statement suggests that artificial superin...</td>\n",
       "      <td>high</td>\n",
       "      <td>{'belief': 'The development of artificial supe...</td>\n",
       "      <td>True</td>\n",
       "      <td>This belief is worth verifying because it has ...</td>\n",
       "      <td>Assess the current policies, strategies, and r...</td>\n",
       "    </tr>\n",
       "  </tbody>\n",
       "</table>\n",
       "</div>"
      ],
      "text/plain": [
       "    belief_id  chunk_id                                              chunk  \\\n",
       "59         75        21  Dwarkesh Patel\\nWhy is a CCP bureaucrat, some ...   \n",
       "60         77        22  Dwarkesh Patel\\nIt’d require shifting the prod...   \n",
       "61         79        24  Dwarkesh Patel\\nStill, you were like a 17-year...   \n",
       "62         80        24  Dwarkesh Patel\\nStill, you were like a 17-year...   \n",
       "63         81        24  Dwarkesh Patel\\nStill, you were like a 17-year...   \n",
       "\n",
       "                                           meta_chunk  \\\n",
       "59  Dwarkesh Patel\\nMeta's Ray-Bans are a compleme...   \n",
       "60  Dwarkesh Patel\\nSuppose this is actually how t...   \n",
       "61  Dwarkesh Patel\\nIt’d require shifting the prod...   \n",
       "62  Dwarkesh Patel\\nIt’d require shifting the prod...   \n",
       "63  Dwarkesh Patel\\nIt’d require shifting the prod...   \n",
       "\n",
       "                                    extracted_beliefs  \\\n",
       "59  {'belief': 'The development of superintelligen...   \n",
       "60  {'belief': 'The general public is often slow t...   \n",
       "61  {'belief': 'The development of artificial supe...   \n",
       "62  {'belief': 'The development of artificial supe...   \n",
       "63  {'belief': 'The development of artificial supe...   \n",
       "\n",
       "                                               belief      type  \\\n",
       "59  The development of superintelligence is immine...  positive   \n",
       "60  The general public is often slow to recognize ...  positive   \n",
       "61  The development of artificial superintelligenc...  positive   \n",
       "62  The development of artificial superintelligenc...  positive   \n",
       "63  The development of artificial superintelligenc...  positive   \n",
       "\n",
       "                                              context  \\\n",
       "59  Aschenbrenner's response connects the advancem...   \n",
       "60  Aschenbrenner draws a parallel between the ear...   \n",
       "61  Leopold Aschenbrenner is drawing a parallel be...   \n",
       "62  Leopold Aschenbrenner is discussing the potent...   \n",
       "63  Leopold Aschenbrenner is discussing the potent...   \n",
       "\n",
       "                                        justification confidence  \\\n",
       "59  The belief is explicitly stated in the excerpt...       high   \n",
       "60  Aschenbrenner uses the analogy of the COVID-19...     medium   \n",
       "61  The analogy to the Manhattan Project underscor...       high   \n",
       "62  The statement suggests that the development of...       high   \n",
       "63  The statement suggests that artificial superin...       high   \n",
       "\n",
       "                                  verification_output verify  \\\n",
       "59  {'belief': 'The development of superintelligen...   True   \n",
       "60  {'belief': 'The general public is often slow t...   True   \n",
       "61  {'belief': 'The development of artificial supe...   True   \n",
       "62  {'belief': 'The development of artificial supe...   True   \n",
       "63  {'belief': 'The development of artificial supe...   True   \n",
       "\n",
       "                                   verify_explanation  \\\n",
       "59  The belief is based on a prediction of an immi...   \n",
       "60  This belief draws a parallel between the devel...   \n",
       "61  This belief is worth verifying because of its ...   \n",
       "62  The belief reflects a potentially significant ...   \n",
       "63  This belief is worth verifying because it has ...   \n",
       "\n",
       "                                   verification_focus  \n",
       "59  Examine the current state of AI development, r...  \n",
       "60  Examine the potential impact of superintellige...  \n",
       "61  Examine the extent to which superintelligence ...  \n",
       "62  Investigate public opinion surveys and expert ...  \n",
       "63  Assess the current policies, strategies, and r...  "
      ]
     },
     "metadata": {},
     "output_type": "display_data"
    }
   ],
   "source": [
    "research_df = extraction_df[extraction_df['verify'] == True].copy().reset_index(drop=True)\n",
    "display(research_df.info())\n",
    "display(research_df.tail())"
   ]
  },
  {
   "cell_type": "code",
   "execution_count": 13,
   "metadata": {},
   "outputs": [],
   "source": [
    "hypothesis_generation = '''The following belief, extracted from a podcast transcription where <host> interviews <guest>, has been identified as worth verifying. Your task is to generate hypotheses to evaluate whether this belief can be validated by considering various hypotheses, evidence, and arguments.\n",
    "\n",
    "Here is additional context from the conversation (meta_chunk):\n",
    "<meta_chunk>\n",
    "\n",
    "Here is the specific excerpt (chunk) from which the belief was extracted:\n",
    "<chunk>\n",
    "\n",
    "Here is the context and details of the belief:\n",
    "- Belief: <belief>\n",
    "- Context: <context>\n",
    "- Justification: <justification>\n",
    "- Verification Focus: <verification_focus>\n",
    "\n",
    "Please provide a list of hypotheses to consider when evaluating whether the belief can be validated. For each hypothesis, include:\n",
    "1. The hypothesis: A clear, concise, and testable statement related to the belief.\n",
    "2. An explanation of why the hypothesis is relevant to the belief.\n",
    "3. Specific types of sources or documents that could be consulted.\n",
    "\n",
    "This information will directly inform the research strategy, so it is crucial to be specific and understand the context of what we are looking to achieve with our research.\n",
    "\n",
    "**Guidance on Formulating Hypotheses**:\n",
    "- The hypothesis should directly relate to the belief being evaluated.\n",
    "- It should be immediately testable using currently available information.\n",
    "- It should make a clear, specific prediction or statement that can be tested against empirical evidence.\n",
    "- For beliefs about the future, the hypothesis should focus on current trends or data that allow for predictions.\n",
    "\n",
    "Please provide your response in the form of a compilable JSON object with the exact following structure:\n",
    "[\n",
    "    {\n",
    "        \"hypothesis\": \"If studies show that renewable energy technologies do not significantly reduce carbon emissions compared to current levels, then the belief that governments should significantly increase their investments in renewable energy is invalid.\",\n",
    "        \"explanation\": \"The environmental impact of renewable energy technologies is a critical factor in determining their efficacy and the need for increased investment.\",\n",
    "        \"potential_sources\": [\n",
    "            \"Scientific studies on carbon emissions\",\n",
    "            \"Environmental impact assessments\",\n",
    "            \"Reports from environmental agencies\"\n",
    "        ]\n",
    "    }\n",
    "]\n",
    "'''\n"
   ]
  },
  {
   "cell_type": "code",
   "execution_count": 14,
   "metadata": {},
   "outputs": [
    {
     "data": {
      "application/vnd.jupyter.widget-view+json": {
       "model_id": "e45954e8bf7b444f98b689e7e9c52ee9",
       "version_major": 2,
       "version_minor": 0
      },
      "text/plain": [
       "  0%|          | 0/64 [00:00<?, ?it/s]"
      ]
     },
     "metadata": {},
     "output_type": "display_data"
    }
   ],
   "source": [
    "@retry(stop=stop_after_attempt(5), wait=wait_exponential(multiplier=1, min=4, max=60))\n",
    "def process_row(row):\n",
    "    prompt = (system_message + hypothesis_generation\n",
    "              .replace(\"<chunk>\", str(row['chunk']))\n",
    "              .replace(\"<belief>\", str(row['belief']))\n",
    "              .replace(\"<context>\", str(row['context']))\n",
    "              .replace(\"<justification>\", str(row['justification']))\n",
    "              .replace(\"<verification_focus>\", str(row['verification_focus']))\n",
    "              .replace(\"<guest>\", GUEST)\n",
    "              .replace(\"<host>\", HOST)\n",
    "              .replace(\"<meta_chunk>\", row['meta_chunk']))\n",
    "\n",
    "    try:\n",
    "        response = model.generate_content(contents=prompt, generation_config={\"response_mime_type\": \"application/json\"})\n",
    "        response_json = json.loads(response.text)\n",
    "        return response_json\n",
    "    except json.JSONDecodeError as e:\n",
    "        # Raise an exception to trigger retry\n",
    "        raise ValueError(\"JSON decoding error, triggering retry\") from e\n",
    "    except ValueError as e:\n",
    "        # Handle specific ValueError related to blocked content\n",
    "        return f\"Error: {str(e)}\"\n",
    "    except Exception as e:\n",
    "        # Handle other potential errors\n",
    "        return f\"Unexpected Error: {str(e)}\"\n",
    "\n",
    "# Assuming research_df is your DataFrame\n",
    "# Use ThreadPoolExecutor for multithreading with tqdm progress bar\n",
    "with ThreadPoolExecutor(max_workers=50) as executor:\n",
    "    hypotheses_list = list(tqdm(executor.map(process_row, research_df.to_dict('records')), total=len(research_df)))\n",
    "\n",
    "# Add the extracted beliefs to the DataFrame\n",
    "research_df['hypotheses_list'] = hypotheses_list"
   ]
  },
  {
   "cell_type": "code",
   "execution_count": 15,
   "metadata": {},
   "outputs": [
    {
     "data": {
      "text/html": [
       "<div>\n",
       "<style scoped>\n",
       "    .dataframe tbody tr th:only-of-type {\n",
       "        vertical-align: middle;\n",
       "    }\n",
       "\n",
       "    .dataframe tbody tr th {\n",
       "        vertical-align: top;\n",
       "    }\n",
       "\n",
       "    .dataframe thead th {\n",
       "        text-align: right;\n",
       "    }\n",
       "</style>\n",
       "<table border=\"1\" class=\"dataframe\">\n",
       "  <thead>\n",
       "    <tr style=\"text-align: right;\">\n",
       "      <th></th>\n",
       "      <th>belief_id</th>\n",
       "      <th>chunk_id</th>\n",
       "      <th>chunk</th>\n",
       "      <th>meta_chunk</th>\n",
       "      <th>extracted_beliefs</th>\n",
       "      <th>belief</th>\n",
       "      <th>type</th>\n",
       "      <th>context</th>\n",
       "      <th>justification</th>\n",
       "      <th>confidence</th>\n",
       "      <th>verification_output</th>\n",
       "      <th>verify</th>\n",
       "      <th>verify_explanation</th>\n",
       "      <th>verification_focus</th>\n",
       "      <th>hypotheses_list</th>\n",
       "    </tr>\n",
       "  </thead>\n",
       "  <tbody>\n",
       "    <tr>\n",
       "      <th>0</th>\n",
       "      <td>1</td>\n",
       "      <td>1</td>\n",
       "      <td>Dwarkesh Patel\\nIn the Sholto and Trenton epis...</td>\n",
       "      <td>Dwarkesh Patel\\nToday I’m chatting with my fri...</td>\n",
       "      <td>{'belief': 'AI, unlike most recent Silicon Val...</td>\n",
       "      <td>AI, unlike most recent Silicon Valley products...</td>\n",
       "      <td>positive</td>\n",
       "      <td>Leopold Aschenbrenner differentiates AI from t...</td>\n",
       "      <td>He explicitly mentions the need to build 'gian...</td>\n",
       "      <td>high</td>\n",
       "      <td>{'belief': 'AI, unlike most recent Silicon Val...</td>\n",
       "      <td>True</td>\n",
       "      <td>While Aschenbrenner provides a compelling argu...</td>\n",
       "      <td>Investigate the historical data supporting the...</td>\n",
       "      <td>[{'hypothesis': 'The rate of growth in AI trai...</td>\n",
       "    </tr>\n",
       "    <tr>\n",
       "      <th>1</th>\n",
       "      <td>2</td>\n",
       "      <td>1</td>\n",
       "      <td>Dwarkesh Patel\\nIn the Sholto and Trenton epis...</td>\n",
       "      <td>Dwarkesh Patel\\nToday I’m chatting with my fri...</td>\n",
       "      <td>{'belief': 'The development of AI systems is e...</td>\n",
       "      <td>The development of AI systems is experiencing ...</td>\n",
       "      <td>positive</td>\n",
       "      <td>Aschenbrenner discusses the exponential growth...</td>\n",
       "      <td>He cites a long-term trend of AI training comp...</td>\n",
       "      <td>high</td>\n",
       "      <td>{'belief': 'The development of AI systems is e...</td>\n",
       "      <td>True</td>\n",
       "      <td>This belief is worth verifying due to its sign...</td>\n",
       "      <td>Verify the accuracy of Aschenbrenner's project...</td>\n",
       "      <td>[{'hypothesis': 'If the rate of growth of AI t...</td>\n",
       "    </tr>\n",
       "    <tr>\n",
       "      <th>2</th>\n",
       "      <td>3</td>\n",
       "      <td>1</td>\n",
       "      <td>Dwarkesh Patel\\nIn the Sholto and Trenton epis...</td>\n",
       "      <td>Dwarkesh Patel\\nToday I’m chatting with my fri...</td>\n",
       "      <td>{'belief': 'The size and cost of AI training c...</td>\n",
       "      <td>The size and cost of AI training clusters are ...</td>\n",
       "      <td>positive</td>\n",
       "      <td>Aschenbrenner outlines a scenario where AI clu...</td>\n",
       "      <td>He provides detailed estimations of cluster si...</td>\n",
       "      <td>high</td>\n",
       "      <td>{'belief': 'The size and cost of AI training c...</td>\n",
       "      <td>True</td>\n",
       "      <td>While the belief aligns with current trends an...</td>\n",
       "      <td>Assess the accuracy of the reported $100 billi...</td>\n",
       "      <td>[{'hypothesis': 'If OpenAI and Microsoft publi...</td>\n",
       "    </tr>\n",
       "    <tr>\n",
       "      <th>3</th>\n",
       "      <td>4</td>\n",
       "      <td>2</td>\n",
       "      <td>Dwarkesh Patel\\nWhen I had Zuck on the podcast...</td>\n",
       "      <td>Dwarkesh Patel\\nToday I’m chatting with my fri...</td>\n",
       "      <td>{'belief': 'The development of artificial inte...</td>\n",
       "      <td>The development of artificial intelligence (AI...</td>\n",
       "      <td>positive</td>\n",
       "      <td>Leopold Aschenbrenner's response to Dwarkesh P...</td>\n",
       "      <td>Leopold Aschenbrenner states that 10 GW data c...</td>\n",
       "      <td>high</td>\n",
       "      <td>{'belief': 'The development of artificial inte...</td>\n",
       "      <td>True</td>\n",
       "      <td>This belief, while seemingly evident from the ...</td>\n",
       "      <td>Investigate the actual investment plans of com...</td>\n",
       "      <td>[{'hypothesis': 'If OpenAI and Microsoft's pla...</td>\n",
       "    </tr>\n",
       "    <tr>\n",
       "      <th>4</th>\n",
       "      <td>5</td>\n",
       "      <td>2</td>\n",
       "      <td>Dwarkesh Patel\\nWhen I had Zuck on the podcast...</td>\n",
       "      <td>Dwarkesh Patel\\nToday I’m chatting with my fri...</td>\n",
       "      <td>{'belief': 'The development of AI will require...</td>\n",
       "      <td>The development of AI will require a large amo...</td>\n",
       "      <td>positive</td>\n",
       "      <td>Leopold Aschenbrenner's response to Dwarkesh P...</td>\n",
       "      <td>He mentions that OpenAI and Microsoft are plan...</td>\n",
       "      <td>high</td>\n",
       "      <td>{'belief': 'The development of AI will require...</td>\n",
       "      <td>True</td>\n",
       "      <td>The belief is stated as an estimate based on A...</td>\n",
       "      <td>Investigate the specific cost calculations and...</td>\n",
       "      <td>[{'hypothesis': 'If the cost estimates for a 1...</td>\n",
       "    </tr>\n",
       "  </tbody>\n",
       "</table>\n",
       "</div>"
      ],
      "text/plain": [
       "   belief_id  chunk_id                                              chunk  \\\n",
       "0          1         1  Dwarkesh Patel\\nIn the Sholto and Trenton epis...   \n",
       "1          2         1  Dwarkesh Patel\\nIn the Sholto and Trenton epis...   \n",
       "2          3         1  Dwarkesh Patel\\nIn the Sholto and Trenton epis...   \n",
       "3          4         2  Dwarkesh Patel\\nWhen I had Zuck on the podcast...   \n",
       "4          5         2  Dwarkesh Patel\\nWhen I had Zuck on the podcast...   \n",
       "\n",
       "                                          meta_chunk  \\\n",
       "0  Dwarkesh Patel\\nToday I’m chatting with my fri...   \n",
       "1  Dwarkesh Patel\\nToday I’m chatting with my fri...   \n",
       "2  Dwarkesh Patel\\nToday I’m chatting with my fri...   \n",
       "3  Dwarkesh Patel\\nToday I’m chatting with my fri...   \n",
       "4  Dwarkesh Patel\\nToday I’m chatting with my fri...   \n",
       "\n",
       "                                   extracted_beliefs  \\\n",
       "0  {'belief': 'AI, unlike most recent Silicon Val...   \n",
       "1  {'belief': 'The development of AI systems is e...   \n",
       "2  {'belief': 'The size and cost of AI training c...   \n",
       "3  {'belief': 'The development of artificial inte...   \n",
       "4  {'belief': 'The development of AI will require...   \n",
       "\n",
       "                                              belief      type  \\\n",
       "0  AI, unlike most recent Silicon Valley products...  positive   \n",
       "1  The development of AI systems is experiencing ...  positive   \n",
       "2  The size and cost of AI training clusters are ...  positive   \n",
       "3  The development of artificial intelligence (AI...  positive   \n",
       "4  The development of AI will require a large amo...  positive   \n",
       "\n",
       "                                             context  \\\n",
       "0  Leopold Aschenbrenner differentiates AI from t...   \n",
       "1  Aschenbrenner discusses the exponential growth...   \n",
       "2  Aschenbrenner outlines a scenario where AI clu...   \n",
       "3  Leopold Aschenbrenner's response to Dwarkesh P...   \n",
       "4  Leopold Aschenbrenner's response to Dwarkesh P...   \n",
       "\n",
       "                                       justification confidence  \\\n",
       "0  He explicitly mentions the need to build 'gian...       high   \n",
       "1  He cites a long-term trend of AI training comp...       high   \n",
       "2  He provides detailed estimations of cluster si...       high   \n",
       "3  Leopold Aschenbrenner states that 10 GW data c...       high   \n",
       "4  He mentions that OpenAI and Microsoft are plan...       high   \n",
       "\n",
       "                                 verification_output verify  \\\n",
       "0  {'belief': 'AI, unlike most recent Silicon Val...   True   \n",
       "1  {'belief': 'The development of AI systems is e...   True   \n",
       "2  {'belief': 'The size and cost of AI training c...   True   \n",
       "3  {'belief': 'The development of artificial inte...   True   \n",
       "4  {'belief': 'The development of AI will require...   True   \n",
       "\n",
       "                                  verify_explanation  \\\n",
       "0  While Aschenbrenner provides a compelling argu...   \n",
       "1  This belief is worth verifying due to its sign...   \n",
       "2  While the belief aligns with current trends an...   \n",
       "3  This belief, while seemingly evident from the ...   \n",
       "4  The belief is stated as an estimate based on A...   \n",
       "\n",
       "                                  verification_focus  \\\n",
       "0  Investigate the historical data supporting the...   \n",
       "1  Verify the accuracy of Aschenbrenner's project...   \n",
       "2  Assess the accuracy of the reported $100 billi...   \n",
       "3  Investigate the actual investment plans of com...   \n",
       "4  Investigate the specific cost calculations and...   \n",
       "\n",
       "                                     hypotheses_list  \n",
       "0  [{'hypothesis': 'The rate of growth in AI trai...  \n",
       "1  [{'hypothesis': 'If the rate of growth of AI t...  \n",
       "2  [{'hypothesis': 'If OpenAI and Microsoft publi...  \n",
       "3  [{'hypothesis': 'If OpenAI and Microsoft's pla...  \n",
       "4  [{'hypothesis': 'If the cost estimates for a 1...  "
      ]
     },
     "metadata": {},
     "output_type": "display_data"
    },
    {
     "data": {
      "text/html": [
       "<div>\n",
       "<style scoped>\n",
       "    .dataframe tbody tr th:only-of-type {\n",
       "        vertical-align: middle;\n",
       "    }\n",
       "\n",
       "    .dataframe tbody tr th {\n",
       "        vertical-align: top;\n",
       "    }\n",
       "\n",
       "    .dataframe thead th {\n",
       "        text-align: right;\n",
       "    }\n",
       "</style>\n",
       "<table border=\"1\" class=\"dataframe\">\n",
       "  <thead>\n",
       "    <tr style=\"text-align: right;\">\n",
       "      <th></th>\n",
       "      <th>hypothesis_id</th>\n",
       "      <th>belief_id</th>\n",
       "      <th>chunk_id</th>\n",
       "      <th>chunk</th>\n",
       "      <th>meta_chunk</th>\n",
       "      <th>extracted_beliefs</th>\n",
       "      <th>belief</th>\n",
       "      <th>type</th>\n",
       "      <th>context</th>\n",
       "      <th>justification</th>\n",
       "      <th>confidence</th>\n",
       "      <th>verification_output</th>\n",
       "      <th>verify</th>\n",
       "      <th>verify_explanation</th>\n",
       "      <th>verification_focus</th>\n",
       "      <th>hypotheses_list</th>\n",
       "    </tr>\n",
       "  </thead>\n",
       "  <tbody>\n",
       "    <tr>\n",
       "      <th>0</th>\n",
       "      <td>0</td>\n",
       "      <td>1</td>\n",
       "      <td>1</td>\n",
       "      <td>Dwarkesh Patel\\nIn the Sholto and Trenton epis...</td>\n",
       "      <td>Dwarkesh Patel\\nToday I’m chatting with my fri...</td>\n",
       "      <td>{'belief': 'AI, unlike most recent Silicon Val...</td>\n",
       "      <td>AI, unlike most recent Silicon Valley products...</td>\n",
       "      <td>positive</td>\n",
       "      <td>Leopold Aschenbrenner differentiates AI from t...</td>\n",
       "      <td>He explicitly mentions the need to build 'gian...</td>\n",
       "      <td>high</td>\n",
       "      <td>{'belief': 'AI, unlike most recent Silicon Val...</td>\n",
       "      <td>True</td>\n",
       "      <td>While Aschenbrenner provides a compelling argu...</td>\n",
       "      <td>Investigate the historical data supporting the...</td>\n",
       "      <td>{'hypothesis': 'The rate of growth in AI train...</td>\n",
       "    </tr>\n",
       "    <tr>\n",
       "      <th>1</th>\n",
       "      <td>1</td>\n",
       "      <td>1</td>\n",
       "      <td>1</td>\n",
       "      <td>Dwarkesh Patel\\nIn the Sholto and Trenton epis...</td>\n",
       "      <td>Dwarkesh Patel\\nToday I’m chatting with my fri...</td>\n",
       "      <td>{'belief': 'AI, unlike most recent Silicon Val...</td>\n",
       "      <td>AI, unlike most recent Silicon Valley products...</td>\n",
       "      <td>positive</td>\n",
       "      <td>Leopold Aschenbrenner differentiates AI from t...</td>\n",
       "      <td>He explicitly mentions the need to build 'gian...</td>\n",
       "      <td>high</td>\n",
       "      <td>{'belief': 'AI, unlike most recent Silicon Val...</td>\n",
       "      <td>True</td>\n",
       "      <td>While Aschenbrenner provides a compelling argu...</td>\n",
       "      <td>Investigate the historical data supporting the...</td>\n",
       "      <td>{'hypothesis': 'Factors such as hardware limit...</td>\n",
       "    </tr>\n",
       "    <tr>\n",
       "      <th>2</th>\n",
       "      <td>2</td>\n",
       "      <td>1</td>\n",
       "      <td>1</td>\n",
       "      <td>Dwarkesh Patel\\nIn the Sholto and Trenton epis...</td>\n",
       "      <td>Dwarkesh Patel\\nToday I’m chatting with my fri...</td>\n",
       "      <td>{'belief': 'AI, unlike most recent Silicon Val...</td>\n",
       "      <td>AI, unlike most recent Silicon Valley products...</td>\n",
       "      <td>positive</td>\n",
       "      <td>Leopold Aschenbrenner differentiates AI from t...</td>\n",
       "      <td>He explicitly mentions the need to build 'gian...</td>\n",
       "      <td>high</td>\n",
       "      <td>{'belief': 'AI, unlike most recent Silicon Val...</td>\n",
       "      <td>True</td>\n",
       "      <td>While Aschenbrenner provides a compelling argu...</td>\n",
       "      <td>Investigate the historical data supporting the...</td>\n",
       "      <td>{'hypothesis': 'Advancements in AI algorithms ...</td>\n",
       "    </tr>\n",
       "    <tr>\n",
       "      <th>3</th>\n",
       "      <td>3</td>\n",
       "      <td>1</td>\n",
       "      <td>1</td>\n",
       "      <td>Dwarkesh Patel\\nIn the Sholto and Trenton epis...</td>\n",
       "      <td>Dwarkesh Patel\\nToday I’m chatting with my fri...</td>\n",
       "      <td>{'belief': 'AI, unlike most recent Silicon Val...</td>\n",
       "      <td>AI, unlike most recent Silicon Valley products...</td>\n",
       "      <td>positive</td>\n",
       "      <td>Leopold Aschenbrenner differentiates AI from t...</td>\n",
       "      <td>He explicitly mentions the need to build 'gian...</td>\n",
       "      <td>high</td>\n",
       "      <td>{'belief': 'AI, unlike most recent Silicon Val...</td>\n",
       "      <td>True</td>\n",
       "      <td>While Aschenbrenner provides a compelling argu...</td>\n",
       "      <td>Investigate the historical data supporting the...</td>\n",
       "      <td>{'hypothesis': 'The growth in AI training comp...</td>\n",
       "    </tr>\n",
       "    <tr>\n",
       "      <th>4</th>\n",
       "      <td>4</td>\n",
       "      <td>2</td>\n",
       "      <td>1</td>\n",
       "      <td>Dwarkesh Patel\\nIn the Sholto and Trenton epis...</td>\n",
       "      <td>Dwarkesh Patel\\nToday I’m chatting with my fri...</td>\n",
       "      <td>{'belief': 'The development of AI systems is e...</td>\n",
       "      <td>The development of AI systems is experiencing ...</td>\n",
       "      <td>positive</td>\n",
       "      <td>Aschenbrenner discusses the exponential growth...</td>\n",
       "      <td>He cites a long-term trend of AI training comp...</td>\n",
       "      <td>high</td>\n",
       "      <td>{'belief': 'The development of AI systems is e...</td>\n",
       "      <td>True</td>\n",
       "      <td>This belief is worth verifying due to its sign...</td>\n",
       "      <td>Verify the accuracy of Aschenbrenner's project...</td>\n",
       "      <td>{'hypothesis': 'If the rate of growth of AI tr...</td>\n",
       "    </tr>\n",
       "  </tbody>\n",
       "</table>\n",
       "</div>"
      ],
      "text/plain": [
       "   hypothesis_id  belief_id  chunk_id  \\\n",
       "0              0          1         1   \n",
       "1              1          1         1   \n",
       "2              2          1         1   \n",
       "3              3          1         1   \n",
       "4              4          2         1   \n",
       "\n",
       "                                               chunk  \\\n",
       "0  Dwarkesh Patel\\nIn the Sholto and Trenton epis...   \n",
       "1  Dwarkesh Patel\\nIn the Sholto and Trenton epis...   \n",
       "2  Dwarkesh Patel\\nIn the Sholto and Trenton epis...   \n",
       "3  Dwarkesh Patel\\nIn the Sholto and Trenton epis...   \n",
       "4  Dwarkesh Patel\\nIn the Sholto and Trenton epis...   \n",
       "\n",
       "                                          meta_chunk  \\\n",
       "0  Dwarkesh Patel\\nToday I’m chatting with my fri...   \n",
       "1  Dwarkesh Patel\\nToday I’m chatting with my fri...   \n",
       "2  Dwarkesh Patel\\nToday I’m chatting with my fri...   \n",
       "3  Dwarkesh Patel\\nToday I’m chatting with my fri...   \n",
       "4  Dwarkesh Patel\\nToday I’m chatting with my fri...   \n",
       "\n",
       "                                   extracted_beliefs  \\\n",
       "0  {'belief': 'AI, unlike most recent Silicon Val...   \n",
       "1  {'belief': 'AI, unlike most recent Silicon Val...   \n",
       "2  {'belief': 'AI, unlike most recent Silicon Val...   \n",
       "3  {'belief': 'AI, unlike most recent Silicon Val...   \n",
       "4  {'belief': 'The development of AI systems is e...   \n",
       "\n",
       "                                              belief      type  \\\n",
       "0  AI, unlike most recent Silicon Valley products...  positive   \n",
       "1  AI, unlike most recent Silicon Valley products...  positive   \n",
       "2  AI, unlike most recent Silicon Valley products...  positive   \n",
       "3  AI, unlike most recent Silicon Valley products...  positive   \n",
       "4  The development of AI systems is experiencing ...  positive   \n",
       "\n",
       "                                             context  \\\n",
       "0  Leopold Aschenbrenner differentiates AI from t...   \n",
       "1  Leopold Aschenbrenner differentiates AI from t...   \n",
       "2  Leopold Aschenbrenner differentiates AI from t...   \n",
       "3  Leopold Aschenbrenner differentiates AI from t...   \n",
       "4  Aschenbrenner discusses the exponential growth...   \n",
       "\n",
       "                                       justification confidence  \\\n",
       "0  He explicitly mentions the need to build 'gian...       high   \n",
       "1  He explicitly mentions the need to build 'gian...       high   \n",
       "2  He explicitly mentions the need to build 'gian...       high   \n",
       "3  He explicitly mentions the need to build 'gian...       high   \n",
       "4  He cites a long-term trend of AI training comp...       high   \n",
       "\n",
       "                                 verification_output verify  \\\n",
       "0  {'belief': 'AI, unlike most recent Silicon Val...   True   \n",
       "1  {'belief': 'AI, unlike most recent Silicon Val...   True   \n",
       "2  {'belief': 'AI, unlike most recent Silicon Val...   True   \n",
       "3  {'belief': 'AI, unlike most recent Silicon Val...   True   \n",
       "4  {'belief': 'The development of AI systems is e...   True   \n",
       "\n",
       "                                  verify_explanation  \\\n",
       "0  While Aschenbrenner provides a compelling argu...   \n",
       "1  While Aschenbrenner provides a compelling argu...   \n",
       "2  While Aschenbrenner provides a compelling argu...   \n",
       "3  While Aschenbrenner provides a compelling argu...   \n",
       "4  This belief is worth verifying due to its sign...   \n",
       "\n",
       "                                  verification_focus  \\\n",
       "0  Investigate the historical data supporting the...   \n",
       "1  Investigate the historical data supporting the...   \n",
       "2  Investigate the historical data supporting the...   \n",
       "3  Investigate the historical data supporting the...   \n",
       "4  Verify the accuracy of Aschenbrenner's project...   \n",
       "\n",
       "                                     hypotheses_list  \n",
       "0  {'hypothesis': 'The rate of growth in AI train...  \n",
       "1  {'hypothesis': 'Factors such as hardware limit...  \n",
       "2  {'hypothesis': 'Advancements in AI algorithms ...  \n",
       "3  {'hypothesis': 'The growth in AI training comp...  \n",
       "4  {'hypothesis': 'If the rate of growth of AI tr...  "
      ]
     },
     "metadata": {},
     "output_type": "display_data"
    }
   ],
   "source": [
    "display(research_df.head())\n",
    "\n",
    "research_df = research_df.explode('hypotheses_list')\n",
    "\n",
    "research_df = research_df.reset_index(drop=True).reset_index().rename(columns={'index': 'hypothesis_id'})\n",
    "\n",
    "display(research_df.head())"
   ]
  },
  {
   "cell_type": "code",
   "execution_count": 16,
   "metadata": {},
   "outputs": [
    {
     "data": {
      "text/html": [
       "<div>\n",
       "<style scoped>\n",
       "    .dataframe tbody tr th:only-of-type {\n",
       "        vertical-align: middle;\n",
       "    }\n",
       "\n",
       "    .dataframe tbody tr th {\n",
       "        vertical-align: top;\n",
       "    }\n",
       "\n",
       "    .dataframe thead th {\n",
       "        text-align: right;\n",
       "    }\n",
       "</style>\n",
       "<table border=\"1\" class=\"dataframe\">\n",
       "  <thead>\n",
       "    <tr style=\"text-align: right;\">\n",
       "      <th></th>\n",
       "      <th>hypothesis_id</th>\n",
       "      <th>belief_id</th>\n",
       "      <th>chunk_id</th>\n",
       "      <th>chunk</th>\n",
       "      <th>meta_chunk</th>\n",
       "      <th>extracted_beliefs</th>\n",
       "      <th>belief</th>\n",
       "      <th>type</th>\n",
       "      <th>context</th>\n",
       "      <th>justification</th>\n",
       "      <th>confidence</th>\n",
       "      <th>verification_output</th>\n",
       "      <th>verify</th>\n",
       "      <th>verify_explanation</th>\n",
       "      <th>verification_focus</th>\n",
       "      <th>hypotheses_list</th>\n",
       "      <th>hypothesis</th>\n",
       "      <th>explanation</th>\n",
       "      <th>potential_sources</th>\n",
       "    </tr>\n",
       "  </thead>\n",
       "  <tbody>\n",
       "    <tr>\n",
       "      <th>0</th>\n",
       "      <td>0</td>\n",
       "      <td>1</td>\n",
       "      <td>1</td>\n",
       "      <td>Dwarkesh Patel\\nIn the Sholto and Trenton epis...</td>\n",
       "      <td>Dwarkesh Patel\\nToday I’m chatting with my fri...</td>\n",
       "      <td>{'belief': 'AI, unlike most recent Silicon Val...</td>\n",
       "      <td>AI, unlike most recent Silicon Valley products...</td>\n",
       "      <td>positive</td>\n",
       "      <td>Leopold Aschenbrenner differentiates AI from t...</td>\n",
       "      <td>He explicitly mentions the need to build 'gian...</td>\n",
       "      <td>high</td>\n",
       "      <td>{'belief': 'AI, unlike most recent Silicon Val...</td>\n",
       "      <td>True</td>\n",
       "      <td>While Aschenbrenner provides a compelling argu...</td>\n",
       "      <td>Investigate the historical data supporting the...</td>\n",
       "      <td>{'hypothesis': 'The rate of growth in AI train...</td>\n",
       "      <td>The rate of growth in AI training compute has ...</td>\n",
       "      <td>This hypothesis directly tests Leopold Aschenb...</td>\n",
       "      <td>[Research papers on AI training compute requir...</td>\n",
       "    </tr>\n",
       "    <tr>\n",
       "      <th>1</th>\n",
       "      <td>1</td>\n",
       "      <td>1</td>\n",
       "      <td>1</td>\n",
       "      <td>Dwarkesh Patel\\nIn the Sholto and Trenton epis...</td>\n",
       "      <td>Dwarkesh Patel\\nToday I’m chatting with my fri...</td>\n",
       "      <td>{'belief': 'AI, unlike most recent Silicon Val...</td>\n",
       "      <td>AI, unlike most recent Silicon Valley products...</td>\n",
       "      <td>positive</td>\n",
       "      <td>Leopold Aschenbrenner differentiates AI from t...</td>\n",
       "      <td>He explicitly mentions the need to build 'gian...</td>\n",
       "      <td>high</td>\n",
       "      <td>{'belief': 'AI, unlike most recent Silicon Val...</td>\n",
       "      <td>True</td>\n",
       "      <td>While Aschenbrenner provides a compelling argu...</td>\n",
       "      <td>Investigate the historical data supporting the...</td>\n",
       "      <td>{'hypothesis': 'Factors such as hardware limit...</td>\n",
       "      <td>Factors such as hardware limitations, power co...</td>\n",
       "      <td>This hypothesis explores potential limitations...</td>\n",
       "      <td>[Research on AI hardware limitations and energ...</td>\n",
       "    </tr>\n",
       "    <tr>\n",
       "      <th>2</th>\n",
       "      <td>2</td>\n",
       "      <td>1</td>\n",
       "      <td>1</td>\n",
       "      <td>Dwarkesh Patel\\nIn the Sholto and Trenton epis...</td>\n",
       "      <td>Dwarkesh Patel\\nToday I’m chatting with my fri...</td>\n",
       "      <td>{'belief': 'AI, unlike most recent Silicon Val...</td>\n",
       "      <td>AI, unlike most recent Silicon Valley products...</td>\n",
       "      <td>positive</td>\n",
       "      <td>Leopold Aschenbrenner differentiates AI from t...</td>\n",
       "      <td>He explicitly mentions the need to build 'gian...</td>\n",
       "      <td>high</td>\n",
       "      <td>{'belief': 'AI, unlike most recent Silicon Val...</td>\n",
       "      <td>True</td>\n",
       "      <td>While Aschenbrenner provides a compelling argu...</td>\n",
       "      <td>Investigate the historical data supporting the...</td>\n",
       "      <td>{'hypothesis': 'Advancements in AI algorithms ...</td>\n",
       "      <td>Advancements in AI algorithms and hardware eff...</td>\n",
       "      <td>This hypothesis explores the possibility of mi...</td>\n",
       "      <td>[Research on AI algorithm optimization and har...</td>\n",
       "    </tr>\n",
       "    <tr>\n",
       "      <th>3</th>\n",
       "      <td>3</td>\n",
       "      <td>1</td>\n",
       "      <td>1</td>\n",
       "      <td>Dwarkesh Patel\\nIn the Sholto and Trenton epis...</td>\n",
       "      <td>Dwarkesh Patel\\nToday I’m chatting with my fri...</td>\n",
       "      <td>{'belief': 'AI, unlike most recent Silicon Val...</td>\n",
       "      <td>AI, unlike most recent Silicon Valley products...</td>\n",
       "      <td>positive</td>\n",
       "      <td>Leopold Aschenbrenner differentiates AI from t...</td>\n",
       "      <td>He explicitly mentions the need to build 'gian...</td>\n",
       "      <td>high</td>\n",
       "      <td>{'belief': 'AI, unlike most recent Silicon Val...</td>\n",
       "      <td>True</td>\n",
       "      <td>While Aschenbrenner provides a compelling argu...</td>\n",
       "      <td>Investigate the historical data supporting the...</td>\n",
       "      <td>{'hypothesis': 'The growth in AI training comp...</td>\n",
       "      <td>The growth in AI training compute will be driv...</td>\n",
       "      <td>This hypothesis addresses the potential for AI...</td>\n",
       "      <td>[Research papers and industry reports on vario...</td>\n",
       "    </tr>\n",
       "    <tr>\n",
       "      <th>4</th>\n",
       "      <td>4</td>\n",
       "      <td>2</td>\n",
       "      <td>1</td>\n",
       "      <td>Dwarkesh Patel\\nIn the Sholto and Trenton epis...</td>\n",
       "      <td>Dwarkesh Patel\\nToday I’m chatting with my fri...</td>\n",
       "      <td>{'belief': 'The development of AI systems is e...</td>\n",
       "      <td>The development of AI systems is experiencing ...</td>\n",
       "      <td>positive</td>\n",
       "      <td>Aschenbrenner discusses the exponential growth...</td>\n",
       "      <td>He cites a long-term trend of AI training comp...</td>\n",
       "      <td>high</td>\n",
       "      <td>{'belief': 'The development of AI systems is e...</td>\n",
       "      <td>True</td>\n",
       "      <td>This belief is worth verifying due to its sign...</td>\n",
       "      <td>Verify the accuracy of Aschenbrenner's project...</td>\n",
       "      <td>{'hypothesis': 'If the rate of growth of AI tr...</td>\n",
       "      <td>If the rate of growth of AI training compute s...</td>\n",
       "      <td>The belief is based on the assumption that the...</td>\n",
       "      <td>[Research papers on AI hardware trends, Market...</td>\n",
       "    </tr>\n",
       "  </tbody>\n",
       "</table>\n",
       "</div>"
      ],
      "text/plain": [
       "   hypothesis_id  belief_id  chunk_id  \\\n",
       "0              0          1         1   \n",
       "1              1          1         1   \n",
       "2              2          1         1   \n",
       "3              3          1         1   \n",
       "4              4          2         1   \n",
       "\n",
       "                                               chunk  \\\n",
       "0  Dwarkesh Patel\\nIn the Sholto and Trenton epis...   \n",
       "1  Dwarkesh Patel\\nIn the Sholto and Trenton epis...   \n",
       "2  Dwarkesh Patel\\nIn the Sholto and Trenton epis...   \n",
       "3  Dwarkesh Patel\\nIn the Sholto and Trenton epis...   \n",
       "4  Dwarkesh Patel\\nIn the Sholto and Trenton epis...   \n",
       "\n",
       "                                          meta_chunk  \\\n",
       "0  Dwarkesh Patel\\nToday I’m chatting with my fri...   \n",
       "1  Dwarkesh Patel\\nToday I’m chatting with my fri...   \n",
       "2  Dwarkesh Patel\\nToday I’m chatting with my fri...   \n",
       "3  Dwarkesh Patel\\nToday I’m chatting with my fri...   \n",
       "4  Dwarkesh Patel\\nToday I’m chatting with my fri...   \n",
       "\n",
       "                                   extracted_beliefs  \\\n",
       "0  {'belief': 'AI, unlike most recent Silicon Val...   \n",
       "1  {'belief': 'AI, unlike most recent Silicon Val...   \n",
       "2  {'belief': 'AI, unlike most recent Silicon Val...   \n",
       "3  {'belief': 'AI, unlike most recent Silicon Val...   \n",
       "4  {'belief': 'The development of AI systems is e...   \n",
       "\n",
       "                                              belief      type  \\\n",
       "0  AI, unlike most recent Silicon Valley products...  positive   \n",
       "1  AI, unlike most recent Silicon Valley products...  positive   \n",
       "2  AI, unlike most recent Silicon Valley products...  positive   \n",
       "3  AI, unlike most recent Silicon Valley products...  positive   \n",
       "4  The development of AI systems is experiencing ...  positive   \n",
       "\n",
       "                                             context  \\\n",
       "0  Leopold Aschenbrenner differentiates AI from t...   \n",
       "1  Leopold Aschenbrenner differentiates AI from t...   \n",
       "2  Leopold Aschenbrenner differentiates AI from t...   \n",
       "3  Leopold Aschenbrenner differentiates AI from t...   \n",
       "4  Aschenbrenner discusses the exponential growth...   \n",
       "\n",
       "                                       justification confidence  \\\n",
       "0  He explicitly mentions the need to build 'gian...       high   \n",
       "1  He explicitly mentions the need to build 'gian...       high   \n",
       "2  He explicitly mentions the need to build 'gian...       high   \n",
       "3  He explicitly mentions the need to build 'gian...       high   \n",
       "4  He cites a long-term trend of AI training comp...       high   \n",
       "\n",
       "                                 verification_output verify  \\\n",
       "0  {'belief': 'AI, unlike most recent Silicon Val...   True   \n",
       "1  {'belief': 'AI, unlike most recent Silicon Val...   True   \n",
       "2  {'belief': 'AI, unlike most recent Silicon Val...   True   \n",
       "3  {'belief': 'AI, unlike most recent Silicon Val...   True   \n",
       "4  {'belief': 'The development of AI systems is e...   True   \n",
       "\n",
       "                                  verify_explanation  \\\n",
       "0  While Aschenbrenner provides a compelling argu...   \n",
       "1  While Aschenbrenner provides a compelling argu...   \n",
       "2  While Aschenbrenner provides a compelling argu...   \n",
       "3  While Aschenbrenner provides a compelling argu...   \n",
       "4  This belief is worth verifying due to its sign...   \n",
       "\n",
       "                                  verification_focus  \\\n",
       "0  Investigate the historical data supporting the...   \n",
       "1  Investigate the historical data supporting the...   \n",
       "2  Investigate the historical data supporting the...   \n",
       "3  Investigate the historical data supporting the...   \n",
       "4  Verify the accuracy of Aschenbrenner's project...   \n",
       "\n",
       "                                     hypotheses_list  \\\n",
       "0  {'hypothesis': 'The rate of growth in AI train...   \n",
       "1  {'hypothesis': 'Factors such as hardware limit...   \n",
       "2  {'hypothesis': 'Advancements in AI algorithms ...   \n",
       "3  {'hypothesis': 'The growth in AI training comp...   \n",
       "4  {'hypothesis': 'If the rate of growth of AI tr...   \n",
       "\n",
       "                                          hypothesis  \\\n",
       "0  The rate of growth in AI training compute has ...   \n",
       "1  Factors such as hardware limitations, power co...   \n",
       "2  Advancements in AI algorithms and hardware eff...   \n",
       "3  The growth in AI training compute will be driv...   \n",
       "4  If the rate of growth of AI training compute s...   \n",
       "\n",
       "                                         explanation  \\\n",
       "0  This hypothesis directly tests Leopold Aschenb...   \n",
       "1  This hypothesis explores potential limitations...   \n",
       "2  This hypothesis explores the possibility of mi...   \n",
       "3  This hypothesis addresses the potential for AI...   \n",
       "4  The belief is based on the assumption that the...   \n",
       "\n",
       "                                   potential_sources  \n",
       "0  [Research papers on AI training compute requir...  \n",
       "1  [Research on AI hardware limitations and energ...  \n",
       "2  [Research on AI algorithm optimization and har...  \n",
       "3  [Research papers and industry reports on vario...  \n",
       "4  [Research papers on AI hardware trends, Market...  "
      ]
     },
     "metadata": {},
     "output_type": "display_data"
    },
    {
     "name": "stdout",
     "output_type": "stream",
     "text": [
      "<class 'pandas.core.frame.DataFrame'>\n",
      "RangeIndex: 277 entries, 0 to 276\n",
      "Data columns (total 19 columns):\n",
      " #   Column               Non-Null Count  Dtype \n",
      "---  ------               --------------  ----- \n",
      " 0   hypothesis_id        277 non-null    int64 \n",
      " 1   belief_id            277 non-null    int64 \n",
      " 2   chunk_id             277 non-null    int64 \n",
      " 3   chunk                277 non-null    object\n",
      " 4   meta_chunk           277 non-null    object\n",
      " 5   extracted_beliefs    277 non-null    object\n",
      " 6   belief               277 non-null    object\n",
      " 7   type                 277 non-null    object\n",
      " 8   context              277 non-null    object\n",
      " 9   justification        277 non-null    object\n",
      " 10  confidence           277 non-null    object\n",
      " 11  verification_output  277 non-null    object\n",
      " 12  verify               277 non-null    object\n",
      " 13  verify_explanation   277 non-null    object\n",
      " 14  verification_focus   277 non-null    object\n",
      " 15  hypotheses_list      277 non-null    object\n",
      " 16  hypothesis           277 non-null    object\n",
      " 17  explanation          277 non-null    object\n",
      " 18  potential_sources    277 non-null    object\n",
      "dtypes: int64(3), object(16)\n",
      "memory usage: 41.2+ KB\n"
     ]
    },
    {
     "data": {
      "text/plain": [
       "None"
      ]
     },
     "metadata": {},
     "output_type": "display_data"
    }
   ],
   "source": [
    "hypotheses_df = pd.json_normalize(research_df['hypotheses_list'])\n",
    "research_df = pd.merge(research_df, hypotheses_df, left_on='hypothesis_id', right_index=True)\n",
    "display(research_df.head())\n",
    "display(research_df.info())"
   ]
  },
  {
   "cell_type": "code",
   "execution_count": 17,
   "metadata": {},
   "outputs": [
    {
     "data": {
      "text/markdown": [
       "### Hypothesis 1\n",
       "\n",
       "**Hypothesis**: The rate of growth in AI training compute has consistently been around 0.5 OOMs per year for the past decade.\n",
       "\n",
       "**Belief**: AI, unlike most recent Silicon Valley products, is an industrial process demanding significant physical infrastructure beyond just coding.\n",
       "\n",
       "**Explanation**: This hypothesis directly tests Leopold Aschenbrenner's claim about the historical trend of AI training compute growth. If this trend holds true, it supports his argument that AI is an industrial process with high infrastructure demands.\n",
       "\n",
       "**Potential Sources**:\n",
       "\n",
       "Research papers on AI training compute requirements  \n",
       "Industry reports on AI hardware and software trends  \n",
       "Data from AI hardware manufacturers like Nvidia and Google  \n",
       "Published technical specifications of major AI models\n",
       "\n"
      ],
      "text/plain": [
       "<IPython.core.display.Markdown object>"
      ]
     },
     "metadata": {},
     "output_type": "display_data"
    },
    {
     "data": {
      "text/markdown": [
       "### Hypothesis 2\n",
       "\n",
       "**Hypothesis**: Factors such as hardware limitations, power constraints, and the cost of training large models will cause the rate of growth in AI training compute to slow down significantly in the coming years.\n",
       "\n",
       "**Belief**: AI, unlike most recent Silicon Valley products, is an industrial process demanding significant physical infrastructure beyond just coding.\n",
       "\n",
       "**Explanation**: This hypothesis explores potential limitations to the continued exponential growth of AI training compute. If these factors prove to be significant, it could challenge Leopold Aschenbrenner's prediction of a trillion-dollar cluster by 2030.\n",
       "\n",
       "**Potential Sources**:\n",
       "\n",
       "Research on AI hardware limitations and energy consumption  \n",
       "Industry analysis of AI training costs and resource availability  \n",
       "Statements from AI researchers and industry leaders on future challenges and trends\n",
       "\n"
      ],
      "text/plain": [
       "<IPython.core.display.Markdown object>"
      ]
     },
     "metadata": {},
     "output_type": "display_data"
    },
    {
     "data": {
      "text/markdown": [
       "### Hypothesis 3\n",
       "\n",
       "**Hypothesis**: Advancements in AI algorithms and hardware efficiency will allow for continued exponential growth in training compute without a significant increase in energy consumption or cost.\n",
       "\n",
       "**Belief**: AI, unlike most recent Silicon Valley products, is an industrial process demanding significant physical infrastructure beyond just coding.\n",
       "\n",
       "**Explanation**: This hypothesis explores the possibility of mitigating the challenges associated with exponential growth in AI training compute. If breakthroughs in efficiency are achieved, it could support Leopold Aschenbrenner's prediction of a trillion-dollar cluster.\n",
       "\n",
       "**Potential Sources**:\n",
       "\n",
       "Research on AI algorithm optimization and hardware efficiency  \n",
       "Industry reports on emerging AI hardware technologies  \n",
       "Statements from AI experts on the potential for future breakthroughs\n",
       "\n"
      ],
      "text/plain": [
       "<IPython.core.display.Markdown object>"
      ]
     },
     "metadata": {},
     "output_type": "display_data"
    },
    {
     "data": {
      "text/markdown": [
       "### Hypothesis 4\n",
       "\n",
       "**Hypothesis**: The growth in AI training compute will be driven by a diverse range of applications, not just large language models like GPT-4.\n",
       "\n",
       "**Belief**: AI, unlike most recent Silicon Valley products, is an industrial process demanding significant physical infrastructure beyond just coding.\n",
       "\n",
       "**Explanation**: This hypothesis addresses the potential for AI training compute growth to be driven by factors beyond the development of large language models. If other areas of AI development also demand significant compute resources, it could support Leopold Aschenbrenner's prediction of a trillion-dollar cluster.\n",
       "\n",
       "**Potential Sources**:\n",
       "\n",
       "Research papers and industry reports on various AI applications  \n",
       "Data on the compute requirements of different AI tasks and models  \n",
       "Statements from AI researchers and industry leaders on the future of AI development\n",
       "\n"
      ],
      "text/plain": [
       "<IPython.core.display.Markdown object>"
      ]
     },
     "metadata": {},
     "output_type": "display_data"
    },
    {
     "data": {
      "text/markdown": [
       "### Hypothesis 5\n",
       "\n",
       "**Hypothesis**: If the rate of growth of AI training compute slows down to less than 0.5 OOMs per year before 2030, then the belief that a 100 GW cluster will be reached by 2030 is invalid.\n",
       "\n",
       "**Belief**: The development of AI systems is experiencing a rapid acceleration in terms of computational power, with training compute growing by half an order of magnitude (0.5 OOMs) annually.\n",
       "\n",
       "**Explanation**: The belief is based on the assumption that the current trend of 0.5 OOMs growth per year will continue. If this rate slows down, the projected cluster size and power consumption will be significantly smaller.\n",
       "\n",
       "**Potential Sources**:\n",
       "\n",
       "Research papers on AI hardware trends  \n",
       "Market reports on AI chip sales  \n",
       "Public announcements by major AI companies on their infrastructure plans\n",
       "\n"
      ],
      "text/plain": [
       "<IPython.core.display.Markdown object>"
      ]
     },
     "metadata": {},
     "output_type": "display_data"
    },
    {
     "data": {
      "text/markdown": [
       "### Hypothesis 6\n",
       "\n",
       "**Hypothesis**: If the cost of building and maintaining AI training clusters increases at a faster rate than the growth in AI revenue, then the belief that a trillion-dollar cluster is feasible by 2030 is invalid.\n",
       "\n",
       "**Belief**: The development of AI systems is experiencing a rapid acceleration in terms of computational power, with training compute growing by half an order of magnitude (0.5 OOMs) annually.\n",
       "\n",
       "**Explanation**: The belief relies on the assumption that the economic benefits of AI will keep pace with the escalating costs of building and operating massive AI training clusters. If costs outpace revenue, the development of such large-scale clusters becomes unsustainable.\n",
       "\n",
       "**Potential Sources**:\n",
       "\n",
       "Financial reports of major AI companies  \n",
       "Analysis of AI investment trends  \n",
       "Industry forecasts on the cost of AI hardware and infrastructure\n",
       "\n"
      ],
      "text/plain": [
       "<IPython.core.display.Markdown object>"
      ]
     },
     "metadata": {},
     "output_type": "display_data"
    },
    {
     "data": {
      "text/markdown": [
       "### Hypothesis 7\n",
       "\n",
       "**Hypothesis**: If the energy infrastructure required for a 100 GW AI training cluster cannot be developed in a timely and cost-effective manner, then the belief that such a cluster will be built by 2030 is invalid.\n",
       "\n",
       "**Belief**: The development of AI systems is experiencing a rapid acceleration in terms of computational power, with training compute growing by half an order of magnitude (0.5 OOMs) annually.\n",
       "\n",
       "**Explanation**: The belief assumes that energy infrastructure will be able to accommodate the massive power demands of such a cluster. If energy infrastructure limitations hinder its construction or operation, the belief becomes less credible.\n",
       "\n",
       "**Potential Sources**:\n",
       "\n",
       "Reports on energy infrastructure development  \n",
       "Government policies related to energy production  \n",
       "Studies on the feasibility of building large-scale data centers\n",
       "\n"
      ],
      "text/plain": [
       "<IPython.core.display.Markdown object>"
      ]
     },
     "metadata": {},
     "output_type": "display_data"
    },
    {
     "data": {
      "text/markdown": [
       "### Hypothesis 8\n",
       "\n",
       "**Hypothesis**: If there are significant environmental concerns and regulatory hurdles associated with the construction and operation of a 100 GW AI training cluster, then the belief that such a cluster will be built by 2030 is invalid.\n",
       "\n",
       "**Belief**: The development of AI systems is experiencing a rapid acceleration in terms of computational power, with training compute growing by half an order of magnitude (0.5 OOMs) annually.\n",
       "\n",
       "**Explanation**: The belief assumes that the development of such a massive cluster will be unimpeded by environmental concerns and regulations. If these concerns lead to delays or restrictions, the timeline for building the 100 GW cluster will be affected.\n",
       "\n",
       "**Potential Sources**:\n",
       "\n",
       "Environmental impact assessments of large-scale data centers  \n",
       "Government regulations on energy consumption and emissions  \n",
       "Public opinion surveys on the environmental impact of AI development\n",
       "\n"
      ],
      "text/plain": [
       "<IPython.core.display.Markdown object>"
      ]
     },
     "metadata": {},
     "output_type": "display_data"
    },
    {
     "data": {
      "text/markdown": [
       "### Hypothesis 9\n",
       "\n",
       "**Hypothesis**: If there are significant advances in AI hardware efficiency that reduce the computational power needed for training AI systems, then the belief that a 100 GW cluster will be necessary by 2030 is invalid.\n",
       "\n",
       "**Belief**: The development of AI systems is experiencing a rapid acceleration in terms of computational power, with training compute growing by half an order of magnitude (0.5 OOMs) annually.\n",
       "\n",
       "**Explanation**: The belief assumes that the current trends in computational power requirements will continue. If hardware efficiency improvements significantly reduce the computational resources needed for AI training, the projected size and energy consumption of the training cluster may be lower.\n",
       "\n",
       "**Potential Sources**:\n",
       "\n",
       "Research papers on AI hardware advancements  \n",
       "Industry reports on new AI chip designs  \n",
       "News articles on breakthroughs in AI hardware efficiency\n",
       "\n"
      ],
      "text/plain": [
       "<IPython.core.display.Markdown object>"
      ]
     },
     "metadata": {},
     "output_type": "display_data"
    },
    {
     "data": {
      "text/markdown": [
       "### Hypothesis 10\n",
       "\n",
       "**Hypothesis**: If there is a shift in the AI landscape, with a focus on smaller, more specialized models instead of large, general-purpose models, then the belief that a trillion-dollar cluster is necessary for AI development is invalid.\n",
       "\n",
       "**Belief**: The development of AI systems is experiencing a rapid acceleration in terms of computational power, with training compute growing by half an order of magnitude (0.5 OOMs) annually.\n",
       "\n",
       "**Explanation**: The belief assumes that the trend towards increasingly large and powerful AI models will continue. If there is a shift towards smaller, more specialized models, the need for massive training clusters could be reduced.\n",
       "\n",
       "**Potential Sources**:\n",
       "\n",
       "Research papers on AI model architecture  \n",
       "Industry reports on the adoption of different AI models  \n",
       "News articles on emerging trends in AI research\n",
       "\n"
      ],
      "text/plain": [
       "<IPython.core.display.Markdown object>"
      ]
     },
     "metadata": {},
     "output_type": "display_data"
    },
    {
     "data": {
      "text/markdown": [
       "### Hypothesis 11\n",
       "\n",
       "**Hypothesis**: If OpenAI and Microsoft publicly confirm their collaboration on a $100 billion cluster for AI training, and specify it as a 10 GW data center, then the belief regarding the substantial increase in the size and cost of AI training clusters is supported.\n",
       "\n",
       "**Belief**: The size and cost of AI training clusters are projected to increase dramatically in the coming years, with the largest clusters potentially requiring over 20% of US electricity production by 2030.\n",
       "\n",
       "**Explanation**: This hypothesis directly addresses the reported $100 billion investment and the size of the data center, which are key aspects of the belief about the future scale of AI training clusters.\n",
       "\n",
       "**Potential Sources**:\n",
       "\n",
       "Official statements from OpenAI and Microsoft  \n",
       "Press releases  \n",
       "Industry publications and reports\n",
       "\n"
      ],
      "text/plain": [
       "<IPython.core.display.Markdown object>"
      ]
     },
     "metadata": {},
     "output_type": "display_data"
    },
    {
     "data": {
      "text/markdown": [
       "### Hypothesis 12\n",
       "\n",
       "**Hypothesis**: If the market size for AI accelerators significantly exceeds AMD's forecast of $400 billion by 2027, then the belief regarding the substantial increase in the size and cost of AI training clusters is likely to be underestimated.\n",
       "\n",
       "**Belief**: The size and cost of AI training clusters are projected to increase dramatically in the coming years, with the largest clusters potentially requiring over 20% of US electricity production by 2030.\n",
       "\n",
       "**Explanation**: This hypothesis explores the broader market trends for AI hardware, which directly influence the overall investment and infrastructure required for AI development.\n",
       "\n",
       "**Potential Sources**:\n",
       "\n",
       "Market research reports on AI accelerators  \n",
       "Financial reports from companies involved in AI hardware  \n",
       "Industry analyst predictions\n",
       "\n"
      ],
      "text/plain": [
       "<IPython.core.display.Markdown object>"
      ]
     },
     "metadata": {},
     "output_type": "display_data"
    },
    {
     "data": {
      "text/markdown": [
       "### Hypothesis 13\n",
       "\n",
       "**Hypothesis**: If the rate of growth in global electricity production significantly exceeds the projected increase in AI training cluster energy consumption, then the belief regarding the strain on electricity production is likely to be overstated.\n",
       "\n",
       "**Belief**: The size and cost of AI training clusters are projected to increase dramatically in the coming years, with the largest clusters potentially requiring over 20% of US electricity production by 2030.\n",
       "\n",
       "**Explanation**: This hypothesis evaluates the potential impact of increased AI energy consumption on the global energy infrastructure.\n",
       "\n",
       "**Potential Sources**:\n",
       "\n",
       "Global electricity production statistics  \n",
       "Energy projections and forecasts  \n",
       "Reports on energy infrastructure development\n",
       "\n"
      ],
      "text/plain": [
       "<IPython.core.display.Markdown object>"
      ]
     },
     "metadata": {},
     "output_type": "display_data"
    },
    {
     "data": {
      "text/markdown": [
       "### Hypothesis 14\n",
       "\n",
       "**Hypothesis**: If significant advancements in energy efficiency technologies specifically for AI training clusters occur within the next few years, then the belief regarding the projected size of AI clusters might be overestimated.\n",
       "\n",
       "**Belief**: The size and cost of AI training clusters are projected to increase dramatically in the coming years, with the largest clusters potentially requiring over 20% of US electricity production by 2030.\n",
       "\n",
       "**Explanation**: This hypothesis considers the potential impact of technological advancements in reducing energy consumption for AI training.\n",
       "\n",
       "**Potential Sources**:\n",
       "\n",
       "Research papers on energy efficiency in AI  \n",
       "Industry reports on advancements in energy efficiency technologies  \n",
       "Patents and technological innovations related to energy-efficient AI hardware\n",
       "\n"
      ],
      "text/plain": [
       "<IPython.core.display.Markdown object>"
      ]
     },
     "metadata": {},
     "output_type": "display_data"
    },
    {
     "data": {
      "text/markdown": [
       "### Hypothesis 15\n",
       "\n",
       "**Hypothesis**: If the adoption rate of AI-powered products and services does not reach the projected levels, leading to lower revenue generation than estimated, then the belief regarding the viability of the trillion-dollar cluster may be inaccurate.\n",
       "\n",
       "**Belief**: The size and cost of AI training clusters are projected to increase dramatically in the coming years, with the largest clusters potentially requiring over 20% of US electricity production by 2030.\n",
       "\n",
       "**Explanation**: This hypothesis examines the relationship between revenue generation from AI products and the financial feasibility of building and operating large-scale AI training clusters.\n",
       "\n",
       "**Potential Sources**:\n",
       "\n",
       "Market research reports on AI adoption rates  \n",
       "Financial reports from companies offering AI products and services  \n",
       "Analysis of user adoption and usage trends\n",
       "\n"
      ],
      "text/plain": [
       "<IPython.core.display.Markdown object>"
      ]
     },
     "metadata": {},
     "output_type": "display_data"
    },
    {
     "data": {
      "text/markdown": [
       "### Hypothesis 16\n",
       "\n",
       "**Hypothesis**: If the rate of progress in AI development slows down, resulting in less computational demand for training large models, then the belief regarding the projected size and energy consumption of AI clusters is likely to be overstated.\n",
       "\n",
       "**Belief**: The size and cost of AI training clusters are projected to increase dramatically in the coming years, with the largest clusters potentially requiring over 20% of US electricity production by 2030.\n",
       "\n",
       "**Explanation**: This hypothesis evaluates the influence of the rate of AI development on the future demand for training resources.\n",
       "\n",
       "**Potential Sources**:\n",
       "\n",
       "Research papers on AI advancements  \n",
       "Industry reports on the pace of AI development  \n",
       "Analysis of breakthroughs and innovations in AI\n",
       "\n"
      ],
      "text/plain": [
       "<IPython.core.display.Markdown object>"
      ]
     },
     "metadata": {},
     "output_type": "display_data"
    },
    {
     "data": {
      "text/markdown": [
       "### Hypothesis 17\n",
       "\n",
       "**Hypothesis**: If OpenAI and Microsoft's planned cluster investment is significantly lower than $100 billion, then the belief that AI development will require massive investments in energy infrastructure is less likely to be validated.\n",
       "\n",
       "**Belief**: The development of artificial intelligence (AI) will require significant investment in energy infrastructure, such as data centers and power plants, to support the increasing computational demands.\n",
       "\n",
       "**Explanation**: The belief is based on the statement that OpenAI and Microsoft are planning a $100 billion cluster.  If this figure is inaccurate or significantly lower, it weakens the evidence supporting the belief.\n",
       "\n",
       "**Potential Sources**:\n",
       "\n",
       "Public statements or announcements from OpenAI and Microsoft regarding their investment plans  \n",
       "Financial reports from OpenAI and Microsoft  \n",
       "Articles or reports from reputable technology news sources that provide detailed information about the planned cluster investment\n",
       "\n"
      ],
      "text/plain": [
       "<IPython.core.display.Markdown object>"
      ]
     },
     "metadata": {},
     "output_type": "display_data"
    },
    {
     "data": {
      "text/markdown": [
       "### Hypothesis 18\n",
       "\n",
       "**Hypothesis**: If the projected growth in AI training compute power significantly exceeds the forecasted growth in renewable energy production, then the belief that AI development will place a strain on global energy resources is likely to be validated.\n",
       "\n",
       "**Belief**: The development of artificial intelligence (AI) will require significant investment in energy infrastructure, such as data centers and power plants, to support the increasing computational demands.\n",
       "\n",
       "**Explanation**: Leopold Aschenbrenner predicts a rapid increase in AI training compute power, which directly correlates with energy consumption.  If this growth outpaces the ability to generate renewable energy, it supports the concern about energy constraints.\n",
       "\n",
       "**Potential Sources**:\n",
       "\n",
       "Reports from research organizations and industry analysts forecasting the growth of AI training compute power  \n",
       "Data on global renewable energy production and projections for future growth  \n",
       "Studies analyzing the energy consumption of different AI training models and their anticipated growth\n",
       "\n"
      ],
      "text/plain": [
       "<IPython.core.display.Markdown object>"
      ]
     },
     "metadata": {},
     "output_type": "display_data"
    },
    {
     "data": {
      "text/markdown": [
       "### Hypothesis 19\n",
       "\n",
       "**Hypothesis**: If the cost of developing and operating AI infrastructure, including data centers and power plants, remains significantly lower than estimated by Aschenbrenner, then the belief that AI development will drive massive investments in energy infrastructure is less likely to be validated.\n",
       "\n",
       "**Belief**: The development of artificial intelligence (AI) will require significant investment in energy infrastructure, such as data centers and power plants, to support the increasing computational demands.\n",
       "\n",
       "**Explanation**: Aschenbrenner's statements imply a substantial increase in infrastructure costs. If those costs prove to be significantly lower, it suggests that the energy infrastructure investment may not be as massive as initially perceived.\n",
       "\n",
       "**Potential Sources**:\n",
       "\n",
       "Cost estimates for building and operating large-scale data centers and power plants  \n",
       "Industry reports on the cost of AI hardware and infrastructure  \n",
       "Analysis of the cost-effectiveness of various energy sources for AI applications\n",
       "\n"
      ],
      "text/plain": [
       "<IPython.core.display.Markdown object>"
      ]
     },
     "metadata": {},
     "output_type": "display_data"
    },
    {
     "data": {
      "text/markdown": [
       "### Hypothesis 20\n",
       "\n",
       "**Hypothesis**: If AI models are successfully optimized to operate with significantly lower energy consumption in the future, then the belief that AI development will require massive energy infrastructure investments may not be fully validated.\n",
       "\n",
       "**Belief**: The development of artificial intelligence (AI) will require significant investment in energy infrastructure, such as data centers and power plants, to support the increasing computational demands.\n",
       "\n",
       "**Explanation**: The belief is based on the assumption that energy consumption for AI will continue to increase. If advancements in model optimization reduce energy consumption, it could mitigate the need for extensive energy infrastructure expansion.\n",
       "\n",
       "**Potential Sources**:\n",
       "\n",
       "Research papers and studies on AI model optimization techniques that reduce energy consumption  \n",
       "Reports on the energy efficiency of different AI architectures and training methods  \n",
       "Industry initiatives and advancements in low-power AI hardware development\n",
       "\n"
      ],
      "text/plain": [
       "<IPython.core.display.Markdown object>"
      ]
     },
     "metadata": {},
     "output_type": "display_data"
    },
    {
     "data": {
      "text/markdown": [
       "### Hypothesis 21\n",
       "\n",
       "**Hypothesis**: If the cost estimates for a 10 GW AI training cluster are based on current market prices for hardware and energy, then the belief that the development of AI will require a large amount of capital investment, on the scale of hundreds of billions of dollars, is likely to be validated.\n",
       "\n",
       "**Belief**: The development of AI will require a large amount of capital investment, on the scale of hundreds of billions of dollars, for infrastructure and resources.\n",
       "\n",
       "**Explanation**: The cost of hardware, energy, and infrastructure are major components of the cost of building and operating large-scale AI clusters. If these costs are accurately reflected in the estimates, then it is likely that the development of advanced AI will require substantial capital investment.\n",
       "\n",
       "**Potential Sources**:\n",
       "\n",
       "Market research reports on AI hardware and energy costs  \n",
       "Financial statements of companies involved in AI infrastructure development  \n",
       "Expert opinions on the cost of building large-scale AI clusters\n",
       "\n"
      ],
      "text/plain": [
       "<IPython.core.display.Markdown object>"
      ]
     },
     "metadata": {},
     "output_type": "display_data"
    },
    {
     "data": {
      "text/markdown": [
       "### Hypothesis 22\n",
       "\n",
       "**Hypothesis**: If the growth rate of AI compute demand slows down or plateaus in the near future, then the belief that AI development will require hundreds of billions of dollars in investment might be less accurate.\n",
       "\n",
       "**Belief**: The development of AI will require a large amount of capital investment, on the scale of hundreds of billions of dollars, for infrastructure and resources.\n",
       "\n",
       "**Explanation**: The belief is predicated on the assumption that the demand for AI compute will continue to grow exponentially. If this growth slows down, the scale of investment required for AI infrastructure may be lower than currently projected.\n",
       "\n",
       "**Potential Sources**:\n",
       "\n",
       "Research papers on AI compute trends and projections  \n",
       "Reports from industry analysts on AI compute demand  \n",
       "Data on the growth of AI hardware sales\n",
       "\n"
      ],
      "text/plain": [
       "<IPython.core.display.Markdown object>"
      ]
     },
     "metadata": {},
     "output_type": "display_data"
    },
    {
     "data": {
      "text/markdown": [
       "### Hypothesis 23\n",
       "\n",
       "**Hypothesis**: If alternative energy sources become more affordable and efficient in the future, the belief that AI development will be limited by energy constraints might be less accurate.\n",
       "\n",
       "**Belief**: The development of AI will require a large amount of capital investment, on the scale of hundreds of billions of dollars, for infrastructure and resources.\n",
       "\n",
       "**Explanation**: The belief acknowledges the energy constraints of AI development. If alternative energy sources become more accessible and cost-effective, these constraints may be mitigated, potentially reducing the capital investment required.\n",
       "\n",
       "**Potential Sources**:\n",
       "\n",
       "Research on alternative energy technologies and their costs  \n",
       "Government reports on energy policy and investments  \n",
       "Data on the adoption and cost of renewable energy sources\n",
       "\n"
      ],
      "text/plain": [
       "<IPython.core.display.Markdown object>"
      ]
     },
     "metadata": {},
     "output_type": "display_data"
    },
    {
     "data": {
      "text/markdown": [
       "### Hypothesis 24\n",
       "\n",
       "**Hypothesis**: If OpenAI and Microsoft's plans for a $100 billion cluster involve a significant portion of the investment being allocated to research and development rather than solely infrastructure, then the belief about the scale of capital investment might be less accurate.\n",
       "\n",
       "**Belief**: The development of AI will require a large amount of capital investment, on the scale of hundreds of billions of dollars, for infrastructure and resources.\n",
       "\n",
       "**Explanation**: The belief emphasizes the infrastructure cost associated with AI development. If a significant portion of the investment is directed towards research and development, the overall cost of AI development may be higher, but the focus would shift from infrastructure to innovation.\n",
       "\n",
       "**Potential Sources**:\n",
       "\n",
       "Public statements from OpenAI and Microsoft about their investment plans  \n",
       "News articles and reports on the specifics of the $100 billion cluster project  \n",
       "Expert opinions on the distribution of investment within AI projects\n",
       "\n"
      ],
      "text/plain": [
       "<IPython.core.display.Markdown object>"
      ]
     },
     "metadata": {},
     "output_type": "display_data"
    },
    {
     "data": {
      "text/markdown": [
       "### Hypothesis 25\n",
       "\n",
       "**Hypothesis**: If there are significant technological breakthroughs in the efficiency of AI models and hardware, the belief about the scale of capital investment required for AI development could be less accurate.\n",
       "\n",
       "**Belief**: The development of AI will require a large amount of capital investment, on the scale of hundreds of billions of dollars, for infrastructure and resources.\n",
       "\n",
       "**Explanation**: The belief is based on the current trajectory of AI development, which assumes a need for increasingly larger and more powerful clusters. If significant breakthroughs in model efficiency and hardware reduce the computational requirements for AI, the scale of investment needed for infrastructure could be significantly reduced.\n",
       "\n",
       "**Potential Sources**:\n",
       "\n",
       "Research papers on AI model efficiency and hardware advancements  \n",
       "Industry reports on the development of new AI hardware and software  \n",
       "Expert opinions on the potential for future advancements in AI technology\n",
       "\n"
      ],
      "text/plain": [
       "<IPython.core.display.Markdown object>"
      ]
     },
     "metadata": {},
     "output_type": "display_data"
    },
    {
     "data": {
      "text/markdown": [
       "### Hypothesis 26\n",
       "\n",
       "**Hypothesis**: If the current growth rate of AI investments continues, then the total AI investment by 2027 will likely be higher than the $1 trillion estimate provided by Leopold Aschenbrenner.\n",
       "\n",
       "**Belief**: The cost of a 10 GW AI training cluster would be a couple of hundred billion dollars.\n",
       "\n",
       "**Explanation**: This hypothesis directly tests the speaker's $1 trillion estimate by examining the current trends and projected growth rates of AI investments across various sectors.\n",
       "\n",
       "**Potential Sources**:\n",
       "\n",
       "Investment reports from financial institutions  \n",
       "Market research reports on AI spending  \n",
       "Public financial statements of major tech companies investing in AI\n",
       "\n"
      ],
      "text/plain": [
       "<IPython.core.display.Markdown object>"
      ]
     },
     "metadata": {},
     "output_type": "display_data"
    },
    {
     "data": {
      "text/markdown": [
       "### Hypothesis 27\n",
       "\n",
       "**Hypothesis**: If the cost of AI accelerator hardware continues to decrease at the current rate, then the cost of a 10 GW AI training cluster in 2027 will be significantly lower than the 'couple of hundred billion dollars' estimate provided.\n",
       "\n",
       "**Belief**: The cost of a 10 GW AI training cluster would be a couple of hundred billion dollars.\n",
       "\n",
       "**Explanation**: This hypothesis examines the potential impact of decreasing hardware costs on the overall cost of building a large-scale AI cluster.\n",
       "\n",
       "**Potential Sources**:\n",
       "\n",
       "Price trends of AI accelerators (e.g., GPUs) from major manufacturers  \n",
       "Analyst reports on the future of AI hardware costs  \n",
       "Market reports on the cost of building data centers\n",
       "\n"
      ],
      "text/plain": [
       "<IPython.core.display.Markdown object>"
      ]
     },
     "metadata": {},
     "output_type": "display_data"
    },
    {
     "data": {
      "text/markdown": [
       "### Hypothesis 28\n",
       "\n",
       "**Hypothesis**: If the cost of power for data centers remains relatively stable or increases at a lower rate than projected AI cluster growth, then the belief that the cost of a 10 GW AI training cluster will be 'a couple of hundred billion dollars' is more likely to be accurate.\n",
       "\n",
       "**Belief**: The cost of a 10 GW AI training cluster would be a couple of hundred billion dollars.\n",
       "\n",
       "**Explanation**: This hypothesis examines the impact of energy costs on the overall cost of running and maintaining a large-scale AI training cluster.\n",
       "\n",
       "**Potential Sources**:\n",
       "\n",
       "Energy price forecasts for the next few years  \n",
       "Data center energy consumption reports  \n",
       "Research on the efficiency of AI hardware and its impact on energy consumption\n",
       "\n"
      ],
      "text/plain": [
       "<IPython.core.display.Markdown object>"
      ]
     },
     "metadata": {},
     "output_type": "display_data"
    },
    {
     "data": {
      "text/markdown": [
       "### Hypothesis 29\n",
       "\n",
       "**Hypothesis**: If the development of AI-powered products and services that generate significant revenue lags behind the expected growth in AI training cluster capacity, then the belief that such large investments will be justified is less likely to be accurate.\n",
       "\n",
       "**Belief**: The cost of a 10 GW AI training cluster would be a couple of hundred billion dollars.\n",
       "\n",
       "**Explanation**: This hypothesis assesses the potential for generating sufficient revenue to justify the massive investment required for large-scale AI clusters.\n",
       "\n",
       "**Potential Sources**:\n",
       "\n",
       "Market research reports on the current and projected revenue from AI products and services  \n",
       "Case studies of companies successfully monetizing AI applications  \n",
       "Expert opinions on the future of AI business models\n",
       "\n"
      ],
      "text/plain": [
       "<IPython.core.display.Markdown object>"
      ]
     },
     "metadata": {},
     "output_type": "display_data"
    },
    {
     "data": {
      "text/markdown": [
       "### Hypothesis 30\n",
       "\n",
       "**Hypothesis**: If the AI accelerator market growth rate significantly slows down or stalls before 2027, AMD's $400 billion forecast will be inaccurate, making Aschenbrenner's $1 trillion AI investment prediction less likely.\n",
       "\n",
       "**Belief**: The total investment in AI will reach $1 trillion by 2027.\n",
       "\n",
       "**Explanation**: AMD's forecast is a crucial component of Aschenbrenner's $1 trillion prediction. Investigating the validity of AMD's forecast will shed light on the likelihood of the belief.\n",
       "\n",
       "**Potential Sources**:\n",
       "\n",
       "Market research reports on the AI accelerator market  \n",
       "Financial reports and statements from AMD and other major AI accelerator manufacturers  \n",
       "Industry analyst opinions and forecasts on the AI accelerator market\n",
       "\n"
      ],
      "text/plain": [
       "<IPython.core.display.Markdown object>"
      ]
     },
     "metadata": {},
     "output_type": "display_data"
    },
    {
     "data": {
      "text/markdown": [
       "### Hypothesis 31\n",
       "\n",
       "**Hypothesis**: If other market projections for total AI investment by 2027 are significantly lower than $1 trillion, Aschenbrenner's belief becomes less likely.\n",
       "\n",
       "**Belief**: The total investment in AI will reach $1 trillion by 2027.\n",
       "\n",
       "**Explanation**: Comparing AMD's forecast with other market projections will help gauge the consensus within the industry and determine the validity of Aschenbrenner's claim.\n",
       "\n",
       "**Potential Sources**:\n",
       "\n",
       "Market research reports on the overall AI market  \n",
       "Industry analyst reports and forecasts on AI investment  \n",
       "Financial reports from major AI companies, including their investment plans\n",
       "\n"
      ],
      "text/plain": [
       "<IPython.core.display.Markdown object>"
      ]
     },
     "metadata": {},
     "output_type": "display_data"
    },
    {
     "data": {
      "text/markdown": [
       "### Hypothesis 32\n",
       "\n",
       "**Hypothesis**: If the rate of growth in AI compute power continues to accelerate at a pace similar to the past decade, then Aschenbrenner's belief about a $1 trillion AI investment by 2027 is more likely to be accurate.\n",
       "\n",
       "**Belief**: The total investment in AI will reach $1 trillion by 2027.\n",
       "\n",
       "**Explanation**: The growth in compute power is a key driver of AI investment. Analyzing past trends and projections for future growth can help assess the likelihood of Aschenbrenner's prediction.\n",
       "\n",
       "**Potential Sources**:\n",
       "\n",
       "Research papers and reports on the growth of AI compute power  \n",
       "Data on the number of AI accelerators deployed and their power consumption  \n",
       "Industry expert opinions on the future trajectory of AI compute power\n",
       "\n"
      ],
      "text/plain": [
       "<IPython.core.display.Markdown object>"
      ]
     },
     "metadata": {},
     "output_type": "display_data"
    },
    {
     "data": {
      "text/markdown": [
       "### Hypothesis 33\n",
       "\n",
       "**Hypothesis**: If the global demand for AI accelerators surpasses AMD's forecast, the AI accelerator market will exceed $400 billion by 2027.\n",
       "\n",
       "**Belief**: The AI accelerator market will reach $400 billion by 2027.\n",
       "\n",
       "**Explanation**: AMD's forecast serves as a baseline. If the market grows faster than expected, the belief that it will reach $400 billion by 2027 is more likely to be validated.\n",
       "\n",
       "**Potential Sources**:\n",
       "\n",
       "Market research reports on AI accelerators  \n",
       "Sales data from AI accelerator manufacturers  \n",
       "Industry analyses and forecasts from market research firms\n",
       "\n"
      ],
      "text/plain": [
       "<IPython.core.display.Markdown object>"
      ]
     },
     "metadata": {},
     "output_type": "display_data"
    },
    {
     "data": {
      "text/markdown": [
       "### Hypothesis 34\n",
       "\n",
       "**Hypothesis**: If the development of more efficient and powerful AI accelerators slows down, the AI accelerator market will not reach $400 billion by 2027.\n",
       "\n",
       "**Belief**: The AI accelerator market will reach $400 billion by 2027.\n",
       "\n",
       "**Explanation**: The growth of the AI accelerator market is heavily reliant on advancements in accelerator technology. If progress in this area stalls, the market may not reach the projected size.\n",
       "\n",
       "**Potential Sources**:\n",
       "\n",
       "Research papers on AI accelerator development  \n",
       "Industry news and announcements regarding new AI accelerator products  \n",
       "Technical reports and white papers from AI accelerator manufacturers\n",
       "\n"
      ],
      "text/plain": [
       "<IPython.core.display.Markdown object>"
      ]
     },
     "metadata": {},
     "output_type": "display_data"
    },
    {
     "data": {
      "text/markdown": [
       "### Hypothesis 35\n",
       "\n",
       "**Hypothesis**: If the cost of AI accelerators decreases significantly by 2027, the AI accelerator market will likely reach $400 billion, as increased affordability will drive adoption.\n",
       "\n",
       "**Belief**: The AI accelerator market will reach $400 billion by 2027.\n",
       "\n",
       "**Explanation**: The affordability of AI accelerators is a major factor influencing adoption rates. If costs decrease significantly, more organizations will be able to invest in AI acceleration, potentially driving the market to the forecasted size.\n",
       "\n",
       "**Potential Sources**:\n",
       "\n",
       "Price data for AI accelerators  \n",
       "Analyst reports on the pricing trends in the AI accelerator market  \n",
       "Industry discussions on the cost of AI acceleration\n",
       "\n"
      ],
      "text/plain": [
       "<IPython.core.display.Markdown object>"
      ]
     },
     "metadata": {},
     "output_type": "display_data"
    },
    {
     "data": {
      "text/markdown": [
       "### Hypothesis 36\n",
       "\n",
       "**Hypothesis**: If the use of AI models in diverse industries expands at a slower rate than anticipated, the AI accelerator market will be less likely to reach $400 billion by 2027.\n",
       "\n",
       "**Belief**: The AI accelerator market will reach $400 billion by 2027.\n",
       "\n",
       "**Explanation**: The demand for AI accelerators is driven by the adoption of AI models across various industries. If adoption rates are lower than expected, the market may not reach the projected size.\n",
       "\n",
       "**Potential Sources**:\n",
       "\n",
       "Industry reports on AI adoption in different sectors  \n",
       "Case studies of AI implementations in various industries  \n",
       "News articles on AI deployment and use cases across different fields\n",
       "\n"
      ],
      "text/plain": [
       "<IPython.core.display.Markdown object>"
      ]
     },
     "metadata": {},
     "output_type": "display_data"
    },
    {
     "data": {
      "text/markdown": [
       "### Hypothesis 37\n",
       "\n",
       "**Hypothesis**: If the development of alternative AI computing technologies, such as neuromorphic chips, significantly disrupts the AI accelerator market, the AI accelerator market will be less likely to reach $400 billion by 2027.\n",
       "\n",
       "**Belief**: The AI accelerator market will reach $400 billion by 2027.\n",
       "\n",
       "**Explanation**: The dominance of AI accelerators could be challenged by emerging computing technologies. If these alternatives gain traction, the AI accelerator market may not grow as projected.\n",
       "\n",
       "**Potential Sources**:\n",
       "\n",
       "Research papers on alternative AI computing technologies  \n",
       "Industry analyses on the potential impact of emerging computing technologies on the AI market  \n",
       "News articles and reports on advancements in neuromorphic computing and other alternative AI technologies\n",
       "\n"
      ],
      "text/plain": [
       "<IPython.core.display.Markdown object>"
      ]
     },
     "metadata": {},
     "output_type": "display_data"
    },
    {
     "data": {
      "text/markdown": [
       "### Hypothesis 38\n",
       "\n",
       "**Hypothesis**: If the actual cost of training GPT-4 was significantly higher than the reported rental price of $100 million, then the belief that the cost of training GPT-4 was only $100 million is invalid.\n",
       "\n",
       "**Belief**: It is a common misconception that the cost of training a model like GPT-4 was only $100 million.\n",
       "\n",
       "**Explanation**: This hypothesis directly tests the belief by focusing on the actual cost of training GPT-4, which Aschenbrenner claims is higher than the reported rental price.\n",
       "\n",
       "**Potential Sources**:\n",
       "\n",
       "Financial reports from OpenAI or other involved parties  \n",
       "Technical papers or articles detailing the GPT-4 training process and infrastructure  \n",
       "Industry analysis reports on the cost of AI model training\n",
       "\n"
      ],
      "text/plain": [
       "<IPython.core.display.Markdown object>"
      ]
     },
     "metadata": {},
     "output_type": "display_data"
    },
    {
     "data": {
      "text/markdown": [
       "### Hypothesis 39\n",
       "\n",
       "**Hypothesis**: If the market demand for AI-powered products and services is insufficient to generate $100 billion in annual revenue by 2027, then the belief that AI systems can generate $100 billion in annual revenue by 2027 is invalid.\n",
       "\n",
       "**Belief**: It is a common misconception that the cost of training a model like GPT-4 was only $100 million.\n",
       "\n",
       "**Explanation**: This hypothesis assesses the feasibility of achieving the projected revenue levels by considering the market demand for AI products and services, a crucial factor in determining the profitability of AI investments.\n",
       "\n",
       "**Potential Sources**:\n",
       "\n",
       "Market research reports on the AI industry  \n",
       "Financial projections from major technology companies investing in AI  \n",
       "Industry expert opinions on the potential market size and growth of AI products and services\n",
       "\n"
      ],
      "text/plain": [
       "<IPython.core.display.Markdown object>"
      ]
     },
     "metadata": {},
     "output_type": "display_data"
    },
    {
     "data": {
      "text/markdown": [
       "### Hypothesis 40\n",
       "\n",
       "**Hypothesis**: If the pricing strategies for AI-powered products and services fail to capture sufficient value from users to generate $100 billion in annual revenue by 2027, then the belief that AI systems can generate $100 billion in annual revenue by 2027 is invalid.\n",
       "\n",
       "**Belief**: It is a common misconception that the cost of training a model like GPT-4 was only $100 million.\n",
       "\n",
       "**Explanation**: This hypothesis examines the pricing strategies employed for AI products and services, considering their impact on user adoption and the potential to generate the projected revenue levels.\n",
       "\n",
       "**Potential Sources**:\n",
       "\n",
       "Pricing models and strategies for AI-powered products and services  \n",
       "User adoption rates and satisfaction with current AI offerings  \n",
       "Market analysis reports on the pricing landscape for AI products and services\n",
       "\n"
      ],
      "text/plain": [
       "<IPython.core.display.Markdown object>"
      ]
     },
     "metadata": {},
     "output_type": "display_data"
    },
    {
     "data": {
      "text/markdown": [
       "### Hypothesis 41\n",
       "\n",
       "**Hypothesis**: If the competitive landscape for AI products and services becomes highly saturated by 2027, leading to reduced pricing power and lower profit margins, then the belief that AI systems can generate $100 billion in annual revenue by 2027 is invalid.\n",
       "\n",
       "**Belief**: It is a common misconception that the cost of training a model like GPT-4 was only $100 million.\n",
       "\n",
       "**Explanation**: This hypothesis assesses the impact of the competitive landscape on the potential for AI systems to achieve the projected revenue levels, considering factors like market share, pricing competition, and potential disruption from new entrants.\n",
       "\n",
       "**Potential Sources**:\n",
       "\n",
       "Industry analysis reports on the competitive landscape of the AI market  \n",
       "Information on the entry of new players and their impact on the AI market  \n",
       "Data on the market share of leading AI companies and their pricing strategies\n",
       "\n"
      ],
      "text/plain": [
       "<IPython.core.display.Markdown object>"
      ]
     },
     "metadata": {},
     "output_type": "display_data"
    },
    {
     "data": {
      "text/markdown": [
       "### Hypothesis 42\n",
       "\n",
       "**Hypothesis**: If user adoption of AI-powered productivity tools is significantly lower than projected, even at a price point of $100 per month, then the belief that AI revenue can reach $100 billion per year is invalid.\n",
       "\n",
       "**Belief**: AI systems will reach a level of revenue generation that will justify the massive investments being made in their development.\n",
       "\n",
       "**Explanation**: The belief hinges on the widespread adoption of AI-powered tools at a specific price point. This hypothesis directly tests whether the user base will be willing to pay for these features.\n",
       "\n",
       "**Potential Sources**:\n",
       "\n",
       "Market research on user adoption of AI-powered productivity tools  \n",
       "Surveys of Microsoft Office users regarding their willingness to pay for AI features  \n",
       "Data on current subscription rates for AI add-ons\n",
       "\n"
      ],
      "text/plain": [
       "<IPython.core.display.Markdown object>"
      ]
     },
     "metadata": {},
     "output_type": "display_data"
    },
    {
     "data": {
      "text/markdown": [
       "### Hypothesis 43\n",
       "\n",
       "**Hypothesis**: If the market for AI-powered productivity tools is saturated by alternative solutions, then the belief that AI revenue can reach $100 billion per year is invalid.\n",
       "\n",
       "**Belief**: AI systems will reach a level of revenue generation that will justify the massive investments being made in their development.\n",
       "\n",
       "**Explanation**: The belief assumes that AI-powered productivity tools offered by Microsoft will dominate the market. This hypothesis examines whether competing solutions could limit Microsoft's market share.\n",
       "\n",
       "**Potential Sources**:\n",
       "\n",
       "Market research on competing AI-powered productivity tools  \n",
       "Analysis of user reviews and comparisons of different AI tools  \n",
       "Data on market share of various AI productivity solutions\n",
       "\n"
      ],
      "text/plain": [
       "<IPython.core.display.Markdown object>"
      ]
     },
     "metadata": {},
     "output_type": "display_data"
    },
    {
     "data": {
      "text/markdown": [
       "### Hypothesis 44\n",
       "\n",
       "**Hypothesis**: If the value proposition of AI-powered productivity tools fails to significantly improve productivity for users, then the belief that AI revenue can reach $100 billion per year is invalid.\n",
       "\n",
       "**Belief**: AI systems will reach a level of revenue generation that will justify the massive investments being made in their development.\n",
       "\n",
       "**Explanation**: The belief relies on the assumption that AI tools will deliver a significant increase in user productivity. This hypothesis investigates whether the actual improvement in productivity aligns with projected gains.\n",
       "\n",
       "**Potential Sources**:\n",
       "\n",
       "Studies on the impact of AI tools on user productivity  \n",
       "User feedback on the effectiveness of AI tools  \n",
       "Data on task completion times before and after using AI tools\n",
       "\n"
      ],
      "text/plain": [
       "<IPython.core.display.Markdown object>"
      ]
     },
     "metadata": {},
     "output_type": "display_data"
    },
    {
     "data": {
      "text/markdown": [
       "### Hypothesis 45\n",
       "\n",
       "**Hypothesis**: If the cost of developing and maintaining AI-powered productivity tools continues to rise at a faster rate than revenue growth, then the belief that AI revenue can reach $100 billion per year is invalid.\n",
       "\n",
       "**Belief**: AI systems will reach a level of revenue generation that will justify the massive investments being made in their development.\n",
       "\n",
       "**Explanation**: The belief assumes that revenue growth will outpace the rising costs associated with AI development. This hypothesis examines whether this assumption holds true.\n",
       "\n",
       "**Potential Sources**:\n",
       "\n",
       "Data on the costs of AI development and maintenance  \n",
       "Industry reports on the economics of AI development  \n",
       "Financial statements of companies investing heavily in AI\n",
       "\n"
      ],
      "text/plain": [
       "<IPython.core.display.Markdown object>"
      ]
     },
     "metadata": {},
     "output_type": "display_data"
    },
    {
     "data": {
      "text/markdown": [
       "### Hypothesis 46\n",
       "\n",
       "**Hypothesis**: If the regulatory landscape for AI-powered productivity tools becomes restrictive, then the belief that AI revenue can reach $100 billion per year is invalid.\n",
       "\n",
       "**Belief**: AI systems will reach a level of revenue generation that will justify the massive investments being made in their development.\n",
       "\n",
       "**Explanation**: The belief assumes a favorable regulatory environment for AI development. This hypothesis explores whether regulatory constraints could stifle AI innovation and revenue generation.\n",
       "\n",
       "**Potential Sources**:\n",
       "\n",
       "Analysis of current and proposed AI regulations  \n",
       "Expert opinions on the potential impact of AI regulations  \n",
       "Legal studies on the implications of AI regulations\n",
       "\n"
      ],
      "text/plain": [
       "<IPython.core.display.Markdown object>"
      ]
     },
     "metadata": {},
     "output_type": "display_data"
    },
    {
     "data": {
      "text/markdown": [
       "### Hypothesis 47\n",
       "\n",
       "**Hypothesis**: If studies show that AI systems can significantly increase the productivity of knowledge workers by at least a few hours per month, then the belief that AI systems will eventually become valuable enough to warrant a monthly subscription fee of $100 for a significant portion of the Microsoft Office user base is more likely to be validated.\n",
       "\n",
       "**Belief**: AI systems will eventually become valuable enough to warrant a monthly subscription fee of $100 for a significant portion of the Microsoft Office user base.\n",
       "\n",
       "**Explanation**: The hypothesis directly addresses the central claim of the belief, which is that AI systems will provide enough value to knowledge workers to justify a $100 monthly subscription. Evidence showing significant productivity gains would support the belief.\n",
       "\n",
       "**Potential Sources**:\n",
       "\n",
       "Studies on the impact of AI on productivity in knowledge work  \n",
       "Case studies of businesses that have implemented AI systems for knowledge work  \n",
       "Expert opinions on the potential productivity gains from AI\n",
       "\n"
      ],
      "text/plain": [
       "<IPython.core.display.Markdown object>"
      ]
     },
     "metadata": {},
     "output_type": "display_data"
    },
    {
     "data": {
      "text/markdown": [
       "### Hypothesis 48\n",
       "\n",
       "**Hypothesis**: If market research indicates that Microsoft Office users are unwilling to pay a $100 monthly subscription for AI-powered features, then the belief that AI systems will eventually become valuable enough to warrant a monthly subscription fee of $100 for a significant portion of the Microsoft Office user base is less likely to be validated.\n",
       "\n",
       "**Belief**: AI systems will eventually become valuable enough to warrant a monthly subscription fee of $100 for a significant portion of the Microsoft Office user base.\n",
       "\n",
       "**Explanation**: This hypothesis tests the feasibility of the proposed $100/month subscription by examining user willingness to pay. If users are not willing to pay that amount, it undermines the belief.\n",
       "\n",
       "**Potential Sources**:\n",
       "\n",
       "Market research reports on consumer willingness to pay for AI-powered features  \n",
       "Surveys of Microsoft Office users regarding their willingness to pay for AI add-ons  \n",
       "Analysis of subscription pricing models for existing AI-powered software\n",
       "\n"
      ],
      "text/plain": [
       "<IPython.core.display.Markdown object>"
      ]
     },
     "metadata": {},
     "output_type": "display_data"
    },
    {
     "data": {
      "text/markdown": [
       "### Hypothesis 49\n",
       "\n",
       "**Hypothesis**: If the adoption rate of AI-powered features in Microsoft Office is significantly lower than anticipated, then the belief that AI systems will eventually become valuable enough to warrant a monthly subscription fee of $100 for a significant portion of the Microsoft Office user base is less likely to be validated.\n",
       "\n",
       "**Belief**: AI systems will eventually become valuable enough to warrant a monthly subscription fee of $100 for a significant portion of the Microsoft Office user base.\n",
       "\n",
       "**Explanation**: This hypothesis examines the market demand for AI-powered features. If adoption is slow, it suggests that users may not perceive enough value in these features to justify a high subscription fee.\n",
       "\n",
       "**Potential Sources**:\n",
       "\n",
       "Data on the usage of AI-powered features in Microsoft Office  \n",
       "Analysis of user feedback on AI features in Microsoft Office  \n",
       "Reports from industry analysts on the adoption rate of AI-powered productivity tools\n",
       "\n"
      ],
      "text/plain": [
       "<IPython.core.display.Markdown object>"
      ]
     },
     "metadata": {},
     "output_type": "display_data"
    },
    {
     "data": {
      "text/markdown": [
       "### Hypothesis 50\n",
       "\n",
       "**Hypothesis**: If alternative business models for monetizing AI systems, such as advertising or value-based pricing, prove more successful than a flat subscription fee, then the belief that AI systems will eventually become valuable enough to warrant a monthly subscription fee of $100 for a significant portion of the Microsoft Office user base is less likely to be validated.\n",
       "\n",
       "**Belief**: AI systems will eventually become valuable enough to warrant a monthly subscription fee of $100 for a significant portion of the Microsoft Office user base.\n",
       "\n",
       "**Explanation**: This hypothesis considers alternative revenue models that may be more effective than a flat subscription fee. If these models prove successful, it weakens the argument for a $100/month subscription.\n",
       "\n",
       "**Potential Sources**:\n",
       "\n",
       "Case studies of successful AI business models  \n",
       "Analysis of emerging trends in AI monetization  \n",
       "Expert opinions on alternative AI business models\n",
       "\n"
      ],
      "text/plain": [
       "<IPython.core.display.Markdown object>"
      ]
     },
     "metadata": {},
     "output_type": "display_data"
    },
    {
     "data": {
      "text/markdown": [
       "### Hypothesis 51\n",
       "\n",
       "**Hypothesis**: If the development of AI systems leads to significant job displacement in the knowledge work sector, then the belief that AI systems will eventually become valuable enough to warrant a monthly subscription fee of $100 for a significant portion of the Microsoft Office user base is less likely to be validated.\n",
       "\n",
       "**Belief**: AI systems will eventually become valuable enough to warrant a monthly subscription fee of $100 for a significant portion of the Microsoft Office user base.\n",
       "\n",
       "**Explanation**: This hypothesis considers the potential impact of AI on employment. If widespread job displacement occurs, it could negatively affect demand for AI-powered productivity tools, making a high subscription fee less feasible.\n",
       "\n",
       "**Potential Sources**:\n",
       "\n",
       "Economic studies on the impact of AI on employment  \n",
       "Reports from labor organizations on the impact of AI on the workforce  \n",
       "Analysis of historical trends in technological displacement and its impact on labor markets\n",
       "\n"
      ],
      "text/plain": [
       "<IPython.core.display.Markdown object>"
      ]
     },
     "metadata": {},
     "output_type": "display_data"
    },
    {
     "data": {
      "text/markdown": [
       "### Hypothesis 52\n",
       "\n",
       "**Hypothesis**: If knowledge workers currently experience less than a few hours of productivity gains per month from existing AI tools, then the belief that AI will enhance productivity to the point that a $100/month subscription fee would be justified is unlikely.\n",
       "\n",
       "**Belief**: AI will enhance productivity to the point that a $100/month subscription fee would be justified for knowledge workers.\n",
       "\n",
       "**Explanation**: This hypothesis directly tests Aschenbrenner's claim that AI will provide enough value to justify a $100/month subscription fee by examining the current productivity gains of existing AI tools.\n",
       "\n",
       "**Potential Sources**:\n",
       "\n",
       "Surveys and studies on productivity gains from AI tools among knowledge workers  \n",
       "Case studies of companies implementing AI tools for knowledge work  \n",
       "Reports and articles on the impact of AI on productivity in various industries\n",
       "\n"
      ],
      "text/plain": [
       "<IPython.core.display.Markdown object>"
      ]
     },
     "metadata": {},
     "output_type": "display_data"
    },
    {
     "data": {
      "text/markdown": [
       "### Hypothesis 53\n",
       "\n",
       "**Hypothesis**: If the majority of knowledge workers are unwilling to pay a $100/month subscription fee for AI tools, even if they experience significant productivity gains, then the belief that AI can generate substantial revenue through such a subscription model is invalid.\n",
       "\n",
       "**Belief**: AI will enhance productivity to the point that a $100/month subscription fee would be justified for knowledge workers.\n",
       "\n",
       "**Explanation**: This hypothesis explores the market acceptance and willingness to pay for AI tools, a crucial factor in determining the revenue potential.\n",
       "\n",
       "**Potential Sources**:\n",
       "\n",
       "Market research studies on consumer willingness to pay for AI tools  \n",
       "Surveys and polls on the perceived value and affordability of AI tools among knowledge workers  \n",
       "Analysis of current subscription models for AI tools and their adoption rates\n",
       "\n"
      ],
      "text/plain": [
       "<IPython.core.display.Markdown object>"
      ]
     },
     "metadata": {},
     "output_type": "display_data"
    },
    {
     "data": {
      "text/markdown": [
       "### Hypothesis 54\n",
       "\n",
       "**Hypothesis**: If the development and deployment of AI tools that can provide consistent productivity gains equivalent to a few hours per month for knowledge workers face significant technological or logistical challenges, then the belief that such tools will be widely available and adopted within a reasonable timeframe is unlikely.\n",
       "\n",
       "**Belief**: AI will enhance productivity to the point that a $100/month subscription fee would be justified for knowledge workers.\n",
       "\n",
       "**Explanation**: This hypothesis examines the practical feasibility of developing and deploying AI tools that can meet Aschenbrenner's productivity claims.\n",
       "\n",
       "**Potential Sources**:\n",
       "\n",
       "Research papers and articles on the challenges and limitations of AI development and deployment  \n",
       "Expert interviews with AI researchers and developers  \n",
       "Reports on the current state of AI technology and its ability to automate specific tasks in knowledge work\n",
       "\n"
      ],
      "text/plain": [
       "<IPython.core.display.Markdown object>"
      ]
     },
     "metadata": {},
     "output_type": "display_data"
    },
    {
     "data": {
      "text/markdown": [
       "### Hypothesis 55\n",
       "\n",
       "**Hypothesis**: If the adoption of AI tools among knowledge workers leads to job displacement or significant changes in the labor market, then the belief that AI will generate substantial revenue without causing social and economic disruptions is questionable.\n",
       "\n",
       "**Belief**: AI will enhance productivity to the point that a $100/month subscription fee would be justified for knowledge workers.\n",
       "\n",
       "**Explanation**: This hypothesis explores the potential unintended consequences of AI adoption on the labor market and its impact on the overall economic landscape.\n",
       "\n",
       "**Potential Sources**:\n",
       "\n",
       "Economic studies on the impact of automation on employment  \n",
       "Reports and analyses on the future of work in the age of AI  \n",
       "Research on the ethical and societal implications of AI adoption\n",
       "\n"
      ],
      "text/plain": [
       "<IPython.core.display.Markdown object>"
      ]
     },
     "metadata": {},
     "output_type": "display_data"
    },
    {
     "data": {
      "text/markdown": [
       "### Hypothesis 56\n",
       "\n",
       "**Hypothesis**: If studies show that AI systems have not significantly increased productivity for knowledge workers in the past, then the belief that AI systems will increase the average knowledge worker's productivity by several hours per month is likely incorrect.\n",
       "\n",
       "**Belief**: The average knowledge worker will experience an increase in productivity of several hours per month due to the implementation of AI systems.\n",
       "\n",
       "**Explanation**: This hypothesis tests the assumption that past trends in AI development are indicative of future progress. If past AI deployments haven't yielded substantial productivity gains, it's less likely that future AI will dramatically change this trend.\n",
       "\n",
       "**Potential Sources**:\n",
       "\n",
       "Research papers on AI's impact on productivity  \n",
       "Case studies of AI implementations in knowledge-intensive industries  \n",
       "Data on worker productivity trends in industries with AI adoption\n",
       "\n"
      ],
      "text/plain": [
       "<IPython.core.display.Markdown object>"
      ]
     },
     "metadata": {},
     "output_type": "display_data"
    },
    {
     "data": {
      "text/markdown": [
       "### Hypothesis 57\n",
       "\n",
       "**Hypothesis**: If a significant portion of knowledge workers are resistant to adopting AI tools due to concerns about job displacement or perceived lack of user-friendliness, then the projected productivity gains from AI may not be realized.\n",
       "\n",
       "**Belief**: The average knowledge worker will experience an increase in productivity of several hours per month due to the implementation of AI systems.\n",
       "\n",
       "**Explanation**: Even if AI can theoretically enhance productivity, widespread adoption is necessary to achieve the projected gains. User acceptance and overcoming resistance are crucial factors.\n",
       "\n",
       "**Potential Sources**:\n",
       "\n",
       "Surveys on worker attitudes towards AI  \n",
       "Studies on AI adoption barriers in the workplace  \n",
       "Analysis of user feedback on AI tools in knowledge-intensive industries\n",
       "\n"
      ],
      "text/plain": [
       "<IPython.core.display.Markdown object>"
      ]
     },
     "metadata": {},
     "output_type": "display_data"
    },
    {
     "data": {
      "text/markdown": [
       "### Hypothesis 58\n",
       "\n",
       "**Hypothesis**: If AI systems are not able to effectively understand and respond to the nuances of human communication and collaboration, then they may not be able to significantly contribute to productivity in tasks that require complex human interaction.\n",
       "\n",
       "**Belief**: The average knowledge worker will experience an increase in productivity of several hours per month due to the implementation of AI systems.\n",
       "\n",
       "**Explanation**: This hypothesis focuses on the limitations of current AI systems in understanding the complexity of human communication and collaboration, which are essential for knowledge work.\n",
       "\n",
       "**Potential Sources**:\n",
       "\n",
       "Research papers on natural language processing and AI's ability to understand human communication  \n",
       "Studies on AI's performance in tasks requiring collaboration and social intelligence  \n",
       "Analysis of AI's ability to manage and understand context in complex work environments\n",
       "\n"
      ],
      "text/plain": [
       "<IPython.core.display.Markdown object>"
      ]
     },
     "metadata": {},
     "output_type": "display_data"
    },
    {
     "data": {
      "text/markdown": [
       "### Hypothesis 59\n",
       "\n",
       "**Hypothesis**: If the cost of developing and deploying powerful AI systems remains prohibitively high for most organizations, then the widespread adoption necessary for significant productivity gains is unlikely to occur.\n",
       "\n",
       "**Belief**: The average knowledge worker will experience an increase in productivity of several hours per month due to the implementation of AI systems.\n",
       "\n",
       "**Explanation**: The economic feasibility of AI implementation is a crucial factor in its adoption. If the costs outweigh the potential benefits, then widespread use and productivity gains may not materialize.\n",
       "\n",
       "**Potential Sources**:\n",
       "\n",
       "Market research on the cost of AI development and deployment  \n",
       "Financial analysis of AI projects in different industries  \n",
       "Studies on the return on investment from AI investments\n",
       "\n"
      ],
      "text/plain": [
       "<IPython.core.display.Markdown object>"
      ]
     },
     "metadata": {},
     "output_type": "display_data"
    },
    {
     "data": {
      "text/markdown": [
       "### Hypothesis 60\n",
       "\n",
       "**Hypothesis**: If the belief that a 10 GW data center is necessary for AGI emergence is unfounded, then the timeframe for achieving the projected productivity gains may be significantly delayed.\n",
       "\n",
       "**Belief**: The average knowledge worker will experience an increase in productivity of several hours per month due to the implementation of AI systems.\n",
       "\n",
       "**Explanation**: The 10 GW threshold for AGI emergence is a crucial part of the argument for rapid productivity gains. If this threshold is not reached or is not necessary for AGI, the timeline for realizing those gains may be extended.\n",
       "\n",
       "**Potential Sources**:\n",
       "\n",
       "Scientific publications on the link between computational capacity and AGI emergence  \n",
       "Expert opinions on the feasibility of the 10 GW threshold for AGI  \n",
       "Research on the development of AI systems with different computational power\n",
       "\n"
      ],
      "text/plain": [
       "<IPython.core.display.Markdown object>"
      ]
     },
     "metadata": {},
     "output_type": "display_data"
    },
    {
     "data": {
      "text/markdown": [
       "### Hypothesis 61\n",
       "\n",
       "**Hypothesis**: The current rate of progress in AI research will not be sufficient to achieve AGI with 10 GW data centers by 2027-2028.\n",
       "\n",
       "**Belief**: Artificial general intelligence (AGI) will be achieved with AI models trained on data centers with a capacity of 10 gigawatts (GW).\n",
       "\n",
       "**Explanation**: This hypothesis directly challenges Aschenbrenner's prediction by considering the feasibility of achieving AGI within the specified timeframe given the current pace of AI advancements. If the rate of progress is slower than expected, the belief becomes less plausible.\n",
       "\n",
       "**Potential Sources**:\n",
       "\n",
       "Research papers on AI advancements and breakthroughs  \n",
       "Expert opinions and predictions from leading AI researchers  \n",
       "Reports from AI research institutions like OpenAI and Google AI\n",
       "\n"
      ],
      "text/plain": [
       "<IPython.core.display.Markdown object>"
      ]
     },
     "metadata": {},
     "output_type": "display_data"
    },
    {
     "data": {
      "text/markdown": [
       "### Hypothesis 62\n",
       "\n",
       "**Hypothesis**: The computational power required for AGI will be significantly higher than 10 GW, making Aschenbrenner's estimate too low.\n",
       "\n",
       "**Belief**: Artificial general intelligence (AGI) will be achieved with AI models trained on data centers with a capacity of 10 gigawatts (GW).\n",
       "\n",
       "**Explanation**: This hypothesis focuses on the computational requirements for AGI. If research indicates a significantly higher power threshold is needed, it weakens the belief that 10 GW will be sufficient.\n",
       "\n",
       "**Potential Sources**:\n",
       "\n",
       "Research papers on computational requirements for AI systems  \n",
       "Theoretical models and estimates of AGI computational needs  \n",
       "Discussions and debates within the AI research community about computational scaling\n",
       "\n"
      ],
      "text/plain": [
       "<IPython.core.display.Markdown object>"
      ]
     },
     "metadata": {},
     "output_type": "display_data"
    },
    {
     "data": {
      "text/markdown": [
       "### Hypothesis 63\n",
       "\n",
       "**Hypothesis**: The development of AI systems with capabilities similar to those described by Aschenbrenner (e.g., agentic tasks, long-horizon planning) does not require a 10 GW data center.\n",
       "\n",
       "**Belief**: Artificial general intelligence (AGI) will be achieved with AI models trained on data centers with a capacity of 10 gigawatts (GW).\n",
       "\n",
       "**Explanation**: This hypothesis examines the specific capabilities Aschenbrenner attributes to AGI. If research shows that these capabilities can be achieved with significantly less computational power, it undermines the belief that 10 GW is necessary.\n",
       "\n",
       "**Potential Sources**:\n",
       "\n",
       "Research papers on AI capabilities and performance  \n",
       "Demonstrations and benchmarks of AI systems with similar capabilities  \n",
       "Expert opinions and analyses of AI capabilities and limitations\n",
       "\n"
      ],
      "text/plain": [
       "<IPython.core.display.Markdown object>"
      ]
     },
     "metadata": {},
     "output_type": "display_data"
    },
    {
     "data": {
      "text/markdown": [
       "### Hypothesis 64\n",
       "\n",
       "**Hypothesis**: The unhobbling process, as described by Aschenbrenner, is not a realistic or efficient path to achieving AGI.\n",
       "\n",
       "**Belief**: Artificial general intelligence (AGI) will be achieved with AI models trained on data centers with a capacity of 10 gigawatts (GW).\n",
       "\n",
       "**Explanation**: This hypothesis challenges the feasibility of Aschenbrenner's proposed unhobbling approach. If research suggests that unhobbling is not a viable path to AGI, it weakens the belief that 10 GW will lead to AGI.\n",
       "\n",
       "**Potential Sources**:\n",
       "\n",
       "Research on AI learning and reasoning processes  \n",
       "Discussions and debates on AI learning architectures and methodologies  \n",
       "Expert opinions on the challenges and limitations of unhobbling AI systems\n",
       "\n"
      ],
      "text/plain": [
       "<IPython.core.display.Markdown object>"
      ]
     },
     "metadata": {},
     "output_type": "display_data"
    },
    {
     "data": {
      "text/markdown": [
       "### Hypothesis 65\n",
       "\n",
       "**Hypothesis**: The timeline for achieving AGI is significantly longer than 2027-2028, making Aschenbrenner's prediction unrealistic.\n",
       "\n",
       "**Belief**: Artificial general intelligence (AGI) will be achieved with AI models trained on data centers with a capacity of 10 gigawatts (GW).\n",
       "\n",
       "**Explanation**: This hypothesis examines the general timeline for achieving AGI. If research suggests a much longer timeframe, it undermines the belief that AGI will be reached by the specified dates.\n",
       "\n",
       "**Potential Sources**:\n",
       "\n",
       "Research papers and projections on the timeframe for AGI  \n",
       "Expert opinions and predictions from leading AI researchers on the timeline for AGI  \n",
       "Reports from AI research institutions on the future of AI development\n",
       "\n"
      ],
      "text/plain": [
       "<IPython.core.display.Markdown object>"
      ]
     },
     "metadata": {},
     "output_type": "display_data"
    },
    {
     "data": {
      "text/markdown": [
       "### Hypothesis 66\n",
       "\n",
       "**Hypothesis**: AI models will demonstrate capabilities exceeding the average college graduate in standardized tests like the GRE or SAT by 2025-2026.\n",
       "\n",
       "**Belief**: AI models will reach a level of intelligence surpassing that of most college graduates by 2025-2026.\n",
       "\n",
       "**Explanation**: This hypothesis directly assesses the belief by focusing on quantifiable measures of intelligence typically associated with college-level understanding.\n",
       "\n",
       "**Potential Sources**:\n",
       "\n",
       "Research papers on AI performance on standardized tests  \n",
       "Benchmarking datasets and results for AI models  \n",
       "Reports from organizations specializing in AI development\n",
       "\n"
      ],
      "text/plain": [
       "<IPython.core.display.Markdown object>"
      ]
     },
     "metadata": {},
     "output_type": "display_data"
    },
    {
     "data": {
      "text/markdown": [
       "### Hypothesis 67\n",
       "\n",
       "**Hypothesis**: Significant advancements in AI model architecture and training techniques, such as the development of novel attention mechanisms or more efficient training algorithms, will enable substantial progress in AI capabilities by 2025-2026.\n",
       "\n",
       "**Belief**: AI models will reach a level of intelligence surpassing that of most college graduates by 2025-2026.\n",
       "\n",
       "**Explanation**: This hypothesis explores the potential for technological breakthroughs that could accelerate the development of AI systems beyond their current capabilities.\n",
       "\n",
       "**Potential Sources**:\n",
       "\n",
       "Research papers on AI model architectures and training techniques  \n",
       "Publications from leading AI research labs  \n",
       "Conferences and workshops on artificial intelligence\n",
       "\n"
      ],
      "text/plain": [
       "<IPython.core.display.Markdown object>"
      ]
     },
     "metadata": {},
     "output_type": "display_data"
    },
    {
     "data": {
      "text/markdown": [
       "### Hypothesis 68\n",
       "\n",
       "**Hypothesis**: The availability of large, publicly accessible datasets that capture complex human interactions, such as transcripts of meetings or collaborative projects, will significantly contribute to the development of AI models with agentic capabilities by 2025-2026.\n",
       "\n",
       "**Belief**: AI models will reach a level of intelligence surpassing that of most college graduates by 2025-2026.\n",
       "\n",
       "**Explanation**: This hypothesis focuses on the importance of training data and its impact on the development of AI models that can engage in complex, collaborative tasks.\n",
       "\n",
       "**Potential Sources**:\n",
       "\n",
       "Data repositories for natural language processing and AI research  \n",
       "Research papers on the use of large-scale datasets in AI training  \n",
       "Industry reports on the availability of data for AI development\n",
       "\n"
      ],
      "text/plain": [
       "<IPython.core.display.Markdown object>"
      ]
     },
     "metadata": {},
     "output_type": "display_data"
    },
    {
     "data": {
      "text/markdown": [
       "### Hypothesis 69\n",
       "\n",
       "**Hypothesis**: The adoption rate of AI models in specific professions, such as software engineering or data analysis, will not reach a significant level by 2025-2026 due to the complexity of integrating AI into existing workflows and the lack of sufficient training and support for human users.\n",
       "\n",
       "**Belief**: AI models will reach a level of intelligence surpassing that of most college graduates by 2025-2026.\n",
       "\n",
       "**Explanation**: This hypothesis challenges the belief by highlighting the practical challenges of integrating AI into real-world applications and the potential for resistance from human users.\n",
       "\n",
       "**Potential Sources**:\n",
       "\n",
       "Industry reports on AI adoption in specific professions  \n",
       "Case studies on successful AI implementation in businesses  \n",
       "Surveys and interviews with professionals using AI tools\n",
       "\n"
      ],
      "text/plain": [
       "<IPython.core.display.Markdown object>"
      ]
     },
     "metadata": {},
     "output_type": "display_data"
    },
    {
     "data": {
      "text/markdown": [
       "### Hypothesis 70\n",
       "\n",
       "**Hypothesis**: While AI models might demonstrate cognitive abilities exceeding the average college graduate in specific areas, such as information retrieval or data analysis, they will still lack the broader understanding and reasoning skills necessary for complex problem-solving and decision-making, which are essential for tasks requiring true intellectual versatility.\n",
       "\n",
       "**Belief**: AI models will reach a level of intelligence surpassing that of most college graduates by 2025-2026.\n",
       "\n",
       "**Explanation**: This hypothesis explores the limitations of current AI models and suggests that their cognitive capabilities might be limited to specific domains and lack the flexibility and adaptability required for more general intelligence.\n",
       "\n",
       "**Potential Sources**:\n",
       "\n",
       "Research papers on the limitations of current AI models  \n",
       "Discussions on the nature of intelligence and its components  \n",
       "Philosophical perspectives on artificial intelligence and consciousness\n",
       "\n"
      ],
      "text/plain": [
       "<IPython.core.display.Markdown object>"
      ]
     },
     "metadata": {},
     "output_type": "display_data"
    },
    {
     "data": {
      "text/markdown": [
       "### Hypothesis 71\n",
       "\n",
       "**Hypothesis**: AI models will achieve human-level intelligence, specifically exceeding the capabilities of most college graduates by 2025-2026, and reaching the intelligence level of the smartest experts by 2027-2028, as predicted.\n",
       "\n",
       "**Belief**: AI models currently possess limited capabilities despite being intelligent, requiring \"unhobbling\" to unleash their full potential.\n",
       "\n",
       "**Explanation**: This hypothesis directly tests the timeline and predictions made by Leopold Aschenbrenner regarding the development of AI capabilities. It specifically focuses on the predicted timeframe and the specific levels of intelligence the models are expected to reach.\n",
       "\n",
       "**Potential Sources**:\n",
       "\n",
       "Academic papers on AI progress and benchmarks  \n",
       "Industry reports on AI advancements  \n",
       "Expert opinions from leading AI researchers  \n",
       "Data on AI model performance on standardized intelligence tests\n",
       "\n"
      ],
      "text/plain": [
       "<IPython.core.display.Markdown object>"
      ]
     },
     "metadata": {},
     "output_type": "display_data"
    },
    {
     "data": {
      "text/markdown": [
       "### Hypothesis 72\n",
       "\n",
       "**Hypothesis**: The concept of 'unhobbling' AI models by addressing test-time compute limitations will significantly accelerate AI progress, allowing for the development of more agentic and sophisticated AI systems in the near future.\n",
       "\n",
       "**Belief**: AI models currently possess limited capabilities despite being intelligent, requiring \"unhobbling\" to unleash their full potential.\n",
       "\n",
       "**Explanation**: This hypothesis examines the validity of Aschenbrenner's argument that addressing test-time compute limitations is key to unlocking the full potential of AI models. It focuses on the impact of this technological development on the speed and direction of AI advancement.\n",
       "\n",
       "**Potential Sources**:\n",
       "\n",
       "Research papers on test-time compute and its impact on AI performance  \n",
       "Analysis of recent advancements in AI model architecture and training methods  \n",
       "Expert opinions on the future of test-time compute in AI\n",
       "\n"
      ],
      "text/plain": [
       "<IPython.core.display.Markdown object>"
      ]
     },
     "metadata": {},
     "output_type": "display_data"
    },
    {
     "data": {
      "text/markdown": [
       "### Hypothesis 73\n",
       "\n",
       "**Hypothesis**: The development of AI systems capable of engaging in complex, multi-step tasks like writing code, debugging, and collaborating on projects will be significantly hindered by the lack of readily available training data for these specific tasks.\n",
       "\n",
       "**Belief**: AI models currently possess limited capabilities despite being intelligent, requiring \"unhobbling\" to unleash their full potential.\n",
       "\n",
       "**Explanation**: This hypothesis addresses the concern raised by Dwarkesh Patel regarding the availability of training data for AI models to develop the capabilities of interacting as a coworker or engaging in complex tasks beyond basic question-answering. It explores the impact of data limitations on AI development.\n",
       "\n",
       "**Potential Sources**:\n",
       "\n",
       "Studies on AI training data requirements for specific tasks  \n",
       "Research on data augmentation techniques for AI training  \n",
       "Expert opinions on the challenges of generating sufficient training data for complex AI tasks\n",
       "\n"
      ],
      "text/plain": [
       "<IPython.core.display.Markdown object>"
      ]
     },
     "metadata": {},
     "output_type": "display_data"
    },
    {
     "data": {
      "text/markdown": [
       "### Hypothesis 74\n",
       "\n",
       "**Hypothesis**: The development of AI models with System 2 thinking capabilities will require significant advancements in AI architecture and learning algorithms, making it a more complex and time-consuming challenge than simply scaling up existing models.\n",
       "\n",
       "**Belief**: AI models currently possess limited capabilities despite being intelligent, requiring \"unhobbling\" to unleash their full potential.\n",
       "\n",
       "**Explanation**: This hypothesis explores the feasibility of developing AI models with System 2 thinking capabilities, as proposed by Aschenbrenner. It examines the potential challenges and limitations involved in achieving this level of cognitive complexity.\n",
       "\n",
       "**Potential Sources**:\n",
       "\n",
       "Research papers on the development of System 2 thinking in AI models  \n",
       "Expert opinions on the feasibility of replicating human-like cognitive processes in AI  \n",
       "Analysis of current limitations in AI models regarding planning, reasoning, and error correction\n",
       "\n"
      ],
      "text/plain": [
       "<IPython.core.display.Markdown object>"
      ]
     },
     "metadata": {},
     "output_type": "display_data"
    },
    {
     "data": {
      "text/markdown": [
       "### Hypothesis 75\n",
       "\n",
       "**Hypothesis**: The economic impact of AI advancements, particularly in terms of replacing human workers, will be significant and widespread, requiring substantial changes in employment structures and social safety nets.\n",
       "\n",
       "**Belief**: AI models currently possess limited capabilities despite being intelligent, requiring \"unhobbling\" to unleash their full potential.\n",
       "\n",
       "**Explanation**: This hypothesis explores the potential economic consequences of the AI advancements described by Aschenbrenner, specifically the potential displacement of human workers and the need for societal adaptations to these changes.\n",
       "\n",
       "**Potential Sources**:\n",
       "\n",
       "Economic studies on the impact of automation on employment  \n",
       "Reports on the future of work in the age of AI  \n",
       "Policy analysis on potential social safety nets and retraining programs for displaced workers\n",
       "\n"
      ],
      "text/plain": [
       "<IPython.core.display.Markdown object>"
      ]
     },
     "metadata": {},
     "output_type": "display_data"
    },
    {
     "data": {
      "text/markdown": [
       "### Hypothesis 76\n",
       "\n",
       "**Hypothesis**: The rate of progress in AI model development, particularly in the areas of understanding context, long-term planning, and error correction, will significantly accelerate in the next few years, leading to models capable of performing complex tasks autonomously.\n",
       "\n",
       "**Belief**: AI models will become comparable in intelligence to the smartest experts by 2027-2028, transitioning from chatbots to agents capable of independent tasks.\n",
       "\n",
       "**Explanation**: Aschenbrenner's belief hinges on the assumption that AI models will become significantly more capable in their ability to understand complex tasks, plan actions, and correct errors. This hypothesis investigates whether current trends in AI development support this assumption.\n",
       "\n",
       "**Potential Sources**:\n",
       "\n",
       "Research papers on AI advancements  \n",
       "Industry reports on AI progress  \n",
       "Articles and discussions on AI capabilities\n",
       "\n"
      ],
      "text/plain": [
       "<IPython.core.display.Markdown object>"
      ]
     },
     "metadata": {},
     "output_type": "display_data"
    },
    {
     "data": {
      "text/markdown": [
       "### Hypothesis 77\n",
       "\n",
       "**Hypothesis**: The integration of AI systems into real-world workflows will be more readily achievable by 2027-2028 due to advancements in user interfaces and AI model capabilities, allowing for seamless collaboration between humans and AI.\n",
       "\n",
       "**Belief**: AI models will become comparable in intelligence to the smartest experts by 2027-2028, transitioning from chatbots to agents capable of independent tasks.\n",
       "\n",
       "**Explanation**: Aschenbrenner suggests that the integration of AI systems will be easier with more advanced models. This hypothesis focuses on the evolving user interfaces and AI capabilities that may facilitate this integration.\n",
       "\n",
       "**Potential Sources**:\n",
       "\n",
       "Research on human-computer interaction and AI interfaces  \n",
       "Industry trends in AI integration in various sectors  \n",
       "Case studies of successful AI deployment in businesses\n",
       "\n"
      ],
      "text/plain": [
       "<IPython.core.display.Markdown object>"
      ]
     },
     "metadata": {},
     "output_type": "display_data"
    },
    {
     "data": {
      "text/markdown": [
       "### Hypothesis 78\n",
       "\n",
       "**Hypothesis**: The economic benefits of AI systems in various industries will be significantly higher by 2027-2028, driven by the increased capabilities of AI models, leading to significant labor market shifts and increased automation.\n",
       "\n",
       "**Belief**: AI models will become comparable in intelligence to the smartest experts by 2027-2028, transitioning from chatbots to agents capable of independent tasks.\n",
       "\n",
       "**Explanation**: Aschenbrenner's belief implies a significant economic impact of advanced AI systems. This hypothesis examines whether the economic benefits of AI are likely to materialize at the predicted scale by 2027-2028.\n",
       "\n",
       "**Potential Sources**:\n",
       "\n",
       "Economic studies on the impact of AI on different industries  \n",
       "Reports on AI-related job creation and displacement  \n",
       "Analysis of AI investment trends and market growth\n",
       "\n"
      ],
      "text/plain": [
       "<IPython.core.display.Markdown object>"
      ]
     },
     "metadata": {},
     "output_type": "display_data"
    },
    {
     "data": {
      "text/markdown": [
       "### Hypothesis 79\n",
       "\n",
       "**Hypothesis**: The current limitations of AI models, such as difficulty in understanding complex context and performing long-term planning, will be overcome within the next few years, enabling them to function as agents capable of independent tasks.\n",
       "\n",
       "**Belief**: AI models will become comparable in intelligence to the smartest experts by 2027-2028, transitioning from chatbots to agents capable of independent tasks.\n",
       "\n",
       "**Explanation**: This hypothesis directly tests Aschenbrenner's claim that AI models will overcome their current limitations and achieve a level of autonomy that resembles human agents. It examines the feasibility of addressing these limitations in the near future.\n",
       "\n",
       "**Potential Sources**:\n",
       "\n",
       "Research papers on AI limitations and solutions  \n",
       "Discussions on current AI challenges and future advancements  \n",
       "Experts' opinions on the future trajectory of AI capabilities\n",
       "\n"
      ],
      "text/plain": [
       "<IPython.core.display.Markdown object>"
      ]
     },
     "metadata": {},
     "output_type": "display_data"
    },
    {
     "data": {
      "text/markdown": [
       "### Hypothesis 80\n",
       "\n",
       "**Hypothesis**: The integration of intermediate AI systems into existing workflows will require significant time and resources, slowing down the adoption of AI in various sectors.\n",
       "\n",
       "**Belief**: Intermediate AI systems, while potentially useful, require significant effort to integrate into existing workflows.\n",
       "\n",
       "**Explanation**: This hypothesis focuses on the practical difficulties associated with integrating AI into existing workflows. If it is true, it supports Aschenbrenner's belief that intermediate AI systems, while potentially useful, require considerable effort to integrate.\n",
       "\n",
       "**Potential Sources**:\n",
       "\n",
       "Case studies on AI adoption in different industries  \n",
       "Reports on the challenges of AI integration  \n",
       "Interviews with industry experts on AI implementation\n",
       "\n"
      ],
      "text/plain": [
       "<IPython.core.display.Markdown object>"
      ]
     },
     "metadata": {},
     "output_type": "display_data"
    },
    {
     "data": {
      "text/markdown": [
       "### Hypothesis 81\n",
       "\n",
       "**Hypothesis**: The development of more powerful and capable AI systems will occur at a faster pace than businesses can adapt and integrate them into their operations, leading to a period of disruptive change.\n",
       "\n",
       "**Belief**: Intermediate AI systems, while potentially useful, require significant effort to integrate into existing workflows.\n",
       "\n",
       "**Explanation**: This hypothesis explores the possibility of a mismatch between AI advancements and the ability of organizations to adapt. If true, it further supports Aschenbrenner's view that the current focus on intermediate AI systems might be overshadowed by rapid progress towards more powerful AI agents.\n",
       "\n",
       "**Potential Sources**:\n",
       "\n",
       "Predictions and forecasts for AI development  \n",
       "Research on the rate of technological innovation in AI  \n",
       "Analysis of historical trends in technology adoption\n",
       "\n"
      ],
      "text/plain": [
       "<IPython.core.display.Markdown object>"
      ]
     },
     "metadata": {},
     "output_type": "display_data"
    },
    {
     "data": {
      "text/markdown": [
       "### Hypothesis 82\n",
       "\n",
       "**Hypothesis**: The current AI systems, while capable in specific tasks, lack the general cognitive abilities and adaptability to effectively handle complex and evolving real-world scenarios, creating a need for further development and integration.\n",
       "\n",
       "**Belief**: Intermediate AI systems, while potentially useful, require significant effort to integrate into existing workflows.\n",
       "\n",
       "**Explanation**: This hypothesis addresses the limitations of current AI systems. If true, it suggests that the integration challenges Aschenbrenner highlights stem from the inherent limitations of existing AI technologies rather than being solely a matter of organizational adaptation.\n",
       "\n",
       "**Potential Sources**:\n",
       "\n",
       "Research papers on the capabilities and limitations of current AI models  \n",
       "Discussions and analyses of AI capabilities in different domains  \n",
       "Expert opinions on the future direction of AI research and development\n",
       "\n"
      ],
      "text/plain": [
       "<IPython.core.display.Markdown object>"
      ]
     },
     "metadata": {},
     "output_type": "display_data"
    },
    {
     "data": {
      "text/markdown": [
       "### Hypothesis 83\n",
       "\n",
       "**Hypothesis**: AI systems will demonstrate significant progress in agentic capabilities, surpassing the current limitations of chatbots and becoming capable of complex, multi-step tasks in the next few years.\n",
       "\n",
       "**Belief**: More powerful, unhobbled AI systems will emerge before businesses complete the necessary adjustments for integration.\n",
       "\n",
       "**Explanation**: This hypothesis directly addresses the belief that more powerful AI systems will emerge before businesses can fully integrate current systems. If AI systems rapidly become capable of independent problem-solving, planning, and execution, then the argument for waiting for integration becomes less compelling.\n",
       "\n",
       "**Potential Sources**:\n",
       "\n",
       "Research papers on AI advancements in areas such as planning, reasoning, and decision-making  \n",
       "Benchmarks and evaluations of AI models in complex tasks such as code generation, scientific writing, or project management  \n",
       "Industry reports and analyses on the pace of AI development and deployment in various sectors\n",
       "\n"
      ],
      "text/plain": [
       "<IPython.core.display.Markdown object>"
      ]
     },
     "metadata": {},
     "output_type": "display_data"
    },
    {
     "data": {
      "text/markdown": [
       "### Hypothesis 84\n",
       "\n",
       "**Hypothesis**: The integration of AI systems into existing workflows will be significantly hindered by the lack of standardized interfaces, data compatibility issues, and the need for substantial organizational change.\n",
       "\n",
       "**Belief**: More powerful, unhobbled AI systems will emerge before businesses complete the necessary adjustments for integration.\n",
       "\n",
       "**Explanation**: This hypothesis challenges the notion that businesses can easily adapt to new AI systems. If integration proves difficult and time-consuming, it supports the belief that more powerful AI systems could emerge before existing systems are fully utilized.\n",
       "\n",
       "**Potential Sources**:\n",
       "\n",
       "Case studies of businesses adopting AI in different sectors  \n",
       "Research on organizational change management and technology adoption  \n",
       "Expert opinions on the challenges of AI integration in the workplace\n",
       "\n"
      ],
      "text/plain": [
       "<IPython.core.display.Markdown object>"
      ]
     },
     "metadata": {},
     "output_type": "display_data"
    },
    {
     "data": {
      "text/markdown": [
       "### Hypothesis 85\n",
       "\n",
       "**Hypothesis**: The development of AI systems that can successfully perform tasks requiring System 2 thinking will be significantly faster than previously predicted, due to breakthroughs in training data, algorithms, or computational resources.\n",
       "\n",
       "**Belief**: More powerful, unhobbled AI systems will emerge before businesses complete the necessary adjustments for integration.\n",
       "\n",
       "**Explanation**: This hypothesis directly examines the speed of advancements in AI capabilities. If breakthroughs allow for the rapid development of System 2 thinking in AI, it strengthens the belief that more powerful systems will emerge before integration is complete.\n",
       "\n",
       "**Potential Sources**:\n",
       "\n",
       "Research papers on AI advancements in areas like cognitive architecture, reasoning, and planning  \n",
       "Technical reports on new algorithms and training methods for AI models  \n",
       "Predictions from AI researchers and experts on the timeline for achieving human-level intelligence\n",
       "\n"
      ],
      "text/plain": [
       "<IPython.core.display.Markdown object>"
      ]
     },
     "metadata": {},
     "output_type": "display_data"
    },
    {
     "data": {
      "text/markdown": [
       "### Hypothesis 86\n",
       "\n",
       "**Hypothesis**: The economic value proposition of AI systems will be significant enough to motivate businesses to rapidly adapt their workflows and integrate AI systems, regardless of the challenges involved.\n",
       "\n",
       "**Belief**: More powerful, unhobbled AI systems will emerge before businesses complete the necessary adjustments for integration.\n",
       "\n",
       "**Explanation**: This hypothesis explores the potential economic drivers of AI integration. If the potential economic benefits of AI are compelling enough, it could accelerate the adoption process and counter the belief that more powerful systems will emerge before integration is complete.\n",
       "\n",
       "**Potential Sources**:\n",
       "\n",
       "Economic studies on the impact of AI on different industries  \n",
       "Business case studies of AI implementations and their return on investment  \n",
       "Market research on the growth of AI adoption in various sectors\n",
       "\n"
      ],
      "text/plain": [
       "<IPython.core.display.Markdown object>"
      ]
     },
     "metadata": {},
     "output_type": "display_data"
    },
    {
     "data": {
      "text/markdown": [
       "### Hypothesis 87\n",
       "\n",
       "**Hypothesis**: The development of AI systems with high levels of reliability and trustworthiness will be crucial for widespread adoption and integration, and these qualities may take longer to achieve than anticipated.\n",
       "\n",
       "**Belief**: More powerful, unhobbled AI systems will emerge before businesses complete the necessary adjustments for integration.\n",
       "\n",
       "**Explanation**: This hypothesis considers the ethical and practical implications of AI integration. If there are concerns about the reliability or trustworthiness of AI systems, it could slow down the integration process, potentially supporting the belief that more powerful systems will emerge before current ones are fully adopted.\n",
       "\n",
       "**Potential Sources**:\n",
       "\n",
       "Ethical frameworks and guidelines for AI development and deployment  \n",
       "Research on AI safety and security  \n",
       "Public opinion surveys on the trust and acceptance of AI technologies\n",
       "\n"
      ],
      "text/plain": [
       "<IPython.core.display.Markdown object>"
      ]
     },
     "metadata": {},
     "output_type": "display_data"
    },
    {
     "data": {
      "text/markdown": [
       "### Hypothesis 88\n",
       "\n",
       "**Hypothesis**: The ease of AI integration is not solely dependent on exceeding current capabilities but can be achieved through incremental improvements and optimization of current AI systems.\n",
       "\n",
       "**Belief**: Unhobbled AI systems will function as agents, facilitating seamless integration through interactions resembling those with coworkers.\n",
       "\n",
       "**Explanation**: This hypothesis directly challenges the belief that 'overkill' in AI capabilities is necessary for seamless integration. It suggests that optimizing existing AI systems for specific tasks and improving user interfaces could facilitate effective integration without requiring a significant leap in AI capabilities.\n",
       "\n",
       "**Potential Sources**:\n",
       "\n",
       "Research papers on AI system optimization  \n",
       "Case studies on successful AI integration in specific industries  \n",
       "Expert opinions on the role of user experience in AI adoption\n",
       "\n"
      ],
      "text/plain": [
       "<IPython.core.display.Markdown object>"
      ]
     },
     "metadata": {},
     "output_type": "display_data"
    },
    {
     "data": {
      "text/markdown": [
       "### Hypothesis 89\n",
       "\n",
       "**Hypothesis**: The development of advanced AI systems capable of agentic behavior and seamless integration will be constrained by the availability and quality of training data for specific tasks such as collaborative problem-solving and communication.\n",
       "\n",
       "**Belief**: Unhobbled AI systems will function as agents, facilitating seamless integration through interactions resembling those with coworkers.\n",
       "\n",
       "**Explanation**: This hypothesis explores the limitations of current AI systems due to the lack of sufficient training data for complex tasks like collaborating with humans.  It suggests that the development of more advanced AI systems may be hindered until more comprehensive and relevant training datasets are available.\n",
       "\n",
       "**Potential Sources**:\n",
       "\n",
       "Research on AI training data requirements  \n",
       "Studies on the impact of data quality on AI performance  \n",
       "Expert opinions on the future of AI training data\n",
       "\n"
      ],
      "text/plain": [
       "<IPython.core.display.Markdown object>"
      ]
     },
     "metadata": {},
     "output_type": "display_data"
    },
    {
     "data": {
      "text/markdown": [
       "### Hypothesis 90\n",
       "\n",
       "**Hypothesis**: The transition to AI-powered agents will be gradual, with intermediate AI systems playing a significant role in preparing users and organizations for the full integration of more advanced AI systems.\n",
       "\n",
       "**Belief**: Unhobbled AI systems will function as agents, facilitating seamless integration through interactions resembling those with coworkers.\n",
       "\n",
       "**Explanation**: This hypothesis acknowledges the potential for intermediate AI systems to bridge the gap between current AI capabilities and the envisioned 'drop-in remote worker' scenario. It suggests that gradual adoption and adaptation through intermediate AI systems could facilitate a smoother transition to more advanced AI agents.\n",
       "\n",
       "**Potential Sources**:\n",
       "\n",
       "Case studies of organizations using intermediate AI systems  \n",
       "Expert opinions on the benefits of phased AI adoption  \n",
       "Research on the impact of AI on organizational workflows\n",
       "\n"
      ],
      "text/plain": [
       "<IPython.core.display.Markdown object>"
      ]
     },
     "metadata": {},
     "output_type": "display_data"
    },
    {
     "data": {
      "text/markdown": [
       "### Hypothesis 91\n",
       "\n",
       "**Hypothesis**: The development of AI systems capable of 'System 2' thinking will require significant advancements in AI architecture and training methods, making it a more challenging and time-consuming process than anticipated.\n",
       "\n",
       "**Belief**: Unhobbled AI systems will function as agents, facilitating seamless integration through interactions resembling those with coworkers.\n",
       "\n",
       "**Explanation**: This hypothesis challenges the belief that unlocking 'System 2' thinking in AI will be an easy win. It suggests that achieving this level of cognitive ability might require breakthroughs in AI development, potentially delaying the emergence of highly integrated AI agents.\n",
       "\n",
       "**Potential Sources**:\n",
       "\n",
       "Research papers on AI architecture and training methods  \n",
       "Expert opinions on the challenges of developing 'System 2' AI  \n",
       "Studies on the evolution of cognitive abilities in animals and humans\n",
       "\n"
      ],
      "text/plain": [
       "<IPython.core.display.Markdown object>"
      ]
     },
     "metadata": {},
     "output_type": "display_data"
    },
    {
     "data": {
      "text/markdown": [
       "### Hypothesis 92\n",
       "\n",
       "**Hypothesis**: The economic value of AI agents will be contingent on their ability to perform tasks beyond current AI capabilities, demonstrating significant improvements in efficiency, productivity, and problem-solving abilities.\n",
       "\n",
       "**Belief**: Unhobbled AI systems will function as agents, facilitating seamless integration through interactions resembling those with coworkers.\n",
       "\n",
       "**Explanation**: This hypothesis focuses on the economic viability of AI agents. It proposes that their value will depend on their ability to deliver tangible benefits beyond current AI systems, justifying the investment required for their development and adoption.\n",
       "\n",
       "**Potential Sources**:\n",
       "\n",
       "Economic analyses of AI adoption  \n",
       "Case studies of organizations using AI for productivity gains  \n",
       "Expert opinions on the future economic impact of AI\n",
       "\n"
      ],
      "text/plain": [
       "<IPython.core.display.Markdown object>"
      ]
     },
     "metadata": {},
     "output_type": "display_data"
    },
    {
     "data": {
      "text/markdown": [
       "### Hypothesis 93\n",
       "\n",
       "**Hypothesis**: If the development of AI capable of automating cognitive tasks, such as those performed by software engineers, is significantly delayed beyond the timeframe predicted by Aschenbrenner, then the belief that overkill in model capabilities is necessary to overcome integration challenges is less likely to be validated.\n",
       "\n",
       "**Belief**: Overkill in model capabilities is necessary to overcome the challenges of integration and realize the full potential of AI.\n",
       "\n",
       "**Explanation**: The hypothesis focuses on the timeframe for AI development, which directly relates to the belief that overkill in capabilities is needed for seamless integration. If AGI development lags, it suggests that current AI capabilities might suffice for integration without requiring significant overkill.\n",
       "\n",
       "**Potential Sources**:\n",
       "\n",
       "Published research on AI development timelines  \n",
       "Expert opinions and predictions on AI advancements  \n",
       "Reports from leading AI research labs\n",
       "\n"
      ],
      "text/plain": [
       "<IPython.core.display.Markdown object>"
      ]
     },
     "metadata": {},
     "output_type": "display_data"
    },
    {
     "data": {
      "text/markdown": [
       "### Hypothesis 94\n",
       "\n",
       "**Hypothesis**: If the rate of adoption of AI systems in industries is slow, even with advanced capabilities, then the belief that overkill is necessary for successful integration is less likely to be true.\n",
       "\n",
       "**Belief**: Overkill in model capabilities is necessary to overcome the challenges of integration and realize the full potential of AI.\n",
       "\n",
       "**Explanation**: This hypothesis examines the adoption rate of AI systems, a crucial factor in determining the impact of overkill. If adoption is slow despite advanced capabilities, it suggests that factors beyond capability, like workflow changes or resistance to automation, are more significant for successful integration.\n",
       "\n",
       "**Potential Sources**:\n",
       "\n",
       "Industry reports on AI adoption rates  \n",
       "Surveys of businesses using AI technologies  \n",
       "Case studies on successful and unsuccessful AI implementations\n",
       "\n"
      ],
      "text/plain": [
       "<IPython.core.display.Markdown object>"
      ]
     },
     "metadata": {},
     "output_type": "display_data"
    },
    {
     "data": {
      "text/markdown": [
       "### Hypothesis 95\n",
       "\n",
       "**Hypothesis**: If existing AI systems demonstrate a significant level of integration within specific domains, even without exceeding current capabilities, then the belief that overkill is essential for integration might be challenged.\n",
       "\n",
       "**Belief**: Overkill in model capabilities is necessary to overcome the challenges of integration and realize the full potential of AI.\n",
       "\n",
       "**Explanation**: This hypothesis focuses on existing AI systems and their ability to integrate within specific industries. If successful integration is achieved without exceeding current capabilities, it suggests that the concept of overkill might not be necessary for effective implementation.\n",
       "\n",
       "**Potential Sources**:\n",
       "\n",
       "Case studies on AI implementations in various industries  \n",
       "Analysis of AI-driven automation success stories  \n",
       "Expert opinions on the integration of AI in specific domains\n",
       "\n"
      ],
      "text/plain": [
       "<IPython.core.display.Markdown object>"
      ]
     },
     "metadata": {},
     "output_type": "display_data"
    },
    {
     "data": {
      "text/markdown": [
       "### Hypothesis 96\n",
       "\n",
       "**Hypothesis**: If ethical concerns and societal resistance to AI automation become major obstacles, then the belief that overkill is necessary for integration becomes less relevant.\n",
       "\n",
       "**Belief**: Overkill in model capabilities is necessary to overcome the challenges of integration and realize the full potential of AI.\n",
       "\n",
       "**Explanation**: This hypothesis explores the ethical implications and societal impact of AI automation. If concerns about job displacement or AI bias outweigh the benefits, it suggests that the focus on overkill might be less relevant, as the emphasis shifts towards addressing these concerns.\n",
       "\n",
       "**Potential Sources**:\n",
       "\n",
       "Research on the ethical implications of AI  \n",
       "Public opinion surveys on AI automation  \n",
       "Discussions on AI regulations and ethical guidelines\n",
       "\n"
      ],
      "text/plain": [
       "<IPython.core.display.Markdown object>"
      ]
     },
     "metadata": {},
     "output_type": "display_data"
    },
    {
     "data": {
      "text/markdown": [
       "### Hypothesis 97\n",
       "\n",
       "**Hypothesis**: AI models will be able to learn and adapt to changing contexts and tasks, demonstrating proficiency in handling dynamic projects and collaborating with human users.\n",
       "\n",
       "**Belief**: Artificial general intelligence (AGI) will be able to automate cognitive tasks, effectively replacing human workers in some fields.\n",
       "\n",
       "**Explanation**: This hypothesis tests the core of Aschenbrenner's prediction. If AI models can adapt to evolving projects and learn from user feedback, it strengthens the belief that they can eventually replace human workers in some fields.\n",
       "\n",
       "**Potential Sources**:\n",
       "\n",
       "Research papers on AI's ability to learn and adapt  \n",
       "Case studies of AI systems used in collaborative tasks  \n",
       "Reports on AI's performance in dynamic environments\n",
       "\n"
      ],
      "text/plain": [
       "<IPython.core.display.Markdown object>"
      ]
     },
     "metadata": {},
     "output_type": "display_data"
    },
    {
     "data": {
      "text/markdown": [
       "### Hypothesis 98\n",
       "\n",
       "**Hypothesis**: The availability of training data for AI models will be sufficient to enable them to understand and respond appropriately to complex, real-world situations, such as those involving human communication and collaboration.\n",
       "\n",
       "**Belief**: Artificial general intelligence (AGI) will be able to automate cognitive tasks, effectively replacing human workers in some fields.\n",
       "\n",
       "**Explanation**: This hypothesis addresses the crucial need for data to train AI models for complex tasks like working on projects and interacting with users. If such data is lacking or insufficient, Aschenbrenner's prediction might be premature.\n",
       "\n",
       "**Potential Sources**:\n",
       "\n",
       "Analyses of the availability of training data for AI  \n",
       "Studies on the quality and quantity of data required for complex AI tasks  \n",
       "Discussions on the ethical implications of AI training data\n",
       "\n"
      ],
      "text/plain": [
       "<IPython.core.display.Markdown object>"
      ]
     },
     "metadata": {},
     "output_type": "display_data"
    },
    {
     "data": {
      "text/markdown": [
       "### Hypothesis 99\n",
       "\n",
       "**Hypothesis**: AI models will be able to perform software engineering tasks at a level of competence and efficiency that rivals or surpasses human software engineers.\n",
       "\n",
       "**Belief**: Artificial general intelligence (AGI) will be able to automate cognitive tasks, effectively replacing human workers in some fields.\n",
       "\n",
       "**Explanation**: This hypothesis focuses on the specific area where Aschenbrenner predicts AI will replace human workers. Evaluating AI's performance in software engineering tasks directly tests the validity of his prediction.\n",
       "\n",
       "**Potential Sources**:\n",
       "\n",
       "Benchmarks comparing AI software engineering tools to human performance  \n",
       "Expert opinions on the current state of AI in software development  \n",
       "Research papers on AI-powered software engineering solutions\n",
       "\n"
      ],
      "text/plain": [
       "<IPython.core.display.Markdown object>"
      ]
     },
     "metadata": {},
     "output_type": "display_data"
    },
    {
     "data": {
      "text/markdown": [
       "### Hypothesis 100\n",
       "\n",
       "**Hypothesis**: The integration of AI models into existing work environments will be seamless and readily adopted by human workers, minimizing resistance and facilitating a smooth transition to AI-powered workflows.\n",
       "\n",
       "**Belief**: Artificial general intelligence (AGI) will be able to automate cognitive tasks, effectively replacing human workers in some fields.\n",
       "\n",
       "**Explanation**: This hypothesis considers the practical implementation of AI in workplaces. If AI integration is difficult or resisted by human workers, the impact of AI on employment may be less significant than Aschenbrenner suggests.\n",
       "\n",
       "**Potential Sources**:\n",
       "\n",
       "Case studies of AI implementation in workplaces  \n",
       "Surveys on employee attitudes towards AI  \n",
       "Analyses of the challenges and opportunities of AI integration\n",
       "\n"
      ],
      "text/plain": [
       "<IPython.core.display.Markdown object>"
      ]
     },
     "metadata": {},
     "output_type": "display_data"
    },
    {
     "data": {
      "text/markdown": [
       "### Hypothesis 101\n",
       "\n",
       "**Hypothesis**: AI models will exhibit emergent behaviors and capabilities beyond those predicted based on their training data, potentially surpassing current expectations and accelerating the pace of AI development.\n",
       "\n",
       "**Belief**: Artificial general intelligence (AGI) will be able to automate cognitive tasks, effectively replacing human workers in some fields.\n",
       "\n",
       "**Explanation**: This hypothesis explores the possibility of unexpected AI capabilities emerging during development. Such breakthroughs could validate Aschenbrenner's predictions if they lead to AI systems with advanced cognitive abilities and the potential to replace human workers.\n",
       "\n",
       "**Potential Sources**:\n",
       "\n",
       "Research on emergent properties in AI systems  \n",
       "Discussions on the potential for AI to surpass human intelligence  \n",
       "Predictions from leading AI researchers about future breakthroughs\n",
       "\n"
      ],
      "text/plain": [
       "<IPython.core.display.Markdown object>"
      ]
     },
     "metadata": {},
     "output_type": "display_data"
    },
    {
     "data": {
      "text/markdown": [
       "### Hypothesis 102\n",
       "\n",
       "**Hypothesis**: If advancements in AI technology, particularly in areas like natural language processing and contextual understanding, lead to the development of models capable of understanding and responding to complex, nuanced communication, then the belief that current AI models lack the ability to function in an agentic way is invalid.\n",
       "\n",
       "**Belief**: Current AI models, while capable in certain tasks, lack the ability to function in an agentic way, resembling a coworker who can understand and complete complex projects.\n",
       "\n",
       "**Explanation**: This hypothesis focuses on the specific technical challenges that hinder AI models from functioning in a collaborative manner, like a human coworker.  By examining progress in NLP and contextual understanding, we can assess whether future models will overcome these limitations and exhibit more agentic behaviors.\n",
       "\n",
       "**Potential Sources**:\n",
       "\n",
       "Research papers on AI advancements in natural language processing and contextual understanding  \n",
       "Technical reports from AI companies and research labs  \n",
       "Publications on progress in AI-powered communication technologies\n",
       "\n"
      ],
      "text/plain": [
       "<IPython.core.display.Markdown object>"
      ]
     },
     "metadata": {},
     "output_type": "display_data"
    },
    {
     "data": {
      "text/markdown": [
       "### Hypothesis 103\n",
       "\n",
       "**Hypothesis**: If there is a significant increase in the availability of training data that specifically captures the nuances of human collaboration, such as data from real-world work meetings, project management systems, and collaborative platforms, then the belief that current AI models lack the ability to function in an agentic way is invalid.\n",
       "\n",
       "**Belief**: Current AI models, while capable in certain tasks, lack the ability to function in an agentic way, resembling a coworker who can understand and complete complex projects.\n",
       "\n",
       "**Explanation**: The availability of training data is crucial for AI model development. By examining the growth and availability of data that specifically relates to collaborative work, we can determine if AI models will have sufficient training material to learn and exhibit agentic behavior in the future.\n",
       "\n",
       "**Potential Sources**:\n",
       "\n",
       "Data sets and repositories for collaborative work data  \n",
       "Reports on the growth of digital collaboration platforms and tools  \n",
       "Studies on the availability and use of data for AI training\n",
       "\n"
      ],
      "text/plain": [
       "<IPython.core.display.Markdown object>"
      ]
     },
     "metadata": {},
     "output_type": "display_data"
    },
    {
     "data": {
      "text/markdown": [
       "### Hypothesis 104\n",
       "\n",
       "**Hypothesis**: If the development of AI models with increased test time compute capabilities significantly improves their ability to engage in complex reasoning, plan tasks, and learn from feedback, then the belief that current AI models lack the ability to function in an agentic way is invalid.\n",
       "\n",
       "**Belief**: Current AI models, while capable in certain tasks, lack the ability to function in an agentic way, resembling a coworker who can understand and complete complex projects.\n",
       "\n",
       "**Explanation**: The hypothesis explores the link between test time compute capabilities and AI models' ability to perform complex tasks, such as collaborative problem-solving. By examining the impact of increased compute on reasoning abilities, we can evaluate if it would enable models to exhibit more agentic behaviors.\n",
       "\n",
       "**Potential Sources**:\n",
       "\n",
       "Research papers on the impact of compute resources on AI model performance  \n",
       "Technical discussions on the role of test time compute in AI development  \n",
       "Analysis of AI model performance with varying compute capabilities\n",
       "\n"
      ],
      "text/plain": [
       "<IPython.core.display.Markdown object>"
      ]
     },
     "metadata": {},
     "output_type": "display_data"
    },
    {
     "data": {
      "text/markdown": [
       "### Hypothesis 105\n",
       "\n",
       "**Hypothesis**: If there are significant breakthroughs in the development of artificial intelligence that enable models to understand and respond to human emotions and social cues, then the belief that current AI models lack the ability to function in an agentic way is invalid.\n",
       "\n",
       "**Belief**: Current AI models, while capable in certain tasks, lack the ability to function in an agentic way, resembling a coworker who can understand and complete complex projects.\n",
       "\n",
       "**Explanation**: Understanding and responding to human emotions and social cues is essential for effective collaboration. By examining progress in this area, we can assess whether AI models will be able to develop the necessary skills to function as effective collaborators.\n",
       "\n",
       "**Potential Sources**:\n",
       "\n",
       "Research papers on AI advancements in emotional intelligence and social interaction  \n",
       "Publications on progress in AI-powered human-computer interaction  \n",
       "Studies on the development of AI models that can understand and respond to human emotions\n",
       "\n"
      ],
      "text/plain": [
       "<IPython.core.display.Markdown object>"
      ]
     },
     "metadata": {},
     "output_type": "display_data"
    },
    {
     "data": {
      "text/markdown": [
       "### Hypothesis 106\n",
       "\n",
       "**Hypothesis**: If research demonstrates that AI models can effectively learn error correction and planning tokens through existing training methods, such as reinforcement learning, then the belief that unlocking the test time compute overhang is a key question for AI progress in the next few years is supported.\n",
       "\n",
       "**Belief**: Unlocking the test time compute overhang is a key question for AI progress in the next few years, with current models like GPT-4 limited in their ability to think for extended periods.\n",
       "\n",
       "**Explanation**: The hypothesis directly addresses Aschenbrenner's belief by exploring whether AI models can acquire the necessary tokens to enable extended chain-of-thought reasoning, which is key to unlocking the test time compute overhang.\n",
       "\n",
       "**Potential Sources**:\n",
       "\n",
       "Research papers on AI model training techniques, particularly those focused on reinforcement learning and incorporating new tokens  \n",
       "Technical reports from leading AI research labs  \n",
       "Conference proceedings and presentations on advancements in AI model training and reasoning capabilities\n",
       "\n"
      ],
      "text/plain": [
       "<IPython.core.display.Markdown object>"
      ]
     },
     "metadata": {},
     "output_type": "display_data"
    },
    {
     "data": {
      "text/markdown": [
       "### Hypothesis 107\n",
       "\n",
       "**Hypothesis**: If studies indicate that the computational cost of achieving substantial increases in test time compute significantly exceeds current technological and economic constraints, then the belief that unlocking the test time compute overhang is a key question for AI progress is likely to be invalid.\n",
       "\n",
       "**Belief**: Unlocking the test time compute overhang is a key question for AI progress in the next few years, with current models like GPT-4 limited in their ability to think for extended periods.\n",
       "\n",
       "**Explanation**: This hypothesis explores the practical limitations of achieving the desired increase in test time compute, challenging the belief's feasibility given current resource constraints.\n",
       "\n",
       "**Potential Sources**:\n",
       "\n",
       "Research papers on the computational cost of training and running large language models  \n",
       "Industry reports on the cost of data centers and computing resources  \n",
       "Economic analyses of the costs and benefits of AI development\n",
       "\n"
      ],
      "text/plain": [
       "<IPython.core.display.Markdown object>"
      ]
     },
     "metadata": {},
     "output_type": "display_data"
    },
    {
     "data": {
      "text/markdown": [
       "### Hypothesis 108\n",
       "\n",
       "**Hypothesis**: If evidence suggests that AI models can achieve more agentified behavior through alternative approaches, such as improved scaling or different architectural designs, without relying on substantial increases in test time compute, then the belief that unlocking the test time compute overhang is a key question for AI progress is weakened.\n",
       "\n",
       "**Belief**: Unlocking the test time compute overhang is a key question for AI progress in the next few years, with current models like GPT-4 limited in their ability to think for extended periods.\n",
       "\n",
       "**Explanation**: This hypothesis explores alternative pathways to achieving agentified behavior, challenging the belief's assertion that unlocking the test time compute overhang is the primary path to progress.\n",
       "\n",
       "**Potential Sources**:\n",
       "\n",
       "Research papers on AI model scaling, architecture, and agent design  \n",
       "Technical reports from AI companies exploring alternative approaches to agentified behavior  \n",
       "Conference proceedings and presentations on the latest AI advancements and research directions\n",
       "\n"
      ],
      "text/plain": [
       "<IPython.core.display.Markdown object>"
      ]
     },
     "metadata": {},
     "output_type": "display_data"
    },
    {
     "data": {
      "text/markdown": [
       "### Hypothesis 109\n",
       "\n",
       "**Hypothesis**: If recent advancements in AI model development demonstrate significant progress in chain-of-thought reasoning and longer-term planning capabilities, even without significant increases in test time compute, then the belief that unlocking the test time compute overhang is a key question for AI progress is contradicted.\n",
       "\n",
       "**Belief**: Unlocking the test time compute overhang is a key question for AI progress in the next few years, with current models like GPT-4 limited in their ability to think for extended periods.\n",
       "\n",
       "**Explanation**: This hypothesis investigates whether current AI models are already exhibiting the desired capabilities, potentially undermining the belief that unlocking the test time compute overhang is the primary barrier to progress.\n",
       "\n",
       "**Potential Sources**:\n",
       "\n",
       "Research papers on recent advancements in large language models and their reasoning abilities  \n",
       "Technical reports from AI companies showcasing new capabilities of their models  \n",
       "News articles and reviews covering the latest breakthroughs in AI\n",
       "\n"
      ],
      "text/plain": [
       "<IPython.core.display.Markdown object>"
      ]
     },
     "metadata": {},
     "output_type": "display_data"
    },
    {
     "data": {
      "text/markdown": [
       "### Hypothesis 110\n",
       "\n",
       "**Hypothesis**: If research shows that current AI models are not capable of learning error correction and planning tokens, then the hypothesis of 'unhobbling' AI models to unlock System 2 thinking is less likely to be validated.\n",
       "\n",
       "**Belief**: There are two paths to creating more agentic AI systems: scaling and unhobbling.\n",
       "\n",
       "**Explanation**: The ability to learn error correction and planning tokens is crucial for AI models to unlock System 2 thinking, as it allows them to engage in more complex and goal-oriented reasoning. The hypothesis is relevant to the belief because it directly addresses the core mechanism proposed for 'unhobbling'.\n",
       "\n",
       "**Potential Sources**:\n",
       "\n",
       "Academic papers on AI model capabilities and learning  \n",
       "Research on error correction and planning mechanisms in AI  \n",
       "Technical reports on AI model performance in specific tasks requiring System 2 thinking\n",
       "\n"
      ],
      "text/plain": [
       "<IPython.core.display.Markdown object>"
      ]
     },
     "metadata": {},
     "output_type": "display_data"
    },
    {
     "data": {
      "text/markdown": [
       "### Hypothesis 111\n",
       "\n",
       "**Hypothesis**: If there is a significant correlation between the increase in compute power and the ability of AI models to perform complex tasks that require System 2 thinking, then the belief that 'unhobbling' can unlock such capabilities is more likely to be validated.\n",
       "\n",
       "**Belief**: There are two paths to creating more agentic AI systems: scaling and unhobbling.\n",
       "\n",
       "**Explanation**: This hypothesis directly tests the relationship between compute power and the emergence of System 2 thinking in AI models. If a strong correlation exists, it supports the belief that 'unhobbling' can unlock this capability by leveraging the potential of existing models with increased compute power.\n",
       "\n",
       "**Potential Sources**:\n",
       "\n",
       "Benchmarking data on AI model performance across different compute resources  \n",
       "Research on the relationship between model size and task complexity in AI  \n",
       "Reports on AI breakthroughs achieved through scaling compute resources\n",
       "\n"
      ],
      "text/plain": [
       "<IPython.core.display.Markdown object>"
      ]
     },
     "metadata": {},
     "output_type": "display_data"
    },
    {
     "data": {
      "text/markdown": [
       "### Hypothesis 112\n",
       "\n",
       "**Hypothesis**: If AI researchers are unable to develop effective training methods and loss functions that specifically target the development of System 2 thinking in AI models, then the hypothesis of 'unhobbling' may not be achievable.\n",
       "\n",
       "**Belief**: There are two paths to creating more agentic AI systems: scaling and unhobbling.\n",
       "\n",
       "**Explanation**: The success of 'unhobbling' relies on the ability to train AI models to exhibit System 2 thinking. This hypothesis examines the feasibility of developing appropriate training techniques and loss functions that can achieve this goal. If such methods are not readily available, it weakens the belief that 'unhobbling' is a viable path.\n",
       "\n",
       "**Potential Sources**:\n",
       "\n",
       "Research papers on AI training methods and loss functions  \n",
       "Technical discussions and debates on training techniques for System 2 thinking in AI  \n",
       "Conferences and workshops on AI training and model development\n",
       "\n"
      ],
      "text/plain": [
       "<IPython.core.display.Markdown object>"
      ]
     },
     "metadata": {},
     "output_type": "display_data"
    },
    {
     "data": {
      "text/markdown": [
       "### Hypothesis 113\n",
       "\n",
       "**Hypothesis**: If existing AI models demonstrate a significant improvement in their ability to learn from and adapt to new information without extensive retraining, then the hypothesis of 'unhobbling' is more likely to be validated.\n",
       "\n",
       "**Belief**: There are two paths to creating more agentic AI systems: scaling and unhobbling.\n",
       "\n",
       "**Explanation**: A key aspect of 'unhobbling' is unlocking the ability of AI models to learn and improve without extensive retraining. This hypothesis examines the current state of in-context learning and adaptation in AI models. If these abilities are significantly enhanced, it supports the belief that existing models have the potential to be 'unhobbled' and achieve greater agency.\n",
       "\n",
       "**Potential Sources**:\n",
       "\n",
       "Research papers on in-context learning and few-shot learning in AI  \n",
       "Benchmarking data on AI model adaptability and generalization  \n",
       "Technical reports on AI model performance in tasks requiring adaptation and generalization\n",
       "\n"
      ],
      "text/plain": [
       "<IPython.core.display.Markdown object>"
      ]
     },
     "metadata": {},
     "output_type": "display_data"
    },
    {
     "data": {
      "text/markdown": [
       "### Hypothesis 114\n",
       "\n",
       "**Hypothesis**: If research demonstrates that current AI models are capable of learning and utilizing error correction and planning tokens, then the belief that unhobbling requires a System 2 process is partially invalid.\n",
       "\n",
       "**Belief**: The unhobbling path requires AI models to learn a System 2 process, akin to human thinking that goes beyond autopilot, to enable them to think coherently for longer periods.\n",
       "\n",
       "**Explanation**: The ability to learn these specific tokens would indicate that the System 2 process, as described by Aschenbrenner, might be achievable through incremental improvements in current AI architectures, rather than requiring a fundamental shift to a new process.\n",
       "\n",
       "**Potential Sources**:\n",
       "\n",
       "Research papers on AI model advancements  \n",
       "Technical reports on GPT-4 or similar models  \n",
       "Publications on AI token learning techniques\n",
       "\n"
      ],
      "text/plain": [
       "<IPython.core.display.Markdown object>"
      ]
     },
     "metadata": {},
     "output_type": "display_data"
    },
    {
     "data": {
      "text/markdown": [
       "### Hypothesis 115\n",
       "\n",
       "**Hypothesis**: If there are significant computational limitations in increasing test time compute for AI models, such as memory constraints or hardware limitations, then the belief that unlocking the test time compute overhang is crucial for achieving System 2 thinking is less likely to be validated.\n",
       "\n",
       "**Belief**: The unhobbling path requires AI models to learn a System 2 process, akin to human thinking that goes beyond autopilot, to enable them to think coherently for longer periods.\n",
       "\n",
       "**Explanation**: Computational limitations could restrict the ability of models to engage in extended thought processes, even if they learn the necessary tokens.  This hypothesis explores whether the technical infrastructure is sufficient to support the necessary compute.\n",
       "\n",
       "**Potential Sources**:\n",
       "\n",
       "Technical articles on AI hardware and compute resources  \n",
       "Research papers on AI scaling limitations  \n",
       "Industry reports on AI infrastructure trends\n",
       "\n"
      ],
      "text/plain": [
       "<IPython.core.display.Markdown object>"
      ]
     },
     "metadata": {},
     "output_type": "display_data"
    },
    {
     "data": {
      "text/markdown": [
       "### Hypothesis 116\n",
       "\n",
       "**Hypothesis**: If AI models demonstrate significant improvements in long-term memory and contextual understanding through existing techniques like scaling or reinforcement learning, then the belief that System 2 thinking is necessary for achieving this is partially invalid.\n",
       "\n",
       "**Belief**: The unhobbling path requires AI models to learn a System 2 process, akin to human thinking that goes beyond autopilot, to enable them to think coherently for longer periods.\n",
       "\n",
       "**Explanation**: This hypothesis explores whether the System 2 process is truly essential for improvements in memory and context, or if existing methods can achieve these goals without the need for a distinct System 2.\n",
       "\n",
       "**Potential Sources**:\n",
       "\n",
       "Research papers on AI memory and contextualization advancements  \n",
       "Technical reports on scaling and reinforcement learning techniques  \n",
       "Publications on AI model performance in tasks requiring long-term memory\n",
       "\n"
      ],
      "text/plain": [
       "<IPython.core.display.Markdown object>"
      ]
     },
     "metadata": {},
     "output_type": "display_data"
    },
    {
     "data": {
      "text/markdown": [
       "### Hypothesis 117\n",
       "\n",
       "**Hypothesis**: If the development of AI agents with System 2 thinking is significantly more time-consuming than predicted, exceeding the timeframe of a few years, then the belief that such agents will emerge within the next few years is invalid.\n",
       "\n",
       "**Belief**: The unhobbling path requires AI models to learn a System 2 process, akin to human thinking that goes beyond autopilot, to enable them to think coherently for longer periods.\n",
       "\n",
       "**Explanation**: This hypothesis assesses the feasibility of achieving System 2 thinking within the timeframe suggested by Aschenbrenner, considering the complexity of the task and the pace of AI progress.\n",
       "\n",
       "**Potential Sources**:\n",
       "\n",
       "Expert opinions and predictions on AI timelines  \n",
       "Research papers on the current state of AI agent development  \n",
       "Industry reports on the progress and challenges of AI research\n",
       "\n"
      ],
      "text/plain": [
       "<IPython.core.display.Markdown object>"
      ]
     },
     "metadata": {},
     "output_type": "display_data"
    },
    {
     "data": {
      "text/markdown": [
       "### Hypothesis 118\n",
       "\n",
       "**Hypothesis**: If pre-trained language models can be shown to exhibit a demonstrably stronger capacity for abstract reasoning and problem-solving, exceeding the capabilities of human learners at comparable stages of development, then the claim that pre-trained models learn rich representations of the world will be supported.\n",
       "\n",
       "**Belief**: Pre-training is a powerful technique that enables models of general intelligence to learn incredibly rich representations of the world.\n",
       "\n",
       "**Explanation**: This hypothesis investigates the core concept of representation learning by assessing whether pre-trained models can exhibit cognitive abilities exceeding those of human learners, indicating a deeper understanding of the world through their learned representations.\n",
       "\n",
       "**Potential Sources**:\n",
       "\n",
       "Empirical studies comparing performance of pre-trained language models and human learners on abstract reasoning tasks  \n",
       "Research papers analyzing the ability of pre-trained models to generalize to unseen problems and domains  \n",
       "Benchmark datasets and standardized tests designed to evaluate abstract reasoning and problem-solving abilities\n",
       "\n"
      ],
      "text/plain": [
       "<IPython.core.display.Markdown object>"
      ]
     },
     "metadata": {},
     "output_type": "display_data"
    },
    {
     "data": {
      "text/markdown": [
       "### Hypothesis 119\n",
       "\n",
       "**Hypothesis**: If pre-trained language models exhibit limited ability to learn from feedback and adapt to new information without extensive retraining, compared to humans who can learn from experience and modify their understanding, then the belief that pre-trained models learn rich representations of the world will be challenged.\n",
       "\n",
       "**Belief**: Pre-training is a powerful technique that enables models of general intelligence to learn incredibly rich representations of the world.\n",
       "\n",
       "**Explanation**: This hypothesis investigates the limitations of pre-trained models by examining their ability to adapt and learn new information. This contrasts with humans, who exhibit greater flexibility in modifying their understanding based on feedback and experiences.\n",
       "\n",
       "**Potential Sources**:\n",
       "\n",
       "Research papers on the efficacy of fine-tuning and reinforcement learning techniques in pre-trained models  \n",
       "Studies analyzing the impact of new data and feedback on the performance of pre-trained models  \n",
       "Comparative studies comparing the learning capabilities of pre-trained models and human learners in various scenarios\n",
       "\n"
      ],
      "text/plain": [
       "<IPython.core.display.Markdown object>"
      ]
     },
     "metadata": {},
     "output_type": "display_data"
    },
    {
     "data": {
      "text/markdown": [
       "### Hypothesis 120\n",
       "\n",
       "**Hypothesis**: If the complexity and accuracy of the world models learned by pre-trained language models can be quantitatively measured and shown to correlate with their performance on various cognitive tasks, then the claim that pre-trained models learn rich representations of the world will be strengthened.\n",
       "\n",
       "**Belief**: Pre-training is a powerful technique that enables models of general intelligence to learn incredibly rich representations of the world.\n",
       "\n",
       "**Explanation**: This hypothesis focuses on the quantitative evidence for the quality of world models learned by pre-trained models. It seeks to demonstrate a correlation between the complexity and accuracy of these models and the models' performance on various tasks, supporting the belief that pre-trained models learn rich representations.\n",
       "\n",
       "**Potential Sources**:\n",
       "\n",
       "Research papers on techniques for quantifying the complexity and accuracy of world models learned by AI systems  \n",
       "Studies investigating the relationship between world model complexity and performance on diverse tasks  \n",
       "Benchmark datasets and metrics designed to assess the quality of learned world models\n",
       "\n"
      ],
      "text/plain": [
       "<IPython.core.display.Markdown object>"
      ]
     },
     "metadata": {},
     "output_type": "display_data"
    },
    {
     "data": {
      "text/markdown": [
       "### Hypothesis 121\n",
       "\n",
       "**Hypothesis**: If the success of pre-training relies heavily on specific types of data, such as text data from the internet, and struggles to generalize to other domains or modalities, then the belief that pre-trained models learn rich representations of the world will be questioned.\n",
       "\n",
       "**Belief**: Pre-training is a powerful technique that enables models of general intelligence to learn incredibly rich representations of the world.\n",
       "\n",
       "**Explanation**: This hypothesis examines the limitations of pre-training by investigating its dependence on specific data sources and its ability to generalize to diverse domains and modalities. This challenges the belief that pre-trained models can learn truly rich representations of the world.\n",
       "\n",
       "**Potential Sources**:\n",
       "\n",
       "Studies analyzing the impact of different data sources on the performance of pre-trained models  \n",
       "Research on techniques for pre-training models on multimodal data, including visual and auditory information  \n",
       "Evaluations of pre-trained models on tasks requiring knowledge outside the realm of text data\n",
       "\n"
      ],
      "text/plain": [
       "<IPython.core.display.Markdown object>"
      ]
     },
     "metadata": {},
     "output_type": "display_data"
    },
    {
     "data": {
      "text/markdown": [
       "### Hypothesis 122\n",
       "\n",
       "**Hypothesis**: The absence of a pre-training advantage in robotics compared to AI hinders its progress, leading to slower advancements in robotics compared to AI.\n",
       "\n",
       "**Belief**: Reinforcement learning from human feedback (RLHF) is a crucial technique for improving the performance of pre-trained models and turning them into useful chatbots.\n",
       "\n",
       "**Explanation**: This hypothesis directly addresses the core aspect of the belief by exploring the impact of pre-training on the development of both AI and robotics. If robotics lacks the same pre-training advantage, it suggests that its progress might be slower due to the need to rely more heavily on other techniques like reinforcement learning.\n",
       "\n",
       "**Potential Sources**:\n",
       "\n",
       "Research papers comparing the progress of AI and robotics  \n",
       "Studies on the impact of pre-training in different fields  \n",
       "Analyses of the development of robotics technologies in the context of AI advancements\n",
       "\n"
      ],
      "text/plain": [
       "<IPython.core.display.Markdown object>"
      ]
     },
     "metadata": {},
     "output_type": "display_data"
    },
    {
     "data": {
      "text/markdown": [
       "### Hypothesis 123\n",
       "\n",
       "**Hypothesis**: The development of pre-training techniques specifically tailored for robotics could bridge the gap in progress and accelerate advancements in the field.\n",
       "\n",
       "**Belief**: Reinforcement learning from human feedback (RLHF) is a crucial technique for improving the performance of pre-trained models and turning them into useful chatbots.\n",
       "\n",
       "**Explanation**: This hypothesis explores a potential solution to the challenges posed by the lack of pre-training in robotics. By developing specialized pre-training methods for robotic systems, we could potentially mimic the advantage seen in AI and significantly accelerate progress.\n",
       "\n",
       "**Potential Sources**:\n",
       "\n",
       "Research on pre-training methods in robotics  \n",
       "Studies on transfer learning in robotics  \n",
       "Papers exploring the use of large language models for robotics applications\n",
       "\n"
      ],
      "text/plain": [
       "<IPython.core.display.Markdown object>"
      ]
     },
     "metadata": {},
     "output_type": "display_data"
    },
    {
     "data": {
      "text/markdown": [
       "### Hypothesis 124\n",
       "\n",
       "**Hypothesis**: While pre-training offers a significant advantage for AI, other factors such as the complexity of physical interaction and the need for real-world data are key limitations in robotics, even with a pre-training advantage.\n",
       "\n",
       "**Belief**: Reinforcement learning from human feedback (RLHF) is a crucial technique for improving the performance of pre-trained models and turning them into useful chatbots.\n",
       "\n",
       "**Explanation**: This hypothesis acknowledges the value of pre-training in AI but proposes that other factors specific to robotics, like the physical embodiment and the requirement for real-world data, might be more significant limitations.\n",
       "\n",
       "**Potential Sources**:\n",
       "\n",
       "Research on the challenges of robotics in the context of AI  \n",
       "Studies on the limitations of pre-training in robotics  \n",
       "Papers exploring the role of real-world data in robotic learning\n",
       "\n"
      ],
      "text/plain": [
       "<IPython.core.display.Markdown object>"
      ]
     },
     "metadata": {},
     "output_type": "display_data"
    },
    {
     "data": {
      "text/markdown": [
       "### Hypothesis 125\n",
       "\n",
       "**Hypothesis**: The increasing availability of large datasets and advancements in reinforcement learning techniques could compensate for the lack of pre-training in robotics, facilitating progress in the field.\n",
       "\n",
       "**Belief**: Reinforcement learning from human feedback (RLHF) is a crucial technique for improving the performance of pre-trained models and turning them into useful chatbots.\n",
       "\n",
       "**Explanation**: This hypothesis explores alternative approaches to address the limitations of pre-training in robotics. By leveraging the growth of large datasets and advancements in reinforcement learning, progress in robotics could be driven without relying solely on pre-training.\n",
       "\n",
       "**Potential Sources**:\n",
       "\n",
       "Research on the impact of large datasets in robotics  \n",
       "Studies on the advancements in reinforcement learning for robotics  \n",
       "Papers exploring the potential of combining reinforcement learning with other techniques in robotics\n",
       "\n"
      ],
      "text/plain": [
       "<IPython.core.display.Markdown object>"
      ]
     },
     "metadata": {},
     "output_type": "display_data"
    },
    {
     "data": {
      "text/markdown": [
       "### Hypothesis 126\n",
       "\n",
       "**Hypothesis**: If current AI research shows significant progress in developing self-learning and independent learning capabilities in AI models, such as through unsupervised learning, reinforcement learning, or meta-learning techniques, then the belief that AI models will eventually transition to independent learning is supported.\n",
       "\n",
       "**Belief**: Humans gradually transition from being pre-trained by teachers to being able to learn independently.\n",
       "\n",
       "**Explanation**: This hypothesis directly tests the feasibility of AI models developing independent learning capabilities, which is central to the belief being examined.\n",
       "\n",
       "**Potential Sources**:\n",
       "\n",
       "Research papers on unsupervised learning in AI  \n",
       "Publications on reinforcement learning and meta-learning  \n",
       "Articles discussing self-learning in AI models\n",
       "\n"
      ],
      "text/plain": [
       "<IPython.core.display.Markdown object>"
      ]
     },
     "metadata": {},
     "output_type": "display_data"
    },
    {
     "data": {
      "text/markdown": [
       "### Hypothesis 127\n",
       "\n",
       "**Hypothesis**: If there is limited progress or evidence suggesting that current AI models can effectively learn and adapt without significant human intervention or pre-training, then the belief that AI models will transition to independent learning is challenged.\n",
       "\n",
       "**Belief**: Humans gradually transition from being pre-trained by teachers to being able to learn independently.\n",
       "\n",
       "**Explanation**: This hypothesis assesses the current limitations of AI models in terms of self-learning and independent adaptation, which directly impacts the validity of the belief.\n",
       "\n",
       "**Potential Sources**:\n",
       "\n",
       "Research papers on AI model limitations  \n",
       "Analysis of AI model performance in real-world applications  \n",
       "Reports on the current state of AI research and development\n",
       "\n"
      ],
      "text/plain": [
       "<IPython.core.display.Markdown object>"
      ]
     },
     "metadata": {},
     "output_type": "display_data"
    },
    {
     "data": {
      "text/markdown": [
       "### Hypothesis 128\n",
       "\n",
       "**Hypothesis**: If there is evidence that AI models are able to achieve significant improvements in performance and generalization through self-learning and independent learning, even in domains with limited or no prior training data, then the belief that AI models can transition to independent learning is strongly supported.\n",
       "\n",
       "**Belief**: Humans gradually transition from being pre-trained by teachers to being able to learn independently.\n",
       "\n",
       "**Explanation**: This hypothesis assesses the ability of AI models to learn and adapt autonomously, even in situations where prior training data is limited, which is a key factor in validating the belief.\n",
       "\n",
       "**Potential Sources**:\n",
       "\n",
       "Research papers on AI model performance in low-data scenarios  \n",
       "Studies on AI model generalization capabilities  \n",
       "Examples of successful AI applications demonstrating self-learning and independent adaptation\n",
       "\n"
      ],
      "text/plain": [
       "<IPython.core.display.Markdown object>"
      ]
     },
     "metadata": {},
     "output_type": "display_data"
    },
    {
     "data": {
      "text/markdown": [
       "### Hypothesis 129\n",
       "\n",
       "**Hypothesis**: If the development of AI models with self-learning and independent learning capabilities is hindered by significant technical challenges, such as computational limitations, data availability, or ethical concerns, then the belief that AI models will transition to independent learning is likely to be delayed.\n",
       "\n",
       "**Belief**: Humans gradually transition from being pre-trained by teachers to being able to learn independently.\n",
       "\n",
       "**Explanation**: This hypothesis investigates the potential barriers to developing self-learning AI models, which could impact the timeline and feasibility of transitioning to independent learning.\n",
       "\n",
       "**Potential Sources**:\n",
       "\n",
       "Research papers discussing technical challenges in AI development  \n",
       "Expert opinions on the future of AI research and development  \n",
       "Discussions on ethical concerns related to self-learning AI systems\n",
       "\n"
      ],
      "text/plain": [
       "<IPython.core.display.Markdown object>"
      ]
     },
     "metadata": {},
     "output_type": "display_data"
    },
    {
     "data": {
      "text/markdown": [
       "### Hypothesis 130\n",
       "\n",
       "**Hypothesis**: If recent advancements in AI, particularly in areas like reinforcement learning and in-context learning, demonstrate a significant increase in the ability of AI models to engage in deeper, self-directed learning, then the belief that learning by oneself involves a deeper process is validated.\n",
       "\n",
       "**Belief**: Learning by oneself involves a deeper process of reflection, engagement, and practice, going beyond simply receiving information.\n",
       "\n",
       "**Explanation**: This hypothesis aligns with the belief by examining whether AI advancements are mirroring the human experience of learning by oneself, where the model engages with information, reflects on it, and iteratively refines its understanding.\n",
       "\n",
       "**Potential Sources**:\n",
       "\n",
       "Research papers on RL and in-context learning in AI  \n",
       "Studies on the development of self-learning capabilities in AI models  \n",
       "Analysis of the performance of AI models on complex tasks requiring deeper understanding  \n",
       "Expert opinions on the emerging capabilities of AI in relation to self-directed learning\n",
       "\n"
      ],
      "text/plain": [
       "<IPython.core.display.Markdown object>"
      ]
     },
     "metadata": {},
     "output_type": "display_data"
    },
    {
     "data": {
      "text/markdown": [
       "### Hypothesis 131\n",
       "\n",
       "**Hypothesis**: If studies show that the ability of AI models to learn from their own mistakes and adapt their strategies based on feedback is significantly limited compared to humans, then the belief that learning by oneself is a deeper process is further supported.\n",
       "\n",
       "**Belief**: Learning by oneself involves a deeper process of reflection, engagement, and practice, going beyond simply receiving information.\n",
       "\n",
       "**Explanation**: This hypothesis examines the difference in self-directed learning between humans and AI, focusing on the ability to learn from errors, which is a critical aspect of deeper learning.\n",
       "\n",
       "**Potential Sources**:\n",
       "\n",
       "Research papers on AI error correction and adaptation  \n",
       "Studies comparing AI and human learning from mistakes  \n",
       "Analysis of AI model performance in situations requiring error correction and adaptation\n",
       "\n"
      ],
      "text/plain": [
       "<IPython.core.display.Markdown object>"
      ]
     },
     "metadata": {},
     "output_type": "display_data"
    },
    {
     "data": {
      "text/markdown": [
       "### Hypothesis 132\n",
       "\n",
       "**Hypothesis**: If the development of AI models is heavily reliant on pre-training on massive datasets and less on in-context learning, then the belief that learning by oneself is a deeper process is supported, as AI models are still reliant on pre-existing information.\n",
       "\n",
       "**Belief**: Learning by oneself involves a deeper process of reflection, engagement, and practice, going beyond simply receiving information.\n",
       "\n",
       "**Explanation**: This hypothesis explores the current reliance of AI models on pre-training data, contrasting it with the human experience of learning by oneself, which involves independent discovery and understanding.\n",
       "\n",
       "**Potential Sources**:\n",
       "\n",
       "Research papers on AI model pre-training and in-context learning  \n",
       "Analysis of the dependence of AI model performance on pre-training data  \n",
       "Expert opinions on the future direction of AI research in relation to self-directed learning\n",
       "\n"
      ],
      "text/plain": [
       "<IPython.core.display.Markdown object>"
      ]
     },
     "metadata": {},
     "output_type": "display_data"
    },
    {
     "data": {
      "text/markdown": [
       "### Hypothesis 133\n",
       "\n",
       "**Hypothesis**: RL techniques, like reinforcement learning from human feedback (RLHF), are particularly effective for fine-tuning language models to perform tasks that require reasoning and planning.\n",
       "\n",
       "**Belief**: Reinforcement learning (RL) is an effective technique for fine-tuning AI models to perform specific tasks.\n",
       "\n",
       "**Explanation**: Aschenbrenner suggests that RL can help unlock the potential of large language models by enabling them to perform tasks that require more complex thinking and problem-solving, similar to human System 2 thinking.\n",
       "\n",
       "**Potential Sources**:\n",
       "\n",
       "Research papers on RLHF and other RL methods for language model fine-tuning  \n",
       "Technical reports on the performance of RL-based language models on various tasks, including reasoning and planning tasks  \n",
       "Evaluations of RL-tuned language models compared to models trained without RL\n",
       "\n"
      ],
      "text/plain": [
       "<IPython.core.display.Markdown object>"
      ]
     },
     "metadata": {},
     "output_type": "display_data"
    },
    {
     "data": {
      "text/markdown": [
       "### Hypothesis 134\n",
       "\n",
       "**Hypothesis**: The effectiveness of RL in fine-tuning AI models is dependent on the quality and relevance of the data used in the RL process.\n",
       "\n",
       "**Belief**: Reinforcement learning (RL) is an effective technique for fine-tuning AI models to perform specific tasks.\n",
       "\n",
       "**Explanation**: Aschenbrenner emphasizes the importance of 'good' data in RL, suggesting that the quality and relevance of the data significantly influence the effectiveness of RL in improving AI model performance.\n",
       "\n",
       "**Potential Sources**:\n",
       "\n",
       "Studies on the impact of data quality and relevance on RL performance  \n",
       "Analysis of different data generation methods used in RL for AI model fine-tuning  \n",
       "Research papers exploring the limitations of RL in cases of limited or biased data\n",
       "\n"
      ],
      "text/plain": [
       "<IPython.core.display.Markdown object>"
      ]
     },
     "metadata": {},
     "output_type": "display_data"
    },
    {
     "data": {
      "text/markdown": [
       "### Hypothesis 135\n",
       "\n",
       "**Hypothesis**: While RL can be effective for fine-tuning AI models, it is challenging to implement and requires significant computational resources and expertise.\n",
       "\n",
       "**Belief**: Reinforcement learning (RL) is an effective technique for fine-tuning AI models to perform specific tasks.\n",
       "\n",
       "**Explanation**: Aschenbrenner describes RL as 'super finicky,' implying that it can be difficult to implement and requires careful tuning and optimization. This suggests that RL may not be readily accessible or practical for all AI development tasks.\n",
       "\n",
       "**Potential Sources**:\n",
       "\n",
       "Technical discussions and analyses of the computational costs and challenges associated with RL implementation  \n",
       "Surveys of industry adoption of RL for AI model fine-tuning  \n",
       "Research on the development of more efficient and scalable RL techniques\n",
       "\n"
      ],
      "text/plain": [
       "<IPython.core.display.Markdown object>"
      ]
     },
     "metadata": {},
     "output_type": "display_data"
    },
    {
     "data": {
      "text/markdown": [
       "### Hypothesis 136\n",
       "\n",
       "**Hypothesis**: If studies demonstrate that in-context learning consistently outperforms traditional training methods in terms of sample efficiency across various AI tasks, then the claim that RL generates highly valuable data for AI models is partially validated.\n",
       "\n",
       "**Belief**: RL can generate highly valuable data for AI models, particularly in scenarios where the model needs to learn from its own experiences.\n",
       "\n",
       "**Explanation**: This hypothesis tests the assertion about the value of RL in generating data by comparing the sample efficiency of in-context learning, which is considered sample-efficient, to traditional training methods.\n",
       "\n",
       "**Potential Sources**:\n",
       "\n",
       "Research papers on in-context learning in different AI tasks  \n",
       "Comparative analyses of sample efficiency between in-context learning and traditional training  \n",
       "Benchmarking studies for AI model training methods\n",
       "\n"
      ],
      "text/plain": [
       "<IPython.core.display.Markdown object>"
      ]
     },
     "metadata": {},
     "output_type": "display_data"
    },
    {
     "data": {
      "text/markdown": [
       "### Hypothesis 137\n",
       "\n",
       "**Hypothesis**: If there are documented instances of AI models exhibiting significant improvements in performance and ability to learn from experience after implementing RL-based training methods, then the claim about RL generating valuable data is strengthened.\n",
       "\n",
       "**Belief**: RL can generate highly valuable data for AI models, particularly in scenarios where the model needs to learn from its own experiences.\n",
       "\n",
       "**Explanation**: This hypothesis seeks evidence of real-world applications where RL-based training has demonstrably improved AI model performance, particularly in scenarios requiring learning from experience.\n",
       "\n",
       "**Potential Sources**:\n",
       "\n",
       "Case studies of AI model development using RL  \n",
       "Research publications reporting successful applications of RL in AI training  \n",
       "Industry reports showcasing advancements in AI capabilities due to RL-based training\n",
       "\n"
      ],
      "text/plain": [
       "<IPython.core.display.Markdown object>"
      ]
     },
     "metadata": {},
     "output_type": "display_data"
    },
    {
     "data": {
      "text/markdown": [
       "### Hypothesis 138\n",
       "\n",
       "**Hypothesis**: If the computational cost and complexity of implementing RL-based training for AI models are significantly higher than traditional methods, then the claim about RL generating valuable data might be challenged.\n",
       "\n",
       "**Belief**: RL can generate highly valuable data for AI models, particularly in scenarios where the model needs to learn from its own experiences.\n",
       "\n",
       "**Explanation**: This hypothesis considers the practical limitations of RL, specifically its computational cost, which might outweigh its benefits in certain scenarios, thereby impacting its overall value in generating data.\n",
       "\n",
       "**Potential Sources**:\n",
       "\n",
       "Research on computational complexity of RL algorithms  \n",
       "Analyses of the resource requirements for RL-based training compared to traditional methods  \n",
       "Industry perspectives on the cost-effectiveness of RL in AI development\n",
       "\n"
      ],
      "text/plain": [
       "<IPython.core.display.Markdown object>"
      ]
     },
     "metadata": {},
     "output_type": "display_data"
    },
    {
     "data": {
      "text/markdown": [
       "### Hypothesis 139\n",
       "\n",
       "**Hypothesis**: If recent research shows that AI models trained with in-context learning significantly outperform those trained with traditional pre-training methods on tasks involving learning new concepts or skills, then the belief that in-context learning is highly sample-efficient is validated.\n",
       "\n",
       "**Belief**: In-context learning is highly sample efficient, allowing AI models to quickly learn new concepts or tasks without extensive training.\n",
       "\n",
       "**Explanation**: Comparing the performance of AI models trained with different methods, particularly on tasks requiring new learning, will provide direct evidence of the sample efficiency of in-context learning.\n",
       "\n",
       "**Potential Sources**:\n",
       "\n",
       "Peer-reviewed publications on AI training methods  \n",
       "Research papers comparing in-context learning and pre-training  \n",
       "Technical reports and presentations from AI research labs\n",
       "\n"
      ],
      "text/plain": [
       "<IPython.core.display.Markdown object>"
      ]
     },
     "metadata": {},
     "output_type": "display_data"
    },
    {
     "data": {
      "text/markdown": [
       "### Hypothesis 140\n",
       "\n",
       "**Hypothesis**: If studies demonstrate that AI models trained with in-context learning require significantly less data than pre-trained models to achieve comparable performance on diverse tasks, then the belief that in-context learning is highly sample-efficient is further validated.\n",
       "\n",
       "**Belief**: In-context learning is highly sample efficient, allowing AI models to quickly learn new concepts or tasks without extensive training.\n",
       "\n",
       "**Explanation**: Analyzing the amount of data required for different training methods to achieve similar levels of performance will reveal the relative efficiency of in-context learning.\n",
       "\n",
       "**Potential Sources**:\n",
       "\n",
       "Empirical studies on the data requirements of AI training methods  \n",
       "Research papers comparing the sample efficiency of in-context learning and pre-training  \n",
       "Benchmarks and datasets used for evaluating AI model performance\n",
       "\n"
      ],
      "text/plain": [
       "<IPython.core.display.Markdown object>"
      ]
     },
     "metadata": {},
     "output_type": "display_data"
    },
    {
     "data": {
      "text/markdown": [
       "### Hypothesis 141\n",
       "\n",
       "**Hypothesis**: If research shows that in-context learning is limited in its ability to learn complex concepts or tasks that require a deeper understanding of the underlying relationships and patterns, then the belief that in-context learning is highly sample-efficient may be challenged.\n",
       "\n",
       "**Belief**: In-context learning is highly sample efficient, allowing AI models to quickly learn new concepts or tasks without extensive training.\n",
       "\n",
       "**Explanation**: The ability of in-context learning to handle complex tasks and its reliance on contextual information will reveal its limitations and impact the overall validation of the belief.\n",
       "\n",
       "**Potential Sources**:\n",
       "\n",
       "Research papers exploring the limitations of in-context learning  \n",
       "Studies on the performance of in-context learning on complex tasks  \n",
       "Discussions and analyses of the theoretical underpinnings of in-context learning\n",
       "\n"
      ],
      "text/plain": [
       "<IPython.core.display.Markdown object>"
      ]
     },
     "metadata": {},
     "output_type": "display_data"
    },
    {
     "data": {
      "text/markdown": [
       "### Hypothesis 142\n",
       "\n",
       "**Hypothesis**: If emerging research suggests that alternative training approaches, such as few-shot learning or meta-learning, offer even greater sample efficiency than in-context learning, then the belief that in-context learning is highly sample-efficient may be modified.\n",
       "\n",
       "**Belief**: In-context learning is highly sample efficient, allowing AI models to quickly learn new concepts or tasks without extensive training.\n",
       "\n",
       "**Explanation**: The emergence of new learning methods with potentially greater efficiency will provide a comparative context for evaluating the sample efficiency of in-context learning.\n",
       "\n",
       "**Potential Sources**:\n",
       "\n",
       "Research papers on few-shot learning and meta-learning  \n",
       "Studies comparing the sample efficiency of different AI training approaches  \n",
       "Discussions and analyses of the latest advancements in AI learning methods\n",
       "\n"
      ],
      "text/plain": [
       "<IPython.core.display.Markdown object>"
      ]
     },
     "metadata": {},
     "output_type": "display_data"
    },
    {
     "data": {
      "text/markdown": [
       "### Hypothesis 143\n",
       "\n",
       "**Hypothesis**: If current research indicates that AI models are unable to achieve significant progress in self-directed learning and reasoning within the predicted timeframe of six months to three years, then Leopold Aschenbrenner's belief that AI could rapidly advance towards achieving human-level intelligence through 'unhobbling' is invalid.\n",
       "\n",
       "**Belief**: Humans learn through a process of in-context learning, where they engage with information, reflect on it, and ultimately integrate it into their understanding.\n",
       "\n",
       "**Explanation**: This hypothesis directly addresses Aschenbrenner's claim that AI can achieve System 2 thinking and unlock test-time compute overhang within a short timeframe.  Evaluating current research on AI self-directed learning and reasoning capabilities would allow for a direct comparison against his prediction.\n",
       "\n",
       "**Potential Sources**:\n",
       "\n",
       "Research papers on AI self-directed learning and reasoning  \n",
       "Expert opinions from prominent AI researchers on the timeline for achieving human-level intelligence  \n",
       "Technical reports from AI companies on progress in self-directed learning and reasoning\n",
       "\n"
      ],
      "text/plain": [
       "<IPython.core.display.Markdown object>"
      ]
     },
     "metadata": {},
     "output_type": "display_data"
    },
    {
     "data": {
      "text/markdown": [
       "### Hypothesis 144\n",
       "\n",
       "**Hypothesis**: If current AI models demonstrate limited ability to effectively learn from real-world scenarios and adapt to diverse contexts, then Aschenbrenner's claim that AI will soon be capable of 'learning by itself' through a process akin to human in-context learning is unlikely.\n",
       "\n",
       "**Belief**: Humans learn through a process of in-context learning, where they engage with information, reflect on it, and ultimately integrate it into their understanding.\n",
       "\n",
       "**Explanation**: The hypothesis focuses on the crucial aspect of AI's ability to learn from real-world data, which is essential for achieving in-context learning capabilities. Examining current AI models' ability to adapt to complex real-world scenarios would help validate or invalidate Aschenbrenner's belief.\n",
       "\n",
       "**Potential Sources**:\n",
       "\n",
       "Research papers on AI adaptation in real-world settings  \n",
       "Case studies of AI deployments in diverse real-world applications  \n",
       "Expert analyses of AI's ability to learn from complex and dynamic environments\n",
       "\n"
      ],
      "text/plain": [
       "<IPython.core.display.Markdown object>"
      ]
     },
     "metadata": {},
     "output_type": "display_data"
    },
    {
     "data": {
      "text/markdown": [
       "### Hypothesis 145\n",
       "\n",
       "**Hypothesis**: If historical trends in AI development demonstrate a gradual, rather than exponential, improvement in capabilities, then the prediction that AI will achieve a significant leap in intelligence within the next few years is improbable.\n",
       "\n",
       "**Belief**: Humans learn through a process of in-context learning, where they engage with information, reflect on it, and ultimately integrate it into their understanding.\n",
       "\n",
       "**Explanation**: This hypothesis examines the historical progression of AI advancements to assess whether there is evidence for a rapid acceleration of capabilities as Aschenbrenner suggests. Studying historical trends in AI development would provide context for evaluating the plausibility of his prediction.\n",
       "\n",
       "**Potential Sources**:\n",
       "\n",
       "Historical reviews of AI research and development  \n",
       "Analysis of AI capabilities over time  \n",
       "Expert discussions on the pace of AI advancements\n",
       "\n"
      ],
      "text/plain": [
       "<IPython.core.display.Markdown object>"
      ]
     },
     "metadata": {},
     "output_type": "display_data"
    },
    {
     "data": {
      "text/markdown": [
       "### Hypothesis 146\n",
       "\n",
       "**Hypothesis**: If analysis of current AI models reveals significant limitations in their ability to handle complex reasoning tasks, such as multi-step problem-solving and logical deduction, then Aschenbrenner's claim that AI will soon be capable of 'System 2 thinking' is questionable.\n",
       "\n",
       "**Belief**: Humans learn through a process of in-context learning, where they engage with information, reflect on it, and ultimately integrate it into their understanding.\n",
       "\n",
       "**Explanation**: The hypothesis directly challenges Aschenbrenner's assertion that AI will soon achieve advanced reasoning abilities like 'System 2 thinking.' By examining AI models' performance on complex reasoning tasks, we can assess the validity of this belief.\n",
       "\n",
       "**Potential Sources**:\n",
       "\n",
       "Benchmarking studies of AI models on complex reasoning tasks  \n",
       "Research papers on AI capabilities in problem-solving and logical deduction  \n",
       "Expert opinions on the challenges of achieving human-level reasoning in AI\n",
       "\n"
      ],
      "text/plain": [
       "<IPython.core.display.Markdown object>"
      ]
     },
     "metadata": {},
     "output_type": "display_data"
    },
    {
     "data": {
      "text/markdown": [
       "### Hypothesis 147\n",
       "\n",
       "**Hypothesis**: If existing research suggests that AI models lack the necessary robustness and reliability to perform tasks comparable to human workers, then Aschenbrenner's prediction that AI will soon replace human workers is unrealistic.\n",
       "\n",
       "**Belief**: Humans learn through a process of in-context learning, where they engage with information, reflect on it, and ultimately integrate it into their understanding.\n",
       "\n",
       "**Explanation**: This hypothesis focuses on the practical feasibility of AI replacing human workers. By analyzing current AI models' robustness and reliability, we can evaluate whether they are ready for such a significant role in the workforce.\n",
       "\n",
       "**Potential Sources**:\n",
       "\n",
       "Research papers on AI robustness and reliability in real-world applications  \n",
       "Analysis of AI performance in high-stakes tasks  \n",
       "Expert discussions on the readiness of AI for widespread workforce integration\n",
       "\n"
      ],
      "text/plain": [
       "<IPython.core.display.Markdown object>"
      ]
     },
     "metadata": {},
     "output_type": "display_data"
    },
    {
     "data": {
      "text/markdown": [
       "### Hypothesis 148\n",
       "\n",
       "**Hypothesis**: If advancements in artificial intelligence by 2027-2028 surpass the capabilities of GPT-4, including the ability to perform complex tasks, such as code writing, problem-solving, and decision-making, then the belief that AI will achieve a significant leap in capabilities during that period is valid.\n",
       "\n",
       "**Belief**: The increase in computational power and algorithmic progress will lead to a significant leap in AI capabilities between 2027 and 2028, exceeding the capabilities of GPT-4.\n",
       "\n",
       "**Explanation**: This hypothesis directly tests the core claim of the belief, focusing on the specific capabilities that would define a significant leap beyond GPT-4. It examines whether AI models will be able to perform tasks that were previously considered complex or exclusive to human intelligence.\n",
       "\n",
       "**Potential Sources**:\n",
       "\n",
       "Research papers on AI advancements, specifically those focusing on capabilities beyond GPT-4  \n",
       "Industry reports on AI performance benchmarks and progress  \n",
       "Expert opinions and predictions from leading AI researchers\n",
       "\n"
      ],
      "text/plain": [
       "<IPython.core.display.Markdown object>"
      ]
     },
     "metadata": {},
     "output_type": "display_data"
    },
    {
     "data": {
      "text/markdown": [
       "### Hypothesis 149\n",
       "\n",
       "**Hypothesis**: If AI advancements in 2027-2028 are primarily driven by scaling compute power without corresponding advancements in algorithms and techniques, then the belief that AI will achieve a significant leap in capabilities during that period is less likely to be valid.\n",
       "\n",
       "**Belief**: The increase in computational power and algorithmic progress will lead to a significant leap in AI capabilities between 2027 and 2028, exceeding the capabilities of GPT-4.\n",
       "\n",
       "**Explanation**: This hypothesis explores the specific drivers of AI progress, specifically whether simply increasing compute power is sufficient for the predicted leap in capabilities. It considers the role of algorithmic innovation and its potential impact on AI performance.\n",
       "\n",
       "**Potential Sources**:\n",
       "\n",
       "Research papers on AI algorithms and techniques  \n",
       "Data on the development and performance of AI models over time  \n",
       "Expert opinions on the relative importance of compute power and algorithm development\n",
       "\n"
      ],
      "text/plain": [
       "<IPython.core.display.Markdown object>"
      ]
     },
     "metadata": {},
     "output_type": "display_data"
    },
    {
     "data": {
      "text/markdown": [
       "### Hypothesis 150\n",
       "\n",
       "**Hypothesis**: If AI models in 2027-2028 demonstrate a significant increase in reliability and robustness, enabling them to perform tasks with a consistently high level of accuracy and dependability, then the belief that AI will achieve a significant leap in capabilities during that period is more likely to be valid.\n",
       "\n",
       "**Belief**: The increase in computational power and algorithmic progress will lead to a significant leap in AI capabilities between 2027 and 2028, exceeding the capabilities of GPT-4.\n",
       "\n",
       "**Explanation**: This hypothesis focuses on a critical aspect of AI advancement – the ability to perform tasks reliably and consistently. It examines whether AI models will overcome existing limitations in reliability and become more suitable for real-world applications.\n",
       "\n",
       "**Potential Sources**:\n",
       "\n",
       "Research on AI reliability and robustness testing  \n",
       "Performance metrics of AI models in real-world applications  \n",
       "Expert opinions on the importance of reliability for AI adoption\n",
       "\n"
      ],
      "text/plain": [
       "<IPython.core.display.Markdown object>"
      ]
     },
     "metadata": {},
     "output_type": "display_data"
    },
    {
     "data": {
      "text/markdown": [
       "### Hypothesis 151\n",
       "\n",
       "**Hypothesis**: If economic and social impacts of AI advancements in 2027-2028 are significant and widespread, including job displacement, changes in industry structures, and potential social unrest, then the belief that AI will achieve a significant leap in capabilities during that period is more likely to be valid.\n",
       "\n",
       "**Belief**: The increase in computational power and algorithmic progress will lead to a significant leap in AI capabilities between 2027 and 2028, exceeding the capabilities of GPT-4.\n",
       "\n",
       "**Explanation**: This hypothesis connects AI advancements to their potential impact on society, suggesting that significant social and economic changes would be indicative of a substantial leap in capabilities. It examines the broader consequences of AI progress.\n",
       "\n",
       "**Potential Sources**:\n",
       "\n",
       "Economic studies on the impact of AI on labor markets  \n",
       "Social science research on the societal implications of AI  \n",
       "Government reports and policy discussions on AI regulation and impact\n",
       "\n"
      ],
      "text/plain": [
       "<IPython.core.display.Markdown object>"
      ]
     },
     "metadata": {},
     "output_type": "display_data"
    },
    {
     "data": {
      "text/markdown": [
       "### Hypothesis 152\n",
       "\n",
       "**Hypothesis**: By 2027-2028, the total global compute power dedicated to AI will reach 10 GW, with the majority of this increase being driven by advancements in hardware and infrastructure.\n",
       "\n",
       "**Belief**: AI models will become increasingly intelligent and reliable, transitioning from chatbot-like interfaces to agents or drop-in remote workers.\n",
       "\n",
       "**Explanation**: This hypothesis directly addresses the central point of Leopold Aschenbrenner's prediction, which is the availability of sufficient computational power to enable significant advancements in AI capabilities. Verifying this prediction requires examining the current and projected trends in AI compute power.\n",
       "\n",
       "**Potential Sources**:\n",
       "\n",
       "Reports from industry analysts like OpenAI, McKinsey, and Gartner on AI hardware trends and compute power projections  \n",
       "Research papers and publications from academic institutions on AI hardware advancements and their impact on compute power  \n",
       "Data and statistics from cloud computing providers like AWS, Google Cloud, and Microsoft Azure on AI compute infrastructure deployments and usage patterns\n",
       "\n"
      ],
      "text/plain": [
       "<IPython.core.display.Markdown object>"
      ]
     },
     "metadata": {},
     "output_type": "display_data"
    },
    {
     "data": {
      "text/markdown": [
       "### Hypothesis 153\n",
       "\n",
       "**Hypothesis**: The projected increase in AI compute power will lead to significant advancements in AI model capabilities, including enhanced intelligence and reliability, potentially surpassing the capabilities of current chatbot models.\n",
       "\n",
       "**Belief**: AI models will become increasingly intelligent and reliable, transitioning from chatbot-like interfaces to agents or drop-in remote workers.\n",
       "\n",
       "**Explanation**: This hypothesis examines the causal relationship between increased compute power and AI model improvements. If the projected 10 GW compute power is achieved, we need to assess whether it will translate into the predicted advancements in AI capabilities, particularly in terms of intelligence and reliability.\n",
       "\n",
       "**Potential Sources**:\n",
       "\n",
       "Research papers and publications on the relationship between AI model size, computational resources, and performance  \n",
       "Benchmarks and evaluations of advanced AI models (e.g., GPT-3, GPT-4) in terms of intelligence, reliability, and task performance  \n",
       "Expert opinions and analyses from leading AI researchers and developers on the future of AI model capabilities\n",
       "\n"
      ],
      "text/plain": [
       "<IPython.core.display.Markdown object>"
      ]
     },
     "metadata": {},
     "output_type": "display_data"
    },
    {
     "data": {
      "text/markdown": [
       "### Hypothesis 154\n",
       "\n",
       "**Hypothesis**: The transition from chatbot-like interfaces to agent or remote worker interfaces will be driven by advancements in AI model capabilities, particularly in natural language processing, reasoning, and problem-solving.\n",
       "\n",
       "**Belief**: AI models will become increasingly intelligent and reliable, transitioning from chatbot-like interfaces to agents or drop-in remote workers.\n",
       "\n",
       "**Explanation**: This hypothesis focuses on the specific AI capabilities required to achieve the predicted transition in AI interfaces. We need to analyze the progress and projected advancements in these capabilities to determine if they will enable the development of AI agents capable of replacing human workers in specific tasks.\n",
       "\n",
       "**Potential Sources**:\n",
       "\n",
       "Research papers and publications on advancements in natural language processing, reasoning, and problem-solving in AI models  \n",
       "Developments and demonstrations of AI agents capable of performing tasks traditionally done by humans, such as writing, translation, or coding  \n",
       "Expert opinions and analyses from AI researchers and developers on the potential for AI to replace human workers in specific fields\n",
       "\n"
      ],
      "text/plain": [
       "<IPython.core.display.Markdown object>"
      ]
     },
     "metadata": {},
     "output_type": "display_data"
    },
    {
     "data": {
      "text/markdown": [
       "### Hypothesis 155\n",
       "\n",
       "**Hypothesis**: The widespread adoption and deployment of AI agents or remote workers will have significant economic, political, and geopolitical consequences, including potential job displacement and shifts in power dynamics.\n",
       "\n",
       "**Belief**: AI models will become increasingly intelligent and reliable, transitioning from chatbot-like interfaces to agents or drop-in remote workers.\n",
       "\n",
       "**Explanation**: This hypothesis examines the potential impact of the predicted AI revolution on society as a whole. We need to analyze the potential social, economic, and geopolitical consequences of widespread AI adoption to assess the validity of Leopold Aschenbrenner's predictions about the future of work and society.\n",
       "\n",
       "**Potential Sources**:\n",
       "\n",
       "Research papers and publications on the economic and social impacts of automation and AI  \n",
       "Reports and analyses from think tanks and policy organizations on the future of work and the implications of AI  \n",
       "Expert opinions and analyses from economists, sociologists, and political scientists on the potential consequences of AI advancements\n",
       "\n"
      ],
      "text/plain": [
       "<IPython.core.display.Markdown object>"
      ]
     },
     "metadata": {},
     "output_type": "display_data"
    },
    {
     "data": {
      "text/markdown": [
       "### Hypothesis 156\n",
       "\n",
       "**Hypothesis**: The development of computational power will continue to follow Moore's Law, indicating a significant increase in computational power by 2027-2028.\n",
       "\n",
       "**Belief**: The computational power available for AI development will significantly increase by 2027-2028, reaching a level of 10 GW, potentially even earlier.\n",
       "\n",
       "**Explanation**: This hypothesis directly addresses the belief's core assertion about the computational power increase by 2027-2028. Examining the validity of Moore's Law in the context of AI hardware development is crucial to understanding if the projected increase is realistic.\n",
       "\n",
       "**Potential Sources**:\n",
       "\n",
       "Reports on advancements in AI hardware and computational power  \n",
       "Articles and studies on Moore's Law and its applicability to AI hardware  \n",
       "Research papers on emerging technologies for AI hardware\n",
       "\n"
      ],
      "text/plain": [
       "<IPython.core.display.Markdown object>"
      ]
     },
     "metadata": {},
     "output_type": "display_data"
    },
    {
     "data": {
      "text/markdown": [
       "### Hypothesis 157\n",
       "\n",
       "**Hypothesis**: The projected 10 GW computational power cluster will be achieved by 2028, but it will primarily be driven by cloud computing infrastructure rather than dedicated AI hardware.\n",
       "\n",
       "**Belief**: The computational power available for AI development will significantly increase by 2027-2028, reaching a level of 10 GW, potentially even earlier.\n",
       "\n",
       "**Explanation**: This hypothesis explores the potential sources of the computational power increase and how it might impact the development of AI. It considers the possibility that cloud computing will play a major role, potentially shifting the focus away from dedicated AI hardware development.\n",
       "\n",
       "**Potential Sources**:\n",
       "\n",
       "Market reports on cloud computing infrastructure and its growth  \n",
       "Data on AI hardware development and its limitations  \n",
       "Analyses of trends in AI development and its reliance on cloud resources\n",
       "\n"
      ],
      "text/plain": [
       "<IPython.core.display.Markdown object>"
      ]
     },
     "metadata": {},
     "output_type": "display_data"
    },
    {
     "data": {
      "text/markdown": [
       "### Hypothesis 158\n",
       "\n",
       "**Hypothesis**: The development of AI models will be significantly accelerated by the projected computational power increase, enabling the creation of AI systems capable of replacing human workers in various sectors.\n",
       "\n",
       "**Belief**: The computational power available for AI development will significantly increase by 2027-2028, reaching a level of 10 GW, potentially even earlier.\n",
       "\n",
       "**Explanation**: This hypothesis examines the potential impact of increased computational power on AI capabilities, specifically focusing on its ability to automate tasks previously performed by humans. This directly relates to the belief's discussion about the rise of remote workers and their impact on the economy.\n",
       "\n",
       "**Potential Sources**:\n",
       "\n",
       "Research papers on AI development and its relationship to computational resources  \n",
       "Studies on AI capabilities and their potential impact on the workforce  \n",
       "Analyses of the economic and social implications of AI automation\n",
       "\n"
      ],
      "text/plain": [
       "<IPython.core.display.Markdown object>"
      ]
     },
     "metadata": {},
     "output_type": "display_data"
    },
    {
     "data": {
      "text/markdown": [
       "### Hypothesis 159\n",
       "\n",
       "**Hypothesis**: The projected increase in computational power will lead to advancements in AI algorithms, resulting in more sophisticated AI models capable of complex tasks.\n",
       "\n",
       "**Belief**: The computational power available for AI development will significantly increase by 2027-2028, reaching a level of 10 GW, potentially even earlier.\n",
       "\n",
       "**Explanation**: This hypothesis focuses on the potential for algorithmic improvements driven by the increased computational power. It investigates whether these advancements will result in AI models capable of performing tasks that require complex reasoning and problem-solving abilities.\n",
       "\n",
       "**Potential Sources**:\n",
       "\n",
       "Research papers on AI algorithms and their development  \n",
       "Studies on the relationship between computational power and algorithmic complexity  \n",
       "Analyses of trends in AI algorithm design and their potential impact on model capabilities\n",
       "\n"
      ],
      "text/plain": [
       "<IPython.core.display.Markdown object>"
      ]
     },
     "metadata": {},
     "output_type": "display_data"
    },
    {
     "data": {
      "text/markdown": [
       "### Hypothesis 160\n",
       "\n",
       "**Hypothesis**: The development of AI models with 10 GW computational power will face significant challenges in terms of data availability and data management, potentially hindering the realization of the projected capabilities.\n",
       "\n",
       "**Belief**: The computational power available for AI development will significantly increase by 2027-2028, reaching a level of 10 GW, potentially even earlier.\n",
       "\n",
       "**Explanation**: This hypothesis challenges the belief's optimistic outlook by exploring potential limitations related to data availability and management. It considers the possibility that the availability of sufficient high-quality data might pose a bottleneck for AI development even with increased computational power.\n",
       "\n",
       "**Potential Sources**:\n",
       "\n",
       "Research papers on data requirements for AI development  \n",
       "Analyses of the challenges in data acquisition and management for AI models  \n",
       "Reports on data privacy concerns and their impact on AI development\n",
       "\n"
      ],
      "text/plain": [
       "<IPython.core.display.Markdown object>"
      ]
     },
     "metadata": {},
     "output_type": "display_data"
    },
    {
     "data": {
      "text/markdown": [
       "### Hypothesis 161\n",
       "\n",
       "**Hypothesis**: If AI research and development in 2023 saw significant breakthroughs and practical applications, leading to a widespread increase in investment and public interest, then Leopold Aschenbrenner's statement about 2023 being an 'interesting year' for AI is validated.\n",
       "\n",
       "**Belief**: The year 2023 was a significant period for observing the advancements and impact of artificial intelligence (AI).\n",
       "\n",
       "**Explanation**: This hypothesis connects Leopold Aschenbrenner's statement about 2023 being an 'interesting year' for AI to tangible evidence of progress and impact within the field.  Significant breakthroughs and increased investment would align with his perception.\n",
       "\n",
       "**Potential Sources**:\n",
       "\n",
       "Research papers and publications on AI advancements in 2023  \n",
       "News articles and reports on AI funding and investment in 2023  \n",
       "Industry data on AI product releases and adoption in 2023  \n",
       "Public opinion surveys or analyses on AI awareness and interest in 2023\n",
       "\n"
      ],
      "text/plain": [
       "<IPython.core.display.Markdown object>"
      ]
     },
     "metadata": {},
     "output_type": "display_data"
    },
    {
     "data": {
      "text/markdown": [
       "### Hypothesis 162\n",
       "\n",
       "**Hypothesis**: If the AI community in 2023 was characterized by significant skepticism and limited progress towards AGI, contradicting Leopold Aschenbrenner's perspective, then his statement about the year being 'interesting' might be considered an overstatement.\n",
       "\n",
       "**Belief**: The year 2023 was a significant period for observing the advancements and impact of artificial intelligence (AI).\n",
       "\n",
       "**Explanation**: This hypothesis explores the possibility that Leopold Aschenbrenner's perspective on 2023 might be subjective and not reflective of the broader AI landscape. If the field lacked significant progress or widespread optimism, his statement could be challenged.\n",
       "\n",
       "**Potential Sources**:\n",
       "\n",
       "Expert interviews and opinions on the state of AI in 2023  \n",
       "Research publications and conferences focusing on AGI development in 2023  \n",
       "Discussions and debates within the AI community in 2023\n",
       "\n"
      ],
      "text/plain": [
       "<IPython.core.display.Markdown object>"
      ]
     },
     "metadata": {},
     "output_type": "display_data"
    },
    {
     "data": {
      "text/markdown": [
       "### Hypothesis 163\n",
       "\n",
       "**Hypothesis**: If the introduction of ChatGPT and GPT-4 in 2023 led to a significant shift in public perception and industry interest towards AI, mirroring Leopold Aschenbrenner's experience, then his claim about 2023 being an 'interesting year' is supported.\n",
       "\n",
       "**Belief**: The year 2023 was a significant period for observing the advancements and impact of artificial intelligence (AI).\n",
       "\n",
       "**Explanation**: This hypothesis connects Leopold Aschenbrenner's observation to the specific events of 2023. If ChatGPT and GPT-4 significantly impacted public awareness and industry investment, it would validate his view of the year's importance.\n",
       "\n",
       "**Potential Sources**:\n",
       "\n",
       "Media coverage and public reactions to ChatGPT and GPT-4 in 2023  \n",
       "Analysis of AI-related investments and business activities in 2023  \n",
       "Research on the impact of large language models on public perception in 2023\n",
       "\n"
      ],
      "text/plain": [
       "<IPython.core.display.Markdown object>"
      ]
     },
     "metadata": {},
     "output_type": "display_data"
    },
    {
     "data": {
      "text/markdown": [
       "### Hypothesis 164\n",
       "\n",
       "**Hypothesis**: The rate of improvement in AI model performance, especially for large language models, is accelerating, as evidenced by the increasing complexity and capabilities of models released since 2023.\n",
       "\n",
       "**Belief**: Artificial general intelligence (AGI) is no longer a theoretical concept but is becoming increasingly real and tangible.\n",
       "\n",
       "**Explanation**: This hypothesis directly addresses Aschenbrenner's claim that AGI is no longer theoretical by examining the tangible progress of AI models. If the performance improvements are significant and accelerating, it supports his view of AGI becoming a reality.\n",
       "\n",
       "**Potential Sources**:\n",
       "\n",
       "Research papers on AI model performance and benchmark results (e.g., MMLU, SuperGLUE)  \n",
       "Technical documentation of new AI models released by companies like OpenAI, Google, and Microsoft  \n",
       "Industry reports and analysis on the advancements and trends in AI and LLMs\n",
       "\n"
      ],
      "text/plain": [
       "<IPython.core.display.Markdown object>"
      ]
     },
     "metadata": {},
     "output_type": "display_data"
    },
    {
     "data": {
      "text/markdown": [
       "### Hypothesis 165\n",
       "\n",
       "**Hypothesis**: The increasing investment in AI development, particularly in areas like LLMs, reflects a growing belief in the potential for AGI and its impact on various industries.\n",
       "\n",
       "**Belief**: Artificial general intelligence (AGI) is no longer a theoretical concept but is becoming increasingly real and tangible.\n",
       "\n",
       "**Explanation**: Aschenbrenner mentions the surge in capital expenditure following the emergence of ChatGPT and GPT-4. If the investment levels continue to rise, it indicates a growing industry-wide confidence in AGI's potential, aligning with his belief.\n",
       "\n",
       "**Potential Sources**:\n",
       "\n",
       "Financial data on investments in AI companies and projects  \n",
       "Industry reports and analysis on the AI market and investment trends  \n",
       "News articles and press releases on significant AI funding rounds and partnerships\n",
       "\n"
      ],
      "text/plain": [
       "<IPython.core.display.Markdown object>"
      ]
     },
     "metadata": {},
     "output_type": "display_data"
    },
    {
     "data": {
      "text/markdown": [
       "### Hypothesis 166\n",
       "\n",
       "**Hypothesis**: The number of researchers and developers actively working on AI and AGI is growing rapidly, suggesting a growing awareness and focus on these fields.\n",
       "\n",
       "**Belief**: Artificial general intelligence (AGI) is no longer a theoretical concept but is becoming increasingly real and tangible.\n",
       "\n",
       "**Explanation**: The growth in the AI community indicates a shift towards AGI as a tangible goal. If the number of researchers and developers increases, it suggests a wider acceptance and focus on the field, supporting Aschenbrenner's belief in AGI's growing relevance.\n",
       "\n",
       "**Potential Sources**:\n",
       "\n",
       "Data on the number of AI researchers and developers globally  \n",
       "Reports on the growth of AI research labs and departments in universities and companies  \n",
       "Statistics on AI-related publications, conferences, and workshops\n",
       "\n"
      ],
      "text/plain": [
       "<IPython.core.display.Markdown object>"
      ]
     },
     "metadata": {},
     "output_type": "display_data"
    },
    {
     "data": {
      "text/markdown": [
       "### Hypothesis 167\n",
       "\n",
       "**Hypothesis**: Public perception of AGI is shifting from skepticism to acceptance, as evidenced by increasing media coverage and discussions on the topic.\n",
       "\n",
       "**Belief**: Artificial general intelligence (AGI) is no longer a theoretical concept but is becoming increasingly real and tangible.\n",
       "\n",
       "**Explanation**: Aschenbrenner notes that AGI was considered a 'dirty word' in 2023. If public perception is evolving towards more acceptance, it suggests that AGI is becoming more tangible and less theoretical, supporting his claim.\n",
       "\n",
       "**Potential Sources**:\n",
       "\n",
       "News articles and media coverage on AGI and its implications  \n",
       "Social media analysis of conversations and trends related to AGI  \n",
       "Public opinion polls and surveys on attitudes towards AGI and its potential impact\n",
       "\n"
      ],
      "text/plain": [
       "<IPython.core.display.Markdown object>"
      ]
     },
     "metadata": {},
     "output_type": "display_data"
    },
    {
     "data": {
      "text/markdown": [
       "### Hypothesis 168\n",
       "\n",
       "**Hypothesis**: The impact of AI, particularly LLMs, on various industries, such as customer service, content creation, and automation, is becoming more pronounced, further validating the potential for AGI.\n",
       "\n",
       "**Belief**: Artificial general intelligence (AGI) is no longer a theoretical concept but is becoming increasingly real and tangible.\n",
       "\n",
       "**Explanation**: Aschenbrenner observes the real-world applications of AI. If AI is having a noticeable impact on different industries, it provides evidence that AGI is not just a theoretical concept but a technology with real-world implications.\n",
       "\n",
       "**Potential Sources**:\n",
       "\n",
       "Case studies and reports on the implementation of AI and LLMs in various industries  \n",
       "Analysis of the economic and societal impact of AI on jobs, productivity, and innovation  \n",
       "Expert opinions and industry analyses on the future of AI and its impact on different sectors\n",
       "\n"
      ],
      "text/plain": [
       "<IPython.core.display.Markdown object>"
      ]
     },
     "metadata": {},
     "output_type": "display_data"
    },
    {
     "data": {
      "text/markdown": [
       "### Hypothesis 169\n",
       "\n",
       "**Hypothesis**: If the revenue of AI-related companies, particularly those focused on LLMs, does not exhibit a consistent trend of doubling every six months, then the belief about the rapid progression of AI development is less likely to be validated.\n",
       "\n",
       "**Belief**: The development of AI, specifically large language models (LLMs), is rapidly progressing and will continue to do so in the future.\n",
       "\n",
       "**Explanation**: The claim of revenue doubling every six months is a key indicator of rapid advancement and growth in the AI sector. If this trend is not observed, it suggests slower progress and potentially challenges in the development and adoption of AI technologies.\n",
       "\n",
       "**Potential Sources**:\n",
       "\n",
       "Financial reports of leading AI companies  \n",
       "Market analysis reports on the AI industry  \n",
       "Investment data on AI companies\n",
       "\n"
      ],
      "text/plain": [
       "<IPython.core.display.Markdown object>"
      ]
     },
     "metadata": {},
     "output_type": "display_data"
    },
    {
     "data": {
      "text/markdown": [
       "### Hypothesis 170\n",
       "\n",
       "**Hypothesis**: If the number and complexity of AI applications, particularly those involving LLMs, increase significantly in the coming years, it will support the belief about the rapid progression of AI development.\n",
       "\n",
       "**Belief**: The development of AI, specifically large language models (LLMs), is rapidly progressing and will continue to do so in the future.\n",
       "\n",
       "**Explanation**: A growing number of real-world applications of AI, especially those involving sophisticated LLMs, would demonstrate the increasing capabilities and widespread adoption of these technologies, supporting the belief about rapid advancement.\n",
       "\n",
       "**Potential Sources**:\n",
       "\n",
       "Research papers on AI applications  \n",
       "Industry reports on AI adoption across various sectors  \n",
       "News articles and case studies highlighting successful AI deployments\n",
       "\n"
      ],
      "text/plain": [
       "<IPython.core.display.Markdown object>"
      ]
     },
     "metadata": {},
     "output_type": "display_data"
    },
    {
     "data": {
      "text/markdown": [
       "### Hypothesis 171\n",
       "\n",
       "**Hypothesis**: If research and development investments in AI, particularly for LLMs, continue to grow at an accelerated pace, it will provide evidence for the rapid progression of AI development.\n",
       "\n",
       "**Belief**: The development of AI, specifically large language models (LLMs), is rapidly progressing and will continue to do so in the future.\n",
       "\n",
       "**Explanation**: Sustained growth in research and development investment, especially focused on LLMs, indicates a continued commitment to advancing these technologies, which is essential for rapid progress.\n",
       "\n",
       "**Potential Sources**:\n",
       "\n",
       "Research funding data from government agencies and private organizations  \n",
       "Reports on AI investment trends  \n",
       "News articles and announcements about new AI research initiatives\n",
       "\n"
      ],
      "text/plain": [
       "<IPython.core.display.Markdown object>"
      ]
     },
     "metadata": {},
     "output_type": "display_data"
    },
    {
     "data": {
      "text/markdown": [
       "### Hypothesis 172\n",
       "\n",
       "**Hypothesis**: If there is a significant increase in the number of public and private organizations expressing concern about the potential risks of advanced AI, it could suggest that the rapid progression of AI development is concerning.\n",
       "\n",
       "**Belief**: The development of AI, specifically large language models (LLMs), is rapidly progressing and will continue to do so in the future.\n",
       "\n",
       "**Explanation**: Increased concerns about the ethical, societal, and security implications of advanced AI could indicate that its rapid development is raising anxieties and prompting calls for regulation and control.\n",
       "\n",
       "**Potential Sources**:\n",
       "\n",
       "Government reports on AI regulation  \n",
       "Ethics statements and guidelines from leading AI organizations  \n",
       "News articles and public debates about AI risks\n",
       "\n"
      ],
      "text/plain": [
       "<IPython.core.display.Markdown object>"
      ]
     },
     "metadata": {},
     "output_type": "display_data"
    },
    {
     "data": {
      "text/markdown": [
       "### Hypothesis 173\n",
       "\n",
       "**Hypothesis**: If the pace of AI development slows down significantly, then the predicted surge in revenue for AI-related companies will be less pronounced.\n",
       "\n",
       "**Belief**: The rapid advancements in AI will lead to a significant increase in revenue for companies involved in its development and application.\n",
       "\n",
       "**Explanation**: The belief relies on the rapid advancement of AI, particularly in large language models, to drive revenue growth. A slower development pace would limit the adoption and impact of these technologies, potentially hindering revenue increases.\n",
       "\n",
       "**Potential Sources**:\n",
       "\n",
       "Industry reports on AI development trends  \n",
       "Research papers on the progress of large language models  \n",
       "Analyst forecasts on AI market growth\n",
       "\n"
      ],
      "text/plain": [
       "<IPython.core.display.Markdown object>"
      ]
     },
     "metadata": {},
     "output_type": "display_data"
    },
    {
     "data": {
      "text/markdown": [
       "### Hypothesis 174\n",
       "\n",
       "**Hypothesis**: If the market for AI-based wrapper technologies continues to grow despite the emergence of more advanced models, then the belief that these technologies will become obsolete is invalid.\n",
       "\n",
       "**Belief**: The rapid advancements in AI will lead to a significant increase in revenue for companies involved in its development and application.\n",
       "\n",
       "**Explanation**: Aschenbrenner argues that more powerful AI models will render existing wrapper technologies obsolete. However, if the market for these technologies remains strong, it indicates they still provide value and may not be easily replaced.\n",
       "\n",
       "**Potential Sources**:\n",
       "\n",
       "Market research on the demand for AI wrapper technologies  \n",
       "Financial reports of companies offering AI wrapper solutions  \n",
       "Industry articles on the adoption of AI wrapper technologies\n",
       "\n"
      ],
      "text/plain": [
       "<IPython.core.display.Markdown object>"
      ]
     },
     "metadata": {},
     "output_type": "display_data"
    },
    {
     "data": {
      "text/markdown": [
       "### Hypothesis 175\n",
       "\n",
       "**Hypothesis**: If the adoption of AI technologies in industries beyond tech leads to significant revenue growth for companies involved in AI development, then the belief that a similar trend will occur in Big Tech is more likely to be true.\n",
       "\n",
       "**Belief**: The rapid advancements in AI will lead to a significant increase in revenue for companies involved in its development and application.\n",
       "\n",
       "**Explanation**: Aschenbrenner predicts a similar revenue boom in Big Tech based on the growth witnessed in Nvidia. If the same pattern is observed in other industries, it strengthens the hypothesis that Big Tech will experience a similar surge in revenue.\n",
       "\n",
       "**Potential Sources**:\n",
       "\n",
       "Financial reports of companies using AI in various industries  \n",
       "Industry analyses on the impact of AI across different sectors  \n",
       "Case studies on the successful implementation of AI in non-tech businesses\n",
       "\n"
      ],
      "text/plain": [
       "<IPython.core.display.Markdown object>"
      ]
     },
     "metadata": {},
     "output_type": "display_data"
    },
    {
     "data": {
      "text/markdown": [
       "### Hypothesis 176\n",
       "\n",
       "**Hypothesis**: If AI development leads to a significant increase in investment in related technologies, particularly in areas like hardware and data infrastructure, then the belief that AI will drive revenue growth is supported.\n",
       "\n",
       "**Belief**: The rapid advancements in AI will lead to a significant increase in revenue for companies involved in its development and application.\n",
       "\n",
       "**Explanation**: The belief hinges on the idea that AI will trigger a large-scale investment cycle, particularly in the development of supporting infrastructure. Increased investment in these areas would signal a strong belief in the future potential of AI and its economic impact.\n",
       "\n",
       "**Potential Sources**:\n",
       "\n",
       "Investment reports on AI-related technologies  \n",
       "Analysis of venture capital activity in the AI space  \n",
       "Market data on the demand for hardware and data infrastructure supporting AI applications\n",
       "\n"
      ],
      "text/plain": [
       "<IPython.core.display.Markdown object>"
      ]
     },
     "metadata": {},
     "output_type": "display_data"
    },
    {
     "data": {
      "text/markdown": [
       "### Hypothesis 177\n",
       "\n",
       "**Hypothesis**: If the current rate of AI revenue growth continues, then achieving $100 billion in revenue by 2026 is a plausible outcome, supporting the belief in a rapid financial impact.\n",
       "\n",
       "**Belief**: The rapid advancements in AI will lead to a significant increase in revenue for companies involved in its development and application.\n",
       "\n",
       "**Explanation**: Aschenbrenner's prediction of a $100 billion revenue milestone relies on the current growth trajectory of AI-related companies. By analyzing historical data and projecting future growth, we can determine the plausibility of reaching this target.\n",
       "\n",
       "**Potential Sources**:\n",
       "\n",
       "Financial reports of AI-related companies  \n",
       "Market analysis on AI revenue trends  \n",
       "Economic models forecasting AI market growth\n",
       "\n"
      ],
      "text/plain": [
       "<IPython.core.display.Markdown object>"
      ]
     },
     "metadata": {},
     "output_type": "display_data"
    },
    {
     "data": {
      "text/markdown": [
       "### Hypothesis 178\n",
       "\n",
       "**Hypothesis**: If the pace of AI advancement continues at its current rate, then AI models capable of performing complex remote tasks, including those currently requiring human intervention, will become available within a few years.\n",
       "\n",
       "**Belief**: Companies developing GPT wrapper technologies are making a mistake by assuming that the current AI models will remain relatively stagnant and that it will take significant effort to integrate them into various applications.\n",
       "\n",
       "**Explanation**: This hypothesis directly addresses the belief that AI advancements will happen quickly, rendering current GPT wrapper technologies obsolete.\n",
       "\n",
       "**Potential Sources**:\n",
       "\n",
       "Research papers and publications on AI advancements  \n",
       "Industry reports on AI development trends  \n",
       "Expert opinions and interviews from AI researchers\n",
       "\n"
      ],
      "text/plain": [
       "<IPython.core.display.Markdown object>"
      ]
     },
     "metadata": {},
     "output_type": "display_data"
    },
    {
     "data": {
      "text/markdown": [
       "### Hypothesis 179\n",
       "\n",
       "**Hypothesis**: If AI models become increasingly powerful and versatile, the integration of AI into workplaces will become more seamless and less reliant on specialized wrapper technologies.\n",
       "\n",
       "**Belief**: Companies developing GPT wrapper technologies are making a mistake by assuming that the current AI models will remain relatively stagnant and that it will take significant effort to integrate them into various applications.\n",
       "\n",
       "**Explanation**: This hypothesis explores the feasibility of integrating advanced AI models into various applications without the need for complex wrapper technologies.\n",
       "\n",
       "**Potential Sources**:\n",
       "\n",
       "Case studies of AI integration in different industries  \n",
       "Analysis of AI adoption and integration challenges  \n",
       "Expert opinions on the future of AI integration in workplaces\n",
       "\n"
      ],
      "text/plain": [
       "<IPython.core.display.Markdown object>"
      ]
     },
     "metadata": {},
     "output_type": "display_data"
    },
    {
     "data": {
      "text/markdown": [
       "### Hypothesis 180\n",
       "\n",
       "**Hypothesis**: If the development of AI models capable of performing complex remote tasks is significantly hindered by technical limitations, then the belief that GPT wrapper technologies will become obsolete within a short timeframe is invalid.\n",
       "\n",
       "**Belief**: Companies developing GPT wrapper technologies are making a mistake by assuming that the current AI models will remain relatively stagnant and that it will take significant effort to integrate them into various applications.\n",
       "\n",
       "**Explanation**: This hypothesis considers the possibility that technical limitations may slow down the development of advanced AI models, potentially prolonging the relevance of current wrapper technologies.\n",
       "\n",
       "**Potential Sources**:\n",
       "\n",
       "Research papers and discussions on AI technical limitations  \n",
       "Analysis of challenges in AI development  \n",
       "Expert opinions on the feasibility of achieving specific AI capabilities\n",
       "\n"
      ],
      "text/plain": [
       "<IPython.core.display.Markdown object>"
      ]
     },
     "metadata": {},
     "output_type": "display_data"
    },
    {
     "data": {
      "text/markdown": [
       "### Hypothesis 181\n",
       "\n",
       "**Hypothesis**: If user adoption of AI models and integration into workplaces is hindered by factors such as cost, security concerns, or lack of user-friendliness, then the belief that GPT wrapper technologies will become obsolete quickly is invalid.\n",
       "\n",
       "**Belief**: Companies developing GPT wrapper technologies are making a mistake by assuming that the current AI models will remain relatively stagnant and that it will take significant effort to integrate them into various applications.\n",
       "\n",
       "**Explanation**: This hypothesis explores the potential impact of user adoption and integration challenges on the timeline for the obsolescence of GPT wrapper technologies.\n",
       "\n",
       "**Potential Sources**:\n",
       "\n",
       "Market research on user adoption of AI technologies  \n",
       "Analysis of user perceptions and concerns about AI  \n",
       "Case studies of AI adoption challenges and solutions\n",
       "\n"
      ],
      "text/plain": [
       "<IPython.core.display.Markdown object>"
      ]
     },
     "metadata": {},
     "output_type": "display_data"
    },
    {
     "data": {
      "text/markdown": [
       "### Hypothesis 182\n",
       "\n",
       "**Hypothesis**: The US National Security State is actively investing in the development and deployment of AI technologies for remote operations, including autonomous drones and remote sensing systems.\n",
       "\n",
       "**Belief**: The development of AI will rapidly progress and lead to the creation of 'drop-in' remote workers, effectively automating many remote jobs.\n",
       "\n",
       "**Explanation**: This hypothesis relates to the belief by focusing on the specific actions of the US government, which are directly relevant to the belief's prediction of widespread AI adoption for remote work.\n",
       "\n",
       "**Potential Sources**:\n",
       "\n",
       "US Department of Defense budget documents  \n",
       "Reports from the US intelligence community  \n",
       "Articles and research papers on military applications of AI\n",
       "\n"
      ],
      "text/plain": [
       "<IPython.core.display.Markdown object>"
      ]
     },
     "metadata": {},
     "output_type": "display_data"
    },
    {
     "data": {
      "text/markdown": [
       "### Hypothesis 183\n",
       "\n",
       "**Hypothesis**: The rate of progress in AI development, particularly in areas like natural language processing and computer vision, is accelerating faster than previously anticipated, supporting the belief that AI will soon be capable of replacing human workers in many roles.\n",
       "\n",
       "**Belief**: The development of AI will rapidly progress and lead to the creation of 'drop-in' remote workers, effectively automating many remote jobs.\n",
       "\n",
       "**Explanation**: This hypothesis examines the rate of AI development, a key factor influencing the belief's prediction about the timing of AI-driven job displacement.\n",
       "\n",
       "**Potential Sources**:\n",
       "\n",
       "Scientific publications on AI research advancements  \n",
       "Industry reports on AI development trends  \n",
       "Data on the performance of AI models over time\n",
       "\n"
      ],
      "text/plain": [
       "<IPython.core.display.Markdown object>"
      ]
     },
     "metadata": {},
     "output_type": "display_data"
    },
    {
     "data": {
      "text/markdown": [
       "### Hypothesis 184\n",
       "\n",
       "**Hypothesis**: The adoption of AI technologies by businesses, particularly in areas like customer service, data analysis, and content creation, is increasing rapidly, indicating a growing demand for AI-powered solutions and supporting the belief that AI will soon become widespread in the workforce.\n",
       "\n",
       "**Belief**: The development of AI will rapidly progress and lead to the creation of 'drop-in' remote workers, effectively automating many remote jobs.\n",
       "\n",
       "**Explanation**: This hypothesis examines the adoption of AI by businesses, a crucial indicator of the belief's prediction about the widespread integration of AI into the workplace.\n",
       "\n",
       "**Potential Sources**:\n",
       "\n",
       "Market research reports on AI adoption by businesses  \n",
       "Industry surveys on AI investments  \n",
       "Case studies of companies utilizing AI solutions\n",
       "\n"
      ],
      "text/plain": [
       "<IPython.core.display.Markdown object>"
      ]
     },
     "metadata": {},
     "output_type": "display_data"
    },
    {
     "data": {
      "text/markdown": [
       "### Hypothesis 185\n",
       "\n",
       "**Hypothesis**: The global AI talent pool is expanding rapidly, with a growing number of skilled AI researchers, engineers, and developers, indicating a robust ecosystem for the continued development of advanced AI technologies that could support the creation of 'drop-in' remote workers.\n",
       "\n",
       "**Belief**: The development of AI will rapidly progress and lead to the creation of 'drop-in' remote workers, effectively automating many remote jobs.\n",
       "\n",
       "**Explanation**: This hypothesis examines the availability of AI talent, a key factor influencing the belief's prediction about the future development and deployment of AI technologies.\n",
       "\n",
       "**Potential Sources**:\n",
       "\n",
       "Reports on the global AI talent market  \n",
       "Data on the number of AI-related degrees awarded  \n",
       "Articles on the growth of AI communities and conferences\n",
       "\n"
      ],
      "text/plain": [
       "<IPython.core.display.Markdown object>"
      ]
     },
     "metadata": {},
     "output_type": "display_data"
    },
    {
     "data": {
      "text/markdown": [
       "### Hypothesis 186\n",
       "\n",
       "**Hypothesis**: There is a growing concern about the potential impact of AI on the future of work, with discussions on job displacement, economic inequality, and the need for government intervention, supporting the belief that AI's disruptive potential is being recognized by policymakers.\n",
       "\n",
       "**Belief**: The development of AI will rapidly progress and lead to the creation of 'drop-in' remote workers, effectively automating many remote jobs.\n",
       "\n",
       "**Explanation**: This hypothesis examines the public and policy discussions about AI's impact on the workforce, providing evidence for the belief's prediction of AI's significant impact on the future of work.\n",
       "\n",
       "**Potential Sources**:\n",
       "\n",
       "News articles and opinion pieces on AI and the future of work  \n",
       "Reports from think tanks and research institutions  \n",
       "Government policy documents on AI and automation\n",
       "\n"
      ],
      "text/plain": [
       "<IPython.core.display.Markdown object>"
      ]
     },
     "metadata": {},
     "output_type": "display_data"
    },
    {
     "data": {
      "text/markdown": [
       "### Hypothesis 187\n",
       "\n",
       "**Hypothesis**: If the national security state is currently not prioritizing AI research and development, then it's unlikely to become increasingly interested in it within the next few years.\n",
       "\n",
       "**Belief**: The national security state, specifically in the US, will become increasingly interested in artificial intelligence (AI) in the coming years.\n",
       "\n",
       "**Explanation**: This hypothesis directly examines the current state of AI interest within the national security establishment. If there's currently no significant focus or investment, it's less likely to become a priority in the near future, contradicting the belief.\n",
       "\n",
       "**Potential Sources**:\n",
       "\n",
       "Government reports and documents on national security strategy  \n",
       "Budgets and funding allocations for AI research in national security agencies  \n",
       "Statements and speeches from national security officials regarding AI\n",
       "\n"
      ],
      "text/plain": [
       "<IPython.core.display.Markdown object>"
      ]
     },
     "metadata": {},
     "output_type": "display_data"
    },
    {
     "data": {
      "text/markdown": [
       "### Hypothesis 188\n",
       "\n",
       "**Hypothesis**: If AI advancements continue to progress rapidly, demonstrating potential for significant military and economic advantages, then the national security state's interest in AI will likely increase.\n",
       "\n",
       "**Belief**: The national security state, specifically in the US, will become increasingly interested in artificial intelligence (AI) in the coming years.\n",
       "\n",
       "**Explanation**: This hypothesis explores the potential impact of AI advancements on national power. If AI demonstrably offers substantial strategic advantages, it's more likely to become a key focus for national security.\n",
       "\n",
       "**Potential Sources**:\n",
       "\n",
       "Research papers and publications on AI progress and capabilities  \n",
       "Expert opinions and analyses of the military and economic implications of AI  \n",
       "News reports and industry publications on AI advancements and applications\n",
       "\n"
      ],
      "text/plain": [
       "<IPython.core.display.Markdown object>"
      ]
     },
     "metadata": {},
     "output_type": "display_data"
    },
    {
     "data": {
      "text/markdown": [
       "### Hypothesis 189\n",
       "\n",
       "**Hypothesis**: If the national security state is actively developing and deploying AI technologies for military and intelligence purposes, then the belief about their growing interest in AI is validated.\n",
       "\n",
       "**Belief**: The national security state, specifically in the US, will become increasingly interested in artificial intelligence (AI) in the coming years.\n",
       "\n",
       "**Explanation**: This hypothesis assesses the actual actions of the national security state. If they're already investing in AI for security purposes, it confirms their growing interest and supports the belief.\n",
       "\n",
       "**Potential Sources**:\n",
       "\n",
       "Reports on national security agencies' AI development programs  \n",
       "Public statements and announcements about AI deployment in security operations  \n",
       "Media coverage of AI use in military and intelligence operations\n",
       "\n"
      ],
      "text/plain": [
       "<IPython.core.display.Markdown object>"
      ]
     },
     "metadata": {},
     "output_type": "display_data"
    },
    {
     "data": {
      "text/markdown": [
       "### Hypothesis 190\n",
       "\n",
       "**Hypothesis**: If the global political landscape remains relatively stable and there are no major international conflicts driven by AI technology, then the national security state's focus on AI might not drastically increase.\n",
       "\n",
       "**Belief**: The national security state, specifically in the US, will become increasingly interested in artificial intelligence (AI) in the coming years.\n",
       "\n",
       "**Explanation**: This hypothesis considers the broader political context. If the world remains relatively peaceful, the urgency for the national security state to prioritize AI might be less acute.\n",
       "\n",
       "**Potential Sources**:\n",
       "\n",
       "Political analyses and predictions of global stability and conflict risks  \n",
       "News and reports on international relations and potential AI-related tensions  \n",
       "Expert opinions on the geopolitical impact of AI advancements\n",
       "\n"
      ],
      "text/plain": [
       "<IPython.core.display.Markdown object>"
      ]
     },
     "metadata": {},
     "output_type": "display_data"
    },
    {
     "data": {
      "text/markdown": [
       "### Hypothesis 191\n",
       "\n",
       "**Hypothesis**: If there is a significant increase in funding and resources dedicated to AI research within the national security establishment, then it supports the belief that their interest in AI is growing.\n",
       "\n",
       "**Belief**: The national security state, specifically in the US, will become increasingly interested in artificial intelligence (AI) in the coming years.\n",
       "\n",
       "**Explanation**: This hypothesis directly examines resource allocation. If there's a clear increase in funding and personnel dedicated to AI within national security agencies, it reinforces the belief that their interest in AI is escalating.\n",
       "\n",
       "**Potential Sources**:\n",
       "\n",
       "Government budgets and spending reports on national security research  \n",
       "News reports and announcements regarding increased AI investments in national security agencies  \n",
       "Data on the number of AI researchers and personnel employed by national security agencies\n",
       "\n"
      ],
      "text/plain": [
       "<IPython.core.display.Markdown object>"
      ]
     },
     "metadata": {},
     "output_type": "display_data"
    },
    {
     "data": {
      "text/markdown": [
       "### Hypothesis 192\n",
       "\n",
       "**Hypothesis**: If the national security state is collaborating with private companies and research institutions to advance AI capabilities, then it further supports the belief that they are taking AI seriously.\n",
       "\n",
       "**Belief**: The national security state, specifically in the US, will become increasingly interested in artificial intelligence (AI) in the coming years.\n",
       "\n",
       "**Explanation**: This hypothesis examines partnerships and collaboration. If the national security state is actively engaging with the private sector to develop AI, it indicates a commitment to fostering its growth and signifies a greater focus on AI.\n",
       "\n",
       "**Potential Sources**:\n",
       "\n",
       "News reports and press releases on government-industry partnerships in AI  \n",
       "Information about joint research projects and agreements between national security agencies and private companies  \n",
       "Public statements and speeches from national security officials about AI collaborations\n",
       "\n"
      ],
      "text/plain": [
       "<IPython.core.display.Markdown object>"
      ]
     },
     "metadata": {},
     "output_type": "display_data"
    },
    {
     "data": {
      "text/markdown": [
       "### Hypothesis 193\n",
       "\n",
       "**Hypothesis**: If the national security state is developing policies and regulations specifically focused on AI development and use, then it indicates a growing concern and interest in this technology.\n",
       "\n",
       "**Belief**: The national security state, specifically in the US, will become increasingly interested in artificial intelligence (AI) in the coming years.\n",
       "\n",
       "**Explanation**: This hypothesis examines policy development. If the national security state is creating specific policies and regulations related to AI, it demonstrates their awareness of its implications and their proactive approach to managing its development and use.\n",
       "\n",
       "**Potential Sources**:\n",
       "\n",
       "Government documents and legislation related to AI regulation  \n",
       "Statements and positions of national security agencies on AI policy  \n",
       "Reports and analyses of national security policies regarding AI\n",
       "\n"
      ],
      "text/plain": [
       "<IPython.core.display.Markdown object>"
      ]
     },
     "metadata": {},
     "output_type": "display_data"
    },
    {
     "data": {
      "text/markdown": [
       "### Hypothesis 194\n",
       "\n",
       "**Hypothesis**: If AI systems are not able to replace human workers in remote jobs requiring significant levels of creativity, critical thinking, or complex decision-making, then the belief that superintelligence will become decisive for national power is likely false.\n",
       "\n",
       "**Belief**: Superintelligence will become absolutely decisive for national power.\n",
       "\n",
       "**Explanation**: The belief rests on the premise that AI can outpace human intelligence and become decisive in national power, which requires AI to handle complex tasks. This hypothesis examines whether current AI capabilities and future projections support this idea, specifically in the realm of remote jobs where human creativity, critical thinking, and complex decision-making are essential.\n",
       "\n",
       "**Potential Sources**:\n",
       "\n",
       "Research papers on AI capabilities in areas like creativity, critical thinking, and complex problem-solving  \n",
       "Industry reports on AI adoption in remote jobs  \n",
       "Expert opinions on AI's limitations in replacing human skills in complex tasks\n",
       "\n"
      ],
      "text/plain": [
       "<IPython.core.display.Markdown object>"
      ]
     },
     "metadata": {},
     "output_type": "display_data"
    },
    {
     "data": {
      "text/markdown": [
       "### Hypothesis 195\n",
       "\n",
       "**Hypothesis**: If the rate of progress in AI research is not as rapid as Aschenbrenner predicts, with the development of AGI and subsequent superintelligence occurring significantly later than projected, then the belief that superintelligence will become decisive for national power is likely inaccurate.\n",
       "\n",
       "**Belief**: Superintelligence will become absolutely decisive for national power.\n",
       "\n",
       "**Explanation**: Aschenbrenner's argument centers on the rapid advancement of AI and its potential to surpass human intelligence within a short timeframe, leading to a decisive advantage in national power. This hypothesis focuses on the feasibility of this timeframe and the speed of AI research to determine if it supports the belief.\n",
       "\n",
       "**Potential Sources**:\n",
       "\n",
       "Studies on historical AI development and progress  \n",
       "Forecasts and predictions on future AI timelines by leading AI researchers and experts  \n",
       "Data on the current and projected growth of computing power and resources used in AI research\n",
       "\n"
      ],
      "text/plain": [
       "<IPython.core.display.Markdown object>"
      ]
     },
     "metadata": {},
     "output_type": "display_data"
    },
    {
     "data": {
      "text/markdown": [
       "### Hypothesis 196\n",
       "\n",
       "**Hypothesis**: If national security establishments around the world do not prioritize AI research and development as a critical component of national defense and strategy, then the belief that superintelligence will become decisive for national power is likely to be exaggerated.\n",
       "\n",
       "**Belief**: Superintelligence will become absolutely decisive for national power.\n",
       "\n",
       "**Explanation**: The belief is built on the assumption that nations will recognize the strategic importance of AI and superintelligence and engage in aggressive research and development efforts. This hypothesis examines if current evidence and trends suggest this is likely to happen and whether AI is truly viewed as a decisive factor in national power.\n",
       "\n",
       "**Potential Sources**:\n",
       "\n",
       "Government reports and policy documents on AI and national security  \n",
       "Defense budgets and research funding allocation for AI projects  \n",
       "Statements and pronouncements by national security leaders on AI's role in national security\n",
       "\n"
      ],
      "text/plain": [
       "<IPython.core.display.Markdown object>"
      ]
     },
     "metadata": {},
     "output_type": "display_data"
    },
    {
     "data": {
      "text/markdown": [
       "### Hypothesis 197\n",
       "\n",
       "**Hypothesis**: If the development of AI systems leads to significant ethical and societal concerns, hindering its widespread adoption and application in areas such as national security, then the belief that superintelligence will become decisive for national power may be less likely to materialize.\n",
       "\n",
       "**Belief**: Superintelligence will become absolutely decisive for national power.\n",
       "\n",
       "**Explanation**: While the belief focuses on the potential of AI for national power, it does not explicitly address the possible ethical and societal implications of its development. This hypothesis explores whether such concerns might hinder AI's advancement and its influence on national power dynamics.\n",
       "\n",
       "**Potential Sources**:\n",
       "\n",
       "Ethical guidelines and frameworks for AI development and deployment  \n",
       "Public opinion polls and surveys on AI concerns and acceptance  \n",
       "Research papers and reports on the potential societal impacts of AI\n",
       "\n"
      ],
      "text/plain": [
       "<IPython.core.display.Markdown object>"
      ]
     },
     "metadata": {},
     "output_type": "display_data"
    },
    {
     "data": {
      "text/markdown": [
       "### Hypothesis 198\n",
       "\n",
       "**Hypothesis**: If other technologies, such as advanced biotechnology or quantum computing, emerge and surpass the capabilities of AI in terms of their impact on national power, then the belief that superintelligence will become decisive for national power may be inaccurate.\n",
       "\n",
       "**Belief**: Superintelligence will become absolutely decisive for national power.\n",
       "\n",
       "**Explanation**: The belief assumes that AI will be the dominant technological force shaping national power. This hypothesis explores whether other emerging technologies might eclipse AI's influence and reshape the dynamics of national power.\n",
       "\n",
       "**Potential Sources**:\n",
       "\n",
       "Research and development in areas like biotechnology, quantum computing, and other advanced technologies  \n",
       "Predictions and forecasts on the future impact of these technologies on national power  \n",
       "Analyses of the potential convergence and interplay between AI and other emerging technologies\n",
       "\n"
      ],
      "text/plain": [
       "<IPython.core.display.Markdown object>"
      ]
     },
     "metadata": {},
     "output_type": "display_data"
    },
    {
     "data": {
      "text/markdown": [
       "### Hypothesis 199\n",
       "\n",
       "**Hypothesis**: Current progress in AI research, particularly in the areas of natural language processing and automation, suggests that AGI could achieve a level of capability to replace remote workers within the next decade.\n",
       "\n",
       "**Belief**: AGI (Artificial General Intelligence) will be able to replace human workers in remote jobs.\n",
       "\n",
       "**Explanation**: This hypothesis directly addresses the belief by exploring the timeline and feasibility of AI advancements in replacing remote workers. Examining current trends in AI development allows us to assess the likelihood of this outcome within a specified timeframe.\n",
       "\n",
       "**Potential Sources**:\n",
       "\n",
       "Research papers and publications on AI advancements in natural language processing and automation.  \n",
       "Industry reports on the progress and impact of AI on the workforce.  \n",
       "Expert opinions and predictions from leading AI researchers and industry professionals.\n",
       "\n"
      ],
      "text/plain": [
       "<IPython.core.display.Markdown object>"
      ]
     },
     "metadata": {},
     "output_type": "display_data"
    },
    {
     "data": {
      "text/markdown": [
       "### Hypothesis 200\n",
       "\n",
       "**Hypothesis**: The automation of AI research, while potentially impactful, is not yet a reality and faces significant technical and ethical challenges, making the rapid development of superintelligence unlikely.\n",
       "\n",
       "**Belief**: AGI (Artificial General Intelligence) will be able to replace human workers in remote jobs.\n",
       "\n",
       "**Explanation**: This hypothesis challenges the belief by highlighting the limitations and complexities of automating AI research. It suggests that the projected speed-up of AI development through automation might be unrealistic, impacting the timeline for achieving superintelligence.\n",
       "\n",
       "**Potential Sources**:\n",
       "\n",
       "Research papers and publications on the challenges of automating AI research.  \n",
       "Expert opinions and discussions on the feasibility and ethical implications of automating AI research.  \n",
       "Reports and analyses of existing efforts to automate AI development.\n",
       "\n"
      ],
      "text/plain": [
       "<IPython.core.display.Markdown object>"
      ]
     },
     "metadata": {},
     "output_type": "display_data"
    },
    {
     "data": {
      "text/markdown": [
       "### Hypothesis 201\n",
       "\n",
       "**Hypothesis**: The economic impact of AGI replacing remote workers will be significant, leading to job displacement and potentially triggering social and political unrest.\n",
       "\n",
       "**Belief**: AGI (Artificial General Intelligence) will be able to replace human workers in remote jobs.\n",
       "\n",
       "**Explanation**: This hypothesis explores the broader societal consequences of AGI replacing remote workers. The economic impact and potential job losses could lead to social and political reactions, affecting the overall adoption and implementation of AGI.\n",
       "\n",
       "**Potential Sources**:\n",
       "\n",
       "Economic studies and forecasts on the impact of automation on the workforce.  \n",
       "Social science research on the effects of technological unemployment and social change.  \n",
       "Political analyses and opinions on the potential responses to widespread AI-driven job displacement.\n",
       "\n"
      ],
      "text/plain": [
       "<IPython.core.display.Markdown object>"
      ]
     },
     "metadata": {},
     "output_type": "display_data"
    },
    {
     "data": {
      "text/markdown": [
       "### Hypothesis 202\n",
       "\n",
       "**Hypothesis**: The global competition for AI supremacy will intensify as countries recognize the strategic importance of AGI, leading to increased government investment and research efforts.\n",
       "\n",
       "**Belief**: AGI (Artificial General Intelligence) will be able to replace human workers in remote jobs.\n",
       "\n",
       "**Explanation**: This hypothesis examines the potential geopolitical implications of AGI development. As countries realize the strategic importance of AGI in terms of national security and economic power, competition for AI supremacy is likely to escalate, impacting the pace and direction of AI development.\n",
       "\n",
       "**Potential Sources**:\n",
       "\n",
       "Government policies and reports on AI development and investments.  \n",
       "Analysis of international relations and geopolitical trends related to AI technology.  \n",
       "Expert opinions and predictions on the impact of AI on global power dynamics.\n",
       "\n"
      ],
      "text/plain": [
       "<IPython.core.display.Markdown object>"
      ]
     },
     "metadata": {},
     "output_type": "display_data"
    },
    {
     "data": {
      "text/markdown": [
       "### Hypothesis 203\n",
       "\n",
       "**Hypothesis**: If recent research papers in machine learning and artificial intelligence demonstrate an average annual progress rate of less than 0.5 orders of magnitude, the claim that AI development is progressing at a rate of 0.5 OOMs per year is inaccurate.\n",
       "\n",
       "**Belief**: AI research can be automated, leading to rapid progress in AI development.\n",
       "\n",
       "**Explanation**: This hypothesis directly tests the validity of Aschenbrenner's claim by examining the actual rate of progress in AI research, as indicated by publications in the field.\n",
       "\n",
       "**Potential Sources**:\n",
       "\n",
       "Peer-reviewed publications in machine learning and AI journals  \n",
       "Conference proceedings and research papers  \n",
       "Surveys and reviews of progress in AI research\n",
       "\n"
      ],
      "text/plain": [
       "<IPython.core.display.Markdown object>"
      ]
     },
     "metadata": {},
     "output_type": "display_data"
    },
    {
     "data": {
      "text/markdown": [
       "### Hypothesis 204\n",
       "\n",
       "**Hypothesis**: If existing AI models are unable to automate the tasks of AI researchers and engineers, then Aschenbrenner's claim that AI research can be automated to accelerate development is not supported by current evidence.\n",
       "\n",
       "**Belief**: AI research can be automated, leading to rapid progress in AI development.\n",
       "\n",
       "**Explanation**: This hypothesis explores the current capabilities of AI systems in relation to automating complex research tasks, which is a key factor in Aschenbrenner's argument for accelerated AI development.\n",
       "\n",
       "**Potential Sources**:\n",
       "\n",
       "Research papers and reports on AI capabilities in specific domains  \n",
       "Technical reviews of AI systems used in research  \n",
       "Expert opinions and discussions on the feasibility of AI automating AI research\n",
       "\n"
      ],
      "text/plain": [
       "<IPython.core.display.Markdown object>"
      ]
     },
     "metadata": {},
     "output_type": "display_data"
    },
    {
     "data": {
      "text/markdown": [
       "### Hypothesis 205\n",
       "\n",
       "**Hypothesis**: If the rate of increase in computational power for AI research is significantly lower than Aschenbrenner's prediction of GPU fleets reaching tens of millions for inference, then his claim that AI research can be significantly accelerated by computational power is not supported.\n",
       "\n",
       "**Belief**: AI research can be automated, leading to rapid progress in AI development.\n",
       "\n",
       "**Explanation**: This hypothesis focuses on the availability and growth of computational resources, which is a crucial element in Aschenbrenner's argument about the potential for rapid AI progress.\n",
       "\n",
       "**Potential Sources**:\n",
       "\n",
       "Reports on the growth and availability of GPUs for AI research  \n",
       "Market analysis of the computational hardware used in AI development  \n",
       "Expert opinions on the future of computational power in AI research\n",
       "\n"
      ],
      "text/plain": [
       "<IPython.core.display.Markdown object>"
      ]
     },
     "metadata": {},
     "output_type": "display_data"
    },
    {
     "data": {
      "text/markdown": [
       "### Hypothesis 206\n",
       "\n",
       "**Hypothesis**: If the rate of algorithmic progress in AI research is consistently measured to be significantly less than 0.5 OOMs per year, then Aschenbrenner's belief that AI development is accelerating at a rate of 0.5 OOMs per year is invalid.\n",
       "\n",
       "**Belief**: AI development is accelerating at a rate of 0.5 OOMs (orders of magnitude) per year.\n",
       "\n",
       "**Explanation**: This hypothesis directly tests the central claim of Aschenbrenner's belief by examining the actual rate of algorithmic progress in AI research.\n",
       "\n",
       "**Potential Sources**:\n",
       "\n",
       "Published research papers on AI advancements  \n",
       "Technical reports from leading AI labs  \n",
       "Data from benchmarking and performance metrics in AI\n",
       "\n"
      ],
      "text/plain": [
       "<IPython.core.display.Markdown object>"
      ]
     },
     "metadata": {},
     "output_type": "display_data"
    },
    {
     "data": {
      "text/markdown": [
       "### Hypothesis 207\n",
       "\n",
       "**Hypothesis**: If experts in AI research and development disagree with Aschenbrenner's assertion of 0.5 OOMs per year and provide evidence for a slower or faster rate of progress, then his belief is likely inaccurate.\n",
       "\n",
       "**Belief**: AI development is accelerating at a rate of 0.5 OOMs (orders of magnitude) per year.\n",
       "\n",
       "**Explanation**: This hypothesis examines the consensus among AI experts regarding the rate of progress in the field, providing a broader perspective on the validity of Aschenbrenner's claim.\n",
       "\n",
       "**Potential Sources**:\n",
       "\n",
       "Interviews with leading AI researchers  \n",
       "Expert opinions published in academic journals  \n",
       "Reports and analyses from AI industry organizations\n",
       "\n"
      ],
      "text/plain": [
       "<IPython.core.display.Markdown object>"
      ]
     },
     "metadata": {},
     "output_type": "display_data"
    },
    {
     "data": {
      "text/markdown": [
       "### Hypothesis 208\n",
       "\n",
       "**Hypothesis**: If the available computational resources for AI research, specifically the number of GPUs used for inference, are not growing at a rate that supports the projected 10x speedup in AI progress, then the timeline for reaching superintelligence as described by Aschenbrenner is likely unrealistic.\n",
       "\n",
       "**Belief**: AI development is accelerating at a rate of 0.5 OOMs (orders of magnitude) per year.\n",
       "\n",
       "**Explanation**: This hypothesis focuses on the practical limitations of available resources, which are crucial for achieving the rapid development of AI as described by Aschenbrenner.\n",
       "\n",
       "**Potential Sources**:\n",
       "\n",
       "Data on GPU production and deployment in AI research  \n",
       "Research papers and reports on computational resources in AI  \n",
       "Analyses of the cost and availability of high-performance computing infrastructure\n",
       "\n"
      ],
      "text/plain": [
       "<IPython.core.display.Markdown object>"
      ]
     },
     "metadata": {},
     "output_type": "display_data"
    },
    {
     "data": {
      "text/markdown": [
       "### Hypothesis 209\n",
       "\n",
       "**Hypothesis**: If historical trends in technology adoption and impact on society indicate that major technological advancements typically take longer to develop and achieve widespread impact than Aschenbrenner's projected timeline for superintelligence, then his belief is likely overoptimistic.\n",
       "\n",
       "**Belief**: AI development is accelerating at a rate of 0.5 OOMs (orders of magnitude) per year.\n",
       "\n",
       "**Explanation**: This hypothesis considers historical data on technological advancements to assess the feasibility of Aschenbrenner's timeline for superintelligence, taking into account the complex factors involved in technology development and societal impact.\n",
       "\n",
       "**Potential Sources**:\n",
       "\n",
       "Historical studies on technological breakthroughs  \n",
       "Analyses of the adoption and diffusion of major technologies  \n",
       "Social and economic impacts of previous technological revolutions\n",
       "\n"
      ],
      "text/plain": [
       "<IPython.core.display.Markdown object>"
      ]
     },
     "metadata": {},
     "output_type": "display_data"
    },
    {
     "data": {
      "text/markdown": [
       "### Hypothesis 210\n",
       "\n",
       "**Hypothesis**: If current trends in AI research, particularly in robotics, demonstrate that significant breakthroughs are required to overcome major technical hurdles, it would undermine the belief that superintelligence is achievable within a few years.\n",
       "\n",
       "**Belief**: It is possible to create AI that is vastly smarter than humans within a few years.\n",
       "\n",
       "**Explanation**: Aschenbrenner's belief hinges on the assumption that rapid advancements in AI research, particularly robotics, will lead to a superintelligence within a short timeframe. If current trends suggest significant obstacles remain, this assumption is likely to be incorrect.\n",
       "\n",
       "**Potential Sources**:\n",
       "\n",
       "Scientific publications on AI research in robotics  \n",
       "Research papers on AI capabilities and limitations  \n",
       "Expert opinions from AI researchers\n",
       "\n"
      ],
      "text/plain": [
       "<IPython.core.display.Markdown object>"
      ]
     },
     "metadata": {},
     "output_type": "display_data"
    },
    {
     "data": {
      "text/markdown": [
       "### Hypothesis 211\n",
       "\n",
       "**Hypothesis**: If the rate of algorithmic progress in AI falls significantly below the 0.5 OOMs per year that Aschenbrenner cites, it would suggest that achieving superintelligence within a few years is unlikely.\n",
       "\n",
       "**Belief**: It is possible to create AI that is vastly smarter than humans within a few years.\n",
       "\n",
       "**Explanation**: Aschenbrenner's prediction is based on a rapid pace of algorithmic improvement. If the actual rate of progress is slower, it would significantly impact the timeline for achieving superintelligence.\n",
       "\n",
       "**Potential Sources**:\n",
       "\n",
       "Published data on AI progress metrics  \n",
       "Research papers on AI algorithm development  \n",
       "Expert opinions on AI progress trends\n",
       "\n"
      ],
      "text/plain": [
       "<IPython.core.display.Markdown object>"
      ]
     },
     "metadata": {},
     "output_type": "display_data"
    },
    {
     "data": {
      "text/markdown": [
       "### Hypothesis 212\n",
       "\n",
       "**Hypothesis**: If there is a lack of evidence demonstrating the feasibility of automating AI research to the extent suggested by Aschenbrenner, then his claim that superintelligence can be achieved within a few years is unlikely to be accurate.\n",
       "\n",
       "**Belief**: It is possible to create AI that is vastly smarter than humans within a few years.\n",
       "\n",
       "**Explanation**: Aschenbrenner's prediction relies on the possibility of automating AI research at a scale that would dramatically accelerate progress. If current capabilities do not support this assumption, it weakens the validity of his belief.\n",
       "\n",
       "**Potential Sources**:\n",
       "\n",
       "Research papers on AI research automation  \n",
       "Publications on AI system design for research tasks  \n",
       "Expert opinions on AI research automation potential\n",
       "\n"
      ],
      "text/plain": [
       "<IPython.core.display.Markdown object>"
      ]
     },
     "metadata": {},
     "output_type": "display_data"
    },
    {
     "data": {
      "text/markdown": [
       "### Hypothesis 213\n",
       "\n",
       "**Hypothesis**: If AI researchers and experts predict a significantly longer timeline for achieving superintelligence than Aschenbrenner's prediction of a few years, it would raise questions about the validity of his belief.\n",
       "\n",
       "**Belief**: It is possible to create AI that is vastly smarter than humans within a few years.\n",
       "\n",
       "**Explanation**: Aschenbrenner's belief is based on his own predictions. If the broader AI community holds different views with a more extended timeframe, it challenges the validity of his claim.\n",
       "\n",
       "**Potential Sources**:\n",
       "\n",
       "Expert interviews with AI researchers  \n",
       "Surveys of AI researcher opinions on superintelligence timelines  \n",
       "Published research papers on AI progress forecasts\n",
       "\n"
      ],
      "text/plain": [
       "<IPython.core.display.Markdown object>"
      ]
     },
     "metadata": {},
     "output_type": "display_data"
    },
    {
     "data": {
      "text/markdown": [
       "### Hypothesis 214\n",
       "\n",
       "**Hypothesis**: If current AI systems demonstrate a significant ability to solve complex problems in robotics, such as designing and controlling advanced robots, then the belief that superintelligence will be able to solve robotics is more likely to be valid.\n",
       "\n",
       "**Belief**: Superintelligence will be able to solve robotics, leading to further advancements in technology.\n",
       "\n",
       "**Explanation**: This hypothesis directly tests the core element of the belief, which is the ability of superintelligence to solve robotics. If current AI systems are already showing significant progress in this area, it suggests that superintelligence could potentially surpass these capabilities.\n",
       "\n",
       "**Potential Sources**:\n",
       "\n",
       "Research papers on AI advancements in robotics  \n",
       "Publications from robotics companies showcasing AI-powered solutions  \n",
       "Technical reports on AI-driven robotics projects\n",
       "\n"
      ],
      "text/plain": [
       "<IPython.core.display.Markdown object>"
      ]
     },
     "metadata": {},
     "output_type": "display_data"
    },
    {
     "data": {
      "text/markdown": [
       "### Hypothesis 215\n",
       "\n",
       "**Hypothesis**: If historical data shows that technological advancements have not always led to rapid and widespread adoption, then the belief that superintelligence will lead to a rapid acceleration of technological progress may be less likely.\n",
       "\n",
       "**Belief**: Superintelligence will be able to solve robotics, leading to further advancements in technology.\n",
       "\n",
       "**Explanation**: This hypothesis considers the broader context of technological change. If historical examples demonstrate that adoption rates are not always as swift as anticipated, it suggests that superintelligence may not necessarily result in the rapid acceleration of progress as described.\n",
       "\n",
       "**Potential Sources**:\n",
       "\n",
       "Historical accounts of major technological advancements  \n",
       "Studies on technology adoption rates  \n",
       "Economic data on the impact of new technologies on industries\n",
       "\n"
      ],
      "text/plain": [
       "<IPython.core.display.Markdown object>"
      ]
     },
     "metadata": {},
     "output_type": "display_data"
    },
    {
     "data": {
      "text/markdown": [
       "### Hypothesis 216\n",
       "\n",
       "**Hypothesis**: If research indicates that the current rate of algorithmic progress in AI is consistently exceeding 0.5 OOMs per year, then the belief that superintelligence could be achieved within a few years is more plausible.\n",
       "\n",
       "**Belief**: Superintelligence will be able to solve robotics, leading to further advancements in technology.\n",
       "\n",
       "**Explanation**: This hypothesis directly addresses the claim of an accelerating pace of AI development. If the actual rate of progress is higher than the estimated 0.5 OOMs, it supports the idea that superintelligence could be realized sooner than expected.\n",
       "\n",
       "**Potential Sources**:\n",
       "\n",
       "Publications from AI research labs  \n",
       "Benchmarking data on AI model performance  \n",
       "Reports on the progress of AI research\n",
       "\n"
      ],
      "text/plain": [
       "<IPython.core.display.Markdown object>"
      ]
     },
     "metadata": {},
     "output_type": "display_data"
    },
    {
     "data": {
      "text/markdown": [
       "### Hypothesis 217\n",
       "\n",
       "**Hypothesis**: If existing AI systems demonstrate a limited ability to handle complex real-world scenarios, particularly those involving human interaction and social dynamics, then the belief that superintelligence will be able to rapidly solve robotics, which often involves such scenarios, may be less likely.\n",
       "\n",
       "**Belief**: Superintelligence will be able to solve robotics, leading to further advancements in technology.\n",
       "\n",
       "**Explanation**: This hypothesis acknowledges the complexity of robotics, which often requires understanding and navigating real-world situations. If current AI systems struggle with these aspects, it suggests that superintelligence may face similar challenges.\n",
       "\n",
       "**Potential Sources**:\n",
       "\n",
       "Research on AI systems' performance in real-world applications  \n",
       "Case studies of AI-driven robots in various contexts  \n",
       "Expert opinions on the limitations of current AI systems\n",
       "\n"
      ],
      "text/plain": [
       "<IPython.core.display.Markdown object>"
      ]
     },
     "metadata": {},
     "output_type": "display_data"
    },
    {
     "data": {
      "text/markdown": [
       "### Hypothesis 218\n",
       "\n",
       "**Hypothesis**: If experts in the field of robotics express skepticism about the possibility of AI solving complex robotics problems within a short timeframe, then the belief that superintelligence will be able to achieve this may be less likely.\n",
       "\n",
       "**Belief**: Superintelligence will be able to solve robotics, leading to further advancements in technology.\n",
       "\n",
       "**Explanation**: This hypothesis considers the views of experts in the field. If robotics experts doubt the feasibility of AI solving these challenges rapidly, it suggests that the belief may not be fully supported by current understanding.\n",
       "\n",
       "**Potential Sources**:\n",
       "\n",
       "Interviews with leading robotics experts  \n",
       "Articles and commentaries by experts in the field  \n",
       "Conferences and workshops on robotics and AI\n",
       "\n"
      ],
      "text/plain": [
       "<IPython.core.display.Markdown object>"
      ]
     },
     "metadata": {},
     "output_type": "display_data"
    },
    {
     "data": {
      "text/markdown": [
       "### Hypothesis 219\n",
       "\n",
       "**Hypothesis**: The CCP's current AI research and development capabilities, including its infrastructure and access to resources, do not match Aschenbrenner's assessment of their ability to build a 100 GW AI cluster and infiltrate American AI labs.\n",
       "\n",
       "**Belief**: The CCP (Chinese Communist Party) will make a significant effort to infiltrate American AI labs to gain a technological advantage.\n",
       "\n",
       "**Explanation**: This hypothesis directly addresses the core of Aschenbrenner's claim by investigating the CCP's current capabilities in AI research and development. It examines whether their resources and infrastructure are sufficient to support the ambitious project he describes.\n",
       "\n",
       "**Potential Sources**:\n",
       "\n",
       "Reports from reputable think tanks and research institutions on Chinese AI development  \n",
       "Open-source data on Chinese AI infrastructure and investments  \n",
       "Articles and analyses by experts on Chinese AI policy and strategy  \n",
       "Data on Chinese government funding for AI research and development\n",
       "\n"
      ],
      "text/plain": [
       "<IPython.core.display.Markdown object>"
      ]
     },
     "metadata": {},
     "output_type": "display_data"
    },
    {
     "data": {
      "text/markdown": [
       "### Hypothesis 220\n",
       "\n",
       "**Hypothesis**: The CCP's history of espionage and cyberattacks suggests a pattern of attempting to gain technological advantages through infiltration and information theft, making Aschenbrenner's claim about their intentions plausible.\n",
       "\n",
       "**Belief**: The CCP (Chinese Communist Party) will make a significant effort to infiltrate American AI labs to gain a technological advantage.\n",
       "\n",
       "**Explanation**: This hypothesis connects the CCP's historical behavior with Aschenbrenner's prediction, exploring whether their past actions provide evidence for their likely future actions. It examines if the CCP's history supports the idea of them pursuing such an aggressive strategy in the field of AI.\n",
       "\n",
       "**Potential Sources**:\n",
       "\n",
       "Historical reports on CCP espionage and cyberattacks  \n",
       "Analyses of Chinese cyberwarfare tactics and targets  \n",
       "Research on CCP's strategies for technology acquisition and transfer  \n",
       "Intelligence reports and assessments from Western security agencies\n",
       "\n"
      ],
      "text/plain": [
       "<IPython.core.display.Markdown object>"
      ]
     },
     "metadata": {},
     "output_type": "display_data"
    },
    {
     "data": {
      "text/markdown": [
       "### Hypothesis 221\n",
       "\n",
       "**Hypothesis**: The CCP's current AI infrastructure, including its access to GPUs and computing power, is inadequate to support the massive scale of AI development and research necessary to build a 100 GW AI cluster.\n",
       "\n",
       "**Belief**: The CCP (Chinese Communist Party) will make a significant effort to infiltrate American AI labs to gain a technological advantage.\n",
       "\n",
       "**Explanation**: This hypothesis specifically addresses the CCP's technological capabilities, focusing on their access to critical infrastructure like GPUs, which are essential for running AI models. It assesses whether they possess the necessary resources to reach the scale Aschenbrenner predicts.\n",
       "\n",
       "**Potential Sources**:\n",
       "\n",
       "Reports on China's GPU production and import capabilities  \n",
       "Analyses of Chinese AI hardware infrastructure and development  \n",
       "Data on the availability and cost of GPUs in China  \n",
       "Information on Chinese investments in GPU manufacturing and research\n",
       "\n"
      ],
      "text/plain": [
       "<IPython.core.display.Markdown object>"
      ]
     },
     "metadata": {},
     "output_type": "display_data"
    },
    {
     "data": {
      "text/markdown": [
       "### Hypothesis 222\n",
       "\n",
       "**Hypothesis**: The CCP's political and economic priorities, as reflected in their national AI development plans and policies, are focused on domestic applications and economic growth rather than on pursuing military dominance through AI.\n",
       "\n",
       "**Belief**: The CCP (Chinese Communist Party) will make a significant effort to infiltrate American AI labs to gain a technological advantage.\n",
       "\n",
       "**Explanation**: This hypothesis examines the CCP's overall strategic objectives, considering whether their focus is primarily on economic development or on building military dominance through AI. It evaluates if their priorities align with Aschenbrenner's prediction of a full-scale effort to infiltrate American AI labs.\n",
       "\n",
       "**Potential Sources**:\n",
       "\n",
       "Official documents outlining China's AI strategy and development plans  \n",
       "Analyses of Chinese AI policy and its impact on various sectors  \n",
       "Reports on Chinese government investments in AI applications and research  \n",
       "Statements and speeches by Chinese government officials on AI development\n",
       "\n"
      ],
      "text/plain": [
       "<IPython.core.display.Markdown object>"
      ]
     },
     "metadata": {},
     "output_type": "display_data"
    },
    {
     "data": {
      "text/markdown": [
       "### Hypothesis 223\n",
       "\n",
       "**Hypothesis**: If the current rate of progress in AI research continues, the development of AI systems capable of self-improvement and robotics development will occur within a timeframe consistent with Aschenbrenner's 'gradual explosion' model.\n",
       "\n",
       "**Belief**: The development of artificial general intelligence (AGI) will not be an instantaneous event but rather a gradual process that starts with a narrow focus and expands over time.\n",
       "\n",
       "**Explanation**: This hypothesis directly tests Aschenbrenner's claim that the development of superintelligence will be a gradual process by examining whether the current pace of AI advancements aligns with his timeline.\n",
       "\n",
       "**Potential Sources**:\n",
       "\n",
       "Research papers on AI progress and timelines  \n",
       "Reports from AI research institutions  \n",
       "Expert opinions on the future of AI\n",
       "\n"
      ],
      "text/plain": [
       "<IPython.core.display.Markdown object>"
      ]
     },
     "metadata": {},
     "output_type": "display_data"
    },
    {
     "data": {
      "text/markdown": [
       "### Hypothesis 224\n",
       "\n",
       "**Hypothesis**: If early-stage AGI systems demonstrate limitations in their ability to significantly improve themselves or develop sophisticated robotics, Aschenbrenner's claim that the development of AGI will be a gradual process is less likely to be accurate.\n",
       "\n",
       "**Belief**: The development of artificial general intelligence (AGI) will not be an instantaneous event but rather a gradual process that starts with a narrow focus and expands over time.\n",
       "\n",
       "**Explanation**: This hypothesis examines the feasibility of using early-stage AGI for self-improvement and robotics development, which are key components of Aschenbrenner's gradual explosion model.\n",
       "\n",
       "**Potential Sources**:\n",
       "\n",
       "Research papers on AGI capabilities and limitations  \n",
       "Expert opinions on the feasibility of self-improving AI  \n",
       "Case studies of current AGI systems and their performance in relevant tasks\n",
       "\n"
      ],
      "text/plain": [
       "<IPython.core.display.Markdown object>"
      ]
     },
     "metadata": {},
     "output_type": "display_data"
    },
    {
     "data": {
      "text/markdown": [
       "### Hypothesis 225\n",
       "\n",
       "**Hypothesis**: If the economic benefits of AGI-powered robotics outweigh the potential risks associated with their development and deployment, then the development of AGI will likely be prioritized, potentially leading to a faster pace of development than Aschenbrenner's gradual model suggests.\n",
       "\n",
       "**Belief**: The development of artificial general intelligence (AGI) will not be an instantaneous event but rather a gradual process that starts with a narrow focus and expands over time.\n",
       "\n",
       "**Explanation**: This hypothesis considers the potential economic incentives driving AGI development, which could impact the pace of progress and challenge Aschenbrenner's gradual model.\n",
       "\n",
       "**Potential Sources**:\n",
       "\n",
       "Economic analyses of the potential impact of AGI  \n",
       "Expert opinions on the economic viability of AGI-powered robotics  \n",
       "Studies on the ethical and societal implications of advanced robotics\n",
       "\n"
      ],
      "text/plain": [
       "<IPython.core.display.Markdown object>"
      ]
     },
     "metadata": {},
     "output_type": "display_data"
    },
    {
     "data": {
      "text/markdown": [
       "### Hypothesis 226\n",
       "\n",
       "**Hypothesis**: If the development of AGI is primarily driven by national security concerns, then the pace of development may be accelerated due to increased government funding and prioritization, potentially deviating from Aschenbrenner's gradual model.\n",
       "\n",
       "**Belief**: The development of artificial general intelligence (AGI) will not be an instantaneous event but rather a gradual process that starts with a narrow focus and expands over time.\n",
       "\n",
       "**Explanation**: This hypothesis explores the role of national security in driving AGI development, which could lead to a more rapid pace of progress and potentially contradict Aschenbrenner's gradual model.\n",
       "\n",
       "**Potential Sources**:\n",
       "\n",
       "Government reports on AI and national security  \n",
       "Expert opinions on the geopolitical implications of AGI  \n",
       "Studies on the potential military applications of AI\n",
       "\n"
      ],
      "text/plain": [
       "<IPython.core.display.Markdown object>"
      ]
     },
     "metadata": {},
     "output_type": "display_data"
    },
    {
     "data": {
      "text/markdown": [
       "### Hypothesis 227\n",
       "\n",
       "**Hypothesis**: If AI's ability to improve itself and solve robotics challenges proves to be significantly more efficient and effective compared to traditional methods of development, then the belief that prioritizing these tasks in the early stages is valid.\n",
       "\n",
       "**Belief**: The most efficient use of AGI in its early stages will be to improve itself and solve the challenges of robotics.\n",
       "\n",
       "**Explanation**: The hypothesis directly addresses the core claim of the belief: that using AGI to improve itself and solve robotics is the most efficient and effective approach in its early stages. By comparing AI-driven development with traditional methods, we can assess whether AGI's efficiency and effectiveness make it the optimal choice for these initial tasks.\n",
       "\n",
       "**Potential Sources**:\n",
       "\n",
       "Research papers on AI self-improvement  \n",
       "Studies on AI applications in robotics  \n",
       "Comparisons of AI-driven development with traditional methods in robotics\n",
       "\n"
      ],
      "text/plain": [
       "<IPython.core.display.Markdown object>"
      ]
     },
     "metadata": {},
     "output_type": "display_data"
    },
    {
     "data": {
      "text/markdown": [
       "### Hypothesis 228\n",
       "\n",
       "**Hypothesis**: If the development of AGI-driven skills training proves to be highly effective in transforming unskilled workers into skilled technicians, then this supports the belief that AGI's initial focus on self-improvement and robotics would be beneficial.\n",
       "\n",
       "**Belief**: The most efficient use of AGI in its early stages will be to improve itself and solve the challenges of robotics.\n",
       "\n",
       "**Explanation**: The hypothesis tests whether AGI can effectively address the labor shortage in industries requiring skilled technicians. If successful, it supports the belief that AGI's initial application in robotics and self-improvement would lead to efficient automation and skilled workforce augmentation.\n",
       "\n",
       "**Potential Sources**:\n",
       "\n",
       "Case studies of AI-powered skills training programs  \n",
       "Research on the impact of AI-driven education on workforce development  \n",
       "Analysis of the effectiveness of AI-assisted skills training in various industries\n",
       "\n"
      ],
      "text/plain": [
       "<IPython.core.display.Markdown object>"
      ]
     },
     "metadata": {},
     "output_type": "display_data"
    },
    {
     "data": {
      "text/markdown": [
       "### Hypothesis 229\n",
       "\n",
       "**Hypothesis**: If the current rate of AI development in robotics suggests that it is not a significant bottleneck to further progress, then the belief that prioritizing robotics as an initial use case for AGI might be less critical.\n",
       "\n",
       "**Belief**: The most efficient use of AGI in its early stages will be to improve itself and solve the challenges of robotics.\n",
       "\n",
       "**Explanation**: This hypothesis challenges the central assumption that robotics is a major limiting factor for AGI's progress. If robotics development is already advancing rapidly, then focusing on other areas might be more efficient and impactful.\n",
       "\n",
       "**Potential Sources**:\n",
       "\n",
       "Progress reports on robotics development  \n",
       "Analysis of the current state of robotics research  \n",
       "Forecasts for robotics advancements in the near future\n",
       "\n"
      ],
      "text/plain": [
       "<IPython.core.display.Markdown object>"
      ]
     },
     "metadata": {},
     "output_type": "display_data"
    },
    {
     "data": {
      "text/markdown": [
       "### Hypothesis 230\n",
       "\n",
       "**Hypothesis**: If there are other areas of immediate societal impact that can be addressed by AGI, such as healthcare or climate change, then the belief that prioritizing robotics and self-improvement might not be the most effective use of AGI in its early stages.\n",
       "\n",
       "**Belief**: The most efficient use of AGI in its early stages will be to improve itself and solve the challenges of robotics.\n",
       "\n",
       "**Explanation**: This hypothesis explores the possibility that other pressing societal issues might require immediate attention from AGI, potentially outweighing the importance of focusing on robotics and self-improvement.\n",
       "\n",
       "**Potential Sources**:\n",
       "\n",
       "Studies on AGI applications in healthcare  \n",
       "Research on AI's role in mitigating climate change  \n",
       "Analysis of the potential societal impact of AGI in various fields\n",
       "\n"
      ],
      "text/plain": [
       "<IPython.core.display.Markdown object>"
      ]
     },
     "metadata": {},
     "output_type": "display_data"
    },
    {
     "data": {
      "text/markdown": [
       "### Hypothesis 231\n",
       "\n",
       "**Hypothesis**: If the ability of AI to perform cognitive tasks at a level comparable to human experts is demonstrably limited in areas beyond robotics, then the belief that AI will prioritize self-improvement and robotics might be overly optimistic.\n",
       "\n",
       "**Belief**: The most efficient use of AGI in its early stages will be to improve itself and solve the challenges of robotics.\n",
       "\n",
       "**Explanation**: This hypothesis questions the assumption that AI's cognitive capabilities will readily extend beyond robotics. If AI struggles to perform at a high level in other cognitive domains, then focusing solely on robotics and self-improvement might be insufficient for achieving widespread societal impact.\n",
       "\n",
       "**Potential Sources**:\n",
       "\n",
       "Research on AI capabilities in various cognitive tasks  \n",
       "Comparisons of AI performance to human experts in different fields  \n",
       "Analysis of the limitations of current AI models in performing complex cognitive tasks\n",
       "\n"
      ],
      "text/plain": [
       "<IPython.core.display.Markdown object>"
      ]
     },
     "metadata": {},
     "output_type": "display_data"
    },
    {
     "data": {
      "text/markdown": [
       "### Hypothesis 232\n",
       "\n",
       "**Hypothesis**: If advancements in automation and AI technologies result in a significant decrease in demand for human labor in various sectors, then the belief that AGI will transform ordinary workers into skilled technicians is less likely to be true.\n",
       "\n",
       "**Belief**: The development of AGI will enable the transformation of ordinary workers into skilled technicians.\n",
       "\n",
       "**Explanation**: If AGI leads to widespread automation and displacement of workers, the focus may shift from upskilling existing workers to managing job losses and addressing socioeconomic implications.\n",
       "\n",
       "**Potential Sources**:\n",
       "\n",
       "Studies on the impact of automation on employment  \n",
       "Reports from industry analysts on future workforce trends  \n",
       "Economic forecasts and models incorporating automation trends\n",
       "\n"
      ],
      "text/plain": [
       "<IPython.core.display.Markdown object>"
      ]
     },
     "metadata": {},
     "output_type": "display_data"
    },
    {
     "data": {
      "text/markdown": [
       "### Hypothesis 233\n",
       "\n",
       "**Hypothesis**: If the development and implementation of AI-based training programs demonstrate a significant improvement in worker skills and productivity, then the belief that AGI can transform ordinary workers into skilled technicians is more likely to be true.\n",
       "\n",
       "**Belief**: The development of AGI will enable the transformation of ordinary workers into skilled technicians.\n",
       "\n",
       "**Explanation**: Real-world evidence of AI-powered training programs successfully enhancing worker capabilities supports the notion that AGI can play a role in upskilling the workforce.\n",
       "\n",
       "**Potential Sources**:\n",
       "\n",
       "Case studies of AI-based training programs in various industries  \n",
       "Research on the effectiveness of AI-powered education and training  \n",
       "Data on productivity gains attributed to AI-assisted training initiatives\n",
       "\n"
      ],
      "text/plain": [
       "<IPython.core.display.Markdown object>"
      ]
     },
     "metadata": {},
     "output_type": "display_data"
    },
    {
     "data": {
      "text/markdown": [
       "### Hypothesis 234\n",
       "\n",
       "**Hypothesis**: If the cost of implementing and maintaining AGI-powered training systems is prohibitively expensive for most industries, then the belief that AGI will transform ordinary workers into skilled technicians is less likely to be true.\n",
       "\n",
       "**Belief**: The development of AGI will enable the transformation of ordinary workers into skilled technicians.\n",
       "\n",
       "**Explanation**: The feasibility of widespread adoption of AGI-based training depends on its affordability and accessibility for various industries.\n",
       "\n",
       "**Potential Sources**:\n",
       "\n",
       "Cost analysis of AI systems and training programs  \n",
       "Economic studies on the cost-effectiveness of AI-based workforce development  \n",
       "Data on the financial constraints faced by various industries\n",
       "\n"
      ],
      "text/plain": [
       "<IPython.core.display.Markdown object>"
      ]
     },
     "metadata": {},
     "output_type": "display_data"
    },
    {
     "data": {
      "text/markdown": [
       "### Hypothesis 235\n",
       "\n",
       "**Hypothesis**: If the adoption of robots in factories and industries progresses at a faster rate than the development of AGI-powered training programs, then the belief that AGI will transform ordinary workers into skilled technicians is less likely to be true.\n",
       "\n",
       "**Belief**: The development of AGI will enable the transformation of ordinary workers into skilled technicians.\n",
       "\n",
       "**Explanation**: If automation outpaces the development of AGI-based training solutions, the focus may shift from upskilling workers to addressing job displacement and the ethical implications of automation.\n",
       "\n",
       "**Potential Sources**:\n",
       "\n",
       "Market research reports on robotics adoption in various industries  \n",
       "Forecasts and trends on the growth of industrial automation  \n",
       "Analysis of the speed of technological development in AI and robotics\n",
       "\n"
      ],
      "text/plain": [
       "<IPython.core.display.Markdown object>"
      ]
     },
     "metadata": {},
     "output_type": "display_data"
    },
    {
     "data": {
      "text/markdown": [
       "### Hypothesis 236\n",
       "\n",
       "**Hypothesis**: If the development of AGI leads to significant advancements in personalized learning and adaptive education, then the belief that AGI will transform ordinary workers into skilled technicians is more likely to be true.\n",
       "\n",
       "**Belief**: The development of AGI will enable the transformation of ordinary workers into skilled technicians.\n",
       "\n",
       "**Explanation**: The ability of AGI to tailor learning experiences to individual needs and abilities strengthens the potential for transforming workers into skilled professionals.\n",
       "\n",
       "**Potential Sources**:\n",
       "\n",
       "Research on personalized learning and adaptive education technologies  \n",
       "Studies on the effectiveness of AI-powered learning platforms  \n",
       "Data on the impact of personalized education on skill development\n",
       "\n"
      ],
      "text/plain": [
       "<IPython.core.display.Markdown object>"
      ]
     },
     "metadata": {},
     "output_type": "display_data"
    },
    {
     "data": {
      "text/markdown": [
       "### Hypothesis 237\n",
       "\n",
       "**Hypothesis**: If ethical concerns regarding data privacy, algorithmic bias, and the potential misuse of AGI for workforce manipulation arise, then the belief that AGI will transform ordinary workers into skilled technicians may be challenged.\n",
       "\n",
       "**Belief**: The development of AGI will enable the transformation of ordinary workers into skilled technicians.\n",
       "\n",
       "**Explanation**: Ethical considerations related to AI can hinder its implementation and impact its potential to positively transform the workforce.\n",
       "\n",
       "**Potential Sources**:\n",
       "\n",
       "Ethical guidelines and frameworks for AI development  \n",
       "Research on the social and ethical implications of AGI  \n",
       "Public opinion and societal debates on the responsible use of AI\n",
       "\n"
      ],
      "text/plain": [
       "<IPython.core.display.Markdown object>"
      ]
     },
     "metadata": {},
     "output_type": "display_data"
    },
    {
     "data": {
      "text/markdown": [
       "### Hypothesis 238\n",
       "\n",
       "**Hypothesis**: If the semiconductor industry's primary constraint in the United States is not the availability of skilled workers but rather factors like capital investment or regulatory hurdles, then the belief that robots will replace human workers in factories due to the scarcity of skilled workers is not supported.\n",
       "\n",
       "**Belief**: Robots will eventually replace human workers in factories and other industries.\n",
       "\n",
       "**Explanation**: This hypothesis directly addresses the belief by testing the key assumption that skilled worker shortages are driving the need for robot adoption. If other constraints are more significant, the belief's foundation weakens.\n",
       "\n",
       "**Potential Sources**:\n",
       "\n",
       "Semiconductor industry reports and analyses  \n",
       "Data on capital investment in US fabs  \n",
       "Government regulations impacting semiconductor manufacturing  \n",
       "Expert interviews with industry leaders and analysts\n",
       "\n"
      ],
      "text/plain": [
       "<IPython.core.display.Markdown object>"
      ]
     },
     "metadata": {},
     "output_type": "display_data"
    },
    {
     "data": {
      "text/markdown": [
       "### Hypothesis 239\n",
       "\n",
       "**Hypothesis**: If the cost of developing and deploying robots in manufacturing is significantly higher than the cost of training and retaining skilled human workers, then the belief that robots will replace human workers is less likely to be realized.\n",
       "\n",
       "**Belief**: Robots will eventually replace human workers in factories and other industries.\n",
       "\n",
       "**Explanation**: This hypothesis examines the economic feasibility of robot adoption. If robots are too expensive to implement, businesses may opt for other solutions, including training existing workers or hiring new ones.\n",
       "\n",
       "**Potential Sources**:\n",
       "\n",
       "Cost analysis of robot implementation in manufacturing  \n",
       "Studies on the return on investment (ROI) of robots in factories  \n",
       "Data on labor costs in the semiconductor industry\n",
       "\n"
      ],
      "text/plain": [
       "<IPython.core.display.Markdown object>"
      ]
     },
     "metadata": {},
     "output_type": "display_data"
    },
    {
     "data": {
      "text/markdown": [
       "### Hypothesis 240\n",
       "\n",
       "**Hypothesis**: If there is a significant increase in the number of skilled workers entering the semiconductor industry in the US, then the belief that robots will replace human workers due to worker scarcity is less likely to hold true.\n",
       "\n",
       "**Belief**: Robots will eventually replace human workers in factories and other industries.\n",
       "\n",
       "**Explanation**: This hypothesis examines the potential for increased skilled worker availability to alleviate the pressure for robot adoption. If workforce demographics shift, the need for robots may decrease.\n",
       "\n",
       "**Potential Sources**:\n",
       "\n",
       "Data on semiconductor industry workforce trends  \n",
       "Analysis of educational programs producing skilled workers for the industry  \n",
       "Government initiatives aimed at attracting and training workers\n",
       "\n"
      ],
      "text/plain": [
       "<IPython.core.display.Markdown object>"
      ]
     },
     "metadata": {},
     "output_type": "display_data"
    },
    {
     "data": {
      "text/markdown": [
       "### Hypothesis 241\n",
       "\n",
       "**Hypothesis**: If the development and adoption of AI-powered automation technologies in other sectors, such as customer service or logistics, demonstrate significant cost savings and improved efficiency, then the belief that robots will replace human workers in factories is more likely to be validated.\n",
       "\n",
       "**Belief**: Robots will eventually replace human workers in factories and other industries.\n",
       "\n",
       "**Explanation**: This hypothesis explores the broader trend of automation and its impact on different sectors. If AI-powered automation is successful elsewhere, it increases the likelihood of its adoption in manufacturing.\n",
       "\n",
       "**Potential Sources**:\n",
       "\n",
       "Case studies of AI automation in other industries  \n",
       "Research on the cost-effectiveness and efficiency gains of AI-powered systems  \n",
       "Industry trends and adoption rates of automation technologies\n",
       "\n"
      ],
      "text/plain": [
       "<IPython.core.display.Markdown object>"
      ]
     },
     "metadata": {},
     "output_type": "display_data"
    },
    {
     "data": {
      "text/markdown": [
       "### Hypothesis 242\n",
       "\n",
       "**Hypothesis**: If the public and policymakers raise significant ethical and societal concerns about widespread robot adoption in manufacturing, such as job displacement and potential social unrest, then the belief that robots will replace human workers may be challenged.\n",
       "\n",
       "**Belief**: Robots will eventually replace human workers in factories and other industries.\n",
       "\n",
       "**Explanation**: This hypothesis considers the potential social and ethical implications of robot adoption. If public resistance or regulatory hurdles arise, it could slow down or even prevent the widespread replacement of human workers.\n",
       "\n",
       "**Potential Sources**:\n",
       "\n",
       "Public opinion surveys on automation and job displacement  \n",
       "Policy discussions and debates on the ethical implications of AI and robotics  \n",
       "Research on the social impact of automation\n",
       "\n"
      ],
      "text/plain": [
       "<IPython.core.display.Markdown object>"
      ]
     },
     "metadata": {},
     "output_type": "display_data"
    },
    {
     "data": {
      "text/markdown": [
       "### Hypothesis 243\n",
       "\n",
       "**Hypothesis**: The number of skilled workers available for semiconductor fabrication in the US is insufficient to meet current demand, resulting in a significant constraint on production.\n",
       "\n",
       "**Belief**: The primary constraint on US semiconductor fabrication plants (fabs) is a shortage of skilled workers.\n",
       "\n",
       "**Explanation**: This hypothesis directly tests the belief that a lack of skilled workers is the primary constraint for US fabs. It focuses on the availability of skilled workers compared to current production needs.\n",
       "\n",
       "**Potential Sources**:\n",
       "\n",
       "Industry reports on semiconductor workforce needs  \n",
       "Employment data for semiconductor manufacturing  \n",
       "Statements from industry leaders about workforce challenges\n",
       "\n"
      ],
      "text/plain": [
       "<IPython.core.display.Markdown object>"
      ]
     },
     "metadata": {},
     "output_type": "display_data"
    },
    {
     "data": {
      "text/markdown": [
       "### Hypothesis 244\n",
       "\n",
       "**Hypothesis**: AI-powered training programs are effective in quickly upskilling individuals for highly technical roles like semiconductor fabrication, bridging the skills gap.\n",
       "\n",
       "**Belief**: The primary constraint on US semiconductor fabrication plants (fabs) is a shortage of skilled workers.\n",
       "\n",
       "**Explanation**: This hypothesis challenges the belief by exploring the potential of AI to address the skilled worker shortage. It examines the effectiveness of AI training in technical fields.\n",
       "\n",
       "**Potential Sources**:\n",
       "\n",
       "Research papers on AI-assisted training in technical fields  \n",
       "Case studies of successful AI-based upskilling programs in manufacturing  \n",
       "Expert opinions on the effectiveness of AI in workforce development\n",
       "\n"
      ],
      "text/plain": [
       "<IPython.core.display.Markdown object>"
      ]
     },
     "metadata": {},
     "output_type": "display_data"
    },
    {
     "data": {
      "text/markdown": [
       "### Hypothesis 245\n",
       "\n",
       "**Hypothesis**: The cost and implementation of AI-powered training programs for semiconductor fabrication are prohibitively high, hindering their widespread adoption and impact on workforce development.\n",
       "\n",
       "**Belief**: The primary constraint on US semiconductor fabrication plants (fabs) is a shortage of skilled workers.\n",
       "\n",
       "**Explanation**: This hypothesis considers the practical limitations of AI-based training. It explores the potential cost barrier to implementation and its impact on the feasibility of addressing the skills gap.\n",
       "\n",
       "**Potential Sources**:\n",
       "\n",
       "Cost analysis of AI-based training programs  \n",
       "Industry reports on the affordability of AI technologies  \n",
       "Expert opinions on the financial viability of AI-powered workforce development\n",
       "\n"
      ],
      "text/plain": [
       "<IPython.core.display.Markdown object>"
      ]
     },
     "metadata": {},
     "output_type": "display_data"
    },
    {
     "data": {
      "text/markdown": [
       "### Hypothesis 246\n",
       "\n",
       "**Hypothesis**: Other factors, such as equipment availability, supply chain disruptions, or government regulations, are more significant constraints on US semiconductor production than the lack of skilled workers.\n",
       "\n",
       "**Belief**: The primary constraint on US semiconductor fabrication plants (fabs) is a shortage of skilled workers.\n",
       "\n",
       "**Explanation**: This hypothesis challenges the belief by suggesting that other factors might be more influential in restricting US fab production. It explores alternative explanations for production limitations.\n",
       "\n",
       "**Potential Sources**:\n",
       "\n",
       "Industry reports on semiconductor manufacturing challenges  \n",
       "Analysis of supply chain disruptions in the semiconductor industry  \n",
       "Government policies and regulations related to semiconductor production\n",
       "\n"
      ],
      "text/plain": [
       "<IPython.core.display.Markdown object>"
      ]
     },
     "metadata": {},
     "output_type": "display_data"
    },
    {
     "data": {
      "text/markdown": [
       "### Hypothesis 247\n",
       "\n",
       "**Hypothesis**: The current rate of adoption of robotics in semiconductor fabrication is significant and increasing.\n",
       "\n",
       "**Belief**: Cognitive superintelligence can rapidly transform unskilled workers into skilled technicians.\n",
       "\n",
       "**Explanation**: This hypothesis directly relates to the belief by assessing the current level of robot adoption in semiconductor fabrication. If the rate is high and increasing, it supports the idea that cognitive superintelligence can rapidly transform unskilled workers into skilled technicians.\n",
       "\n",
       "**Potential Sources**:\n",
       "\n",
       "Reports from semiconductor industry analysts  \n",
       "Industry publications and journals  \n",
       "Data from semiconductor manufacturers on robot deployment\n",
       "\n"
      ],
      "text/plain": [
       "<IPython.core.display.Markdown object>"
      ]
     },
     "metadata": {},
     "output_type": "display_data"
    },
    {
     "data": {
      "text/markdown": [
       "### Hypothesis 248\n",
       "\n",
       "**Hypothesis**: There are substantial technical and economic barriers to widespread robot implementation in semiconductor fabrication.\n",
       "\n",
       "**Belief**: Cognitive superintelligence can rapidly transform unskilled workers into skilled technicians.\n",
       "\n",
       "**Explanation**: This hypothesis challenges the belief by exploring the potential limitations of robot adoption. If there are significant barriers, it casts doubt on the feasibility of rapidly transforming unskilled workers into skilled technicians through AI.\n",
       "\n",
       "**Potential Sources**:\n",
       "\n",
       "Research papers on robotics in semiconductor fabrication  \n",
       "Expert interviews with robotics engineers and semiconductor professionals  \n",
       "Economic analyses of robot implementation costs and ROI\n",
       "\n"
      ],
      "text/plain": [
       "<IPython.core.display.Markdown object>"
      ]
     },
     "metadata": {},
     "output_type": "display_data"
    },
    {
     "data": {
      "text/markdown": [
       "### Hypothesis 249\n",
       "\n",
       "**Hypothesis**: The timeline for widespread robot implementation in semiconductor fabrication is longer than a 'very brief period' as suggested by Leopold Aschenbrenner.\n",
       "\n",
       "**Belief**: Cognitive superintelligence can rapidly transform unskilled workers into skilled technicians.\n",
       "\n",
       "**Explanation**: This hypothesis directly addresses the timeline aspect of the belief.  If the timeline for widespread adoption is longer than anticipated, it weakens the claim that AI can rapidly transform unskilled workers into skilled technicians.\n",
       "\n",
       "**Potential Sources**:\n",
       "\n",
       "Industry forecasts and roadmaps for robotics in semiconductor fabrication  \n",
       "Expert opinions on the timeline for robot integration  \n",
       "Historical data on the adoption rate of previous technological innovations in the industry\n",
       "\n"
      ],
      "text/plain": [
       "<IPython.core.display.Markdown object>"
      ]
     },
     "metadata": {},
     "output_type": "display_data"
    },
    {
     "data": {
      "text/markdown": [
       "### Hypothesis 250\n",
       "\n",
       "**Hypothesis**: Cognitive superintelligence can effectively train unskilled workers in complex semiconductor fabrication tasks without extensive hands-on experience.\n",
       "\n",
       "**Belief**: Cognitive superintelligence can rapidly transform unskilled workers into skilled technicians.\n",
       "\n",
       "**Explanation**: This hypothesis examines the specific capabilities of cognitive superintelligence in training. If it can effectively train workers without extensive practical experience, it strengthens the belief. However, if it requires significant hands-on training, it weakens the belief.\n",
       "\n",
       "**Potential Sources**:\n",
       "\n",
       "Research on AI-powered training systems in technical fields  \n",
       "Case studies of AI-assisted training programs in semiconductor fabrication  \n",
       "Expert opinions on the effectiveness of AI in skills transfer\n",
       "\n"
      ],
      "text/plain": [
       "<IPython.core.display.Markdown object>"
      ]
     },
     "metadata": {},
     "output_type": "display_data"
    },
    {
     "data": {
      "text/markdown": [
       "### Hypothesis 251\n",
       "\n",
       "**Hypothesis**: If recent advancements in AI, exceeding capabilities of current applications like Copilot, have resulted in a substantial increase in AI revenue for companies in the US, then the belief that these companies are currently borrowing hundreds of billions of dollars or more in the corporate debt markets is likely valid.\n",
       "\n",
       "**Belief**: Companies in the United States are currently borrowing hundreds of billions of dollars or more in the corporate debt markets.\n",
       "\n",
       "**Explanation**: Significant growth in AI revenue could indicate a high demand for capital, particularly for companies pursuing ambitious AI projects. Borrowing heavily from the corporate debt markets is a common way for companies to raise capital for expansion and innovation.\n",
       "\n",
       "**Potential Sources**:\n",
       "\n",
       "Financial statements of major US tech companies involved in AI development  \n",
       "Reports from market research firms on AI revenue growth and industry trends  \n",
       "Data on corporate debt issuance in the US, especially by tech companies  \n",
       "News articles and reports on recent AI advancements and their impact on the economy\n",
       "\n"
      ],
      "text/plain": [
       "<IPython.core.display.Markdown object>"
      ]
     },
     "metadata": {},
     "output_type": "display_data"
    },
    {
     "data": {
      "text/markdown": [
       "### Hypothesis 252\n",
       "\n",
       "**Hypothesis**: If the US tech sector is experiencing a substantial increase in investment and development driven by AI advancements, and this growth is outpacing traditional sources of revenue, then the belief that companies are borrowing hundreds of billions of dollars or more in the corporate debt markets is likely true.\n",
       "\n",
       "**Belief**: Companies in the United States are currently borrowing hundreds of billions of dollars or more in the corporate debt markets.\n",
       "\n",
       "**Explanation**: Significant investment and development in AI requires substantial capital, and if traditional sources of revenue are insufficient, companies would need to rely on borrowing to finance their expansion.\n",
       "\n",
       "**Potential Sources**:\n",
       "\n",
       "Venture capital investment data in AI companies in the US  \n",
       "Reports on AI-related research and development activities by US companies  \n",
       "Data on corporate debt issuance in the US, especially by tech companies  \n",
       "Analysis of the growth trajectory of the US tech sector in relation to AI advancements\n",
       "\n"
      ],
      "text/plain": [
       "<IPython.core.display.Markdown object>"
      ]
     },
     "metadata": {},
     "output_type": "display_data"
    },
    {
     "data": {
      "text/markdown": [
       "### Hypothesis 253\n",
       "\n",
       "**Hypothesis**: If the current level of corporate debt in the US, particularly by tech companies, is significantly higher than historical levels, and this increase coincides with the advancement of AI technology, then the belief that companies are borrowing hundreds of billions of dollars or more in the corporate debt markets is likely valid.\n",
       "\n",
       "**Belief**: Companies in the United States are currently borrowing hundreds of billions of dollars or more in the corporate debt markets.\n",
       "\n",
       "**Explanation**: A significant increase in corporate debt, especially in the tech sector, suggests a large appetite for capital, potentially driven by AI investments. Comparing current debt levels to historical data can reveal potential trends related to AI advancements.\n",
       "\n",
       "**Potential Sources**:\n",
       "\n",
       "Data on corporate debt issuance in the US over the past few years  \n",
       "Analysis of trends in corporate debt levels across different sectors, particularly tech  \n",
       "Reports on the impact of AI advancements on corporate financing strategies  \n",
       "Economic data on the growth of the US tech sector and its relationship to corporate debt\n",
       "\n"
      ],
      "text/plain": [
       "<IPython.core.display.Markdown object>"
      ]
     },
     "metadata": {},
     "output_type": "display_data"
    },
    {
     "data": {
      "text/markdown": [
       "### Hypothesis 254\n",
       "\n",
       "**Hypothesis**: If the rate of improvement in AI performance, particularly in areas like natural language processing and computer vision, continues to accelerate, it will surpass current AI applications like Copilot in the near future.\n",
       "\n",
       "**Belief**: Artificial intelligence is rapidly advancing beyond the capabilities of current applications like Copilot.\n",
       "\n",
       "**Explanation**: This hypothesis directly addresses the belief that AI is rapidly advancing beyond current applications. If the rate of improvement continues to accelerate, it supports the idea of a rapid shift in AI capabilities.\n",
       "\n",
       "**Potential Sources**:\n",
       "\n",
       "Research papers on AI progress and trends  \n",
       "Benchmarking data on AI performance in specific tasks  \n",
       "Industry reports on AI development and adoption\n",
       "\n"
      ],
      "text/plain": [
       "<IPython.core.display.Markdown object>"
      ]
     },
     "metadata": {},
     "output_type": "display_data"
    },
    {
     "data": {
      "text/markdown": [
       "### Hypothesis 255\n",
       "\n",
       "**Hypothesis**: If there is a significant increase in funding and investment in AI research and development, particularly in areas focused on general-purpose AI, it will accelerate the pace of advancements and lead to more powerful AI systems.\n",
       "\n",
       "**Belief**: Artificial intelligence is rapidly advancing beyond the capabilities of current applications like Copilot.\n",
       "\n",
       "**Explanation**: This hypothesis connects the belief to resource allocation and investment, suggesting that increased funding could lead to faster development and surpass current AI limitations.\n",
       "\n",
       "**Potential Sources**:\n",
       "\n",
       "Government reports on AI funding  \n",
       "Venture capital reports on AI investment\n",
       "\n"
      ],
      "text/plain": [
       "<IPython.core.display.Markdown object>"
      ]
     },
     "metadata": {},
     "output_type": "display_data"
    },
    {
     "data": {
      "text/markdown": [
       "### Hypothesis 256\n",
       "\n",
       "**Hypothesis**: If experts in the field of AI are predicting the emergence of superintelligence within the next few years, it would support the belief that AI advancements are exceeding current capabilities.\n",
       "\n",
       "**Belief**: Artificial intelligence is rapidly advancing beyond the capabilities of current applications like Copilot.\n",
       "\n",
       "**Explanation**: This hypothesis relies on the expertise and predictions of AI researchers and experts to validate the belief about the rapid progress of AI.\n",
       "\n",
       "**Potential Sources**:\n",
       "\n",
       "Publications and interviews of AI experts  \n",
       "Conferences and workshops on AI advancements\n",
       "\n"
      ],
      "text/plain": [
       "<IPython.core.display.Markdown object>"
      ]
     },
     "metadata": {},
     "output_type": "display_data"
    },
    {
     "data": {
      "text/markdown": [
       "### Hypothesis 257\n",
       "\n",
       "**Hypothesis**: If there are demonstrable examples of AI systems achieving significant breakthroughs in tasks previously thought to be uniquely human, it would support the belief that AI is progressing beyond the capabilities of current applications.\n",
       "\n",
       "**Belief**: Artificial intelligence is rapidly advancing beyond the capabilities of current applications like Copilot.\n",
       "\n",
       "**Explanation**: This hypothesis focuses on specific advancements and breakthroughs in AI, demonstrating that AI is capable of surpassing current limitations and achieving new levels of competence.\n",
       "\n",
       "**Potential Sources**:\n",
       "\n",
       "Research papers describing AI breakthroughs  \n",
       "Public demonstrations of AI capabilities in specific domains\n",
       "\n"
      ],
      "text/plain": [
       "<IPython.core.display.Markdown object>"
      ]
     },
     "metadata": {},
     "output_type": "display_data"
    },
    {
     "data": {
      "text/markdown": [
       "### Hypothesis 258\n",
       "\n",
       "**Hypothesis**: If the advancement of AI is accompanied by a growing concern among national security agencies and governments about its potential impact, it would suggest that the rapid progress of AI is being recognized and considered a significant factor.\n",
       "\n",
       "**Belief**: Artificial intelligence is rapidly advancing beyond the capabilities of current applications like Copilot.\n",
       "\n",
       "**Explanation**: This hypothesis explores the reaction of national security agencies and governments to AI advancements, suggesting that the belief about rapid progress is being recognized and considered a serious matter.\n",
       "\n",
       "**Potential Sources**:\n",
       "\n",
       "Government reports on AI security risks  \n",
       "Intelligence agency assessments on AI threats\n",
       "\n"
      ],
      "text/plain": [
       "<IPython.core.display.Markdown object>"
      ]
     },
     "metadata": {},
     "output_type": "display_data"
    },
    {
     "data": {
      "text/markdown": [
       "### Hypothesis 259\n",
       "\n",
       "**Hypothesis**: If the current rate of progress in AI research and development continues, superintelligence will be achieved within the next decade.\n",
       "\n",
       "**Belief**: The development of superintelligence is imminent and will have significant impacts on society.\n",
       "\n",
       "**Explanation**: This hypothesis directly tests the belief by examining the timeline for achieving superintelligence based on current trends in AI research.\n",
       "\n",
       "**Potential Sources**:\n",
       "\n",
       "Research papers on AI advancements and breakthroughs  \n",
       "Reports from leading AI research institutions like OpenAI and DeepMind  \n",
       "Expert predictions and forecasts on the timeline for achieving superintelligence\n",
       "\n"
      ],
      "text/plain": [
       "<IPython.core.display.Markdown object>"
      ]
     },
     "metadata": {},
     "output_type": "display_data"
    },
    {
     "data": {
      "text/markdown": [
       "### Hypothesis 260\n",
       "\n",
       "**Hypothesis**: If there is no significant progress in addressing the ethical and societal challenges associated with superintelligence, it will not be considered a positive development for humanity.\n",
       "\n",
       "**Belief**: The development of superintelligence is imminent and will have significant impacts on society.\n",
       "\n",
       "**Explanation**: This hypothesis explores the potential negative consequences of superintelligence and the importance of ethical considerations in its development.\n",
       "\n",
       "**Potential Sources**:\n",
       "\n",
       "Philosophical and ethical discussions on superintelligence  \n",
       "Research on the potential risks and benefits of superintelligence  \n",
       "Expert opinions on the societal implications of superintelligence\n",
       "\n"
      ],
      "text/plain": [
       "<IPython.core.display.Markdown object>"
      ]
     },
     "metadata": {},
     "output_type": "display_data"
    },
    {
     "data": {
      "text/markdown": [
       "### Hypothesis 261\n",
       "\n",
       "**Hypothesis**: If the majority of experts in AI research do not believe that superintelligence is imminent, the belief that it is coming soon is likely to be unfounded.\n",
       "\n",
       "**Belief**: The development of superintelligence is imminent and will have significant impacts on society.\n",
       "\n",
       "**Explanation**: This hypothesis assesses the consensus among experts in the field on the timeline for achieving superintelligence.\n",
       "\n",
       "**Potential Sources**:\n",
       "\n",
       "Surveys and polls of AI researchers on the timeline for superintelligence  \n",
       "Expert publications and interviews on the future of AI\n",
       "\n"
      ],
      "text/plain": [
       "<IPython.core.display.Markdown object>"
      ]
     },
     "metadata": {},
     "output_type": "display_data"
    },
    {
     "data": {
      "text/markdown": [
       "### Hypothesis 262\n",
       "\n",
       "**Hypothesis**: If public awareness and understanding of AI's potential impacts are significantly higher today compared to the early stages of the COVID-19 pandemic, then the belief that the public will be slow to recognize and respond to the development of superintelligence is invalid.\n",
       "\n",
       "**Belief**: The general public is often slow to recognize and respond to significant societal shifts, as seen in the early stages of the COVID-19 pandemic.\n",
       "\n",
       "**Explanation**: This hypothesis tests whether the public is more informed and responsive to transformative technologies now than during the early stages of the COVID-19 pandemic, which Aschenbrenner uses as a parallel.\n",
       "\n",
       "**Potential Sources**:\n",
       "\n",
       "Public opinion surveys on AI awareness  \n",
       "News articles and media coverage of AI in 2020 vs. 2024  \n",
       "Government reports on AI policy and public engagement  \n",
       "Academic studies on public perception of AI\n",
       "\n"
      ],
      "text/plain": [
       "<IPython.core.display.Markdown object>"
      ]
     },
     "metadata": {},
     "output_type": "display_data"
    },
    {
     "data": {
      "text/markdown": [
       "### Hypothesis 263\n",
       "\n",
       "**Hypothesis**: If the development of superintelligence leads to significant economic and social disruptions, comparable to or exceeding the impacts of the Industrial Revolution, then the belief that the public will initially be slow to recognize the significance of superintelligence is likely valid.\n",
       "\n",
       "**Belief**: The general public is often slow to recognize and respond to significant societal shifts, as seen in the early stages of the COVID-19 pandemic.\n",
       "\n",
       "**Explanation**: This hypothesis explores the potential magnitude of the impact of superintelligence, drawing a comparison to the Industrial Revolution to understand potential public reactions to large-scale societal change.\n",
       "\n",
       "**Potential Sources**:\n",
       "\n",
       "Economic and sociological studies on the impacts of disruptive technologies  \n",
       "Historical accounts of the Industrial Revolution and its consequences  \n",
       "Expert opinions on the potential economic and social impacts of superintelligence\n",
       "\n"
      ],
      "text/plain": [
       "<IPython.core.display.Markdown object>"
      ]
     },
     "metadata": {},
     "output_type": "display_data"
    },
    {
     "data": {
      "text/markdown": [
       "### Hypothesis 264\n",
       "\n",
       "**Hypothesis**: If the current pace of AI development and its impact on society are significantly faster than the early stages of the COVID-19 pandemic, then the belief that the public will have more time to adapt and respond to the development of superintelligence is invalid.\n",
       "\n",
       "**Belief**: The general public is often slow to recognize and respond to significant societal shifts, as seen in the early stages of the COVID-19 pandemic.\n",
       "\n",
       "**Explanation**: This hypothesis examines whether the speed of AI development and its consequences are outpacing the rate of public awareness and societal adaptation, suggesting that a delayed response is more likely.\n",
       "\n",
       "**Potential Sources**:\n",
       "\n",
       "Timeline of key AI advancements and their societal impact  \n",
       "Expert opinions on the speed of AI development and its consequences  \n",
       "Historical data on the rate of technological change and societal adaptation\n",
       "\n"
      ],
      "text/plain": [
       "<IPython.core.display.Markdown object>"
      ]
     },
     "metadata": {},
     "output_type": "display_data"
    },
    {
     "data": {
      "text/markdown": [
       "### Hypothesis 265\n",
       "\n",
       "**Hypothesis**: If the initial response of governments and policymakers to the development of superintelligence is characterized by proactive and decisive action, then the belief that the public will initially be slow to recognize the significance of superintelligence is less likely to be valid.\n",
       "\n",
       "**Belief**: The general public is often slow to recognize and respond to significant societal shifts, as seen in the early stages of the COVID-19 pandemic.\n",
       "\n",
       "**Explanation**: This hypothesis focuses on the role of governments and policymakers in shaping public awareness and response to superintelligence, suggesting that strong leadership could counteract initial public indifference.\n",
       "\n",
       "**Potential Sources**:\n",
       "\n",
       "Government policy documents related to AI regulation and development  \n",
       "Statements and actions of key government officials regarding AI  \n",
       "Expert analysis of government policy and its impact on public perception of AI\n",
       "\n"
      ],
      "text/plain": [
       "<IPython.core.display.Markdown object>"
      ]
     },
     "metadata": {},
     "output_type": "display_data"
    },
    {
     "data": {
      "text/markdown": [
       "### Hypothesis 266\n",
       "\n",
       "**Hypothesis**: If the historical analogy of the Manhattan Project demonstrates that societal responses to transformative technological advancements are often characterized by a period of initial uncertainty and denial followed by rapid mobilization, then the belief that the public will initially be slow to recognize the significance of superintelligence is likely valid.\n",
       "\n",
       "**Belief**: The general public is often slow to recognize and respond to significant societal shifts, as seen in the early stages of the COVID-19 pandemic.\n",
       "\n",
       "**Explanation**: This hypothesis explores the historical pattern of societal responses to major technological breakthroughs, using the Manhattan Project as a case study to understand potential reactions to superintelligence.\n",
       "\n",
       "**Potential Sources**:\n",
       "\n",
       "Historical accounts of the Manhattan Project and its impact on society  \n",
       "Studies on the psychology of societal response to technological change  \n",
       "Analyses of the parallels between the Manhattan Project and the development of superintelligence\n",
       "\n"
      ],
      "text/plain": [
       "<IPython.core.display.Markdown object>"
      ]
     },
     "metadata": {},
     "output_type": "display_data"
    },
    {
     "data": {
      "text/markdown": [
       "### Hypothesis 267\n",
       "\n",
       "**Hypothesis**: If AI-driven automation leads to significant job displacement in key sectors, the belief that superintelligence will trigger a Manhattan Project-like shift will be supported.\n",
       "\n",
       "**Belief**: The development of artificial superintelligence will trigger a significant societal shift, comparable to the Manhattan Project, with widespread political and economic implications.\n",
       "\n",
       "**Explanation**: The economic and social disruption caused by widespread job displacement could mirror the transformative effects of the Manhattan Project, prompting governmental and societal responses.\n",
       "\n",
       "**Potential Sources**:\n",
       "\n",
       "Economic studies on the impact of AI automation  \n",
       "Labor market data on job displacement trends  \n",
       "Policy reports on the social and economic consequences of AI\n",
       "\n"
      ],
      "text/plain": [
       "<IPython.core.display.Markdown object>"
      ]
     },
     "metadata": {},
     "output_type": "display_data"
    },
    {
     "data": {
      "text/markdown": [
       "### Hypothesis 268\n",
       "\n",
       "**Hypothesis**: If historical data show that technological advancements leading to significant economic shifts were accompanied by significant political and societal upheaval, the belief that superintelligence will have similar impacts will be supported.\n",
       "\n",
       "**Belief**: The development of artificial superintelligence will trigger a significant societal shift, comparable to the Manhattan Project, with widespread political and economic implications.\n",
       "\n",
       "**Explanation**: Examining historical precedents for technological disruption can provide insight into the potential political and societal implications of superintelligence.\n",
       "\n",
       "**Potential Sources**:\n",
       "\n",
       "Historical accounts of technological revolutions  \n",
       "Studies on the social and political consequences of technological change  \n",
       "Historical data on political and economic upheaval in relation to technological advancements\n",
       "\n"
      ],
      "text/plain": [
       "<IPython.core.display.Markdown object>"
      ]
     },
     "metadata": {},
     "output_type": "display_data"
    },
    {
     "data": {
      "text/markdown": [
       "### Hypothesis 269\n",
       "\n",
       "**Hypothesis**: If current government policies and societal responses to AI development are focused on mitigating potential negative impacts, the belief that superintelligence will trigger a Manhattan Project-like shift will be challenged.\n",
       "\n",
       "**Belief**: The development of artificial superintelligence will trigger a significant societal shift, comparable to the Manhattan Project, with widespread political and economic implications.\n",
       "\n",
       "**Explanation**: The absence of a major societal mobilization and redirection of resources similar to the Manhattan Project would suggest a less significant impact of superintelligence on society.\n",
       "\n",
       "**Potential Sources**:\n",
       "\n",
       "Government policy documents on AI development and regulation  \n",
       "Societal responses and public discourse on AI ethics and impact  \n",
       "Analyses of AI-related investments and resource allocation\n",
       "\n"
      ],
      "text/plain": [
       "<IPython.core.display.Markdown object>"
      ]
     },
     "metadata": {},
     "output_type": "display_data"
    },
    {
     "data": {
      "text/markdown": [
       "### Hypothesis 270\n",
       "\n",
       "**Hypothesis**: If projections on the pace of AI development suggest a rapid and imminent arrival of superintelligence, the belief that superintelligence will trigger a Manhattan Project-like shift will be strengthened.\n",
       "\n",
       "**Belief**: The development of artificial superintelligence will trigger a significant societal shift, comparable to the Manhattan Project, with widespread political and economic implications.\n",
       "\n",
       "**Explanation**: The sense of urgency associated with a rapidly approaching superintelligence would likely drive significant societal and political responses, similar to the Manhattan Project.\n",
       "\n",
       "**Potential Sources**:\n",
       "\n",
       "Projections from AI researchers and experts on the timeline for superintelligence development  \n",
       "Studies on the pace of technological advancements in AI  \n",
       "Expert opinions and predictions on the future of AI\n",
       "\n"
      ],
      "text/plain": [
       "<IPython.core.display.Markdown object>"
      ]
     },
     "metadata": {},
     "output_type": "display_data"
    },
    {
     "data": {
      "text/markdown": [
       "### Hypothesis 271\n",
       "\n",
       "**Hypothesis**: If there is a lack of significant public awareness and understanding of the potential impacts of superintelligence, the belief that it will trigger a Manhattan Project-like shift will be weakened.\n",
       "\n",
       "**Belief**: The development of artificial superintelligence will trigger a significant societal shift, comparable to the Manhattan Project, with widespread political and economic implications.\n",
       "\n",
       "**Explanation**: A lack of public awareness and understanding of the technology and its implications could hinder the mobilization of resources and political will necessary for a Manhattan Project-scale response.\n",
       "\n",
       "**Potential Sources**:\n",
       "\n",
       "Public opinion surveys on AI awareness and understanding  \n",
       "Media coverage and public discourse on superintelligence  \n",
       "Educational initiatives and public outreach programs related to AI\n",
       "\n"
      ],
      "text/plain": [
       "<IPython.core.display.Markdown object>"
      ]
     },
     "metadata": {},
     "output_type": "display_data"
    },
    {
     "data": {
      "text/markdown": [
       "### Hypothesis 272\n",
       "\n",
       "**Hypothesis**: If the energy consumption of AI systems, particularly superintelligence, is significantly higher than current data center energy usage, then the belief that AI development will lead to a significant increase in energy consumption is valid.\n",
       "\n",
       "**Belief**: The development of artificial superintelligence will result in a significant increase in energy consumption, contributing to higher energy prices and further environmental strain.\n",
       "\n",
       "**Explanation**: This hypothesis directly addresses the belief by comparing the energy consumption of existing AI systems with the potential energy requirements of future superintelligence.\n",
       "\n",
       "**Potential Sources**:\n",
       "\n",
       "Research papers on AI energy consumption  \n",
       "Reports from industry experts on data center energy usage  \n",
       "Predictions from AI researchers on future energy needs\n",
       "\n"
      ],
      "text/plain": [
       "<IPython.core.display.Markdown object>"
      ]
     },
     "metadata": {},
     "output_type": "display_data"
    },
    {
     "data": {
      "text/markdown": [
       "### Hypothesis 273\n",
       "\n",
       "**Hypothesis**: If public opinion surveys show a growing concern among the general population about the environmental impact of AI, particularly related to energy consumption, then the belief that AI development will contribute to environmental strain is supported.\n",
       "\n",
       "**Belief**: The development of artificial superintelligence will result in a significant increase in energy consumption, contributing to higher energy prices and further environmental strain.\n",
       "\n",
       "**Explanation**: Public opinion reflects the general sentiment about AI's environmental impact, providing insight into the potential for social pressure on policymakers and industry to address the issue.\n",
       "\n",
       "**Potential Sources**:\n",
       "\n",
       "Public opinion surveys on AI and environmental concerns  \n",
       "Social media trends and discussions related to AI and climate change  \n",
       "News articles and public statements on the environmental impact of AI\n",
       "\n"
      ],
      "text/plain": [
       "<IPython.core.display.Markdown object>"
      ]
     },
     "metadata": {},
     "output_type": "display_data"
    },
    {
     "data": {
      "text/markdown": [
       "### Hypothesis 274\n",
       "\n",
       "**Hypothesis**: If expert analyses of AI development trends indicate that energy efficiency improvements in AI hardware and software will not be sufficient to offset the increased energy demands of superintelligence, then the belief that AI development will lead to higher energy prices is supported.\n",
       "\n",
       "**Belief**: The development of artificial superintelligence will result in a significant increase in energy consumption, contributing to higher energy prices and further environmental strain.\n",
       "\n",
       "**Explanation**: This hypothesis focuses on the balance between energy efficiency advancements and the growing energy needs of AI, which can influence energy prices.\n",
       "\n",
       "**Potential Sources**:\n",
       "\n",
       "Expert analyses on AI hardware and software energy efficiency  \n",
       "Predictions from technology analysts on future AI energy demands  \n",
       "Research on energy efficiency trends in the tech industry\n",
       "\n"
      ],
      "text/plain": [
       "<IPython.core.display.Markdown object>"
      ]
     },
     "metadata": {},
     "output_type": "display_data"
    },
    {
     "data": {
      "text/markdown": [
       "### Hypothesis 275\n",
       "\n",
       "**Hypothesis**: If the US government significantly increases investment in research and development for AI safety and ethics, then the likelihood of a unified and coordinated national response to the potential risks of AI development, including job automation, is higher.\n",
       "\n",
       "**Belief**: The development of artificial superintelligence will lead to widespread job automation, potentially exacerbating existing economic inequalities.\n",
       "\n",
       "**Explanation**: This hypothesis directly examines the potential impact of government action on the development of AI safety and ethical guidelines, which could mitigate the risks of widespread job automation and economic inequality.\n",
       "\n",
       "**Potential Sources**:\n",
       "\n",
       "Government reports and policy documents on AI strategy  \n",
       "Budget allocations for AI research and development  \n",
       "Expert opinions and research papers on AI safety and ethics\n",
       "\n"
      ],
      "text/plain": [
       "<IPython.core.display.Markdown object>"
      ]
     },
     "metadata": {},
     "output_type": "display_data"
    },
    {
     "data": {
      "text/markdown": [
       "### Hypothesis 276\n",
       "\n",
       "**Hypothesis**: If current trends in automation show a significant increase in job displacement across various sectors, then the belief that artificial superintelligence will exacerbate existing economic inequalities is more likely to be validated.\n",
       "\n",
       "**Belief**: The development of artificial superintelligence will lead to widespread job automation, potentially exacerbating existing economic inequalities.\n",
       "\n",
       "**Explanation**: This hypothesis examines the current state of automation and its impact on employment to provide evidence for the potential future consequences of artificial superintelligence.\n",
       "\n",
       "**Potential Sources**:\n",
       "\n",
       "Labor market data and analysis on job displacement  \n",
       "Economic studies on the impact of automation  \n",
       "Reports from industry organizations on automation trends\n",
       "\n"
      ],
      "text/plain": [
       "<IPython.core.display.Markdown object>"
      ]
     },
     "metadata": {},
     "output_type": "display_data"
    },
    {
     "data": {
      "text/markdown": [
       "### Hypothesis 277\n",
       "\n",
       "**Hypothesis**: If the US national security apparatus prioritizes AI development as a strategic priority and allocates significant resources for AI research and deployment, then the belief that job automation will be a significant consequence of AI development is more likely to be validated.\n",
       "\n",
       "**Belief**: The development of artificial superintelligence will lead to widespread job automation, potentially exacerbating existing economic inequalities.\n",
       "\n",
       "**Explanation**: This hypothesis analyzes the national security apparatus's focus on AI development and resource allocation, which could indicate a commitment to AI advancement, potentially accelerating the development of AI technologies capable of job automation.\n",
       "\n",
       "**Potential Sources**:\n",
       "\n",
       "Government documents and reports on national security strategy  \n",
       "Defense budgets and funding for AI research  \n",
       "Statements from national security officials on AI\n",
       "\n"
      ],
      "text/plain": [
       "<IPython.core.display.Markdown object>"
      ]
     },
     "metadata": {},
     "output_type": "display_data"
    }
   ],
   "source": [
    "for index, row in research_df.iterrows():\n",
    "    display(Markdown(\n",
    "        f\"### Hypothesis {index + 1}\\n\\n\"\n",
    "        f\"**Hypothesis**: {row['hypothesis']}\\n\\n\"\n",
    "        f\"**Belief**: {row['belief']}\\n\\n\"\n",
    "        f\"**Explanation**: {row['explanation']}\\n\\n\"\n",
    "        f\"**Potential Sources**:\\n\\n\"\n",
    "        f\"{'  \\n'.join(row['potential_sources'])}\\n\\n\"\n",
    "    ))"
   ]
  },
  {
   "cell_type": "code",
   "execution_count": 18,
   "metadata": {},
   "outputs": [
    {
     "data": {
      "text/html": [
       "<div>\n",
       "<style scoped>\n",
       "    .dataframe tbody tr th:only-of-type {\n",
       "        vertical-align: middle;\n",
       "    }\n",
       "\n",
       "    .dataframe tbody tr th {\n",
       "        vertical-align: top;\n",
       "    }\n",
       "\n",
       "    .dataframe thead th {\n",
       "        text-align: right;\n",
       "    }\n",
       "</style>\n",
       "<table border=\"1\" class=\"dataframe\">\n",
       "  <thead>\n",
       "    <tr style=\"text-align: right;\">\n",
       "      <th></th>\n",
       "      <th>hypothesis_id</th>\n",
       "      <th>belief_id</th>\n",
       "      <th>belief</th>\n",
       "      <th>hypothesis</th>\n",
       "      <th>explanation</th>\n",
       "      <th>potential_sources</th>\n",
       "    </tr>\n",
       "  </thead>\n",
       "  <tbody>\n",
       "    <tr>\n",
       "      <th>0</th>\n",
       "      <td>0</td>\n",
       "      <td>1</td>\n",
       "      <td>AI, unlike most recent Silicon Valley products...</td>\n",
       "      <td>The rate of growth in AI training compute has ...</td>\n",
       "      <td>This hypothesis directly tests Leopold Aschenb...</td>\n",
       "      <td>[Research papers on AI training compute requir...</td>\n",
       "    </tr>\n",
       "    <tr>\n",
       "      <th>1</th>\n",
       "      <td>1</td>\n",
       "      <td>1</td>\n",
       "      <td>AI, unlike most recent Silicon Valley products...</td>\n",
       "      <td>Factors such as hardware limitations, power co...</td>\n",
       "      <td>This hypothesis explores potential limitations...</td>\n",
       "      <td>[Research on AI hardware limitations and energ...</td>\n",
       "    </tr>\n",
       "    <tr>\n",
       "      <th>2</th>\n",
       "      <td>2</td>\n",
       "      <td>1</td>\n",
       "      <td>AI, unlike most recent Silicon Valley products...</td>\n",
       "      <td>Advancements in AI algorithms and hardware eff...</td>\n",
       "      <td>This hypothesis explores the possibility of mi...</td>\n",
       "      <td>[Research on AI algorithm optimization and har...</td>\n",
       "    </tr>\n",
       "    <tr>\n",
       "      <th>3</th>\n",
       "      <td>3</td>\n",
       "      <td>1</td>\n",
       "      <td>AI, unlike most recent Silicon Valley products...</td>\n",
       "      <td>The growth in AI training compute will be driv...</td>\n",
       "      <td>This hypothesis addresses the potential for AI...</td>\n",
       "      <td>[Research papers and industry reports on vario...</td>\n",
       "    </tr>\n",
       "    <tr>\n",
       "      <th>4</th>\n",
       "      <td>4</td>\n",
       "      <td>2</td>\n",
       "      <td>The development of AI systems is experiencing ...</td>\n",
       "      <td>If the rate of growth of AI training compute s...</td>\n",
       "      <td>The belief is based on the assumption that the...</td>\n",
       "      <td>[Research papers on AI hardware trends, Market...</td>\n",
       "    </tr>\n",
       "  </tbody>\n",
       "</table>\n",
       "</div>"
      ],
      "text/plain": [
       "   hypothesis_id  belief_id  \\\n",
       "0              0          1   \n",
       "1              1          1   \n",
       "2              2          1   \n",
       "3              3          1   \n",
       "4              4          2   \n",
       "\n",
       "                                              belief  \\\n",
       "0  AI, unlike most recent Silicon Valley products...   \n",
       "1  AI, unlike most recent Silicon Valley products...   \n",
       "2  AI, unlike most recent Silicon Valley products...   \n",
       "3  AI, unlike most recent Silicon Valley products...   \n",
       "4  The development of AI systems is experiencing ...   \n",
       "\n",
       "                                          hypothesis  \\\n",
       "0  The rate of growth in AI training compute has ...   \n",
       "1  Factors such as hardware limitations, power co...   \n",
       "2  Advancements in AI algorithms and hardware eff...   \n",
       "3  The growth in AI training compute will be driv...   \n",
       "4  If the rate of growth of AI training compute s...   \n",
       "\n",
       "                                         explanation  \\\n",
       "0  This hypothesis directly tests Leopold Aschenb...   \n",
       "1  This hypothesis explores potential limitations...   \n",
       "2  This hypothesis explores the possibility of mi...   \n",
       "3  This hypothesis addresses the potential for AI...   \n",
       "4  The belief is based on the assumption that the...   \n",
       "\n",
       "                                   potential_sources  \n",
       "0  [Research papers on AI training compute requir...  \n",
       "1  [Research on AI hardware limitations and energ...  \n",
       "2  [Research on AI algorithm optimization and har...  \n",
       "3  [Research papers and industry reports on vario...  \n",
       "4  [Research papers on AI hardware trends, Market...  "
      ]
     },
     "metadata": {},
     "output_type": "display_data"
    }
   ],
   "source": [
    "test_df = research_df[['hypothesis_id', 'belief_id', 'belief', 'hypothesis', 'explanation', 'potential_sources']].copy()\n",
    "display(test_df.head())"
   ]
  },
  {
   "cell_type": "code",
   "execution_count": 20,
   "metadata": {},
   "outputs": [
    {
     "data": {
      "text/plain": [
       "277"
      ]
     },
     "metadata": {},
     "output_type": "display_data"
    }
   ],
   "source": [
    "display(len(test_df))"
   ]
  },
  {
   "cell_type": "code",
   "execution_count": 21,
   "metadata": {},
   "outputs": [
    {
     "data": {
      "text/html": [
       "<div>\n",
       "<style scoped>\n",
       "    .dataframe tbody tr th:only-of-type {\n",
       "        vertical-align: middle;\n",
       "    }\n",
       "\n",
       "    .dataframe tbody tr th {\n",
       "        vertical-align: top;\n",
       "    }\n",
       "\n",
       "    .dataframe thead th {\n",
       "        text-align: right;\n",
       "    }\n",
       "</style>\n",
       "<table border=\"1\" class=\"dataframe\">\n",
       "  <thead>\n",
       "    <tr style=\"text-align: right;\">\n",
       "      <th></th>\n",
       "      <th>hypothesis_id</th>\n",
       "      <th>belief_id</th>\n",
       "      <th>belief</th>\n",
       "      <th>hypothesis</th>\n",
       "      <th>explanation</th>\n",
       "      <th>potential_sources</th>\n",
       "    </tr>\n",
       "  </thead>\n",
       "  <tbody>\n",
       "    <tr>\n",
       "      <th>272</th>\n",
       "      <td>272</td>\n",
       "      <td>80</td>\n",
       "      <td>The development of artificial superintelligenc...</td>\n",
       "      <td>If public opinion surveys show a growing conce...</td>\n",
       "      <td>Public opinion reflects the general sentiment ...</td>\n",
       "      <td>[Public opinion surveys on AI and environmenta...</td>\n",
       "    </tr>\n",
       "    <tr>\n",
       "      <th>273</th>\n",
       "      <td>273</td>\n",
       "      <td>80</td>\n",
       "      <td>The development of artificial superintelligenc...</td>\n",
       "      <td>If expert analyses of AI development trends in...</td>\n",
       "      <td>This hypothesis focuses on the balance between...</td>\n",
       "      <td>[Expert analyses on AI hardware and software e...</td>\n",
       "    </tr>\n",
       "    <tr>\n",
       "      <th>274</th>\n",
       "      <td>274</td>\n",
       "      <td>81</td>\n",
       "      <td>The development of artificial superintelligenc...</td>\n",
       "      <td>If the US government significantly increases i...</td>\n",
       "      <td>This hypothesis directly examines the potentia...</td>\n",
       "      <td>[Government reports and policy documents on AI...</td>\n",
       "    </tr>\n",
       "    <tr>\n",
       "      <th>275</th>\n",
       "      <td>275</td>\n",
       "      <td>81</td>\n",
       "      <td>The development of artificial superintelligenc...</td>\n",
       "      <td>If current trends in automation show a signifi...</td>\n",
       "      <td>This hypothesis examines the current state of ...</td>\n",
       "      <td>[Labor market data and analysis on job displac...</td>\n",
       "    </tr>\n",
       "    <tr>\n",
       "      <th>276</th>\n",
       "      <td>276</td>\n",
       "      <td>81</td>\n",
       "      <td>The development of artificial superintelligenc...</td>\n",
       "      <td>If the US national security apparatus prioriti...</td>\n",
       "      <td>This hypothesis analyzes the national security...</td>\n",
       "      <td>[Government documents and reports on national ...</td>\n",
       "    </tr>\n",
       "  </tbody>\n",
       "</table>\n",
       "</div>"
      ],
      "text/plain": [
       "     hypothesis_id  belief_id  \\\n",
       "272            272         80   \n",
       "273            273         80   \n",
       "274            274         81   \n",
       "275            275         81   \n",
       "276            276         81   \n",
       "\n",
       "                                                belief  \\\n",
       "272  The development of artificial superintelligenc...   \n",
       "273  The development of artificial superintelligenc...   \n",
       "274  The development of artificial superintelligenc...   \n",
       "275  The development of artificial superintelligenc...   \n",
       "276  The development of artificial superintelligenc...   \n",
       "\n",
       "                                            hypothesis  \\\n",
       "272  If public opinion surveys show a growing conce...   \n",
       "273  If expert analyses of AI development trends in...   \n",
       "274  If the US government significantly increases i...   \n",
       "275  If current trends in automation show a signifi...   \n",
       "276  If the US national security apparatus prioriti...   \n",
       "\n",
       "                                           explanation  \\\n",
       "272  Public opinion reflects the general sentiment ...   \n",
       "273  This hypothesis focuses on the balance between...   \n",
       "274  This hypothesis directly examines the potentia...   \n",
       "275  This hypothesis examines the current state of ...   \n",
       "276  This hypothesis analyzes the national security...   \n",
       "\n",
       "                                     potential_sources  \n",
       "272  [Public opinion surveys on AI and environmenta...  \n",
       "273  [Expert analyses on AI hardware and software e...  \n",
       "274  [Government reports and policy documents on AI...  \n",
       "275  [Labor market data and analysis on job displac...  \n",
       "276  [Government documents and reports on national ...  "
      ]
     },
     "metadata": {},
     "output_type": "display_data"
    }
   ],
   "source": [
    "display(test_df.tail())"
   ]
  },
  {
   "cell_type": "code",
   "execution_count": 22,
   "metadata": {},
   "outputs": [],
   "source": [
    "beliefs_df = extraction_df[['belief_id', 'belief', 'type', 'context', 'justification', 'confidence']].copy()"
   ]
  },
  {
   "cell_type": "code",
   "execution_count": 23,
   "metadata": {},
   "outputs": [
    {
     "data": {
      "text/html": [
       "<div>\n",
       "<style scoped>\n",
       "    .dataframe tbody tr th:only-of-type {\n",
       "        vertical-align: middle;\n",
       "    }\n",
       "\n",
       "    .dataframe tbody tr th {\n",
       "        vertical-align: top;\n",
       "    }\n",
       "\n",
       "    .dataframe thead th {\n",
       "        text-align: right;\n",
       "    }\n",
       "</style>\n",
       "<table border=\"1\" class=\"dataframe\">\n",
       "  <thead>\n",
       "    <tr style=\"text-align: right;\">\n",
       "      <th></th>\n",
       "      <th>belief_id</th>\n",
       "      <th>belief</th>\n",
       "      <th>type</th>\n",
       "      <th>context</th>\n",
       "      <th>justification</th>\n",
       "      <th>confidence</th>\n",
       "    </tr>\n",
       "  </thead>\n",
       "  <tbody>\n",
       "    <tr>\n",
       "      <th>1</th>\n",
       "      <td>1</td>\n",
       "      <td>AI, unlike most recent Silicon Valley products...</td>\n",
       "      <td>positive</td>\n",
       "      <td>Leopold Aschenbrenner differentiates AI from t...</td>\n",
       "      <td>He explicitly mentions the need to build 'gian...</td>\n",
       "      <td>high</td>\n",
       "    </tr>\n",
       "    <tr>\n",
       "      <th>2</th>\n",
       "      <td>2</td>\n",
       "      <td>The development of AI systems is experiencing ...</td>\n",
       "      <td>positive</td>\n",
       "      <td>Aschenbrenner discusses the exponential growth...</td>\n",
       "      <td>He cites a long-term trend of AI training comp...</td>\n",
       "      <td>high</td>\n",
       "    </tr>\n",
       "    <tr>\n",
       "      <th>3</th>\n",
       "      <td>3</td>\n",
       "      <td>The size and cost of AI training clusters are ...</td>\n",
       "      <td>positive</td>\n",
       "      <td>Aschenbrenner outlines a scenario where AI clu...</td>\n",
       "      <td>He provides detailed estimations of cluster si...</td>\n",
       "      <td>high</td>\n",
       "    </tr>\n",
       "    <tr>\n",
       "      <th>4</th>\n",
       "      <td>4</td>\n",
       "      <td>The development of artificial intelligence (AI...</td>\n",
       "      <td>positive</td>\n",
       "      <td>Leopold Aschenbrenner's response to Dwarkesh P...</td>\n",
       "      <td>Leopold Aschenbrenner states that 10 GW data c...</td>\n",
       "      <td>high</td>\n",
       "    </tr>\n",
       "    <tr>\n",
       "      <th>5</th>\n",
       "      <td>5</td>\n",
       "      <td>The development of AI will require a large amo...</td>\n",
       "      <td>positive</td>\n",
       "      <td>Leopold Aschenbrenner's response to Dwarkesh P...</td>\n",
       "      <td>He mentions that OpenAI and Microsoft are plan...</td>\n",
       "      <td>high</td>\n",
       "    </tr>\n",
       "    <tr>\n",
       "      <th>...</th>\n",
       "      <td>...</td>\n",
       "      <td>...</td>\n",
       "      <td>...</td>\n",
       "      <td>...</td>\n",
       "      <td>...</td>\n",
       "      <td>...</td>\n",
       "    </tr>\n",
       "    <tr>\n",
       "      <th>76</th>\n",
       "      <td>76</td>\n",
       "      <td>The development of superintelligence is approa...</td>\n",
       "      <td>positive</td>\n",
       "      <td>Leopold Aschenbrenner is responding to Dwarkes...</td>\n",
       "      <td>The statement, \"We have a few more years of mi...</td>\n",
       "      <td>medium</td>\n",
       "    </tr>\n",
       "    <tr>\n",
       "      <th>77</th>\n",
       "      <td>77</td>\n",
       "      <td>The general public is often slow to recognize ...</td>\n",
       "      <td>positive</td>\n",
       "      <td>Aschenbrenner draws a parallel between the ear...</td>\n",
       "      <td>Aschenbrenner uses the analogy of the COVID-19...</td>\n",
       "      <td>medium</td>\n",
       "    </tr>\n",
       "    <tr>\n",
       "      <th>79</th>\n",
       "      <td>79</td>\n",
       "      <td>The development of artificial superintelligenc...</td>\n",
       "      <td>positive</td>\n",
       "      <td>Leopold Aschenbrenner is drawing a parallel be...</td>\n",
       "      <td>The analogy to the Manhattan Project underscor...</td>\n",
       "      <td>high</td>\n",
       "    </tr>\n",
       "    <tr>\n",
       "      <th>80</th>\n",
       "      <td>80</td>\n",
       "      <td>The development of artificial superintelligenc...</td>\n",
       "      <td>positive</td>\n",
       "      <td>Leopold Aschenbrenner is discussing the potent...</td>\n",
       "      <td>The statement suggests that the development of...</td>\n",
       "      <td>high</td>\n",
       "    </tr>\n",
       "    <tr>\n",
       "      <th>81</th>\n",
       "      <td>81</td>\n",
       "      <td>The development of artificial superintelligenc...</td>\n",
       "      <td>positive</td>\n",
       "      <td>Leopold Aschenbrenner is discussing the potent...</td>\n",
       "      <td>The statement suggests that artificial superin...</td>\n",
       "      <td>high</td>\n",
       "    </tr>\n",
       "  </tbody>\n",
       "</table>\n",
       "<p>80 rows × 6 columns</p>\n",
       "</div>"
      ],
      "text/plain": [
       "    belief_id                                             belief      type  \\\n",
       "1           1  AI, unlike most recent Silicon Valley products...  positive   \n",
       "2           2  The development of AI systems is experiencing ...  positive   \n",
       "3           3  The size and cost of AI training clusters are ...  positive   \n",
       "4           4  The development of artificial intelligence (AI...  positive   \n",
       "5           5  The development of AI will require a large amo...  positive   \n",
       "..        ...                                                ...       ...   \n",
       "76         76  The development of superintelligence is approa...  positive   \n",
       "77         77  The general public is often slow to recognize ...  positive   \n",
       "79         79  The development of artificial superintelligenc...  positive   \n",
       "80         80  The development of artificial superintelligenc...  positive   \n",
       "81         81  The development of artificial superintelligenc...  positive   \n",
       "\n",
       "                                              context  \\\n",
       "1   Leopold Aschenbrenner differentiates AI from t...   \n",
       "2   Aschenbrenner discusses the exponential growth...   \n",
       "3   Aschenbrenner outlines a scenario where AI clu...   \n",
       "4   Leopold Aschenbrenner's response to Dwarkesh P...   \n",
       "5   Leopold Aschenbrenner's response to Dwarkesh P...   \n",
       "..                                                ...   \n",
       "76  Leopold Aschenbrenner is responding to Dwarkes...   \n",
       "77  Aschenbrenner draws a parallel between the ear...   \n",
       "79  Leopold Aschenbrenner is drawing a parallel be...   \n",
       "80  Leopold Aschenbrenner is discussing the potent...   \n",
       "81  Leopold Aschenbrenner is discussing the potent...   \n",
       "\n",
       "                                        justification confidence  \n",
       "1   He explicitly mentions the need to build 'gian...       high  \n",
       "2   He cites a long-term trend of AI training comp...       high  \n",
       "3   He provides detailed estimations of cluster si...       high  \n",
       "4   Leopold Aschenbrenner states that 10 GW data c...       high  \n",
       "5   He mentions that OpenAI and Microsoft are plan...       high  \n",
       "..                                                ...        ...  \n",
       "76  The statement, \"We have a few more years of mi...     medium  \n",
       "77  Aschenbrenner uses the analogy of the COVID-19...     medium  \n",
       "79  The analogy to the Manhattan Project underscor...       high  \n",
       "80  The statement suggests that the development of...       high  \n",
       "81  The statement suggests that artificial superin...       high  \n",
       "\n",
       "[80 rows x 6 columns]"
      ]
     },
     "execution_count": 23,
     "metadata": {},
     "output_type": "execute_result"
    }
   ],
   "source": [
    "beliefs_df"
   ]
  }
 ],
 "metadata": {
  "kernelspec": {
   "display_name": "portfolio",
   "language": "python",
   "name": "python3"
  },
  "language_info": {
   "codemirror_mode": {
    "name": "ipython",
    "version": 3
   },
   "file_extension": ".py",
   "mimetype": "text/x-python",
   "name": "python",
   "nbconvert_exporter": "python",
   "pygments_lexer": "ipython3",
   "version": "3.1.undefined"
  }
 },
 "nbformat": 4,
 "nbformat_minor": 2
}
