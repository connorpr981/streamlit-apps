{
 "cells": [
  {
   "cell_type": "code",
   "execution_count": 3,
   "metadata": {},
   "outputs": [
    {
     "data": {
      "text/html": [
       "<div>\n",
       "<style scoped>\n",
       "    .dataframe tbody tr th:only-of-type {\n",
       "        vertical-align: middle;\n",
       "    }\n",
       "\n",
       "    .dataframe tbody tr th {\n",
       "        vertical-align: top;\n",
       "    }\n",
       "\n",
       "    .dataframe thead th {\n",
       "        text-align: right;\n",
       "    }\n",
       "</style>\n",
       "<table border=\"1\" class=\"dataframe\">\n",
       "  <thead>\n",
       "    <tr style=\"text-align: right;\">\n",
       "      <th></th>\n",
       "      <th>hypothesis_id</th>\n",
       "      <th>belief_id</th>\n",
       "      <th>chunk_id</th>\n",
       "      <th>chunk</th>\n",
       "      <th>meta_chunk</th>\n",
       "      <th>belief</th>\n",
       "      <th>type</th>\n",
       "      <th>context</th>\n",
       "      <th>justification</th>\n",
       "      <th>confidence</th>\n",
       "      <th>verify</th>\n",
       "      <th>verify_explanation</th>\n",
       "      <th>verification_focus</th>\n",
       "      <th>hypothesis</th>\n",
       "      <th>explanation</th>\n",
       "      <th>potential_sources</th>\n",
       "    </tr>\n",
       "  </thead>\n",
       "  <tbody>\n",
       "    <tr>\n",
       "      <th>0</th>\n",
       "      <td>0</td>\n",
       "      <td>1</td>\n",
       "      <td>1</td>\n",
       "      <td>Dwarkesh Patel\\nIn the Sholto and Trenton epis...</td>\n",
       "      <td>Dwarkesh Patel\\nToday I’m chatting with my fri...</td>\n",
       "      <td>AI development has transitioned from a softwar...</td>\n",
       "      <td>positive</td>\n",
       "      <td>Leopold Aschenbrenner describes the evolution ...</td>\n",
       "      <td>The development of AI models now requires the ...</td>\n",
       "      <td>high</td>\n",
       "      <td>True</td>\n",
       "      <td>While the belief reflects a current trend, the...</td>\n",
       "      <td>Investigate the historical data on AI training...</td>\n",
       "      <td>The rate of growth in AI training compute has ...</td>\n",
       "      <td>This hypothesis directly tests Aschenbrenner's...</td>\n",
       "      <td>[Published research papers on AI training comp...</td>\n",
       "    </tr>\n",
       "    <tr>\n",
       "      <th>1</th>\n",
       "      <td>1</td>\n",
       "      <td>1</td>\n",
       "      <td>1</td>\n",
       "      <td>Dwarkesh Patel\\nIn the Sholto and Trenton epis...</td>\n",
       "      <td>Dwarkesh Patel\\nToday I’m chatting with my fri...</td>\n",
       "      <td>AI development has transitioned from a softwar...</td>\n",
       "      <td>positive</td>\n",
       "      <td>Leopold Aschenbrenner describes the evolution ...</td>\n",
       "      <td>The development of AI models now requires the ...</td>\n",
       "      <td>high</td>\n",
       "      <td>True</td>\n",
       "      <td>While the belief reflects a current trend, the...</td>\n",
       "      <td>Investigate the historical data on AI training...</td>\n",
       "      <td>The cost of building and operating large-scale...</td>\n",
       "      <td>If the cost of building and operating AI clust...</td>\n",
       "      <td>[Financial reports from companies investing in...</td>\n",
       "    </tr>\n",
       "    <tr>\n",
       "      <th>2</th>\n",
       "      <td>2</td>\n",
       "      <td>1</td>\n",
       "      <td>1</td>\n",
       "      <td>Dwarkesh Patel\\nIn the Sholto and Trenton epis...</td>\n",
       "      <td>Dwarkesh Patel\\nToday I’m chatting with my fri...</td>\n",
       "      <td>AI development has transitioned from a softwar...</td>\n",
       "      <td>positive</td>\n",
       "      <td>Leopold Aschenbrenner describes the evolution ...</td>\n",
       "      <td>The development of AI models now requires the ...</td>\n",
       "      <td>high</td>\n",
       "      <td>True</td>\n",
       "      <td>While the belief reflects a current trend, the...</td>\n",
       "      <td>Investigate the historical data on AI training...</td>\n",
       "      <td>The availability of renewable energy resources...</td>\n",
       "      <td>Aschenbrenner's prediction of a trillion-dolla...</td>\n",
       "      <td>[Reports on renewable energy deployment and ca...</td>\n",
       "    </tr>\n",
       "    <tr>\n",
       "      <th>3</th>\n",
       "      <td>3</td>\n",
       "      <td>1</td>\n",
       "      <td>1</td>\n",
       "      <td>Dwarkesh Patel\\nIn the Sholto and Trenton epis...</td>\n",
       "      <td>Dwarkesh Patel\\nToday I’m chatting with my fri...</td>\n",
       "      <td>AI development has transitioned from a softwar...</td>\n",
       "      <td>positive</td>\n",
       "      <td>Leopold Aschenbrenner describes the evolution ...</td>\n",
       "      <td>The development of AI models now requires the ...</td>\n",
       "      <td>high</td>\n",
       "      <td>True</td>\n",
       "      <td>While the belief reflects a current trend, the...</td>\n",
       "      <td>Investigate the historical data on AI training...</td>\n",
       "      <td>The development of more efficient AI algorithm...</td>\n",
       "      <td>If advancements in AI technology lead to more ...</td>\n",
       "      <td>[Research papers on AI algorithm efficiency im...</td>\n",
       "    </tr>\n",
       "    <tr>\n",
       "      <th>4</th>\n",
       "      <td>4</td>\n",
       "      <td>2</td>\n",
       "      <td>1</td>\n",
       "      <td>Dwarkesh Patel\\nIn the Sholto and Trenton epis...</td>\n",
       "      <td>Dwarkesh Patel\\nToday I’m chatting with my fri...</td>\n",
       "      <td>The computing power required for training larg...</td>\n",
       "      <td>positive</td>\n",
       "      <td>Leopold Aschenbrenner discusses the trend of i...</td>\n",
       "      <td>He mentions the doubling of training compute e...</td>\n",
       "      <td>high</td>\n",
       "      <td>True</td>\n",
       "      <td>This belief presents a significant claim about...</td>\n",
       "      <td>Examine the validity of the projected energy c...</td>\n",
       "      <td>If the rate of growth of AI training compute p...</td>\n",
       "      <td>The belief is based on the assumption that the...</td>\n",
       "      <td>[Reports on AI hardware advancements, Data on ...</td>\n",
       "    </tr>\n",
       "  </tbody>\n",
       "</table>\n",
       "</div>"
      ],
      "text/plain": [
       "   hypothesis_id  belief_id  chunk_id  \\\n",
       "0              0          1         1   \n",
       "1              1          1         1   \n",
       "2              2          1         1   \n",
       "3              3          1         1   \n",
       "4              4          2         1   \n",
       "\n",
       "                                               chunk  \\\n",
       "0  Dwarkesh Patel\\nIn the Sholto and Trenton epis...   \n",
       "1  Dwarkesh Patel\\nIn the Sholto and Trenton epis...   \n",
       "2  Dwarkesh Patel\\nIn the Sholto and Trenton epis...   \n",
       "3  Dwarkesh Patel\\nIn the Sholto and Trenton epis...   \n",
       "4  Dwarkesh Patel\\nIn the Sholto and Trenton epis...   \n",
       "\n",
       "                                          meta_chunk  \\\n",
       "0  Dwarkesh Patel\\nToday I’m chatting with my fri...   \n",
       "1  Dwarkesh Patel\\nToday I’m chatting with my fri...   \n",
       "2  Dwarkesh Patel\\nToday I’m chatting with my fri...   \n",
       "3  Dwarkesh Patel\\nToday I’m chatting with my fri...   \n",
       "4  Dwarkesh Patel\\nToday I’m chatting with my fri...   \n",
       "\n",
       "                                              belief      type  \\\n",
       "0  AI development has transitioned from a softwar...  positive   \n",
       "1  AI development has transitioned from a softwar...  positive   \n",
       "2  AI development has transitioned from a softwar...  positive   \n",
       "3  AI development has transitioned from a softwar...  positive   \n",
       "4  The computing power required for training larg...  positive   \n",
       "\n",
       "                                             context  \\\n",
       "0  Leopold Aschenbrenner describes the evolution ...   \n",
       "1  Leopold Aschenbrenner describes the evolution ...   \n",
       "2  Leopold Aschenbrenner describes the evolution ...   \n",
       "3  Leopold Aschenbrenner describes the evolution ...   \n",
       "4  Leopold Aschenbrenner discusses the trend of i...   \n",
       "\n",
       "                                       justification confidence  verify  \\\n",
       "0  The development of AI models now requires the ...       high    True   \n",
       "1  The development of AI models now requires the ...       high    True   \n",
       "2  The development of AI models now requires the ...       high    True   \n",
       "3  The development of AI models now requires the ...       high    True   \n",
       "4  He mentions the doubling of training compute e...       high    True   \n",
       "\n",
       "                                  verify_explanation  \\\n",
       "0  While the belief reflects a current trend, the...   \n",
       "1  While the belief reflects a current trend, the...   \n",
       "2  While the belief reflects a current trend, the...   \n",
       "3  While the belief reflects a current trend, the...   \n",
       "4  This belief presents a significant claim about...   \n",
       "\n",
       "                                  verification_focus  \\\n",
       "0  Investigate the historical data on AI training...   \n",
       "1  Investigate the historical data on AI training...   \n",
       "2  Investigate the historical data on AI training...   \n",
       "3  Investigate the historical data on AI training...   \n",
       "4  Examine the validity of the projected energy c...   \n",
       "\n",
       "                                          hypothesis  \\\n",
       "0  The rate of growth in AI training compute has ...   \n",
       "1  The cost of building and operating large-scale...   \n",
       "2  The availability of renewable energy resources...   \n",
       "3  The development of more efficient AI algorithm...   \n",
       "4  If the rate of growth of AI training compute p...   \n",
       "\n",
       "                                         explanation  \\\n",
       "0  This hypothesis directly tests Aschenbrenner's...   \n",
       "1  If the cost of building and operating AI clust...   \n",
       "2  Aschenbrenner's prediction of a trillion-dolla...   \n",
       "3  If advancements in AI technology lead to more ...   \n",
       "4  The belief is based on the assumption that the...   \n",
       "\n",
       "                                   potential_sources  \n",
       "0  [Published research papers on AI training comp...  \n",
       "1  [Financial reports from companies investing in...  \n",
       "2  [Reports on renewable energy deployment and ca...  \n",
       "3  [Research papers on AI algorithm efficiency im...  \n",
       "4  [Reports on AI hardware advancements, Data on ...  "
      ]
     },
     "metadata": {},
     "output_type": "display_data"
    }
   ],
   "source": [
    "# Import necessary libraries\n",
    "import os\n",
    "import numpy as np\n",
    "import pandas as pd\n",
    "from dotenv import load_dotenv\n",
    "from openai import OpenAI\n",
    "from bertopic import BERTopic\n",
    "from umap import UMAP\n",
    "import plotly.express as px\n",
    "from concurrent.futures import ThreadPoolExecutor\n",
    "from tqdm.notebook import tqdm\n",
    "from IPython.display import Markdown\n",
    "import concurrent.futures\n",
    "\n",
    "# Load environment variables\n",
    "load_dotenv()\n",
    "\n",
    "\n",
    "def get_embedding(text):\n",
    "    \"\"\"Generate embedding for a given text using OpenAI API.\"\"\"\n",
    "    response = client.embeddings.create(\n",
    "        input=text,\n",
    "        model=\"text-embedding-3-large\"\n",
    "    )\n",
    "    return response.data[0].embedding\n",
    "\n",
    "def safe_get_embedding(text):\n",
    "    \"\"\"Safely get embedding with error handling.\"\"\"\n",
    "    try:\n",
    "        return get_embedding(text)\n",
    "    except Exception as e:\n",
    "        print(f\"Error embedding document: {e}\")\n",
    "        return None\n",
    "\n",
    "def get_embeddings_multithreaded(documents):\n",
    "    \"\"\"Get embeddings for a list of documents using multithreading.\"\"\"\n",
    "    with ThreadPoolExecutor(max_workers=25) as executor:\n",
    "        embeddings = list(tqdm(executor.map(safe_get_embedding, documents), total=len(documents)))\n",
    "    return [emb for emb in embeddings if emb is not None]\n",
    "\n",
    "# Load dataset\n",
    "df = pd.read_parquet('../extraction/outputs/dwarkesh_patel__leopold_aschenbrenner.parquet')\n",
    "display(df.head())\n"
   ]
  },
  {
   "cell_type": "code",
   "execution_count": 4,
   "metadata": {},
   "outputs": [],
   "source": [
    "\n",
    "# Extract unique beliefs and hypotheses\n",
    "unique_beliefs_df = df[['belief', 'type', 'confidence']].drop_duplicates().reset_index(drop=True)\n",
    "unique_hypotheses_df = df[['hypothesis', 'explanation', 'potential_sources']].explode('potential_sources').drop_duplicates().reset_index(drop=True)\n",
    "\n",
    "# Sample documents for BERTopic analysis\n",
    "documents = unique_hypotheses_df['potential_sources'].tolist()\n",
    "documents_sample = pd.Series(documents).tolist()\n",
    "\n",
    "# Embed the documents using multithreading\n",
    "# embeddings = get_embeddings_multithreaded(documents_sample)\n",
    "embeddings = pd.read_parquet('outputs/embeddings.parquet')\n"
   ]
  },
  {
   "cell_type": "code",
   "execution_count": 5,
   "metadata": {},
   "outputs": [],
   "source": [
    "# Convert embeddings to numpy array\n",
    "embeddings_np = np.array(embeddings)\n",
    "\n",
    "# Define the expanded grid for UMAP parameters\n",
    "umap_n_neighbors_range = [50, 200]\n",
    "umap_n_components_range = [2, 4]\n",
    "\n",
    "best_config = None\n",
    "min_outliers = float('inf')\n",
    "results = []\n"
   ]
  },
  {
   "cell_type": "code",
   "execution_count": 6,
   "metadata": {},
   "outputs": [],
   "source": [
    "\n",
    "# Function to count outliers based on topic size\n",
    "def count_outliers(topics):\n",
    "    return sum(1 for t in topics if t == -1)\n",
    "\n",
    "# Function to run the analysis with different parameters\n",
    "def run_topic_modeling(documents_sample, embeddings_np, config):\n",
    "    # Reduce dimensionality of the embeddings using UMAP for clustering\n",
    "    umap_embeddings = UMAP(n_neighbors=config['UMAP_N_NEIGHBORS_CLUSTER'], \n",
    "                           n_components=config['UMAP_N_COMPONENTS_CLUSTER'], \n",
    "                           metric=config['UMAP_METRIC_CLUSTER']).fit_transform(embeddings_np)\n",
    "\n",
    "    # Initialize BERTopic model\n",
    "    topic_model = BERTopic(nr_topics=config['BERTOPIC_NR_TOPICS'], \n",
    "                           calculate_probabilities=config['BERTOPIC_CALCULATE_PROBABILITIES'],\n",
    "                           min_topic_size=config['BERTOPIC_MIN_TOPIC_SIZE'],\n",
    "                           verbose=config['BERTOPIC_VERBOSE'])\n",
    "\n",
    "    # Fit the model on the reduced embeddings and get topics\n",
    "    topics, probabilities = topic_model.fit_transform(documents_sample, umap_embeddings)\n",
    "\n",
    "    # Count outliers\n",
    "    num_outliers = count_outliers(topics)\n",
    "    return topics, probabilities, umap_embeddings, num_outliers, topic_model, config\n"
   ]
  },
  {
   "cell_type": "code",
   "execution_count": 7,
   "metadata": {},
   "outputs": [
    {
     "data": {
      "application/vnd.jupyter.widget-view+json": {
       "model_id": "b69813ba18d441619c835d6bc67643ea",
       "version_major": 2,
       "version_minor": 0
      },
      "text/plain": [
       "Grid Search:   0%|          | 0/4 [00:00<?, ?it/s]"
      ]
     },
     "metadata": {},
     "output_type": "display_data"
    },
    {
     "name": "stderr",
     "output_type": "stream",
     "text": [
      "OMP: Info #276: omp_set_nested routine deprecated, please use omp_set_max_active_levels instead.\n",
      "2024-06-10 02:36:56,117 - BERTopic - Dimensionality - Fitting the dimensionality reduction algorithm\n",
      "2024-06-10 02:36:57,766 - BERTopic - Dimensionality - Completed ✓\n",
      "2024-06-10 02:36:57,767 - BERTopic - Cluster - Start clustering the reduced embeddings\n",
      "2024-06-10 02:36:57,803 - BERTopic - Cluster - Completed ✓\n",
      "2024-06-10 02:36:57,804 - BERTopic - Representation - Extracting topics from clusters using representation models.\n",
      "2024-06-10 02:36:57,822 - BERTopic - Representation - Completed ✓\n",
      "2024-06-10 02:36:57,823 - BERTopic - Topic reduction - Reducing number of topics\n",
      "2024-06-10 02:36:57,844 - BERTopic - Topic reduction - Reduced number of topics from 16 to 4\n",
      "2024-06-10 02:37:00,884 - BERTopic - Dimensionality - Fitting the dimensionality reduction algorithm\n",
      "2024-06-10 02:37:02,336 - BERTopic - Dimensionality - Completed ✓\n",
      "2024-06-10 02:37:02,337 - BERTopic - Cluster - Start clustering the reduced embeddings\n",
      "2024-06-10 02:37:02,372 - BERTopic - Cluster - Completed ✓\n",
      "2024-06-10 02:37:02,373 - BERTopic - Representation - Extracting topics from clusters using representation models.\n",
      "2024-06-10 02:37:02,386 - BERTopic - Representation - Completed ✓\n",
      "2024-06-10 02:37:02,387 - BERTopic - Topic reduction - Reducing number of topics\n",
      "2024-06-10 02:37:02,400 - BERTopic - Topic reduction - Reduced number of topics from 12 to 4\n",
      "2024-06-10 02:37:05,679 - BERTopic - Dimensionality - Fitting the dimensionality reduction algorithm\n",
      "2024-06-10 02:37:07,080 - BERTopic - Dimensionality - Completed ✓\n",
      "2024-06-10 02:37:07,081 - BERTopic - Cluster - Start clustering the reduced embeddings\n",
      "2024-06-10 02:37:07,115 - BERTopic - Cluster - Completed ✓\n",
      "2024-06-10 02:37:07,116 - BERTopic - Representation - Extracting topics from clusters using representation models.\n",
      "2024-06-10 02:37:07,130 - BERTopic - Representation - Completed ✓\n",
      "2024-06-10 02:37:07,130 - BERTopic - Topic reduction - Reducing number of topics\n",
      "2024-06-10 02:37:07,145 - BERTopic - Topic reduction - Reduced number of topics from 12 to 4\n",
      "2024-06-10 02:37:10,487 - BERTopic - Dimensionality - Fitting the dimensionality reduction algorithm\n",
      "2024-06-10 02:37:12,050 - BERTopic - Dimensionality - Completed ✓\n",
      "2024-06-10 02:37:12,051 - BERTopic - Cluster - Start clustering the reduced embeddings\n",
      "2024-06-10 02:37:12,082 - BERTopic - Cluster - Completed ✓\n",
      "2024-06-10 02:37:12,083 - BERTopic - Representation - Extracting topics from clusters using representation models.\n",
      "2024-06-10 02:37:12,095 - BERTopic - Representation - Completed ✓\n",
      "2024-06-10 02:37:12,095 - BERTopic - Topic reduction - Reducing number of topics\n",
      "2024-06-10 02:37:12,107 - BERTopic - Topic reduction - Reduced number of topics from 10 to 4\n"
     ]
    },
    {
     "name": "stdout",
     "output_type": "stream",
     "text": [
      "Best configuration: {'UMAP_N_NEIGHBORS_CLUSTER': 50, 'UMAP_N_COMPONENTS_CLUSTER': 2, 'UMAP_METRIC_CLUSTER': 'cosine', 'UMAP_N_NEIGHBORS_VIS': 50, 'UMAP_N_COMPONENTS_VIS': 2, 'UMAP_METRIC_VIS': 'cosine', 'BERTOPIC_NR_TOPICS': 4, 'BERTOPIC_MIN_TOPIC_SIZE': 20, 'BERTOPIC_CALCULATE_PROBABILITIES': True, 'BERTOPIC_VERBOSE': True}\n",
      "Minimum outliers: 0\n"
     ]
    }
   ],
   "source": [
    "# Perform grid search with progress bar\n",
    "total_iterations = len(umap_n_neighbors_range) * len(umap_n_components_range)\n",
    "with tqdm(total=total_iterations, desc=\"Grid Search\") as pbar:\n",
    "    for n_neighbors in umap_n_neighbors_range:\n",
    "        for n_components in umap_n_components_range:\n",
    "            config = {\n",
    "                'UMAP_N_NEIGHBORS_CLUSTER': n_neighbors,\n",
    "                'UMAP_N_COMPONENTS_CLUSTER': n_components,\n",
    "                'UMAP_METRIC_CLUSTER': 'cosine',\n",
    "                'UMAP_N_NEIGHBORS_VIS': 50,\n",
    "                'UMAP_N_COMPONENTS_VIS': 2,\n",
    "                'UMAP_METRIC_VIS': 'cosine',\n",
    "                'BERTOPIC_NR_TOPICS': 4,\n",
    "                'BERTOPIC_MIN_TOPIC_SIZE': 20,\n",
    "                'BERTOPIC_CALCULATE_PROBABILITIES': True,\n",
    "                'BERTOPIC_VERBOSE': True\n",
    "            }\n",
    "\n",
    "            topics, probabilities, umap_embeddings, num_outliers, topic_model, config = run_topic_modeling(documents_sample, embeddings_np, config)\n",
    "            results.append((config['UMAP_N_NEIGHBORS_CLUSTER'], config['UMAP_N_COMPONENTS_CLUSTER'], num_outliers))\n",
    "\n",
    "            if num_outliers < min_outliers:\n",
    "                min_outliers = num_outliers\n",
    "                best_config = config\n",
    "                best_topics = topics\n",
    "                best_probabilities = probabilities\n",
    "                best_umap_embeddings = umap_embeddings\n",
    "                best_topic_model = topic_model\n",
    "\n",
    "            pbar.update(1)\n",
    "\n",
    "print(f\"Best configuration: {best_config}\")\n",
    "print(f\"Minimum outliers: {min_outliers}\")"
   ]
  },
  {
   "cell_type": "code",
   "execution_count": 8,
   "metadata": {},
   "outputs": [
    {
     "data": {
      "application/vnd.plotly.v1+json": {
       "config": {
        "plotlyServerURL": "https://plot.ly"
       },
       "data": [
        {
         "customdata": [
          [
           0,
           "Published research papers on AI training compute trends"
          ],
          [
           0,
           "Reports from industry analysts like SemiAnalysis"
          ],
          [
           2,
           "Data from cloud computing providers like AWS, Azure, and Google Cloud"
          ],
          [
           0,
           "Financial reports from companies investing in AI infrastructure"
          ],
          [
           0,
           "Analysis of AI hardware and software costs"
          ],
          [
           0,
           "Economic models forecasting AI infrastructure expenditure"
          ],
          [
           2,
           "Reports on renewable energy deployment and capacity"
          ],
          [
           2,
           "Studies on the integration of renewable energy into data centers"
          ],
          [
           2,
           "Analysis of the cost and efficiency of renewable energy technologies"
          ],
          [
           0,
           "Research papers on AI algorithm efficiency improvements"
          ],
          [
           0,
           "Technical reports on new AI hardware designs"
          ],
          [
           1,
           "Forecasts for future developments in AI technology"
          ],
          [
           0,
           "Reports on AI hardware advancements"
          ],
          [
           2,
           "Data on AI training compute power usage"
          ],
          [
           2,
           "Analysis of AI model size and complexity"
          ],
          [
           0,
           "Research papers on AI algorithm efficiency"
          ],
          [
           0,
           "Publications on AI optimization techniques"
          ],
          [
           0,
           "Industry reports on advancements in AI training software"
          ],
          [
           2,
           "Reports on renewable energy cost trends"
          ],
          [
           2,
           "Analysis of the economic feasibility of renewable energy for data centers"
          ],
          [
           2,
           "Studies on the impact of renewable energy on the AI industry"
          ],
          [
           0,
           "Market research on AI product adoption"
          ],
          [
           0,
           "Economic forecasts for the AI industry"
          ],
          [
           0,
           "Analysis of consumer demand for AI-powered services"
          ],
          [
           0,
           "Market research reports on semiconductor industry trends"
          ],
          [
           0,
           "Analyst projections for AI hardware development"
          ],
          [
           0,
           "Technical papers on limitations of current and future chip technologies"
          ],
          [
           0,
           "Research papers on AI energy efficiency"
          ],
          [
           0,
           "Industry reports on advancements in AI hardware and software"
          ],
          [
           2,
           "Data on historical trends in energy consumption per AI task"
          ],
          [
           2,
           "Industry data on the ratio of training to inference compute usage"
          ],
          [
           1,
           "Analyst predictions on the future of AI deployment and application"
          ],
          [
           2,
           "Case studies of AI applications and their energy consumption"
          ],
          [
           2,
           "Government policies and investment plans related to renewable energy"
          ],
          [
           2,
           "Industry reports on energy storage technology development"
          ],
          [
           2,
           "Analysis of the feasibility of integrating renewable energy into large-scale data centers"
          ],
          [
           2,
           "Data on historical trends in energy consumption and electricity production"
          ],
          [
           1,
           "Expert opinions and predictions on the future of AI and energy"
          ],
          [
           2,
           "Analysis of the interplay between AI growth, energy consumption, and policy interventions"
          ],
          [
           2,
           "Energy projections and forecasts for the next decade"
          ],
          [
           2,
           "Studies on the energy requirements of AI training and inference"
          ],
          [
           2,
           "Reports on renewable energy production capacity and growth"
          ],
          [
           2,
           "Data on electricity consumption in major data centers"
          ],
          [
           0,
           "Research papers on energy-efficient AI hardware and software"
          ],
          [
           2,
           "Industry reports on energy storage technologies"
          ],
          [
           2,
           "Forecasts of future energy efficiency improvements"
          ],
          [
           2,
           "Research papers on data center design and optimization"
          ],
          [
           2,
           "Industry reports on data center construction and capacity"
          ],
          [
           2,
           "Case studies of large-scale data center projects"
          ],
          [
           2,
           "Investment trends in renewable energy"
          ],
          [
           2,
           "Government policies and incentives related to renewable energy"
          ],
          [
           0,
           "Reports on the economic impact of AI infrastructure"
          ],
          [
           0,
           "Research papers on AI algorithms and architectures"
          ],
          [
           0,
           "Industry reports on advancements in AI efficiency"
          ],
          [
           2,
           "Data on the computational requirements of different AI models"
          ],
          [
           0,
           "Published articles or reports from The Information"
          ],
          [
           0,
           "Press releases or announcements from OpenAI and Microsoft"
          ],
          [
           0,
           "Industry news and analysis websites covering AI and cloud computing"
          ],
          [
           0,
           "The Information article or report detailing the investment"
          ],
          [
           0,
           "Statements or announcements from OpenAI and Microsoft about their infrastructure plans"
          ],
          [
           2,
           "Industry analysis and reports on AI cluster capacity and energy consumption"
          ],
          [
           0,
           "The Information article or report detailing the investment"
          ],
          [
           0,
           "Statements or announcements from OpenAI and Microsoft about their investment plans"
          ],
          [
           0,
           "Industry analysis and reports on AI investment trends"
          ],
          [
           0,
           "Scientific publications and research papers on AI hardware and software energy efficiency"
          ],
          [
           2,
           "Industry reports and analysis on energy consumption trends in AI"
          ],
          [
           0,
           "Statements from companies developing AI hardware and software about their energy efficiency improvements"
          ],
          [
           2,
           "Statistics and reports on global renewable energy production and capacity"
          ],
          [
           2,
           "Data on energy consumption trends for AI data centers"
          ],
          [
           2,
           "Analysis on the feasibility of powering AI infrastructure with renewable energy"
          ],
          [
           0,
           "The Information report itself"
          ],
          [
           0,
           "Industry reports on AI infrastructure costs"
          ],
          [
           1,
           "Expert opinions and analyses from AI and cloud computing professionals"
          ],
          [
           0,
           "Official press releases from OpenAI and Microsoft"
          ],
          [
           0,
           "Public statements from executives of both companies"
          ],
          [
           0,
           "Official filings with regulatory bodies"
          ],
          [
           0,
           "Industry reports and analyses on AI cluster sizes and requirements"
          ],
          [
           1,
           "Expert opinions on the technical specifications of such large-scale AI projects"
          ],
          [
           0,
           "Comparative analysis of previous large-scale AI infrastructure projects"
          ],
          [
           0,
           "Financial reports and analyses of OpenAI and Microsoft"
          ],
          [
           1,
           "Expert opinions on the feasibility of implementing large-scale AI projects"
          ],
          [
           1,
           "News reports and analyses of the potential risks and challenges associated with the project"
          ],
          [
           0,
           "Industry reports on AI infrastructure costs (e.g., from companies like McKinsey, IDC, or Gartner)"
          ],
          [
           0,
           "Financial analyses of existing large-scale AI projects (e.g., Google's AI infrastructure investments)"
          ],
          [
           1,
           "Expert opinions and forecasts from industry leaders in AI and computing infrastructure"
          ],
          [
           0,
           "Market research reports from reputable industry analysts (e.g., IDC, Gartner, Forrester)"
          ],
          [
           0,
           "Financial projections from major technology companies involved in AI development"
          ],
          [
           0,
           "Industry publications and articles discussing AI investment trends and forecasts"
          ],
          [
           0,
           "Market analysis of AI accelerator manufacturers (e.g., Nvidia, AMD)"
          ],
          [
           0,
           "Financial reports and statements from companies selling AI accelerators"
          ],
          [
           0,
           "Industry research on the growing demand for AI accelerators"
          ],
          [
           0,
           "Market research reports on the AI industry"
          ],
          [
           0,
           "Financial forecasts and analyses from investment firms"
          ],
          [
           0,
           "Data on AI-related funding rounds and mergers and acquisitions"
          ],
          [
           0,
           "Industry reports on AI adoption trends"
          ],
          [
           1,
           "Surveys and interviews with industry leaders and technology experts"
          ],
          [
           0,
           "Data on AI software and hardware deployments in various sectors"
          ],
          [
           3,
           "Government policies and regulations related to AI"
          ],
          [
           3,
           "Industry analysis of the impact of policy on AI development"
          ],
          [
           1,
           "Legal opinions and commentaries on AI legislation"
          ],
          [
           0,
           "Economic forecasts and predictions from reputable institutions"
          ],
          [
           0,
           "Data on investment trends during past economic recessions"
          ],
          [
           0,
           "Analysis of the impact of economic conditions on technology investments"
          ],
          [
           3,
           "Research papers and publications on AI advancements"
          ],
          [
           0,
           "Industry reports on emerging AI technologies"
          ],
          [
           0,
           "News and articles covering AI breakthroughs and innovations"
          ],
          [
           0,
           "Investment industry reports and analyses"
          ],
          [
           1,
           "Surveys of investor sentiment towards AI"
          ],
          [
           0,
           "Data on venture capital funding in AI startups"
          ],
          [
           1,
           "Geopolitical risk assessments and analysis"
          ],
          [
           1,
           "News and analysis of global events and their impact on markets"
          ],
          [
           1,
           "Reports on international relations and security"
          ],
          [
           0,
           "Research on AI hardware and software costs"
          ],
          [
           0,
           "Industry analysis of AI development costs"
          ],
          [
           0,
           "Data on the price of AI hardware and cloud computing services"
          ],
          [
           0,
           "Financial reports and investment analyses of AI companies"
          ],
          [
           0,
           "Market research on the potential revenue streams for AI applications"
          ],
          [
           1,
           "Expert opinions on the economic feasibility of AI development"
          ],
          [
           3,
           "Research papers on the societal applications of AI"
          ],
          [
           2,
           "Case studies of AI projects addressing social challenges"
          ],
          [
           1,
           "Expert interviews on the societal implications of AI advancements"
          ],
          [
           0,
           "Market research on the adoption of AI-powered products and services"
          ],
          [
           1,
           "Surveys and studies on public perception of AI"
          ],
          [
           0,
           "Analysis of trends in AI usage across various sectors"
          ],
          [
           0,
           "Reports on AI investment and spending"
          ],
          [
           0,
           "Market research on AI adoption and revenue"
          ],
          [
           0,
           "Financial analyses of AI companies"
          ],
          [
           0,
           "Economic forecasts and projections"
          ],
          [
           0,
           "Market data on technological growth and investment"
          ],
          [
           0,
           "Reports on AI-related revenue and market size"
          ],
          [
           0,
           "Research papers on AI capabilities and limitations"
          ],
          [
           0,
           "Industry reports on AI applications and development"
          ],
          [
           1,
           "Expert opinions on the future of AI research"
          ],
          [
           1,
           "Public opinion surveys and polls"
          ],
          [
           1,
           "Research on AI ethics and social impact"
          ],
          [
           3,
           "Government regulations and policies related to AI"
          ],
          [
           0,
           "Research papers on AI advancements and roadblocks"
          ],
          [
           0,
           "Industry reports on AI development timelines and challenges"
          ],
          [
           1,
           "Expert opinions on the future of AI research"
          ],
          [
           0,
           "Market research reports on AI applications"
          ],
          [
           0,
           "Financial projections from leading AI companies"
          ],
          [
           1,
           "Industry expert opinions on AI market growth"
          ],
          [
           0,
           "Research on AI hardware and software development costs"
          ],
          [
           2,
           "Data on the cost of training and deploying AI models"
          ],
          [
           2,
           "Analysis of trends in AI infrastructure pricing"
          ],
          [
           2,
           "Case studies on the financial performance of AI-powered businesses"
          ],
          [
           0,
           "Analysis of existing AI revenue models and their effectiveness"
          ],
          [
           1,
           "Expert opinions on the potential for AI to generate significant revenue"
          ],
          [
           2,
           "Case studies on AI implementation challenges in different industries"
          ],
          [
           1,
           "Expert opinions on the difficulties of integrating AI into existing workflows"
          ],
          [
           3,
           "Research on the human and organizational factors affecting AI adoption"
          ],
          [
           0,
           "Government spending data on AI research and development"
          ],
          [
           0,
           "Private investment data in AI companies and projects"
          ],
          [
           0,
           "Analysis of the funding landscape for AI innovation"
          ],
          [
           0,
           "Microsoft Office subscriber data"
          ],
          [
           0,
           "Market research reports on AI adoption rates"
          ],
          [
           0,
           "Analysis of user reviews and feedback on AI-powered applications"
          ],
          [
           1,
           "Studies on the impact of AI on labor productivity"
          ],
          [
           0,
           "Data on AI investments by major technology companies"
          ],
          [
           2,
           "Analysis of case studies on successful AI implementations in various industries"
          ],
          [
           2,
           "Case studies of AI implementation in various organizations"
          ],
          [
           0,
           "Analysis of industry reports on AI adoption trends"
          ],
          [
           1,
           "Interviews with industry experts on the challenges and opportunities of AI integration"
          ],
          [
           0,
           "Analysis of market trends in the tech industry"
          ],
          [
           0,
           "Reports on mergers and acquisitions related to AI"
          ],
          [
           1,
           "Expert opinions on the future of the tech industry"
          ],
          [
           1,
           "Ethical guidelines and regulations for AI development"
          ],
          [
           1,
           "Public opinion surveys on AI ethics"
          ],
          [
           1,
           "Research on the social and economic impact of AI"
          ],
          [
           3,
           "Academic studies on AI productivity"
          ],
          [
           2,
           "Case studies of AI implementation in knowledge-intensive work"
          ],
          [
           0,
           "Reports from industry analysts on AI adoption and its impact on productivity"
          ],
          [
           0,
           "Market research on AI tool adoption"
          ],
          [
           1,
           "Surveys of knowledge workers about their use of AI tools"
          ],
          [
           0,
           "Analysis of factors influencing AI adoption in organizations"
          ],
          [
           0,
           "Research on the capabilities and limitations of current AI models"
          ],
          [
           1,
           "Expert opinions on the state of AI research and its ability to handle complex tasks"
          ],
          [
           2,
           "Benchmarking studies of AI performance on specific tasks"
          ],
          [
           0,
           "Analysis of AI implementation costs in various industries"
          ],
          [
           0,
           "Financial reports of companies using AI tools"
          ],
          [
           1,
           "Interviews with business leaders about their experiences with AI adoption"
          ],
          [
           3,
           "Research papers on AI productivity gains"
          ],
          [
           2,
           "Case studies of AI implementations in knowledge-based work"
          ],
          [
           0,
           "Industry reports on AI adoption and impact on productivity"
          ],
          [
           3,
           "Research papers on computational requirements for AGI"
          ],
          [
           1,
           "Expert opinions on the computational resources needed for AGI"
          ],
          [
           1,
           "Predictions and forecasts about the future of AI computing"
          ],
          [
           3,
           "Studies on human-AI collaboration and adoption"
          ],
          [
           1,
           "Surveys of knowledge workers on their attitudes towards AI tools"
          ],
          [
           0,
           "Analysis of barriers to AI adoption in the workplace"
          ],
          [
           2,
           "Cost analysis of large-scale data centers"
          ],
          [
           0,
           "Industry reports on the economics of AI development"
          ],
          [
           0,
           "Financial forecasts for AI investments and returns"
          ],
          [
           3,
           "Research papers on the timeline for AGI"
          ],
          [
           1,
           "Expert predictions about the future of AI"
          ],
          [
           0,
           "Historical trends in AI progress and development"
          ],
          [
           0,
           "Publications from leading AI research labs (e.g., OpenAI, DeepMind)"
          ],
          [
           0,
           "Academic papers on AI scaling laws and computational requirements"
          ],
          [
           1,
           "Expert opinions from prominent AI researchers"
          ],
          [
           2,
           "Benchmarking results for AI models on reasoning, problem-solving, and critical thinking tasks"
          ],
          [
           0,
           "Research papers on AI progress in cognitive abilities"
          ],
          [
           0,
           "Reports from organizations evaluating AI capabilities"
          ],
          [
           0,
           "Recent research papers on AI algorithms and architectures"
          ],
          [
           1,
           "Expert interviews and predictions from leading AI researchers"
          ],
          [
           0,
           "Reports from AI conferences and workshops"
          ],
          [
           0,
           "Published research papers on AI progress in agentic tasks"
          ],
          [
           0,
           "Technical reports from AI research labs"
          ],
          [
           2,
           "Benchmark evaluations of AI models on tasks requiring long-term planning"
          ],
          [
           1,
           "Expert opinions and predictions from leading AI researchers"
          ],
          [
           2,
           "Analysis of AI model performance on various benchmark tasks"
          ],
          [
           0,
           "Reports on emerging trends in AI research"
          ],
          [
           1,
           "Expert opinions on the limitations of current AI approaches"
          ],
          [
           0,
           "Research on AI's ability to learn and reason from real-world experiences"
          ],
          [
           0,
           "Research papers on AI memory and context modeling"
          ],
          [
           0,
           "Technical reports on advancements in AI memory architecture"
          ],
          [
           2,
           "Benchmark evaluations of AI models on tasks requiring long-term context understanding"
          ],
          [
           0,
           "Research papers on reinforcement learning and symbolic reasoning in AI"
          ],
          [
           0,
           "Reports on advancements in AI planning algorithms"
          ],
          [
           2,
           "Benchmark evaluations of AI models on tasks requiring reasoning and planning"
          ],
          [
           0,
           "Research papers on AI advancements"
          ],
          [
           0,
           "Publications from leading AI labs (e.g., OpenAI, DeepMind)"
          ],
          [
           3,
           "Conference proceedings on AI research"
          ],
          [
           1,
           "Expert opinions and predictions from leading AI researchers"
          ],
          [
           0,
           "Research papers on AI limitations"
          ],
          [
           0,
           "Critical analyses of current AI models"
          ],
          [
           1,
           "Expert opinions on the challenges of achieving human-level intelligence in AI"
          ],
          [
           0,
           "Research on large language models and their training data"
          ],
          [
           0,
           "Publications on advancements in AI hardware and infrastructure"
          ],
          [
           1,
           "Expert opinions on the impact of computational power on AI progress"
          ],
          [
           0,
           "Research papers on novel AI algorithms and techniques"
          ],
          [
           0,
           "Publications on advancements in AI reasoning and planning"
          ],
          [
           1,
           "Expert opinions on the future of AI algorithms"
          ],
          [
           1,
           "Ethical guidelines for AI development"
          ],
          [
           1,
           "Research on the societal impact of AI"
          ],
          [
           1,
           "Public discourse on the risks and benefits of advanced AI"
          ],
          [
           0,
           "Research papers on AI capabilities"
          ],
          [
           0,
           "Technical reports on AI system development"
          ],
          [
           2,
           "Case studies of AI system deployments in real-world environments"
          ],
          [
           0,
           "Analysis of AI system performance metrics related to agentic behavior"
          ],
          [
           0,
           "Industry reports on AI adoption rates and integration challenges"
          ],
          [
           2,
           "Case studies of AI system implementations in various industries"
          ],
          [
           0,
           "Analysis of cost and time required for AI system integration"
          ],
          [
           1,
           "Surveys and interviews with industry experts on AI integration challenges"
          ],
          [
           0,
           "Research papers on AI development trends"
          ],
          [
           0,
           "Technical reports on specific AI applications"
          ],
          [
           1,
           "Interviews with AI researchers and developers"
          ],
          [
           0,
           "Analysis of funding and investment patterns in AI research"
          ],
          [
           0,
           "Research papers on natural language processing and social intelligence in AI"
          ],
          [
           0,
           "Technical reports on AI models designed for social interaction"
          ],
          [
           2,
           "Case studies of AI systems used in social contexts"
          ],
          [
           0,
           "Analysis of AI system performance in social interaction tasks"
          ],
          [
           2,
           "Case studies of AI system implementation in various industries"
          ],
          [
           0,
           "Research papers on the integration of AI systems into existing workflows"
          ],
          [
           0,
           "Industry reports on the adoption of AI technologies"
          ],
          [
           0,
           "Research papers on the development and capabilities of advanced AI systems"
          ],
          [
           0,
           "Studies on the adaptability and learning capabilities of AI systems"
          ],
          [
           1,
           "Expert opinions on the potential for advanced AI systems to revolutionize workflows"
          ],
          [
           1,
           "Surveys and studies on organizational awareness of AI technologies"
          ],
          [
           2,
           "Case studies of successful AI implementations showcasing organizational knowledge and skills"
          ],
          [
           1,
           "Expert opinions on the role of education and training in AI adoption"
          ],
          [
           0,
           "Research papers on the technical complexities of AI model development and deployment"
          ],
          [
           0,
           "Industry reports on the skills gap in AI implementation"
          ],
          [
           1,
           "Expert opinions on the need for specialized expertise in AI integration"
          ],
          [
           1,
           "Economic studies on the impact of AI on productivity and efficiency"
          ],
          [
           2,
           "Case studies showcasing successful AI implementations with measurable benefits"
          ],
          [
           1,
           "Expert opinions on the long-term potential of AI for organizational growth"
          ],
          [
           2,
           "Case studies on AI system integration in different industries"
          ],
          [
           0,
           "Research papers on AI system design and usability"
          ],
          [
           1,
           "Expert opinions from AI researchers and practitioners on integration challenges"
          ],
          [
           3,
           "Economic analyses of AI adoption in various sectors"
          ],
          [
           0,
           "Market research reports on the potential impact of advanced AI on industries"
          ],
          [
           1,
           "Studies on the relationship between AI capabilities and productivity gains"
          ],
          [
           0,
           "Cost estimations for developing and deploying advanced AI systems"
          ],
          [
           0,
           "Studies on the relationship between AI capabilities and development costs"
          ],
          [
           0,
           "Analysis of funding trends in AI research and development"
          ],
          [
           1,
           "Studies on the impact of early AI adoption on subsequent technological advancements"
          ],
          [
           2,
           "Case studies of companies that have transitioned from simpler AI to more complex systems"
          ],
          [
           1,
           "Expert opinions on the role of intermediate AI in facilitating the adoption of advanced AI"
          ],
          [
           0,
           "Technical papers on the limitations of current AI models"
          ],
          [
           3,
           "Research on the challenges of developing true AGI systems"
          ],
          [
           1,
           "Expert opinions on the timeframe for achieving significant advancements in AI capabilities"
          ],
          [
           2,
           "Case studies of GPT-4 implementation in software engineering"
          ],
          [
           0,
           "Research papers on AI-assisted software development"
          ],
          [
           0,
           "Reports from software engineering companies using GPT-4"
          ],
          [
           3,
           "Studies on the adoption of AI in software engineering"
          ],
          [
           0,
           "Industry reports on the challenges of AI integration"
          ],
          [
           1,
           "Interviews with software engineers using AI tools"
          ],
          [
           3,
           "Research papers on AI development timelines"
          ],
          [
           1,
           "Predictions from AI experts and researchers"
          ],
          [
           0,
           "Industry reports on the pace of AI progress"
          ],
          [
           3,
           "Economic analyses of AI adoption in software engineering"
          ],
          [
           3,
           "Studies on the return on investment of AI tools"
          ],
          [
           3,
           "Data on productivity gains from AI-assisted software development"
          ],
          [
           0,
           "Research papers on AI-assisted software development"
          ],
          [
           2,
           "Case studies of AI tool implementation in software engineering"
          ],
          [
           1,
           "Expert opinions and predictions from leading software engineering researchers"
          ],
          [
           0,
           "Industry reports on AI adoption in software development"
          ],
          [
           1,
           "Interviews with software engineers using AI tools"
          ],
          [
           0,
           "Analysis of the costs associated with implementing and maintaining AI-powered solutions"
          ],
          [
           1,
           "Predictions and roadmaps from leading AI research labs"
          ],
          [
           1,
           "Expert opinions on the future of AI in software engineering"
          ],
          [
           0,
           "Analysis of current trends in AI development and its potential applications"
          ],
          [
           0,
           "Research papers on AI communication and collaboration"
          ],
          [
           2,
           "Technical evaluations of AI models in collaborative tasks"
          ],
          [
           1,
           "Expert opinions on the current state of AI in software engineering"
          ],
          [
           0,
           "Research on AI reasoning and planning"
          ],
          [
           0,
           "Technical papers on AI error correction"
          ],
          [
           1,
           "Expert analysis on the challenges of building general-purpose AI agents"
          ],
          [
           2,
           "Analysis of AI training datasets"
          ],
          [
           0,
           "Research on data requirements for AI model development"
          ],
          [
           1,
           "Expert opinions on the availability of training data for complex cognitive tasks"
          ],
          [
           0,
           "Trend analysis in AI research"
          ],
          [
           1,
           "Predictions from leading AI experts"
          ],
          [
           0,
           "Technical evaluations of the current capabilities of AI models"
          ],
          [
           1,
           "Research on the social and economic impact of AI"
          ],
          [
           1,
           "Ethical guidelines for AI development and deployment"
          ],
          [
           1,
           "Expert opinions on the social implications of AI in the workplace"
          ],
          [
           0,
           "Research papers on chain-of-thought reasoning in AI"
          ],
          [
           2,
           "Benchmarking studies comparing AI models on chain-of-thought tasks"
          ],
          [
           2,
           "Analysis of GPT-4 and similar models' performance on tasks requiring complex reasoning"
          ],
          [
           0,
           "Research on AI training data for social interaction and collaboration"
          ],
          [
           0,
           "Datasets and studies focused on training AI for teamwork and collaborative tasks"
          ],
          [
           0,
           "Analysis of the types of data available for training AI in complex social scenarios"
          ],
          [
           0,
           "Research papers on AI social intelligence and understanding of human interaction"
          ],
          [
           0,
           "Studies evaluating AI models' ability to interpret and respond to social cues and context"
          ],
          [
           0,
           "Analysis of the challenges faced by AI in understanding and navigating complex social dynamics"
          ],
          [
           0,
           "Research on the rate of progress in AI model development"
          ],
          [
           0,
           "Analysis of trends in AI research and development related to chain-of-thought reasoning"
          ],
          [
           1,
           "Predictions and projections from experts on the timeline for significant advancements in AI capabilities"
          ],
          [
           0,
           "Published research papers on AI models' chain-of-thought capabilities"
          ],
          [
           2,
           "Benchmarks and evaluations of AI models' performance on reasoning tasks"
          ],
          [
           0,
           "Technical reports and documentation from AI research labs"
          ],
          [
           0,
           "Research on AI models' performance in complex, open-ended tasks"
          ],
          [
           0,
           "Analyses of AI models' capabilities in handling contextual information and interacting with users"
          ],
          [
           0,
           "Studies on the application of AI models in real-world scenarios like collaboration or complex problem-solving"
          ],
          [
           0,
           "Research on the relationship between AI model size, test time compute, and chain-of-thought performance"
          ],
          [
           0,
           "Studies on the impact of compute resources on AI models' reasoning capabilities"
          ],
          [
           2,
           "Analysis of AI model performance with varying test time compute limits"
          ],
          [
           0,
           "Research papers on AI model performance with varying test-time compute"
          ],
          [
           2,
           "Benchmarking studies evaluating chain-of-thought reasoning capabilities across different computational budgets"
          ],
          [
           0,
           "Technical reports and presentations from leading AI labs focusing on compute-intensive AI research"
          ],
          [
           0,
           "Research papers on training AI models for specific tasks like error correction or planning"
          ],
          [
           2,
           "Datasets and benchmarks for evaluating these tasks"
          ],
          [
           0,
           "Technical reports on advances in AI training methodologies, particularly for reasoning tasks"
          ],
          [
           0,
           "Research papers on novel AI architectures, particularly those focusing on reasoning and cognitive abilities"
          ],
          [
           0,
           "Publications on advancements in deep learning architectures"
          ],
          [
           0,
           "Technical reports from AI research groups developing new architectures"
          ],
          [
           0,
           "Philosophical works on the nature of cognition and reasoning"
          ],
          [
           0,
           "Cognitive science research on human reasoning processes"
          ],
          [
           0,
           "AI ethics papers discussing the limitations of current AI models in replicating human intelligence"
          ],
          [
           0,
           "Research papers on advancements in AI model architecture and training techniques"
          ],
          [
           0,
           "Technical reports from AI research labs focusing on computational scaling and performance improvements"
          ],
          [
           0,
           "Conference proceedings and presentations on AI model efficiency and reasoning capabilities"
          ],
          [
           0,
           "Research on memory management and computational efficiency in large language models"
          ],
          [
           0,
           "Technical discussions on the limitations of current AI model architectures in handling extended compute"
          ],
          [
           0,
           "Papers focusing on algorithmic challenges and bottlenecks in scaling AI models"
          ],
          [
           2,
           "Case studies of AI models utilizing increased test time compute to solve complex problems"
          ],
          [
           2,
           "Research papers demonstrating the impact of test time compute on specific AI tasks requiring extended reasoning"
          ],
          [
           2,
           "Benchmarking results showcasing the performance improvements achieved by models with increased test time compute"
          ],
          [
           0,
           "Research papers on AI model training for error correction and planning"
          ],
          [
           0,
           "Publications on advancements in in-context learning for AI models"
          ],
          [
           0,
           "Studies on the effectiveness of reinforcement learning techniques for training AI models in error correction and planning"
          ],
          [
           0,
           "Academic papers on the development of AI models with System 2 capabilities"
          ],
          [
           0,
           "Publications on the advancement of AI models in reasoning, planning, and complex problem-solving"
          ],
          [
           0,
           "Research reports on the evolution of AI model architectures and training methods related to System 2 thinking"
          ],
          [
           0,
           "Analysis of historical trends in AI model advancements"
          ],
          [
           1,
           "Forecasts from experts on the timeline of AI breakthroughs"
          ],
          [
           0,
           "Research on the projected growth of computational power and its impact on AI development"
          ],
          [
           0,
           "Research papers on error correction and planning in AI models"
          ],
          [
           2,
           "Data on performance improvements in AI models over time"
          ],
          [
           0,
           "Reports on the development of new AI techniques for error correction and planning"
          ],
          [
           2,
           "Benchmarking results for AI models on complex tasks and reasoning abilities"
          ],
          [
           0,
           "Research papers on advances in AI capabilities for multi-step problem-solving"
          ],
          [
           0,
           "Industry reports on the development and deployment of AI systems for complex tasks"
          ],
          [
           0,
           "Research papers on the limitations of current AI architectures and algorithms"
          ],
          [
           1,
           "Experts' opinions on the challenges of unlocking test-time compute overhang"
          ],
          [
           0,
           "Studies on the efficiency and effectiveness of various AI training techniques"
          ],
          [
           0,
           "Research papers on the effectiveness of synthetic data and RL for training AI models"
          ],
          [
           0,
           "Case studies of AI models that have successfully learned complex skills through self-play"
          ],
          [
           0,
           "Reports on the development of new RL techniques for AI training"
          ],
          [
           0,
           "Research papers on the limitations of current pre-training techniques"
          ],
          [
           2,
           "Analyses of the knowledge and reasoning capabilities of pre-trained language models"
          ],
          [
           1,
           "Expert opinions on the role of pre-training in AI development and the limitations of current approaches"
          ],
          [
           0,
           "Scientific papers on AI capabilities and cognitive processes"
          ],
          [
           0,
           "Research on AI system performance in tasks requiring System 2 thinking"
          ],
          [
           0,
           "Publications on advancements in AI unhobbling techniques"
          ],
          [
           2,
           "Data sets used for training AI models"
          ],
          [
           0,
           "Research on the impact of data size on AI model performance"
          ],
          [
           0,
           "Trends in data generation and collection"
          ],
          [
           0,
           "Research papers on AI algorithms and training methods"
          ],
          [
           0,
           "Studies on the development of AI systems with System 2 cognitive capabilities"
          ],
          [
           0,
           "Publications on advancements in AI research that focus on cognitive process improvement"
          ],
          [
           0,
           "Research on AI capabilities and their limitations"
          ],
          [
           3,
           "Publications on the challenges faced in developing advanced AI systems"
          ],
          [
           1,
           "Expert opinions and predictions on the future of AI research"
          ],
          [
           3,
           "Peer-reviewed publications in AI and machine learning"
          ],
          [
           0,
           "Research papers on AI planning and reasoning"
          ],
          [
           0,
           "Conference proceedings on AI advancements"
          ],
          [
           0,
           "Technical reports from leading AI research labs"
          ],
          [
           2,
           "Evaluations of AI models on tasks requiring reasoning and adaptation"
          ],
          [
           2,
           "Case studies of AI model limitations in real-world applications"
          ],
          [
           0,
           "Technical reports and discussions on AI model shortcomings"
          ],
          [
           0,
           "Research papers on AI model scaling and optimization"
          ],
          [
           0,
           "Technical reports on AI system development strategies"
          ],
          [
           0,
           "Discussions on the limitations of current AI models in terms of agentified behavior"
          ],
          [
           0,
           "Research papers on AI error correction techniques"
          ],
          [
           0,
           "Studies on AI planning algorithms and implementations"
          ],
          [
           0,
           "Technical reports on advancements in AI model reasoning and problem-solving"
          ],
          [
           0,
           "Research papers on pre-training and representation learning in AI"
          ],
          [
           0,
           "Studies comparing the performance of AI models on tasks requiring System 2 thinking, such as complex problem solving and decision-making."
          ],
          [
           0,
           "Articles and discussions on the cognitive capabilities of AI models in relation to human intelligence."
          ],
          [
           0,
           "Research papers on reinforcement learning (RL) in AI, especially those focused on self-play and reward-based learning."
          ],
          [
           0,
           "Articles and discussions on the role of RL in developing AI agents with advanced cognitive capabilities."
          ],
          [
           0,
           "Studies comparing the performance of AI models trained with RL vs. those trained solely on pre-training data."
          ],
          [
           0,
           "Research papers on AI training methodologies and techniques."
          ],
          [
           0,
           "Studies exploring the effectiveness of specialized datasets and algorithms in developing specific cognitive abilities in AI models."
          ],
          [
           0,
           "Discussions and analyses of the training requirements for achieving true AI intelligence, particularly in relation to System 2 thinking."
          ],
          [
           1,
           "Expert opinions and forecasts on the future of AI development."
          ],
          [
           0,
           "Research papers exploring the technical challenges and limitations of current AI models."
          ],
          [
           1,
           "Articles and discussions on the long-term roadmap for AI development, including the estimated timeframes for achieving specific milestones."
          ],
          [
           0,
           "Research papers on AI transfer learning and generalization"
          ],
          [
           0,
           "Studies on AI performance in novel tasks beyond their training data"
          ],
          [
           0,
           "Examples of AI systems exhibiting emergent abilities not explicitly programmed"
          ],
          [
           0,
           "Research on active learning in AI, particularly focusing on self-supervised learning and reinforcement learning."
          ],
          [
           0,
           "Studies on AI systems that incorporate elements of social interaction or collaboration."
          ],
          [
           0,
           "Papers exploring the convergence of AI and cognitive science to develop more human-like learning models."
          ],
          [
           0,
           "Research on interpretable AI and explainable machine learning"
          ],
          [
           0,
           "Studies on AI systems that can provide justifications for their decisions."
          ],
          [
           0,
           "Work on developing AI models capable of introspection and self-awareness."
          ],
          [
           0,
           "Research papers and publications on AI model performance in problem-solving, error correction, and planning tasks"
          ],
          [
           2,
           "Technical reports and benchmarks evaluating the performance of AI models on tasks requiring longer chains of reasoning"
          ],
          [
           0,
           "Analyses of the effectiveness of in-context learning techniques for improving model reasoning abilities"
          ],
          [
           0,
           "Research papers and industry reports on AI model development trends, focusing on scaling strategies"
          ],
          [
           0,
           "Analysis of investment and research activities in the AI field to identify priorities and emerging trends"
          ],
          [
           0,
           "Discussions and debates among AI researchers regarding the relative importance of scaling versus incorporating new learning mechanisms"
          ],
          [
           0,
           "Research papers and reports showcasing AI models trained on specific tasks with limited pre-training data"
          ],
          [
           0,
           "Studies comparing the performance of AI models trained with and without extensive pre-training"
          ],
          [
           0,
           "Analyses of the effectiveness of techniques like few-shot learning and in-context learning for reducing reliance on pre-training data"
          ],
          [
           0,
           "Research papers and publications focusing on the application of reinforcement learning and self-play in AI model development"
          ],
          [
           0,
           "Analysis of advancements in RL algorithms and their application to AI tasks"
          ],
          [
           0,
           "Reports and discussions on the potential of RL and self-play for enhancing AI model autonomy and learning capabilities"
          ],
          [
           0,
           "Research papers on reinforcement learning in AI"
          ],
          [
           0,
           "Technical reports on AI applications in real-world settings"
          ],
          [
           0,
           "Reviews of recent advancements in reinforcement learning algorithms"
          ],
          [
           0,
           "Research papers comparing in-context learning and pre-training methods"
          ],
          [
           0,
           "Studies on the efficiency and effectiveness of in-context learning in various AI tasks"
          ],
          [
           0,
           "Empirical evaluations of AI models trained using different learning approaches"
          ],
          [
           0,
           "Research papers on large language models and their development"
          ],
          [
           0,
           "Technical reports on AI advancements in natural language processing and task-oriented dialogue"
          ],
          [
           0,
           "Reviews of recent progress in AI capabilities driven by scaling, reinforcement learning, and in-context learning"
          ],
          [
           0,
           "Research papers on the limitations of current AI models in real-world scenarios"
          ],
          [
           0,
           "Studies on the challenges of developing AI agents capable of long-term, collaborative interactions"
          ],
          [
           1,
           "Expert opinions and discussions on the future of AI and the challenges of achieving truly agentic systems"
          ],
          [
           0,
           "Research papers on robotic learning and control"
          ],
          [
           0,
           "Publications on RLHF applications in robotics"
          ],
          [
           3,
           "Industry reports on advancements in robotics with RLHF techniques"
          ],
          [
           0,
           "Research papers on pre-training in robotics"
          ],
          [
           0,
           "Comparisons of pre-training effectiveness in language models and robots"
          ],
          [
           1,
           "Expert opinions on the challenges of pre-training in robotics"
          ],
          [
           0,
           "Comparative analysis of RLHF applications in language models and robotics"
          ],
          [
           0,
           "Discussions on the challenges of transferring RLHF techniques to robotics"
          ],
          [
           0,
           "Research papers on the differences between language model and robotic data"
          ],
          [
           0,
           "Research papers on advancements in robotic manipulation and navigation"
          ],
          [
           0,
           "Publications on alternative methods for developing robotic intelligence"
          ],
          [
           0,
           "Industry reports on the progress of robotics without RLHF"
          ],
          [
           0,
           "Academic papers on AI self-learning and independent learning"
          ],
          [
           0,
           "Research reports on advancements in AI models' ability to learn without extensive pre-training"
          ],
          [
           0,
           "Studies comparing the performance of pre-trained AI models with models that learn independently"
          ],
          [
           0,
           "Studies on the amount of pre-training data required for AI models to achieve optimal performance"
          ],
          [
           0,
           "Research papers analyzing the impact of pre-training data on AI model accuracy and generalizability"
          ],
          [
           0,
           "Comparisons of AI model performance with varying amounts of pre-training data"
          ],
          [
           0,
           "Research papers on self-learning and independent learning in robotics"
          ],
          [
           0,
           "Reports on advancements in robotic systems' ability to learn autonomously"
          ],
          [
           0,
           "Studies comparing the self-learning capabilities of AI models and robotic systems"
          ],
          [
           0,
           "Studies on the rate of progress in self-learning and independent learning in AI and robotics"
          ],
          [
           0,
           "Research reports comparing the timelines for advancements in self-learning capabilities in both fields"
          ],
          [
           1,
           "Expert opinions on the future trajectory of AI and robotics in terms of self-learning"
          ],
          [
           0,
           "Studies on the cost and time required for pre-training AI models"
          ],
          [
           0,
           "Research papers analyzing the trade-offs between pre-training and other learning methods"
          ],
          [
           1,
           "Expert opinions on the cost-effectiveness of pre-training in AI development"
          ],
          [
           0,
           "Research papers on AI learning and reasoning"
          ],
          [
           0,
           "Studies comparing pre-training and reinforcement learning"
          ],
          [
           0,
           "Articles discussing the development of general intelligence in AI"
          ],
          [
           0,
           "Research papers on reinforcement learning and self-play in AI"
          ],
          [
           0,
           "Studies investigating the use of RL in developing general-purpose AI systems"
          ],
          [
           0,
           "Articles discussing the application of RL in various AI domains"
          ],
          [
           0,
           "Studies on the impact of training data on AI model performance"
          ],
          [
           0,
           "Research papers analyzing the limitations of pre-training with large datasets"
          ],
          [
           0,
           "Articles discussing the challenges of achieving robust generalization in AI"
          ],
          [
           0,
           "Research papers on RL and self-play in AI, particularly those focusing on the effectiveness of these methods in enabling active learning"
          ],
          [
           0,
           "Analysis of the architecture and training methods of current AI models, such as GPT-4, to identify the extent of active learning mechanisms incorporated"
          ],
          [
           1,
           "Expert opinions and commentaries from leading AI researchers on the progress and challenges in achieving active learning in AI"
          ],
          [
           0,
           "Research trends in AI, with a focus on the growing adoption of RL and self-play techniques"
          ],
          [
           0,
           "Reports and analyses of AI advancements in areas such as reinforcement learning, autonomous decision-making, and problem-solving"
          ],
          [
           0,
           "Publications from leading AI labs and research institutions showcasing the development and application of active learning methods"
          ],
          [
           0,
           "Benchmark studies comparing the performance of AI models trained through RL and self-play with those trained solely on pre-training data"
          ],
          [
           0,
           "Analyses of AI systems in real-world applications, showcasing the impact of active learning methods on their adaptability and problem-solving skills"
          ],
          [
           0,
           "Case studies demonstrating the success of RL and self-play in enabling AI to learn new tasks and adapt to changing environments"
          ],
          [
           0,
           "Research studies investigating the relationship between RL, self-play, and the development of higher-level cognitive abilities in AI"
          ],
          [
           0,
           "Analysis of the performance of AI models on tasks requiring complex reasoning and problem-solving, focusing on the contribution of active learning methods"
          ],
          [
           0,
           "Expert opinions and commentaries from researchers exploring the potential of RL and self-play in enabling AI to engage in more human-like cognitive processes"
          ],
          [
           0,
           "Empirical studies comparing the performance of AI systems trained using RL, self-play, and pre-training methods on specific tasks."
          ],
          [
           0,
           "Research papers analyzing the sample efficiency of various AI training methods."
          ],
          [
           2,
           "Data sets and benchmarks for evaluating the performance of AI systems in various domains."
          ],
          [
           0,
           "Research papers evaluating the generalization performance of AI systems trained using various methods."
          ],
          [
           2,
           "Benchmarks and tests designed to assess AI system generalization capabilities across different tasks and domains."
          ],
          [
           0,
           "Studies exploring the impact of RL and self-play on AI system's adaptability to novel scenarios."
          ],
          [
           0,
           "Forecasts and predictions for the growth of AI compute power in the coming years."
          ],
          [
           0,
           "Research papers and industry reports on the development and progress of RL and self-play techniques."
          ],
          [
           0,
           "Analyses of the computational requirements and scaling potential of RL and self-play algorithms."
          ],
          [
           0,
           "Research papers exploring the development and application of RL and self-play algorithms for specific cognitive tasks."
          ],
          [
           0,
           "Studies analyzing the cognitive capabilities of AI systems trained using RL and self-play compared to those trained solely on pre-training data."
          ],
          [
           2,
           "Benchmarks and evaluations specifically designed to measure AI system performance in cognitive domains."
          ],
          [
           0,
           "Empirical studies comparing the performance of AI models trained with and without RL on tasks requiring complex reasoning and adaptation"
          ],
          [
           0,
           "Research papers on the application of RL to various AI tasks, including problem-solving and decision-making"
          ],
          [
           2,
           "Case studies of successful RL implementations in AI systems"
          ],
          [
           0,
           "Research papers discussing the challenges and limitations of RL in AI development"
          ],
          [
           0,
           "Industry reports on the adoption and implementation of RL in AI applications"
          ],
          [
           1,
           "Expert opinions from researchers and practitioners in the field of RL"
          ],
          [
           1,
           "Predictions and forecasts for the future of AI, focusing on the development of increasingly complex AI models"
          ],
          [
           0,
           "Research on the application of RL to cutting-edge AI tasks, such as natural language processing, image recognition, and robotics"
          ],
          [
           1,
           "Industry reports and expert opinions on the future of AI and the role of RL"
          ],
          [
           0,
           "Research papers on AI model scaling and compute requirements"
          ],
          [
           2,
           "Data on compute power advancements in the AI industry"
          ],
          [
           0,
           "Reports from AI research institutions on trends in model scaling"
          ],
          [
           1,
           "Predictions on compute power advancements by technology analysts and researchers"
          ],
          [
           0,
           "Analysis of current trends in AI model performance and compute requirements"
          ],
          [
           1,
           "Expert opinions on the potential impact of future compute power on AI capabilities"
          ],
          [
           1,
           "Economic studies on the impact of automation on labor markets"
          ],
          [
           1,
           "Social science research on the societal implications of AI advancements"
          ],
          [
           1,
           "Geopolitical analyses on the potential influence of AI on international relations"
          ],
          [
           0,
           "Research papers on in-context learning and self-improvement in AI models"
          ],
          [
           0,
           "Analysis of the current state of AI algorithms and their limitations"
          ],
          [
           1,
           "Expert opinions on the future development of AI algorithms"
          ],
          [
           0,
           "Research papers on AI advancements"
          ],
          [
           2,
           "Data on compute power used in training AI models"
          ],
          [
           2,
           "Analysis of AI benchmarks over time"
          ],
          [
           1,
           "Interviews with AI researchers and experts"
          ],
          [
           0,
           "Reports from AI research institutions"
          ],
          [
           3,
           "Conferences and workshops on AI forecasting"
          ],
          [
           2,
           "Data on the growth of compute power used in AI"
          ],
          [
           0,
           "Reports on the scaling of AI models by companies and research labs"
          ],
          [
           0,
           "Analysis of the relationship between compute power and AI performance"
          ],
          [
           0,
           "Research papers on new AI algorithms"
          ],
          [
           3,
           "Conferences and workshops on AI algorithms"
          ],
          [
           0,
           "News and articles on breakthroughs in AI research"
          ],
          [
           0,
           "Reports on AI compute and hardware advancements (e.g., from research firms, tech companies)"
          ],
          [
           0,
           "Research papers on scaling laws in AI"
          ],
          [
           0,
           "Public statements from AI companies about their compute investments and model development plans"
          ],
          [
           2,
           "Benchmarks and evaluations of AI models in code generation, mathematical problem-solving, and general intelligence"
          ],
          [
           0,
           "Research papers analyzing the progress of AI capabilities in specific domains"
          ],
          [
           1,
           "Expert opinions and predictions on the evolution of AI capabilities"
          ],
          [
           2,
           "Research on the potential of AI for automation in different industries"
          ],
          [
           1,
           "Reports on the economic and social impact of AI automation"
          ],
          [
           1,
           "Studies on the future of work in the context of AI advancements"
          ],
          [
           1,
           "Economic forecasts and analyses on the impact of AI on labor markets"
          ],
          [
           1,
           "Reports on the future of work and automation"
          ],
          [
           1,
           "Studies on the socio-economic implications of AI advancements"
          ],
          [
           1,
           "Ethical guidelines and frameworks for AI development"
          ],
          [
           3,
           "Reports and discussions on AI regulation and governance"
          ],
          [
           1,
           "Research on the social and ethical implications of advanced AI"
          ],
          [
           0,
           "Research papers on AI hardware and software advancements"
          ],
          [
           0,
           "Industry reports on AI development trends"
          ],
          [
           1,
           "Expert opinions on the future of AI development"
          ],
          [
           0,
           "Industry reports on AI adoption in various sectors"
          ],
          [
           0,
           "Analysis of existing AI-powered workforce solutions"
          ],
          [
           1,
           "Economic projections on the impact of automation on employment"
          ],
          [
           0,
           "Research on AI capabilities in creative and analytical tasks"
          ],
          [
           1,
           "Expert opinions on the timeline for advanced AI development"
          ],
          [
           0,
           "Studies on the current capabilities of AI in various fields"
          ],
          [
           1,
           "Economic studies on the impact of AI automation on productivity and employment"
          ],
          [
           1,
           "Social research on the societal implications of AI automation"
          ],
          [
           1,
           "Policy discussions on the ethical and regulatory frameworks for AI development"
          ],
          [
           1,
           "Public opinion surveys on AI adoption and its societal implications"
          ],
          [
           1,
           "Analysis of social movements and resistance to technological change"
          ],
          [
           1,
           "Studies on the impact of automation on social inequality and employment"
          ],
          [
           1,
           "Public opinion polls on AI awareness in 2022 and 2023"
          ],
          [
           0,
           "Google Trends data for search terms related to AI, ChatGPT, and GPT-4"
          ],
          [
           0,
           "Media coverage of AI and its impact on society in 2023"
          ],
          [
           0,
           "Venture capital reports and funding data for AI companies in 2023"
          ],
          [
           0,
           "Annual reports and financial statements of major tech companies involved in AI"
          ],
          [
           0,
           "Market research reports on AI investments and funding trends"
          ],
          [
           3,
           "Academic papers and conference presentations in AI in 2022 and 2023"
          ],
          [
           1,
           "Interviews with AI researchers and developers on their experiences and perceptions of AI in 2023"
          ],
          [
           0,
           "Industry reports on AI development and advancements in 2023"
          ],
          [
           0,
           "Media archives and databases (e.g., LexisNexis, Factiva) for tracking media coverage of AI."
          ],
          [
           0,
           "Social media analytics platforms (e.g., Google Trends, Twitter API) for analyzing trends in online discussions about AI."
          ],
          [
           1,
           "Public opinion surveys and polls conducted before and after the release of ChatGPT and GPT-4."
          ],
          [
           0,
           "Financial databases (e.g., Crunchbase, PitchBook) for tracking funding rounds and investment in AI companies."
          ],
          [
           0,
           "Stock market data for analyzing the performance of AI-related companies."
          ],
          [
           0,
           "Data from funding agencies (e.g., National Science Foundation) on research grants allocated to AI projects."
          ],
          [
           0,
           "Market research reports on the adoption of AI technologies in various sectors."
          ],
          [
           2,
           "Case studies and reports on the successful implementation of AI-powered applications."
          ],
          [
           3,
           "Industry publications and conferences related to AI development and applications."
          ],
          [
           0,
           "Data from universities and research institutions on the number of AI students and graduates."
          ],
          [
           0,
           "Industry reports on the hiring trends in the AI sector."
          ],
          [
           3,
           "Membership data from professional organizations related to AI (e.g., Association for the Advancement of Artificial Intelligence)."
          ],
          [
           0,
           "Research papers on AI advancements"
          ],
          [
           0,
           "Industry reports on AI development trends"
          ],
          [
           2,
           "Publicly available data on AI model releases and performance improvements"
          ],
          [
           0,
           "Industry reports on AI adoption"
          ],
          [
           0,
           "Market analysis of AI applications"
          ],
          [
           1,
           "Surveys on AI implementation in different sectors"
          ],
          [
           0,
           "Patent databases"
          ],
          [
           0,
           "Reports on AI patents"
          ],
          [
           0,
           "Analysis of trends in AI patent filings"
          ],
          [
           0,
           "Venture capital reports on AI investments"
          ],
          [
           0,
           "Government funding data for AI research"
          ],
          [
           0,
           "Financial news and analysis on AI-related companies"
          ],
          [
           2,
           "Benchmarks and evaluations of AI model performance"
          ],
          [
           0,
           "Research papers on AI model development"
          ],
          [
           2,
           "Publicly available data on AI model capabilities"
          ],
          [
           1,
           "Public opinion polls on AI"
          ],
          [
           0,
           "Media coverage of AI"
          ],
          [
           1,
           "Social media discussions on AI"
          ],
          [
           0,
           "Business plans and financial statements of GPT wrapper companies"
          ],
          [
           0,
           "Market research reports on the AI software market"
          ],
          [
           1,
           "Expert interviews with AI industry analysts"
          ],
          [
           0,
           "News articles and research reports on AI development trends"
          ],
          [
           0,
           "Industry data on the adoption of AI models and solutions"
          ],
          [
           1,
           "Expert opinions from AI researchers and entrepreneurs"
          ],
          [
           0,
           "Financial data on AI investments"
          ],
          [
           0,
           "Industry reports on AI research and development"
          ],
          [
           1,
           "Expert interviews with AI investors and researchers"
          ],
          [
           3,
           "Publications on AI research and development"
          ],
          [
           2,
           "Data on the release dates and capabilities of new AI models"
          ],
          [
           1,
           "Expert opinions on the future of AI development"
          ],
          [
           0,
           "Research on the cost and complexity of AI model integration"
          ],
          [
           0,
           "Industry reports on the adoption of AI models"
          ],
          [
           2,
           "Case studies on the integration of AI models in various sectors"
          ],
          [
           0,
           "Research on general-purpose AI models"
          ],
          [
           0,
           "Industry trends in the use of AI models for different tasks"
          ],
          [
           1,
           "Expert opinions on the future of general-purpose AI"
          ],
          [
           0,
           "Market research reports on the AI industry"
          ],
          [
           0,
           "Analysis of the factors driving AI market growth"
          ],
          [
           1,
           "Expert opinions on the future of the AI market"
          ],
          [
           3,
           "Research papers and publications on AI progress and breakthroughs"
          ],
          [
           0,
           "Industry reports and analyses on the AI market and future trends"
          ],
          [
           1,
           "Expert opinions and predictions from leading AI researchers"
          ],
          [
           2,
           "Research on AI applications in specific industries and tasks"
          ],
          [
           1,
           "Expert opinions on the potential of AI to replace human workers"
          ],
          [
           1,
           "Studies on the impact of AI on the future of work"
          ],
          [
           0,
           "Financial reports and analyses on AI funding and investments"
          ],
          [
           3,
           "Government policies and initiatives related to AI development"
          ],
          [
           0,
           "Industry forecasts on the growth of the AI market"
          ],
          [
           0,
           "Industry trends and analysis on AI development and deployment"
          ],
          [
           1,
           "Interviews with AI industry leaders and stakeholders"
          ],
          [
           0,
           "Articles and reports on the evolution of AI strategies"
          ],
          [
           0,
           "Research papers and publications on AI development"
          ],
          [
           0,
           "Reports from AI research institutions"
          ],
          [
           1,
           "Industry forecasts on AI advancement timelines"
          ],
          [
           1,
           "Economic studies on the impact of AI on employment"
          ],
          [
           0,
           "Industry reports on AI adoption trends"
          ],
          [
           2,
           "Case studies of AI implementation in various sectors"
          ],
          [
           3,
           "Government documents and reports on national security strategies"
          ],
          [
           3,
           "News articles and research on AI applications in defense"
          ],
          [
           3,
           "Statements and publications from national security officials"
          ],
          [
           3,
           "Reports and analyses on international AI governance"
          ],
          [
           3,
           "Statements from international organizations on AI cooperation"
          ],
          [
           3,
           "News articles and research on geopolitical tensions related to AI"
          ],
          [
           3,
           "Research papers and publications on AI in creative industries"
          ],
          [
           0,
           "Industry reports on AI applications in creative fields"
          ],
          [
           2,
           "Case studies of AI-generated content in creative industries"
          ],
          [
           0,
           "Government budgets and spending data"
          ],
          [
           3,
           "Reports from national security agencies"
          ],
          [
           3,
           "News articles and research publications on AI in national security"
          ],
          [
           1,
           "Studies on the relationship between AI and geopolitical influence"
          ],
          [
           3,
           "Analysis of national AI strategies and policies"
          ],
          [
           1,
           "Data on international relations and military power"
          ],
          [
           1,
           "Publications and interviews with leading AI researchers"
          ],
          [
           3,
           "Expert panels and conferences on AI advancement"
          ],
          [
           0,
           "Research papers on AI timelines and capabilities"
          ],
          [
           3,
           "News articles and reports on AI collaboration"
          ],
          [
           3,
           "Government documents on AI initiatives"
          ],
          [
           3,
           "Analysis of research partnerships between universities and security agencies"
          ],
          [
           0,
           "Patent databases and analysis"
          ],
          [
           3,
           "Government reports on AI inventions"
          ],
          [
           3,
           "Publications on AI technology trends in defense"
          ],
          [
           0,
           "Research papers on AI progress"
          ],
          [
           1,
           "Expert opinions from AI researchers"
          ],
          [
           0,
           "Industry reports on AI hardware development"
          ],
          [
           0,
           "Research papers on AI automation"
          ],
          [
           2,
           "Case studies of AI-driven research projects"
          ],
          [
           1,
           "Expert opinions from AI researchers on automation potential"
          ],
          [
           3,
           "Publications from national security institutes"
          ],
          [
           1,
           "Expert interviews with national security analysts"
          ],
          [
           1,
           "International relations research on the impact of technological advancements"
          ],
          [
           3,
           "Research papers on AI ethics"
          ],
          [
           1,
           "Policy analysis of AI regulations"
          ],
          [
           1,
           "Expert opinions on potential roadblocks to AI progress"
          ],
          [
           3,
           "Analysis of US-China relations related to AI"
          ],
          [
           0,
           "Reports on international AI competition"
          ],
          [
           1,
           "Expert opinions on geopolitical implications of AI development"
          ],
          [
           3,
           "Peer-reviewed publications on AI advancements"
          ],
          [
           0,
           "Research papers and reports on algorithmic progress"
          ],
          [
           1,
           "Expert opinions from leading AI researchers"
          ],
          [
           0,
           "Market research reports on GPU trends"
          ],
          [
           0,
           "Data on GPU production and availability"
          ],
          [
           1,
           "Expert opinions on future trends in computing resources"
          ],
          [
           3,
           "Peer-reviewed publications on AI automation"
          ],
          [
           0,
           "Research papers on AI capabilities in specific domains"
          ],
          [
           1,
           "Expert opinions on the potential of AI to automate complex tasks"
          ],
          [
           3,
           "Reports on AI ethics and regulations"
          ],
          [
           1,
           "Expert opinions on challenges in AI development"
          ],
          [
           0,
           "Research on technical limitations of current AI systems"
          ],
          [
           0,
           "Research papers on specialized AI systems"
          ],
          [
           1,
           "Expert opinions on the future of AI development"
          ],
          [
           0,
           "Analysis of the current landscape of AI applications"
          ],
          [
           3,
           "Publications in top AI research journals and conferences (e.g., NeurIPS, ICML, ICLR)"
          ],
          [
           2,
           "Benchmark datasets and performance metrics for various AI tasks (e.g., ImageNet, GLUE)"
          ],
          [
           0,
           "Reports and analyses from reputable research organizations specializing in AI (e.g., OpenAI, Google AI, Stanford AI Lab)"
          ],
          [
           0,
           "Studies on the computational power required for AI development"
          ],
          [
           0,
           "Analyses of the cost and availability of advanced hardware like GPUs"
          ],
          [
           1,
           "Expert opinions from prominent AI researchers on the potential for future breakthroughs and limitations"
          ],
          [
           0,
           "Research papers and articles focusing on specific AI subfields (e.g., NLP, CV, robotics)"
          ],
          [
           2,
           "Data on the performance of AI systems in various domains (e.g., language understanding, image recognition, task automation)"
          ],
          [
           3,
           "Peer-reviewed research papers on robotics and AI"
          ],
          [
           3,
           "Reports from robotics research institutions"
          ],
          [
           1,
           "Expert opinions and analyses on the future of robotics"
          ],
          [
           2,
           "Data on the performance of AI algorithms over time"
          ],
          [
           0,
           "Analysis of trends in AI research and development"
          ],
          [
           1,
           "Expert opinions on the future of AI progress"
          ],
          [
           0,
           "Market reports on GPU and computing infrastructure"
          ],
          [
           1,
           "Forecasts of future trends in computational power"
          ],
          [
           2,
           "Analysis of the cost and availability of computing resources"
          ],
          [
           0,
           "Research papers on AI advancements"
          ],
          [
           0,
           "Industry reports on AI progress"
          ],
          [
           2,
           "Data on the performance of AI models over time"
          ],
          [
           1,
           "Interviews with robotics experts"
          ],
          [
           0,
           "Research papers on robotics challenges"
          ],
          [
           3,
           "Industry reports on robotics advancements"
          ],
          [
           1,
           "Historical accounts of military conflicts"
          ],
          [
           1,
           "Studies on the relationship between technology and political power"
          ],
          [
           1,
           "Analyses of historical technological innovations and their impact on global power dynamics"
          ],
          [
           3,
           "Research papers on AGI"
          ],
          [
           0,
           "Reports from AI research institutions"
          ],
          [
           1,
           "Expert opinions on the timeline for achieving AGI"
          ],
          [
           0,
           "Research papers on AI learning and adaptation"
          ],
          [
           2,
           "Data on the performance of AI systems across different tasks"
          ],
          [
           1,
           "Expert opinions on the current limitations of AI adaptability"
          ],
          [
           1,
           "Historical studies on technological advancements"
          ],
          [
           1,
           "Analysis of past technological revolutions"
          ],
          [
           1,
           "Expert opinions on historical technological trends"
          ],
          [
           3,
           "Simulation studies on AI-driven warfare scenarios"
          ],
          [
           1,
           "Expert analysis on the ethical implications of autonomous weapons"
          ],
          [
           1,
           "Research on the potential risks and limitations of AI in military applications"
          ],
          [
           1,
           "Reports from international organizations on global security"
          ],
          [
           1,
           "Analysis of international relations and geopolitical trends"
          ],
          [
           1,
           "Expert opinions on the impact of emerging technologies on international security"
          ],
          [
           3,
           "Reports on the effectiveness of current submarine detection systems"
          ],
          [
           3,
           "Scientific publications on advanced sensor technologies"
          ],
          [
           3,
           "Data on the performance of existing anti-submarine warfare capabilities"
          ],
          [
           3,
           "Reports on the CCP's AI research and development strategies"
          ],
          [
           3,
           "Publications on Chinese AI policy and investments"
          ],
          [
           3,
           "Analysis of the CCP's national strategic goals"
          ],
          [
           1,
           "Historical accounts of major wars and conflicts"
          ],
          [
           1,
           "Studies on the impact of technology on warfare"
          ],
          [
           1,
           "Analysis of geopolitical power dynamics in different eras"
          ],
          [
           1,
           "Ethical and legal discussions on superintelligence"
          ],
          [
           1,
           "Reports on international treaties and regulations concerning weapons development"
          ],
          [
           1,
           "Analysis of potential risks and consequences of weaponized superintelligence"
          ],
          [
           0,
           "Reports from AI research organizations"
          ],
          [
           1,
           "Expert opinions on AI timelines"
          ],
          [
           0,
           "Analysis of current AI capabilities and progress"
          ],
          [
           3,
           "Public statements by CCP officials on AI strategy"
          ],
          [
           3,
           "Analysis of CCP's AI research and development initiatives"
          ],
          [
           3,
           "Reports on the CCP's economic and technological goals"
          ],
          [
           0,
           "Data on international AI research collaborations"
          ],
          [
           3,
           "Reports on scientific exchanges and partnerships between the US and China"
          ],
          [
           3,
           "Statements from AI researchers and organizations regarding international cooperation"
          ],
          [
           0,
           "Government budget documents related to AI research"
          ],
          [
           3,
           "Statements from US officials on national AI strategy"
          ],
          [
           3,
           "Reports on AI security measures and counterintelligence efforts"
          ],
          [
           3,
           "Reports on the CCP's investments in robotics and automation"
          ],
          [
           3,
           "Analysis of CCP's industrial policies and plans"
          ],
          [
           1,
           "Expert opinions on the CCP's economic goals for AI development"
          ],
          [
           0,
           "Research papers on AI self-improvement"
          ],
          [
           0,
           "Publications on deep learning advancements"
          ],
          [
           0,
           "Reports from AI research institutions on progress in AI self-learning"
          ],
          [
           0,
           "Research papers on AI in robotics"
          ],
          [
           2,
           "Case studies of AI applications in manufacturing and automation"
          ],
          [
           0,
           "Reports from companies developing AI-powered robots"
          ],
          [
           0,
           "Data on the growth of computational power in AI"
          ],
          [
           0,
           "Research papers on advancements in AI algorithms"
          ],
          [
           0,
           "Reports on AI investment and industry trends"
          ],
          [
           0,
           "Research on AI transfer learning and multi-task learning"
          ],
          [
           0,
           "Studies on AI's ability to generalize knowledge across different domains"
          ],
          [
           2,
           "Analysis of AI systems' performance in various tasks"
          ],
          [
           3,
           "Research papers on AI ethics and social impact"
          ],
          [
           3,
           "Reports from AI ethics committees and organizations"
          ],
          [
           1,
           "Discussions and publications on responsible AI development"
          ],
          [
           0,
           "Research papers on AI-driven robotics"
          ],
          [
           3,
           "Industry reports on robotics advancements"
          ],
          [
           1,
           "Expert interviews and opinions on the pace of robotics development"
          ],
          [
           3,
           "Analysis of robotics industry progress"
          ],
          [
           0,
           "Comparative studies of AI-driven robotics vs. traditional robotics"
          ],
          [
           1,
           "Expert opinions on the challenges and limitations of AI-driven robotics"
          ],
          [
           1,
           "Economic studies on the impact of AI-driven robotics on employment"
          ],
          [
           3,
           "Industry reports on job creation and displacement in robotics-related fields"
          ],
          [
           3,
           "Government policies and initiatives related to AI and automation"
          ],
          [
           0,
           "Market analysis of robotics applications across industries"
          ],
          [
           3,
           "Research on the adoption of robotics in different sectors"
          ],
          [
           1,
           "Expert opinions on the limitations of current AI-driven robotics"
          ],
          [
           0,
           "Analysis of funding sources for AI-driven robotics research"
          ],
          [
           3,
           "Industry reports on venture capital investment in robotics"
          ],
          [
           0,
           "Government research grants and funding programs"
          ],
          [
           0,
           "Research papers on robotics and AI integration"
          ],
          [
           3,
           "Industry reports on automation trends"
          ],
          [
           3,
           "Patents and technical specifications of advanced robotics systems"
          ],
          [
           0,
           "Labor market analysis reports"
          ],
          [
           1,
           "Economic studies on automation impacts"
          ],
          [
           1,
           "Interviews with industry experts on workforce transitions"
          ],
          [
           3,
           "Educational policy reports"
          ],
          [
           0,
           "Training programs for emerging technologies"
          ],
          [
           1,
           "Research on skills gaps in the future workforce"
          ],
          [
           2,
           "Research on AI applications in specific industries"
          ],
          [
           2,
           "Case studies of successful AI-driven robotics implementations"
          ],
          [
           1,
           "Expert opinions on the future impact of AI on different sectors"
          ],
          [
           3,
           "Cybersecurity research on AI systems"
          ],
          [
           1,
           "Ethical guidelines and frameworks for AI development"
          ],
          [
           1,
           "Risk assessments of AI-driven robotics deployments"
          ],
          [
           0,
           "Reports and analyses on the semiconductor industry workforce"
          ],
          [
           0,
           "Studies on the effectiveness of AI-driven training programs in technical fields"
          ],
          [
           3,
           "Data on the demographics and skills of the current semiconductor workforce"
          ],
          [
           0,
           "Expert opinions from semiconductor industry professionals"
          ],
          [
           0,
           "Research on the transferability of AI-driven training to real-world technical applications"
          ],
          [
           2,
           "Case studies of AI-driven upskilling in other complex manufacturing industries"
          ],
          [
           0,
           "Industry reports and analyses on semiconductor manufacturing trends"
          ],
          [
           3,
           "News articles and publications on semiconductor industry automation and robotics investments"
          ],
          [
           3,
           "Data on the adoption of automation technologies in US semiconductor fabs"
          ],
          [
           3,
           "News articles and reports on semiconductor industry workforce development programs"
          ],
          [
           3,
           "Information on industry partnerships with educational institutions"
          ],
          [
           3,
           "Data on the effectiveness of existing workforce development initiatives in the semiconductor industry"
          ],
          [
           0,
           "Research papers on AI-powered training programs"
          ],
          [
           0,
           "Reports from companies using AI for workforce development"
          ],
          [
           1,
           "Expert opinions from AI researchers and educators"
          ],
          [
           1,
           "Economic studies on workforce training costs"
          ],
          [
           1,
           "Reports on the economic impact of automation"
          ],
          [
           0,
           "Data on the cost of implementing AI solutions in manufacturing"
          ],
          [
           3,
           "Robotics industry reports and forecasts"
          ],
          [
           0,
           "Research papers on the development of advanced robots for manufacturing"
          ],
          [
           1,
           "Expert opinions on the future of automation in manufacturing"
          ],
          [
           0,
           "Financial reports from major corporations in the technology sector"
          ],
          [
           0,
           "Data on corporate debt outstanding from financial institutions and regulatory bodies"
          ],
          [
           0,
           "Market analysis reports on the corporate debt market and trends in specific sectors"
          ],
          [
           0,
           "Research reports on AI investment and funding trends"
          ],
          [
           2,
           "Financial statements of AI companies and major tech corporations"
          ],
          [
           0,
           "Data on venture capital funding and other forms of financing for AI startups"
          ],
          [
           0,
           "Economic indicators such as interest rates and credit spreads"
          ],
          [
           0,
           "Reports from financial institutions and economists on macroeconomic conditions and credit markets"
          ],
          [
           0,
           "Data on corporate debt issuance and market trends"
          ],
          [
           0,
           "Reports and publications from leading AI research institutions and think tanks"
          ],
          [
           3,
           "Government documents and statements on AI strategy and national security"
          ],
          [
           3,
           "News articles and analyses on the development and deployment of advanced AI technologies"
          ],
          [
           1,
           "Expert interviews and opinions on the timeline for the development of superintelligence"
          ],
          [
           0,
           "Analysis of government budgets and resource allocations for AI development and research"
          ],
          [
           3,
           "Public statements and speeches from top national security officials in the US and CCP"
          ],
          [
           1,
           "Expert opinions on the current understanding of AI within the national security establishment"
          ],
          [
           0,
           "Data on private investment in AI research and development"
          ],
          [
           3,
           "Analysis of government policies and regulations related to AI development"
          ],
          [
           1,
           "Interviews with industry leaders and government officials on their perspectives on AI advancements"
          ],
          [
           1,
           "Predictions and forecasts from leading AI researchers on the timeline for achieving superintelligence"
          ],
          [
           0,
           "Analysis of the current state of AI research and development"
          ],
          [
           1,
           "Expert opinions on the limitations and challenges in achieving superintelligence"
          ],
          [
           3,
           "Research papers on AI advancements and AGI"
          ],
          [
           1,
           "Expert opinions from leading AI researchers"
          ],
          [
           0,
           "Reports on the progress of AI development from reputable organizations like OpenAI, Google AI, and the Allen Institute for AI"
          ],
          [
           3,
           "Government reports on AI strategy and investment"
          ],
          [
           3,
           "Public statements from officials involved in national security and AI"
          ],
          [
           3,
           "News articles and analyses on AI initiatives and policies in the United States and China"
          ],
          [
           1,
           "Studies on the potential risks of advanced AI"
          ],
          [
           1,
           "Expert analyses on the societal and ethical implications of superintelligence"
          ],
          [
           3,
           "Reports on AI safety and governance from international organizations"
          ],
          [
           0,
           "Research papers and reports from leading AI laboratories"
          ],
          [
           0,
           "Industry analysis on AI advancements and future projections"
          ],
          [
           1,
           "Expert opinions from prominent AI researchers"
          ],
          [
           1,
           "Economic studies on the impact of AI on employment"
          ],
          [
           1,
           "Social impact assessments of AI technologies"
          ],
          [
           3,
           "Government reports on AI policy and regulation"
          ],
          [
           1,
           "Ethical discussions on AI development and its potential risks"
          ],
          [
           3,
           "Research on AI safety and control mechanisms"
          ],
          [
           1,
           "Philosophical and scientific analysis of the implications of superintelligence"
          ],
          [
           3,
           "Government reports on national AI strategies"
          ],
          [
           0,
           "Analysis of defense budgets and research initiatives"
          ],
          [
           3,
           "Statements from national security officials on AI"
          ]
         ],
         "hovertemplate": "UMAP Dimension 1=%{x}<br>UMAP Dimension 2=%{y}<br>Topic=%{marker.color}<br>Document=%{customdata[1]}<extra></extra>",
         "legendgroup": "",
         "marker": {
          "color": [
           0,
           0,
           2,
           0,
           0,
           0,
           2,
           2,
           2,
           0,
           0,
           1,
           0,
           2,
           2,
           0,
           0,
           0,
           2,
           2,
           2,
           0,
           0,
           0,
           0,
           0,
           0,
           0,
           0,
           2,
           2,
           1,
           2,
           2,
           2,
           2,
           2,
           1,
           2,
           2,
           2,
           2,
           2,
           0,
           2,
           2,
           2,
           2,
           2,
           2,
           2,
           0,
           0,
           0,
           2,
           0,
           0,
           0,
           0,
           0,
           2,
           0,
           0,
           0,
           0,
           2,
           0,
           2,
           2,
           2,
           0,
           0,
           1,
           0,
           0,
           0,
           0,
           1,
           0,
           0,
           1,
           1,
           0,
           0,
           1,
           0,
           0,
           0,
           0,
           0,
           0,
           0,
           0,
           0,
           0,
           1,
           0,
           3,
           3,
           1,
           0,
           0,
           0,
           3,
           0,
           0,
           0,
           1,
           0,
           1,
           1,
           1,
           0,
           0,
           0,
           0,
           0,
           1,
           3,
           2,
           1,
           0,
           1,
           0,
           0,
           0,
           0,
           0,
           0,
           0,
           0,
           0,
           1,
           1,
           1,
           3,
           0,
           0,
           1,
           0,
           0,
           1,
           0,
           2,
           2,
           2,
           0,
           1,
           2,
           1,
           3,
           0,
           0,
           0,
           0,
           0,
           0,
           1,
           0,
           2,
           2,
           0,
           1,
           0,
           0,
           1,
           1,
           1,
           1,
           3,
           2,
           0,
           0,
           1,
           0,
           0,
           1,
           2,
           0,
           0,
           1,
           3,
           2,
           0,
           3,
           1,
           1,
           3,
           1,
           0,
           2,
           0,
           0,
           3,
           1,
           0,
           0,
           0,
           1,
           2,
           0,
           0,
           0,
           1,
           0,
           0,
           0,
           2,
           1,
           2,
           0,
           1,
           0,
           0,
           0,
           2,
           0,
           0,
           2,
           0,
           0,
           3,
           1,
           0,
           0,
           1,
           0,
           0,
           1,
           0,
           0,
           1,
           1,
           1,
           1,
           0,
           0,
           2,
           0,
           0,
           2,
           0,
           1,
           0,
           0,
           1,
           0,
           0,
           0,
           2,
           0,
           2,
           0,
           0,
           0,
           0,
           1,
           1,
           2,
           1,
           0,
           0,
           1,
           1,
           2,
           1,
           2,
           0,
           1,
           3,
           0,
           1,
           0,
           0,
           0,
           1,
           2,
           1,
           0,
           3,
           1,
           2,
           0,
           0,
           3,
           0,
           1,
           3,
           1,
           0,
           3,
           3,
           3,
           0,
           2,
           1,
           0,
           1,
           0,
           1,
           1,
           0,
           0,
           2,
           1,
           0,
           0,
           1,
           2,
           0,
           1,
           0,
           1,
           0,
           1,
           1,
           1,
           0,
           2,
           2,
           0,
           0,
           0,
           0,
           0,
           0,
           0,
           0,
           1,
           0,
           2,
           0,
           0,
           0,
           0,
           0,
           0,
           2,
           0,
           2,
           0,
           0,
           2,
           0,
           0,
           0,
           0,
           0,
           0,
           0,
           0,
           0,
           0,
           0,
           0,
           0,
           2,
           2,
           2,
           0,
           0,
           0,
           0,
           0,
           0,
           0,
           1,
           0,
           0,
           2,
           0,
           2,
           0,
           0,
           0,
           1,
           0,
           0,
           0,
           0,
           0,
           2,
           1,
           0,
           0,
           0,
           2,
           0,
           0,
           0,
           0,
           0,
           0,
           3,
           1,
           3,
           0,
           0,
           0,
           2,
           2,
           0,
           0,
           0,
           0,
           0,
           0,
           0,
           0,
           0,
           0,
           0,
           0,
           0,
           0,
           0,
           0,
           1,
           0,
           1,
           0,
           0,
           0,
           0,
           0,
           0,
           0,
           0,
           0,
           0,
           2,
           0,
           0,
           0,
           0,
           0,
           0,
           0,
           0,
           0,
           0,
           0,
           0,
           0,
           0,
           0,
           0,
           0,
           0,
           0,
           0,
           0,
           1,
           0,
           0,
           3,
           0,
           0,
           1,
           0,
           0,
           0,
           0,
           0,
           0,
           0,
           0,
           0,
           0,
           0,
           0,
           0,
           0,
           0,
           0,
           0,
           1,
           0,
           0,
           1,
           0,
           0,
           0,
           0,
           0,
           0,
           0,
           0,
           0,
           0,
           0,
           1,
           0,
           0,
           0,
           0,
           0,
           0,
           0,
           0,
           0,
           0,
           0,
           2,
           0,
           2,
           0,
           0,
           0,
           0,
           0,
           0,
           2,
           0,
           0,
           2,
           0,
           0,
           1,
           1,
           0,
           1,
           0,
           2,
           0,
           1,
           0,
           1,
           1,
           1,
           1,
           0,
           0,
           1,
           0,
           2,
           2,
           1,
           0,
           3,
           2,
           0,
           0,
           0,
           3,
           0,
           0,
           0,
           0,
           2,
           0,
           1,
           2,
           1,
           1,
           1,
           1,
           1,
           1,
           3,
           1,
           0,
           0,
           1,
           0,
           0,
           1,
           0,
           1,
           0,
           1,
           1,
           1,
           1,
           1,
           1,
           1,
           0,
           0,
           0,
           0,
           0,
           3,
           1,
           0,
           0,
           0,
           1,
           0,
           0,
           0,
           0,
           2,
           3,
           0,
           0,
           3,
           0,
           0,
           2,
           0,
           0,
           1,
           0,
           0,
           0,
           0,
           0,
           0,
           2,
           0,
           2,
           1,
           0,
           1,
           0,
           0,
           1,
           0,
           0,
           1,
           0,
           0,
           1,
           3,
           2,
           1,
           0,
           0,
           2,
           0,
           0,
           1,
           0,
           0,
           1,
           3,
           0,
           1,
           2,
           1,
           1,
           0,
           3,
           0,
           0,
           1,
           0,
           0,
           0,
           1,
           1,
           0,
           2,
           3,
           3,
           3,
           3,
           3,
           3,
           3,
           0,
           2,
           0,
           3,
           3,
           1,
           3,
           1,
           1,
           3,
           0,
           3,
           3,
           3,
           0,
           3,
           3,
           0,
           1,
           0,
           0,
           2,
           1,
           3,
           1,
           1,
           3,
           1,
           1,
           3,
           0,
           1,
           3,
           0,
           1,
           0,
           0,
           1,
           3,
           0,
           1,
           3,
           1,
           0,
           0,
           1,
           0,
           3,
           2,
           0,
           0,
           0,
           1,
           0,
           2,
           3,
           3,
           1,
           2,
           0,
           1,
           0,
           1,
           2,
           0,
           0,
           2,
           1,
           0,
           3,
           1,
           1,
           1,
           3,
           0,
           1,
           0,
           2,
           1,
           1,
           1,
           1,
           3,
           1,
           1,
           1,
           1,
           1,
           3,
           3,
           3,
           3,
           3,
           3,
           1,
           1,
           1,
           1,
           1,
           1,
           0,
           1,
           0,
           3,
           3,
           3,
           0,
           3,
           3,
           0,
           3,
           3,
           3,
           3,
           1,
           0,
           0,
           0,
           0,
           2,
           0,
           0,
           0,
           0,
           0,
           0,
           2,
           3,
           3,
           1,
           0,
           3,
           1,
           3,
           0,
           1,
           1,
           3,
           3,
           0,
           3,
           1,
           0,
           3,
           0,
           0,
           3,
           3,
           0,
           1,
           1,
           3,
           0,
           1,
           2,
           2,
           1,
           3,
           1,
           1,
           0,
           0,
           3,
           0,
           0,
           2,
           0,
           3,
           3,
           3,
           3,
           3,
           0,
           0,
           1,
           1,
           1,
           0,
           3,
           0,
           1,
           0,
           0,
           0,
           0,
           2,
           0,
           0,
           0,
           0,
           0,
           3,
           3,
           1,
           0,
           3,
           1,
           0,
           3,
           1,
           1,
           0,
           1,
           3,
           1,
           0,
           3,
           3,
           3,
           1,
           1,
           3,
           0,
           0,
           1,
           1,
           1,
           3,
           1,
           3,
           1,
           3,
           0,
           3
          ],
          "coloraxis": "coloraxis",
          "symbol": "circle"
         },
         "mode": "markers",
         "name": "",
         "orientation": "v",
         "showlegend": false,
         "type": "scatter",
         "x": [
          -3.652613878250122,
          10.490161895751953,
          -6.688863754272461,
          -4.999812602996826,
          -6.066132068634033,
          -1.75193452835083,
          -3.0362794399261475,
          -2.7768917083740234,
          -2.775756597518921,
          10.654801368713379,
          3.953681230545044,
          14.948587417602539,
          3.2648236751556396,
          -6.568318843841553,
          -6.669168949127197,
          10.672499656677246,
          11.560797691345215,
          5.851042747497559,
          -3.004810333251953,
          -2.8019208908081055,
          -3.0098979473114014,
          8.966839790344238,
          -2.3911542892456055,
          0.7900552749633789,
          10.256670951843262,
          -1.7586268186569214,
          2.8003196716308594,
          10.542463302612305,
          3.576258897781372,
          -4.317066669464111,
          -6.667072772979736,
          14.926019668579102,
          -1.1319512128829956,
          -3.0397884845733643,
          -5.93143892288208,
          -2.731017589569092,
          -4.114772319793701,
          14.937183380126953,
          -4.367152690887451,
          -5.893892288208008,
          -6.542940616607666,
          -3.007572889328003,
          -2.900134325027466,
          9.657777786254883,
          -6.142908573150635,
          -6.284883499145508,
          -2.7931201457977295,
          -5.68455171585083,
          -2.8223350048065186,
          -2.9796693325042725,
          -2.902618169784546,
          -2.29036545753479,
          10.384515762329102,
          7.405964374542236,
          -6.680485725402832,
          -3.7766244411468506,
          10.45516586303711,
          9.515535354614258,
          -3.0291266441345215,
          9.918335914611816,
          -6.633697509765625,
          -2.712341547012329,
          10.301642417907715,
          -0.23685011267662048,
          10.644674301147461,
          -6.567638874053955,
          -0.10675525665283203,
          -3.023928642272949,
          -4.397903919219971,
          -3.047731399536133,
          -3.711704969406128,
          -2.0344154834747314,
          14.99604606628418,
          10.571239471435547,
          12.267593383789062,
          -5.510629177093506,
          -2.426025629043579,
          13.84807014465332,
          -5.424623489379883,
          -5.120306968688965,
          13.616652488708496,
          10.944543838500977,
          -1.777791142463684,
          -3.6756973266601562,
          15.04574203491211,
          2.374523639678955,
          -3.0590896606445312,
          -1.7486289739608765,
          -1.723639726638794,
          -5.593388080596924,
          -3.2713894844055176,
          3.0781936645507812,
          -1.6817378997802734,
          -2.3821024894714355,
          9.107124328613281,
          14.905068397521973,
          1.0088183879852295,
          12.96955680847168,
          13.502713203430176,
          11.384836196899414,
          3.077949047088623,
          -1.0761160850524902,
          4.039540767669678,
          12.2772855758667,
          8.9945068359375,
          12.222494125366211,
          -2.4416701793670654,
          12.398909568786621,
          -3.0926356315612793,
          11.04982852935791,
          11.452098846435547,
          11.670748710632324,
          -5.5979766845703125,
          -4.302440643310547,
          -6.412984371185303,
          -3.5521645545959473,
          0.9568751454353333,
          13.723275184631348,
          13.671238899230957,
          -1.1671500205993652,
          14.384069442749023,
          3.990687847137451,
          12.471663475036621,
          -2.2829833030700684,
          -3.9710071086883545,
          2.7857439517974854,
          -3.6853017807006836,
          -3.955381393432617,
          2.0249991416931152,
          -1.4350608587265015,
          7.55723762512207,
          9.189573287963867,
          14.907626152038574,
          13.434426307678223,
          11.429801940917969,
          13.156529426574707,
          12.255477905273438,
          9.127608299255371,
          14.886743545532227,
          3.4715843200683594,
          -2.554706335067749,
          14.837333679199219,
          -5.354341983795166,
          -6.713359832763672,
          -6.666861534118652,
          -1.1735939979553223,
          -1.890909194946289,
          14.774825096130371,
          -1.119895339012146,
          13.706708908081055,
          13.480169296264648,
          5.831862449645996,
          -3.2308754920959473,
          2.0446503162384033,
          -4.545411109924316,
          7.643178462982178,
          -3.896127700805664,
          11.408807754516602,
          -1.7882362604141235,
          -0.6827744245529175,
          -0.5779436826705933,
          3.4378445148468018,
          14.93730640411377,
          6.692266941070557,
          -2.3771872520446777,
          14.852127075195312,
          11.56227970123291,
          12.630105972290039,
          10.988616943359375,
          12.74859619140625,
          -0.5802986025810242,
          11.967756271362305,
          9.681989669799805,
          12.317366600036621,
          11.585838317871094,
          -3.5384209156036377,
          13.552245140075684,
          -5.80628776550293,
          -6.027437210083008,
          -5.704030990600586,
          14.90345287322998,
          13.37100887298584,
          -1.0239369869232178,
          12.198225021362305,
          12.484940528869629,
          13.461410522460938,
          14.9128999710083,
          14.164148330688477,
          12.186697959899902,
          11.338730812072754,
          -2.7684009075164795,
          2.0062689781188965,
          -1.7092360258102417,
          12.768009185791016,
          14.930724143981934,
          -1.5369656085968018,
          12.270047187805176,
          0.00866719987243414,
          15.003525733947754,
          -5.654512405395508,
          11.107197761535645,
          10.00195026397705,
          10.307841300964355,
          15.056974411010742,
          12.259439468383789,
          12.128572463989258,
          9.953502655029297,
          -6.358100891113281,
          15.061944961547852,
          -5.5290117263793945,
          10.75697135925293,
          12.60091495513916,
          -1.5387108325958252,
          8.08193302154541,
          6.665079116821289,
          -5.900029182434082,
          2.7422244548797607,
          10.282072067260742,
          -5.512734413146973,
          12.229927062988281,
          12.222729682922363,
          12.475332260131836,
          15.064292907714844,
          3.0808613300323486,
          -1.94475257396698,
          12.644774436950684,
          -3.227325439453125,
          11.029922485351562,
          13.942950248718262,
          10.573944091796875,
          10.563621520996094,
          14.733999252319336,
          11.535799026489258,
          11.060029029846191,
          10.925832748413086,
          10.91909408569336,
          7.479032039642334,
          -0.8914167284965515,
          -6.236525535583496,
          10.332504272460938,
          -0.45414358377456665,
          -6.208609580993652,
          14.84077262878418,
          11.947686195373535,
          6.196866512298584,
          14.91378402709961,
          1.8838011026382446,
          11.381110191345215,
          1.9866366386413574,
          -1.1933159828186035,
          -6.414438247680664,
          -0.5098480582237244,
          12.200061798095703,
          5.774247169494629,
          12.25971508026123,
          -1.5306332111358643,
          13.853920936584473,
          12.248156547546387,
          -0.5216397643089294,
          14.173212051391602,
          10.10497760772705,
          10.319289207458496,
          14.33068561553955,
          11.226207733154297,
          -0.8059091567993164,
          14.830375671386719,
          -0.6866415143013,
          11.45962905883789,
          14.648249626159668,
          13.484509468078613,
          4.040602684020996,
          12.337621688842773,
          -5.827820301055908,
          -3.976729393005371,
          3.797701358795166,
          12.28114128112793,
          -0.9076653718948364,
          13.985372543334961,
          0.9455806016921997,
          14.22514533996582,
          14.9019193649292,
          -0.9681627750396729,
          11.97202205657959,
          5.505431652069092,
          14.106643676757812,
          10.82494831085205,
          14.950398445129395,
          12.615413665771484,
          15.03978443145752,
          6.763617992401123,
          14.084881782531738,
          13.133230209350586,
          12.898011207580566,
          12.01544189453125,
          -0.654808759689331,
          14.985422134399414,
          9.950431823730469,
          14.993889808654785,
          -5.785847187042236,
          15.044178009033203,
          14.950632095336914,
          -2.458219528198242,
          11.631590843200684,
          -6.604203224182129,
          14.931063652038574,
          3.194000482559204,
          9.954139709472656,
          12.229172706604004,
          -6.604511260986328,
          -5.200787544250488,
          12.645956993103027,
          -1.5281460285186768,
          15.011481285095215,
          -6.421840667724609,
          11.05972671508789,
          11.429551124572754,
          14.19947624206543,
          6.093018531799316,
          -5.975005626678467,
          -6.066475868225098,
          -4.179968357086182,
          -5.0133137702941895,
          -6.259603500366211,
          10.874032974243164,
          -5.306886672973633,
          -5.951855659484863,
          -2.342308521270752,
          1.926654577255249,
          14.933390617370605,
          6.262497425079346,
          -5.751176834106445,
          7.417421340942383,
          -6.4389328956604,
          -4.561899662017822,
          -5.394007682800293,
          -6.419061183929443,
          -6.246453762054443,
          -6.292211055755615,
          -5.960736274719238,
          -6.291784286499023,
          8.999022483825684,
          7.420477390289307,
          -4.446693420410156,
          5.928184986114502,
          9.131438255310059,
          11.390983581542969,
          9.154232025146484,
          5.553267002105713,
          3.021862745285034,
          2.3578543663024902,
          9.983601570129395,
          4.090718746185303,
          10.872809410095215,
          -3.997560501098633,
          -0.2309706062078476,
          -0.0243808813393116,
          -2.9219281673431396,
          -6.616901874542236,
          -4.407352924346924,
          8.105237007141113,
          0.9488711953163147,
          3.037649393081665,
          -1.8873623609542847,
          10.452230453491211,
          -3.324270486831665,
          -3.703246593475342,
          14.923721313476562,
          -5.492460250854492,
          9.112662315368652,
          -6.433510780334473,
          8.16172981262207,
          -5.892887592315674,
          11.260575294494629,
          7.50013542175293,
          2.705336570739746,
          13.472086906433105,
          -1.7983251810073853,
          -1.6455711126327515,
          -1.699113368988037,
          -3.67197585105896,
          -3.9765195846557617,
          -6.699996471405029,
          12.702470779418945,
          9.981721878051758,
          -1.8947659730911255,
          12.206591606140137,
          -6.712007999420166,
          -5.217136383056641,
          -1.5472919940948486,
          6.484620571136475,
          -1.891459345817566,
          10.947940826416016,
          -1.7481176853179932,
          12.306254386901855,
          14.945722579956055,
          12.43481159210205,
          6.072688579559326,
          12.139128684997559,
          10.689483642578125,
          -6.699888229370117,
          -1.2249094247817993,
          2.3526570796966553,
          0.07657792419195175,
          7.886552333831787,
          -0.4383662939071655,
          9.974172592163086,
          8.041659355163574,
          5.466050148010254,
          0.3515784740447998,
          -4.909633636474609,
          1.948124647140503,
          -3.9250800609588623,
          -2.2496044635772705,
          -2.964343786239624,
          5.327206134796143,
          -2.5156798362731934,
          -2.280588388442993,
          14.864962577819824,
          0.6855746507644653,
          14.928496360778809,
          0.8927847743034363,
          -5.212741374969482,
          -1.7354445457458496,
          -2.4631268978118896,
          -3.724738836288452,
          4.003127574920654,
          -3.925471067428589,
          -1.561874508857727,
          -1.469777226448059,
          8.092622756958008,
          -6.235484600067139,
          -2.501866102218628,
          -0.33524155616760254,
          2.054769277572632,
          0.5799022316932678,
          -3.9914865493774414,
          -3.3968193531036377,
          -1.640547752380371,
          -1.415594458580017,
          -3.9514474868774414,
          -3.948129177093506,
          1.9159183502197266,
          3.164856433868408,
          -1.3417922258377075,
          -1.5997174978256226,
          -1.7077100276947021,
          -5.315432071685791,
          1.0654218196868896,
          5.78046989440918,
          3.145777940750122,
          1.9802758693695068,
          -3.5666565895080566,
          13.512465476989746,
          11.298352241516113,
          2.556229829788208,
          12.434379577636719,
          9.28596305847168,
          -1.6245077848434448,
          12.3297700881958,
          1.0718982219696045,
          1.7597758769989014,
          8.091913223266602,
          11.769552230834961,
          12.118425369262695,
          12.242772102355957,
          3.4823615550994873,
          -1.735060691833496,
          -3.747666835784912,
          -4.829533576965332,
          -3.9436323642730713,
          -5.513665676116943,
          9.720991134643555,
          12.21212100982666,
          -1.7483361959457397,
          -2.3404886722564697,
          -3.9706573486328125,
          14.637906074523926,
          -6.232490539550781,
          -1.5152817964553833,
          12.306229591369629,
          5.483417987823486,
          -2.5723283290863037,
          3.2853243350982666,
          -2.285892963409424,
          -2.2886879444122314,
          -1.6247975826263428,
          -3.7458009719848633,
          -2.3319661617279053,
          2.4272141456604004,
          -3.670781373977661,
          -3.0117783546447754,
          14.955094337463379,
          -3.4753990173339844,
          5.598262786865234,
          11.347569465637207,
          -2.52998423576355,
          -4.389418125152588,
          -1.5774102210998535,
          -1.5985878705978394,
          -6.3674516677856445,
          -3.8634157180786133,
          -1.933593511581421,
          -3.650975227355957,
          -4.330103874206543,
          -2.431260108947754,
          -4.368227958679199,
          -1.531612515449524,
          -4.977555274963379,
          -3.4991354942321777,
          -1.7662686109542847,
          -3.8246352672576904,
          -1.7985882759094238,
          -4.319632053375244,
          -4.327413082122803,
          -1.385352373123169,
          -0.8618232607841492,
          1.9374300241470337,
          10.65197467803955,
          14.906815528869629,
          14.963286399841309,
          -2.2549920082092285,
          12.046683311462402,
          -3.9785256385803223,
          -6.683513641357422,
          0.8688011765480042,
          14.245031356811523,
          -6.381802082061768,
          14.100569725036621,
          10.889898300170898,
          11.121000289916992,
          11.045445442199707,
          0.45169293880462646,
          -3.9764115810394287,
          14.663183212280273,
          11.289929389953613,
          -6.691139221191406,
          -6.03952693939209,
          14.949528694152832,
          11.525788307189941,
          13.619710922241211,
          -6.665208339691162,
          -0.3957756757736206,
          -6.366813659667969,
          10.834912300109863,
          13.365551948547363,
          12.230685234069824,
          1.0398370027542114,
          0.43584033846855164,
          1.6924694776535034,
          -5.644402980804443,
          10.797578811645508,
          14.908807754516602,
          -2.7763640880584717,
          11.659313201904297,
          10.959844589233398,
          11.694559097290039,
          12.21910572052002,
          10.990655899047852,
          11.603934288024902,
          12.854339599609375,
          10.986944198608398,
          11.766959190368652,
          4.042145729064941,
          14.815332412719727,
          9.718905448913574,
          -3.2754671573638916,
          10.891914367675781,
          -2.162263870239258,
          14.898512840270996,
          -3.5087311267852783,
          10.921462059020996,
          11.108351707458496,
          12.149923324584961,
          12.674684524536133,
          11.712616920471191,
          11.09467887878418,
          12.549415588378906,
          1.7769365310668945,
          12.229093551635742,
          -2.385843515396118,
          -6.205830097198486,
          -2.2386488914489746,
          12.446666717529297,
          14.907886505126953,
          6.162408828735352,
          11.041004180908203,
          2.7781448364257812,
          12.570343971252441,
          -1.6587737798690796,
          -3.058225393295288,
          2.201409339904785,
          6.753170490264893,
          -1.2258974313735962,
          13.161687850952148,
          11.325211524963379,
          5.4728007316589355,
          12.547168731689453,
          11.743441581726074,
          5.821321487426758,
          -6.685480117797852,
          10.3585786819458,
          0.14869287610054016,
          12.142359733581543,
          2.3537936210632324,
          9.306278228759766,
          -1.614652395248413,
          -3.4205873012542725,
          2.9467551708221436,
          -2.944037437438965,
          -5.761478900909424,
          10.327183723449707,
          -6.724725723266602,
          12.706405639648438,
          12.202852249145508,
          10.869941711425781,
          -5.8755388259887695,
          3.6315906047821045,
          14.933785438537598,
          11.698025703430176,
          7.364091873168945,
          14.956049919128418,
          -3.391986608505249,
          10.557029724121094,
          14.90485668182373,
          12.491987228393555,
          -6.71187162399292,
          14.858174324035645,
          -6.1336212158203125,
          5.439620018005371,
          -0.9962041974067688,
          -1.94100022315979,
          -3.2349841594696045,
          14.595579147338867,
          1.8230077028274536,
          0.18649737536907196,
          14.898104667663574,
          12.290692329406738,
          2.378282308578491,
          15.005938529968262,
          -2.7266340255737305,
          13.990774154663086,
          10.863265037536621,
          -1.5141057968139648,
          13.258139610290527,
          1.7480264902114868,
          1.0627635717391968,
          14.94399356842041,
          12.208442687988281,
          12.204611778259277,
          11.236483573913574,
          14.914216041564941,
          10.88089656829834,
          8.106161117553711,
          -0.8703745603561401,
          13.556915283203125,
          13.280177116394043,
          13.721960067749023,
          13.30985164642334,
          14.193266868591309,
          14.254010200500488,
          13.196601867675781,
          5.775235176086426,
          -1.1964232921600342,
          9.208219528198242,
          13.470864295959473,
          14.209083557128906,
          10.908820152282715,
          13.670454978942871,
          10.873006820678711,
          14.90716552734375,
          13.569993019104004,
          12.253706932067871,
          12.556991577148438,
          14.011180877685547,
          13.242835998535156,
          2.39544939994812,
          12.72580337524414,
          13.57945728302002,
          11.62549114227295,
          14.99709701538086,
          -0.34844493865966797,
          11.971559524536133,
          -1.1137478351593018,
          14.513884544372559,
          13.612268447875977,
          14.065321922302246,
          11.601325035095215,
          13.623282432556152,
          12.334465026855469,
          13.579830169677734,
          13.557019233703613,
          11.728912353515625,
          12.48784065246582,
          12.671063423156738,
          11.027715682983398,
          15.032306671142578,
          -1.5268774032592773,
          -5.61943244934082,
          14.08569049835205,
          13.506406784057617,
          10.636474609375,
          14.036667823791504,
          12.911026954650879,
          13.399335861206055,
          -1.145354151725769,
          11.634676933288574,
          14.884756088256836,
          -3.5039169788360596,
          12.457886695861816,
          -4.272037506103516,
          11.086565971374512,
          -4.40893030166626,
          -6.3830366134643555,
          14.908677101135254,
          12.208392143249512,
          -5.570568561553955,
          13.221866607666016,
          13.067106246948242,
          14.677448272705078,
          -6.309018135070801,
          -3.429077625274658,
          14.662622451782227,
          -2.153641700744629,
          14.410861015319824,
          -4.363740921020508,
          11.670534133911133,
          8.219931602478027,
          -6.294588565826416,
          14.930733680725098,
          11.684111595153809,
          12.935342788696289,
          10.884076118469238,
          11.6161470413208,
          11.656659126281738,
          12.878188133239746,
          11.62103271484375,
          14.686832427978516,
          5.721826076507568,
          -4.438014030456543,
          13.419217109680176,
          11.69932746887207,
          11.728653907775879,
          13.503698348999023,
          12.904619216918945,
          11.679356575012207,
          12.175310134887695,
          12.247580528259277,
          10.992470741271973,
          12.246237754821777,
          12.884686470031738,
          12.429961204528809,
          13.229681968688965,
          13.702618598937988,
          14.254913330078125,
          13.924443244934082,
          10.983412742614746,
          11.669157028198242,
          11.045748710632324,
          11.231708526611328,
          12.3848295211792,
          11.122075080871582,
          11.734509468078613,
          14.90764045715332,
          -3.230849504470825,
          14.115325927734375,
          13.70741081237793,
          14.213072776794434,
          11.351093292236328,
          14.24667739868164,
          14.25179386138916,
          8.108088493347168,
          13.873711585998535,
          13.62790584564209,
          13.696816444396973,
          14.182703971862793,
          13.42940616607666,
          9.685112953186035,
          11.795482635498047,
          10.26863956451416,
          11.842978477478027,
          -0.49052318930625916,
          12.19770336151123,
          -6.467530727386475,
          11.548070907592773,
          -2.2964539527893066,
          -1.7457038164138794,
          -2.476956844329834,
          -6.2782487869262695,
          14.263774871826172,
          13.691304206848145,
          12.2225923538208,
          12.087679862976074,
          12.849787712097168,
          14.367805480957031,
          13.05956745147705,
          -1.6926319599151611,
          12.569534301757812,
          10.901005744934082,
          13.767433166503906,
          13.266862869262695,
          12.16877555847168,
          12.288633346557617,
          13.371988296508789,
          1.9068611860275269,
          12.590171813964844,
          6.843516826629639,
          12.168950080871582,
          13.326578140258789,
          12.715045928955078,
          12.000411987304688,
          10.930706977844238,
          14.908153533935547,
          13.670705795288086,
          3.9656951427459717,
          11.258946418762207,
          -2.747434139251709,
          -0.4868888556957245,
          14.699052810668945,
          14.08156967163086,
          11.820719718933105,
          10.875859260559082,
          12.221585273742676,
          -1.5155421495437622,
          12.63039493560791,
          12.22690486907959,
          -1.5549228191375732,
          -0.5421915054321289,
          10.85256290435791,
          12.265329360961914,
          12.679965019226074,
          12.565829277038574,
          14.223273277282715,
          13.160929679870605,
          4.006378173828125,
          6.692944526672363,
          15.06446361541748,
          10.94343376159668,
          11.580947875976562,
          -6.120368957519531,
          12.410938262939453,
          12.20599365234375,
          14.357026100158691,
          -6.05482816696167,
          -2.107511281967163,
          0.5382128357887268,
          -3.566612720489502,
          -6.6352314949035645,
          -2.3052501678466797,
          2.7286112308502197,
          3.869835376739502,
          -2.2909183502197266,
          12.276970863342285,
          13.683680534362793,
          13.218107223510742,
          14.49351692199707,
          9.558428764343262,
          14.11917781829834,
          12.509519577026367,
          -0.3767981231212616,
          13.108981132507324,
          14.88976764678955,
          14.91634464263916,
          -2.436319589614868,
          12.62189769744873,
          12.36201286315918,
          15.002277374267578,
          11.501386642456055,
          14.251928329467773,
          13.650282859802246,
          13.691482543945312,
          11.010322570800781,
          11.68420124053955,
          14.030920028686523,
          11.450557708740234,
          -0.33285802602767944,
          14.965819358825684,
          10.879061698913574,
          11.113972663879395,
          14.030220031738281,
          10.924162864685059,
          13.709778785705566,
          11.544110298156738,
          14.157898902893066,
          10.882974624633789,
          13.851784706115723
         ],
         "xaxis": "x",
         "y": [
          -0.20037218928337097,
          -8.726821899414062,
          11.575217247009277,
          8.028229713439941,
          9.66246509552002,
          2.6715192794799805,
          15.403621673583984,
          15.98189926147461,
          15.89611530303955,
          -8.18199634552002,
          -11.363058090209961,
          19.826854705810547,
          -10.553823471069336,
          13.028543472290039,
          11.541726112365723,
          -8.099574089050293,
          -5.308126926422119,
          -12.619571685791016,
          15.42896842956543,
          15.867486953735352,
          15.4391450881958,
          -11.666911125183105,
          -5.897699356079102,
          -6.8704915046691895,
          -9.384202003479004,
          5.0304083824157715,
          -9.924111366271973,
          -8.52214241027832,
          -10.935415267944336,
          15.176661491394043,
          12.800227165222168,
          19.716182708740234,
          24.66326141357422,
          15.395268440246582,
          14.16730785369873,
          16.003414154052734,
          15.2423095703125,
          20.863628387451172,
          15.147486686706543,
          14.203766822814941,
          13.068134307861328,
          15.423497200012207,
          15.557432174682617,
          -10.878844261169434,
          13.947185516357422,
          13.785470008850098,
          15.971123695373535,
          14.389338493347168,
          15.991536140441895,
          15.450299263000488,
          15.579082489013672,
          1.7475497722625732,
          -9.090143203735352,
          -12.452509880065918,
          12.704163551330566,
          6.962937831878662,
          -8.870193481445312,
          -11.061193466186523,
          6.3265252113342285,
          -10.385025024414062,
          11.454585075378418,
          6.0582404136657715,
          -9.364481925964355,
          -6.432314872741699,
          -8.22009563446045,
          13.036727905273438,
          -6.457780361175537,
          15.408452987670898,
          15.121115684509277,
          15.38371467590332,
          6.904926300048828,
          5.3858771324157715,
          21.872488021850586,
          -8.442122459411621,
          -3.0191431045532227,
          8.597891807556152,
          5.7990336418151855,
          16.147815704345703,
          8.481292724609375,
          8.138644218444824,
          15.770973205566406,
          9.098830223083496,
          5.047562599182129,
          6.871775150299072,
          22.27568817138672,
          -9.133037567138672,
          6.352601528167725,
          -6.1592607498168945,
          4.950128078460693,
          8.72590160369873,
          0.40451571345329285,
          -10.313590049743652,
          4.86221981048584,
          1.6419984102249146,
          -11.55578899383545,
          19.54176139831543,
          -7.036134243011475,
          6.939403533935547,
          6.454748630523682,
          8.36474323272705,
          -10.309988975524902,
          -6.280219078063965,
          -11.445173263549805,
          -1.4421442747116089,
          -11.65048599243164,
          -1.8725926876068115,
          -5.84719181060791,
          13.230605125427246,
          0.6425760984420776,
          8.913958549499512,
          8.28137493133545,
          8.041400909423828,
          8.721609115600586,
          7.396397590637207,
          10.65546989440918,
          6.764228343963623,
          -6.991269111633301,
          15.971606254577637,
          2.1385345458984375,
          24.62824249267578,
          16.980287551879883,
          -11.399866104125977,
          13.394375801086426,
          -5.9680070877075195,
          -1.031698226928711,
          -9.908473014831543,
          6.880838394165039,
          -0.7827012538909912,
          -8.394694328308105,
          -6.224061012268066,
          -12.427233695983887,
          -11.469080924987793,
          18.674909591674805,
          15.49985122680664,
          8.300443649291992,
          6.7848944664001465,
          -2.7497003078460693,
          -11.537609100341797,
          19.667768478393555,
          -10.811006546020508,
          5.9218597412109375,
          18.068309783935547,
          8.392914772033691,
          12.739361763000488,
          11.529827117919922,
          24.621746063232422,
          -6.11404275894165,
          17.860807418823242,
          24.675445556640625,
          15.942471504211426,
          1.7277950048446655,
          -12.617234230041504,
          0.4594835638999939,
          -8.428877830505371,
          7.6112799644470215,
          -12.359796524047852,
          -0.6972767114639282,
          8.218905448913574,
          5.065811634063721,
          25.111318588256836,
          25.215715408325195,
          -10.77679443359375,
          18.838991165161133,
          -12.605141639709473,
          -5.9088616371154785,
          18.192949295043945,
          8.145627975463867,
          13.684741020202637,
          10.3110990524292,
          7.12099027633667,
          25.213254928588867,
          -3.9952645301818848,
          -10.858473777770996,
          13.107912063598633,
          -5.339166641235352,
          -0.024180665612220764,
          15.670501708984375,
          14.286970138549805,
          9.618802070617676,
          8.937015533447266,
          19.679950714111328,
          1.5218747854232788,
          24.77126121520996,
          -2.046670913696289,
          -0.4711875021457672,
          15.538208961486816,
          19.701082229614258,
          5.230477333068848,
          12.942034721374512,
          -6.115841865539551,
          15.969864845275879,
          -8.341253280639648,
          2.7528107166290283,
          0.23029226064682007,
          20.306310653686523,
          3.3781039714813232,
          -2.781670570373535,
          -6.506293296813965,
          22.22801399230957,
          14.421868324279785,
          -6.7093682289123535,
          -10.230008125305176,
          -9.315531730651855,
          22.261781692504883,
          -2.891618490219116,
          -3.513559579849243,
          -10.309443473815918,
          13.678762435913086,
          22.323753356933594,
          14.518545150756836,
          -7.690089702606201,
          13.60009479522705,
          3.2109482288360596,
          -12.217667579650879,
          -12.598501205444336,
          14.197932243347168,
          -9.843779563903809,
          -9.377801895141602,
          14.5263032913208,
          -2.608445405960083,
          -3.0728862285614014,
          -0.5270487666130066,
          22.29585838317871,
          -10.314213752746582,
          5.2801289558410645,
          13.666776657104492,
          0.46107032895088196,
          -6.911948204040527,
          16.292613983154297,
          -8.383472442626953,
          -8.44154167175293,
          17.74739646911621,
          8.171125411987305,
          10.65615463256836,
          10.027353286743164,
          -7.164369583129883,
          -12.435516357421875,
          24.9035701751709,
          10.027997970581055,
          -9.293194770812988,
          25.33919906616211,
          9.986300468444824,
          18.08986473083496,
          -4.035734176635742,
          -12.683058738708496,
          21.20973777770996,
          -8.025385856628418,
          -5.972610950469971,
          -8.289551734924316,
          24.602048873901367,
          10.64610767364502,
          25.283552169799805,
          -3.199583053588867,
          -12.598965644836426,
          -2.7914915084838867,
          3.4044454097747803,
          16.171052932739258,
          13.016196250915527,
          25.27180290222168,
          16.638784408569336,
          -9.906349182128906,
          -9.28702449798584,
          16.901580810546875,
          8.622603416442871,
          24.98874282836914,
          17.95029067993164,
          25.107498168945312,
          -5.8318705558776855,
          17.520944595336914,
          1.7454513311386108,
          -11.449028015136719,
          7.43764591217041,
          9.177969932556152,
          7.125083923339844,
          -11.189573287963867,
          7.483147144317627,
          24.887351989746094,
          16.355003356933594,
          -6.977837085723877,
          4.794103145599365,
          18.56304931640625,
          24.827024459838867,
          -3.9871482849121094,
          -12.459680557250977,
          5.413064956665039,
          -7.237437725067139,
          20.9157657623291,
          -0.17847073078155518,
          22.26656723022461,
          -12.580007553100586,
          5.4607110023498535,
          6.802712917327881,
          7.00078010559082,
          -3.8706986904144287,
          25.13932991027832,
          22.205257415771484,
          -10.316219329833984,
          20.909448623657227,
          9.064011573791504,
          22.243270874023438,
          20.889442443847656,
          -5.834343433380127,
          -4.933342456817627,
          12.925701141357422,
          19.834779739379883,
          -10.467415809631348,
          -10.314204216003418,
          12.989896774291992,
          12.976237297058105,
          8.220865249633789,
          13.68336009979248,
          3.0195279121398926,
          22.169811248779297,
          10.655586242675781,
          10.665966987609863,
          8.287176132202148,
          16.715328216552734,
          -12.65535831451416,
          14.122176170349121,
          14.034976959228516,
          7.295588493347168,
          8.039717674255371,
          10.08518123626709,
          -7.271982669830322,
          8.338448524475098,
          9.426342010498047,
          5.71162748336792,
          -8.115381240844727,
          20.34971809387207,
          -12.654205322265625,
          14.335371971130371,
          -12.437567710876465,
          10.726780891418457,
          7.623009204864502,
          8.443570137023926,
          10.664711952209473,
          10.05111312866211,
          13.778559684753418,
          9.443367004394531,
          13.770994186401367,
          -11.637657165527344,
          -12.438995361328125,
          15.093994140625,
          -12.61722183227539,
          -11.5366849899292,
          -6.09559440612793,
          -11.510250091552734,
          -12.538459777832031,
          -10.242213249206543,
          -9.116665840148926,
          -10.252741813659668,
          -11.48966121673584,
          -7.301928520202637,
          -0.8560545444488525,
          -6.45703125,
          -6.47296667098999,
          15.503174781799316,
          11.455660820007324,
          15.1200532913208,
          -12.188562393188477,
          -6.988152980804443,
          -10.264352798461914,
          -6.103084564208984,
          -8.866562843322754,
          0.33655455708503723,
          6.892043590545654,
          20.208345413208008,
          8.567794799804688,
          -11.553934097290039,
          13.426817893981934,
          -12.154424667358398,
          14.205790519714355,
          -6.250197887420654,
          -12.409116744995117,
          -9.782307624816895,
          15.577534675598145,
          5.09176778793335,
          -6.183393955230713,
          4.894705772399902,
          -0.13087642192840576,
          -0.7830279469490051,
          12.381376266479492,
          13.685437202453613,
          -10.263503074645996,
          5.204047679901123,
          -1.841537356376648,
          12.70535659790039,
          8.24302864074707,
          3.0096993446350098,
          -12.630859375,
          2.4485981464385986,
          -7.062359809875488,
          -6.164242744445801,
          -1.398109793663025,
          20.93026351928711,
          -0.5774267315864563,
          -12.678117752075195,
          -1.9324296712875366,
          -8.079895973205566,
          12.616555213928223,
          24.570472717285156,
          -9.163726806640625,
          -6.532853126525879,
          -12.283770561218262,
          -6.384288311004639,
          -10.281255722045898,
          -12.228446006774902,
          -12.409446716308594,
          -6.630889892578125,
          7.9423041343688965,
          -8.116538047790527,
          -0.7545722723007202,
          -5.992647171020508,
          6.270561695098877,
          -12.315719604492188,
          5.887265205383301,
          1.754899501800537,
          19.49831771850586,
          -6.808327674865723,
          18.660722732543945,
          -6.945009708404541,
          8.236067771911621,
          4.992697715759277,
          -5.818665027618408,
          6.918822288513184,
          -11.411615371704102,
          -0.7529899477958679,
          2.9759809970855713,
          -6.206977367401123,
          -12.2083740234375,
          13.842530250549316,
          5.873579502105713,
          -6.414646148681641,
          -8.436056137084961,
          -6.743147373199463,
          -1.021213412284851,
          6.633937835693359,
          4.745716094970703,
          -6.22828483581543,
          -0.780536949634552,
          -0.787497341632843,
          -8.07828140258789,
          -10.424683570861816,
          -6.243670463562012,
          2.9184908866882324,
          4.93091344833374,
          8.348461151123047,
          -7.094302177429199,
          -12.559920310974121,
          -10.40439510345459,
          -8.068032264709473,
          6.775043964385986,
          15.604418754577637,
          -6.2052001953125,
          -9.481098175048828,
          -0.5796114802360535,
          -11.369214057922363,
          2.905054807662964,
          13.128266334533691,
          -7.095434665679932,
          -7.87562370300293,
          -12.193963050842285,
          -4.529978275299072,
          -3.5424883365631104,
          -3.0300796031951904,
          -10.82815933227539,
          2.739860773086548,
          6.936370849609375,
          7.8667755126953125,
          -1.0709909200668335,
          8.596914291381836,
          -10.790611267089844,
          -2.3348069190979004,
          5.0041327476501465,
          1.6874728202819824,
          -1.0301401615142822,
          17.47661590576172,
          10.0110502243042,
          3.2793400287628174,
          13.107978820800781,
          -12.431499481201172,
          5.942079544067383,
          -10.583067893981934,
          -5.976795196533203,
          1.7508749961853027,
          -6.193208694458008,
          6.932833194732666,
          1.6980482339859009,
          -9.217696189880371,
          -0.24448572099208832,
          6.3102641105651855,
          21.81130027770996,
          0.08594518899917603,
          -12.510003089904785,
          -6.127511978149414,
          5.901952743530273,
          7.475075721740723,
          2.9711551666259766,
          2.928957939147949,
          10.443940162658691,
          -0.6072481870651245,
          5.26575231552124,
          -0.22342436015605927,
          15.170435905456543,
          -5.863178253173828,
          15.142786979675293,
          3.3993914127349854,
          8.005011558532715,
          0.05129667744040489,
          2.647059917449951,
          -0.551257312297821,
          5.0789570808410645,
          15.1819429397583,
          7.420135974884033,
          -6.249273300170898,
          24.933120727539062,
          -8.09240436553955,
          -8.180098533630371,
          21.275897979736328,
          20.84854507446289,
          -5.987216472625732,
          12.6763277053833,
          -1.0327180624008179,
          11.557793617248535,
          -6.9219512939453125,
          16.750232696533203,
          10.524353981018066,
          16.533302307128906,
          9.80101490020752,
          10.784066200256348,
          10.626542091369629,
          -6.684059143066406,
          -1.037279486656189,
          17.53496551513672,
          -6.210663318634033,
          12.742600440979004,
          14.056620597839355,
          20.82269287109375,
          -5.508664608001709,
          2.065924882888794,
          11.533442497253418,
          -6.396175861358643,
          10.458703994750977,
          -7.3643903732299805,
          1.4716739654541016,
          -2.568441390991211,
          -7.069743633270264,
          -6.67625617980957,
          -7.795274257659912,
          14.432998657226562,
          -7.545400619506836,
          20.20838165283203,
          15.986626625061035,
          8.04693603515625,
          9.046579360961914,
          8.011082649230957,
          7.54075813293457,
          10.321677207946777,
          8.100645065307617,
          7.038997650146484,
          10.302709579467773,
          -4.578647613525391,
          -11.452154159545898,
          18.01106834411621,
          -10.778944969177246,
          0.39893272519111633,
          9.748603820800781,
          1.924688696861267,
          18.720022201538086,
          0.06125257909297943,
          9.92405891418457,
          10.698301315307617,
          7.602462291717529,
          13.659483909606934,
          12.013749122619629,
          10.734810829162598,
          13.521855354309082,
          -7.895569801330566,
          -3.116765022277832,
          1.6463916301727295,
          9.960142135620117,
          -5.992475509643555,
          -0.5834153890609741,
          21.089035034179688,
          -12.665453910827637,
          -6.8772993087768555,
          -9.902159690856934,
          13.556440353393555,
          2.820801258087158,
          6.351304054260254,
          -8.778141975402832,
          -12.583566665649414,
          24.569541931152344,
          1.0444892644882202,
          -6.121734619140625,
          -12.425469398498535,
          -0.3399617075920105,
          -4.622272491455078,
          -12.606367111206055,
          12.761672973632812,
          -9.20043659210205,
          -6.544444561004639,
          12.816061019897461,
          -9.097684860229492,
          -11.33821964263916,
          -6.18580436706543,
          0.16229858994483948,
          -10.134364128112793,
          6.254478454589844,
          14.325453758239746,
          -9.275819778442383,
          12.488898277282715,
          13.901147842407227,
          -2.216770887374878,
          9.221272468566895,
          9.248848915100098,
          -10.996855735778809,
          20.816627502441406,
          -4.816745758056641,
          -12.493947982788086,
          21.8314208984375,
          6.629417896270752,
          -8.397053718566895,
          21.181604385375977,
          -0.4313514530658722,
          12.532995223999023,
          18.012622833251953,
          9.80373477935791,
          -12.392878532409668,
          24.798988342285156,
          5.272823810577393,
          0.4486907124519348,
          17.36191177368164,
          -7.94701623916626,
          -6.568972110748291,
          18.756616592407227,
          -1.371588110923767,
          -9.145755767822266,
          22.21967887878418,
          15.937158584594727,
          16.35653305053711,
          9.323807716369629,
          3.1205668449401855,
          6.698060512542725,
          -7.8573431968688965,
          -7.096131801605225,
          20.744903564453125,
          -2.2550604343414307,
          -1.8731118440628052,
          -6.322917461395264,
          20.397567749023438,
          9.230036735534668,
          -12.192667007446289,
          24.924531936645508,
          6.394628047943115,
          1.2542579174041748,
          6.1944427490234375,
          6.645410537719727,
          4.933600902557373,
          4.526079177856445,
          1.0820709466934204,
          -12.606968879699707,
          24.598920822143555,
          -11.46369457244873,
          6.486518859863281,
          4.813045501708984,
          9.901188850402832,
          6.268599033355713,
          9.284808158874512,
          21.15321159362793,
          1.9337605237960815,
          -3.0053372383117676,
          -0.1551244556903839,
          5.625007152557373,
          6.712373733520508,
          -9.17009162902832,
          0.10227254033088684,
          1.9818679094314575,
          -5.0594377517700195,
          22.17200469970703,
          -6.404486179351807,
          -3.9914801120758057,
          24.68040657043457,
          17.21772003173828,
          6.335830211639404,
          16.47207260131836,
          11.878087997436523,
          2.0483274459838867,
          7.438175201416016,
          15.729034423828125,
          6.393085956573486,
          -4.6324687004089355,
          13.437154769897461,
          -0.012035475112497807,
          -6.897360801696777,
          22.26148223876953,
          3.077890396118164,
          8.77865219116211,
          16.503311157226562,
          1.7769471406936646,
          -8.229514122009277,
          16.425167083740234,
          6.994719982147217,
          15.44836711883545,
          -6.2717604637146,
          -4.972912311553955,
          18.397079467773438,
          0.03535017743706703,
          -0.50413578748703,
          15.224825859069824,
          -6.759929656982422,
          7.49129581451416,
          10.466232299804688,
          21.191179275512695,
          -3.193122148513794,
          14.495633125305176,
          1.1253159046173096,
          0.8295081257820129,
          17.46917724609375,
          13.7237548828125,
          0.1470659226179123,
          17.554887771606445,
          5.510073184967041,
          17.003921508789062,
          15.150971412658691,
          -4.872659683227539,
          -12.104134559631348,
          13.768902778625488,
          18.85186004638672,
          -4.836026191711426,
          0.5761412382125854,
          9.258312225341797,
          11.884263038635254,
          11.944585800170898,
          0.45807531476020813,
          -5.113711833953857,
          17.583084106445312,
          -12.58765983581543,
          15.09811019897461,
          15.47961139678955,
          12.015361785888672,
          12.076010704040527,
          15.588973999023438,
          6.994492053985596,
          11.984416007995605,
          7.579216957092285,
          7.517895698547363,
          10.333395957946777,
          13.02059268951416,
          0.46072059869766235,
          -0.6215794682502747,
          1.1404293775558472,
          2.176825523376465,
          4.506313800811768,
          5.814848899841309,
          9.038519859313965,
          11.965760231018066,
          10.64258098602295,
          11.026843070983887,
          7.392190933227539,
          10.761029243469238,
          -4.627578258514404,
          19.250965118408203,
          0.4594323933124542,
          5.415070056915283,
          2.184978723526001,
          4.6777849197387695,
          -6.018498420715332,
          4.559137344360352,
          4.566307544708252,
          -12.186728477478027,
          5.903631687164307,
          6.313039302825928,
          2.1811370849609375,
          5.050805568695068,
          15.477235794067383,
          -10.843854904174805,
          -4.45355224609375,
          -9.363582611083984,
          -4.351071834564209,
          25.302831649780273,
          -2.408726215362549,
          10.788912773132324,
          -5.4375715255737305,
          -5.9654998779296875,
          -6.160446643829346,
          5.851138114929199,
          13.790168762207031,
          4.564067840576172,
          2.2150018215179443,
          7.540160655975342,
          -3.6755616664886475,
          0.42606163024902344,
          16.955522537231445,
          0.814762532711029,
          2.760916233062744,
          13.543585777282715,
          9.83556842803955,
          2.318509101867676,
          6.685594081878662,
          -3.3661608695983887,
          -1.38522207736969,
          15.395552635192871,
          -8.049224853515625,
          -0.24880267679691315,
          -12.539864540100098,
          -3.3594677448272705,
          1.3583694696426392,
          0.1407230943441391,
          -3.8845760822296143,
          10.003382682800293,
          19.253246307373047,
          2.1409647464752197,
          -11.374913215637207,
          8.57180404663086,
          15.934123992919922,
          25.306516647338867,
          17.586769104003906,
          5.466749668121338,
          7.897633075714111,
          9.562307357788086,
          -2.4139559268951416,
          3.3485844135284424,
          -0.12153687328100204,
          -1.75626802444458,
          2.9972147941589355,
          25.251298904418945,
          -7.325275897979736,
          -1.5031334161758423,
          -0.029649008065462112,
          -0.22825296223163605,
          4.816431045532227,
          1.017457365989685,
          -11.416891098022461,
          -12.58964729309082,
          22.282203674316406,
          9.09574031829834,
          8.126019477844238,
          9.744384765625,
          -0.7143299579620361,
          -1.8250329494476318,
          16.941251754760742,
          9.68002700805664,
          5.462615489959717,
          -6.720336437225342,
          -0.05925816297531128,
          11.447358131408691,
          1.7245304584503174,
          -9.821782112121582,
          -11.271480560302734,
          1.7444350719451904,
          -2.691303253173828,
          6.243906497955322,
          1.11106538772583,
          17.186229705810547,
          -11.010174751281738,
          5.364753723144531,
          13.447427749633789,
          -6.400323390960693,
          6.82460355758667,
          19.664661407470703,
          21.3311767578125,
          -5.8558173179626465,
          13.653366088867188,
          -0.935279130935669,
          22.27785301208496,
          -5.581415176391602,
          4.5824151039123535,
          6.283237934112549,
          2.175442934036255,
          10.366371154785156,
          11.995281219482422,
          5.575207710266113,
          -5.869229316711426,
          -6.39661979675293,
          22.182889938354492,
          9.271193504333496,
          10.767349243164062,
          5.558968544006348,
          9.072484970092773,
          6.209702014923096,
          11.748260498046875,
          5.213210105895996,
          -7.2644853591918945,
          5.9474897384643555
         ],
         "yaxis": "y"
        }
       ],
       "layout": {
        "coloraxis": {
         "colorbar": {
          "title": {
           "text": "Topic"
          }
         },
         "colorscale": [
          [
           0,
           "#0d0887"
          ],
          [
           0.1111111111111111,
           "#46039f"
          ],
          [
           0.2222222222222222,
           "#7201a8"
          ],
          [
           0.3333333333333333,
           "#9c179e"
          ],
          [
           0.4444444444444444,
           "#bd3786"
          ],
          [
           0.5555555555555556,
           "#d8576b"
          ],
          [
           0.6666666666666666,
           "#ed7953"
          ],
          [
           0.7777777777777778,
           "#fb9f3a"
          ],
          [
           0.8888888888888888,
           "#fdca26"
          ],
          [
           1,
           "#f0f921"
          ]
         ]
        },
        "legend": {
         "tracegroupgap": 0
        },
        "template": {
         "data": {
          "bar": [
           {
            "error_x": {
             "color": "#2a3f5f"
            },
            "error_y": {
             "color": "#2a3f5f"
            },
            "marker": {
             "line": {
              "color": "#E5ECF6",
              "width": 0.5
             },
             "pattern": {
              "fillmode": "overlay",
              "size": 10,
              "solidity": 0.2
             }
            },
            "type": "bar"
           }
          ],
          "barpolar": [
           {
            "marker": {
             "line": {
              "color": "#E5ECF6",
              "width": 0.5
             },
             "pattern": {
              "fillmode": "overlay",
              "size": 10,
              "solidity": 0.2
             }
            },
            "type": "barpolar"
           }
          ],
          "carpet": [
           {
            "aaxis": {
             "endlinecolor": "#2a3f5f",
             "gridcolor": "white",
             "linecolor": "white",
             "minorgridcolor": "white",
             "startlinecolor": "#2a3f5f"
            },
            "baxis": {
             "endlinecolor": "#2a3f5f",
             "gridcolor": "white",
             "linecolor": "white",
             "minorgridcolor": "white",
             "startlinecolor": "#2a3f5f"
            },
            "type": "carpet"
           }
          ],
          "choropleth": [
           {
            "colorbar": {
             "outlinewidth": 0,
             "ticks": ""
            },
            "type": "choropleth"
           }
          ],
          "contour": [
           {
            "colorbar": {
             "outlinewidth": 0,
             "ticks": ""
            },
            "colorscale": [
             [
              0,
              "#0d0887"
             ],
             [
              0.1111111111111111,
              "#46039f"
             ],
             [
              0.2222222222222222,
              "#7201a8"
             ],
             [
              0.3333333333333333,
              "#9c179e"
             ],
             [
              0.4444444444444444,
              "#bd3786"
             ],
             [
              0.5555555555555556,
              "#d8576b"
             ],
             [
              0.6666666666666666,
              "#ed7953"
             ],
             [
              0.7777777777777778,
              "#fb9f3a"
             ],
             [
              0.8888888888888888,
              "#fdca26"
             ],
             [
              1,
              "#f0f921"
             ]
            ],
            "type": "contour"
           }
          ],
          "contourcarpet": [
           {
            "colorbar": {
             "outlinewidth": 0,
             "ticks": ""
            },
            "type": "contourcarpet"
           }
          ],
          "heatmap": [
           {
            "colorbar": {
             "outlinewidth": 0,
             "ticks": ""
            },
            "colorscale": [
             [
              0,
              "#0d0887"
             ],
             [
              0.1111111111111111,
              "#46039f"
             ],
             [
              0.2222222222222222,
              "#7201a8"
             ],
             [
              0.3333333333333333,
              "#9c179e"
             ],
             [
              0.4444444444444444,
              "#bd3786"
             ],
             [
              0.5555555555555556,
              "#d8576b"
             ],
             [
              0.6666666666666666,
              "#ed7953"
             ],
             [
              0.7777777777777778,
              "#fb9f3a"
             ],
             [
              0.8888888888888888,
              "#fdca26"
             ],
             [
              1,
              "#f0f921"
             ]
            ],
            "type": "heatmap"
           }
          ],
          "heatmapgl": [
           {
            "colorbar": {
             "outlinewidth": 0,
             "ticks": ""
            },
            "colorscale": [
             [
              0,
              "#0d0887"
             ],
             [
              0.1111111111111111,
              "#46039f"
             ],
             [
              0.2222222222222222,
              "#7201a8"
             ],
             [
              0.3333333333333333,
              "#9c179e"
             ],
             [
              0.4444444444444444,
              "#bd3786"
             ],
             [
              0.5555555555555556,
              "#d8576b"
             ],
             [
              0.6666666666666666,
              "#ed7953"
             ],
             [
              0.7777777777777778,
              "#fb9f3a"
             ],
             [
              0.8888888888888888,
              "#fdca26"
             ],
             [
              1,
              "#f0f921"
             ]
            ],
            "type": "heatmapgl"
           }
          ],
          "histogram": [
           {
            "marker": {
             "pattern": {
              "fillmode": "overlay",
              "size": 10,
              "solidity": 0.2
             }
            },
            "type": "histogram"
           }
          ],
          "histogram2d": [
           {
            "colorbar": {
             "outlinewidth": 0,
             "ticks": ""
            },
            "colorscale": [
             [
              0,
              "#0d0887"
             ],
             [
              0.1111111111111111,
              "#46039f"
             ],
             [
              0.2222222222222222,
              "#7201a8"
             ],
             [
              0.3333333333333333,
              "#9c179e"
             ],
             [
              0.4444444444444444,
              "#bd3786"
             ],
             [
              0.5555555555555556,
              "#d8576b"
             ],
             [
              0.6666666666666666,
              "#ed7953"
             ],
             [
              0.7777777777777778,
              "#fb9f3a"
             ],
             [
              0.8888888888888888,
              "#fdca26"
             ],
             [
              1,
              "#f0f921"
             ]
            ],
            "type": "histogram2d"
           }
          ],
          "histogram2dcontour": [
           {
            "colorbar": {
             "outlinewidth": 0,
             "ticks": ""
            },
            "colorscale": [
             [
              0,
              "#0d0887"
             ],
             [
              0.1111111111111111,
              "#46039f"
             ],
             [
              0.2222222222222222,
              "#7201a8"
             ],
             [
              0.3333333333333333,
              "#9c179e"
             ],
             [
              0.4444444444444444,
              "#bd3786"
             ],
             [
              0.5555555555555556,
              "#d8576b"
             ],
             [
              0.6666666666666666,
              "#ed7953"
             ],
             [
              0.7777777777777778,
              "#fb9f3a"
             ],
             [
              0.8888888888888888,
              "#fdca26"
             ],
             [
              1,
              "#f0f921"
             ]
            ],
            "type": "histogram2dcontour"
           }
          ],
          "mesh3d": [
           {
            "colorbar": {
             "outlinewidth": 0,
             "ticks": ""
            },
            "type": "mesh3d"
           }
          ],
          "parcoords": [
           {
            "line": {
             "colorbar": {
              "outlinewidth": 0,
              "ticks": ""
             }
            },
            "type": "parcoords"
           }
          ],
          "pie": [
           {
            "automargin": true,
            "type": "pie"
           }
          ],
          "scatter": [
           {
            "fillpattern": {
             "fillmode": "overlay",
             "size": 10,
             "solidity": 0.2
            },
            "type": "scatter"
           }
          ],
          "scatter3d": [
           {
            "line": {
             "colorbar": {
              "outlinewidth": 0,
              "ticks": ""
             }
            },
            "marker": {
             "colorbar": {
              "outlinewidth": 0,
              "ticks": ""
             }
            },
            "type": "scatter3d"
           }
          ],
          "scattercarpet": [
           {
            "marker": {
             "colorbar": {
              "outlinewidth": 0,
              "ticks": ""
             }
            },
            "type": "scattercarpet"
           }
          ],
          "scattergeo": [
           {
            "marker": {
             "colorbar": {
              "outlinewidth": 0,
              "ticks": ""
             }
            },
            "type": "scattergeo"
           }
          ],
          "scattergl": [
           {
            "marker": {
             "colorbar": {
              "outlinewidth": 0,
              "ticks": ""
             }
            },
            "type": "scattergl"
           }
          ],
          "scattermapbox": [
           {
            "marker": {
             "colorbar": {
              "outlinewidth": 0,
              "ticks": ""
             }
            },
            "type": "scattermapbox"
           }
          ],
          "scatterpolar": [
           {
            "marker": {
             "colorbar": {
              "outlinewidth": 0,
              "ticks": ""
             }
            },
            "type": "scatterpolar"
           }
          ],
          "scatterpolargl": [
           {
            "marker": {
             "colorbar": {
              "outlinewidth": 0,
              "ticks": ""
             }
            },
            "type": "scatterpolargl"
           }
          ],
          "scatterternary": [
           {
            "marker": {
             "colorbar": {
              "outlinewidth": 0,
              "ticks": ""
             }
            },
            "type": "scatterternary"
           }
          ],
          "surface": [
           {
            "colorbar": {
             "outlinewidth": 0,
             "ticks": ""
            },
            "colorscale": [
             [
              0,
              "#0d0887"
             ],
             [
              0.1111111111111111,
              "#46039f"
             ],
             [
              0.2222222222222222,
              "#7201a8"
             ],
             [
              0.3333333333333333,
              "#9c179e"
             ],
             [
              0.4444444444444444,
              "#bd3786"
             ],
             [
              0.5555555555555556,
              "#d8576b"
             ],
             [
              0.6666666666666666,
              "#ed7953"
             ],
             [
              0.7777777777777778,
              "#fb9f3a"
             ],
             [
              0.8888888888888888,
              "#fdca26"
             ],
             [
              1,
              "#f0f921"
             ]
            ],
            "type": "surface"
           }
          ],
          "table": [
           {
            "cells": {
             "fill": {
              "color": "#EBF0F8"
             },
             "line": {
              "color": "white"
             }
            },
            "header": {
             "fill": {
              "color": "#C8D4E3"
             },
             "line": {
              "color": "white"
             }
            },
            "type": "table"
           }
          ]
         },
         "layout": {
          "annotationdefaults": {
           "arrowcolor": "#2a3f5f",
           "arrowhead": 0,
           "arrowwidth": 1
          },
          "autotypenumbers": "strict",
          "coloraxis": {
           "colorbar": {
            "outlinewidth": 0,
            "ticks": ""
           }
          },
          "colorscale": {
           "diverging": [
            [
             0,
             "#8e0152"
            ],
            [
             0.1,
             "#c51b7d"
            ],
            [
             0.2,
             "#de77ae"
            ],
            [
             0.3,
             "#f1b6da"
            ],
            [
             0.4,
             "#fde0ef"
            ],
            [
             0.5,
             "#f7f7f7"
            ],
            [
             0.6,
             "#e6f5d0"
            ],
            [
             0.7,
             "#b8e186"
            ],
            [
             0.8,
             "#7fbc41"
            ],
            [
             0.9,
             "#4d9221"
            ],
            [
             1,
             "#276419"
            ]
           ],
           "sequential": [
            [
             0,
             "#0d0887"
            ],
            [
             0.1111111111111111,
             "#46039f"
            ],
            [
             0.2222222222222222,
             "#7201a8"
            ],
            [
             0.3333333333333333,
             "#9c179e"
            ],
            [
             0.4444444444444444,
             "#bd3786"
            ],
            [
             0.5555555555555556,
             "#d8576b"
            ],
            [
             0.6666666666666666,
             "#ed7953"
            ],
            [
             0.7777777777777778,
             "#fb9f3a"
            ],
            [
             0.8888888888888888,
             "#fdca26"
            ],
            [
             1,
             "#f0f921"
            ]
           ],
           "sequentialminus": [
            [
             0,
             "#0d0887"
            ],
            [
             0.1111111111111111,
             "#46039f"
            ],
            [
             0.2222222222222222,
             "#7201a8"
            ],
            [
             0.3333333333333333,
             "#9c179e"
            ],
            [
             0.4444444444444444,
             "#bd3786"
            ],
            [
             0.5555555555555556,
             "#d8576b"
            ],
            [
             0.6666666666666666,
             "#ed7953"
            ],
            [
             0.7777777777777778,
             "#fb9f3a"
            ],
            [
             0.8888888888888888,
             "#fdca26"
            ],
            [
             1,
             "#f0f921"
            ]
           ]
          },
          "colorway": [
           "#636efa",
           "#EF553B",
           "#00cc96",
           "#ab63fa",
           "#FFA15A",
           "#19d3f3",
           "#FF6692",
           "#B6E880",
           "#FF97FF",
           "#FECB52"
          ],
          "font": {
           "color": "#2a3f5f"
          },
          "geo": {
           "bgcolor": "white",
           "lakecolor": "white",
           "landcolor": "#E5ECF6",
           "showlakes": true,
           "showland": true,
           "subunitcolor": "white"
          },
          "hoverlabel": {
           "align": "left"
          },
          "hovermode": "closest",
          "mapbox": {
           "style": "light"
          },
          "paper_bgcolor": "white",
          "plot_bgcolor": "#E5ECF6",
          "polar": {
           "angularaxis": {
            "gridcolor": "white",
            "linecolor": "white",
            "ticks": ""
           },
           "bgcolor": "#E5ECF6",
           "radialaxis": {
            "gridcolor": "white",
            "linecolor": "white",
            "ticks": ""
           }
          },
          "scene": {
           "xaxis": {
            "backgroundcolor": "#E5ECF6",
            "gridcolor": "white",
            "gridwidth": 2,
            "linecolor": "white",
            "showbackground": true,
            "ticks": "",
            "zerolinecolor": "white"
           },
           "yaxis": {
            "backgroundcolor": "#E5ECF6",
            "gridcolor": "white",
            "gridwidth": 2,
            "linecolor": "white",
            "showbackground": true,
            "ticks": "",
            "zerolinecolor": "white"
           },
           "zaxis": {
            "backgroundcolor": "#E5ECF6",
            "gridcolor": "white",
            "gridwidth": 2,
            "linecolor": "white",
            "showbackground": true,
            "ticks": "",
            "zerolinecolor": "white"
           }
          },
          "shapedefaults": {
           "line": {
            "color": "#2a3f5f"
           }
          },
          "ternary": {
           "aaxis": {
            "gridcolor": "white",
            "linecolor": "white",
            "ticks": ""
           },
           "baxis": {
            "gridcolor": "white",
            "linecolor": "white",
            "ticks": ""
           },
           "bgcolor": "#E5ECF6",
           "caxis": {
            "gridcolor": "white",
            "linecolor": "white",
            "ticks": ""
           }
          },
          "title": {
           "x": 0.05
          },
          "xaxis": {
           "automargin": true,
           "gridcolor": "white",
           "linecolor": "white",
           "ticks": "",
           "title": {
            "standoff": 15
           },
           "zerolinecolor": "white",
           "zerolinewidth": 2
          },
          "yaxis": {
           "automargin": true,
           "gridcolor": "white",
           "linecolor": "white",
           "ticks": "",
           "title": {
            "standoff": 15
           },
           "zerolinecolor": "white",
           "zerolinewidth": 2
          }
         }
        },
        "title": {
         "text": "UMAP Visualization of BERTopic Clusters (n_neighbors=50, n_components=2)"
        },
        "xaxis": {
         "anchor": "y",
         "domain": [
          0,
          1
         ],
         "title": {
          "text": "UMAP Dimension 1"
         }
        },
        "yaxis": {
         "anchor": "x",
         "domain": [
          0,
          1
         ],
         "title": {
          "text": "UMAP Dimension 2"
         }
        }
       }
      }
     },
     "metadata": {},
     "output_type": "display_data"
    },
    {
     "data": {
      "application/vnd.plotly.v1+json": {
       "config": {
        "plotlyServerURL": "https://plot.ly"
       },
       "data": [
        {
         "customdata": [
          [
           0,
           "Published research papers on AI training compute trends"
          ],
          [
           0,
           "Reports from industry analysts like SemiAnalysis"
          ],
          [
           2,
           "Data from cloud computing providers like AWS, Azure, and Google Cloud"
          ],
          [
           0,
           "Financial reports from companies investing in AI infrastructure"
          ],
          [
           0,
           "Analysis of AI hardware and software costs"
          ],
          [
           0,
           "Economic models forecasting AI infrastructure expenditure"
          ],
          [
           2,
           "Reports on renewable energy deployment and capacity"
          ],
          [
           2,
           "Studies on the integration of renewable energy into data centers"
          ],
          [
           2,
           "Analysis of the cost and efficiency of renewable energy technologies"
          ],
          [
           0,
           "Research papers on AI algorithm efficiency improvements"
          ],
          [
           0,
           "Technical reports on new AI hardware designs"
          ],
          [
           1,
           "Forecasts for future developments in AI technology"
          ],
          [
           0,
           "Reports on AI hardware advancements"
          ],
          [
           2,
           "Data on AI training compute power usage"
          ],
          [
           2,
           "Analysis of AI model size and complexity"
          ],
          [
           0,
           "Research papers on AI algorithm efficiency"
          ],
          [
           0,
           "Publications on AI optimization techniques"
          ],
          [
           0,
           "Industry reports on advancements in AI training software"
          ],
          [
           2,
           "Reports on renewable energy cost trends"
          ],
          [
           2,
           "Analysis of the economic feasibility of renewable energy for data centers"
          ],
          [
           2,
           "Studies on the impact of renewable energy on the AI industry"
          ],
          [
           0,
           "Market research on AI product adoption"
          ],
          [
           0,
           "Economic forecasts for the AI industry"
          ],
          [
           0,
           "Analysis of consumer demand for AI-powered services"
          ],
          [
           0,
           "Market research reports on semiconductor industry trends"
          ],
          [
           0,
           "Analyst projections for AI hardware development"
          ],
          [
           0,
           "Technical papers on limitations of current and future chip technologies"
          ],
          [
           0,
           "Research papers on AI energy efficiency"
          ],
          [
           0,
           "Industry reports on advancements in AI hardware and software"
          ],
          [
           2,
           "Data on historical trends in energy consumption per AI task"
          ],
          [
           2,
           "Industry data on the ratio of training to inference compute usage"
          ],
          [
           1,
           "Analyst predictions on the future of AI deployment and application"
          ],
          [
           2,
           "Case studies of AI applications and their energy consumption"
          ],
          [
           2,
           "Government policies and investment plans related to renewable energy"
          ],
          [
           2,
           "Industry reports on energy storage technology development"
          ],
          [
           2,
           "Analysis of the feasibility of integrating renewable energy into large-scale data centers"
          ],
          [
           2,
           "Data on historical trends in energy consumption and electricity production"
          ],
          [
           1,
           "Expert opinions and predictions on the future of AI and energy"
          ],
          [
           2,
           "Analysis of the interplay between AI growth, energy consumption, and policy interventions"
          ],
          [
           2,
           "Energy projections and forecasts for the next decade"
          ],
          [
           2,
           "Studies on the energy requirements of AI training and inference"
          ],
          [
           2,
           "Reports on renewable energy production capacity and growth"
          ],
          [
           2,
           "Data on electricity consumption in major data centers"
          ],
          [
           0,
           "Research papers on energy-efficient AI hardware and software"
          ],
          [
           2,
           "Industry reports on energy storage technologies"
          ],
          [
           2,
           "Forecasts of future energy efficiency improvements"
          ],
          [
           2,
           "Research papers on data center design and optimization"
          ],
          [
           2,
           "Industry reports on data center construction and capacity"
          ],
          [
           2,
           "Case studies of large-scale data center projects"
          ],
          [
           2,
           "Investment trends in renewable energy"
          ],
          [
           2,
           "Government policies and incentives related to renewable energy"
          ],
          [
           0,
           "Reports on the economic impact of AI infrastructure"
          ],
          [
           0,
           "Research papers on AI algorithms and architectures"
          ],
          [
           0,
           "Industry reports on advancements in AI efficiency"
          ],
          [
           2,
           "Data on the computational requirements of different AI models"
          ],
          [
           0,
           "Published articles or reports from The Information"
          ],
          [
           0,
           "Press releases or announcements from OpenAI and Microsoft"
          ],
          [
           0,
           "Industry news and analysis websites covering AI and cloud computing"
          ],
          [
           0,
           "The Information article or report detailing the investment"
          ],
          [
           0,
           "Statements or announcements from OpenAI and Microsoft about their infrastructure plans"
          ],
          [
           2,
           "Industry analysis and reports on AI cluster capacity and energy consumption"
          ],
          [
           0,
           "The Information article or report detailing the investment"
          ],
          [
           0,
           "Statements or announcements from OpenAI and Microsoft about their investment plans"
          ],
          [
           0,
           "Industry analysis and reports on AI investment trends"
          ],
          [
           0,
           "Scientific publications and research papers on AI hardware and software energy efficiency"
          ],
          [
           2,
           "Industry reports and analysis on energy consumption trends in AI"
          ],
          [
           0,
           "Statements from companies developing AI hardware and software about their energy efficiency improvements"
          ],
          [
           2,
           "Statistics and reports on global renewable energy production and capacity"
          ],
          [
           2,
           "Data on energy consumption trends for AI data centers"
          ],
          [
           2,
           "Analysis on the feasibility of powering AI infrastructure with renewable energy"
          ],
          [
           0,
           "The Information report itself"
          ],
          [
           0,
           "Industry reports on AI infrastructure costs"
          ],
          [
           1,
           "Expert opinions and analyses from AI and cloud computing professionals"
          ],
          [
           0,
           "Official press releases from OpenAI and Microsoft"
          ],
          [
           0,
           "Public statements from executives of both companies"
          ],
          [
           0,
           "Official filings with regulatory bodies"
          ],
          [
           0,
           "Industry reports and analyses on AI cluster sizes and requirements"
          ],
          [
           1,
           "Expert opinions on the technical specifications of such large-scale AI projects"
          ],
          [
           0,
           "Comparative analysis of previous large-scale AI infrastructure projects"
          ],
          [
           0,
           "Financial reports and analyses of OpenAI and Microsoft"
          ],
          [
           1,
           "Expert opinions on the feasibility of implementing large-scale AI projects"
          ],
          [
           1,
           "News reports and analyses of the potential risks and challenges associated with the project"
          ],
          [
           0,
           "Industry reports on AI infrastructure costs (e.g., from companies like McKinsey, IDC, or Gartner)"
          ],
          [
           0,
           "Financial analyses of existing large-scale AI projects (e.g., Google's AI infrastructure investments)"
          ],
          [
           1,
           "Expert opinions and forecasts from industry leaders in AI and computing infrastructure"
          ],
          [
           0,
           "Market research reports from reputable industry analysts (e.g., IDC, Gartner, Forrester)"
          ],
          [
           0,
           "Financial projections from major technology companies involved in AI development"
          ],
          [
           0,
           "Industry publications and articles discussing AI investment trends and forecasts"
          ],
          [
           0,
           "Market analysis of AI accelerator manufacturers (e.g., Nvidia, AMD)"
          ],
          [
           0,
           "Financial reports and statements from companies selling AI accelerators"
          ],
          [
           0,
           "Industry research on the growing demand for AI accelerators"
          ],
          [
           0,
           "Market research reports on the AI industry"
          ],
          [
           0,
           "Financial forecasts and analyses from investment firms"
          ],
          [
           0,
           "Data on AI-related funding rounds and mergers and acquisitions"
          ],
          [
           0,
           "Industry reports on AI adoption trends"
          ],
          [
           1,
           "Surveys and interviews with industry leaders and technology experts"
          ],
          [
           0,
           "Data on AI software and hardware deployments in various sectors"
          ],
          [
           3,
           "Government policies and regulations related to AI"
          ],
          [
           3,
           "Industry analysis of the impact of policy on AI development"
          ],
          [
           1,
           "Legal opinions and commentaries on AI legislation"
          ],
          [
           0,
           "Economic forecasts and predictions from reputable institutions"
          ],
          [
           0,
           "Data on investment trends during past economic recessions"
          ],
          [
           0,
           "Analysis of the impact of economic conditions on technology investments"
          ],
          [
           3,
           "Research papers and publications on AI advancements"
          ],
          [
           0,
           "Industry reports on emerging AI technologies"
          ],
          [
           0,
           "News and articles covering AI breakthroughs and innovations"
          ],
          [
           0,
           "Investment industry reports and analyses"
          ],
          [
           1,
           "Surveys of investor sentiment towards AI"
          ],
          [
           0,
           "Data on venture capital funding in AI startups"
          ],
          [
           1,
           "Geopolitical risk assessments and analysis"
          ],
          [
           1,
           "News and analysis of global events and their impact on markets"
          ],
          [
           1,
           "Reports on international relations and security"
          ],
          [
           0,
           "Research on AI hardware and software costs"
          ],
          [
           0,
           "Industry analysis of AI development costs"
          ],
          [
           0,
           "Data on the price of AI hardware and cloud computing services"
          ],
          [
           0,
           "Financial reports and investment analyses of AI companies"
          ],
          [
           0,
           "Market research on the potential revenue streams for AI applications"
          ],
          [
           1,
           "Expert opinions on the economic feasibility of AI development"
          ],
          [
           3,
           "Research papers on the societal applications of AI"
          ],
          [
           2,
           "Case studies of AI projects addressing social challenges"
          ],
          [
           1,
           "Expert interviews on the societal implications of AI advancements"
          ],
          [
           0,
           "Market research on the adoption of AI-powered products and services"
          ],
          [
           1,
           "Surveys and studies on public perception of AI"
          ],
          [
           0,
           "Analysis of trends in AI usage across various sectors"
          ],
          [
           0,
           "Reports on AI investment and spending"
          ],
          [
           0,
           "Market research on AI adoption and revenue"
          ],
          [
           0,
           "Financial analyses of AI companies"
          ],
          [
           0,
           "Economic forecasts and projections"
          ],
          [
           0,
           "Market data on technological growth and investment"
          ],
          [
           0,
           "Reports on AI-related revenue and market size"
          ],
          [
           0,
           "Research papers on AI capabilities and limitations"
          ],
          [
           0,
           "Industry reports on AI applications and development"
          ],
          [
           1,
           "Expert opinions on the future of AI research"
          ],
          [
           1,
           "Public opinion surveys and polls"
          ],
          [
           1,
           "Research on AI ethics and social impact"
          ],
          [
           3,
           "Government regulations and policies related to AI"
          ],
          [
           0,
           "Research papers on AI advancements and roadblocks"
          ],
          [
           0,
           "Industry reports on AI development timelines and challenges"
          ],
          [
           1,
           "Expert opinions on the future of AI research"
          ],
          [
           0,
           "Market research reports on AI applications"
          ],
          [
           0,
           "Financial projections from leading AI companies"
          ],
          [
           1,
           "Industry expert opinions on AI market growth"
          ],
          [
           0,
           "Research on AI hardware and software development costs"
          ],
          [
           2,
           "Data on the cost of training and deploying AI models"
          ],
          [
           2,
           "Analysis of trends in AI infrastructure pricing"
          ],
          [
           2,
           "Case studies on the financial performance of AI-powered businesses"
          ],
          [
           0,
           "Analysis of existing AI revenue models and their effectiveness"
          ],
          [
           1,
           "Expert opinions on the potential for AI to generate significant revenue"
          ],
          [
           2,
           "Case studies on AI implementation challenges in different industries"
          ],
          [
           1,
           "Expert opinions on the difficulties of integrating AI into existing workflows"
          ],
          [
           3,
           "Research on the human and organizational factors affecting AI adoption"
          ],
          [
           0,
           "Government spending data on AI research and development"
          ],
          [
           0,
           "Private investment data in AI companies and projects"
          ],
          [
           0,
           "Analysis of the funding landscape for AI innovation"
          ],
          [
           0,
           "Microsoft Office subscriber data"
          ],
          [
           0,
           "Market research reports on AI adoption rates"
          ],
          [
           0,
           "Analysis of user reviews and feedback on AI-powered applications"
          ],
          [
           1,
           "Studies on the impact of AI on labor productivity"
          ],
          [
           0,
           "Data on AI investments by major technology companies"
          ],
          [
           2,
           "Analysis of case studies on successful AI implementations in various industries"
          ],
          [
           2,
           "Case studies of AI implementation in various organizations"
          ],
          [
           0,
           "Analysis of industry reports on AI adoption trends"
          ],
          [
           1,
           "Interviews with industry experts on the challenges and opportunities of AI integration"
          ],
          [
           0,
           "Analysis of market trends in the tech industry"
          ],
          [
           0,
           "Reports on mergers and acquisitions related to AI"
          ],
          [
           1,
           "Expert opinions on the future of the tech industry"
          ],
          [
           1,
           "Ethical guidelines and regulations for AI development"
          ],
          [
           1,
           "Public opinion surveys on AI ethics"
          ],
          [
           1,
           "Research on the social and economic impact of AI"
          ],
          [
           3,
           "Academic studies on AI productivity"
          ],
          [
           2,
           "Case studies of AI implementation in knowledge-intensive work"
          ],
          [
           0,
           "Reports from industry analysts on AI adoption and its impact on productivity"
          ],
          [
           0,
           "Market research on AI tool adoption"
          ],
          [
           1,
           "Surveys of knowledge workers about their use of AI tools"
          ],
          [
           0,
           "Analysis of factors influencing AI adoption in organizations"
          ],
          [
           0,
           "Research on the capabilities and limitations of current AI models"
          ],
          [
           1,
           "Expert opinions on the state of AI research and its ability to handle complex tasks"
          ],
          [
           2,
           "Benchmarking studies of AI performance on specific tasks"
          ],
          [
           0,
           "Analysis of AI implementation costs in various industries"
          ],
          [
           0,
           "Financial reports of companies using AI tools"
          ],
          [
           1,
           "Interviews with business leaders about their experiences with AI adoption"
          ],
          [
           3,
           "Research papers on AI productivity gains"
          ],
          [
           2,
           "Case studies of AI implementations in knowledge-based work"
          ],
          [
           0,
           "Industry reports on AI adoption and impact on productivity"
          ],
          [
           3,
           "Research papers on computational requirements for AGI"
          ],
          [
           1,
           "Expert opinions on the computational resources needed for AGI"
          ],
          [
           1,
           "Predictions and forecasts about the future of AI computing"
          ],
          [
           3,
           "Studies on human-AI collaboration and adoption"
          ],
          [
           1,
           "Surveys of knowledge workers on their attitudes towards AI tools"
          ],
          [
           0,
           "Analysis of barriers to AI adoption in the workplace"
          ],
          [
           2,
           "Cost analysis of large-scale data centers"
          ],
          [
           0,
           "Industry reports on the economics of AI development"
          ],
          [
           0,
           "Financial forecasts for AI investments and returns"
          ],
          [
           3,
           "Research papers on the timeline for AGI"
          ],
          [
           1,
           "Expert predictions about the future of AI"
          ],
          [
           0,
           "Historical trends in AI progress and development"
          ],
          [
           0,
           "Publications from leading AI research labs (e.g., OpenAI, DeepMind)"
          ],
          [
           0,
           "Academic papers on AI scaling laws and computational requirements"
          ],
          [
           1,
           "Expert opinions from prominent AI researchers"
          ],
          [
           2,
           "Benchmarking results for AI models on reasoning, problem-solving, and critical thinking tasks"
          ],
          [
           0,
           "Research papers on AI progress in cognitive abilities"
          ],
          [
           0,
           "Reports from organizations evaluating AI capabilities"
          ],
          [
           0,
           "Recent research papers on AI algorithms and architectures"
          ],
          [
           1,
           "Expert interviews and predictions from leading AI researchers"
          ],
          [
           0,
           "Reports from AI conferences and workshops"
          ],
          [
           0,
           "Published research papers on AI progress in agentic tasks"
          ],
          [
           0,
           "Technical reports from AI research labs"
          ],
          [
           2,
           "Benchmark evaluations of AI models on tasks requiring long-term planning"
          ],
          [
           1,
           "Expert opinions and predictions from leading AI researchers"
          ],
          [
           2,
           "Analysis of AI model performance on various benchmark tasks"
          ],
          [
           0,
           "Reports on emerging trends in AI research"
          ],
          [
           1,
           "Expert opinions on the limitations of current AI approaches"
          ],
          [
           0,
           "Research on AI's ability to learn and reason from real-world experiences"
          ],
          [
           0,
           "Research papers on AI memory and context modeling"
          ],
          [
           0,
           "Technical reports on advancements in AI memory architecture"
          ],
          [
           2,
           "Benchmark evaluations of AI models on tasks requiring long-term context understanding"
          ],
          [
           0,
           "Research papers on reinforcement learning and symbolic reasoning in AI"
          ],
          [
           0,
           "Reports on advancements in AI planning algorithms"
          ],
          [
           2,
           "Benchmark evaluations of AI models on tasks requiring reasoning and planning"
          ],
          [
           0,
           "Research papers on AI advancements"
          ],
          [
           0,
           "Publications from leading AI labs (e.g., OpenAI, DeepMind)"
          ],
          [
           3,
           "Conference proceedings on AI research"
          ],
          [
           1,
           "Expert opinions and predictions from leading AI researchers"
          ],
          [
           0,
           "Research papers on AI limitations"
          ],
          [
           0,
           "Critical analyses of current AI models"
          ],
          [
           1,
           "Expert opinions on the challenges of achieving human-level intelligence in AI"
          ],
          [
           0,
           "Research on large language models and their training data"
          ],
          [
           0,
           "Publications on advancements in AI hardware and infrastructure"
          ],
          [
           1,
           "Expert opinions on the impact of computational power on AI progress"
          ],
          [
           0,
           "Research papers on novel AI algorithms and techniques"
          ],
          [
           0,
           "Publications on advancements in AI reasoning and planning"
          ],
          [
           1,
           "Expert opinions on the future of AI algorithms"
          ],
          [
           1,
           "Ethical guidelines for AI development"
          ],
          [
           1,
           "Research on the societal impact of AI"
          ],
          [
           1,
           "Public discourse on the risks and benefits of advanced AI"
          ],
          [
           0,
           "Research papers on AI capabilities"
          ],
          [
           0,
           "Technical reports on AI system development"
          ],
          [
           2,
           "Case studies of AI system deployments in real-world environments"
          ],
          [
           0,
           "Analysis of AI system performance metrics related to agentic behavior"
          ],
          [
           0,
           "Industry reports on AI adoption rates and integration challenges"
          ],
          [
           2,
           "Case studies of AI system implementations in various industries"
          ],
          [
           0,
           "Analysis of cost and time required for AI system integration"
          ],
          [
           1,
           "Surveys and interviews with industry experts on AI integration challenges"
          ],
          [
           0,
           "Research papers on AI development trends"
          ],
          [
           0,
           "Technical reports on specific AI applications"
          ],
          [
           1,
           "Interviews with AI researchers and developers"
          ],
          [
           0,
           "Analysis of funding and investment patterns in AI research"
          ],
          [
           0,
           "Research papers on natural language processing and social intelligence in AI"
          ],
          [
           0,
           "Technical reports on AI models designed for social interaction"
          ],
          [
           2,
           "Case studies of AI systems used in social contexts"
          ],
          [
           0,
           "Analysis of AI system performance in social interaction tasks"
          ],
          [
           2,
           "Case studies of AI system implementation in various industries"
          ],
          [
           0,
           "Research papers on the integration of AI systems into existing workflows"
          ],
          [
           0,
           "Industry reports on the adoption of AI technologies"
          ],
          [
           0,
           "Research papers on the development and capabilities of advanced AI systems"
          ],
          [
           0,
           "Studies on the adaptability and learning capabilities of AI systems"
          ],
          [
           1,
           "Expert opinions on the potential for advanced AI systems to revolutionize workflows"
          ],
          [
           1,
           "Surveys and studies on organizational awareness of AI technologies"
          ],
          [
           2,
           "Case studies of successful AI implementations showcasing organizational knowledge and skills"
          ],
          [
           1,
           "Expert opinions on the role of education and training in AI adoption"
          ],
          [
           0,
           "Research papers on the technical complexities of AI model development and deployment"
          ],
          [
           0,
           "Industry reports on the skills gap in AI implementation"
          ],
          [
           1,
           "Expert opinions on the need for specialized expertise in AI integration"
          ],
          [
           1,
           "Economic studies on the impact of AI on productivity and efficiency"
          ],
          [
           2,
           "Case studies showcasing successful AI implementations with measurable benefits"
          ],
          [
           1,
           "Expert opinions on the long-term potential of AI for organizational growth"
          ],
          [
           2,
           "Case studies on AI system integration in different industries"
          ],
          [
           0,
           "Research papers on AI system design and usability"
          ],
          [
           1,
           "Expert opinions from AI researchers and practitioners on integration challenges"
          ],
          [
           3,
           "Economic analyses of AI adoption in various sectors"
          ],
          [
           0,
           "Market research reports on the potential impact of advanced AI on industries"
          ],
          [
           1,
           "Studies on the relationship between AI capabilities and productivity gains"
          ],
          [
           0,
           "Cost estimations for developing and deploying advanced AI systems"
          ],
          [
           0,
           "Studies on the relationship between AI capabilities and development costs"
          ],
          [
           0,
           "Analysis of funding trends in AI research and development"
          ],
          [
           1,
           "Studies on the impact of early AI adoption on subsequent technological advancements"
          ],
          [
           2,
           "Case studies of companies that have transitioned from simpler AI to more complex systems"
          ],
          [
           1,
           "Expert opinions on the role of intermediate AI in facilitating the adoption of advanced AI"
          ],
          [
           0,
           "Technical papers on the limitations of current AI models"
          ],
          [
           3,
           "Research on the challenges of developing true AGI systems"
          ],
          [
           1,
           "Expert opinions on the timeframe for achieving significant advancements in AI capabilities"
          ],
          [
           2,
           "Case studies of GPT-4 implementation in software engineering"
          ],
          [
           0,
           "Research papers on AI-assisted software development"
          ],
          [
           0,
           "Reports from software engineering companies using GPT-4"
          ],
          [
           3,
           "Studies on the adoption of AI in software engineering"
          ],
          [
           0,
           "Industry reports on the challenges of AI integration"
          ],
          [
           1,
           "Interviews with software engineers using AI tools"
          ],
          [
           3,
           "Research papers on AI development timelines"
          ],
          [
           1,
           "Predictions from AI experts and researchers"
          ],
          [
           0,
           "Industry reports on the pace of AI progress"
          ],
          [
           3,
           "Economic analyses of AI adoption in software engineering"
          ],
          [
           3,
           "Studies on the return on investment of AI tools"
          ],
          [
           3,
           "Data on productivity gains from AI-assisted software development"
          ],
          [
           0,
           "Research papers on AI-assisted software development"
          ],
          [
           2,
           "Case studies of AI tool implementation in software engineering"
          ],
          [
           1,
           "Expert opinions and predictions from leading software engineering researchers"
          ],
          [
           0,
           "Industry reports on AI adoption in software development"
          ],
          [
           1,
           "Interviews with software engineers using AI tools"
          ],
          [
           0,
           "Analysis of the costs associated with implementing and maintaining AI-powered solutions"
          ],
          [
           1,
           "Predictions and roadmaps from leading AI research labs"
          ],
          [
           1,
           "Expert opinions on the future of AI in software engineering"
          ],
          [
           0,
           "Analysis of current trends in AI development and its potential applications"
          ],
          [
           0,
           "Research papers on AI communication and collaboration"
          ],
          [
           2,
           "Technical evaluations of AI models in collaborative tasks"
          ],
          [
           1,
           "Expert opinions on the current state of AI in software engineering"
          ],
          [
           0,
           "Research on AI reasoning and planning"
          ],
          [
           0,
           "Technical papers on AI error correction"
          ],
          [
           1,
           "Expert analysis on the challenges of building general-purpose AI agents"
          ],
          [
           2,
           "Analysis of AI training datasets"
          ],
          [
           0,
           "Research on data requirements for AI model development"
          ],
          [
           1,
           "Expert opinions on the availability of training data for complex cognitive tasks"
          ],
          [
           0,
           "Trend analysis in AI research"
          ],
          [
           1,
           "Predictions from leading AI experts"
          ],
          [
           0,
           "Technical evaluations of the current capabilities of AI models"
          ],
          [
           1,
           "Research on the social and economic impact of AI"
          ],
          [
           1,
           "Ethical guidelines for AI development and deployment"
          ],
          [
           1,
           "Expert opinions on the social implications of AI in the workplace"
          ],
          [
           0,
           "Research papers on chain-of-thought reasoning in AI"
          ],
          [
           2,
           "Benchmarking studies comparing AI models on chain-of-thought tasks"
          ],
          [
           2,
           "Analysis of GPT-4 and similar models' performance on tasks requiring complex reasoning"
          ],
          [
           0,
           "Research on AI training data for social interaction and collaboration"
          ],
          [
           0,
           "Datasets and studies focused on training AI for teamwork and collaborative tasks"
          ],
          [
           0,
           "Analysis of the types of data available for training AI in complex social scenarios"
          ],
          [
           0,
           "Research papers on AI social intelligence and understanding of human interaction"
          ],
          [
           0,
           "Studies evaluating AI models' ability to interpret and respond to social cues and context"
          ],
          [
           0,
           "Analysis of the challenges faced by AI in understanding and navigating complex social dynamics"
          ],
          [
           0,
           "Research on the rate of progress in AI model development"
          ],
          [
           0,
           "Analysis of trends in AI research and development related to chain-of-thought reasoning"
          ],
          [
           1,
           "Predictions and projections from experts on the timeline for significant advancements in AI capabilities"
          ],
          [
           0,
           "Published research papers on AI models' chain-of-thought capabilities"
          ],
          [
           2,
           "Benchmarks and evaluations of AI models' performance on reasoning tasks"
          ],
          [
           0,
           "Technical reports and documentation from AI research labs"
          ],
          [
           0,
           "Research on AI models' performance in complex, open-ended tasks"
          ],
          [
           0,
           "Analyses of AI models' capabilities in handling contextual information and interacting with users"
          ],
          [
           0,
           "Studies on the application of AI models in real-world scenarios like collaboration or complex problem-solving"
          ],
          [
           0,
           "Research on the relationship between AI model size, test time compute, and chain-of-thought performance"
          ],
          [
           0,
           "Studies on the impact of compute resources on AI models' reasoning capabilities"
          ],
          [
           2,
           "Analysis of AI model performance with varying test time compute limits"
          ],
          [
           0,
           "Research papers on AI model performance with varying test-time compute"
          ],
          [
           2,
           "Benchmarking studies evaluating chain-of-thought reasoning capabilities across different computational budgets"
          ],
          [
           0,
           "Technical reports and presentations from leading AI labs focusing on compute-intensive AI research"
          ],
          [
           0,
           "Research papers on training AI models for specific tasks like error correction or planning"
          ],
          [
           2,
           "Datasets and benchmarks for evaluating these tasks"
          ],
          [
           0,
           "Technical reports on advances in AI training methodologies, particularly for reasoning tasks"
          ],
          [
           0,
           "Research papers on novel AI architectures, particularly those focusing on reasoning and cognitive abilities"
          ],
          [
           0,
           "Publications on advancements in deep learning architectures"
          ],
          [
           0,
           "Technical reports from AI research groups developing new architectures"
          ],
          [
           0,
           "Philosophical works on the nature of cognition and reasoning"
          ],
          [
           0,
           "Cognitive science research on human reasoning processes"
          ],
          [
           0,
           "AI ethics papers discussing the limitations of current AI models in replicating human intelligence"
          ],
          [
           0,
           "Research papers on advancements in AI model architecture and training techniques"
          ],
          [
           0,
           "Technical reports from AI research labs focusing on computational scaling and performance improvements"
          ],
          [
           0,
           "Conference proceedings and presentations on AI model efficiency and reasoning capabilities"
          ],
          [
           0,
           "Research on memory management and computational efficiency in large language models"
          ],
          [
           0,
           "Technical discussions on the limitations of current AI model architectures in handling extended compute"
          ],
          [
           0,
           "Papers focusing on algorithmic challenges and bottlenecks in scaling AI models"
          ],
          [
           2,
           "Case studies of AI models utilizing increased test time compute to solve complex problems"
          ],
          [
           2,
           "Research papers demonstrating the impact of test time compute on specific AI tasks requiring extended reasoning"
          ],
          [
           2,
           "Benchmarking results showcasing the performance improvements achieved by models with increased test time compute"
          ],
          [
           0,
           "Research papers on AI model training for error correction and planning"
          ],
          [
           0,
           "Publications on advancements in in-context learning for AI models"
          ],
          [
           0,
           "Studies on the effectiveness of reinforcement learning techniques for training AI models in error correction and planning"
          ],
          [
           0,
           "Academic papers on the development of AI models with System 2 capabilities"
          ],
          [
           0,
           "Publications on the advancement of AI models in reasoning, planning, and complex problem-solving"
          ],
          [
           0,
           "Research reports on the evolution of AI model architectures and training methods related to System 2 thinking"
          ],
          [
           0,
           "Analysis of historical trends in AI model advancements"
          ],
          [
           1,
           "Forecasts from experts on the timeline of AI breakthroughs"
          ],
          [
           0,
           "Research on the projected growth of computational power and its impact on AI development"
          ],
          [
           0,
           "Research papers on error correction and planning in AI models"
          ],
          [
           2,
           "Data on performance improvements in AI models over time"
          ],
          [
           0,
           "Reports on the development of new AI techniques for error correction and planning"
          ],
          [
           2,
           "Benchmarking results for AI models on complex tasks and reasoning abilities"
          ],
          [
           0,
           "Research papers on advances in AI capabilities for multi-step problem-solving"
          ],
          [
           0,
           "Industry reports on the development and deployment of AI systems for complex tasks"
          ],
          [
           0,
           "Research papers on the limitations of current AI architectures and algorithms"
          ],
          [
           1,
           "Experts' opinions on the challenges of unlocking test-time compute overhang"
          ],
          [
           0,
           "Studies on the efficiency and effectiveness of various AI training techniques"
          ],
          [
           0,
           "Research papers on the effectiveness of synthetic data and RL for training AI models"
          ],
          [
           0,
           "Case studies of AI models that have successfully learned complex skills through self-play"
          ],
          [
           0,
           "Reports on the development of new RL techniques for AI training"
          ],
          [
           0,
           "Research papers on the limitations of current pre-training techniques"
          ],
          [
           2,
           "Analyses of the knowledge and reasoning capabilities of pre-trained language models"
          ],
          [
           1,
           "Expert opinions on the role of pre-training in AI development and the limitations of current approaches"
          ],
          [
           0,
           "Scientific papers on AI capabilities and cognitive processes"
          ],
          [
           0,
           "Research on AI system performance in tasks requiring System 2 thinking"
          ],
          [
           0,
           "Publications on advancements in AI unhobbling techniques"
          ],
          [
           2,
           "Data sets used for training AI models"
          ],
          [
           0,
           "Research on the impact of data size on AI model performance"
          ],
          [
           0,
           "Trends in data generation and collection"
          ],
          [
           0,
           "Research papers on AI algorithms and training methods"
          ],
          [
           0,
           "Studies on the development of AI systems with System 2 cognitive capabilities"
          ],
          [
           0,
           "Publications on advancements in AI research that focus on cognitive process improvement"
          ],
          [
           0,
           "Research on AI capabilities and their limitations"
          ],
          [
           3,
           "Publications on the challenges faced in developing advanced AI systems"
          ],
          [
           1,
           "Expert opinions and predictions on the future of AI research"
          ],
          [
           3,
           "Peer-reviewed publications in AI and machine learning"
          ],
          [
           0,
           "Research papers on AI planning and reasoning"
          ],
          [
           0,
           "Conference proceedings on AI advancements"
          ],
          [
           0,
           "Technical reports from leading AI research labs"
          ],
          [
           2,
           "Evaluations of AI models on tasks requiring reasoning and adaptation"
          ],
          [
           2,
           "Case studies of AI model limitations in real-world applications"
          ],
          [
           0,
           "Technical reports and discussions on AI model shortcomings"
          ],
          [
           0,
           "Research papers on AI model scaling and optimization"
          ],
          [
           0,
           "Technical reports on AI system development strategies"
          ],
          [
           0,
           "Discussions on the limitations of current AI models in terms of agentified behavior"
          ],
          [
           0,
           "Research papers on AI error correction techniques"
          ],
          [
           0,
           "Studies on AI planning algorithms and implementations"
          ],
          [
           0,
           "Technical reports on advancements in AI model reasoning and problem-solving"
          ],
          [
           0,
           "Research papers on pre-training and representation learning in AI"
          ],
          [
           0,
           "Studies comparing the performance of AI models on tasks requiring System 2 thinking, such as complex problem solving and decision-making."
          ],
          [
           0,
           "Articles and discussions on the cognitive capabilities of AI models in relation to human intelligence."
          ],
          [
           0,
           "Research papers on reinforcement learning (RL) in AI, especially those focused on self-play and reward-based learning."
          ],
          [
           0,
           "Articles and discussions on the role of RL in developing AI agents with advanced cognitive capabilities."
          ],
          [
           0,
           "Studies comparing the performance of AI models trained with RL vs. those trained solely on pre-training data."
          ],
          [
           0,
           "Research papers on AI training methodologies and techniques."
          ],
          [
           0,
           "Studies exploring the effectiveness of specialized datasets and algorithms in developing specific cognitive abilities in AI models."
          ],
          [
           0,
           "Discussions and analyses of the training requirements for achieving true AI intelligence, particularly in relation to System 2 thinking."
          ],
          [
           1,
           "Expert opinions and forecasts on the future of AI development."
          ],
          [
           0,
           "Research papers exploring the technical challenges and limitations of current AI models."
          ],
          [
           1,
           "Articles and discussions on the long-term roadmap for AI development, including the estimated timeframes for achieving specific milestones."
          ],
          [
           0,
           "Research papers on AI transfer learning and generalization"
          ],
          [
           0,
           "Studies on AI performance in novel tasks beyond their training data"
          ],
          [
           0,
           "Examples of AI systems exhibiting emergent abilities not explicitly programmed"
          ],
          [
           0,
           "Research on active learning in AI, particularly focusing on self-supervised learning and reinforcement learning."
          ],
          [
           0,
           "Studies on AI systems that incorporate elements of social interaction or collaboration."
          ],
          [
           0,
           "Papers exploring the convergence of AI and cognitive science to develop more human-like learning models."
          ],
          [
           0,
           "Research on interpretable AI and explainable machine learning"
          ],
          [
           0,
           "Studies on AI systems that can provide justifications for their decisions."
          ],
          [
           0,
           "Work on developing AI models capable of introspection and self-awareness."
          ],
          [
           0,
           "Research papers and publications on AI model performance in problem-solving, error correction, and planning tasks"
          ],
          [
           2,
           "Technical reports and benchmarks evaluating the performance of AI models on tasks requiring longer chains of reasoning"
          ],
          [
           0,
           "Analyses of the effectiveness of in-context learning techniques for improving model reasoning abilities"
          ],
          [
           0,
           "Research papers and industry reports on AI model development trends, focusing on scaling strategies"
          ],
          [
           0,
           "Analysis of investment and research activities in the AI field to identify priorities and emerging trends"
          ],
          [
           0,
           "Discussions and debates among AI researchers regarding the relative importance of scaling versus incorporating new learning mechanisms"
          ],
          [
           0,
           "Research papers and reports showcasing AI models trained on specific tasks with limited pre-training data"
          ],
          [
           0,
           "Studies comparing the performance of AI models trained with and without extensive pre-training"
          ],
          [
           0,
           "Analyses of the effectiveness of techniques like few-shot learning and in-context learning for reducing reliance on pre-training data"
          ],
          [
           0,
           "Research papers and publications focusing on the application of reinforcement learning and self-play in AI model development"
          ],
          [
           0,
           "Analysis of advancements in RL algorithms and their application to AI tasks"
          ],
          [
           0,
           "Reports and discussions on the potential of RL and self-play for enhancing AI model autonomy and learning capabilities"
          ],
          [
           0,
           "Research papers on reinforcement learning in AI"
          ],
          [
           0,
           "Technical reports on AI applications in real-world settings"
          ],
          [
           0,
           "Reviews of recent advancements in reinforcement learning algorithms"
          ],
          [
           0,
           "Research papers comparing in-context learning and pre-training methods"
          ],
          [
           0,
           "Studies on the efficiency and effectiveness of in-context learning in various AI tasks"
          ],
          [
           0,
           "Empirical evaluations of AI models trained using different learning approaches"
          ],
          [
           0,
           "Research papers on large language models and their development"
          ],
          [
           0,
           "Technical reports on AI advancements in natural language processing and task-oriented dialogue"
          ],
          [
           0,
           "Reviews of recent progress in AI capabilities driven by scaling, reinforcement learning, and in-context learning"
          ],
          [
           0,
           "Research papers on the limitations of current AI models in real-world scenarios"
          ],
          [
           0,
           "Studies on the challenges of developing AI agents capable of long-term, collaborative interactions"
          ],
          [
           1,
           "Expert opinions and discussions on the future of AI and the challenges of achieving truly agentic systems"
          ],
          [
           0,
           "Research papers on robotic learning and control"
          ],
          [
           0,
           "Publications on RLHF applications in robotics"
          ],
          [
           3,
           "Industry reports on advancements in robotics with RLHF techniques"
          ],
          [
           0,
           "Research papers on pre-training in robotics"
          ],
          [
           0,
           "Comparisons of pre-training effectiveness in language models and robots"
          ],
          [
           1,
           "Expert opinions on the challenges of pre-training in robotics"
          ],
          [
           0,
           "Comparative analysis of RLHF applications in language models and robotics"
          ],
          [
           0,
           "Discussions on the challenges of transferring RLHF techniques to robotics"
          ],
          [
           0,
           "Research papers on the differences between language model and robotic data"
          ],
          [
           0,
           "Research papers on advancements in robotic manipulation and navigation"
          ],
          [
           0,
           "Publications on alternative methods for developing robotic intelligence"
          ],
          [
           0,
           "Industry reports on the progress of robotics without RLHF"
          ],
          [
           0,
           "Academic papers on AI self-learning and independent learning"
          ],
          [
           0,
           "Research reports on advancements in AI models' ability to learn without extensive pre-training"
          ],
          [
           0,
           "Studies comparing the performance of pre-trained AI models with models that learn independently"
          ],
          [
           0,
           "Studies on the amount of pre-training data required for AI models to achieve optimal performance"
          ],
          [
           0,
           "Research papers analyzing the impact of pre-training data on AI model accuracy and generalizability"
          ],
          [
           0,
           "Comparisons of AI model performance with varying amounts of pre-training data"
          ],
          [
           0,
           "Research papers on self-learning and independent learning in robotics"
          ],
          [
           0,
           "Reports on advancements in robotic systems' ability to learn autonomously"
          ],
          [
           0,
           "Studies comparing the self-learning capabilities of AI models and robotic systems"
          ],
          [
           0,
           "Studies on the rate of progress in self-learning and independent learning in AI and robotics"
          ],
          [
           0,
           "Research reports comparing the timelines for advancements in self-learning capabilities in both fields"
          ],
          [
           1,
           "Expert opinions on the future trajectory of AI and robotics in terms of self-learning"
          ],
          [
           0,
           "Studies on the cost and time required for pre-training AI models"
          ],
          [
           0,
           "Research papers analyzing the trade-offs between pre-training and other learning methods"
          ],
          [
           1,
           "Expert opinions on the cost-effectiveness of pre-training in AI development"
          ],
          [
           0,
           "Research papers on AI learning and reasoning"
          ],
          [
           0,
           "Studies comparing pre-training and reinforcement learning"
          ],
          [
           0,
           "Articles discussing the development of general intelligence in AI"
          ],
          [
           0,
           "Research papers on reinforcement learning and self-play in AI"
          ],
          [
           0,
           "Studies investigating the use of RL in developing general-purpose AI systems"
          ],
          [
           0,
           "Articles discussing the application of RL in various AI domains"
          ],
          [
           0,
           "Studies on the impact of training data on AI model performance"
          ],
          [
           0,
           "Research papers analyzing the limitations of pre-training with large datasets"
          ],
          [
           0,
           "Articles discussing the challenges of achieving robust generalization in AI"
          ],
          [
           0,
           "Research papers on RL and self-play in AI, particularly those focusing on the effectiveness of these methods in enabling active learning"
          ],
          [
           0,
           "Analysis of the architecture and training methods of current AI models, such as GPT-4, to identify the extent of active learning mechanisms incorporated"
          ],
          [
           1,
           "Expert opinions and commentaries from leading AI researchers on the progress and challenges in achieving active learning in AI"
          ],
          [
           0,
           "Research trends in AI, with a focus on the growing adoption of RL and self-play techniques"
          ],
          [
           0,
           "Reports and analyses of AI advancements in areas such as reinforcement learning, autonomous decision-making, and problem-solving"
          ],
          [
           0,
           "Publications from leading AI labs and research institutions showcasing the development and application of active learning methods"
          ],
          [
           0,
           "Benchmark studies comparing the performance of AI models trained through RL and self-play with those trained solely on pre-training data"
          ],
          [
           0,
           "Analyses of AI systems in real-world applications, showcasing the impact of active learning methods on their adaptability and problem-solving skills"
          ],
          [
           0,
           "Case studies demonstrating the success of RL and self-play in enabling AI to learn new tasks and adapt to changing environments"
          ],
          [
           0,
           "Research studies investigating the relationship between RL, self-play, and the development of higher-level cognitive abilities in AI"
          ],
          [
           0,
           "Analysis of the performance of AI models on tasks requiring complex reasoning and problem-solving, focusing on the contribution of active learning methods"
          ],
          [
           0,
           "Expert opinions and commentaries from researchers exploring the potential of RL and self-play in enabling AI to engage in more human-like cognitive processes"
          ],
          [
           0,
           "Empirical studies comparing the performance of AI systems trained using RL, self-play, and pre-training methods on specific tasks."
          ],
          [
           0,
           "Research papers analyzing the sample efficiency of various AI training methods."
          ],
          [
           2,
           "Data sets and benchmarks for evaluating the performance of AI systems in various domains."
          ],
          [
           0,
           "Research papers evaluating the generalization performance of AI systems trained using various methods."
          ],
          [
           2,
           "Benchmarks and tests designed to assess AI system generalization capabilities across different tasks and domains."
          ],
          [
           0,
           "Studies exploring the impact of RL and self-play on AI system's adaptability to novel scenarios."
          ],
          [
           0,
           "Forecasts and predictions for the growth of AI compute power in the coming years."
          ],
          [
           0,
           "Research papers and industry reports on the development and progress of RL and self-play techniques."
          ],
          [
           0,
           "Analyses of the computational requirements and scaling potential of RL and self-play algorithms."
          ],
          [
           0,
           "Research papers exploring the development and application of RL and self-play algorithms for specific cognitive tasks."
          ],
          [
           0,
           "Studies analyzing the cognitive capabilities of AI systems trained using RL and self-play compared to those trained solely on pre-training data."
          ],
          [
           2,
           "Benchmarks and evaluations specifically designed to measure AI system performance in cognitive domains."
          ],
          [
           0,
           "Empirical studies comparing the performance of AI models trained with and without RL on tasks requiring complex reasoning and adaptation"
          ],
          [
           0,
           "Research papers on the application of RL to various AI tasks, including problem-solving and decision-making"
          ],
          [
           2,
           "Case studies of successful RL implementations in AI systems"
          ],
          [
           0,
           "Research papers discussing the challenges and limitations of RL in AI development"
          ],
          [
           0,
           "Industry reports on the adoption and implementation of RL in AI applications"
          ],
          [
           1,
           "Expert opinions from researchers and practitioners in the field of RL"
          ],
          [
           1,
           "Predictions and forecasts for the future of AI, focusing on the development of increasingly complex AI models"
          ],
          [
           0,
           "Research on the application of RL to cutting-edge AI tasks, such as natural language processing, image recognition, and robotics"
          ],
          [
           1,
           "Industry reports and expert opinions on the future of AI and the role of RL"
          ],
          [
           0,
           "Research papers on AI model scaling and compute requirements"
          ],
          [
           2,
           "Data on compute power advancements in the AI industry"
          ],
          [
           0,
           "Reports from AI research institutions on trends in model scaling"
          ],
          [
           1,
           "Predictions on compute power advancements by technology analysts and researchers"
          ],
          [
           0,
           "Analysis of current trends in AI model performance and compute requirements"
          ],
          [
           1,
           "Expert opinions on the potential impact of future compute power on AI capabilities"
          ],
          [
           1,
           "Economic studies on the impact of automation on labor markets"
          ],
          [
           1,
           "Social science research on the societal implications of AI advancements"
          ],
          [
           1,
           "Geopolitical analyses on the potential influence of AI on international relations"
          ],
          [
           0,
           "Research papers on in-context learning and self-improvement in AI models"
          ],
          [
           0,
           "Analysis of the current state of AI algorithms and their limitations"
          ],
          [
           1,
           "Expert opinions on the future development of AI algorithms"
          ],
          [
           0,
           "Research papers on AI advancements"
          ],
          [
           2,
           "Data on compute power used in training AI models"
          ],
          [
           2,
           "Analysis of AI benchmarks over time"
          ],
          [
           1,
           "Interviews with AI researchers and experts"
          ],
          [
           0,
           "Reports from AI research institutions"
          ],
          [
           3,
           "Conferences and workshops on AI forecasting"
          ],
          [
           2,
           "Data on the growth of compute power used in AI"
          ],
          [
           0,
           "Reports on the scaling of AI models by companies and research labs"
          ],
          [
           0,
           "Analysis of the relationship between compute power and AI performance"
          ],
          [
           0,
           "Research papers on new AI algorithms"
          ],
          [
           3,
           "Conferences and workshops on AI algorithms"
          ],
          [
           0,
           "News and articles on breakthroughs in AI research"
          ],
          [
           0,
           "Reports on AI compute and hardware advancements (e.g., from research firms, tech companies)"
          ],
          [
           0,
           "Research papers on scaling laws in AI"
          ],
          [
           0,
           "Public statements from AI companies about their compute investments and model development plans"
          ],
          [
           2,
           "Benchmarks and evaluations of AI models in code generation, mathematical problem-solving, and general intelligence"
          ],
          [
           0,
           "Research papers analyzing the progress of AI capabilities in specific domains"
          ],
          [
           1,
           "Expert opinions and predictions on the evolution of AI capabilities"
          ],
          [
           2,
           "Research on the potential of AI for automation in different industries"
          ],
          [
           1,
           "Reports on the economic and social impact of AI automation"
          ],
          [
           1,
           "Studies on the future of work in the context of AI advancements"
          ],
          [
           1,
           "Economic forecasts and analyses on the impact of AI on labor markets"
          ],
          [
           1,
           "Reports on the future of work and automation"
          ],
          [
           1,
           "Studies on the socio-economic implications of AI advancements"
          ],
          [
           1,
           "Ethical guidelines and frameworks for AI development"
          ],
          [
           3,
           "Reports and discussions on AI regulation and governance"
          ],
          [
           1,
           "Research on the social and ethical implications of advanced AI"
          ],
          [
           0,
           "Research papers on AI hardware and software advancements"
          ],
          [
           0,
           "Industry reports on AI development trends"
          ],
          [
           1,
           "Expert opinions on the future of AI development"
          ],
          [
           0,
           "Industry reports on AI adoption in various sectors"
          ],
          [
           0,
           "Analysis of existing AI-powered workforce solutions"
          ],
          [
           1,
           "Economic projections on the impact of automation on employment"
          ],
          [
           0,
           "Research on AI capabilities in creative and analytical tasks"
          ],
          [
           1,
           "Expert opinions on the timeline for advanced AI development"
          ],
          [
           0,
           "Studies on the current capabilities of AI in various fields"
          ],
          [
           1,
           "Economic studies on the impact of AI automation on productivity and employment"
          ],
          [
           1,
           "Social research on the societal implications of AI automation"
          ],
          [
           1,
           "Policy discussions on the ethical and regulatory frameworks for AI development"
          ],
          [
           1,
           "Public opinion surveys on AI adoption and its societal implications"
          ],
          [
           1,
           "Analysis of social movements and resistance to technological change"
          ],
          [
           1,
           "Studies on the impact of automation on social inequality and employment"
          ],
          [
           1,
           "Public opinion polls on AI awareness in 2022 and 2023"
          ],
          [
           0,
           "Google Trends data for search terms related to AI, ChatGPT, and GPT-4"
          ],
          [
           0,
           "Media coverage of AI and its impact on society in 2023"
          ],
          [
           0,
           "Venture capital reports and funding data for AI companies in 2023"
          ],
          [
           0,
           "Annual reports and financial statements of major tech companies involved in AI"
          ],
          [
           0,
           "Market research reports on AI investments and funding trends"
          ],
          [
           3,
           "Academic papers and conference presentations in AI in 2022 and 2023"
          ],
          [
           1,
           "Interviews with AI researchers and developers on their experiences and perceptions of AI in 2023"
          ],
          [
           0,
           "Industry reports on AI development and advancements in 2023"
          ],
          [
           0,
           "Media archives and databases (e.g., LexisNexis, Factiva) for tracking media coverage of AI."
          ],
          [
           0,
           "Social media analytics platforms (e.g., Google Trends, Twitter API) for analyzing trends in online discussions about AI."
          ],
          [
           1,
           "Public opinion surveys and polls conducted before and after the release of ChatGPT and GPT-4."
          ],
          [
           0,
           "Financial databases (e.g., Crunchbase, PitchBook) for tracking funding rounds and investment in AI companies."
          ],
          [
           0,
           "Stock market data for analyzing the performance of AI-related companies."
          ],
          [
           0,
           "Data from funding agencies (e.g., National Science Foundation) on research grants allocated to AI projects."
          ],
          [
           0,
           "Market research reports on the adoption of AI technologies in various sectors."
          ],
          [
           2,
           "Case studies and reports on the successful implementation of AI-powered applications."
          ],
          [
           3,
           "Industry publications and conferences related to AI development and applications."
          ],
          [
           0,
           "Data from universities and research institutions on the number of AI students and graduates."
          ],
          [
           0,
           "Industry reports on the hiring trends in the AI sector."
          ],
          [
           3,
           "Membership data from professional organizations related to AI (e.g., Association for the Advancement of Artificial Intelligence)."
          ],
          [
           0,
           "Research papers on AI advancements"
          ],
          [
           0,
           "Industry reports on AI development trends"
          ],
          [
           2,
           "Publicly available data on AI model releases and performance improvements"
          ],
          [
           0,
           "Industry reports on AI adoption"
          ],
          [
           0,
           "Market analysis of AI applications"
          ],
          [
           1,
           "Surveys on AI implementation in different sectors"
          ],
          [
           0,
           "Patent databases"
          ],
          [
           0,
           "Reports on AI patents"
          ],
          [
           0,
           "Analysis of trends in AI patent filings"
          ],
          [
           0,
           "Venture capital reports on AI investments"
          ],
          [
           0,
           "Government funding data for AI research"
          ],
          [
           0,
           "Financial news and analysis on AI-related companies"
          ],
          [
           2,
           "Benchmarks and evaluations of AI model performance"
          ],
          [
           0,
           "Research papers on AI model development"
          ],
          [
           2,
           "Publicly available data on AI model capabilities"
          ],
          [
           1,
           "Public opinion polls on AI"
          ],
          [
           0,
           "Media coverage of AI"
          ],
          [
           1,
           "Social media discussions on AI"
          ],
          [
           0,
           "Business plans and financial statements of GPT wrapper companies"
          ],
          [
           0,
           "Market research reports on the AI software market"
          ],
          [
           1,
           "Expert interviews with AI industry analysts"
          ],
          [
           0,
           "News articles and research reports on AI development trends"
          ],
          [
           0,
           "Industry data on the adoption of AI models and solutions"
          ],
          [
           1,
           "Expert opinions from AI researchers and entrepreneurs"
          ],
          [
           0,
           "Financial data on AI investments"
          ],
          [
           0,
           "Industry reports on AI research and development"
          ],
          [
           1,
           "Expert interviews with AI investors and researchers"
          ],
          [
           3,
           "Publications on AI research and development"
          ],
          [
           2,
           "Data on the release dates and capabilities of new AI models"
          ],
          [
           1,
           "Expert opinions on the future of AI development"
          ],
          [
           0,
           "Research on the cost and complexity of AI model integration"
          ],
          [
           0,
           "Industry reports on the adoption of AI models"
          ],
          [
           2,
           "Case studies on the integration of AI models in various sectors"
          ],
          [
           0,
           "Research on general-purpose AI models"
          ],
          [
           0,
           "Industry trends in the use of AI models for different tasks"
          ],
          [
           1,
           "Expert opinions on the future of general-purpose AI"
          ],
          [
           0,
           "Market research reports on the AI industry"
          ],
          [
           0,
           "Analysis of the factors driving AI market growth"
          ],
          [
           1,
           "Expert opinions on the future of the AI market"
          ],
          [
           3,
           "Research papers and publications on AI progress and breakthroughs"
          ],
          [
           0,
           "Industry reports and analyses on the AI market and future trends"
          ],
          [
           1,
           "Expert opinions and predictions from leading AI researchers"
          ],
          [
           2,
           "Research on AI applications in specific industries and tasks"
          ],
          [
           1,
           "Expert opinions on the potential of AI to replace human workers"
          ],
          [
           1,
           "Studies on the impact of AI on the future of work"
          ],
          [
           0,
           "Financial reports and analyses on AI funding and investments"
          ],
          [
           3,
           "Government policies and initiatives related to AI development"
          ],
          [
           0,
           "Industry forecasts on the growth of the AI market"
          ],
          [
           0,
           "Industry trends and analysis on AI development and deployment"
          ],
          [
           1,
           "Interviews with AI industry leaders and stakeholders"
          ],
          [
           0,
           "Articles and reports on the evolution of AI strategies"
          ],
          [
           0,
           "Research papers and publications on AI development"
          ],
          [
           0,
           "Reports from AI research institutions"
          ],
          [
           1,
           "Industry forecasts on AI advancement timelines"
          ],
          [
           1,
           "Economic studies on the impact of AI on employment"
          ],
          [
           0,
           "Industry reports on AI adoption trends"
          ],
          [
           2,
           "Case studies of AI implementation in various sectors"
          ],
          [
           3,
           "Government documents and reports on national security strategies"
          ],
          [
           3,
           "News articles and research on AI applications in defense"
          ],
          [
           3,
           "Statements and publications from national security officials"
          ],
          [
           3,
           "Reports and analyses on international AI governance"
          ],
          [
           3,
           "Statements from international organizations on AI cooperation"
          ],
          [
           3,
           "News articles and research on geopolitical tensions related to AI"
          ],
          [
           3,
           "Research papers and publications on AI in creative industries"
          ],
          [
           0,
           "Industry reports on AI applications in creative fields"
          ],
          [
           2,
           "Case studies of AI-generated content in creative industries"
          ],
          [
           0,
           "Government budgets and spending data"
          ],
          [
           3,
           "Reports from national security agencies"
          ],
          [
           3,
           "News articles and research publications on AI in national security"
          ],
          [
           1,
           "Studies on the relationship between AI and geopolitical influence"
          ],
          [
           3,
           "Analysis of national AI strategies and policies"
          ],
          [
           1,
           "Data on international relations and military power"
          ],
          [
           1,
           "Publications and interviews with leading AI researchers"
          ],
          [
           3,
           "Expert panels and conferences on AI advancement"
          ],
          [
           0,
           "Research papers on AI timelines and capabilities"
          ],
          [
           3,
           "News articles and reports on AI collaboration"
          ],
          [
           3,
           "Government documents on AI initiatives"
          ],
          [
           3,
           "Analysis of research partnerships between universities and security agencies"
          ],
          [
           0,
           "Patent databases and analysis"
          ],
          [
           3,
           "Government reports on AI inventions"
          ],
          [
           3,
           "Publications on AI technology trends in defense"
          ],
          [
           0,
           "Research papers on AI progress"
          ],
          [
           1,
           "Expert opinions from AI researchers"
          ],
          [
           0,
           "Industry reports on AI hardware development"
          ],
          [
           0,
           "Research papers on AI automation"
          ],
          [
           2,
           "Case studies of AI-driven research projects"
          ],
          [
           1,
           "Expert opinions from AI researchers on automation potential"
          ],
          [
           3,
           "Publications from national security institutes"
          ],
          [
           1,
           "Expert interviews with national security analysts"
          ],
          [
           1,
           "International relations research on the impact of technological advancements"
          ],
          [
           3,
           "Research papers on AI ethics"
          ],
          [
           1,
           "Policy analysis of AI regulations"
          ],
          [
           1,
           "Expert opinions on potential roadblocks to AI progress"
          ],
          [
           3,
           "Analysis of US-China relations related to AI"
          ],
          [
           0,
           "Reports on international AI competition"
          ],
          [
           1,
           "Expert opinions on geopolitical implications of AI development"
          ],
          [
           3,
           "Peer-reviewed publications on AI advancements"
          ],
          [
           0,
           "Research papers and reports on algorithmic progress"
          ],
          [
           1,
           "Expert opinions from leading AI researchers"
          ],
          [
           0,
           "Market research reports on GPU trends"
          ],
          [
           0,
           "Data on GPU production and availability"
          ],
          [
           1,
           "Expert opinions on future trends in computing resources"
          ],
          [
           3,
           "Peer-reviewed publications on AI automation"
          ],
          [
           0,
           "Research papers on AI capabilities in specific domains"
          ],
          [
           1,
           "Expert opinions on the potential of AI to automate complex tasks"
          ],
          [
           3,
           "Reports on AI ethics and regulations"
          ],
          [
           1,
           "Expert opinions on challenges in AI development"
          ],
          [
           0,
           "Research on technical limitations of current AI systems"
          ],
          [
           0,
           "Research papers on specialized AI systems"
          ],
          [
           1,
           "Expert opinions on the future of AI development"
          ],
          [
           0,
           "Analysis of the current landscape of AI applications"
          ],
          [
           3,
           "Publications in top AI research journals and conferences (e.g., NeurIPS, ICML, ICLR)"
          ],
          [
           2,
           "Benchmark datasets and performance metrics for various AI tasks (e.g., ImageNet, GLUE)"
          ],
          [
           0,
           "Reports and analyses from reputable research organizations specializing in AI (e.g., OpenAI, Google AI, Stanford AI Lab)"
          ],
          [
           0,
           "Studies on the computational power required for AI development"
          ],
          [
           0,
           "Analyses of the cost and availability of advanced hardware like GPUs"
          ],
          [
           1,
           "Expert opinions from prominent AI researchers on the potential for future breakthroughs and limitations"
          ],
          [
           0,
           "Research papers and articles focusing on specific AI subfields (e.g., NLP, CV, robotics)"
          ],
          [
           2,
           "Data on the performance of AI systems in various domains (e.g., language understanding, image recognition, task automation)"
          ],
          [
           3,
           "Peer-reviewed research papers on robotics and AI"
          ],
          [
           3,
           "Reports from robotics research institutions"
          ],
          [
           1,
           "Expert opinions and analyses on the future of robotics"
          ],
          [
           2,
           "Data on the performance of AI algorithms over time"
          ],
          [
           0,
           "Analysis of trends in AI research and development"
          ],
          [
           1,
           "Expert opinions on the future of AI progress"
          ],
          [
           0,
           "Market reports on GPU and computing infrastructure"
          ],
          [
           1,
           "Forecasts of future trends in computational power"
          ],
          [
           2,
           "Analysis of the cost and availability of computing resources"
          ],
          [
           0,
           "Research papers on AI advancements"
          ],
          [
           0,
           "Industry reports on AI progress"
          ],
          [
           2,
           "Data on the performance of AI models over time"
          ],
          [
           1,
           "Interviews with robotics experts"
          ],
          [
           0,
           "Research papers on robotics challenges"
          ],
          [
           3,
           "Industry reports on robotics advancements"
          ],
          [
           1,
           "Historical accounts of military conflicts"
          ],
          [
           1,
           "Studies on the relationship between technology and political power"
          ],
          [
           1,
           "Analyses of historical technological innovations and their impact on global power dynamics"
          ],
          [
           3,
           "Research papers on AGI"
          ],
          [
           0,
           "Reports from AI research institutions"
          ],
          [
           1,
           "Expert opinions on the timeline for achieving AGI"
          ],
          [
           0,
           "Research papers on AI learning and adaptation"
          ],
          [
           2,
           "Data on the performance of AI systems across different tasks"
          ],
          [
           1,
           "Expert opinions on the current limitations of AI adaptability"
          ],
          [
           1,
           "Historical studies on technological advancements"
          ],
          [
           1,
           "Analysis of past technological revolutions"
          ],
          [
           1,
           "Expert opinions on historical technological trends"
          ],
          [
           3,
           "Simulation studies on AI-driven warfare scenarios"
          ],
          [
           1,
           "Expert analysis on the ethical implications of autonomous weapons"
          ],
          [
           1,
           "Research on the potential risks and limitations of AI in military applications"
          ],
          [
           1,
           "Reports from international organizations on global security"
          ],
          [
           1,
           "Analysis of international relations and geopolitical trends"
          ],
          [
           1,
           "Expert opinions on the impact of emerging technologies on international security"
          ],
          [
           3,
           "Reports on the effectiveness of current submarine detection systems"
          ],
          [
           3,
           "Scientific publications on advanced sensor technologies"
          ],
          [
           3,
           "Data on the performance of existing anti-submarine warfare capabilities"
          ],
          [
           3,
           "Reports on the CCP's AI research and development strategies"
          ],
          [
           3,
           "Publications on Chinese AI policy and investments"
          ],
          [
           3,
           "Analysis of the CCP's national strategic goals"
          ],
          [
           1,
           "Historical accounts of major wars and conflicts"
          ],
          [
           1,
           "Studies on the impact of technology on warfare"
          ],
          [
           1,
           "Analysis of geopolitical power dynamics in different eras"
          ],
          [
           1,
           "Ethical and legal discussions on superintelligence"
          ],
          [
           1,
           "Reports on international treaties and regulations concerning weapons development"
          ],
          [
           1,
           "Analysis of potential risks and consequences of weaponized superintelligence"
          ],
          [
           0,
           "Reports from AI research organizations"
          ],
          [
           1,
           "Expert opinions on AI timelines"
          ],
          [
           0,
           "Analysis of current AI capabilities and progress"
          ],
          [
           3,
           "Public statements by CCP officials on AI strategy"
          ],
          [
           3,
           "Analysis of CCP's AI research and development initiatives"
          ],
          [
           3,
           "Reports on the CCP's economic and technological goals"
          ],
          [
           0,
           "Data on international AI research collaborations"
          ],
          [
           3,
           "Reports on scientific exchanges and partnerships between the US and China"
          ],
          [
           3,
           "Statements from AI researchers and organizations regarding international cooperation"
          ],
          [
           0,
           "Government budget documents related to AI research"
          ],
          [
           3,
           "Statements from US officials on national AI strategy"
          ],
          [
           3,
           "Reports on AI security measures and counterintelligence efforts"
          ],
          [
           3,
           "Reports on the CCP's investments in robotics and automation"
          ],
          [
           3,
           "Analysis of CCP's industrial policies and plans"
          ],
          [
           1,
           "Expert opinions on the CCP's economic goals for AI development"
          ],
          [
           0,
           "Research papers on AI self-improvement"
          ],
          [
           0,
           "Publications on deep learning advancements"
          ],
          [
           0,
           "Reports from AI research institutions on progress in AI self-learning"
          ],
          [
           0,
           "Research papers on AI in robotics"
          ],
          [
           2,
           "Case studies of AI applications in manufacturing and automation"
          ],
          [
           0,
           "Reports from companies developing AI-powered robots"
          ],
          [
           0,
           "Data on the growth of computational power in AI"
          ],
          [
           0,
           "Research papers on advancements in AI algorithms"
          ],
          [
           0,
           "Reports on AI investment and industry trends"
          ],
          [
           0,
           "Research on AI transfer learning and multi-task learning"
          ],
          [
           0,
           "Studies on AI's ability to generalize knowledge across different domains"
          ],
          [
           2,
           "Analysis of AI systems' performance in various tasks"
          ],
          [
           3,
           "Research papers on AI ethics and social impact"
          ],
          [
           3,
           "Reports from AI ethics committees and organizations"
          ],
          [
           1,
           "Discussions and publications on responsible AI development"
          ],
          [
           0,
           "Research papers on AI-driven robotics"
          ],
          [
           3,
           "Industry reports on robotics advancements"
          ],
          [
           1,
           "Expert interviews and opinions on the pace of robotics development"
          ],
          [
           3,
           "Analysis of robotics industry progress"
          ],
          [
           0,
           "Comparative studies of AI-driven robotics vs. traditional robotics"
          ],
          [
           1,
           "Expert opinions on the challenges and limitations of AI-driven robotics"
          ],
          [
           1,
           "Economic studies on the impact of AI-driven robotics on employment"
          ],
          [
           3,
           "Industry reports on job creation and displacement in robotics-related fields"
          ],
          [
           3,
           "Government policies and initiatives related to AI and automation"
          ],
          [
           0,
           "Market analysis of robotics applications across industries"
          ],
          [
           3,
           "Research on the adoption of robotics in different sectors"
          ],
          [
           1,
           "Expert opinions on the limitations of current AI-driven robotics"
          ],
          [
           0,
           "Analysis of funding sources for AI-driven robotics research"
          ],
          [
           3,
           "Industry reports on venture capital investment in robotics"
          ],
          [
           0,
           "Government research grants and funding programs"
          ],
          [
           0,
           "Research papers on robotics and AI integration"
          ],
          [
           3,
           "Industry reports on automation trends"
          ],
          [
           3,
           "Patents and technical specifications of advanced robotics systems"
          ],
          [
           0,
           "Labor market analysis reports"
          ],
          [
           1,
           "Economic studies on automation impacts"
          ],
          [
           1,
           "Interviews with industry experts on workforce transitions"
          ],
          [
           3,
           "Educational policy reports"
          ],
          [
           0,
           "Training programs for emerging technologies"
          ],
          [
           1,
           "Research on skills gaps in the future workforce"
          ],
          [
           2,
           "Research on AI applications in specific industries"
          ],
          [
           2,
           "Case studies of successful AI-driven robotics implementations"
          ],
          [
           1,
           "Expert opinions on the future impact of AI on different sectors"
          ],
          [
           3,
           "Cybersecurity research on AI systems"
          ],
          [
           1,
           "Ethical guidelines and frameworks for AI development"
          ],
          [
           1,
           "Risk assessments of AI-driven robotics deployments"
          ],
          [
           0,
           "Reports and analyses on the semiconductor industry workforce"
          ],
          [
           0,
           "Studies on the effectiveness of AI-driven training programs in technical fields"
          ],
          [
           3,
           "Data on the demographics and skills of the current semiconductor workforce"
          ],
          [
           0,
           "Expert opinions from semiconductor industry professionals"
          ],
          [
           0,
           "Research on the transferability of AI-driven training to real-world technical applications"
          ],
          [
           2,
           "Case studies of AI-driven upskilling in other complex manufacturing industries"
          ],
          [
           0,
           "Industry reports and analyses on semiconductor manufacturing trends"
          ],
          [
           3,
           "News articles and publications on semiconductor industry automation and robotics investments"
          ],
          [
           3,
           "Data on the adoption of automation technologies in US semiconductor fabs"
          ],
          [
           3,
           "News articles and reports on semiconductor industry workforce development programs"
          ],
          [
           3,
           "Information on industry partnerships with educational institutions"
          ],
          [
           3,
           "Data on the effectiveness of existing workforce development initiatives in the semiconductor industry"
          ],
          [
           0,
           "Research papers on AI-powered training programs"
          ],
          [
           0,
           "Reports from companies using AI for workforce development"
          ],
          [
           1,
           "Expert opinions from AI researchers and educators"
          ],
          [
           1,
           "Economic studies on workforce training costs"
          ],
          [
           1,
           "Reports on the economic impact of automation"
          ],
          [
           0,
           "Data on the cost of implementing AI solutions in manufacturing"
          ],
          [
           3,
           "Robotics industry reports and forecasts"
          ],
          [
           0,
           "Research papers on the development of advanced robots for manufacturing"
          ],
          [
           1,
           "Expert opinions on the future of automation in manufacturing"
          ],
          [
           0,
           "Financial reports from major corporations in the technology sector"
          ],
          [
           0,
           "Data on corporate debt outstanding from financial institutions and regulatory bodies"
          ],
          [
           0,
           "Market analysis reports on the corporate debt market and trends in specific sectors"
          ],
          [
           0,
           "Research reports on AI investment and funding trends"
          ],
          [
           2,
           "Financial statements of AI companies and major tech corporations"
          ],
          [
           0,
           "Data on venture capital funding and other forms of financing for AI startups"
          ],
          [
           0,
           "Economic indicators such as interest rates and credit spreads"
          ],
          [
           0,
           "Reports from financial institutions and economists on macroeconomic conditions and credit markets"
          ],
          [
           0,
           "Data on corporate debt issuance and market trends"
          ],
          [
           0,
           "Reports and publications from leading AI research institutions and think tanks"
          ],
          [
           3,
           "Government documents and statements on AI strategy and national security"
          ],
          [
           3,
           "News articles and analyses on the development and deployment of advanced AI technologies"
          ],
          [
           1,
           "Expert interviews and opinions on the timeline for the development of superintelligence"
          ],
          [
           0,
           "Analysis of government budgets and resource allocations for AI development and research"
          ],
          [
           3,
           "Public statements and speeches from top national security officials in the US and CCP"
          ],
          [
           1,
           "Expert opinions on the current understanding of AI within the national security establishment"
          ],
          [
           0,
           "Data on private investment in AI research and development"
          ],
          [
           3,
           "Analysis of government policies and regulations related to AI development"
          ],
          [
           1,
           "Interviews with industry leaders and government officials on their perspectives on AI advancements"
          ],
          [
           1,
           "Predictions and forecasts from leading AI researchers on the timeline for achieving superintelligence"
          ],
          [
           0,
           "Analysis of the current state of AI research and development"
          ],
          [
           1,
           "Expert opinions on the limitations and challenges in achieving superintelligence"
          ],
          [
           3,
           "Research papers on AI advancements and AGI"
          ],
          [
           1,
           "Expert opinions from leading AI researchers"
          ],
          [
           0,
           "Reports on the progress of AI development from reputable organizations like OpenAI, Google AI, and the Allen Institute for AI"
          ],
          [
           3,
           "Government reports on AI strategy and investment"
          ],
          [
           3,
           "Public statements from officials involved in national security and AI"
          ],
          [
           3,
           "News articles and analyses on AI initiatives and policies in the United States and China"
          ],
          [
           1,
           "Studies on the potential risks of advanced AI"
          ],
          [
           1,
           "Expert analyses on the societal and ethical implications of superintelligence"
          ],
          [
           3,
           "Reports on AI safety and governance from international organizations"
          ],
          [
           0,
           "Research papers and reports from leading AI laboratories"
          ],
          [
           0,
           "Industry analysis on AI advancements and future projections"
          ],
          [
           1,
           "Expert opinions from prominent AI researchers"
          ],
          [
           1,
           "Economic studies on the impact of AI on employment"
          ],
          [
           1,
           "Social impact assessments of AI technologies"
          ],
          [
           3,
           "Government reports on AI policy and regulation"
          ],
          [
           1,
           "Ethical discussions on AI development and its potential risks"
          ],
          [
           3,
           "Research on AI safety and control mechanisms"
          ],
          [
           1,
           "Philosophical and scientific analysis of the implications of superintelligence"
          ],
          [
           3,
           "Government reports on national AI strategies"
          ],
          [
           0,
           "Analysis of defense budgets and research initiatives"
          ],
          [
           3,
           "Statements from national security officials on AI"
          ]
         ],
         "hovertemplate": "UMAP Dimension 1=%{x}<br>UMAP Dimension 2=%{y}<br>Topic=%{marker.color}<br>Document=%{customdata[1]}<extra></extra>",
         "legendgroup": "",
         "marker": {
          "color": [
           0,
           0,
           2,
           0,
           0,
           0,
           2,
           2,
           2,
           0,
           0,
           1,
           0,
           2,
           2,
           0,
           0,
           0,
           2,
           2,
           2,
           0,
           0,
           0,
           0,
           0,
           0,
           0,
           0,
           2,
           2,
           1,
           2,
           2,
           2,
           2,
           2,
           1,
           2,
           2,
           2,
           2,
           2,
           0,
           2,
           2,
           2,
           2,
           2,
           2,
           2,
           0,
           0,
           0,
           2,
           0,
           0,
           0,
           0,
           0,
           2,
           0,
           0,
           0,
           0,
           2,
           0,
           2,
           2,
           2,
           0,
           0,
           1,
           0,
           0,
           0,
           0,
           1,
           0,
           0,
           1,
           1,
           0,
           0,
           1,
           0,
           0,
           0,
           0,
           0,
           0,
           0,
           0,
           0,
           0,
           1,
           0,
           3,
           3,
           1,
           0,
           0,
           0,
           3,
           0,
           0,
           0,
           1,
           0,
           1,
           1,
           1,
           0,
           0,
           0,
           0,
           0,
           1,
           3,
           2,
           1,
           0,
           1,
           0,
           0,
           0,
           0,
           0,
           0,
           0,
           0,
           0,
           1,
           1,
           1,
           3,
           0,
           0,
           1,
           0,
           0,
           1,
           0,
           2,
           2,
           2,
           0,
           1,
           2,
           1,
           3,
           0,
           0,
           0,
           0,
           0,
           0,
           1,
           0,
           2,
           2,
           0,
           1,
           0,
           0,
           1,
           1,
           1,
           1,
           3,
           2,
           0,
           0,
           1,
           0,
           0,
           1,
           2,
           0,
           0,
           1,
           3,
           2,
           0,
           3,
           1,
           1,
           3,
           1,
           0,
           2,
           0,
           0,
           3,
           1,
           0,
           0,
           0,
           1,
           2,
           0,
           0,
           0,
           1,
           0,
           0,
           0,
           2,
           1,
           2,
           0,
           1,
           0,
           0,
           0,
           2,
           0,
           0,
           2,
           0,
           0,
           3,
           1,
           0,
           0,
           1,
           0,
           0,
           1,
           0,
           0,
           1,
           1,
           1,
           1,
           0,
           0,
           2,
           0,
           0,
           2,
           0,
           1,
           0,
           0,
           1,
           0,
           0,
           0,
           2,
           0,
           2,
           0,
           0,
           0,
           0,
           1,
           1,
           2,
           1,
           0,
           0,
           1,
           1,
           2,
           1,
           2,
           0,
           1,
           3,
           0,
           1,
           0,
           0,
           0,
           1,
           2,
           1,
           0,
           3,
           1,
           2,
           0,
           0,
           3,
           0,
           1,
           3,
           1,
           0,
           3,
           3,
           3,
           0,
           2,
           1,
           0,
           1,
           0,
           1,
           1,
           0,
           0,
           2,
           1,
           0,
           0,
           1,
           2,
           0,
           1,
           0,
           1,
           0,
           1,
           1,
           1,
           0,
           2,
           2,
           0,
           0,
           0,
           0,
           0,
           0,
           0,
           0,
           1,
           0,
           2,
           0,
           0,
           0,
           0,
           0,
           0,
           2,
           0,
           2,
           0,
           0,
           2,
           0,
           0,
           0,
           0,
           0,
           0,
           0,
           0,
           0,
           0,
           0,
           0,
           0,
           2,
           2,
           2,
           0,
           0,
           0,
           0,
           0,
           0,
           0,
           1,
           0,
           0,
           2,
           0,
           2,
           0,
           0,
           0,
           1,
           0,
           0,
           0,
           0,
           0,
           2,
           1,
           0,
           0,
           0,
           2,
           0,
           0,
           0,
           0,
           0,
           0,
           3,
           1,
           3,
           0,
           0,
           0,
           2,
           2,
           0,
           0,
           0,
           0,
           0,
           0,
           0,
           0,
           0,
           0,
           0,
           0,
           0,
           0,
           0,
           0,
           1,
           0,
           1,
           0,
           0,
           0,
           0,
           0,
           0,
           0,
           0,
           0,
           0,
           2,
           0,
           0,
           0,
           0,
           0,
           0,
           0,
           0,
           0,
           0,
           0,
           0,
           0,
           0,
           0,
           0,
           0,
           0,
           0,
           0,
           0,
           1,
           0,
           0,
           3,
           0,
           0,
           1,
           0,
           0,
           0,
           0,
           0,
           0,
           0,
           0,
           0,
           0,
           0,
           0,
           0,
           0,
           0,
           0,
           0,
           1,
           0,
           0,
           1,
           0,
           0,
           0,
           0,
           0,
           0,
           0,
           0,
           0,
           0,
           0,
           1,
           0,
           0,
           0,
           0,
           0,
           0,
           0,
           0,
           0,
           0,
           0,
           2,
           0,
           2,
           0,
           0,
           0,
           0,
           0,
           0,
           2,
           0,
           0,
           2,
           0,
           0,
           1,
           1,
           0,
           1,
           0,
           2,
           0,
           1,
           0,
           1,
           1,
           1,
           1,
           0,
           0,
           1,
           0,
           2,
           2,
           1,
           0,
           3,
           2,
           0,
           0,
           0,
           3,
           0,
           0,
           0,
           0,
           2,
           0,
           1,
           2,
           1,
           1,
           1,
           1,
           1,
           1,
           3,
           1,
           0,
           0,
           1,
           0,
           0,
           1,
           0,
           1,
           0,
           1,
           1,
           1,
           1,
           1,
           1,
           1,
           0,
           0,
           0,
           0,
           0,
           3,
           1,
           0,
           0,
           0,
           1,
           0,
           0,
           0,
           0,
           2,
           3,
           0,
           0,
           3,
           0,
           0,
           2,
           0,
           0,
           1,
           0,
           0,
           0,
           0,
           0,
           0,
           2,
           0,
           2,
           1,
           0,
           1,
           0,
           0,
           1,
           0,
           0,
           1,
           0,
           0,
           1,
           3,
           2,
           1,
           0,
           0,
           2,
           0,
           0,
           1,
           0,
           0,
           1,
           3,
           0,
           1,
           2,
           1,
           1,
           0,
           3,
           0,
           0,
           1,
           0,
           0,
           0,
           1,
           1,
           0,
           2,
           3,
           3,
           3,
           3,
           3,
           3,
           3,
           0,
           2,
           0,
           3,
           3,
           1,
           3,
           1,
           1,
           3,
           0,
           3,
           3,
           3,
           0,
           3,
           3,
           0,
           1,
           0,
           0,
           2,
           1,
           3,
           1,
           1,
           3,
           1,
           1,
           3,
           0,
           1,
           3,
           0,
           1,
           0,
           0,
           1,
           3,
           0,
           1,
           3,
           1,
           0,
           0,
           1,
           0,
           3,
           2,
           0,
           0,
           0,
           1,
           0,
           2,
           3,
           3,
           1,
           2,
           0,
           1,
           0,
           1,
           2,
           0,
           0,
           2,
           1,
           0,
           3,
           1,
           1,
           1,
           3,
           0,
           1,
           0,
           2,
           1,
           1,
           1,
           1,
           3,
           1,
           1,
           1,
           1,
           1,
           3,
           3,
           3,
           3,
           3,
           3,
           1,
           1,
           1,
           1,
           1,
           1,
           0,
           1,
           0,
           3,
           3,
           3,
           0,
           3,
           3,
           0,
           3,
           3,
           3,
           3,
           1,
           0,
           0,
           0,
           0,
           2,
           0,
           0,
           0,
           0,
           0,
           0,
           2,
           3,
           3,
           1,
           0,
           3,
           1,
           3,
           0,
           1,
           1,
           3,
           3,
           0,
           3,
           1,
           0,
           3,
           0,
           0,
           3,
           3,
           0,
           1,
           1,
           3,
           0,
           1,
           2,
           2,
           1,
           3,
           1,
           1,
           0,
           0,
           3,
           0,
           0,
           2,
           0,
           3,
           3,
           3,
           3,
           3,
           0,
           0,
           1,
           1,
           1,
           0,
           3,
           0,
           1,
           0,
           0,
           0,
           0,
           2,
           0,
           0,
           0,
           0,
           0,
           3,
           3,
           1,
           0,
           3,
           1,
           0,
           3,
           1,
           1,
           0,
           1,
           3,
           1,
           0,
           3,
           3,
           3,
           1,
           1,
           3,
           0,
           0,
           1,
           1,
           1,
           3,
           1,
           3,
           1,
           3,
           0,
           3
          ],
          "coloraxis": "coloraxis",
          "symbol": "circle"
         },
         "mode": "markers",
         "name": "",
         "orientation": "v",
         "showlegend": false,
         "type": "scatter",
         "x": [
          -1.0905063152313232,
          8.83074951171875,
          -2.824192523956299,
          -4.561288833618164,
          -3.6298835277557373,
          -3.0944831371307373,
          1.5515520572662354,
          2.121157169342041,
          2.1066606044769287,
          9.192875862121582,
          0.6139564514160156,
          14.026665687561035,
          -0.05176422372460365,
          -2.3389642238616943,
          -2.8396623134613037,
          9.256680488586426,
          11.668203353881836,
          2.5966978073120117,
          1.6123292446136475,
          2.0124847888946533,
          1.5017640590667725,
          6.3788018226623535,
          -2.3757221698760986,
          -2.5832619667053223,
          8.43276596069336,
          -5.1484904289245605,
          -0.5715665817260742,
          8.97130298614502,
          0.25146564841270447,
          -0.0935383141040802,
          -2.5052669048309326,
          14.109187126159668,
          -4.305626392364502,
          1.547759771347046,
          -1.5805938243865967,
          2.113067388534546,
          0.05858565866947174,
          13.410911560058594,
          -0.17351916432380676,
          -1.532702922821045,
          -2.3046317100524902,
          1.5452497005462646,
          1.6518969535827637,
          6.983239650726318,
          -1.7623906135559082,
          -1.9258428812026978,
          2.165391683578491,
          -1.1742044687271118,
          2.148780584335327,
          1.5872243642807007,
          1.6921273469924927,
          -2.1846821308135986,
          8.598913192749023,
          4.478520393371582,
          -2.519986867904663,
          -5.204948902130127,
          8.716646194458008,
          6.881235599517822,
          -5.408888339996338,
          7.460599899291992,
          -2.8478469848632812,
          -5.4253411293029785,
          8.453800201416016,
          -2.625577449798584,
          9.182991027832031,
          -2.3323261737823486,
          -2.598310947418213,
          1.5429445505142212,
          -0.21976038813591003,
          1.5266164541244507,
          -5.259128570556641,
          -5.327145576477051,
          12.96878719329834,
          9.000958442687988,
          13.989416122436523,
          -4.122661113739014,
          -5.403658390045166,
          15.610746383666992,
          -4.246233940124512,
          -4.438439846038818,
          15.667180061340332,
          11.890984535217285,
          -5.117231369018555,
          -5.270149230957031,
          12.712742805480957,
          -1.130715250968933,
          -5.3961591720581055,
          -2.5309526920318604,
          -5.019367218017578,
          -4.147995948791504,
          -1.333061933517456,
          -0.2644365429878235,
          -4.944195747375488,
          -2.163088083267212,
          6.502880096435547,
          14.24989128112793,
          -2.531381130218506,
          10.373729705810547,
          10.036351203918457,
          11.358233451843262,
          -0.28507742285728455,
          -2.592020273208618,
          0.7063204050064087,
          15.653815269470215,
          6.416276454925537,
          15.17733097076416,
          -2.38674259185791,
          15.007797241210938,
          -1.567211627960205,
          11.72204875946045,
          11.339213371276855,
          11.107988357543945,
          -4.17203950881958,
          -4.9861674308776855,
          -3.11399507522583,
          -5.3142313957214355,
          -2.569279670715332,
          15.626374244689941,
          18.833209991455078,
          -4.29876184463501,
          15.46327018737793,
          0.6195555925369263,
          15.150132179260254,
          -2.433096170425415,
          -1.0939379930496216,
          -0.5406396985054016,
          -5.283229827880859,
          -1.064149260520935,
          -1.4391289949417114,
          -2.5507373809814453,
          4.623479843139648,
          6.5917558670043945,
          14.699636459350586,
          15.712834358215332,
          11.340615272521973,
          10.261006355285645,
          14.234905242919922,
          6.586754322052002,
          14.079620361328125,
          0.15972992777824402,
          -5.422636032104492,
          15.068782806396484,
          -4.294119834899902,
          -2.4967739582061768,
          -2.839996337890625,
          -4.293835639953613,
          -2.517794609069824,
          15.162476539611816,
          -4.297281265258789,
          15.640460014343262,
          18.646615982055664,
          2.514636516571045,
          -1.396385669708252,
          -1.4897361993789673,
          -4.862422943115234,
          4.640148639678955,
          -1.0672752857208252,
          11.310779571533203,
          -5.161623477935791,
          -4.856493949890137,
          -4.883859634399414,
          0.17053988575935364,
          14.614124298095703,
          3.3812942504882812,
          -2.3891549110412598,
          14.925053596496582,
          11.236771583557129,
          15.350419044494629,
          12.735953330993652,
          10.491589546203613,
          -4.90944766998291,
          13.064674377441406,
          6.95260763168335,
          14.98908805847168,
          11.656435012817383,
          -1.1155200004577637,
          15.676498413085938,
          -1.4404990673065186,
          -3.6426548957824707,
          -3.9983909130096436,
          14.116127967834473,
          18.485790252685547,
          -4.377793788909912,
          15.009235382080078,
          16.659013748168945,
          15.70605182647705,
          14.077454566955566,
          9.813920974731445,
          14.918627738952637,
          10.90271282196045,
          2.1154844760894775,
          -1.5216635465621948,
          -3.127114772796631,
          17.411046981811523,
          13.688783645629883,
          -3.6600186824798584,
          14.144674301147461,
          -2.615931987762451,
          12.783239364624023,
          -1.2401400804519653,
          10.391416549682617,
          7.56722354888916,
          8.503700256347656,
          12.657323837280273,
          14.118250846862793,
          13.604939460754395,
          7.493513584136963,
          -1.9696348905563354,
          12.698660850524902,
          -1.1518042087554932,
          9.53513240814209,
          15.281572341918945,
          -3.59346342086792,
          5.2650580406188965,
          3.39392352104187,
          -1.5484154224395752,
          -0.6180407404899597,
          8.447063446044922,
          -1.0995579957962036,
          14.319769859313965,
          13.935847282409668,
          16.49166488647461,
          12.689929008483887,
          -0.30589985847473145,
          -5.262122631072998,
          15.317290306091309,
          -1.4293073415756226,
          10.169120788574219,
          15.599529266357422,
          9.093379974365234,
          9.01305103302002,
          15.220178604125977,
          11.259060859680176,
          13.032814979553223,
          12.444540977478027,
          9.96590805053711,
          4.551628589630127,
          -4.507620811462402,
          -3.452648162841797,
          8.485383987426758,
          -4.9603047370910645,
          -3.4564528465270996,
          15.045710563659668,
          13.022709846496582,
          2.957946300506592,
          13.199947357177734,
          -1.6861040592193604,
          11.058660507202148,
          -1.5332856178283691,
          -4.31601095199585,
          -3.1174962520599365,
          -4.942122936248779,
          13.86358642578125,
          2.4345180988311768,
          14.294233322143555,
          -3.7269480228424072,
          15.59900188446045,
          14.926322937011719,
          -4.968153476715088,
          15.542522430419922,
          7.810744762420654,
          8.508009910583496,
          15.537396430969238,
          11.520976066589355,
          -4.61130952835083,
          15.130619049072266,
          -4.737176418304443,
          11.180716514587402,
          15.319404602050781,
          18.57132911682129,
          0.685776948928833,
          10.699158668518066,
          -3.896218776702881,
          -5.146572113037109,
          0.3962325155735016,
          10.711946487426758,
          -4.493776321411133,
          15.589324951171875,
          -2.5572457313537598,
          9.839208602905273,
          14.744022369384766,
          -4.396729469299316,
          13.049640655517578,
          2.229200601577759,
          9.812520980834961,
          9.849892616271973,
          13.4004545211792,
          17.022066116333008,
          12.716606140136719,
          3.4765408039093018,
          9.82190227508545,
          10.269498825073242,
          10.401921272277832,
          13.158978462219238,
          -4.741141319274902,
          12.768714904785156,
          7.553735256195068,
          13.410000801086426,
          -3.965933084487915,
          12.754480361938477,
          13.379764556884766,
          -2.363450288772583,
          12.155264854431152,
          -2.4041190147399902,
          14.008761405944824,
          -0.07962986826896667,
          7.554324150085449,
          14.911432266235352,
          -2.358898162841797,
          -4.392717361450195,
          15.3309326171875,
          -3.373180866241455,
          12.787409782409668,
          -3.121771812438965,
          13.12096881866455,
          11.302460670471191,
          15.523636817932129,
          2.8517649173736572,
          -1.5921543836593628,
          -1.6618186235427856,
          -5.033389568328857,
          -4.490304946899414,
          -3.392336130142212,
          9.920126914978027,
          -4.347408294677734,
          -3.7807328701019287,
          -5.364853858947754,
          -1.6069968938827515,
          13.684150695800781,
          2.9879088401794434,
          -1.3193633556365967,
          4.40921688079834,
          -3.077979564666748,
          -4.779906749725342,
          -4.262668132781982,
          -3.0892293453216553,
          -3.460712432861328,
          -1.9208428859710693,
          -3.740516424179077,
          -1.9151250123977661,
          6.415294647216797,
          4.478273868560791,
          -0.24317830801010132,
          2.6265993118286133,
          6.526095390319824,
          11.032533645629883,
          6.523371696472168,
          2.267439365386963,
          -0.3538025915622711,
          -1.1412893533706665,
          7.617354869842529,
          0.7181315422058105,
          9.823175430297852,
          -1.0626929998397827,
          -2.622269630432129,
          -2.619598865509033,
          1.6438711881637573,
          -2.844822406768799,
          -0.2305917590856552,
          5.197898864746094,
          -2.5607450008392334,
          -0.30057767033576965,
          -2.5134007930755615,
          8.727642059326172,
          -1.3398025035858154,
          -5.232261657714844,
          13.766263008117676,
          -4.245153427124023,
          6.546422481536865,
          -2.1285958290100098,
          5.263253688812256,
          -1.5412393808364868,
          10.860285758972168,
          4.52353048324585,
          -0.6849898099899292,
          15.705843925476074,
          -5.19947624206543,
          -2.5316691398620605,
          -4.913479328155518,
          -1.0822999477386475,
          -1.0419832468032837,
          -2.675049066543579,
          15.300955772399902,
          7.590344429016113,
          -5.215893745422363,
          15.270208358764648,
          -2.536336898803711,
          -4.369920253753662,
          -3.352208137512207,
          3.157322406768799,
          -2.9629125595092773,
          10.110719680786133,
          -2.531090259552002,
          15.764754295349121,
          13.348108291625977,
          16.545230865478516,
          2.7682600021362305,
          15.212177276611328,
          9.262145042419434,
          -2.616624593734741,
          -4.2629008293151855,
          -1.1364936828613281,
          -2.610952615737915,
          4.908860683441162,
          -2.6468513011932373,
          7.576967239379883,
          5.112487316131592,
          2.2056522369384766,
          -2.6016528606414795,
          -4.639298915863037,
          -1.6537894010543823,
          -1.0849310159683228,
          -2.405409812927246,
          -5.422496795654297,
          2.0037217140197754,
          -5.417302131652832,
          -2.1910109519958496,
          14.233162879943848,
          -2.5888850688934326,
          14.713157653808594,
          -2.579732894897461,
          -4.387494087219238,
          -5.0983099937438965,
          -2.35123872756958,
          -5.2040581703186035,
          0.6434699296951294,
          -1.0716056823730469,
          -3.3352158069610596,
          -2.5516304969787598,
          5.1811442375183105,
          -1.9212782382965088,
          -5.392666816711426,
          -2.63616681098938,
          -1.4804819822311401,
          -2.6011762619018555,
          -1.0659763813018799,
          -5.334166049957275,
          -4.79859733581543,
          -2.570312976837158,
          -1.0401735305786133,
          -1.0607577562332153,
          -1.6656025648117065,
          -0.16765058040618896,
          -2.5520126819610596,
          -3.2882962226867676,
          -4.99777889251709,
          -4.340059757232666,
          -2.527439594268799,
          2.5043628215789795,
          -0.17344439029693604,
          -1.6596521139144897,
          -5.300062656402588,
          15.705948829650879,
          10.843316078186035,
          -0.8898422718048096,
          16.502227783203125,
          6.639997482299805,
          -3.283525228500366,
          14.958439826965332,
          -2.5300886631011963,
          -1.850600242614746,
          5.189310073852539,
          12.517662048339844,
          13.497284889221191,
          13.9347562789917,
          0.13907963037490845,
          -3.121506929397583,
          -5.228909492492676,
          -4.701849460601807,
          -1.085145354270935,
          -4.197025775909424,
          7.031040191650391,
          14.694347381591797,
          -5.10580587387085,
          -2.186117649078369,
          -1.089560866355896,
          15.374577522277832,
          -3.4786624908447266,
          -3.6479897499084473,
          15.003763198852539,
          2.1692042350769043,
          -5.422452449798584,
          0.02185952663421631,
          -2.4192066192626953,
          -2.2180895805358887,
          -2.5650336742401123,
          -5.2266764640808105,
          -2.1657941341400146,
          -1.064346432685852,
          -1.0794998407363892,
          -5.405802249908447,
          12.969380378723145,
          -1.205741047859192,
          2.2955503463745117,
          10.943821907043457,
          -5.4197916984558105,
          -4.934366703033447,
          -3.3594324588775635,
          -3.271066188812256,
          -3.2306602001190186,
          -1.0715062618255615,
          -5.237720489501953,
          -1.089860200881958,
          -0.12697312235832214,
          -2.355041027069092,
          -0.20006518065929413,
          -3.721660614013672,
          -4.559304237365723,
          -1.1892472505569458,
          -3.0154829025268555,
          -1.0749086141586304,
          -5.135031223297119,
          -0.14739084243774414,
          -4.9493865966796875,
          -2.5532007217407227,
          -4.518365859985352,
          -1.6919875144958496,
          9.210487365722656,
          13.179455757141113,
          13.39327621459961,
          -2.515123128890991,
          14.628667831420898,
          -1.0803968906402588,
          -2.860585927963257,
          -2.5889339447021484,
          15.520581245422363,
          -3.1839687824249268,
          15.554079055786133,
          12.307089805603027,
          13.193135261535645,
          13.045212745666504,
          -2.599759340286255,
          -1.0968140363693237,
          15.309067726135254,
          10.87025260925293,
          -2.4909298419952393,
          -1.650046467781067,
          13.456780433654785,
          11.515889167785645,
          18.822811126708984,
          -2.8416635990142822,
          -2.6521427631378174,
          -3.2146713733673096,
          9.782463073730469,
          18.363508224487305,
          14.353165626525879,
          -2.5426855087280273,
          -2.600247859954834,
          -1.8242825269699097,
          -1.2270077466964722,
          9.595246315002441,
          13.750697135925293,
          2.1714112758636475,
          11.180941581726074,
          11.810553550720215,
          11.12896728515625,
          10.742803573608398,
          12.721960067749023,
          11.193860054016113,
          10.403082847595215,
          12.736349105834961,
          12.5193510055542,
          0.6796779036521912,
          15.102643013000488,
          7.094973087310791,
          -1.3861802816390991,
          12.233928680419922,
          -2.294325113296509,
          14.642472267150879,
          -1.1721234321594238,
          12.387890815734863,
          13.134521484375,
          10.804226875305176,
          15.30403995513916,
          14.080304145812988,
          13.166478157043457,
          15.250269889831543,
          -1.7516824007034302,
          13.920919418334961,
          -2.142972469329834,
          -3.4847846031188965,
          -2.464134454727173,
          16.49632453918457,
          13.28944206237793,
          2.8791186809539795,
          10.21890926361084,
          -0.5575502514839172,
          15.26177978515625,
          -3.180634021759033,
          -5.388267993927002,
          -1.315784215927124,
          3.440014123916626,
          -4.273848533630371,
          18.062856674194336,
          10.990792274475098,
          2.1712193489074707,
          16.827667236328125,
          12.420065879821777,
          2.5284957885742188,
          -2.4565305709838867,
          8.554099082946777,
          -2.610534429550171,
          14.635374069213867,
          -1.148162603378296,
          6.664348125457764,
          -2.544605016708374,
          -1.2231084108352661,
          -0.4201366901397705,
          -5.407707214355469,
          -1.2991588115692139,
          8.526790618896484,
          -2.612675905227661,
          15.41610336303711,
          14.769392013549805,
          11.95975112915039,
          -3.8794965744018555,
          0.26500898599624634,
          13.426017761230469,
          12.228309631347656,
          4.494043827056885,
          12.95847225189209,
          -5.3626604080200195,
          9.047755241394043,
          13.16668701171875,
          16.7752628326416,
          -2.5880179405212402,
          15.164285659790039,
          -3.5163321495056152,
          2.2354681491851807,
          -4.478216171264648,
          -5.229687690734863,
          -1.3938229084014893,
          15.41422176361084,
          -1.7189249992370605,
          -2.609454870223999,
          14.595210075378418,
          15.761898040771484,
          -1.1102211475372314,
          12.755067825317383,
          2.12119722366333,
          15.574177742004395,
          12.002066612243652,
          -3.4129819869995117,
          10.22741413116455,
          -1.8292531967163086,
          -2.460519790649414,
          13.482599258422852,
          14.76455307006836,
          15.203084945678711,
          10.730632781982422,
          13.660932540893555,
          11.92831802368164,
          5.220681190490723,
          -4.602990627288818,
          10.014986038208008,
          18.19300079345703,
          9.953304290771484,
          10.185614585876465,
          9.841785430908203,
          9.861298561096191,
          18.092695236206055,
          2.5002477169036865,
          -4.249507427215576,
          6.562045574188232,
          10.100896835327148,
          9.84843635559082,
          12.364081382751465,
          9.945329666137695,
          11.979634284973145,
          13.236601829528809,
          18.739994049072266,
          13.97529125213623,
          16.988426208496094,
          9.844932556152344,
          10.197698593139648,
          -1.129844307899475,
          17.254060745239258,
          18.80835723876953,
          12.029370307922363,
          12.797772407531738,
          -2.6470110416412354,
          13.07656192779541,
          -4.271508693695068,
          15.435376167297363,
          9.995417594909668,
          15.539620399475098,
          14.025816917419434,
          18.78676414489746,
          10.677913665771484,
          15.668296813964844,
          10.000203132629395,
          12.479307174682617,
          15.19778060913086,
          17.165660858154297,
          10.166553497314453,
          12.697383880615234,
          -3.4093546867370605,
          -4.097018718719482,
          15.576927185058594,
          18.69645118713379,
          9.160540580749512,
          15.572575569152832,
          10.38929557800293,
          15.703371047973633,
          -2.5748469829559326,
          12.113825798034668,
          14.87369155883789,
          -1.1490758657455444,
          16.650339126586914,
          -0.11287101358175278,
          10.265938758850098,
          -4.930113792419434,
          -3.2771384716033936,
          13.243459701538086,
          13.877711296081543,
          -1.187495231628418,
          18.125883102416992,
          17.90035057067871,
          15.351737976074219,
          -1.9780834913253784,
          -1.2174023389816284,
          15.33755111694336,
          -5.301576614379883,
          15.489008903503418,
          -0.15452995896339417,
          12.21908187866211,
          5.341228008270264,
          -1.932168960571289,
          14.558675765991211,
          12.192341804504395,
          17.658403396606445,
          11.940980911254883,
          13.994745254516602,
          14.05566120147705,
          17.540908813476562,
          11.897424697875977,
          15.316393852233887,
          2.4035003185272217,
          -0.23518168926239014,
          15.673089981079102,
          14.114418983459473,
          14.157050132751465,
          15.722162246704102,
          10.414007186889648,
          14.089056968688965,
          10.771665573120117,
          10.718420028686523,
          12.785783767700195,
          14.951512336730957,
          17.548974990844727,
          16.44508934020996,
          18.0830020904541,
          18.879989624023438,
          9.87297248840332,
          9.875744819641113,
          11.819260597229004,
          14.092534065246582,
          13.094124794006348,
          13.3982515335083,
          10.667582511901855,
          13.17518424987793,
          12.472800254821777,
          14.422289848327637,
          -1.3638421297073364,
          9.803686141967773,
          18.933168411254883,
          9.833724975585938,
          11.084757804870605,
          9.824332237243652,
          9.884588241577148,
          5.209897518157959,
          9.882148742675781,
          9.985209465026855,
          18.918190002441406,
          9.856049537658691,
          15.714659690856934,
          7.0446343421936035,
          12.603625297546387,
          8.4516019821167,
          12.680980682373047,
          -4.9552903175354,
          14.52780532836914,
          -3.050368547439575,
          11.557682991027832,
          -2.484516143798828,
          -2.571237802505493,
          -5.4122090339660645,
          -1.9148527383804321,
          9.851078987121582,
          18.94342613220215,
          10.736800193786621,
          13.359187126159668,
          17.59772491455078,
          15.499058723449707,
          17.858896255493164,
          -3.157458543777466,
          15.23884105682373,
          12.260194778442383,
          18.96171760559082,
          10.198994636535645,
          13.695667266845703,
          15.711888313293457,
          15.643960952758789,
          -1.7284927368164062,
          16.93352699279785,
          3.5565316677093506,
          13.7471284866333,
          18.28544044494629,
          17.302122116088867,
          13.131277084350586,
          12.393381118774414,
          14.396842002868652,
          18.880910873413086,
          0.6419086456298828,
          11.519074440002441,
          2.132979154586792,
          -4.9626383781433105,
          15.338438987731934,
          9.825054168701172,
          11.014488220214844,
          12.096375465393066,
          14.571769714355469,
          -3.6966967582702637,
          17.060258865356445,
          15.31277084350586,
          -3.2703864574432373,
          -4.955305099487305,
          9.8174467086792,
          15.61607837677002,
          17.108325958251953,
          16.920181274414062,
          9.851646423339844,
          18.03874969482422,
          0.6457722187042236,
          3.3733296394348145,
          12.686273574829102,
          11.851277351379395,
          11.191473007202148,
          -3.601161003112793,
          16.319446563720703,
          15.168097496032715,
          15.496684074401855,
          -3.5633625984191895,
          -5.29491662979126,
          -2.600327253341675,
          -1.097252368927002,
          -2.861929416656494,
          -2.1534621715545654,
          -0.5720618963241577,
          0.5386207103729248,
          -2.170175790786743,
          14.33151626586914,
          9.974322319030762,
          18.05019187927246,
          15.419435501098633,
          6.8815083503723145,
          9.805712699890137,
          15.162744522094727,
          -2.6494510173797607,
          10.312870979309082,
          14.136334419250488,
          13.109007835388184,
          -2.3634824752807617,
          15.329106330871582,
          16.124961853027344,
          12.730463981628418,
          11.371315002441406,
          9.828917503356934,
          9.939106941223145,
          18.941650390625,
          12.847494125366211,
          14.119418144226074,
          9.83409595489502,
          11.105851173400879,
          -2.633448600769043,
          12.783981323242188,
          11.996124267578125,
          13.208959579467773,
          9.84833812713623,
          11.844847679138184,
          9.925162315368652,
          13.935522079467773,
          9.832402229309082,
          9.837271690368652,
          9.909069061279297
         ],
         "xaxis": "x",
         "y": [
          2.647876024246216,
          -8.746681213378906,
          13.952777862548828,
          9.981673240661621,
          11.826525688171387,
          4.956026077270508,
          17.946332931518555,
          18.136384963989258,
          18.08919906616211,
          -8.344613075256348,
          -10.987394332885742,
          17.806350708007812,
          -10.240673065185547,
          15.32564926147461,
          13.951099395751953,
          -8.28217887878418,
          -6.5108232498168945,
          -12.08750057220459,
          17.978702545166016,
          18.05026626586914,
          17.89813995361328,
          -11.409753799438477,
          -2.1494224071502686,
          -5.26172399520874,
          -9.226630210876465,
          5.920830726623535,
          -9.564452171325684,
          -8.579779624938965,
          -10.589948654174805,
          17.572004318237305,
          15.006653785705566,
          17.701467514038086,
          23.531593322753906,
          17.937410354614258,
          16.538288116455078,
          18.098058700561523,
          17.63102149963379,
          18.68281364440918,
          17.502737045288086,
          16.590770721435547,
          15.390597343444824,
          17.94422721862793,
          17.984169006347656,
          -10.908364295959473,
          16.319923400878906,
          16.119632720947266,
          18.133289337158203,
          16.94024658203125,
          18.122167587280273,
          17.963359832763672,
          17.99540901184082,
          4.21630334854126,
          -9.025915145874023,
          -12.035407066345215,
          14.968026161193848,
          8.777345657348633,
          -8.882699966430664,
          -11.004631042480469,
          7.776281356811523,
          -10.421043395996094,
          13.887263298034668,
          7.300845623016357,
          -9.200671195983887,
          -4.138463020324707,
          -8.355664253234863,
          15.34807300567627,
          -4.255197525024414,
          17.940460205078125,
          17.464923858642578,
          17.926528930664062,
          8.658106803894043,
          6.333152770996094,
          19.276803970336914,
          -8.548007011413574,
          -5.647558212280273,
          10.700288772583008,
          6.912888526916504,
          14.141922950744629,
          10.531517028808594,
          10.208039283752441,
          13.558176040649414,
          7.52056360244751,
          5.887640953063965,
          8.60464096069336,
          19.664356231689453,
          -8.690431594848633,
          7.833963394165039,
          -2.7966220378875732,
          5.791152477264404,
          10.805846214294434,
          3.1968023777008057,
          -9.9838285446167,
          5.730772972106934,
          4.193632125854492,
          -11.32170295715332,
          17.531736373901367,
          -5.52492094039917,
          4.602639675140381,
          3.763016939163208,
          6.637441158294678,
          -9.958834648132324,
          -3.476775646209717,
          -11.067346572875977,
          -5.434589385986328,
          -11.389884948730469,
          -5.4365997314453125,
          -2.0740771293640137,
          11.23106575012207,
          3.4847850799560547,
          7.261746406555176,
          6.601024150848389,
          6.239807605743408,
          10.743739128112793,
          9.247956275939941,
          12.883423805236816,
          8.498845100402832,
          -5.455121040344238,
          13.964311599731445,
          -4.274928569793701,
          23.52235984802246,
          15.23046875,
          -10.988049507141113,
          11.500994682312012,
          -2.2748827934265137,
          1.6955430507659912,
          -9.598152160644531,
          8.597341537475586,
          1.9426158666610718,
          -8.004509925842285,
          -3.0772714614868164,
          -12.0177640914917,
          -11.251251220703125,
          16.91451644897461,
          13.239147186279297,
          6.607445240020752,
          4.346017837524414,
          -5.609280109405518,
          -11.247658729553223,
          17.73594093322754,
          -10.485020637512207,
          7.0861735343933105,
          16.381223678588867,
          10.461426734924316,
          15.01148509979248,
          13.954360961914062,
          23.538686752319336,
          -2.7152538299560547,
          16.213159561157227,
          23.51817512512207,
          13.856285095214844,
          -4.458102703094482,
          -12.025811195373535,
          3.278510570526123,
          -7.920772075653076,
          9.48184585571289,
          -12.024189949035645,
          2.132312536239624,
          6.56130313873291,
          5.938673496246338,
          23.882728576660156,
          23.882843017578125,
          -10.498310089111328,
          17.031557083129883,
          -12.08383560180664,
          -2.164374828338623,
          16.587879180908203,
          6.443940162658691,
          11.870820999145508,
          8.6170015335083,
          4.8377885818481445,
          23.90015983581543,
          -5.933846950531006,
          -10.93826675415039,
          11.2004976272583,
          -6.514438629150391,
          2.733229875564575,
          13.432295799255371,
          16.685274124145508,
          11.813066482543945,
          11.106110572814941,
          17.69353485107422,
          -4.605213165283203,
          23.573375701904297,
          -5.447105884552002,
          -5.610177993774414,
          13.292309761047363,
          17.738401412963867,
          2.4694175720214844,
          11.099326133728027,
          -6.972032070159912,
          18.098526000976562,
          -7.851952075958252,
          4.985616683959961,
          -5.357099533081055,
          18.280887603759766,
          5.265212059020996,
          -5.59537935256958,
          -4.403444290161133,
          19.600858688354492,
          16.880348205566406,
          -7.300790309906006,
          -10.287284851074219,
          -9.1472806930542,
          19.72481346130371,
          -5.583805561065674,
          -5.762684345245361,
          -10.383005142211914,
          16.05024528503418,
          19.68400764465332,
          16.948060989379883,
          -8.019721031188965,
          11.737570762634277,
          5.241206169128418,
          -11.95064926147461,
          -12.08177375793457,
          16.576948165893555,
          -9.484759330749512,
          -9.211990356445312,
          16.992101669311523,
          -5.556471824645996,
          -5.647465229034424,
          -5.594333648681641,
          19.696475982666016,
          -9.935677528381348,
          6.130761623382568,
          11.79498291015625,
          3.3133327960968018,
          -7.467216491699219,
          14.296452522277832,
          -8.448884010314941,
          -8.533220291137695,
          16.116840362548828,
          6.478277206420898,
          8.959946632385254,
          8.265373229980469,
          -7.6344451904296875,
          -12.033377647399902,
          23.659982681274414,
          12.19516658782959,
          -9.16556453704834,
          23.940961837768555,
          12.169111251831055,
          16.41062355041504,
          -5.955838680267334,
          -12.078339576721191,
          18.93202018737793,
          -7.523366928100586,
          -6.859587669372559,
          -7.844527721405029,
          23.55638885498047,
          12.870505332946777,
          23.92561912536621,
          -5.685494899749756,
          -11.984848022460938,
          -5.544308662414551,
          5.302594184875488,
          14.253588676452637,
          11.11158561706543,
          23.963125228881836,
          14.748644828796387,
          -10.009385108947754,
          -9.13930892944336,
          15.079835891723633,
          6.9123148918151855,
          23.720186233520508,
          16.282642364501953,
          23.783817291259766,
          -6.784703254699707,
          15.829275131225586,
          -4.531840801239014,
          -10.99870777130127,
          5.342999458312988,
          11.315468788146973,
          8.90410327911377,
          -10.750609397888184,
          5.371339797973633,
          23.650033950805664,
          14.339726448059082,
          -5.439184665679932,
          2.1534531116485596,
          16.852750778198242,
          23.578397750854492,
          -5.938993453979492,
          -11.877766609191895,
          2.634220838546753,
          -7.7321696281433105,
          18.691326141357422,
          -5.527892589569092,
          19.66111183166504,
          -12.078316688537598,
          2.696021318435669,
          4.384331703186035,
          4.682859897613525,
          -5.903401851654053,
          23.78415298461914,
          19.605270385742188,
          -10.323044776916504,
          18.678098678588867,
          11.180353164672852,
          19.61617660522461,
          18.71588897705078,
          -2.1027145385742188,
          -6.266410827636719,
          15.21331787109375,
          17.831361770629883,
          -10.206022262573242,
          -10.31606388092041,
          11.095090866088867,
          15.302112579345703,
          10.282234191894531,
          11.825900077819824,
          5.164648532867432,
          19.57213592529297,
          12.830327033996582,
          9.047151565551758,
          6.538965225219727,
          14.915552139282227,
          -12.083443641662598,
          16.523927688598633,
          16.447938919067383,
          9.131500244140625,
          10.078057289123535,
          12.311077117919922,
          -7.665099143981934,
          10.370342254638672,
          11.540385246276855,
          6.654458522796631,
          -7.690139293670654,
          18.283483505249023,
          -12.080647468566895,
          16.804983139038086,
          -12.098054885864258,
          12.980759620666504,
          9.587117195129395,
          10.523199081420898,
          12.920746803283691,
          12.205307960510254,
          16.120647430419922,
          11.615490913391113,
          16.12457275390625,
          -11.382258415222168,
          -12.035748481750488,
          17.46122932434082,
          -12.025940895080566,
          -11.304139137268066,
          -6.872888088226318,
          -11.310920715332031,
          -11.891365051269531,
          -9.877854347229004,
          -8.683693885803223,
          -10.254040718078613,
          -11.071581840515137,
          -7.757821559906006,
          1.9276666641235352,
          -4.178176403045654,
          -4.32757043838501,
          17.996707916259766,
          13.92863941192627,
          17.485275268554688,
          -11.990901947021484,
          -5.4493608474731445,
          -9.94180965423584,
          -2.7177329063415527,
          -8.869231224060059,
          3.1823625564575195,
          8.71810245513916,
          18.179664611816406,
          10.584037780761719,
          -11.287240028381348,
          15.746334075927734,
          -11.972617149353027,
          16.58086395263672,
          -6.993891716003418,
          -12.03247356414795,
          -9.453457832336426,
          13.344278335571289,
          5.991366386413574,
          -2.9376046657562256,
          5.70130729675293,
          2.671036720275879,
          1.978549599647522,
          14.541288375854492,
          11.766091346740723,
          -10.282156944274902,
          6.0385870933532715,
          -5.405887603759766,
          14.978120803833008,
          10.323569297790527,
          5.155447483062744,
          -12.092028617858887,
          4.852728366851807,
          -7.512938022613525,
          -2.807068109512329,
          -5.4833083152771,
          18.753095626831055,
          -5.582845211029053,
          -12.073973655700684,
          -5.413637161254883,
          -8.276789665222168,
          14.778286933898926,
          23.513202667236328,
          -8.694609642028809,
          -4.473931312561035,
          -12.012484550476074,
          -3.9731338024139404,
          -10.298898696899414,
          -12.0177640914917,
          -11.879545211791992,
          -4.798877239227295,
          9.858014106750488,
          -7.573705196380615,
          2.0103118419647217,
          -2.2874584197998047,
          7.669251441955566,
          -11.730409622192383,
          6.994871139526367,
          4.226556301116943,
          17.54537010192871,
          -5.164648056030273,
          16.902912139892578,
          -5.399491786956787,
          10.308744430541992,
          5.862159729003906,
          -2.0838334560394287,
          8.72442626953125,
          -11.014074325561523,
          2.070737838745117,
          5.174094200134277,
          -3.0546910762786865,
          -12.008694648742676,
          16.124351501464844,
          7.001519680023193,
          -4.063745975494385,
          -7.9463791847229,
          -5.05864143371582,
          1.6920803785324097,
          8.287271499633789,
          5.637562274932861,
          -3.1655921936035156,
          1.9693245887756348,
          1.9643363952636719,
          -7.564722061157227,
          -10.098909378051758,
          -3.1232807636260986,
          5.116520404815674,
          5.762833118438721,
          10.373836517333984,
          -5.496847629547119,
          -12.024105072021484,
          -10.090906143188477,
          -7.564402103424072,
          8.547554016113281,
          13.33917236328125,
          -7.009397983551025,
          -9.090472221374512,
          -5.589387893676758,
          -11.210406303405762,
          5.100175857543945,
          11.157913208007812,
          -5.538493633270264,
          -7.238914489746094,
          -12.000009536743164,
          -6.146938323974609,
          -5.810166835784912,
          -5.652472496032715,
          -10.464099884033203,
          4.971927642822266,
          8.714452743530273,
          9.757589340209961,
          1.6459672451019287,
          10.65828800201416,
          -10.862218856811523,
          -5.498595714569092,
          5.875535011291504,
          4.217809677124023,
          1.6347295045852661,
          15.747025489807129,
          12.13759708404541,
          5.258925437927246,
          11.20671558380127,
          -11.827055931091309,
          7.096380233764648,
          -10.325129508972168,
          -2.228039503097534,
          4.247866630554199,
          -2.934459924697876,
          8.737902641296387,
          4.197336673736572,
          -8.79454231262207,
          2.5772900581359863,
          7.776030540466309,
          19.269577026367188,
          2.918503999710083,
          -11.902169227600098,
          -6.936124801635742,
          7.039718151092529,
          9.336030960083008,
          5.150800704956055,
          5.086167812347412,
          12.66068172454834,
          2.2095701694488525,
          6.094858646392822,
          2.5961105823516846,
          17.5117130279541,
          -2.1020374298095703,
          17.461109161376953,
          5.2849836349487305,
          9.965963363647461,
          2.8782436847686768,
          4.883650779724121,
          2.304572343826294,
          5.906697750091553,
          17.52130699157715,
          9.298116683959961,
          -3.1461498737335205,
          23.662813186645508,
          -7.566227912902832,
          -8.327134132385254,
          18.953142166137695,
          18.697734832763672,
          -2.4187135696411133,
          10.756011962890625,
          1.6597334146499634,
          13.975184440612793,
          -5.36500358581543,
          14.90688705444336,
          12.739940643310547,
          14.648451805114746,
          8.0916748046875,
          9.129225730895996,
          8.96783447265625,
          -4.881451606750488,
          1.6659247875213623,
          15.890960693359375,
          -6.990692138671875,
          15.030258178710938,
          16.462751388549805,
          18.626216888427734,
          -6.593029975891113,
          -4.285530090332031,
          13.951574325561523,
          -3.9704205989837646,
          12.691397666931152,
          -7.794025897979736,
          -4.716612339019775,
          -5.547120571136475,
          -5.513926982879639,
          -4.851107120513916,
          -7.233078479766846,
          16.893787384033203,
          -7.96494197845459,
          18.200298309326172,
          18.11091423034668,
          6.344318866729736,
          7.409090518951416,
          6.2764129638671875,
          5.420903205871582,
          8.600631713867188,
          6.390309810638428,
          4.691506862640381,
          8.615556716918945,
          -6.133780479431152,
          -11.049745559692383,
          16.32332420349121,
          -10.799262046813965,
          3.2582812309265137,
          7.997787952423096,
          4.310497760772705,
          16.990957260131836,
          2.864405393600464,
          8.191272735595703,
          9.065313339233398,
          5.546792984008789,
          11.766159057617188,
          10.133694648742676,
          9.100228309631348,
          11.687849998474121,
          -7.370277404785156,
          -5.672835826873779,
          4.172802925109863,
          12.120118141174316,
          -2.3416738510131836,
          -5.593042850494385,
          18.826200485229492,
          -12.082379341125488,
          -7.423707008361816,
          -9.58183765411377,
          11.708043098449707,
          5.023248672485352,
          7.845575332641602,
          -8.310979843139648,
          -12.080439567565918,
          23.505403518676758,
          -4.966629981994629,
          -6.89250373840332,
          -11.823890686035156,
          -5.559683322906494,
          -6.180099010467529,
          -12.024972915649414,
          15.092634201049805,
          -9.084457397460938,
          -4.574068069458008,
          10.768383979797363,
          -8.666926383972168,
          -11.190925598144531,
          -2.935528516769409,
          2.9459643363952637,
          -9.78575325012207,
          7.67783260345459,
          16.825223922729492,
          -9.119344711303711,
          14.755457878112793,
          12.08694839477539,
          -5.498514652252197,
          7.621145725250244,
          11.33950424194336,
          -10.603322982788086,
          18.649349212646484,
          -6.243413925170898,
          -12.05342960357666,
          19.288707733154297,
          8.222554206848145,
          -8.496984481811523,
          18.972307205200195,
          -5.571620464324951,
          14.811114311218262,
          16.27446174621582,
          12.028255462646484,
          -11.876830101013184,
          23.649478912353516,
          6.072020053863525,
          3.2741425037384033,
          15.591628074645996,
          -7.441662788391113,
          -4.585665702819824,
          17.045066833496094,
          -5.45438289642334,
          -8.726917266845703,
          19.617944717407227,
          18.098661422729492,
          14.407654762268066,
          7.6732497215271,
          5.168793201446533,
          4.256890773773193,
          -7.242188453674316,
          -5.628780364990234,
          18.585636138916016,
          -5.470860958099365,
          -5.4146623611450195,
          -7.0855536460876465,
          18.321338653564453,
          7.57551908493042,
          -12.007515907287598,
          23.72894287109375,
          3.6961729526519775,
          -4.856746673583984,
          3.4620141983032227,
          4.155179500579834,
          2.3008413314819336,
          1.9000695943832397,
          -4.936019420623779,
          -12.017923355102539,
          23.490060806274414,
          -11.274742126464844,
          3.9220194816589355,
          2.1311113834381104,
          8.162765502929688,
          3.4887683391571045,
          7.646720886230469,
          18.8862247467041,
          -4.369102478027344,
          -5.662136077880859,
          -5.549773216247559,
          2.8136024475097656,
          4.20099401473999,
          -8.704462051391602,
          -5.434234142303467,
          -4.30095100402832,
          -6.329750061035156,
          19.56427764892578,
          -4.0260329246521,
          -5.943912982940674,
          23.509302139282227,
          15.484139442443848,
          3.60578989982605,
          14.566485404968262,
          10.075113296508789,
          -4.322110652923584,
          5.29557991027832,
          13.533071517944336,
          3.6322104930877686,
          -6.147684097290039,
          11.581472396850586,
          -5.464980125427246,
          -7.471704483032227,
          19.68328094482422,
          5.176732540130615,
          10.88411808013916,
          14.510685920715332,
          -4.409180641174316,
          -8.377426147460938,
          14.451952934265137,
          4.6542181968688965,
          13.220677375793457,
          -3.3686540126800537,
          -6.287142276763916,
          16.677963256835938,
          2.8054885864257812,
          -5.604079246520996,
          17.54617691040039,
          -7.391427040100098,
          9.354972839355469,
          12.610116958618164,
          18.879789352416992,
          -5.677724838256836,
          16.925676345825195,
          -4.9073710441589355,
          -5.067593097686768,
          15.801589012145996,
          16.03404998779297,
          2.9490926265716553,
          15.862512588500977,
          6.320204257965088,
          15.145343780517578,
          17.51670265197754,
          -6.246743679046631,
          -11.922440528869629,
          16.10465431213379,
          17.09644889831543,
          -6.257275104522705,
          -5.210618495941162,
          7.594304084777832,
          10.042717933654785,
          10.10730266571045,
          -5.283387184143066,
          -6.393741130828857,
          15.914087295532227,
          -11.973533630371094,
          17.454742431640625,
          13.244714736938477,
          10.170087814331055,
          10.221495628356934,
          13.265435218811035,
          4.705132961273193,
          10.142932891845703,
          5.484838008880615,
          5.370510578155518,
          8.674120903015137,
          11.13962173461914,
          -5.274589538574219,
          -5.593197345733643,
          -4.95191764831543,
          -4.225460052490234,
          1.856669545173645,
          3.0006401538848877,
          7.429337978363037,
          10.14342212677002,
          9.023014068603516,
          9.365833282470703,
          5.270113945007324,
          9.108466148376465,
          -6.152256011962891,
          17.30141258239746,
          3.24303936958313,
          2.652963161468506,
          -4.170791149139404,
          1.9481122493743896,
          -6.833859443664551,
          1.9264698028564453,
          1.8678998947143555,
          -11.99085807800293,
          3.0183756351470947,
          3.5494024753570557,
          -4.186023235321045,
          2.369431972503662,
          13.147356033325195,
          -10.851041793823242,
          -6.109917640686035,
          -9.204789161682129,
          -6.065301418304443,
          23.934598922729492,
          -5.5249409675598145,
          13.02015209197998,
          -6.5694146156311035,
          -2.3380966186523438,
          -2.851625680923462,
          6.952218532562256,
          16.12542152404785,
          1.911918044090271,
          -4.160164833068848,
          5.40211296081543,
          -5.835319995880127,
          -5.239398002624512,
          15.146058082580566,
          -5.095277309417725,
          5.010522365570068,
          11.65573501586914,
          8.04158878326416,
          -4.121534824371338,
          4.214559555053711,
          -5.747740745544434,
          -5.446789741516113,
          13.051708221435547,
          -7.460565090179443,
          -5.569512367248535,
          -12.07176399230957,
          -5.715733051300049,
          -4.782886028289795,
          -5.404421806335449,
          -5.9226861000061035,
          8.204129219055176,
          17.3271427154541,
          -4.227504730224609,
          -11.015092849731445,
          6.900247573852539,
          18.120689392089844,
          23.943513870239258,
          15.878907203674316,
          2.6727583408355713,
          6.049633502960205,
          7.810421466827393,
          -5.511642932891846,
          5.2775654792785645,
          -5.509885311126709,
          -5.407486915588379,
          5.089855194091797,
          23.937944412231445,
          -7.762831211090088,
          -5.432858467102051,
          -5.4984636306762695,
          -5.555835723876953,
          2.121734380722046,
          -4.975947856903076,
          -11.025976181030273,
          -12.082822799682617,
          19.695573806762695,
          7.466421604156494,
          6.402528762817383,
          11.884584426879883,
          -5.565081596374512,
          -5.436190605163574,
          15.138561248779297,
          11.932859420776367,
          6.267643451690674,
          -4.990335941314697,
          2.7242789268493652,
          13.875022888183594,
          4.1846513748168945,
          -9.535235404968262,
          -10.907875061035156,
          4.201114177703857,
          -5.5470356941223145,
          3.4644997119903564,
          -4.968723773956299,
          15.482504844665527,
          -11.004624366760254,
          2.594191312789917,
          11.52445125579834,
          -4.006762504577637,
          4.452479839324951,
          17.673362731933594,
          19.03985023498535,
          -2.1040680408477783,
          11.823564529418945,
          -5.524008274078369,
          19.646760940551758,
          -6.687600135803223,
          1.9361733198165894,
          3.480468511581421,
          -4.162745952606201,
          8.739481925964355,
          10.174315452575684,
          2.771151304244995,
          -6.823167324066162,
          -4.083959102630615,
          19.590286254882812,
          7.661848068237305,
          9.142897605895996,
          2.7518253326416016,
          7.472877502441406,
          3.4268417358398438,
          9.975510597229004,
          2.4757912158966064,
          -7.7462077140808105,
          3.2428436279296875
         ],
         "yaxis": "y"
        }
       ],
       "layout": {
        "coloraxis": {
         "colorbar": {
          "title": {
           "text": "Topic"
          }
         },
         "colorscale": [
          [
           0,
           "#0d0887"
          ],
          [
           0.1111111111111111,
           "#46039f"
          ],
          [
           0.2222222222222222,
           "#7201a8"
          ],
          [
           0.3333333333333333,
           "#9c179e"
          ],
          [
           0.4444444444444444,
           "#bd3786"
          ],
          [
           0.5555555555555556,
           "#d8576b"
          ],
          [
           0.6666666666666666,
           "#ed7953"
          ],
          [
           0.7777777777777778,
           "#fb9f3a"
          ],
          [
           0.8888888888888888,
           "#fdca26"
          ],
          [
           1,
           "#f0f921"
          ]
         ]
        },
        "legend": {
         "tracegroupgap": 0
        },
        "template": {
         "data": {
          "bar": [
           {
            "error_x": {
             "color": "#2a3f5f"
            },
            "error_y": {
             "color": "#2a3f5f"
            },
            "marker": {
             "line": {
              "color": "#E5ECF6",
              "width": 0.5
             },
             "pattern": {
              "fillmode": "overlay",
              "size": 10,
              "solidity": 0.2
             }
            },
            "type": "bar"
           }
          ],
          "barpolar": [
           {
            "marker": {
             "line": {
              "color": "#E5ECF6",
              "width": 0.5
             },
             "pattern": {
              "fillmode": "overlay",
              "size": 10,
              "solidity": 0.2
             }
            },
            "type": "barpolar"
           }
          ],
          "carpet": [
           {
            "aaxis": {
             "endlinecolor": "#2a3f5f",
             "gridcolor": "white",
             "linecolor": "white",
             "minorgridcolor": "white",
             "startlinecolor": "#2a3f5f"
            },
            "baxis": {
             "endlinecolor": "#2a3f5f",
             "gridcolor": "white",
             "linecolor": "white",
             "minorgridcolor": "white",
             "startlinecolor": "#2a3f5f"
            },
            "type": "carpet"
           }
          ],
          "choropleth": [
           {
            "colorbar": {
             "outlinewidth": 0,
             "ticks": ""
            },
            "type": "choropleth"
           }
          ],
          "contour": [
           {
            "colorbar": {
             "outlinewidth": 0,
             "ticks": ""
            },
            "colorscale": [
             [
              0,
              "#0d0887"
             ],
             [
              0.1111111111111111,
              "#46039f"
             ],
             [
              0.2222222222222222,
              "#7201a8"
             ],
             [
              0.3333333333333333,
              "#9c179e"
             ],
             [
              0.4444444444444444,
              "#bd3786"
             ],
             [
              0.5555555555555556,
              "#d8576b"
             ],
             [
              0.6666666666666666,
              "#ed7953"
             ],
             [
              0.7777777777777778,
              "#fb9f3a"
             ],
             [
              0.8888888888888888,
              "#fdca26"
             ],
             [
              1,
              "#f0f921"
             ]
            ],
            "type": "contour"
           }
          ],
          "contourcarpet": [
           {
            "colorbar": {
             "outlinewidth": 0,
             "ticks": ""
            },
            "type": "contourcarpet"
           }
          ],
          "heatmap": [
           {
            "colorbar": {
             "outlinewidth": 0,
             "ticks": ""
            },
            "colorscale": [
             [
              0,
              "#0d0887"
             ],
             [
              0.1111111111111111,
              "#46039f"
             ],
             [
              0.2222222222222222,
              "#7201a8"
             ],
             [
              0.3333333333333333,
              "#9c179e"
             ],
             [
              0.4444444444444444,
              "#bd3786"
             ],
             [
              0.5555555555555556,
              "#d8576b"
             ],
             [
              0.6666666666666666,
              "#ed7953"
             ],
             [
              0.7777777777777778,
              "#fb9f3a"
             ],
             [
              0.8888888888888888,
              "#fdca26"
             ],
             [
              1,
              "#f0f921"
             ]
            ],
            "type": "heatmap"
           }
          ],
          "heatmapgl": [
           {
            "colorbar": {
             "outlinewidth": 0,
             "ticks": ""
            },
            "colorscale": [
             [
              0,
              "#0d0887"
             ],
             [
              0.1111111111111111,
              "#46039f"
             ],
             [
              0.2222222222222222,
              "#7201a8"
             ],
             [
              0.3333333333333333,
              "#9c179e"
             ],
             [
              0.4444444444444444,
              "#bd3786"
             ],
             [
              0.5555555555555556,
              "#d8576b"
             ],
             [
              0.6666666666666666,
              "#ed7953"
             ],
             [
              0.7777777777777778,
              "#fb9f3a"
             ],
             [
              0.8888888888888888,
              "#fdca26"
             ],
             [
              1,
              "#f0f921"
             ]
            ],
            "type": "heatmapgl"
           }
          ],
          "histogram": [
           {
            "marker": {
             "pattern": {
              "fillmode": "overlay",
              "size": 10,
              "solidity": 0.2
             }
            },
            "type": "histogram"
           }
          ],
          "histogram2d": [
           {
            "colorbar": {
             "outlinewidth": 0,
             "ticks": ""
            },
            "colorscale": [
             [
              0,
              "#0d0887"
             ],
             [
              0.1111111111111111,
              "#46039f"
             ],
             [
              0.2222222222222222,
              "#7201a8"
             ],
             [
              0.3333333333333333,
              "#9c179e"
             ],
             [
              0.4444444444444444,
              "#bd3786"
             ],
             [
              0.5555555555555556,
              "#d8576b"
             ],
             [
              0.6666666666666666,
              "#ed7953"
             ],
             [
              0.7777777777777778,
              "#fb9f3a"
             ],
             [
              0.8888888888888888,
              "#fdca26"
             ],
             [
              1,
              "#f0f921"
             ]
            ],
            "type": "histogram2d"
           }
          ],
          "histogram2dcontour": [
           {
            "colorbar": {
             "outlinewidth": 0,
             "ticks": ""
            },
            "colorscale": [
             [
              0,
              "#0d0887"
             ],
             [
              0.1111111111111111,
              "#46039f"
             ],
             [
              0.2222222222222222,
              "#7201a8"
             ],
             [
              0.3333333333333333,
              "#9c179e"
             ],
             [
              0.4444444444444444,
              "#bd3786"
             ],
             [
              0.5555555555555556,
              "#d8576b"
             ],
             [
              0.6666666666666666,
              "#ed7953"
             ],
             [
              0.7777777777777778,
              "#fb9f3a"
             ],
             [
              0.8888888888888888,
              "#fdca26"
             ],
             [
              1,
              "#f0f921"
             ]
            ],
            "type": "histogram2dcontour"
           }
          ],
          "mesh3d": [
           {
            "colorbar": {
             "outlinewidth": 0,
             "ticks": ""
            },
            "type": "mesh3d"
           }
          ],
          "parcoords": [
           {
            "line": {
             "colorbar": {
              "outlinewidth": 0,
              "ticks": ""
             }
            },
            "type": "parcoords"
           }
          ],
          "pie": [
           {
            "automargin": true,
            "type": "pie"
           }
          ],
          "scatter": [
           {
            "fillpattern": {
             "fillmode": "overlay",
             "size": 10,
             "solidity": 0.2
            },
            "type": "scatter"
           }
          ],
          "scatter3d": [
           {
            "line": {
             "colorbar": {
              "outlinewidth": 0,
              "ticks": ""
             }
            },
            "marker": {
             "colorbar": {
              "outlinewidth": 0,
              "ticks": ""
             }
            },
            "type": "scatter3d"
           }
          ],
          "scattercarpet": [
           {
            "marker": {
             "colorbar": {
              "outlinewidth": 0,
              "ticks": ""
             }
            },
            "type": "scattercarpet"
           }
          ],
          "scattergeo": [
           {
            "marker": {
             "colorbar": {
              "outlinewidth": 0,
              "ticks": ""
             }
            },
            "type": "scattergeo"
           }
          ],
          "scattergl": [
           {
            "marker": {
             "colorbar": {
              "outlinewidth": 0,
              "ticks": ""
             }
            },
            "type": "scattergl"
           }
          ],
          "scattermapbox": [
           {
            "marker": {
             "colorbar": {
              "outlinewidth": 0,
              "ticks": ""
             }
            },
            "type": "scattermapbox"
           }
          ],
          "scatterpolar": [
           {
            "marker": {
             "colorbar": {
              "outlinewidth": 0,
              "ticks": ""
             }
            },
            "type": "scatterpolar"
           }
          ],
          "scatterpolargl": [
           {
            "marker": {
             "colorbar": {
              "outlinewidth": 0,
              "ticks": ""
             }
            },
            "type": "scatterpolargl"
           }
          ],
          "scatterternary": [
           {
            "marker": {
             "colorbar": {
              "outlinewidth": 0,
              "ticks": ""
             }
            },
            "type": "scatterternary"
           }
          ],
          "surface": [
           {
            "colorbar": {
             "outlinewidth": 0,
             "ticks": ""
            },
            "colorscale": [
             [
              0,
              "#0d0887"
             ],
             [
              0.1111111111111111,
              "#46039f"
             ],
             [
              0.2222222222222222,
              "#7201a8"
             ],
             [
              0.3333333333333333,
              "#9c179e"
             ],
             [
              0.4444444444444444,
              "#bd3786"
             ],
             [
              0.5555555555555556,
              "#d8576b"
             ],
             [
              0.6666666666666666,
              "#ed7953"
             ],
             [
              0.7777777777777778,
              "#fb9f3a"
             ],
             [
              0.8888888888888888,
              "#fdca26"
             ],
             [
              1,
              "#f0f921"
             ]
            ],
            "type": "surface"
           }
          ],
          "table": [
           {
            "cells": {
             "fill": {
              "color": "#EBF0F8"
             },
             "line": {
              "color": "white"
             }
            },
            "header": {
             "fill": {
              "color": "#C8D4E3"
             },
             "line": {
              "color": "white"
             }
            },
            "type": "table"
           }
          ]
         },
         "layout": {
          "annotationdefaults": {
           "arrowcolor": "#2a3f5f",
           "arrowhead": 0,
           "arrowwidth": 1
          },
          "autotypenumbers": "strict",
          "coloraxis": {
           "colorbar": {
            "outlinewidth": 0,
            "ticks": ""
           }
          },
          "colorscale": {
           "diverging": [
            [
             0,
             "#8e0152"
            ],
            [
             0.1,
             "#c51b7d"
            ],
            [
             0.2,
             "#de77ae"
            ],
            [
             0.3,
             "#f1b6da"
            ],
            [
             0.4,
             "#fde0ef"
            ],
            [
             0.5,
             "#f7f7f7"
            ],
            [
             0.6,
             "#e6f5d0"
            ],
            [
             0.7,
             "#b8e186"
            ],
            [
             0.8,
             "#7fbc41"
            ],
            [
             0.9,
             "#4d9221"
            ],
            [
             1,
             "#276419"
            ]
           ],
           "sequential": [
            [
             0,
             "#0d0887"
            ],
            [
             0.1111111111111111,
             "#46039f"
            ],
            [
             0.2222222222222222,
             "#7201a8"
            ],
            [
             0.3333333333333333,
             "#9c179e"
            ],
            [
             0.4444444444444444,
             "#bd3786"
            ],
            [
             0.5555555555555556,
             "#d8576b"
            ],
            [
             0.6666666666666666,
             "#ed7953"
            ],
            [
             0.7777777777777778,
             "#fb9f3a"
            ],
            [
             0.8888888888888888,
             "#fdca26"
            ],
            [
             1,
             "#f0f921"
            ]
           ],
           "sequentialminus": [
            [
             0,
             "#0d0887"
            ],
            [
             0.1111111111111111,
             "#46039f"
            ],
            [
             0.2222222222222222,
             "#7201a8"
            ],
            [
             0.3333333333333333,
             "#9c179e"
            ],
            [
             0.4444444444444444,
             "#bd3786"
            ],
            [
             0.5555555555555556,
             "#d8576b"
            ],
            [
             0.6666666666666666,
             "#ed7953"
            ],
            [
             0.7777777777777778,
             "#fb9f3a"
            ],
            [
             0.8888888888888888,
             "#fdca26"
            ],
            [
             1,
             "#f0f921"
            ]
           ]
          },
          "colorway": [
           "#636efa",
           "#EF553B",
           "#00cc96",
           "#ab63fa",
           "#FFA15A",
           "#19d3f3",
           "#FF6692",
           "#B6E880",
           "#FF97FF",
           "#FECB52"
          ],
          "font": {
           "color": "#2a3f5f"
          },
          "geo": {
           "bgcolor": "white",
           "lakecolor": "white",
           "landcolor": "#E5ECF6",
           "showlakes": true,
           "showland": true,
           "subunitcolor": "white"
          },
          "hoverlabel": {
           "align": "left"
          },
          "hovermode": "closest",
          "mapbox": {
           "style": "light"
          },
          "paper_bgcolor": "white",
          "plot_bgcolor": "#E5ECF6",
          "polar": {
           "angularaxis": {
            "gridcolor": "white",
            "linecolor": "white",
            "ticks": ""
           },
           "bgcolor": "#E5ECF6",
           "radialaxis": {
            "gridcolor": "white",
            "linecolor": "white",
            "ticks": ""
           }
          },
          "scene": {
           "xaxis": {
            "backgroundcolor": "#E5ECF6",
            "gridcolor": "white",
            "gridwidth": 2,
            "linecolor": "white",
            "showbackground": true,
            "ticks": "",
            "zerolinecolor": "white"
           },
           "yaxis": {
            "backgroundcolor": "#E5ECF6",
            "gridcolor": "white",
            "gridwidth": 2,
            "linecolor": "white",
            "showbackground": true,
            "ticks": "",
            "zerolinecolor": "white"
           },
           "zaxis": {
            "backgroundcolor": "#E5ECF6",
            "gridcolor": "white",
            "gridwidth": 2,
            "linecolor": "white",
            "showbackground": true,
            "ticks": "",
            "zerolinecolor": "white"
           }
          },
          "shapedefaults": {
           "line": {
            "color": "#2a3f5f"
           }
          },
          "ternary": {
           "aaxis": {
            "gridcolor": "white",
            "linecolor": "white",
            "ticks": ""
           },
           "baxis": {
            "gridcolor": "white",
            "linecolor": "white",
            "ticks": ""
           },
           "bgcolor": "#E5ECF6",
           "caxis": {
            "gridcolor": "white",
            "linecolor": "white",
            "ticks": ""
           }
          },
          "title": {
           "x": 0.05
          },
          "xaxis": {
           "automargin": true,
           "gridcolor": "white",
           "linecolor": "white",
           "ticks": "",
           "title": {
            "standoff": 15
           },
           "zerolinecolor": "white",
           "zerolinewidth": 2
          },
          "yaxis": {
           "automargin": true,
           "gridcolor": "white",
           "linecolor": "white",
           "ticks": "",
           "title": {
            "standoff": 15
           },
           "zerolinecolor": "white",
           "zerolinewidth": 2
          }
         }
        },
        "title": {
         "text": "UMAP Visualization of BERTopic Clusters (n_neighbors=50, n_components=4)"
        },
        "xaxis": {
         "anchor": "y",
         "domain": [
          0,
          1
         ],
         "title": {
          "text": "UMAP Dimension 1"
         }
        },
        "yaxis": {
         "anchor": "x",
         "domain": [
          0,
          1
         ],
         "title": {
          "text": "UMAP Dimension 2"
         }
        }
       }
      }
     },
     "metadata": {},
     "output_type": "display_data"
    },
    {
     "data": {
      "application/vnd.plotly.v1+json": {
       "config": {
        "plotlyServerURL": "https://plot.ly"
       },
       "data": [
        {
         "customdata": [
          [
           0,
           "Published research papers on AI training compute trends"
          ],
          [
           0,
           "Reports from industry analysts like SemiAnalysis"
          ],
          [
           2,
           "Data from cloud computing providers like AWS, Azure, and Google Cloud"
          ],
          [
           0,
           "Financial reports from companies investing in AI infrastructure"
          ],
          [
           0,
           "Analysis of AI hardware and software costs"
          ],
          [
           0,
           "Economic models forecasting AI infrastructure expenditure"
          ],
          [
           2,
           "Reports on renewable energy deployment and capacity"
          ],
          [
           2,
           "Studies on the integration of renewable energy into data centers"
          ],
          [
           2,
           "Analysis of the cost and efficiency of renewable energy technologies"
          ],
          [
           0,
           "Research papers on AI algorithm efficiency improvements"
          ],
          [
           0,
           "Technical reports on new AI hardware designs"
          ],
          [
           1,
           "Forecasts for future developments in AI technology"
          ],
          [
           0,
           "Reports on AI hardware advancements"
          ],
          [
           2,
           "Data on AI training compute power usage"
          ],
          [
           2,
           "Analysis of AI model size and complexity"
          ],
          [
           0,
           "Research papers on AI algorithm efficiency"
          ],
          [
           0,
           "Publications on AI optimization techniques"
          ],
          [
           0,
           "Industry reports on advancements in AI training software"
          ],
          [
           2,
           "Reports on renewable energy cost trends"
          ],
          [
           2,
           "Analysis of the economic feasibility of renewable energy for data centers"
          ],
          [
           2,
           "Studies on the impact of renewable energy on the AI industry"
          ],
          [
           0,
           "Market research on AI product adoption"
          ],
          [
           0,
           "Economic forecasts for the AI industry"
          ],
          [
           0,
           "Analysis of consumer demand for AI-powered services"
          ],
          [
           0,
           "Market research reports on semiconductor industry trends"
          ],
          [
           0,
           "Analyst projections for AI hardware development"
          ],
          [
           0,
           "Technical papers on limitations of current and future chip technologies"
          ],
          [
           0,
           "Research papers on AI energy efficiency"
          ],
          [
           0,
           "Industry reports on advancements in AI hardware and software"
          ],
          [
           2,
           "Data on historical trends in energy consumption per AI task"
          ],
          [
           2,
           "Industry data on the ratio of training to inference compute usage"
          ],
          [
           1,
           "Analyst predictions on the future of AI deployment and application"
          ],
          [
           2,
           "Case studies of AI applications and their energy consumption"
          ],
          [
           2,
           "Government policies and investment plans related to renewable energy"
          ],
          [
           2,
           "Industry reports on energy storage technology development"
          ],
          [
           2,
           "Analysis of the feasibility of integrating renewable energy into large-scale data centers"
          ],
          [
           2,
           "Data on historical trends in energy consumption and electricity production"
          ],
          [
           1,
           "Expert opinions and predictions on the future of AI and energy"
          ],
          [
           2,
           "Analysis of the interplay between AI growth, energy consumption, and policy interventions"
          ],
          [
           2,
           "Energy projections and forecasts for the next decade"
          ],
          [
           2,
           "Studies on the energy requirements of AI training and inference"
          ],
          [
           2,
           "Reports on renewable energy production capacity and growth"
          ],
          [
           2,
           "Data on electricity consumption in major data centers"
          ],
          [
           0,
           "Research papers on energy-efficient AI hardware and software"
          ],
          [
           2,
           "Industry reports on energy storage technologies"
          ],
          [
           2,
           "Forecasts of future energy efficiency improvements"
          ],
          [
           2,
           "Research papers on data center design and optimization"
          ],
          [
           2,
           "Industry reports on data center construction and capacity"
          ],
          [
           2,
           "Case studies of large-scale data center projects"
          ],
          [
           2,
           "Investment trends in renewable energy"
          ],
          [
           2,
           "Government policies and incentives related to renewable energy"
          ],
          [
           0,
           "Reports on the economic impact of AI infrastructure"
          ],
          [
           0,
           "Research papers on AI algorithms and architectures"
          ],
          [
           0,
           "Industry reports on advancements in AI efficiency"
          ],
          [
           2,
           "Data on the computational requirements of different AI models"
          ],
          [
           0,
           "Published articles or reports from The Information"
          ],
          [
           0,
           "Press releases or announcements from OpenAI and Microsoft"
          ],
          [
           0,
           "Industry news and analysis websites covering AI and cloud computing"
          ],
          [
           0,
           "The Information article or report detailing the investment"
          ],
          [
           0,
           "Statements or announcements from OpenAI and Microsoft about their infrastructure plans"
          ],
          [
           2,
           "Industry analysis and reports on AI cluster capacity and energy consumption"
          ],
          [
           0,
           "The Information article or report detailing the investment"
          ],
          [
           0,
           "Statements or announcements from OpenAI and Microsoft about their investment plans"
          ],
          [
           0,
           "Industry analysis and reports on AI investment trends"
          ],
          [
           0,
           "Scientific publications and research papers on AI hardware and software energy efficiency"
          ],
          [
           2,
           "Industry reports and analysis on energy consumption trends in AI"
          ],
          [
           0,
           "Statements from companies developing AI hardware and software about their energy efficiency improvements"
          ],
          [
           2,
           "Statistics and reports on global renewable energy production and capacity"
          ],
          [
           2,
           "Data on energy consumption trends for AI data centers"
          ],
          [
           2,
           "Analysis on the feasibility of powering AI infrastructure with renewable energy"
          ],
          [
           0,
           "The Information report itself"
          ],
          [
           0,
           "Industry reports on AI infrastructure costs"
          ],
          [
           1,
           "Expert opinions and analyses from AI and cloud computing professionals"
          ],
          [
           0,
           "Official press releases from OpenAI and Microsoft"
          ],
          [
           0,
           "Public statements from executives of both companies"
          ],
          [
           0,
           "Official filings with regulatory bodies"
          ],
          [
           0,
           "Industry reports and analyses on AI cluster sizes and requirements"
          ],
          [
           1,
           "Expert opinions on the technical specifications of such large-scale AI projects"
          ],
          [
           0,
           "Comparative analysis of previous large-scale AI infrastructure projects"
          ],
          [
           0,
           "Financial reports and analyses of OpenAI and Microsoft"
          ],
          [
           1,
           "Expert opinions on the feasibility of implementing large-scale AI projects"
          ],
          [
           1,
           "News reports and analyses of the potential risks and challenges associated with the project"
          ],
          [
           0,
           "Industry reports on AI infrastructure costs (e.g., from companies like McKinsey, IDC, or Gartner)"
          ],
          [
           0,
           "Financial analyses of existing large-scale AI projects (e.g., Google's AI infrastructure investments)"
          ],
          [
           1,
           "Expert opinions and forecasts from industry leaders in AI and computing infrastructure"
          ],
          [
           0,
           "Market research reports from reputable industry analysts (e.g., IDC, Gartner, Forrester)"
          ],
          [
           0,
           "Financial projections from major technology companies involved in AI development"
          ],
          [
           0,
           "Industry publications and articles discussing AI investment trends and forecasts"
          ],
          [
           0,
           "Market analysis of AI accelerator manufacturers (e.g., Nvidia, AMD)"
          ],
          [
           0,
           "Financial reports and statements from companies selling AI accelerators"
          ],
          [
           0,
           "Industry research on the growing demand for AI accelerators"
          ],
          [
           0,
           "Market research reports on the AI industry"
          ],
          [
           0,
           "Financial forecasts and analyses from investment firms"
          ],
          [
           0,
           "Data on AI-related funding rounds and mergers and acquisitions"
          ],
          [
           0,
           "Industry reports on AI adoption trends"
          ],
          [
           1,
           "Surveys and interviews with industry leaders and technology experts"
          ],
          [
           0,
           "Data on AI software and hardware deployments in various sectors"
          ],
          [
           3,
           "Government policies and regulations related to AI"
          ],
          [
           3,
           "Industry analysis of the impact of policy on AI development"
          ],
          [
           1,
           "Legal opinions and commentaries on AI legislation"
          ],
          [
           0,
           "Economic forecasts and predictions from reputable institutions"
          ],
          [
           0,
           "Data on investment trends during past economic recessions"
          ],
          [
           0,
           "Analysis of the impact of economic conditions on technology investments"
          ],
          [
           3,
           "Research papers and publications on AI advancements"
          ],
          [
           0,
           "Industry reports on emerging AI technologies"
          ],
          [
           0,
           "News and articles covering AI breakthroughs and innovations"
          ],
          [
           0,
           "Investment industry reports and analyses"
          ],
          [
           1,
           "Surveys of investor sentiment towards AI"
          ],
          [
           0,
           "Data on venture capital funding in AI startups"
          ],
          [
           1,
           "Geopolitical risk assessments and analysis"
          ],
          [
           1,
           "News and analysis of global events and their impact on markets"
          ],
          [
           1,
           "Reports on international relations and security"
          ],
          [
           0,
           "Research on AI hardware and software costs"
          ],
          [
           0,
           "Industry analysis of AI development costs"
          ],
          [
           0,
           "Data on the price of AI hardware and cloud computing services"
          ],
          [
           0,
           "Financial reports and investment analyses of AI companies"
          ],
          [
           0,
           "Market research on the potential revenue streams for AI applications"
          ],
          [
           1,
           "Expert opinions on the economic feasibility of AI development"
          ],
          [
           3,
           "Research papers on the societal applications of AI"
          ],
          [
           2,
           "Case studies of AI projects addressing social challenges"
          ],
          [
           1,
           "Expert interviews on the societal implications of AI advancements"
          ],
          [
           0,
           "Market research on the adoption of AI-powered products and services"
          ],
          [
           1,
           "Surveys and studies on public perception of AI"
          ],
          [
           0,
           "Analysis of trends in AI usage across various sectors"
          ],
          [
           0,
           "Reports on AI investment and spending"
          ],
          [
           0,
           "Market research on AI adoption and revenue"
          ],
          [
           0,
           "Financial analyses of AI companies"
          ],
          [
           0,
           "Economic forecasts and projections"
          ],
          [
           0,
           "Market data on technological growth and investment"
          ],
          [
           0,
           "Reports on AI-related revenue and market size"
          ],
          [
           0,
           "Research papers on AI capabilities and limitations"
          ],
          [
           0,
           "Industry reports on AI applications and development"
          ],
          [
           1,
           "Expert opinions on the future of AI research"
          ],
          [
           1,
           "Public opinion surveys and polls"
          ],
          [
           1,
           "Research on AI ethics and social impact"
          ],
          [
           3,
           "Government regulations and policies related to AI"
          ],
          [
           0,
           "Research papers on AI advancements and roadblocks"
          ],
          [
           0,
           "Industry reports on AI development timelines and challenges"
          ],
          [
           1,
           "Expert opinions on the future of AI research"
          ],
          [
           0,
           "Market research reports on AI applications"
          ],
          [
           0,
           "Financial projections from leading AI companies"
          ],
          [
           1,
           "Industry expert opinions on AI market growth"
          ],
          [
           0,
           "Research on AI hardware and software development costs"
          ],
          [
           2,
           "Data on the cost of training and deploying AI models"
          ],
          [
           2,
           "Analysis of trends in AI infrastructure pricing"
          ],
          [
           2,
           "Case studies on the financial performance of AI-powered businesses"
          ],
          [
           0,
           "Analysis of existing AI revenue models and their effectiveness"
          ],
          [
           1,
           "Expert opinions on the potential for AI to generate significant revenue"
          ],
          [
           2,
           "Case studies on AI implementation challenges in different industries"
          ],
          [
           1,
           "Expert opinions on the difficulties of integrating AI into existing workflows"
          ],
          [
           3,
           "Research on the human and organizational factors affecting AI adoption"
          ],
          [
           0,
           "Government spending data on AI research and development"
          ],
          [
           0,
           "Private investment data in AI companies and projects"
          ],
          [
           0,
           "Analysis of the funding landscape for AI innovation"
          ],
          [
           0,
           "Microsoft Office subscriber data"
          ],
          [
           0,
           "Market research reports on AI adoption rates"
          ],
          [
           0,
           "Analysis of user reviews and feedback on AI-powered applications"
          ],
          [
           1,
           "Studies on the impact of AI on labor productivity"
          ],
          [
           0,
           "Data on AI investments by major technology companies"
          ],
          [
           2,
           "Analysis of case studies on successful AI implementations in various industries"
          ],
          [
           2,
           "Case studies of AI implementation in various organizations"
          ],
          [
           0,
           "Analysis of industry reports on AI adoption trends"
          ],
          [
           1,
           "Interviews with industry experts on the challenges and opportunities of AI integration"
          ],
          [
           0,
           "Analysis of market trends in the tech industry"
          ],
          [
           0,
           "Reports on mergers and acquisitions related to AI"
          ],
          [
           1,
           "Expert opinions on the future of the tech industry"
          ],
          [
           1,
           "Ethical guidelines and regulations for AI development"
          ],
          [
           1,
           "Public opinion surveys on AI ethics"
          ],
          [
           1,
           "Research on the social and economic impact of AI"
          ],
          [
           3,
           "Academic studies on AI productivity"
          ],
          [
           2,
           "Case studies of AI implementation in knowledge-intensive work"
          ],
          [
           0,
           "Reports from industry analysts on AI adoption and its impact on productivity"
          ],
          [
           0,
           "Market research on AI tool adoption"
          ],
          [
           1,
           "Surveys of knowledge workers about their use of AI tools"
          ],
          [
           0,
           "Analysis of factors influencing AI adoption in organizations"
          ],
          [
           0,
           "Research on the capabilities and limitations of current AI models"
          ],
          [
           1,
           "Expert opinions on the state of AI research and its ability to handle complex tasks"
          ],
          [
           2,
           "Benchmarking studies of AI performance on specific tasks"
          ],
          [
           0,
           "Analysis of AI implementation costs in various industries"
          ],
          [
           0,
           "Financial reports of companies using AI tools"
          ],
          [
           1,
           "Interviews with business leaders about their experiences with AI adoption"
          ],
          [
           3,
           "Research papers on AI productivity gains"
          ],
          [
           2,
           "Case studies of AI implementations in knowledge-based work"
          ],
          [
           0,
           "Industry reports on AI adoption and impact on productivity"
          ],
          [
           3,
           "Research papers on computational requirements for AGI"
          ],
          [
           1,
           "Expert opinions on the computational resources needed for AGI"
          ],
          [
           1,
           "Predictions and forecasts about the future of AI computing"
          ],
          [
           3,
           "Studies on human-AI collaboration and adoption"
          ],
          [
           1,
           "Surveys of knowledge workers on their attitudes towards AI tools"
          ],
          [
           0,
           "Analysis of barriers to AI adoption in the workplace"
          ],
          [
           2,
           "Cost analysis of large-scale data centers"
          ],
          [
           0,
           "Industry reports on the economics of AI development"
          ],
          [
           0,
           "Financial forecasts for AI investments and returns"
          ],
          [
           3,
           "Research papers on the timeline for AGI"
          ],
          [
           1,
           "Expert predictions about the future of AI"
          ],
          [
           0,
           "Historical trends in AI progress and development"
          ],
          [
           0,
           "Publications from leading AI research labs (e.g., OpenAI, DeepMind)"
          ],
          [
           0,
           "Academic papers on AI scaling laws and computational requirements"
          ],
          [
           1,
           "Expert opinions from prominent AI researchers"
          ],
          [
           2,
           "Benchmarking results for AI models on reasoning, problem-solving, and critical thinking tasks"
          ],
          [
           0,
           "Research papers on AI progress in cognitive abilities"
          ],
          [
           0,
           "Reports from organizations evaluating AI capabilities"
          ],
          [
           0,
           "Recent research papers on AI algorithms and architectures"
          ],
          [
           1,
           "Expert interviews and predictions from leading AI researchers"
          ],
          [
           0,
           "Reports from AI conferences and workshops"
          ],
          [
           0,
           "Published research papers on AI progress in agentic tasks"
          ],
          [
           0,
           "Technical reports from AI research labs"
          ],
          [
           2,
           "Benchmark evaluations of AI models on tasks requiring long-term planning"
          ],
          [
           1,
           "Expert opinions and predictions from leading AI researchers"
          ],
          [
           2,
           "Analysis of AI model performance on various benchmark tasks"
          ],
          [
           0,
           "Reports on emerging trends in AI research"
          ],
          [
           1,
           "Expert opinions on the limitations of current AI approaches"
          ],
          [
           0,
           "Research on AI's ability to learn and reason from real-world experiences"
          ],
          [
           0,
           "Research papers on AI memory and context modeling"
          ],
          [
           0,
           "Technical reports on advancements in AI memory architecture"
          ],
          [
           2,
           "Benchmark evaluations of AI models on tasks requiring long-term context understanding"
          ],
          [
           0,
           "Research papers on reinforcement learning and symbolic reasoning in AI"
          ],
          [
           0,
           "Reports on advancements in AI planning algorithms"
          ],
          [
           2,
           "Benchmark evaluations of AI models on tasks requiring reasoning and planning"
          ],
          [
           0,
           "Research papers on AI advancements"
          ],
          [
           0,
           "Publications from leading AI labs (e.g., OpenAI, DeepMind)"
          ],
          [
           3,
           "Conference proceedings on AI research"
          ],
          [
           1,
           "Expert opinions and predictions from leading AI researchers"
          ],
          [
           0,
           "Research papers on AI limitations"
          ],
          [
           0,
           "Critical analyses of current AI models"
          ],
          [
           1,
           "Expert opinions on the challenges of achieving human-level intelligence in AI"
          ],
          [
           0,
           "Research on large language models and their training data"
          ],
          [
           0,
           "Publications on advancements in AI hardware and infrastructure"
          ],
          [
           1,
           "Expert opinions on the impact of computational power on AI progress"
          ],
          [
           0,
           "Research papers on novel AI algorithms and techniques"
          ],
          [
           0,
           "Publications on advancements in AI reasoning and planning"
          ],
          [
           1,
           "Expert opinions on the future of AI algorithms"
          ],
          [
           1,
           "Ethical guidelines for AI development"
          ],
          [
           1,
           "Research on the societal impact of AI"
          ],
          [
           1,
           "Public discourse on the risks and benefits of advanced AI"
          ],
          [
           0,
           "Research papers on AI capabilities"
          ],
          [
           0,
           "Technical reports on AI system development"
          ],
          [
           2,
           "Case studies of AI system deployments in real-world environments"
          ],
          [
           0,
           "Analysis of AI system performance metrics related to agentic behavior"
          ],
          [
           0,
           "Industry reports on AI adoption rates and integration challenges"
          ],
          [
           2,
           "Case studies of AI system implementations in various industries"
          ],
          [
           0,
           "Analysis of cost and time required for AI system integration"
          ],
          [
           1,
           "Surveys and interviews with industry experts on AI integration challenges"
          ],
          [
           0,
           "Research papers on AI development trends"
          ],
          [
           0,
           "Technical reports on specific AI applications"
          ],
          [
           1,
           "Interviews with AI researchers and developers"
          ],
          [
           0,
           "Analysis of funding and investment patterns in AI research"
          ],
          [
           0,
           "Research papers on natural language processing and social intelligence in AI"
          ],
          [
           0,
           "Technical reports on AI models designed for social interaction"
          ],
          [
           2,
           "Case studies of AI systems used in social contexts"
          ],
          [
           0,
           "Analysis of AI system performance in social interaction tasks"
          ],
          [
           2,
           "Case studies of AI system implementation in various industries"
          ],
          [
           0,
           "Research papers on the integration of AI systems into existing workflows"
          ],
          [
           0,
           "Industry reports on the adoption of AI technologies"
          ],
          [
           0,
           "Research papers on the development and capabilities of advanced AI systems"
          ],
          [
           0,
           "Studies on the adaptability and learning capabilities of AI systems"
          ],
          [
           1,
           "Expert opinions on the potential for advanced AI systems to revolutionize workflows"
          ],
          [
           1,
           "Surveys and studies on organizational awareness of AI technologies"
          ],
          [
           2,
           "Case studies of successful AI implementations showcasing organizational knowledge and skills"
          ],
          [
           1,
           "Expert opinions on the role of education and training in AI adoption"
          ],
          [
           0,
           "Research papers on the technical complexities of AI model development and deployment"
          ],
          [
           0,
           "Industry reports on the skills gap in AI implementation"
          ],
          [
           1,
           "Expert opinions on the need for specialized expertise in AI integration"
          ],
          [
           1,
           "Economic studies on the impact of AI on productivity and efficiency"
          ],
          [
           2,
           "Case studies showcasing successful AI implementations with measurable benefits"
          ],
          [
           1,
           "Expert opinions on the long-term potential of AI for organizational growth"
          ],
          [
           2,
           "Case studies on AI system integration in different industries"
          ],
          [
           0,
           "Research papers on AI system design and usability"
          ],
          [
           1,
           "Expert opinions from AI researchers and practitioners on integration challenges"
          ],
          [
           3,
           "Economic analyses of AI adoption in various sectors"
          ],
          [
           0,
           "Market research reports on the potential impact of advanced AI on industries"
          ],
          [
           1,
           "Studies on the relationship between AI capabilities and productivity gains"
          ],
          [
           0,
           "Cost estimations for developing and deploying advanced AI systems"
          ],
          [
           0,
           "Studies on the relationship between AI capabilities and development costs"
          ],
          [
           0,
           "Analysis of funding trends in AI research and development"
          ],
          [
           1,
           "Studies on the impact of early AI adoption on subsequent technological advancements"
          ],
          [
           2,
           "Case studies of companies that have transitioned from simpler AI to more complex systems"
          ],
          [
           1,
           "Expert opinions on the role of intermediate AI in facilitating the adoption of advanced AI"
          ],
          [
           0,
           "Technical papers on the limitations of current AI models"
          ],
          [
           3,
           "Research on the challenges of developing true AGI systems"
          ],
          [
           1,
           "Expert opinions on the timeframe for achieving significant advancements in AI capabilities"
          ],
          [
           2,
           "Case studies of GPT-4 implementation in software engineering"
          ],
          [
           0,
           "Research papers on AI-assisted software development"
          ],
          [
           0,
           "Reports from software engineering companies using GPT-4"
          ],
          [
           3,
           "Studies on the adoption of AI in software engineering"
          ],
          [
           0,
           "Industry reports on the challenges of AI integration"
          ],
          [
           1,
           "Interviews with software engineers using AI tools"
          ],
          [
           3,
           "Research papers on AI development timelines"
          ],
          [
           1,
           "Predictions from AI experts and researchers"
          ],
          [
           0,
           "Industry reports on the pace of AI progress"
          ],
          [
           3,
           "Economic analyses of AI adoption in software engineering"
          ],
          [
           3,
           "Studies on the return on investment of AI tools"
          ],
          [
           3,
           "Data on productivity gains from AI-assisted software development"
          ],
          [
           0,
           "Research papers on AI-assisted software development"
          ],
          [
           2,
           "Case studies of AI tool implementation in software engineering"
          ],
          [
           1,
           "Expert opinions and predictions from leading software engineering researchers"
          ],
          [
           0,
           "Industry reports on AI adoption in software development"
          ],
          [
           1,
           "Interviews with software engineers using AI tools"
          ],
          [
           0,
           "Analysis of the costs associated with implementing and maintaining AI-powered solutions"
          ],
          [
           1,
           "Predictions and roadmaps from leading AI research labs"
          ],
          [
           1,
           "Expert opinions on the future of AI in software engineering"
          ],
          [
           0,
           "Analysis of current trends in AI development and its potential applications"
          ],
          [
           0,
           "Research papers on AI communication and collaboration"
          ],
          [
           2,
           "Technical evaluations of AI models in collaborative tasks"
          ],
          [
           1,
           "Expert opinions on the current state of AI in software engineering"
          ],
          [
           0,
           "Research on AI reasoning and planning"
          ],
          [
           0,
           "Technical papers on AI error correction"
          ],
          [
           1,
           "Expert analysis on the challenges of building general-purpose AI agents"
          ],
          [
           2,
           "Analysis of AI training datasets"
          ],
          [
           0,
           "Research on data requirements for AI model development"
          ],
          [
           1,
           "Expert opinions on the availability of training data for complex cognitive tasks"
          ],
          [
           0,
           "Trend analysis in AI research"
          ],
          [
           1,
           "Predictions from leading AI experts"
          ],
          [
           0,
           "Technical evaluations of the current capabilities of AI models"
          ],
          [
           1,
           "Research on the social and economic impact of AI"
          ],
          [
           1,
           "Ethical guidelines for AI development and deployment"
          ],
          [
           1,
           "Expert opinions on the social implications of AI in the workplace"
          ],
          [
           0,
           "Research papers on chain-of-thought reasoning in AI"
          ],
          [
           2,
           "Benchmarking studies comparing AI models on chain-of-thought tasks"
          ],
          [
           2,
           "Analysis of GPT-4 and similar models' performance on tasks requiring complex reasoning"
          ],
          [
           0,
           "Research on AI training data for social interaction and collaboration"
          ],
          [
           0,
           "Datasets and studies focused on training AI for teamwork and collaborative tasks"
          ],
          [
           0,
           "Analysis of the types of data available for training AI in complex social scenarios"
          ],
          [
           0,
           "Research papers on AI social intelligence and understanding of human interaction"
          ],
          [
           0,
           "Studies evaluating AI models' ability to interpret and respond to social cues and context"
          ],
          [
           0,
           "Analysis of the challenges faced by AI in understanding and navigating complex social dynamics"
          ],
          [
           0,
           "Research on the rate of progress in AI model development"
          ],
          [
           0,
           "Analysis of trends in AI research and development related to chain-of-thought reasoning"
          ],
          [
           1,
           "Predictions and projections from experts on the timeline for significant advancements in AI capabilities"
          ],
          [
           0,
           "Published research papers on AI models' chain-of-thought capabilities"
          ],
          [
           2,
           "Benchmarks and evaluations of AI models' performance on reasoning tasks"
          ],
          [
           0,
           "Technical reports and documentation from AI research labs"
          ],
          [
           0,
           "Research on AI models' performance in complex, open-ended tasks"
          ],
          [
           0,
           "Analyses of AI models' capabilities in handling contextual information and interacting with users"
          ],
          [
           0,
           "Studies on the application of AI models in real-world scenarios like collaboration or complex problem-solving"
          ],
          [
           0,
           "Research on the relationship between AI model size, test time compute, and chain-of-thought performance"
          ],
          [
           0,
           "Studies on the impact of compute resources on AI models' reasoning capabilities"
          ],
          [
           2,
           "Analysis of AI model performance with varying test time compute limits"
          ],
          [
           0,
           "Research papers on AI model performance with varying test-time compute"
          ],
          [
           2,
           "Benchmarking studies evaluating chain-of-thought reasoning capabilities across different computational budgets"
          ],
          [
           0,
           "Technical reports and presentations from leading AI labs focusing on compute-intensive AI research"
          ],
          [
           0,
           "Research papers on training AI models for specific tasks like error correction or planning"
          ],
          [
           2,
           "Datasets and benchmarks for evaluating these tasks"
          ],
          [
           0,
           "Technical reports on advances in AI training methodologies, particularly for reasoning tasks"
          ],
          [
           0,
           "Research papers on novel AI architectures, particularly those focusing on reasoning and cognitive abilities"
          ],
          [
           0,
           "Publications on advancements in deep learning architectures"
          ],
          [
           0,
           "Technical reports from AI research groups developing new architectures"
          ],
          [
           0,
           "Philosophical works on the nature of cognition and reasoning"
          ],
          [
           0,
           "Cognitive science research on human reasoning processes"
          ],
          [
           0,
           "AI ethics papers discussing the limitations of current AI models in replicating human intelligence"
          ],
          [
           0,
           "Research papers on advancements in AI model architecture and training techniques"
          ],
          [
           0,
           "Technical reports from AI research labs focusing on computational scaling and performance improvements"
          ],
          [
           0,
           "Conference proceedings and presentations on AI model efficiency and reasoning capabilities"
          ],
          [
           0,
           "Research on memory management and computational efficiency in large language models"
          ],
          [
           0,
           "Technical discussions on the limitations of current AI model architectures in handling extended compute"
          ],
          [
           0,
           "Papers focusing on algorithmic challenges and bottlenecks in scaling AI models"
          ],
          [
           2,
           "Case studies of AI models utilizing increased test time compute to solve complex problems"
          ],
          [
           2,
           "Research papers demonstrating the impact of test time compute on specific AI tasks requiring extended reasoning"
          ],
          [
           2,
           "Benchmarking results showcasing the performance improvements achieved by models with increased test time compute"
          ],
          [
           0,
           "Research papers on AI model training for error correction and planning"
          ],
          [
           0,
           "Publications on advancements in in-context learning for AI models"
          ],
          [
           0,
           "Studies on the effectiveness of reinforcement learning techniques for training AI models in error correction and planning"
          ],
          [
           0,
           "Academic papers on the development of AI models with System 2 capabilities"
          ],
          [
           0,
           "Publications on the advancement of AI models in reasoning, planning, and complex problem-solving"
          ],
          [
           0,
           "Research reports on the evolution of AI model architectures and training methods related to System 2 thinking"
          ],
          [
           0,
           "Analysis of historical trends in AI model advancements"
          ],
          [
           1,
           "Forecasts from experts on the timeline of AI breakthroughs"
          ],
          [
           0,
           "Research on the projected growth of computational power and its impact on AI development"
          ],
          [
           0,
           "Research papers on error correction and planning in AI models"
          ],
          [
           2,
           "Data on performance improvements in AI models over time"
          ],
          [
           0,
           "Reports on the development of new AI techniques for error correction and planning"
          ],
          [
           2,
           "Benchmarking results for AI models on complex tasks and reasoning abilities"
          ],
          [
           0,
           "Research papers on advances in AI capabilities for multi-step problem-solving"
          ],
          [
           0,
           "Industry reports on the development and deployment of AI systems for complex tasks"
          ],
          [
           0,
           "Research papers on the limitations of current AI architectures and algorithms"
          ],
          [
           1,
           "Experts' opinions on the challenges of unlocking test-time compute overhang"
          ],
          [
           0,
           "Studies on the efficiency and effectiveness of various AI training techniques"
          ],
          [
           0,
           "Research papers on the effectiveness of synthetic data and RL for training AI models"
          ],
          [
           0,
           "Case studies of AI models that have successfully learned complex skills through self-play"
          ],
          [
           0,
           "Reports on the development of new RL techniques for AI training"
          ],
          [
           0,
           "Research papers on the limitations of current pre-training techniques"
          ],
          [
           2,
           "Analyses of the knowledge and reasoning capabilities of pre-trained language models"
          ],
          [
           1,
           "Expert opinions on the role of pre-training in AI development and the limitations of current approaches"
          ],
          [
           0,
           "Scientific papers on AI capabilities and cognitive processes"
          ],
          [
           0,
           "Research on AI system performance in tasks requiring System 2 thinking"
          ],
          [
           0,
           "Publications on advancements in AI unhobbling techniques"
          ],
          [
           2,
           "Data sets used for training AI models"
          ],
          [
           0,
           "Research on the impact of data size on AI model performance"
          ],
          [
           0,
           "Trends in data generation and collection"
          ],
          [
           0,
           "Research papers on AI algorithms and training methods"
          ],
          [
           0,
           "Studies on the development of AI systems with System 2 cognitive capabilities"
          ],
          [
           0,
           "Publications on advancements in AI research that focus on cognitive process improvement"
          ],
          [
           0,
           "Research on AI capabilities and their limitations"
          ],
          [
           3,
           "Publications on the challenges faced in developing advanced AI systems"
          ],
          [
           1,
           "Expert opinions and predictions on the future of AI research"
          ],
          [
           3,
           "Peer-reviewed publications in AI and machine learning"
          ],
          [
           0,
           "Research papers on AI planning and reasoning"
          ],
          [
           0,
           "Conference proceedings on AI advancements"
          ],
          [
           0,
           "Technical reports from leading AI research labs"
          ],
          [
           2,
           "Evaluations of AI models on tasks requiring reasoning and adaptation"
          ],
          [
           2,
           "Case studies of AI model limitations in real-world applications"
          ],
          [
           0,
           "Technical reports and discussions on AI model shortcomings"
          ],
          [
           0,
           "Research papers on AI model scaling and optimization"
          ],
          [
           0,
           "Technical reports on AI system development strategies"
          ],
          [
           0,
           "Discussions on the limitations of current AI models in terms of agentified behavior"
          ],
          [
           0,
           "Research papers on AI error correction techniques"
          ],
          [
           0,
           "Studies on AI planning algorithms and implementations"
          ],
          [
           0,
           "Technical reports on advancements in AI model reasoning and problem-solving"
          ],
          [
           0,
           "Research papers on pre-training and representation learning in AI"
          ],
          [
           0,
           "Studies comparing the performance of AI models on tasks requiring System 2 thinking, such as complex problem solving and decision-making."
          ],
          [
           0,
           "Articles and discussions on the cognitive capabilities of AI models in relation to human intelligence."
          ],
          [
           0,
           "Research papers on reinforcement learning (RL) in AI, especially those focused on self-play and reward-based learning."
          ],
          [
           0,
           "Articles and discussions on the role of RL in developing AI agents with advanced cognitive capabilities."
          ],
          [
           0,
           "Studies comparing the performance of AI models trained with RL vs. those trained solely on pre-training data."
          ],
          [
           0,
           "Research papers on AI training methodologies and techniques."
          ],
          [
           0,
           "Studies exploring the effectiveness of specialized datasets and algorithms in developing specific cognitive abilities in AI models."
          ],
          [
           0,
           "Discussions and analyses of the training requirements for achieving true AI intelligence, particularly in relation to System 2 thinking."
          ],
          [
           1,
           "Expert opinions and forecasts on the future of AI development."
          ],
          [
           0,
           "Research papers exploring the technical challenges and limitations of current AI models."
          ],
          [
           1,
           "Articles and discussions on the long-term roadmap for AI development, including the estimated timeframes for achieving specific milestones."
          ],
          [
           0,
           "Research papers on AI transfer learning and generalization"
          ],
          [
           0,
           "Studies on AI performance in novel tasks beyond their training data"
          ],
          [
           0,
           "Examples of AI systems exhibiting emergent abilities not explicitly programmed"
          ],
          [
           0,
           "Research on active learning in AI, particularly focusing on self-supervised learning and reinforcement learning."
          ],
          [
           0,
           "Studies on AI systems that incorporate elements of social interaction or collaboration."
          ],
          [
           0,
           "Papers exploring the convergence of AI and cognitive science to develop more human-like learning models."
          ],
          [
           0,
           "Research on interpretable AI and explainable machine learning"
          ],
          [
           0,
           "Studies on AI systems that can provide justifications for their decisions."
          ],
          [
           0,
           "Work on developing AI models capable of introspection and self-awareness."
          ],
          [
           0,
           "Research papers and publications on AI model performance in problem-solving, error correction, and planning tasks"
          ],
          [
           2,
           "Technical reports and benchmarks evaluating the performance of AI models on tasks requiring longer chains of reasoning"
          ],
          [
           0,
           "Analyses of the effectiveness of in-context learning techniques for improving model reasoning abilities"
          ],
          [
           0,
           "Research papers and industry reports on AI model development trends, focusing on scaling strategies"
          ],
          [
           0,
           "Analysis of investment and research activities in the AI field to identify priorities and emerging trends"
          ],
          [
           0,
           "Discussions and debates among AI researchers regarding the relative importance of scaling versus incorporating new learning mechanisms"
          ],
          [
           0,
           "Research papers and reports showcasing AI models trained on specific tasks with limited pre-training data"
          ],
          [
           0,
           "Studies comparing the performance of AI models trained with and without extensive pre-training"
          ],
          [
           0,
           "Analyses of the effectiveness of techniques like few-shot learning and in-context learning for reducing reliance on pre-training data"
          ],
          [
           0,
           "Research papers and publications focusing on the application of reinforcement learning and self-play in AI model development"
          ],
          [
           0,
           "Analysis of advancements in RL algorithms and their application to AI tasks"
          ],
          [
           0,
           "Reports and discussions on the potential of RL and self-play for enhancing AI model autonomy and learning capabilities"
          ],
          [
           0,
           "Research papers on reinforcement learning in AI"
          ],
          [
           0,
           "Technical reports on AI applications in real-world settings"
          ],
          [
           0,
           "Reviews of recent advancements in reinforcement learning algorithms"
          ],
          [
           0,
           "Research papers comparing in-context learning and pre-training methods"
          ],
          [
           0,
           "Studies on the efficiency and effectiveness of in-context learning in various AI tasks"
          ],
          [
           0,
           "Empirical evaluations of AI models trained using different learning approaches"
          ],
          [
           0,
           "Research papers on large language models and their development"
          ],
          [
           0,
           "Technical reports on AI advancements in natural language processing and task-oriented dialogue"
          ],
          [
           0,
           "Reviews of recent progress in AI capabilities driven by scaling, reinforcement learning, and in-context learning"
          ],
          [
           0,
           "Research papers on the limitations of current AI models in real-world scenarios"
          ],
          [
           0,
           "Studies on the challenges of developing AI agents capable of long-term, collaborative interactions"
          ],
          [
           1,
           "Expert opinions and discussions on the future of AI and the challenges of achieving truly agentic systems"
          ],
          [
           0,
           "Research papers on robotic learning and control"
          ],
          [
           0,
           "Publications on RLHF applications in robotics"
          ],
          [
           3,
           "Industry reports on advancements in robotics with RLHF techniques"
          ],
          [
           0,
           "Research papers on pre-training in robotics"
          ],
          [
           0,
           "Comparisons of pre-training effectiveness in language models and robots"
          ],
          [
           1,
           "Expert opinions on the challenges of pre-training in robotics"
          ],
          [
           0,
           "Comparative analysis of RLHF applications in language models and robotics"
          ],
          [
           0,
           "Discussions on the challenges of transferring RLHF techniques to robotics"
          ],
          [
           0,
           "Research papers on the differences between language model and robotic data"
          ],
          [
           0,
           "Research papers on advancements in robotic manipulation and navigation"
          ],
          [
           0,
           "Publications on alternative methods for developing robotic intelligence"
          ],
          [
           0,
           "Industry reports on the progress of robotics without RLHF"
          ],
          [
           0,
           "Academic papers on AI self-learning and independent learning"
          ],
          [
           0,
           "Research reports on advancements in AI models' ability to learn without extensive pre-training"
          ],
          [
           0,
           "Studies comparing the performance of pre-trained AI models with models that learn independently"
          ],
          [
           0,
           "Studies on the amount of pre-training data required for AI models to achieve optimal performance"
          ],
          [
           0,
           "Research papers analyzing the impact of pre-training data on AI model accuracy and generalizability"
          ],
          [
           0,
           "Comparisons of AI model performance with varying amounts of pre-training data"
          ],
          [
           0,
           "Research papers on self-learning and independent learning in robotics"
          ],
          [
           0,
           "Reports on advancements in robotic systems' ability to learn autonomously"
          ],
          [
           0,
           "Studies comparing the self-learning capabilities of AI models and robotic systems"
          ],
          [
           0,
           "Studies on the rate of progress in self-learning and independent learning in AI and robotics"
          ],
          [
           0,
           "Research reports comparing the timelines for advancements in self-learning capabilities in both fields"
          ],
          [
           1,
           "Expert opinions on the future trajectory of AI and robotics in terms of self-learning"
          ],
          [
           0,
           "Studies on the cost and time required for pre-training AI models"
          ],
          [
           0,
           "Research papers analyzing the trade-offs between pre-training and other learning methods"
          ],
          [
           1,
           "Expert opinions on the cost-effectiveness of pre-training in AI development"
          ],
          [
           0,
           "Research papers on AI learning and reasoning"
          ],
          [
           0,
           "Studies comparing pre-training and reinforcement learning"
          ],
          [
           0,
           "Articles discussing the development of general intelligence in AI"
          ],
          [
           0,
           "Research papers on reinforcement learning and self-play in AI"
          ],
          [
           0,
           "Studies investigating the use of RL in developing general-purpose AI systems"
          ],
          [
           0,
           "Articles discussing the application of RL in various AI domains"
          ],
          [
           0,
           "Studies on the impact of training data on AI model performance"
          ],
          [
           0,
           "Research papers analyzing the limitations of pre-training with large datasets"
          ],
          [
           0,
           "Articles discussing the challenges of achieving robust generalization in AI"
          ],
          [
           0,
           "Research papers on RL and self-play in AI, particularly those focusing on the effectiveness of these methods in enabling active learning"
          ],
          [
           0,
           "Analysis of the architecture and training methods of current AI models, such as GPT-4, to identify the extent of active learning mechanisms incorporated"
          ],
          [
           1,
           "Expert opinions and commentaries from leading AI researchers on the progress and challenges in achieving active learning in AI"
          ],
          [
           0,
           "Research trends in AI, with a focus on the growing adoption of RL and self-play techniques"
          ],
          [
           0,
           "Reports and analyses of AI advancements in areas such as reinforcement learning, autonomous decision-making, and problem-solving"
          ],
          [
           0,
           "Publications from leading AI labs and research institutions showcasing the development and application of active learning methods"
          ],
          [
           0,
           "Benchmark studies comparing the performance of AI models trained through RL and self-play with those trained solely on pre-training data"
          ],
          [
           0,
           "Analyses of AI systems in real-world applications, showcasing the impact of active learning methods on their adaptability and problem-solving skills"
          ],
          [
           0,
           "Case studies demonstrating the success of RL and self-play in enabling AI to learn new tasks and adapt to changing environments"
          ],
          [
           0,
           "Research studies investigating the relationship between RL, self-play, and the development of higher-level cognitive abilities in AI"
          ],
          [
           0,
           "Analysis of the performance of AI models on tasks requiring complex reasoning and problem-solving, focusing on the contribution of active learning methods"
          ],
          [
           0,
           "Expert opinions and commentaries from researchers exploring the potential of RL and self-play in enabling AI to engage in more human-like cognitive processes"
          ],
          [
           0,
           "Empirical studies comparing the performance of AI systems trained using RL, self-play, and pre-training methods on specific tasks."
          ],
          [
           0,
           "Research papers analyzing the sample efficiency of various AI training methods."
          ],
          [
           2,
           "Data sets and benchmarks for evaluating the performance of AI systems in various domains."
          ],
          [
           0,
           "Research papers evaluating the generalization performance of AI systems trained using various methods."
          ],
          [
           2,
           "Benchmarks and tests designed to assess AI system generalization capabilities across different tasks and domains."
          ],
          [
           0,
           "Studies exploring the impact of RL and self-play on AI system's adaptability to novel scenarios."
          ],
          [
           0,
           "Forecasts and predictions for the growth of AI compute power in the coming years."
          ],
          [
           0,
           "Research papers and industry reports on the development and progress of RL and self-play techniques."
          ],
          [
           0,
           "Analyses of the computational requirements and scaling potential of RL and self-play algorithms."
          ],
          [
           0,
           "Research papers exploring the development and application of RL and self-play algorithms for specific cognitive tasks."
          ],
          [
           0,
           "Studies analyzing the cognitive capabilities of AI systems trained using RL and self-play compared to those trained solely on pre-training data."
          ],
          [
           2,
           "Benchmarks and evaluations specifically designed to measure AI system performance in cognitive domains."
          ],
          [
           0,
           "Empirical studies comparing the performance of AI models trained with and without RL on tasks requiring complex reasoning and adaptation"
          ],
          [
           0,
           "Research papers on the application of RL to various AI tasks, including problem-solving and decision-making"
          ],
          [
           2,
           "Case studies of successful RL implementations in AI systems"
          ],
          [
           0,
           "Research papers discussing the challenges and limitations of RL in AI development"
          ],
          [
           0,
           "Industry reports on the adoption and implementation of RL in AI applications"
          ],
          [
           1,
           "Expert opinions from researchers and practitioners in the field of RL"
          ],
          [
           1,
           "Predictions and forecasts for the future of AI, focusing on the development of increasingly complex AI models"
          ],
          [
           0,
           "Research on the application of RL to cutting-edge AI tasks, such as natural language processing, image recognition, and robotics"
          ],
          [
           1,
           "Industry reports and expert opinions on the future of AI and the role of RL"
          ],
          [
           0,
           "Research papers on AI model scaling and compute requirements"
          ],
          [
           2,
           "Data on compute power advancements in the AI industry"
          ],
          [
           0,
           "Reports from AI research institutions on trends in model scaling"
          ],
          [
           1,
           "Predictions on compute power advancements by technology analysts and researchers"
          ],
          [
           0,
           "Analysis of current trends in AI model performance and compute requirements"
          ],
          [
           1,
           "Expert opinions on the potential impact of future compute power on AI capabilities"
          ],
          [
           1,
           "Economic studies on the impact of automation on labor markets"
          ],
          [
           1,
           "Social science research on the societal implications of AI advancements"
          ],
          [
           1,
           "Geopolitical analyses on the potential influence of AI on international relations"
          ],
          [
           0,
           "Research papers on in-context learning and self-improvement in AI models"
          ],
          [
           0,
           "Analysis of the current state of AI algorithms and their limitations"
          ],
          [
           1,
           "Expert opinions on the future development of AI algorithms"
          ],
          [
           0,
           "Research papers on AI advancements"
          ],
          [
           2,
           "Data on compute power used in training AI models"
          ],
          [
           2,
           "Analysis of AI benchmarks over time"
          ],
          [
           1,
           "Interviews with AI researchers and experts"
          ],
          [
           0,
           "Reports from AI research institutions"
          ],
          [
           3,
           "Conferences and workshops on AI forecasting"
          ],
          [
           2,
           "Data on the growth of compute power used in AI"
          ],
          [
           0,
           "Reports on the scaling of AI models by companies and research labs"
          ],
          [
           0,
           "Analysis of the relationship between compute power and AI performance"
          ],
          [
           0,
           "Research papers on new AI algorithms"
          ],
          [
           3,
           "Conferences and workshops on AI algorithms"
          ],
          [
           0,
           "News and articles on breakthroughs in AI research"
          ],
          [
           0,
           "Reports on AI compute and hardware advancements (e.g., from research firms, tech companies)"
          ],
          [
           0,
           "Research papers on scaling laws in AI"
          ],
          [
           0,
           "Public statements from AI companies about their compute investments and model development plans"
          ],
          [
           2,
           "Benchmarks and evaluations of AI models in code generation, mathematical problem-solving, and general intelligence"
          ],
          [
           0,
           "Research papers analyzing the progress of AI capabilities in specific domains"
          ],
          [
           1,
           "Expert opinions and predictions on the evolution of AI capabilities"
          ],
          [
           2,
           "Research on the potential of AI for automation in different industries"
          ],
          [
           1,
           "Reports on the economic and social impact of AI automation"
          ],
          [
           1,
           "Studies on the future of work in the context of AI advancements"
          ],
          [
           1,
           "Economic forecasts and analyses on the impact of AI on labor markets"
          ],
          [
           1,
           "Reports on the future of work and automation"
          ],
          [
           1,
           "Studies on the socio-economic implications of AI advancements"
          ],
          [
           1,
           "Ethical guidelines and frameworks for AI development"
          ],
          [
           3,
           "Reports and discussions on AI regulation and governance"
          ],
          [
           1,
           "Research on the social and ethical implications of advanced AI"
          ],
          [
           0,
           "Research papers on AI hardware and software advancements"
          ],
          [
           0,
           "Industry reports on AI development trends"
          ],
          [
           1,
           "Expert opinions on the future of AI development"
          ],
          [
           0,
           "Industry reports on AI adoption in various sectors"
          ],
          [
           0,
           "Analysis of existing AI-powered workforce solutions"
          ],
          [
           1,
           "Economic projections on the impact of automation on employment"
          ],
          [
           0,
           "Research on AI capabilities in creative and analytical tasks"
          ],
          [
           1,
           "Expert opinions on the timeline for advanced AI development"
          ],
          [
           0,
           "Studies on the current capabilities of AI in various fields"
          ],
          [
           1,
           "Economic studies on the impact of AI automation on productivity and employment"
          ],
          [
           1,
           "Social research on the societal implications of AI automation"
          ],
          [
           1,
           "Policy discussions on the ethical and regulatory frameworks for AI development"
          ],
          [
           1,
           "Public opinion surveys on AI adoption and its societal implications"
          ],
          [
           1,
           "Analysis of social movements and resistance to technological change"
          ],
          [
           1,
           "Studies on the impact of automation on social inequality and employment"
          ],
          [
           1,
           "Public opinion polls on AI awareness in 2022 and 2023"
          ],
          [
           0,
           "Google Trends data for search terms related to AI, ChatGPT, and GPT-4"
          ],
          [
           0,
           "Media coverage of AI and its impact on society in 2023"
          ],
          [
           0,
           "Venture capital reports and funding data for AI companies in 2023"
          ],
          [
           0,
           "Annual reports and financial statements of major tech companies involved in AI"
          ],
          [
           0,
           "Market research reports on AI investments and funding trends"
          ],
          [
           3,
           "Academic papers and conference presentations in AI in 2022 and 2023"
          ],
          [
           1,
           "Interviews with AI researchers and developers on their experiences and perceptions of AI in 2023"
          ],
          [
           0,
           "Industry reports on AI development and advancements in 2023"
          ],
          [
           0,
           "Media archives and databases (e.g., LexisNexis, Factiva) for tracking media coverage of AI."
          ],
          [
           0,
           "Social media analytics platforms (e.g., Google Trends, Twitter API) for analyzing trends in online discussions about AI."
          ],
          [
           1,
           "Public opinion surveys and polls conducted before and after the release of ChatGPT and GPT-4."
          ],
          [
           0,
           "Financial databases (e.g., Crunchbase, PitchBook) for tracking funding rounds and investment in AI companies."
          ],
          [
           0,
           "Stock market data for analyzing the performance of AI-related companies."
          ],
          [
           0,
           "Data from funding agencies (e.g., National Science Foundation) on research grants allocated to AI projects."
          ],
          [
           0,
           "Market research reports on the adoption of AI technologies in various sectors."
          ],
          [
           2,
           "Case studies and reports on the successful implementation of AI-powered applications."
          ],
          [
           3,
           "Industry publications and conferences related to AI development and applications."
          ],
          [
           0,
           "Data from universities and research institutions on the number of AI students and graduates."
          ],
          [
           0,
           "Industry reports on the hiring trends in the AI sector."
          ],
          [
           3,
           "Membership data from professional organizations related to AI (e.g., Association for the Advancement of Artificial Intelligence)."
          ],
          [
           0,
           "Research papers on AI advancements"
          ],
          [
           0,
           "Industry reports on AI development trends"
          ],
          [
           2,
           "Publicly available data on AI model releases and performance improvements"
          ],
          [
           0,
           "Industry reports on AI adoption"
          ],
          [
           0,
           "Market analysis of AI applications"
          ],
          [
           1,
           "Surveys on AI implementation in different sectors"
          ],
          [
           0,
           "Patent databases"
          ],
          [
           0,
           "Reports on AI patents"
          ],
          [
           0,
           "Analysis of trends in AI patent filings"
          ],
          [
           0,
           "Venture capital reports on AI investments"
          ],
          [
           0,
           "Government funding data for AI research"
          ],
          [
           0,
           "Financial news and analysis on AI-related companies"
          ],
          [
           2,
           "Benchmarks and evaluations of AI model performance"
          ],
          [
           0,
           "Research papers on AI model development"
          ],
          [
           2,
           "Publicly available data on AI model capabilities"
          ],
          [
           1,
           "Public opinion polls on AI"
          ],
          [
           0,
           "Media coverage of AI"
          ],
          [
           1,
           "Social media discussions on AI"
          ],
          [
           0,
           "Business plans and financial statements of GPT wrapper companies"
          ],
          [
           0,
           "Market research reports on the AI software market"
          ],
          [
           1,
           "Expert interviews with AI industry analysts"
          ],
          [
           0,
           "News articles and research reports on AI development trends"
          ],
          [
           0,
           "Industry data on the adoption of AI models and solutions"
          ],
          [
           1,
           "Expert opinions from AI researchers and entrepreneurs"
          ],
          [
           0,
           "Financial data on AI investments"
          ],
          [
           0,
           "Industry reports on AI research and development"
          ],
          [
           1,
           "Expert interviews with AI investors and researchers"
          ],
          [
           3,
           "Publications on AI research and development"
          ],
          [
           2,
           "Data on the release dates and capabilities of new AI models"
          ],
          [
           1,
           "Expert opinions on the future of AI development"
          ],
          [
           0,
           "Research on the cost and complexity of AI model integration"
          ],
          [
           0,
           "Industry reports on the adoption of AI models"
          ],
          [
           2,
           "Case studies on the integration of AI models in various sectors"
          ],
          [
           0,
           "Research on general-purpose AI models"
          ],
          [
           0,
           "Industry trends in the use of AI models for different tasks"
          ],
          [
           1,
           "Expert opinions on the future of general-purpose AI"
          ],
          [
           0,
           "Market research reports on the AI industry"
          ],
          [
           0,
           "Analysis of the factors driving AI market growth"
          ],
          [
           1,
           "Expert opinions on the future of the AI market"
          ],
          [
           3,
           "Research papers and publications on AI progress and breakthroughs"
          ],
          [
           0,
           "Industry reports and analyses on the AI market and future trends"
          ],
          [
           1,
           "Expert opinions and predictions from leading AI researchers"
          ],
          [
           2,
           "Research on AI applications in specific industries and tasks"
          ],
          [
           1,
           "Expert opinions on the potential of AI to replace human workers"
          ],
          [
           1,
           "Studies on the impact of AI on the future of work"
          ],
          [
           0,
           "Financial reports and analyses on AI funding and investments"
          ],
          [
           3,
           "Government policies and initiatives related to AI development"
          ],
          [
           0,
           "Industry forecasts on the growth of the AI market"
          ],
          [
           0,
           "Industry trends and analysis on AI development and deployment"
          ],
          [
           1,
           "Interviews with AI industry leaders and stakeholders"
          ],
          [
           0,
           "Articles and reports on the evolution of AI strategies"
          ],
          [
           0,
           "Research papers and publications on AI development"
          ],
          [
           0,
           "Reports from AI research institutions"
          ],
          [
           1,
           "Industry forecasts on AI advancement timelines"
          ],
          [
           1,
           "Economic studies on the impact of AI on employment"
          ],
          [
           0,
           "Industry reports on AI adoption trends"
          ],
          [
           2,
           "Case studies of AI implementation in various sectors"
          ],
          [
           3,
           "Government documents and reports on national security strategies"
          ],
          [
           3,
           "News articles and research on AI applications in defense"
          ],
          [
           3,
           "Statements and publications from national security officials"
          ],
          [
           3,
           "Reports and analyses on international AI governance"
          ],
          [
           3,
           "Statements from international organizations on AI cooperation"
          ],
          [
           3,
           "News articles and research on geopolitical tensions related to AI"
          ],
          [
           3,
           "Research papers and publications on AI in creative industries"
          ],
          [
           0,
           "Industry reports on AI applications in creative fields"
          ],
          [
           2,
           "Case studies of AI-generated content in creative industries"
          ],
          [
           0,
           "Government budgets and spending data"
          ],
          [
           3,
           "Reports from national security agencies"
          ],
          [
           3,
           "News articles and research publications on AI in national security"
          ],
          [
           1,
           "Studies on the relationship between AI and geopolitical influence"
          ],
          [
           3,
           "Analysis of national AI strategies and policies"
          ],
          [
           1,
           "Data on international relations and military power"
          ],
          [
           1,
           "Publications and interviews with leading AI researchers"
          ],
          [
           3,
           "Expert panels and conferences on AI advancement"
          ],
          [
           0,
           "Research papers on AI timelines and capabilities"
          ],
          [
           3,
           "News articles and reports on AI collaboration"
          ],
          [
           3,
           "Government documents on AI initiatives"
          ],
          [
           3,
           "Analysis of research partnerships between universities and security agencies"
          ],
          [
           0,
           "Patent databases and analysis"
          ],
          [
           3,
           "Government reports on AI inventions"
          ],
          [
           3,
           "Publications on AI technology trends in defense"
          ],
          [
           0,
           "Research papers on AI progress"
          ],
          [
           1,
           "Expert opinions from AI researchers"
          ],
          [
           0,
           "Industry reports on AI hardware development"
          ],
          [
           0,
           "Research papers on AI automation"
          ],
          [
           2,
           "Case studies of AI-driven research projects"
          ],
          [
           1,
           "Expert opinions from AI researchers on automation potential"
          ],
          [
           3,
           "Publications from national security institutes"
          ],
          [
           1,
           "Expert interviews with national security analysts"
          ],
          [
           1,
           "International relations research on the impact of technological advancements"
          ],
          [
           3,
           "Research papers on AI ethics"
          ],
          [
           1,
           "Policy analysis of AI regulations"
          ],
          [
           1,
           "Expert opinions on potential roadblocks to AI progress"
          ],
          [
           3,
           "Analysis of US-China relations related to AI"
          ],
          [
           0,
           "Reports on international AI competition"
          ],
          [
           1,
           "Expert opinions on geopolitical implications of AI development"
          ],
          [
           3,
           "Peer-reviewed publications on AI advancements"
          ],
          [
           0,
           "Research papers and reports on algorithmic progress"
          ],
          [
           1,
           "Expert opinions from leading AI researchers"
          ],
          [
           0,
           "Market research reports on GPU trends"
          ],
          [
           0,
           "Data on GPU production and availability"
          ],
          [
           1,
           "Expert opinions on future trends in computing resources"
          ],
          [
           3,
           "Peer-reviewed publications on AI automation"
          ],
          [
           0,
           "Research papers on AI capabilities in specific domains"
          ],
          [
           1,
           "Expert opinions on the potential of AI to automate complex tasks"
          ],
          [
           3,
           "Reports on AI ethics and regulations"
          ],
          [
           1,
           "Expert opinions on challenges in AI development"
          ],
          [
           0,
           "Research on technical limitations of current AI systems"
          ],
          [
           0,
           "Research papers on specialized AI systems"
          ],
          [
           1,
           "Expert opinions on the future of AI development"
          ],
          [
           0,
           "Analysis of the current landscape of AI applications"
          ],
          [
           3,
           "Publications in top AI research journals and conferences (e.g., NeurIPS, ICML, ICLR)"
          ],
          [
           2,
           "Benchmark datasets and performance metrics for various AI tasks (e.g., ImageNet, GLUE)"
          ],
          [
           0,
           "Reports and analyses from reputable research organizations specializing in AI (e.g., OpenAI, Google AI, Stanford AI Lab)"
          ],
          [
           0,
           "Studies on the computational power required for AI development"
          ],
          [
           0,
           "Analyses of the cost and availability of advanced hardware like GPUs"
          ],
          [
           1,
           "Expert opinions from prominent AI researchers on the potential for future breakthroughs and limitations"
          ],
          [
           0,
           "Research papers and articles focusing on specific AI subfields (e.g., NLP, CV, robotics)"
          ],
          [
           2,
           "Data on the performance of AI systems in various domains (e.g., language understanding, image recognition, task automation)"
          ],
          [
           3,
           "Peer-reviewed research papers on robotics and AI"
          ],
          [
           3,
           "Reports from robotics research institutions"
          ],
          [
           1,
           "Expert opinions and analyses on the future of robotics"
          ],
          [
           2,
           "Data on the performance of AI algorithms over time"
          ],
          [
           0,
           "Analysis of trends in AI research and development"
          ],
          [
           1,
           "Expert opinions on the future of AI progress"
          ],
          [
           0,
           "Market reports on GPU and computing infrastructure"
          ],
          [
           1,
           "Forecasts of future trends in computational power"
          ],
          [
           2,
           "Analysis of the cost and availability of computing resources"
          ],
          [
           0,
           "Research papers on AI advancements"
          ],
          [
           0,
           "Industry reports on AI progress"
          ],
          [
           2,
           "Data on the performance of AI models over time"
          ],
          [
           1,
           "Interviews with robotics experts"
          ],
          [
           0,
           "Research papers on robotics challenges"
          ],
          [
           3,
           "Industry reports on robotics advancements"
          ],
          [
           1,
           "Historical accounts of military conflicts"
          ],
          [
           1,
           "Studies on the relationship between technology and political power"
          ],
          [
           1,
           "Analyses of historical technological innovations and their impact on global power dynamics"
          ],
          [
           3,
           "Research papers on AGI"
          ],
          [
           0,
           "Reports from AI research institutions"
          ],
          [
           1,
           "Expert opinions on the timeline for achieving AGI"
          ],
          [
           0,
           "Research papers on AI learning and adaptation"
          ],
          [
           2,
           "Data on the performance of AI systems across different tasks"
          ],
          [
           1,
           "Expert opinions on the current limitations of AI adaptability"
          ],
          [
           1,
           "Historical studies on technological advancements"
          ],
          [
           1,
           "Analysis of past technological revolutions"
          ],
          [
           1,
           "Expert opinions on historical technological trends"
          ],
          [
           3,
           "Simulation studies on AI-driven warfare scenarios"
          ],
          [
           1,
           "Expert analysis on the ethical implications of autonomous weapons"
          ],
          [
           1,
           "Research on the potential risks and limitations of AI in military applications"
          ],
          [
           1,
           "Reports from international organizations on global security"
          ],
          [
           1,
           "Analysis of international relations and geopolitical trends"
          ],
          [
           1,
           "Expert opinions on the impact of emerging technologies on international security"
          ],
          [
           3,
           "Reports on the effectiveness of current submarine detection systems"
          ],
          [
           3,
           "Scientific publications on advanced sensor technologies"
          ],
          [
           3,
           "Data on the performance of existing anti-submarine warfare capabilities"
          ],
          [
           3,
           "Reports on the CCP's AI research and development strategies"
          ],
          [
           3,
           "Publications on Chinese AI policy and investments"
          ],
          [
           3,
           "Analysis of the CCP's national strategic goals"
          ],
          [
           1,
           "Historical accounts of major wars and conflicts"
          ],
          [
           1,
           "Studies on the impact of technology on warfare"
          ],
          [
           1,
           "Analysis of geopolitical power dynamics in different eras"
          ],
          [
           1,
           "Ethical and legal discussions on superintelligence"
          ],
          [
           1,
           "Reports on international treaties and regulations concerning weapons development"
          ],
          [
           1,
           "Analysis of potential risks and consequences of weaponized superintelligence"
          ],
          [
           0,
           "Reports from AI research organizations"
          ],
          [
           1,
           "Expert opinions on AI timelines"
          ],
          [
           0,
           "Analysis of current AI capabilities and progress"
          ],
          [
           3,
           "Public statements by CCP officials on AI strategy"
          ],
          [
           3,
           "Analysis of CCP's AI research and development initiatives"
          ],
          [
           3,
           "Reports on the CCP's economic and technological goals"
          ],
          [
           0,
           "Data on international AI research collaborations"
          ],
          [
           3,
           "Reports on scientific exchanges and partnerships between the US and China"
          ],
          [
           3,
           "Statements from AI researchers and organizations regarding international cooperation"
          ],
          [
           0,
           "Government budget documents related to AI research"
          ],
          [
           3,
           "Statements from US officials on national AI strategy"
          ],
          [
           3,
           "Reports on AI security measures and counterintelligence efforts"
          ],
          [
           3,
           "Reports on the CCP's investments in robotics and automation"
          ],
          [
           3,
           "Analysis of CCP's industrial policies and plans"
          ],
          [
           1,
           "Expert opinions on the CCP's economic goals for AI development"
          ],
          [
           0,
           "Research papers on AI self-improvement"
          ],
          [
           0,
           "Publications on deep learning advancements"
          ],
          [
           0,
           "Reports from AI research institutions on progress in AI self-learning"
          ],
          [
           0,
           "Research papers on AI in robotics"
          ],
          [
           2,
           "Case studies of AI applications in manufacturing and automation"
          ],
          [
           0,
           "Reports from companies developing AI-powered robots"
          ],
          [
           0,
           "Data on the growth of computational power in AI"
          ],
          [
           0,
           "Research papers on advancements in AI algorithms"
          ],
          [
           0,
           "Reports on AI investment and industry trends"
          ],
          [
           0,
           "Research on AI transfer learning and multi-task learning"
          ],
          [
           0,
           "Studies on AI's ability to generalize knowledge across different domains"
          ],
          [
           2,
           "Analysis of AI systems' performance in various tasks"
          ],
          [
           3,
           "Research papers on AI ethics and social impact"
          ],
          [
           3,
           "Reports from AI ethics committees and organizations"
          ],
          [
           1,
           "Discussions and publications on responsible AI development"
          ],
          [
           0,
           "Research papers on AI-driven robotics"
          ],
          [
           3,
           "Industry reports on robotics advancements"
          ],
          [
           1,
           "Expert interviews and opinions on the pace of robotics development"
          ],
          [
           3,
           "Analysis of robotics industry progress"
          ],
          [
           0,
           "Comparative studies of AI-driven robotics vs. traditional robotics"
          ],
          [
           1,
           "Expert opinions on the challenges and limitations of AI-driven robotics"
          ],
          [
           1,
           "Economic studies on the impact of AI-driven robotics on employment"
          ],
          [
           3,
           "Industry reports on job creation and displacement in robotics-related fields"
          ],
          [
           3,
           "Government policies and initiatives related to AI and automation"
          ],
          [
           0,
           "Market analysis of robotics applications across industries"
          ],
          [
           3,
           "Research on the adoption of robotics in different sectors"
          ],
          [
           1,
           "Expert opinions on the limitations of current AI-driven robotics"
          ],
          [
           0,
           "Analysis of funding sources for AI-driven robotics research"
          ],
          [
           3,
           "Industry reports on venture capital investment in robotics"
          ],
          [
           0,
           "Government research grants and funding programs"
          ],
          [
           0,
           "Research papers on robotics and AI integration"
          ],
          [
           3,
           "Industry reports on automation trends"
          ],
          [
           3,
           "Patents and technical specifications of advanced robotics systems"
          ],
          [
           0,
           "Labor market analysis reports"
          ],
          [
           1,
           "Economic studies on automation impacts"
          ],
          [
           1,
           "Interviews with industry experts on workforce transitions"
          ],
          [
           3,
           "Educational policy reports"
          ],
          [
           0,
           "Training programs for emerging technologies"
          ],
          [
           1,
           "Research on skills gaps in the future workforce"
          ],
          [
           2,
           "Research on AI applications in specific industries"
          ],
          [
           2,
           "Case studies of successful AI-driven robotics implementations"
          ],
          [
           1,
           "Expert opinions on the future impact of AI on different sectors"
          ],
          [
           3,
           "Cybersecurity research on AI systems"
          ],
          [
           1,
           "Ethical guidelines and frameworks for AI development"
          ],
          [
           1,
           "Risk assessments of AI-driven robotics deployments"
          ],
          [
           0,
           "Reports and analyses on the semiconductor industry workforce"
          ],
          [
           0,
           "Studies on the effectiveness of AI-driven training programs in technical fields"
          ],
          [
           3,
           "Data on the demographics and skills of the current semiconductor workforce"
          ],
          [
           0,
           "Expert opinions from semiconductor industry professionals"
          ],
          [
           0,
           "Research on the transferability of AI-driven training to real-world technical applications"
          ],
          [
           2,
           "Case studies of AI-driven upskilling in other complex manufacturing industries"
          ],
          [
           0,
           "Industry reports and analyses on semiconductor manufacturing trends"
          ],
          [
           3,
           "News articles and publications on semiconductor industry automation and robotics investments"
          ],
          [
           3,
           "Data on the adoption of automation technologies in US semiconductor fabs"
          ],
          [
           3,
           "News articles and reports on semiconductor industry workforce development programs"
          ],
          [
           3,
           "Information on industry partnerships with educational institutions"
          ],
          [
           3,
           "Data on the effectiveness of existing workforce development initiatives in the semiconductor industry"
          ],
          [
           0,
           "Research papers on AI-powered training programs"
          ],
          [
           0,
           "Reports from companies using AI for workforce development"
          ],
          [
           1,
           "Expert opinions from AI researchers and educators"
          ],
          [
           1,
           "Economic studies on workforce training costs"
          ],
          [
           1,
           "Reports on the economic impact of automation"
          ],
          [
           0,
           "Data on the cost of implementing AI solutions in manufacturing"
          ],
          [
           3,
           "Robotics industry reports and forecasts"
          ],
          [
           0,
           "Research papers on the development of advanced robots for manufacturing"
          ],
          [
           1,
           "Expert opinions on the future of automation in manufacturing"
          ],
          [
           0,
           "Financial reports from major corporations in the technology sector"
          ],
          [
           0,
           "Data on corporate debt outstanding from financial institutions and regulatory bodies"
          ],
          [
           0,
           "Market analysis reports on the corporate debt market and trends in specific sectors"
          ],
          [
           0,
           "Research reports on AI investment and funding trends"
          ],
          [
           2,
           "Financial statements of AI companies and major tech corporations"
          ],
          [
           0,
           "Data on venture capital funding and other forms of financing for AI startups"
          ],
          [
           0,
           "Economic indicators such as interest rates and credit spreads"
          ],
          [
           0,
           "Reports from financial institutions and economists on macroeconomic conditions and credit markets"
          ],
          [
           0,
           "Data on corporate debt issuance and market trends"
          ],
          [
           0,
           "Reports and publications from leading AI research institutions and think tanks"
          ],
          [
           3,
           "Government documents and statements on AI strategy and national security"
          ],
          [
           3,
           "News articles and analyses on the development and deployment of advanced AI technologies"
          ],
          [
           1,
           "Expert interviews and opinions on the timeline for the development of superintelligence"
          ],
          [
           0,
           "Analysis of government budgets and resource allocations for AI development and research"
          ],
          [
           3,
           "Public statements and speeches from top national security officials in the US and CCP"
          ],
          [
           1,
           "Expert opinions on the current understanding of AI within the national security establishment"
          ],
          [
           0,
           "Data on private investment in AI research and development"
          ],
          [
           3,
           "Analysis of government policies and regulations related to AI development"
          ],
          [
           1,
           "Interviews with industry leaders and government officials on their perspectives on AI advancements"
          ],
          [
           1,
           "Predictions and forecasts from leading AI researchers on the timeline for achieving superintelligence"
          ],
          [
           0,
           "Analysis of the current state of AI research and development"
          ],
          [
           1,
           "Expert opinions on the limitations and challenges in achieving superintelligence"
          ],
          [
           3,
           "Research papers on AI advancements and AGI"
          ],
          [
           1,
           "Expert opinions from leading AI researchers"
          ],
          [
           0,
           "Reports on the progress of AI development from reputable organizations like OpenAI, Google AI, and the Allen Institute for AI"
          ],
          [
           3,
           "Government reports on AI strategy and investment"
          ],
          [
           3,
           "Public statements from officials involved in national security and AI"
          ],
          [
           3,
           "News articles and analyses on AI initiatives and policies in the United States and China"
          ],
          [
           1,
           "Studies on the potential risks of advanced AI"
          ],
          [
           1,
           "Expert analyses on the societal and ethical implications of superintelligence"
          ],
          [
           3,
           "Reports on AI safety and governance from international organizations"
          ],
          [
           0,
           "Research papers and reports from leading AI laboratories"
          ],
          [
           0,
           "Industry analysis on AI advancements and future projections"
          ],
          [
           1,
           "Expert opinions from prominent AI researchers"
          ],
          [
           1,
           "Economic studies on the impact of AI on employment"
          ],
          [
           1,
           "Social impact assessments of AI technologies"
          ],
          [
           3,
           "Government reports on AI policy and regulation"
          ],
          [
           1,
           "Ethical discussions on AI development and its potential risks"
          ],
          [
           3,
           "Research on AI safety and control mechanisms"
          ],
          [
           1,
           "Philosophical and scientific analysis of the implications of superintelligence"
          ],
          [
           3,
           "Government reports on national AI strategies"
          ],
          [
           0,
           "Analysis of defense budgets and research initiatives"
          ],
          [
           3,
           "Statements from national security officials on AI"
          ]
         ],
         "hovertemplate": "UMAP Dimension 1=%{x}<br>UMAP Dimension 2=%{y}<br>Topic=%{marker.color}<br>Document=%{customdata[1]}<extra></extra>",
         "legendgroup": "",
         "marker": {
          "color": [
           0,
           0,
           2,
           0,
           0,
           0,
           2,
           2,
           2,
           0,
           0,
           1,
           0,
           2,
           2,
           0,
           0,
           0,
           2,
           2,
           2,
           0,
           0,
           0,
           0,
           0,
           0,
           0,
           0,
           2,
           2,
           1,
           2,
           2,
           2,
           2,
           2,
           1,
           2,
           2,
           2,
           2,
           2,
           0,
           2,
           2,
           2,
           2,
           2,
           2,
           2,
           0,
           0,
           0,
           2,
           0,
           0,
           0,
           0,
           0,
           2,
           0,
           0,
           0,
           0,
           2,
           0,
           2,
           2,
           2,
           0,
           0,
           1,
           0,
           0,
           0,
           0,
           1,
           0,
           0,
           1,
           1,
           0,
           0,
           1,
           0,
           0,
           0,
           0,
           0,
           0,
           0,
           0,
           0,
           0,
           1,
           0,
           3,
           3,
           1,
           0,
           0,
           0,
           3,
           0,
           0,
           0,
           1,
           0,
           1,
           1,
           1,
           0,
           0,
           0,
           0,
           0,
           1,
           3,
           2,
           1,
           0,
           1,
           0,
           0,
           0,
           0,
           0,
           0,
           0,
           0,
           0,
           1,
           1,
           1,
           3,
           0,
           0,
           1,
           0,
           0,
           1,
           0,
           2,
           2,
           2,
           0,
           1,
           2,
           1,
           3,
           0,
           0,
           0,
           0,
           0,
           0,
           1,
           0,
           2,
           2,
           0,
           1,
           0,
           0,
           1,
           1,
           1,
           1,
           3,
           2,
           0,
           0,
           1,
           0,
           0,
           1,
           2,
           0,
           0,
           1,
           3,
           2,
           0,
           3,
           1,
           1,
           3,
           1,
           0,
           2,
           0,
           0,
           3,
           1,
           0,
           0,
           0,
           1,
           2,
           0,
           0,
           0,
           1,
           0,
           0,
           0,
           2,
           1,
           2,
           0,
           1,
           0,
           0,
           0,
           2,
           0,
           0,
           2,
           0,
           0,
           3,
           1,
           0,
           0,
           1,
           0,
           0,
           1,
           0,
           0,
           1,
           1,
           1,
           1,
           0,
           0,
           2,
           0,
           0,
           2,
           0,
           1,
           0,
           0,
           1,
           0,
           0,
           0,
           2,
           0,
           2,
           0,
           0,
           0,
           0,
           1,
           1,
           2,
           1,
           0,
           0,
           1,
           1,
           2,
           1,
           2,
           0,
           1,
           3,
           0,
           1,
           0,
           0,
           0,
           1,
           2,
           1,
           0,
           3,
           1,
           2,
           0,
           0,
           3,
           0,
           1,
           3,
           1,
           0,
           3,
           3,
           3,
           0,
           2,
           1,
           0,
           1,
           0,
           1,
           1,
           0,
           0,
           2,
           1,
           0,
           0,
           1,
           2,
           0,
           1,
           0,
           1,
           0,
           1,
           1,
           1,
           0,
           2,
           2,
           0,
           0,
           0,
           0,
           0,
           0,
           0,
           0,
           1,
           0,
           2,
           0,
           0,
           0,
           0,
           0,
           0,
           2,
           0,
           2,
           0,
           0,
           2,
           0,
           0,
           0,
           0,
           0,
           0,
           0,
           0,
           0,
           0,
           0,
           0,
           0,
           2,
           2,
           2,
           0,
           0,
           0,
           0,
           0,
           0,
           0,
           1,
           0,
           0,
           2,
           0,
           2,
           0,
           0,
           0,
           1,
           0,
           0,
           0,
           0,
           0,
           2,
           1,
           0,
           0,
           0,
           2,
           0,
           0,
           0,
           0,
           0,
           0,
           3,
           1,
           3,
           0,
           0,
           0,
           2,
           2,
           0,
           0,
           0,
           0,
           0,
           0,
           0,
           0,
           0,
           0,
           0,
           0,
           0,
           0,
           0,
           0,
           1,
           0,
           1,
           0,
           0,
           0,
           0,
           0,
           0,
           0,
           0,
           0,
           0,
           2,
           0,
           0,
           0,
           0,
           0,
           0,
           0,
           0,
           0,
           0,
           0,
           0,
           0,
           0,
           0,
           0,
           0,
           0,
           0,
           0,
           0,
           1,
           0,
           0,
           3,
           0,
           0,
           1,
           0,
           0,
           0,
           0,
           0,
           0,
           0,
           0,
           0,
           0,
           0,
           0,
           0,
           0,
           0,
           0,
           0,
           1,
           0,
           0,
           1,
           0,
           0,
           0,
           0,
           0,
           0,
           0,
           0,
           0,
           0,
           0,
           1,
           0,
           0,
           0,
           0,
           0,
           0,
           0,
           0,
           0,
           0,
           0,
           2,
           0,
           2,
           0,
           0,
           0,
           0,
           0,
           0,
           2,
           0,
           0,
           2,
           0,
           0,
           1,
           1,
           0,
           1,
           0,
           2,
           0,
           1,
           0,
           1,
           1,
           1,
           1,
           0,
           0,
           1,
           0,
           2,
           2,
           1,
           0,
           3,
           2,
           0,
           0,
           0,
           3,
           0,
           0,
           0,
           0,
           2,
           0,
           1,
           2,
           1,
           1,
           1,
           1,
           1,
           1,
           3,
           1,
           0,
           0,
           1,
           0,
           0,
           1,
           0,
           1,
           0,
           1,
           1,
           1,
           1,
           1,
           1,
           1,
           0,
           0,
           0,
           0,
           0,
           3,
           1,
           0,
           0,
           0,
           1,
           0,
           0,
           0,
           0,
           2,
           3,
           0,
           0,
           3,
           0,
           0,
           2,
           0,
           0,
           1,
           0,
           0,
           0,
           0,
           0,
           0,
           2,
           0,
           2,
           1,
           0,
           1,
           0,
           0,
           1,
           0,
           0,
           1,
           0,
           0,
           1,
           3,
           2,
           1,
           0,
           0,
           2,
           0,
           0,
           1,
           0,
           0,
           1,
           3,
           0,
           1,
           2,
           1,
           1,
           0,
           3,
           0,
           0,
           1,
           0,
           0,
           0,
           1,
           1,
           0,
           2,
           3,
           3,
           3,
           3,
           3,
           3,
           3,
           0,
           2,
           0,
           3,
           3,
           1,
           3,
           1,
           1,
           3,
           0,
           3,
           3,
           3,
           0,
           3,
           3,
           0,
           1,
           0,
           0,
           2,
           1,
           3,
           1,
           1,
           3,
           1,
           1,
           3,
           0,
           1,
           3,
           0,
           1,
           0,
           0,
           1,
           3,
           0,
           1,
           3,
           1,
           0,
           0,
           1,
           0,
           3,
           2,
           0,
           0,
           0,
           1,
           0,
           2,
           3,
           3,
           1,
           2,
           0,
           1,
           0,
           1,
           2,
           0,
           0,
           2,
           1,
           0,
           3,
           1,
           1,
           1,
           3,
           0,
           1,
           0,
           2,
           1,
           1,
           1,
           1,
           3,
           1,
           1,
           1,
           1,
           1,
           3,
           3,
           3,
           3,
           3,
           3,
           1,
           1,
           1,
           1,
           1,
           1,
           0,
           1,
           0,
           3,
           3,
           3,
           0,
           3,
           3,
           0,
           3,
           3,
           3,
           3,
           1,
           0,
           0,
           0,
           0,
           2,
           0,
           0,
           0,
           0,
           0,
           0,
           2,
           3,
           3,
           1,
           0,
           3,
           1,
           3,
           0,
           1,
           1,
           3,
           3,
           0,
           3,
           1,
           0,
           3,
           0,
           0,
           3,
           3,
           0,
           1,
           1,
           3,
           0,
           1,
           2,
           2,
           1,
           3,
           1,
           1,
           0,
           0,
           3,
           0,
           0,
           2,
           0,
           3,
           3,
           3,
           3,
           3,
           0,
           0,
           1,
           1,
           1,
           0,
           3,
           0,
           1,
           0,
           0,
           0,
           0,
           2,
           0,
           0,
           0,
           0,
           0,
           3,
           3,
           1,
           0,
           3,
           1,
           0,
           3,
           1,
           1,
           0,
           1,
           3,
           1,
           0,
           3,
           3,
           3,
           1,
           1,
           3,
           0,
           0,
           1,
           1,
           1,
           3,
           1,
           3,
           1,
           3,
           0,
           3
          ],
          "coloraxis": "coloraxis",
          "symbol": "circle"
         },
         "mode": "markers",
         "name": "",
         "orientation": "v",
         "showlegend": false,
         "type": "scatter",
         "x": [
          -6.770519256591797,
          8.677021026611328,
          -3.683842658996582,
          -4.391148090362549,
          -3.5629003047943115,
          -8.06934642791748,
          -8.245946884155273,
          -8.73580551147461,
          -8.697583198547363,
          9.19943618774414,
          0.7444079518318176,
          13.694672584533691,
          -0.0853760838508606,
          -4.155487060546875,
          -3.683234930038452,
          9.262433052062988,
          12.000998497009277,
          3.6699068546295166,
          -8.269938468933105,
          -8.652119636535645,
          -8.232131958007812,
          6.244235992431641,
          -2.8684825897216797,
          -2.829266309738159,
          8.16377067565918,
          -7.312814235687256,
          -0.7373119592666626,
          8.949005126953125,
          0.28577449917793274,
          -6.056462287902832,
          -4.008101940155029,
          13.631683349609375,
          5.284130096435547,
          -8.242749214172363,
          -4.8280205726623535,
          -8.68375015258789,
          -6.126586437225342,
          14.205477714538574,
          -6.016961097717285,
          -4.901137828826904,
          -4.148972988128662,
          -8.25396728515625,
          -8.359773635864258,
          6.625635623931885,
          -4.645543098449707,
          -4.583714008331299,
          -8.727124214172363,
          -5.1754045486450195,
          -8.680830955505371,
          -8.286248207092285,
          -8.415820121765137,
          -8.019861221313477,
          8.405719757080078,
          4.960732936859131,
          -3.9979724884033203,
          -5.335140228271484,
          8.571267127990723,
          6.534768104553223,
          -6.0154500007629395,
          7.0937581062316895,
          -3.650509834289551,
          -6.307496070861816,
          8.184737205505371,
          -2.6878843307495117,
          9.137075424194336,
          -4.095801830291748,
          -2.713402271270752,
          -8.21157169342041,
          -5.988884449005127,
          -8.2327241897583,
          -5.4227800369262695,
          -7.124255180358887,
          14.50471305847168,
          8.982917785644531,
          14.090696334838867,
          -3.9313583374023438,
          -6.565138339996338,
          12.367230415344238,
          -4.001882076263428,
          -4.2799601554870605,
          12.260839462280273,
          8.735023498535156,
          -7.3790154457092285,
          -5.450170993804932,
          14.667513847351074,
          -1.5005738735198975,
          -5.979831695556641,
          -2.7413864135742188,
          -7.389518737792969,
          -3.8596932888031006,
          -7.332375526428223,
          -0.3389359712600708,
          -7.425580024719238,
          -8.016609191894531,
          6.296787738800049,
          13.553577423095703,
          -2.7383036613464355,
          10.132434844970703,
          10.796584129333496,
          8.936844825744629,
          -0.3742671310901642,
          -2.7030727863311768,
          0.8139342069625854,
          15.015610694885254,
          6.207173824310303,
          14.82343864440918,
          -2.8857576847076416,
          10.610454559326172,
          -7.433737754821777,
          8.814276695251465,
          8.965385437011719,
          9.074832916259766,
          -3.902329683303833,
          -4.935932159423828,
          -3.5590476989746094,
          -5.499871253967285,
          -2.798125743865967,
          12.339160919189453,
          14.266286849975586,
          5.228402614593506,
          12.645857810974121,
          0.775399386882782,
          10.827130317687988,
          -2.806640386581421,
          -6.08489465713501,
          -0.7319431304931641,
          -5.427000999450684,
          -6.328624725341797,
          -1.9703426361083984,
          -2.731720209121704,
          5.038529872894287,
          6.356479167938232,
          13.20724868774414,
          12.118188858032227,
          8.964093208312988,
          10.330207824707031,
          14.343284606933594,
          6.357688903808594,
          13.64018726348877,
          0.1072295680642128,
          -6.350351333618164,
          13.039817810058594,
          -4.105472564697266,
          -3.978849172592163,
          -3.6797661781311035,
          5.298889636993408,
          -2.760270595550537,
          12.94275188446045,
          5.357043266296387,
          12.31186294555664,
          14.4846773147583,
          3.55818247795105,
          -7.319746971130371,
          -2.024101734161377,
          -4.756354808807373,
          5.159978866577148,
          -6.377383708953857,
          8.956459999084473,
          -7.377686023712158,
          5.900828838348389,
          5.9759907722473145,
          0.1963648796081543,
          13.23449420928955,
          4.398672103881836,
          -2.865988254547119,
          13.112101554870605,
          9.017511367797852,
          11.080795288085938,
          9.03219985961914,
          9.931751251220703,
          6.033329010009766,
          13.354116439819336,
          6.579507827758789,
          10.51892375946045,
          11.941094398498535,
          -6.889835834503174,
          12.183588981628418,
          -5.007030963897705,
          -3.5511443614959717,
          -3.7616169452667236,
          13.636346817016602,
          14.661011695861816,
          5.448384761810303,
          14.780068397521973,
          15.21998119354248,
          12.186317443847656,
          13.632972717285156,
          11.936488151550293,
          10.429485321044922,
          11.124732971191406,
          -8.708174705505371,
          -2.0595691204071045,
          -8.055803298950195,
          15.147615432739258,
          13.99645709991455,
          -7.905613899230957,
          14.248371124267578,
          -2.7418174743652344,
          14.624061584472656,
          -5.122018814086914,
          10.511931419372559,
          7.267353057861328,
          8.169212341308594,
          14.721556663513184,
          14.23096752166748,
          13.733785629272461,
          7.188019275665283,
          -4.5234527587890625,
          14.77994441986084,
          -5.229485511779785,
          9.515548706054688,
          10.958085060119629,
          -7.934724807739258,
          5.53123140335083,
          4.367544651031494,
          -4.904764652252197,
          -0.8114255666732788,
          8.133930206298828,
          -5.245292663574219,
          14.392372131347656,
          14.012041091918945,
          15.212023735046387,
          14.73642635345459,
          -0.34599485993385315,
          -7.1819376945495605,
          11.097036361694336,
          -7.362302303314209,
          10.314099311828613,
          12.379755020141602,
          9.0851469039917,
          9.040977478027344,
          12.949775695800781,
          8.979726791381836,
          9.136144638061523,
          8.857535362243652,
          10.116471290588379,
          5.057469367980957,
          5.6124043464660645,
          -3.5341033935546875,
          8.229964256286621,
          6.10536527633667,
          -3.509305477142334,
          13.036739349365234,
          13.302952766418457,
          3.985628843307495,
          14.380040168762207,
          -2.224022150039673,
          11.269062995910645,
          -2.0442185401916504,
          5.267843246459961,
          -3.5493173599243164,
          6.112484455108643,
          14.038973808288574,
          3.5108089447021484,
          14.258615493774414,
          -7.883999347686768,
          12.384313583374023,
          10.4185209274292,
          6.107946872711182,
          12.515305519104004,
          7.528781890869141,
          8.236644744873047,
          12.61548137664795,
          8.88979434967041,
          5.748945713043213,
          12.977737426757812,
          5.848029613494873,
          11.416510581970215,
          12.857752799987793,
          14.58961009979248,
          0.8340023159980774,
          9.598847389221191,
          -3.664026975631714,
          -5.24118185043335,
          0.48276105523109436,
          9.519100189208984,
          5.55251932144165,
          12.404132843017578,
          -2.7610998153686523,
          12.319755554199219,
          13.15640926361084,
          5.4237961769104,
          13.308794021606445,
          3.2798736095428467,
          11.781294822692871,
          9.975229263305664,
          14.18755054473877,
          15.207928657531738,
          14.676358222961426,
          4.418300151824951,
          11.7285737991333,
          10.278322219848633,
          10.069371223449707,
          13.44735336303711,
          5.861498832702637,
          14.593777656555176,
          7.137855529785156,
          14.183294296264648,
          -3.716381788253784,
          14.788820266723633,
          14.195547103881836,
          -2.898000717163086,
          12.430578231811523,
          -4.086979389190674,
          13.689764022827148,
          -0.12137449532747269,
          7.187541484832764,
          10.429587364196777,
          -4.135288715362549,
          -4.180063247680664,
          11.095193862915039,
          -7.983190536499023,
          14.567842483520508,
          -3.558849573135376,
          9.123690605163574,
          8.956384658813477,
          12.55145263671875,
          3.844052791595459,
          -4.801661014556885,
          -4.78629732131958,
          -5.133900165557861,
          -4.383456707000732,
          -3.522059917449951,
          9.986985206604004,
          -4.158848285675049,
          -3.608449697494507,
          -6.722674369812012,
          -2.120156764984131,
          13.981938362121582,
          3.9550838470458984,
          -5.015862464904785,
          4.928610324859619,
          -3.5791378021240234,
          -4.685205459594727,
          -4.042225360870361,
          -3.557481050491333,
          -3.5200388431549072,
          -4.54025411605835,
          -3.595125436782837,
          -4.535976886749268,
          6.234471321105957,
          4.945406913757324,
          -5.908297061920166,
          3.6556379795074463,
          6.2895355224609375,
          11.221550941467285,
          6.311816215515137,
          3.3457846641540527,
          -0.4068067669868469,
          -1.5160348415374756,
          7.2411208152771,
          0.8412747383117676,
          9.965170860290527,
          -6.255551815032959,
          -2.6844804286956787,
          -2.7528138160705566,
          -8.315866470336914,
          -3.6766531467437744,
          -5.947843074798584,
          5.521421909332275,
          -2.7815489768981934,
          -0.33975714445114136,
          -2.7510592937469482,
          8.504950523376465,
          -7.211874008178711,
          -5.374390125274658,
          13.918808937072754,
          -3.980990171432495,
          6.28994607925415,
          -4.3833088874816895,
          5.562909126281738,
          -4.859551429748535,
          11.020408630371094,
          4.992891788482666,
          -0.814674437046051,
          12.168580055236816,
          -7.28670597076416,
          -2.7365193367004395,
          -7.444374084472656,
          -6.844335556030273,
          -6.269063949584961,
          -3.850982666015625,
          11.019675254821777,
          7.210723400115967,
          -7.267373085021973,
          14.878337860107422,
          -4.004384994506836,
          -4.2047224044799805,
          -7.9862446784973145,
          4.1944074630737305,
          -8.086329460144043,
          10.214245796203613,
          -2.735746145248413,
          15.03090763092041,
          14.183423042297363,
          15.209110260009766,
          3.8367040157318115,
          14.84447193145752,
          9.277706146240234,
          -3.951571226119995,
          5.218871593475342,
          -1.4641305208206177,
          -2.7816431522369385,
          5.283326625823975,
          -2.6621274948120117,
          7.203053951263428,
          5.468174457550049,
          3.23545241355896,
          -2.822075128555298,
          -4.4938859939575195,
          -2.1935999393463135,
          -6.31104040145874,
          -2.7895686626434326,
          -6.085133075714111,
          3.1274704933166504,
          -6.489433765411377,
          -8.029909133911133,
          13.52263069152832,
          -2.8352859020233154,
          13.208556175231934,
          -2.825263738632202,
          -4.212026596069336,
          -7.36356258392334,
          -2.896090507507324,
          -5.3841729164123535,
          0.7787054181098938,
          -6.368010997772217,
          -7.9538068771362305,
          -2.732152223587036,
          5.535062313079834,
          -4.563931465148926,
          -6.485288143157959,
          -2.677356481552124,
          -1.9484140872955322,
          -2.838759183883667,
          -6.0587053298950195,
          -5.6768670082092285,
          -7.4666748046875,
          -2.72538685798645,
          -6.265953063964844,
          -6.296053409576416,
          -2.1934003829956055,
          -0.23828797042369843,
          -2.724740743637085,
          -7.985172271728516,
          -7.407011985778809,
          -4.150528907775879,
          -2.7181334495544434,
          3.6019647121429443,
          -0.2585395872592926,
          -2.1663849353790283,
          -5.501294136047363,
          12.148018836975098,
          11.054993629455566,
          -1.1911710500717163,
          15.20284652709961,
          6.433209419250488,
          -8.004929542541504,
          10.4952392578125,
          -2.7211556434631348,
          -2.2375524044036865,
          5.506347179412842,
          12.801661491394043,
          13.73979663848877,
          14.081855773925781,
          0.21064232289791107,
          -8.077052116394043,
          -5.38126277923584,
          -4.5711283683776855,
          -6.0036468505859375,
          -3.9982123374938965,
          6.662600517272949,
          14.59936809539795,
          -7.35062313079834,
          -8.008590698242188,
          -6.011247158050537,
          12.809429168701172,
          -3.5266036987304688,
          -7.91046142578125,
          10.518509864807129,
          3.2544779777526855,
          -6.419529438018799,
          -0.0401897095143795,
          -2.8063347339630127,
          -8.061323165893555,
          -2.7385098934173584,
          -5.358915328979492,
          -8.032678604125977,
          -1.434842824935913,
          -6.752084732055664,
          -5.9786834716796875,
          14.511761665344238,
          -6.956783771514893,
          3.3562285900115967,
          11.196260452270508,
          -6.4242963790893555,
          -4.866549491882324,
          -7.976625442504883,
          -8.005790710449219,
          -3.568834066390991,
          -6.446834087371826,
          -7.225818157196045,
          -6.735390663146973,
          -6.060112953186035,
          -2.853057861328125,
          -6.042379856109619,
          -7.872562408447266,
          -4.45153284072876,
          -6.970839977264404,
          -8.114302635192871,
          -6.519802570343018,
          -7.316500663757324,
          -6.0428853034973145,
          -4.951292514801025,
          -2.7259209156036377,
          5.658092021942139,
          -2.1662514209747314,
          9.206099510192871,
          14.341951370239258,
          14.139851570129395,
          -2.7880916595458984,
          10.187262535095215,
          -6.010219573974609,
          -3.689831256866455,
          -2.7895147800445557,
          12.554011344909668,
          -3.5239932537078857,
          12.48570728302002,
          8.801048278808594,
          9.221447944641113,
          9.081783294677734,
          -2.811908006668091,
          -6.00985050201416,
          12.853470802307129,
          11.074325561523438,
          -3.9978830814361572,
          -4.74674654006958,
          14.13746166229248,
          11.773634910583496,
          14.29356575012207,
          -3.6979331970214844,
          -2.6533889770507812,
          -3.538578748703003,
          9.886395454406738,
          14.680501937866211,
          14.364776611328125,
          -2.7576828002929688,
          -2.8331234455108643,
          -2.3654496669769287,
          -5.113178730010986,
          9.731760025024414,
          13.927842140197754,
          -8.67919921875,
          9.056532859802246,
          8.7765474319458,
          9.099480628967285,
          9.521788597106934,
          8.961973190307617,
          9.070594787597656,
          10.018658638000488,
          8.945886611938477,
          12.793299674987793,
          0.8106295466423035,
          13.04457950592041,
          6.71149206161499,
          -7.308999061584473,
          8.7884521484375,
          -8.074562072753906,
          13.204099655151367,
          -6.975321292877197,
          8.825865745544434,
          9.120594024658203,
          9.439806938171387,
          11.009313583374023,
          9.845133781433105,
          9.143183708190918,
          10.973258972167969,
          -2.333320140838623,
          14.0718994140625,
          -8.028754234313965,
          -3.563138008117676,
          -2.781479835510254,
          15.2119140625,
          14.279791831970215,
          3.9076545238494873,
          10.359353065490723,
          -0.7049823999404907,
          10.895151138305664,
          -8.023337364196777,
          -5.917033672332764,
          -1.7565735578536987,
          4.431309700012207,
          5.30615234375,
          14.898308753967285,
          11.158352851867676,
          3.2488672733306885,
          15.22404956817627,
          12.660712242126465,
          3.561009645462036,
          -4.0307111740112305,
          8.297866821289062,
          -2.7954084873199463,
          10.239473342895508,
          -1.513224482536316,
          6.422606945037842,
          -2.7383029460906982,
          -7.057363510131836,
          -0.5902106165885925,
          -6.067394733428955,
          -5.053408622741699,
          8.242040634155273,
          -3.929570198059082,
          11.150561332702637,
          14.650687217712402,
          8.779763221740723,
          -3.6400816440582275,
          0.35680195689201355,
          14.140304565429688,
          12.54318618774414,
          4.9615797996521,
          14.521838188171387,
          -5.682028293609619,
          9.033634185791016,
          14.33188247680664,
          15.21716594696045,
          -3.9501254558563232,
          12.995089530944824,
          -3.505249500274658,
          3.2529797554016113,
          5.395416259765625,
          -7.205160140991211,
          -7.344607353210449,
          12.758565902709961,
          -2.2498157024383545,
          -2.7957687377929688,
          13.2323579788208,
          15.041930198669434,
          -1.4695199728012085,
          14.638501167297363,
          -8.690579414367676,
          12.394248962402344,
          8.779176712036133,
          -7.962306499481201,
          10.445711135864258,
          -2.357178211212158,
          -2.7406554222106934,
          14.078246116638184,
          14.635366439819336,
          14.814350128173828,
          10.945061683654785,
          14.017292976379395,
          8.763606071472168,
          5.53682279586792,
          5.6103410720825195,
          10.8896484375,
          14.806273460388184,
          11.07603931427002,
          10.477128982543945,
          12.183012962341309,
          12.557995796203613,
          14.891748428344727,
          3.554680585861206,
          5.294627666473389,
          6.335616111755371,
          10.70572566986084,
          12.365876197814941,
          8.838665962219238,
          11.012778282165527,
          8.788780212402344,
          14.313036918640137,
          14.416851997375488,
          14.105953216552734,
          15.218548774719238,
          11.604555130004883,
          10.411507606506348,
          -1.4767429828643799,
          15.158975601196289,
          14.3690185546875,
          12.35335922241211,
          14.61040210723877,
          -2.6579811573028564,
          13.351107597351074,
          5.29908561706543,
          12.716520309448242,
          10.925254821777344,
          12.463210105895996,
          9.763355255126953,
          14.34754467010498,
          9.599921226501465,
          12.21916675567627,
          10.923879623413086,
          12.745991706848145,
          10.86995792388916,
          15.183188438415527,
          10.337737083435059,
          14.692498207092285,
          -7.980509281158447,
          -3.8177530765533447,
          12.472539901733398,
          14.512767791748047,
          9.143285751342773,
          12.460695266723633,
          10.092129707336426,
          12.138748168945312,
          -2.7062177658081055,
          12.40654182434082,
          13.127408981323242,
          -6.910696983337402,
          15.215108871459961,
          -6.075448513031006,
          10.464778900146484,
          -4.848551273345947,
          -3.5467145442962646,
          14.29333782196045,
          14.01648235321045,
          -5.164438247680664,
          14.877877235412598,
          14.97379207611084,
          12.827033042907715,
          -4.456053256988525,
          -7.042429447174072,
          12.824908256530762,
          -7.016425609588623,
          12.62015438079834,
          -5.945888042449951,
          12.477859497070312,
          5.61928129196167,
          -4.513539791107178,
          13.257390975952148,
          12.487936019897461,
          15.039493560791016,
          8.788480758666992,
          9.744372367858887,
          9.838052749633789,
          15.067621231079102,
          12.21369743347168,
          12.865342140197754,
          3.41597843170166,
          -5.9769062995910645,
          12.176922798156738,
          9.871545791625977,
          9.907947540283203,
          12.13392448425293,
          10.054675102233887,
          9.8774995803833,
          9.497660636901855,
          9.55907154083252,
          9.007791519165039,
          10.443350791931152,
          15.0852689743042,
          15.200308799743652,
          14.906157493591309,
          14.243274688720703,
          12.596940994262695,
          11.459808349609375,
          8.752070426940918,
          9.827150344848633,
          9.066505432128906,
          9.300371170043945,
          9.646991729736328,
          9.1254301071167,
          12.694891929626465,
          13.391519546508789,
          -7.3448262214660645,
          11.82880973815918,
          14.214118957519531,
          12.526822090148926,
          11.274260520935059,
          12.611802101135254,
          12.561738014221191,
          5.508742809295654,
          11.381499290466309,
          10.998870849609375,
          14.213768005371094,
          12.048418998718262,
          12.15481948852539,
          6.6295857429504395,
          12.919427871704102,
          8.185226440429688,
          12.974261283874512,
          6.179142951965332,
          14.532059669494629,
          -3.563321828842163,
          11.845223426818848,
          -2.8009989261627197,
          -2.7427098751068115,
          -6.504927158355713,
          -4.539549827575684,
          12.586116790771484,
          14.193872451782227,
          9.535168647766113,
          13.6131591796875,
          15.085275650024414,
          12.638471603393555,
          14.955103874206543,
          -8.03504467010498,
          10.930188179016113,
          8.786895751953125,
          14.087299346923828,
          10.423116683959961,
          13.838093757629395,
          15.00933837890625,
          12.057178497314453,
          -2.206674814224243,
          15.230852127075195,
          4.535090923309326,
          13.84005355834961,
          14.767224311828613,
          15.148099899291992,
          13.483901023864746,
          8.849655151367188,
          13.398594856262207,
          14.251667976379395,
          0.7013172507286072,
          8.88584041595459,
          -8.706585884094238,
          6.080998420715332,
          12.857889175415039,
          11.75333309173584,
          9.202865600585938,
          8.781426429748535,
          14.542162895202637,
          -7.897710800170898,
          15.217473983764648,
          14.894683837890625,
          -8.003193855285645,
          6.0783891677856445,
          9.95267105102539,
          14.98873233795166,
          15.204668045043945,
          15.229714393615723,
          12.302538871765137,
          14.91417407989502,
          0.7721446752548218,
          4.314672946929932,
          14.723267555236816,
          8.769762992858887,
          8.961689949035645,
          -3.528858184814453,
          15.165172576904297,
          14.864459991455078,
          12.633000373840332,
          -3.534442663192749,
          -7.091732501983643,
          -2.8413679599761963,
          -6.878971099853516,
          -3.661494731903076,
          -8.012618064880371,
          -0.804557204246521,
          0.5746447443962097,
          -8.04362964630127,
          14.3587064743042,
          11.056659698486328,
          14.892753601074219,
          12.711620330810547,
          6.5592546463012695,
          11.82905101776123,
          10.922255516052246,
          -2.6538455486297607,
          10.239692687988281,
          13.619526863098145,
          14.351569175720215,
          -2.9102938175201416,
          11.05367374420166,
          15.134450912475586,
          14.671515464782715,
          11.719794273376465,
          12.543051719665527,
          11.060129165649414,
          14.19708251953125,
          9.014422416687012,
          9.864642143249512,
          11.666170120239258,
          11.344446182250977,
          -2.6401126384735107,
          14.669293403625488,
          8.792872428894043,
          9.148665428161621,
          11.723437309265137,
          8.764490127563477,
          11.071694374084473,
          9.677013397216797,
          11.921517372131348,
          10.00313663482666,
          11.247085571289062
         ],
         "xaxis": "x",
         "y": [
          -2.4338877201080322,
          -6.229257106781006,
          10.061354637145996,
          6.404223918914795,
          8.08971118927002,
          0.6342141628265381,
          15.328507423400879,
          15.765700340270996,
          15.732236862182617,
          -6.049028396606445,
          -11.916657447814941,
          18.620023727416992,
          -11.803503036499023,
          11.453530311584473,
          10.062726020812988,
          -6.0190205574035645,
          -4.625904083251953,
          -10.342057228088379,
          15.348588943481445,
          15.687349319458008,
          15.315753936767578,
          -8.206954956054688,
          -4.9297776222229,
          -8.19209098815918,
          -6.37605619430542,
          2.907203197479248,
          -11.428791046142578,
          -6.151509761810303,
          -11.919111251831055,
          14.026583671569824,
          11.105152130126953,
          18.50857162475586,
          18.78116798400879,
          15.325505256652832,
          12.781065940856934,
          15.693204879760742,
          14.076358795166016,
          19.687061309814453,
          13.990371704101562,
          12.873858451843262,
          11.458344459533691,
          15.337308883666992,
          15.432018280029297,
          -7.671316623687744,
          12.507486343383789,
          12.284273147583008,
          15.755135536193848,
          13.194421768188477,
          15.71303653717041,
          15.36550235748291,
          15.481410026550293,
          -0.6058685779571533,
          -6.3066725730896,
          -9.508293151855469,
          11.068469047546387,
          5.293330669403076,
          -6.256150722503662,
          -7.801599502563477,
          4.548423767089844,
          -7.113393306732178,
          9.97269058227539,
          4.212693691253662,
          -6.365105628967285,
          -7.163312911987305,
          -6.087801933288574,
          11.380547523498535,
          -7.247574806213379,
          15.294527053833008,
          13.962660789489746,
          15.31592845916748,
          5.200872421264648,
          3.2016425132751465,
          20.497730255126953,
          -6.1349873542785645,
          -3.075659990310669,
          7.078307628631592,
          3.9162092208862305,
          15.213072776794434,
          6.941330432891846,
          6.546316146850586,
          14.757668495178223,
          8.431200981140137,
          2.8285458087921143,
          5.170694828033447,
          20.892162322998047,
          -10.699921607971191,
          4.590560436248779,
          -5.723508834838867,
          2.7938790321350098,
          7.198829174041748,
          -1.8292957544326782,
          -11.695965766906738,
          2.7260384559631348,
          -0.6279153227806091,
          -8.148835182189941,
          18.35948944091797,
          -8.514119148254395,
          5.808930397033691,
          5.206316947937012,
          7.707196235656738,
          -11.672993659973145,
          -6.4054951667785645,
          -11.893303871154785,
          -1.2595126628875732,
          -8.237582206726074,
          -1.841519832611084,
          -4.922795295715332,
          12.056490898132324,
          -1.6694456338882446,
          8.217622756958008,
          7.619854927062988,
          7.379052639007568,
          7.131199836730957,
          5.7403883934021,
          9.236254692077637,
          5.11428689956665,
          -8.43904972076416,
          15.059976577758789,
          2.7112460136413574,
          18.720043182373047,
          16.030231475830078,
          -11.887040138244629,
          12.299429893493652,
          -5.1214680671691895,
          -3.1110758781433105,
          -11.431222915649414,
          5.1946940422058105,
          -2.8895561695098877,
          -10.043231964111328,
          -6.003538608551025,
          -9.449621200561523,
          -8.069060325622559,
          17.602537155151367,
          14.387506484985352,
          7.637507438659668,
          5.611120223999023,
          -2.7676761150360107,
          -8.072477340698242,
          18.532197952270508,
          -11.844941139221191,
          4.153282642364502,
          17.096725463867188,
          6.786128997802734,
          11.054071426391602,
          10.045212745666504,
          18.740983963012695,
          -5.534010887145996,
          16.885276794433594,
          18.825237274169922,
          14.99716854095459,
          2.3881759643554688,
          -10.43582820892334,
          -1.8346484899520874,
          -9.978065490722656,
          5.951528072357178,
          -9.347238540649414,
          -2.8408315181732178,
          7.61469030380249,
          2.845482349395752,
          18.843923568725586,
          18.750246047973633,
          -11.88266372680664,
          17.687108993530273,
          -9.862433433532715,
          -4.989049434661865,
          17.248138427734375,
          7.504507541656494,
          12.583093643188477,
          9.8085355758667,
          6.032481670379639,
          18.790645599365234,
          -3.6755473613739014,
          -7.727725505828857,
          11.955551147460938,
          -4.682154178619385,
          -2.3111062049865723,
          14.578601837158203,
          12.998788833618164,
          8.124951362609863,
          7.42726469039917,
          18.545921325683594,
          2.067669630050659,
          18.832263946533203,
          -1.9346734285354614,
          -0.2086443156003952,
          14.491227149963379,
          18.52243423461914,
          4.570413589477539,
          11.856423377990723,
          -5.204351902008057,
          15.737176895141602,
          -9.929628372192383,
          0.6949906945228577,
          0.5132802128791809,
          19.226091384887695,
          1.2467029094696045,
          -2.8823397159576416,
          -7.3491129875183105,
          20.843088150024414,
          13.140495300292969,
          -5.496885776519775,
          -6.938975811004639,
          -6.381986141204834,
          20.947492599487305,
          -2.91011643409729,
          -3.40187668800354,
          -7.00877571105957,
          12.282967567443848,
          21.00973892211914,
          13.246916770935059,
          -5.931626796722412,
          12.447927474975586,
          1.173901081085205,
          -9.047553062438965,
          -9.898686408996582,
          12.882232666015625,
          -11.364103317260742,
          -6.393030166625977,
          13.262994766235352,
          -2.69195818901062,
          -3.156176805496216,
          -0.2840101420879364,
          20.96965980529785,
          -11.698060989379883,
          3.114053726196289,
          12.591873168945312,
          -1.7938106060028076,
          -5.590085983276367,
          15.319062232971191,
          -6.095666885375977,
          -6.122225761413574,
          16.86976432800293,
          7.556333065032959,
          10.193031311035156,
          9.375682830810547,
          -5.672116279602051,
          -9.432262420654297,
          18.881837844848633,
          8.502338409423828,
          -6.326499938964844,
          18.850849151611328,
          8.457621574401855,
          17.11211395263672,
          -3.717726469039917,
          -10.150593757629395,
          20.033735275268555,
          -9.66879653930664,
          -5.101225852966309,
          -9.943203926086426,
          18.806169509887695,
          9.166402816772461,
          18.82807159423828,
          -3.132139205932617,
          -10.467409133911133,
          -2.837193012237549,
          1.3417562246322632,
          15.297446250915527,
          11.846226692199707,
          18.816926956176758,
          15.662593841552734,
          -6.77616024017334,
          -6.341275215148926,
          15.94987964630127,
          7.925159454345703,
          18.84557342529297,
          16.96875762939453,
          18.868003845214844,
          -5.001368522644043,
          16.555326461791992,
          2.2349984645843506,
          -11.897790908813477,
          6.458031177520752,
          7.678931713104248,
          5.400144100189209,
          -11.90034294128418,
          6.552018165588379,
          18.884349822998047,
          15.366950035095215,
          -8.443325996398926,
          4.3397111892700195,
          17.481822967529297,
          18.852584838867188,
          -3.716303825378418,
          -10.626766204833984,
          4.647461414337158,
          -5.7357892990112305,
          19.703603744506836,
          0.16236725449562073,
          20.871103286743164,
          -9.86639404296875,
          4.679176330566406,
          5.660325527191162,
          5.876945972442627,
          -3.60693359375,
          18.872085571289062,
          20.83834457397461,
          -7.057242393493652,
          19.682214736938477,
          7.535837650299072,
          21.009334564208984,
          19.7045955657959,
          -4.917869567871094,
          -4.339528560638428,
          11.31334114074707,
          18.62288475036621,
          -11.80368709564209,
          -7.011078357696533,
          11.855645179748535,
          11.428235054016113,
          6.674105167388916,
          12.578324317932129,
          0.9096055626869202,
          20.750839233398438,
          9.163350105285645,
          10.17812728881836,
          7.600114345550537,
          15.758777618408203,
          -10.237985610961914,
          12.746809005737305,
          12.711905479431152,
          5.517568588256836,
          6.417303085327148,
          8.619133949279785,
          -5.734952926635742,
          6.708754062652588,
          7.870616436004639,
          3.718841075897217,
          -9.819457054138184,
          19.212066650390625,
          -10.16962718963623,
          13.016124725341797,
          -9.534865379333496,
          9.30954647064209,
          6.035120010375977,
          6.868171215057373,
          9.242548942565918,
          8.510355949401855,
          12.323344230651855,
          7.920561790466309,
          12.340127944946289,
          -8.210702896118164,
          -9.523462295532227,
          13.884355545043945,
          -10.365384101867676,
          -8.146125793457031,
          -5.129415035247803,
          -8.124274253845215,
          -10.589139938354492,
          -11.662810325622559,
          -10.682676315307617,
          -6.962198257446289,
          -11.884600639343262,
          -5.74869966506958,
          -2.9596545696258545,
          -7.157506942749023,
          -7.347664833068848,
          15.391789436340332,
          10.028477668762207,
          13.92274284362793,
          -9.058587074279785,
          -8.409406661987305,
          -11.702035903930664,
          -5.616805553436279,
          -6.290576457977295,
          -1.9590661525726318,
          5.252113342285156,
          19.077314376831055,
          6.969048500061035,
          -8.148831367492676,
          12.00777530670166,
          -9.014371871948242,
          12.830290794372559,
          -5.271284580230713,
          -9.485140800476074,
          -11.362674713134766,
          14.501737594604492,
          2.9612631797790527,
          -5.841238021850586,
          2.705934762954712,
          -2.357916831970215,
          -2.951115131378174,
          10.675442695617676,
          12.511528015136719,
          -6.986408233642578,
          3.010728359222412,
          -1.704883098602295,
          11.112961769104004,
          6.647232532501221,
          0.9083447456359863,
          -10.017065048217773,
          0.3922862410545349,
          -5.6297430992126465,
          -5.74507999420166,
          -1.2026822566986084,
          19.72975730895996,
          -0.3325037658214569,
          -10.240848541259766,
          -1.7793846130371094,
          -6.019994735717773,
          10.969226837158203,
          18.70241355895996,
          -10.739419937133789,
          -7.47318696975708,
          -9.254827499389648,
          -6.984616756439209,
          -6.993473052978516,
          -9.103759765625,
          -10.661067008972168,
          -7.761536121368408,
          6.274291515350342,
          -9.716473579406738,
          -2.9074649810791016,
          -5.186650276184082,
          4.473909378051758,
          -10.723797798156738,
          4.002983570098877,
          -0.5924139618873596,
          18.30927848815918,
          -8.126322746276855,
          17.60350799560547,
          -8.302553176879883,
          6.628411293029785,
          2.841071605682373,
          -4.913668632507324,
          5.241778373718262,
          -11.920453071594238,
          -2.8507912158966064,
          0.9416987895965576,
          -6.00283145904541,
          -9.04540729522705,
          12.361616134643555,
          4.006183624267578,
          -7.074159622192383,
          -10.078800201416016,
          -8.014439582824707,
          -3.135044574737549,
          4.92117977142334,
          2.6313719749450684,
          -6.076761722564697,
          -2.952045440673828,
          -2.9228384494781494,
          -9.71180248260498,
          -11.756494522094727,
          -6.071476459503174,
          0.8486408591270447,
          2.7646892070770264,
          6.722433090209961,
          -8.5094575881958,
          -10.397432327270508,
          -11.742298126220703,
          -9.748104095458984,
          5.11644172668457,
          14.465873718261719,
          -5.244576454162598,
          -11.008455276489258,
          -0.38139620423316956,
          -7.973300457000732,
          0.8597127199172974,
          11.929647445678711,
          -8.515710830688477,
          -9.549616813659668,
          -9.071370124816895,
          -4.0738396644592285,
          -3.3899660110473633,
          -3.0806639194488525,
          -11.896501541137695,
          0.7339653968811035,
          5.24419641494751,
          6.179597854614258,
          -3.1821954250335693,
          6.973428249359131,
          -7.621384143829346,
          -2.334040880203247,
          2.858004093170166,
          -0.6211517453193665,
          -3.1741061210632324,
          16.497121810913086,
          8.422355651855469,
          1.2365361452102661,
          11.95421314239502,
          -10.64023208618164,
          4.0506272315979,
          -11.823081016540527,
          -5.0850067138671875,
          -0.5441418290138245,
          -5.817593097686768,
          5.269093036651611,
          -0.618741512298584,
          -10.769621849060059,
          -2.4527246952056885,
          4.588939189910889,
          20.476158142089844,
          -2.239527463912964,
          -10.581756591796875,
          -5.138094425201416,
          4.074742317199707,
          5.81804895401001,
          0.9226734638214111,
          0.9002352952957153,
          8.912251472473145,
          -2.7704663276672363,
          3.0539872646331787,
          -2.470141649246216,
          14.0299711227417,
          -4.87980318069458,
          14.00806999206543,
          1.333699345588684,
          6.330753326416016,
          -2.225794553756714,
          0.5561817288398743,
          -2.6948094367980957,
          2.9086685180664062,
          14.013453483581543,
          5.7247161865234375,
          -6.063363075256348,
          18.938077926635742,
          -9.75605297088623,
          -6.04741907119751,
          19.99484634399414,
          19.641481399536133,
          -5.179164409637451,
          11.574629783630371,
          -3.179595708847046,
          10.059270858764648,
          -8.295186996459961,
          15.764018058776855,
          9.022623062133789,
          15.637072563171387,
          9.167423248291016,
          10.319591522216797,
          10.090532302856445,
          -7.800316333770752,
          -3.1801345348358154,
          16.59518051147461,
          -5.2322516441345215,
          11.098735809326172,
          12.668427467346191,
          19.60722541809082,
          -4.790637493133545,
          2.6841845512390137,
          10.069035530090332,
          -6.986055374145508,
          8.974506378173828,
          -5.781141757965088,
          2.0220141410827637,
          -2.725022077560425,
          -8.46986198425293,
          -7.807745456695557,
          -9.398809432983398,
          13.128540992736816,
          -5.832153797149658,
          19.09728240966797,
          15.708772659301758,
          7.418903350830078,
          8.361424446105957,
          7.360874176025391,
          6.55746603012085,
          9.757583618164062,
          7.413693904876709,
          5.929978847503662,
          9.70889663696289,
          -4.071898937225342,
          -11.87525749206543,
          17.06233024597168,
          -7.57124137878418,
          -1.854414939880371,
          9.046503067016602,
          -0.4020240008831024,
          17.606975555419922,
          -2.2211265563964844,
          9.26196002960205,
          10.18704605102539,
          6.690792083740234,
          12.498929023742676,
          11.164544105529785,
          10.213082313537598,
          12.458980560302734,
          -9.491050720214844,
          -3.097067356109619,
          -0.5988027453422546,
          8.370899200439453,
          -5.223490238189697,
          -0.3868946135044098,
          19.845516204833984,
          -10.197921752929688,
          -5.565104961395264,
          -11.453350067138672,
          12.38015365600586,
          0.776070237159729,
          4.654770374298096,
          -10.348954200744629,
          -9.853510856628418,
          18.77764320373535,
          1.5293492078781128,
          -5.173111915588379,
          -10.651643753051758,
          -0.061996154487133026,
          -4.184775352478027,
          -10.436795234680176,
          11.17319393157959,
          -6.322599411010742,
          -7.545181751251221,
          11.63411808013916,
          -10.684041976928711,
          -7.977390289306641,
          -5.8047895431518555,
          -2.1340043544769287,
          -11.531761169433594,
          4.490732192993164,
          13.062419891357422,
          -6.341567039489746,
          10.906427383422852,
          12.685186386108398,
          -2.2540528774261475,
          8.581302642822266,
          7.733534336090088,
          -11.910155296325684,
          19.591453552246094,
          -4.248365879058838,
          -9.508028984069824,
          20.509517669677734,
          4.916841506958008,
          -6.116954326629639,
          19.9693603515625,
          -0.1492033302783966,
          10.956059455871582,
          17.011096954345703,
          8.237105369567871,
          -10.655372619628906,
          18.77778434753418,
          3.0807011127471924,
          -1.8134992122650146,
          16.393714904785156,
          -9.60714340209961,
          -7.569778919219971,
          17.662817001342773,
          -1.1543834209442139,
          -10.73354721069336,
          20.85220718383789,
          15.729568481445312,
          15.382184028625488,
          8.650705337524414,
          0.9984837174415588,
          5.503054141998291,
          -9.424071311950684,
          -8.57430362701416,
          19.491111755371094,
          -2.2625861167907715,
          -1.813372015953064,
          -5.307642936706543,
          19.299142837524414,
          8.555004119873047,
          -9.043116569519043,
          18.888458251953125,
          5.135738372802734,
          1.7030973434448242,
          4.993298530578613,
          5.477238178253174,
          4.43692684173584,
          4.216342926025391,
          1.5102163553237915,
          -10.433296203613281,
          18.748445510864258,
          -8.092097282409668,
          5.287745952606201,
          4.350560665130615,
          9.267086029052734,
          5.037936687469482,
          8.63415813446045,
          19.918601989746094,
          2.5014290809631348,
          -3.056187629699707,
          0.1269083321094513,
          4.730961322784424,
          5.53762149810791,
          -10.727972030639648,
          0.43489158153533936,
          2.576265811920166,
          -4.386237144470215,
          20.801137924194336,
          -7.050036907196045,
          -3.6832475662231445,
          18.763927459716797,
          16.237573623657227,
          5.113899230957031,
          15.518404960632324,
          11.073162078857422,
          2.605236530303955,
          6.45161247253418,
          14.683960914611816,
          5.103938579559326,
          -4.112332344055176,
          12.349814414978027,
          0.31484538316726685,
          -5.572410583496094,
          20.92323112487793,
          0.9381056427955627,
          7.283952236175537,
          15.55567741394043,
          2.3476831912994385,
          -6.085730075836182,
          15.479825973510742,
          5.850862503051758,
          14.403531074523926,
          -6.3383941650390625,
          -4.352517127990723,
          17.369272232055664,
          -2.288640022277832,
          -0.25340527296066284,
          14.044164657592773,
          -5.509975910186768,
          5.842182159423828,
          8.917377471923828,
          19.894201278686523,
          -3.154249429702759,
          13.183296203613281,
          1.5561729669570923,
          1.1996558904647827,
          16.540828704833984,
          12.201652526855469,
          -2.1499857902526855,
          16.56397247314453,
          3.3351612091064453,
          15.948521614074707,
          13.91995906829834,
          -4.3074564933776855,
          -8.953359603881836,
          12.291875839233398,
          17.723623275756836,
          -4.301070690155029,
          0.9401281476020813,
          8.542448997497559,
          11.04909610748291,
          11.15464973449707,
          0.8372951149940491,
          -4.486433029174805,
          16.62520980834961,
          -10.540796279907227,
          13.951401710510254,
          14.432892799377441,
          11.195598602294922,
          11.240018844604492,
          14.462198257446289,
          5.891635417938232,
          11.200860023498535,
          6.600399971008301,
          6.5056843757629395,
          9.834542274475098,
          11.872069358825684,
          0.7571359276771545,
          -0.3926050662994385,
          1.5500261783599854,
          2.737168073654175,
          4.179571628570557,
          4.789275646209717,
          8.430636405944824,
          11.145259857177734,
          10.112907409667969,
          10.432753562927246,
          6.396444797515869,
          10.200826644897461,
          -4.162675857543945,
          18.03355598449707,
          -1.8119124174118042,
          4.6180033683776855,
          2.7706990242004395,
          4.231838703155518,
          -5.093660354614258,
          4.16385555267334,
          4.206952095031738,
          -9.069282531738281,
          4.8390302658081055,
          5.050468921661377,
          2.771845579147339,
          4.504117965698242,
          14.354985237121582,
          -7.668443202972412,
          -3.990278482437134,
          -6.36364221572876,
          -3.9528558254241943,
          18.80439567565918,
          -2.475623846054077,
          9.312241554260254,
          -4.7381157875061035,
          -5.123298168182373,
          -5.716426372528076,
          3.9832940101623535,
          12.305776596069336,
          4.187882423400879,
          2.792165756225586,
          6.537353515625,
          -3.4783029556274414,
          0.7768909931182861,
          15.9784517288208,
          1.139533281326294,
          0.7293672561645508,
          12.411826133728027,
          9.111801147460938,
          2.903233051300049,
          5.524601936340332,
          -3.3144304752349854,
          -1.2335566282272339,
          14.259587287902832,
          -9.691336631774902,
          -0.0014940929831936955,
          -9.78315258026123,
          -3.3156559467315674,
          1.8088126182556152,
          0.48429277539253235,
          -3.575672149658203,
          9.341604232788086,
          18.026996612548828,
          2.7297744750976562,
          -11.862585067749023,
          7.904868125915527,
          15.735837936401367,
          18.802085876464844,
          16.622840881347656,
          4.640908241271973,
          7.174198627471924,
          8.820195198059082,
          -2.4464943408966064,
          1.2864491939544678,
          0.16441066563129425,
          -1.669415831565857,
          0.8773466944694519,
          18.812904357910156,
          -5.751112937927246,
          -1.3402273654937744,
          0.16290295124053955,
          0.02150876261293888,
          4.356672286987305,
          1.4301015138626099,
          -11.905229568481445,
          -9.942854881286621,
          20.94965362548828,
          8.421908378601074,
          7.578220844268799,
          8.21234130859375,
          -0.5533201694488525,
          -1.749388575553894,
          15.980830192565918,
          8.187426567077637,
          3.235710620880127,
          -7.863189220428467,
          -2.322371482849121,
          9.971562385559082,
          -0.6209933757781982,
          -11.367855072021484,
          -11.8977632522583,
          -0.5775644779205322,
          -2.7382631301879883,
          5.007659912109375,
          1.477407693862915,
          16.220264434814453,
          -7.772627353668213,
          4.621686935424805,
          12.401118278503418,
          -7.0647149085998535,
          5.700352191925049,
          18.49662971496582,
          20.02104949951172,
          -4.907121181488037,
          12.55107307434082,
          -0.7182565927505493,
          20.89419937133789,
          -4.824254989624023,
          4.218544960021973,
          5.000088214874268,
          2.7905774116516113,
          9.845086097717285,
          11.187427520751953,
          4.671105861663818,
          -5.043657302856445,
          -7.127903938293457,
          20.894264221191406,
          8.609259605407715,
          10.23128890991211,
          4.680172920227051,
          8.438511848449707,
          4.998950481414795,
          10.953816413879395,
          4.57362699508667,
          -5.724219799041748,
          4.904505252838135
         ],
         "yaxis": "y"
        }
       ],
       "layout": {
        "coloraxis": {
         "colorbar": {
          "title": {
           "text": "Topic"
          }
         },
         "colorscale": [
          [
           0,
           "#0d0887"
          ],
          [
           0.1111111111111111,
           "#46039f"
          ],
          [
           0.2222222222222222,
           "#7201a8"
          ],
          [
           0.3333333333333333,
           "#9c179e"
          ],
          [
           0.4444444444444444,
           "#bd3786"
          ],
          [
           0.5555555555555556,
           "#d8576b"
          ],
          [
           0.6666666666666666,
           "#ed7953"
          ],
          [
           0.7777777777777778,
           "#fb9f3a"
          ],
          [
           0.8888888888888888,
           "#fdca26"
          ],
          [
           1,
           "#f0f921"
          ]
         ]
        },
        "legend": {
         "tracegroupgap": 0
        },
        "template": {
         "data": {
          "bar": [
           {
            "error_x": {
             "color": "#2a3f5f"
            },
            "error_y": {
             "color": "#2a3f5f"
            },
            "marker": {
             "line": {
              "color": "#E5ECF6",
              "width": 0.5
             },
             "pattern": {
              "fillmode": "overlay",
              "size": 10,
              "solidity": 0.2
             }
            },
            "type": "bar"
           }
          ],
          "barpolar": [
           {
            "marker": {
             "line": {
              "color": "#E5ECF6",
              "width": 0.5
             },
             "pattern": {
              "fillmode": "overlay",
              "size": 10,
              "solidity": 0.2
             }
            },
            "type": "barpolar"
           }
          ],
          "carpet": [
           {
            "aaxis": {
             "endlinecolor": "#2a3f5f",
             "gridcolor": "white",
             "linecolor": "white",
             "minorgridcolor": "white",
             "startlinecolor": "#2a3f5f"
            },
            "baxis": {
             "endlinecolor": "#2a3f5f",
             "gridcolor": "white",
             "linecolor": "white",
             "minorgridcolor": "white",
             "startlinecolor": "#2a3f5f"
            },
            "type": "carpet"
           }
          ],
          "choropleth": [
           {
            "colorbar": {
             "outlinewidth": 0,
             "ticks": ""
            },
            "type": "choropleth"
           }
          ],
          "contour": [
           {
            "colorbar": {
             "outlinewidth": 0,
             "ticks": ""
            },
            "colorscale": [
             [
              0,
              "#0d0887"
             ],
             [
              0.1111111111111111,
              "#46039f"
             ],
             [
              0.2222222222222222,
              "#7201a8"
             ],
             [
              0.3333333333333333,
              "#9c179e"
             ],
             [
              0.4444444444444444,
              "#bd3786"
             ],
             [
              0.5555555555555556,
              "#d8576b"
             ],
             [
              0.6666666666666666,
              "#ed7953"
             ],
             [
              0.7777777777777778,
              "#fb9f3a"
             ],
             [
              0.8888888888888888,
              "#fdca26"
             ],
             [
              1,
              "#f0f921"
             ]
            ],
            "type": "contour"
           }
          ],
          "contourcarpet": [
           {
            "colorbar": {
             "outlinewidth": 0,
             "ticks": ""
            },
            "type": "contourcarpet"
           }
          ],
          "heatmap": [
           {
            "colorbar": {
             "outlinewidth": 0,
             "ticks": ""
            },
            "colorscale": [
             [
              0,
              "#0d0887"
             ],
             [
              0.1111111111111111,
              "#46039f"
             ],
             [
              0.2222222222222222,
              "#7201a8"
             ],
             [
              0.3333333333333333,
              "#9c179e"
             ],
             [
              0.4444444444444444,
              "#bd3786"
             ],
             [
              0.5555555555555556,
              "#d8576b"
             ],
             [
              0.6666666666666666,
              "#ed7953"
             ],
             [
              0.7777777777777778,
              "#fb9f3a"
             ],
             [
              0.8888888888888888,
              "#fdca26"
             ],
             [
              1,
              "#f0f921"
             ]
            ],
            "type": "heatmap"
           }
          ],
          "heatmapgl": [
           {
            "colorbar": {
             "outlinewidth": 0,
             "ticks": ""
            },
            "colorscale": [
             [
              0,
              "#0d0887"
             ],
             [
              0.1111111111111111,
              "#46039f"
             ],
             [
              0.2222222222222222,
              "#7201a8"
             ],
             [
              0.3333333333333333,
              "#9c179e"
             ],
             [
              0.4444444444444444,
              "#bd3786"
             ],
             [
              0.5555555555555556,
              "#d8576b"
             ],
             [
              0.6666666666666666,
              "#ed7953"
             ],
             [
              0.7777777777777778,
              "#fb9f3a"
             ],
             [
              0.8888888888888888,
              "#fdca26"
             ],
             [
              1,
              "#f0f921"
             ]
            ],
            "type": "heatmapgl"
           }
          ],
          "histogram": [
           {
            "marker": {
             "pattern": {
              "fillmode": "overlay",
              "size": 10,
              "solidity": 0.2
             }
            },
            "type": "histogram"
           }
          ],
          "histogram2d": [
           {
            "colorbar": {
             "outlinewidth": 0,
             "ticks": ""
            },
            "colorscale": [
             [
              0,
              "#0d0887"
             ],
             [
              0.1111111111111111,
              "#46039f"
             ],
             [
              0.2222222222222222,
              "#7201a8"
             ],
             [
              0.3333333333333333,
              "#9c179e"
             ],
             [
              0.4444444444444444,
              "#bd3786"
             ],
             [
              0.5555555555555556,
              "#d8576b"
             ],
             [
              0.6666666666666666,
              "#ed7953"
             ],
             [
              0.7777777777777778,
              "#fb9f3a"
             ],
             [
              0.8888888888888888,
              "#fdca26"
             ],
             [
              1,
              "#f0f921"
             ]
            ],
            "type": "histogram2d"
           }
          ],
          "histogram2dcontour": [
           {
            "colorbar": {
             "outlinewidth": 0,
             "ticks": ""
            },
            "colorscale": [
             [
              0,
              "#0d0887"
             ],
             [
              0.1111111111111111,
              "#46039f"
             ],
             [
              0.2222222222222222,
              "#7201a8"
             ],
             [
              0.3333333333333333,
              "#9c179e"
             ],
             [
              0.4444444444444444,
              "#bd3786"
             ],
             [
              0.5555555555555556,
              "#d8576b"
             ],
             [
              0.6666666666666666,
              "#ed7953"
             ],
             [
              0.7777777777777778,
              "#fb9f3a"
             ],
             [
              0.8888888888888888,
              "#fdca26"
             ],
             [
              1,
              "#f0f921"
             ]
            ],
            "type": "histogram2dcontour"
           }
          ],
          "mesh3d": [
           {
            "colorbar": {
             "outlinewidth": 0,
             "ticks": ""
            },
            "type": "mesh3d"
           }
          ],
          "parcoords": [
           {
            "line": {
             "colorbar": {
              "outlinewidth": 0,
              "ticks": ""
             }
            },
            "type": "parcoords"
           }
          ],
          "pie": [
           {
            "automargin": true,
            "type": "pie"
           }
          ],
          "scatter": [
           {
            "fillpattern": {
             "fillmode": "overlay",
             "size": 10,
             "solidity": 0.2
            },
            "type": "scatter"
           }
          ],
          "scatter3d": [
           {
            "line": {
             "colorbar": {
              "outlinewidth": 0,
              "ticks": ""
             }
            },
            "marker": {
             "colorbar": {
              "outlinewidth": 0,
              "ticks": ""
             }
            },
            "type": "scatter3d"
           }
          ],
          "scattercarpet": [
           {
            "marker": {
             "colorbar": {
              "outlinewidth": 0,
              "ticks": ""
             }
            },
            "type": "scattercarpet"
           }
          ],
          "scattergeo": [
           {
            "marker": {
             "colorbar": {
              "outlinewidth": 0,
              "ticks": ""
             }
            },
            "type": "scattergeo"
           }
          ],
          "scattergl": [
           {
            "marker": {
             "colorbar": {
              "outlinewidth": 0,
              "ticks": ""
             }
            },
            "type": "scattergl"
           }
          ],
          "scattermapbox": [
           {
            "marker": {
             "colorbar": {
              "outlinewidth": 0,
              "ticks": ""
             }
            },
            "type": "scattermapbox"
           }
          ],
          "scatterpolar": [
           {
            "marker": {
             "colorbar": {
              "outlinewidth": 0,
              "ticks": ""
             }
            },
            "type": "scatterpolar"
           }
          ],
          "scatterpolargl": [
           {
            "marker": {
             "colorbar": {
              "outlinewidth": 0,
              "ticks": ""
             }
            },
            "type": "scatterpolargl"
           }
          ],
          "scatterternary": [
           {
            "marker": {
             "colorbar": {
              "outlinewidth": 0,
              "ticks": ""
             }
            },
            "type": "scatterternary"
           }
          ],
          "surface": [
           {
            "colorbar": {
             "outlinewidth": 0,
             "ticks": ""
            },
            "colorscale": [
             [
              0,
              "#0d0887"
             ],
             [
              0.1111111111111111,
              "#46039f"
             ],
             [
              0.2222222222222222,
              "#7201a8"
             ],
             [
              0.3333333333333333,
              "#9c179e"
             ],
             [
              0.4444444444444444,
              "#bd3786"
             ],
             [
              0.5555555555555556,
              "#d8576b"
             ],
             [
              0.6666666666666666,
              "#ed7953"
             ],
             [
              0.7777777777777778,
              "#fb9f3a"
             ],
             [
              0.8888888888888888,
              "#fdca26"
             ],
             [
              1,
              "#f0f921"
             ]
            ],
            "type": "surface"
           }
          ],
          "table": [
           {
            "cells": {
             "fill": {
              "color": "#EBF0F8"
             },
             "line": {
              "color": "white"
             }
            },
            "header": {
             "fill": {
              "color": "#C8D4E3"
             },
             "line": {
              "color": "white"
             }
            },
            "type": "table"
           }
          ]
         },
         "layout": {
          "annotationdefaults": {
           "arrowcolor": "#2a3f5f",
           "arrowhead": 0,
           "arrowwidth": 1
          },
          "autotypenumbers": "strict",
          "coloraxis": {
           "colorbar": {
            "outlinewidth": 0,
            "ticks": ""
           }
          },
          "colorscale": {
           "diverging": [
            [
             0,
             "#8e0152"
            ],
            [
             0.1,
             "#c51b7d"
            ],
            [
             0.2,
             "#de77ae"
            ],
            [
             0.3,
             "#f1b6da"
            ],
            [
             0.4,
             "#fde0ef"
            ],
            [
             0.5,
             "#f7f7f7"
            ],
            [
             0.6,
             "#e6f5d0"
            ],
            [
             0.7,
             "#b8e186"
            ],
            [
             0.8,
             "#7fbc41"
            ],
            [
             0.9,
             "#4d9221"
            ],
            [
             1,
             "#276419"
            ]
           ],
           "sequential": [
            [
             0,
             "#0d0887"
            ],
            [
             0.1111111111111111,
             "#46039f"
            ],
            [
             0.2222222222222222,
             "#7201a8"
            ],
            [
             0.3333333333333333,
             "#9c179e"
            ],
            [
             0.4444444444444444,
             "#bd3786"
            ],
            [
             0.5555555555555556,
             "#d8576b"
            ],
            [
             0.6666666666666666,
             "#ed7953"
            ],
            [
             0.7777777777777778,
             "#fb9f3a"
            ],
            [
             0.8888888888888888,
             "#fdca26"
            ],
            [
             1,
             "#f0f921"
            ]
           ],
           "sequentialminus": [
            [
             0,
             "#0d0887"
            ],
            [
             0.1111111111111111,
             "#46039f"
            ],
            [
             0.2222222222222222,
             "#7201a8"
            ],
            [
             0.3333333333333333,
             "#9c179e"
            ],
            [
             0.4444444444444444,
             "#bd3786"
            ],
            [
             0.5555555555555556,
             "#d8576b"
            ],
            [
             0.6666666666666666,
             "#ed7953"
            ],
            [
             0.7777777777777778,
             "#fb9f3a"
            ],
            [
             0.8888888888888888,
             "#fdca26"
            ],
            [
             1,
             "#f0f921"
            ]
           ]
          },
          "colorway": [
           "#636efa",
           "#EF553B",
           "#00cc96",
           "#ab63fa",
           "#FFA15A",
           "#19d3f3",
           "#FF6692",
           "#B6E880",
           "#FF97FF",
           "#FECB52"
          ],
          "font": {
           "color": "#2a3f5f"
          },
          "geo": {
           "bgcolor": "white",
           "lakecolor": "white",
           "landcolor": "#E5ECF6",
           "showlakes": true,
           "showland": true,
           "subunitcolor": "white"
          },
          "hoverlabel": {
           "align": "left"
          },
          "hovermode": "closest",
          "mapbox": {
           "style": "light"
          },
          "paper_bgcolor": "white",
          "plot_bgcolor": "#E5ECF6",
          "polar": {
           "angularaxis": {
            "gridcolor": "white",
            "linecolor": "white",
            "ticks": ""
           },
           "bgcolor": "#E5ECF6",
           "radialaxis": {
            "gridcolor": "white",
            "linecolor": "white",
            "ticks": ""
           }
          },
          "scene": {
           "xaxis": {
            "backgroundcolor": "#E5ECF6",
            "gridcolor": "white",
            "gridwidth": 2,
            "linecolor": "white",
            "showbackground": true,
            "ticks": "",
            "zerolinecolor": "white"
           },
           "yaxis": {
            "backgroundcolor": "#E5ECF6",
            "gridcolor": "white",
            "gridwidth": 2,
            "linecolor": "white",
            "showbackground": true,
            "ticks": "",
            "zerolinecolor": "white"
           },
           "zaxis": {
            "backgroundcolor": "#E5ECF6",
            "gridcolor": "white",
            "gridwidth": 2,
            "linecolor": "white",
            "showbackground": true,
            "ticks": "",
            "zerolinecolor": "white"
           }
          },
          "shapedefaults": {
           "line": {
            "color": "#2a3f5f"
           }
          },
          "ternary": {
           "aaxis": {
            "gridcolor": "white",
            "linecolor": "white",
            "ticks": ""
           },
           "baxis": {
            "gridcolor": "white",
            "linecolor": "white",
            "ticks": ""
           },
           "bgcolor": "#E5ECF6",
           "caxis": {
            "gridcolor": "white",
            "linecolor": "white",
            "ticks": ""
           }
          },
          "title": {
           "x": 0.05
          },
          "xaxis": {
           "automargin": true,
           "gridcolor": "white",
           "linecolor": "white",
           "ticks": "",
           "title": {
            "standoff": 15
           },
           "zerolinecolor": "white",
           "zerolinewidth": 2
          },
          "yaxis": {
           "automargin": true,
           "gridcolor": "white",
           "linecolor": "white",
           "ticks": "",
           "title": {
            "standoff": 15
           },
           "zerolinecolor": "white",
           "zerolinewidth": 2
          }
         }
        },
        "title": {
         "text": "UMAP Visualization of BERTopic Clusters (n_neighbors=200, n_components=2)"
        },
        "xaxis": {
         "anchor": "y",
         "domain": [
          0,
          1
         ],
         "title": {
          "text": "UMAP Dimension 1"
         }
        },
        "yaxis": {
         "anchor": "x",
         "domain": [
          0,
          1
         ],
         "title": {
          "text": "UMAP Dimension 2"
         }
        }
       }
      }
     },
     "metadata": {},
     "output_type": "display_data"
    },
    {
     "data": {
      "application/vnd.plotly.v1+json": {
       "config": {
        "plotlyServerURL": "https://plot.ly"
       },
       "data": [
        {
         "customdata": [
          [
           0,
           "Published research papers on AI training compute trends"
          ],
          [
           0,
           "Reports from industry analysts like SemiAnalysis"
          ],
          [
           2,
           "Data from cloud computing providers like AWS, Azure, and Google Cloud"
          ],
          [
           0,
           "Financial reports from companies investing in AI infrastructure"
          ],
          [
           0,
           "Analysis of AI hardware and software costs"
          ],
          [
           0,
           "Economic models forecasting AI infrastructure expenditure"
          ],
          [
           2,
           "Reports on renewable energy deployment and capacity"
          ],
          [
           2,
           "Studies on the integration of renewable energy into data centers"
          ],
          [
           2,
           "Analysis of the cost and efficiency of renewable energy technologies"
          ],
          [
           0,
           "Research papers on AI algorithm efficiency improvements"
          ],
          [
           0,
           "Technical reports on new AI hardware designs"
          ],
          [
           1,
           "Forecasts for future developments in AI technology"
          ],
          [
           0,
           "Reports on AI hardware advancements"
          ],
          [
           2,
           "Data on AI training compute power usage"
          ],
          [
           2,
           "Analysis of AI model size and complexity"
          ],
          [
           0,
           "Research papers on AI algorithm efficiency"
          ],
          [
           0,
           "Publications on AI optimization techniques"
          ],
          [
           0,
           "Industry reports on advancements in AI training software"
          ],
          [
           2,
           "Reports on renewable energy cost trends"
          ],
          [
           2,
           "Analysis of the economic feasibility of renewable energy for data centers"
          ],
          [
           2,
           "Studies on the impact of renewable energy on the AI industry"
          ],
          [
           0,
           "Market research on AI product adoption"
          ],
          [
           0,
           "Economic forecasts for the AI industry"
          ],
          [
           0,
           "Analysis of consumer demand for AI-powered services"
          ],
          [
           0,
           "Market research reports on semiconductor industry trends"
          ],
          [
           0,
           "Analyst projections for AI hardware development"
          ],
          [
           0,
           "Technical papers on limitations of current and future chip technologies"
          ],
          [
           0,
           "Research papers on AI energy efficiency"
          ],
          [
           0,
           "Industry reports on advancements in AI hardware and software"
          ],
          [
           2,
           "Data on historical trends in energy consumption per AI task"
          ],
          [
           2,
           "Industry data on the ratio of training to inference compute usage"
          ],
          [
           1,
           "Analyst predictions on the future of AI deployment and application"
          ],
          [
           2,
           "Case studies of AI applications and their energy consumption"
          ],
          [
           2,
           "Government policies and investment plans related to renewable energy"
          ],
          [
           2,
           "Industry reports on energy storage technology development"
          ],
          [
           2,
           "Analysis of the feasibility of integrating renewable energy into large-scale data centers"
          ],
          [
           2,
           "Data on historical trends in energy consumption and electricity production"
          ],
          [
           1,
           "Expert opinions and predictions on the future of AI and energy"
          ],
          [
           2,
           "Analysis of the interplay between AI growth, energy consumption, and policy interventions"
          ],
          [
           2,
           "Energy projections and forecasts for the next decade"
          ],
          [
           2,
           "Studies on the energy requirements of AI training and inference"
          ],
          [
           2,
           "Reports on renewable energy production capacity and growth"
          ],
          [
           2,
           "Data on electricity consumption in major data centers"
          ],
          [
           0,
           "Research papers on energy-efficient AI hardware and software"
          ],
          [
           2,
           "Industry reports on energy storage technologies"
          ],
          [
           2,
           "Forecasts of future energy efficiency improvements"
          ],
          [
           2,
           "Research papers on data center design and optimization"
          ],
          [
           2,
           "Industry reports on data center construction and capacity"
          ],
          [
           2,
           "Case studies of large-scale data center projects"
          ],
          [
           2,
           "Investment trends in renewable energy"
          ],
          [
           2,
           "Government policies and incentives related to renewable energy"
          ],
          [
           0,
           "Reports on the economic impact of AI infrastructure"
          ],
          [
           0,
           "Research papers on AI algorithms and architectures"
          ],
          [
           0,
           "Industry reports on advancements in AI efficiency"
          ],
          [
           2,
           "Data on the computational requirements of different AI models"
          ],
          [
           0,
           "Published articles or reports from The Information"
          ],
          [
           0,
           "Press releases or announcements from OpenAI and Microsoft"
          ],
          [
           0,
           "Industry news and analysis websites covering AI and cloud computing"
          ],
          [
           0,
           "The Information article or report detailing the investment"
          ],
          [
           0,
           "Statements or announcements from OpenAI and Microsoft about their infrastructure plans"
          ],
          [
           2,
           "Industry analysis and reports on AI cluster capacity and energy consumption"
          ],
          [
           0,
           "The Information article or report detailing the investment"
          ],
          [
           0,
           "Statements or announcements from OpenAI and Microsoft about their investment plans"
          ],
          [
           0,
           "Industry analysis and reports on AI investment trends"
          ],
          [
           0,
           "Scientific publications and research papers on AI hardware and software energy efficiency"
          ],
          [
           2,
           "Industry reports and analysis on energy consumption trends in AI"
          ],
          [
           0,
           "Statements from companies developing AI hardware and software about their energy efficiency improvements"
          ],
          [
           2,
           "Statistics and reports on global renewable energy production and capacity"
          ],
          [
           2,
           "Data on energy consumption trends for AI data centers"
          ],
          [
           2,
           "Analysis on the feasibility of powering AI infrastructure with renewable energy"
          ],
          [
           0,
           "The Information report itself"
          ],
          [
           0,
           "Industry reports on AI infrastructure costs"
          ],
          [
           1,
           "Expert opinions and analyses from AI and cloud computing professionals"
          ],
          [
           0,
           "Official press releases from OpenAI and Microsoft"
          ],
          [
           0,
           "Public statements from executives of both companies"
          ],
          [
           0,
           "Official filings with regulatory bodies"
          ],
          [
           0,
           "Industry reports and analyses on AI cluster sizes and requirements"
          ],
          [
           1,
           "Expert opinions on the technical specifications of such large-scale AI projects"
          ],
          [
           0,
           "Comparative analysis of previous large-scale AI infrastructure projects"
          ],
          [
           0,
           "Financial reports and analyses of OpenAI and Microsoft"
          ],
          [
           1,
           "Expert opinions on the feasibility of implementing large-scale AI projects"
          ],
          [
           1,
           "News reports and analyses of the potential risks and challenges associated with the project"
          ],
          [
           0,
           "Industry reports on AI infrastructure costs (e.g., from companies like McKinsey, IDC, or Gartner)"
          ],
          [
           0,
           "Financial analyses of existing large-scale AI projects (e.g., Google's AI infrastructure investments)"
          ],
          [
           1,
           "Expert opinions and forecasts from industry leaders in AI and computing infrastructure"
          ],
          [
           0,
           "Market research reports from reputable industry analysts (e.g., IDC, Gartner, Forrester)"
          ],
          [
           0,
           "Financial projections from major technology companies involved in AI development"
          ],
          [
           0,
           "Industry publications and articles discussing AI investment trends and forecasts"
          ],
          [
           0,
           "Market analysis of AI accelerator manufacturers (e.g., Nvidia, AMD)"
          ],
          [
           0,
           "Financial reports and statements from companies selling AI accelerators"
          ],
          [
           0,
           "Industry research on the growing demand for AI accelerators"
          ],
          [
           0,
           "Market research reports on the AI industry"
          ],
          [
           0,
           "Financial forecasts and analyses from investment firms"
          ],
          [
           0,
           "Data on AI-related funding rounds and mergers and acquisitions"
          ],
          [
           0,
           "Industry reports on AI adoption trends"
          ],
          [
           1,
           "Surveys and interviews with industry leaders and technology experts"
          ],
          [
           0,
           "Data on AI software and hardware deployments in various sectors"
          ],
          [
           3,
           "Government policies and regulations related to AI"
          ],
          [
           3,
           "Industry analysis of the impact of policy on AI development"
          ],
          [
           1,
           "Legal opinions and commentaries on AI legislation"
          ],
          [
           0,
           "Economic forecasts and predictions from reputable institutions"
          ],
          [
           0,
           "Data on investment trends during past economic recessions"
          ],
          [
           0,
           "Analysis of the impact of economic conditions on technology investments"
          ],
          [
           3,
           "Research papers and publications on AI advancements"
          ],
          [
           0,
           "Industry reports on emerging AI technologies"
          ],
          [
           0,
           "News and articles covering AI breakthroughs and innovations"
          ],
          [
           0,
           "Investment industry reports and analyses"
          ],
          [
           1,
           "Surveys of investor sentiment towards AI"
          ],
          [
           0,
           "Data on venture capital funding in AI startups"
          ],
          [
           1,
           "Geopolitical risk assessments and analysis"
          ],
          [
           1,
           "News and analysis of global events and their impact on markets"
          ],
          [
           1,
           "Reports on international relations and security"
          ],
          [
           0,
           "Research on AI hardware and software costs"
          ],
          [
           0,
           "Industry analysis of AI development costs"
          ],
          [
           0,
           "Data on the price of AI hardware and cloud computing services"
          ],
          [
           0,
           "Financial reports and investment analyses of AI companies"
          ],
          [
           0,
           "Market research on the potential revenue streams for AI applications"
          ],
          [
           1,
           "Expert opinions on the economic feasibility of AI development"
          ],
          [
           3,
           "Research papers on the societal applications of AI"
          ],
          [
           2,
           "Case studies of AI projects addressing social challenges"
          ],
          [
           1,
           "Expert interviews on the societal implications of AI advancements"
          ],
          [
           0,
           "Market research on the adoption of AI-powered products and services"
          ],
          [
           1,
           "Surveys and studies on public perception of AI"
          ],
          [
           0,
           "Analysis of trends in AI usage across various sectors"
          ],
          [
           0,
           "Reports on AI investment and spending"
          ],
          [
           0,
           "Market research on AI adoption and revenue"
          ],
          [
           0,
           "Financial analyses of AI companies"
          ],
          [
           0,
           "Economic forecasts and projections"
          ],
          [
           0,
           "Market data on technological growth and investment"
          ],
          [
           0,
           "Reports on AI-related revenue and market size"
          ],
          [
           0,
           "Research papers on AI capabilities and limitations"
          ],
          [
           0,
           "Industry reports on AI applications and development"
          ],
          [
           1,
           "Expert opinions on the future of AI research"
          ],
          [
           1,
           "Public opinion surveys and polls"
          ],
          [
           1,
           "Research on AI ethics and social impact"
          ],
          [
           3,
           "Government regulations and policies related to AI"
          ],
          [
           0,
           "Research papers on AI advancements and roadblocks"
          ],
          [
           0,
           "Industry reports on AI development timelines and challenges"
          ],
          [
           1,
           "Expert opinions on the future of AI research"
          ],
          [
           0,
           "Market research reports on AI applications"
          ],
          [
           0,
           "Financial projections from leading AI companies"
          ],
          [
           1,
           "Industry expert opinions on AI market growth"
          ],
          [
           0,
           "Research on AI hardware and software development costs"
          ],
          [
           2,
           "Data on the cost of training and deploying AI models"
          ],
          [
           2,
           "Analysis of trends in AI infrastructure pricing"
          ],
          [
           2,
           "Case studies on the financial performance of AI-powered businesses"
          ],
          [
           0,
           "Analysis of existing AI revenue models and their effectiveness"
          ],
          [
           1,
           "Expert opinions on the potential for AI to generate significant revenue"
          ],
          [
           2,
           "Case studies on AI implementation challenges in different industries"
          ],
          [
           1,
           "Expert opinions on the difficulties of integrating AI into existing workflows"
          ],
          [
           3,
           "Research on the human and organizational factors affecting AI adoption"
          ],
          [
           0,
           "Government spending data on AI research and development"
          ],
          [
           0,
           "Private investment data in AI companies and projects"
          ],
          [
           0,
           "Analysis of the funding landscape for AI innovation"
          ],
          [
           0,
           "Microsoft Office subscriber data"
          ],
          [
           0,
           "Market research reports on AI adoption rates"
          ],
          [
           0,
           "Analysis of user reviews and feedback on AI-powered applications"
          ],
          [
           1,
           "Studies on the impact of AI on labor productivity"
          ],
          [
           0,
           "Data on AI investments by major technology companies"
          ],
          [
           2,
           "Analysis of case studies on successful AI implementations in various industries"
          ],
          [
           2,
           "Case studies of AI implementation in various organizations"
          ],
          [
           0,
           "Analysis of industry reports on AI adoption trends"
          ],
          [
           1,
           "Interviews with industry experts on the challenges and opportunities of AI integration"
          ],
          [
           0,
           "Analysis of market trends in the tech industry"
          ],
          [
           0,
           "Reports on mergers and acquisitions related to AI"
          ],
          [
           1,
           "Expert opinions on the future of the tech industry"
          ],
          [
           1,
           "Ethical guidelines and regulations for AI development"
          ],
          [
           1,
           "Public opinion surveys on AI ethics"
          ],
          [
           1,
           "Research on the social and economic impact of AI"
          ],
          [
           3,
           "Academic studies on AI productivity"
          ],
          [
           2,
           "Case studies of AI implementation in knowledge-intensive work"
          ],
          [
           0,
           "Reports from industry analysts on AI adoption and its impact on productivity"
          ],
          [
           0,
           "Market research on AI tool adoption"
          ],
          [
           1,
           "Surveys of knowledge workers about their use of AI tools"
          ],
          [
           0,
           "Analysis of factors influencing AI adoption in organizations"
          ],
          [
           0,
           "Research on the capabilities and limitations of current AI models"
          ],
          [
           1,
           "Expert opinions on the state of AI research and its ability to handle complex tasks"
          ],
          [
           2,
           "Benchmarking studies of AI performance on specific tasks"
          ],
          [
           0,
           "Analysis of AI implementation costs in various industries"
          ],
          [
           0,
           "Financial reports of companies using AI tools"
          ],
          [
           1,
           "Interviews with business leaders about their experiences with AI adoption"
          ],
          [
           3,
           "Research papers on AI productivity gains"
          ],
          [
           2,
           "Case studies of AI implementations in knowledge-based work"
          ],
          [
           0,
           "Industry reports on AI adoption and impact on productivity"
          ],
          [
           3,
           "Research papers on computational requirements for AGI"
          ],
          [
           1,
           "Expert opinions on the computational resources needed for AGI"
          ],
          [
           1,
           "Predictions and forecasts about the future of AI computing"
          ],
          [
           3,
           "Studies on human-AI collaboration and adoption"
          ],
          [
           1,
           "Surveys of knowledge workers on their attitudes towards AI tools"
          ],
          [
           0,
           "Analysis of barriers to AI adoption in the workplace"
          ],
          [
           2,
           "Cost analysis of large-scale data centers"
          ],
          [
           0,
           "Industry reports on the economics of AI development"
          ],
          [
           0,
           "Financial forecasts for AI investments and returns"
          ],
          [
           3,
           "Research papers on the timeline for AGI"
          ],
          [
           1,
           "Expert predictions about the future of AI"
          ],
          [
           0,
           "Historical trends in AI progress and development"
          ],
          [
           0,
           "Publications from leading AI research labs (e.g., OpenAI, DeepMind)"
          ],
          [
           0,
           "Academic papers on AI scaling laws and computational requirements"
          ],
          [
           1,
           "Expert opinions from prominent AI researchers"
          ],
          [
           2,
           "Benchmarking results for AI models on reasoning, problem-solving, and critical thinking tasks"
          ],
          [
           0,
           "Research papers on AI progress in cognitive abilities"
          ],
          [
           0,
           "Reports from organizations evaluating AI capabilities"
          ],
          [
           0,
           "Recent research papers on AI algorithms and architectures"
          ],
          [
           1,
           "Expert interviews and predictions from leading AI researchers"
          ],
          [
           0,
           "Reports from AI conferences and workshops"
          ],
          [
           0,
           "Published research papers on AI progress in agentic tasks"
          ],
          [
           0,
           "Technical reports from AI research labs"
          ],
          [
           2,
           "Benchmark evaluations of AI models on tasks requiring long-term planning"
          ],
          [
           1,
           "Expert opinions and predictions from leading AI researchers"
          ],
          [
           2,
           "Analysis of AI model performance on various benchmark tasks"
          ],
          [
           0,
           "Reports on emerging trends in AI research"
          ],
          [
           1,
           "Expert opinions on the limitations of current AI approaches"
          ],
          [
           0,
           "Research on AI's ability to learn and reason from real-world experiences"
          ],
          [
           0,
           "Research papers on AI memory and context modeling"
          ],
          [
           0,
           "Technical reports on advancements in AI memory architecture"
          ],
          [
           2,
           "Benchmark evaluations of AI models on tasks requiring long-term context understanding"
          ],
          [
           0,
           "Research papers on reinforcement learning and symbolic reasoning in AI"
          ],
          [
           0,
           "Reports on advancements in AI planning algorithms"
          ],
          [
           2,
           "Benchmark evaluations of AI models on tasks requiring reasoning and planning"
          ],
          [
           0,
           "Research papers on AI advancements"
          ],
          [
           0,
           "Publications from leading AI labs (e.g., OpenAI, DeepMind)"
          ],
          [
           3,
           "Conference proceedings on AI research"
          ],
          [
           1,
           "Expert opinions and predictions from leading AI researchers"
          ],
          [
           0,
           "Research papers on AI limitations"
          ],
          [
           0,
           "Critical analyses of current AI models"
          ],
          [
           1,
           "Expert opinions on the challenges of achieving human-level intelligence in AI"
          ],
          [
           0,
           "Research on large language models and their training data"
          ],
          [
           0,
           "Publications on advancements in AI hardware and infrastructure"
          ],
          [
           1,
           "Expert opinions on the impact of computational power on AI progress"
          ],
          [
           0,
           "Research papers on novel AI algorithms and techniques"
          ],
          [
           0,
           "Publications on advancements in AI reasoning and planning"
          ],
          [
           1,
           "Expert opinions on the future of AI algorithms"
          ],
          [
           1,
           "Ethical guidelines for AI development"
          ],
          [
           1,
           "Research on the societal impact of AI"
          ],
          [
           1,
           "Public discourse on the risks and benefits of advanced AI"
          ],
          [
           0,
           "Research papers on AI capabilities"
          ],
          [
           0,
           "Technical reports on AI system development"
          ],
          [
           2,
           "Case studies of AI system deployments in real-world environments"
          ],
          [
           0,
           "Analysis of AI system performance metrics related to agentic behavior"
          ],
          [
           0,
           "Industry reports on AI adoption rates and integration challenges"
          ],
          [
           2,
           "Case studies of AI system implementations in various industries"
          ],
          [
           0,
           "Analysis of cost and time required for AI system integration"
          ],
          [
           1,
           "Surveys and interviews with industry experts on AI integration challenges"
          ],
          [
           0,
           "Research papers on AI development trends"
          ],
          [
           0,
           "Technical reports on specific AI applications"
          ],
          [
           1,
           "Interviews with AI researchers and developers"
          ],
          [
           0,
           "Analysis of funding and investment patterns in AI research"
          ],
          [
           0,
           "Research papers on natural language processing and social intelligence in AI"
          ],
          [
           0,
           "Technical reports on AI models designed for social interaction"
          ],
          [
           2,
           "Case studies of AI systems used in social contexts"
          ],
          [
           0,
           "Analysis of AI system performance in social interaction tasks"
          ],
          [
           2,
           "Case studies of AI system implementation in various industries"
          ],
          [
           0,
           "Research papers on the integration of AI systems into existing workflows"
          ],
          [
           0,
           "Industry reports on the adoption of AI technologies"
          ],
          [
           0,
           "Research papers on the development and capabilities of advanced AI systems"
          ],
          [
           0,
           "Studies on the adaptability and learning capabilities of AI systems"
          ],
          [
           1,
           "Expert opinions on the potential for advanced AI systems to revolutionize workflows"
          ],
          [
           1,
           "Surveys and studies on organizational awareness of AI technologies"
          ],
          [
           2,
           "Case studies of successful AI implementations showcasing organizational knowledge and skills"
          ],
          [
           1,
           "Expert opinions on the role of education and training in AI adoption"
          ],
          [
           0,
           "Research papers on the technical complexities of AI model development and deployment"
          ],
          [
           0,
           "Industry reports on the skills gap in AI implementation"
          ],
          [
           1,
           "Expert opinions on the need for specialized expertise in AI integration"
          ],
          [
           1,
           "Economic studies on the impact of AI on productivity and efficiency"
          ],
          [
           2,
           "Case studies showcasing successful AI implementations with measurable benefits"
          ],
          [
           1,
           "Expert opinions on the long-term potential of AI for organizational growth"
          ],
          [
           2,
           "Case studies on AI system integration in different industries"
          ],
          [
           0,
           "Research papers on AI system design and usability"
          ],
          [
           1,
           "Expert opinions from AI researchers and practitioners on integration challenges"
          ],
          [
           3,
           "Economic analyses of AI adoption in various sectors"
          ],
          [
           0,
           "Market research reports on the potential impact of advanced AI on industries"
          ],
          [
           1,
           "Studies on the relationship between AI capabilities and productivity gains"
          ],
          [
           0,
           "Cost estimations for developing and deploying advanced AI systems"
          ],
          [
           0,
           "Studies on the relationship between AI capabilities and development costs"
          ],
          [
           0,
           "Analysis of funding trends in AI research and development"
          ],
          [
           1,
           "Studies on the impact of early AI adoption on subsequent technological advancements"
          ],
          [
           2,
           "Case studies of companies that have transitioned from simpler AI to more complex systems"
          ],
          [
           1,
           "Expert opinions on the role of intermediate AI in facilitating the adoption of advanced AI"
          ],
          [
           0,
           "Technical papers on the limitations of current AI models"
          ],
          [
           3,
           "Research on the challenges of developing true AGI systems"
          ],
          [
           1,
           "Expert opinions on the timeframe for achieving significant advancements in AI capabilities"
          ],
          [
           2,
           "Case studies of GPT-4 implementation in software engineering"
          ],
          [
           0,
           "Research papers on AI-assisted software development"
          ],
          [
           0,
           "Reports from software engineering companies using GPT-4"
          ],
          [
           3,
           "Studies on the adoption of AI in software engineering"
          ],
          [
           0,
           "Industry reports on the challenges of AI integration"
          ],
          [
           1,
           "Interviews with software engineers using AI tools"
          ],
          [
           3,
           "Research papers on AI development timelines"
          ],
          [
           1,
           "Predictions from AI experts and researchers"
          ],
          [
           0,
           "Industry reports on the pace of AI progress"
          ],
          [
           3,
           "Economic analyses of AI adoption in software engineering"
          ],
          [
           3,
           "Studies on the return on investment of AI tools"
          ],
          [
           3,
           "Data on productivity gains from AI-assisted software development"
          ],
          [
           0,
           "Research papers on AI-assisted software development"
          ],
          [
           2,
           "Case studies of AI tool implementation in software engineering"
          ],
          [
           1,
           "Expert opinions and predictions from leading software engineering researchers"
          ],
          [
           0,
           "Industry reports on AI adoption in software development"
          ],
          [
           1,
           "Interviews with software engineers using AI tools"
          ],
          [
           0,
           "Analysis of the costs associated with implementing and maintaining AI-powered solutions"
          ],
          [
           1,
           "Predictions and roadmaps from leading AI research labs"
          ],
          [
           1,
           "Expert opinions on the future of AI in software engineering"
          ],
          [
           0,
           "Analysis of current trends in AI development and its potential applications"
          ],
          [
           0,
           "Research papers on AI communication and collaboration"
          ],
          [
           2,
           "Technical evaluations of AI models in collaborative tasks"
          ],
          [
           1,
           "Expert opinions on the current state of AI in software engineering"
          ],
          [
           0,
           "Research on AI reasoning and planning"
          ],
          [
           0,
           "Technical papers on AI error correction"
          ],
          [
           1,
           "Expert analysis on the challenges of building general-purpose AI agents"
          ],
          [
           2,
           "Analysis of AI training datasets"
          ],
          [
           0,
           "Research on data requirements for AI model development"
          ],
          [
           1,
           "Expert opinions on the availability of training data for complex cognitive tasks"
          ],
          [
           0,
           "Trend analysis in AI research"
          ],
          [
           1,
           "Predictions from leading AI experts"
          ],
          [
           0,
           "Technical evaluations of the current capabilities of AI models"
          ],
          [
           1,
           "Research on the social and economic impact of AI"
          ],
          [
           1,
           "Ethical guidelines for AI development and deployment"
          ],
          [
           1,
           "Expert opinions on the social implications of AI in the workplace"
          ],
          [
           0,
           "Research papers on chain-of-thought reasoning in AI"
          ],
          [
           2,
           "Benchmarking studies comparing AI models on chain-of-thought tasks"
          ],
          [
           2,
           "Analysis of GPT-4 and similar models' performance on tasks requiring complex reasoning"
          ],
          [
           0,
           "Research on AI training data for social interaction and collaboration"
          ],
          [
           0,
           "Datasets and studies focused on training AI for teamwork and collaborative tasks"
          ],
          [
           0,
           "Analysis of the types of data available for training AI in complex social scenarios"
          ],
          [
           0,
           "Research papers on AI social intelligence and understanding of human interaction"
          ],
          [
           0,
           "Studies evaluating AI models' ability to interpret and respond to social cues and context"
          ],
          [
           0,
           "Analysis of the challenges faced by AI in understanding and navigating complex social dynamics"
          ],
          [
           0,
           "Research on the rate of progress in AI model development"
          ],
          [
           0,
           "Analysis of trends in AI research and development related to chain-of-thought reasoning"
          ],
          [
           1,
           "Predictions and projections from experts on the timeline for significant advancements in AI capabilities"
          ],
          [
           0,
           "Published research papers on AI models' chain-of-thought capabilities"
          ],
          [
           2,
           "Benchmarks and evaluations of AI models' performance on reasoning tasks"
          ],
          [
           0,
           "Technical reports and documentation from AI research labs"
          ],
          [
           0,
           "Research on AI models' performance in complex, open-ended tasks"
          ],
          [
           0,
           "Analyses of AI models' capabilities in handling contextual information and interacting with users"
          ],
          [
           0,
           "Studies on the application of AI models in real-world scenarios like collaboration or complex problem-solving"
          ],
          [
           0,
           "Research on the relationship between AI model size, test time compute, and chain-of-thought performance"
          ],
          [
           0,
           "Studies on the impact of compute resources on AI models' reasoning capabilities"
          ],
          [
           2,
           "Analysis of AI model performance with varying test time compute limits"
          ],
          [
           0,
           "Research papers on AI model performance with varying test-time compute"
          ],
          [
           2,
           "Benchmarking studies evaluating chain-of-thought reasoning capabilities across different computational budgets"
          ],
          [
           0,
           "Technical reports and presentations from leading AI labs focusing on compute-intensive AI research"
          ],
          [
           0,
           "Research papers on training AI models for specific tasks like error correction or planning"
          ],
          [
           2,
           "Datasets and benchmarks for evaluating these tasks"
          ],
          [
           0,
           "Technical reports on advances in AI training methodologies, particularly for reasoning tasks"
          ],
          [
           0,
           "Research papers on novel AI architectures, particularly those focusing on reasoning and cognitive abilities"
          ],
          [
           0,
           "Publications on advancements in deep learning architectures"
          ],
          [
           0,
           "Technical reports from AI research groups developing new architectures"
          ],
          [
           0,
           "Philosophical works on the nature of cognition and reasoning"
          ],
          [
           0,
           "Cognitive science research on human reasoning processes"
          ],
          [
           0,
           "AI ethics papers discussing the limitations of current AI models in replicating human intelligence"
          ],
          [
           0,
           "Research papers on advancements in AI model architecture and training techniques"
          ],
          [
           0,
           "Technical reports from AI research labs focusing on computational scaling and performance improvements"
          ],
          [
           0,
           "Conference proceedings and presentations on AI model efficiency and reasoning capabilities"
          ],
          [
           0,
           "Research on memory management and computational efficiency in large language models"
          ],
          [
           0,
           "Technical discussions on the limitations of current AI model architectures in handling extended compute"
          ],
          [
           0,
           "Papers focusing on algorithmic challenges and bottlenecks in scaling AI models"
          ],
          [
           2,
           "Case studies of AI models utilizing increased test time compute to solve complex problems"
          ],
          [
           2,
           "Research papers demonstrating the impact of test time compute on specific AI tasks requiring extended reasoning"
          ],
          [
           2,
           "Benchmarking results showcasing the performance improvements achieved by models with increased test time compute"
          ],
          [
           0,
           "Research papers on AI model training for error correction and planning"
          ],
          [
           0,
           "Publications on advancements in in-context learning for AI models"
          ],
          [
           0,
           "Studies on the effectiveness of reinforcement learning techniques for training AI models in error correction and planning"
          ],
          [
           0,
           "Academic papers on the development of AI models with System 2 capabilities"
          ],
          [
           0,
           "Publications on the advancement of AI models in reasoning, planning, and complex problem-solving"
          ],
          [
           0,
           "Research reports on the evolution of AI model architectures and training methods related to System 2 thinking"
          ],
          [
           0,
           "Analysis of historical trends in AI model advancements"
          ],
          [
           1,
           "Forecasts from experts on the timeline of AI breakthroughs"
          ],
          [
           0,
           "Research on the projected growth of computational power and its impact on AI development"
          ],
          [
           0,
           "Research papers on error correction and planning in AI models"
          ],
          [
           2,
           "Data on performance improvements in AI models over time"
          ],
          [
           0,
           "Reports on the development of new AI techniques for error correction and planning"
          ],
          [
           2,
           "Benchmarking results for AI models on complex tasks and reasoning abilities"
          ],
          [
           0,
           "Research papers on advances in AI capabilities for multi-step problem-solving"
          ],
          [
           0,
           "Industry reports on the development and deployment of AI systems for complex tasks"
          ],
          [
           0,
           "Research papers on the limitations of current AI architectures and algorithms"
          ],
          [
           1,
           "Experts' opinions on the challenges of unlocking test-time compute overhang"
          ],
          [
           0,
           "Studies on the efficiency and effectiveness of various AI training techniques"
          ],
          [
           0,
           "Research papers on the effectiveness of synthetic data and RL for training AI models"
          ],
          [
           0,
           "Case studies of AI models that have successfully learned complex skills through self-play"
          ],
          [
           0,
           "Reports on the development of new RL techniques for AI training"
          ],
          [
           0,
           "Research papers on the limitations of current pre-training techniques"
          ],
          [
           2,
           "Analyses of the knowledge and reasoning capabilities of pre-trained language models"
          ],
          [
           1,
           "Expert opinions on the role of pre-training in AI development and the limitations of current approaches"
          ],
          [
           0,
           "Scientific papers on AI capabilities and cognitive processes"
          ],
          [
           0,
           "Research on AI system performance in tasks requiring System 2 thinking"
          ],
          [
           0,
           "Publications on advancements in AI unhobbling techniques"
          ],
          [
           2,
           "Data sets used for training AI models"
          ],
          [
           0,
           "Research on the impact of data size on AI model performance"
          ],
          [
           0,
           "Trends in data generation and collection"
          ],
          [
           0,
           "Research papers on AI algorithms and training methods"
          ],
          [
           0,
           "Studies on the development of AI systems with System 2 cognitive capabilities"
          ],
          [
           0,
           "Publications on advancements in AI research that focus on cognitive process improvement"
          ],
          [
           0,
           "Research on AI capabilities and their limitations"
          ],
          [
           3,
           "Publications on the challenges faced in developing advanced AI systems"
          ],
          [
           1,
           "Expert opinions and predictions on the future of AI research"
          ],
          [
           3,
           "Peer-reviewed publications in AI and machine learning"
          ],
          [
           0,
           "Research papers on AI planning and reasoning"
          ],
          [
           0,
           "Conference proceedings on AI advancements"
          ],
          [
           0,
           "Technical reports from leading AI research labs"
          ],
          [
           2,
           "Evaluations of AI models on tasks requiring reasoning and adaptation"
          ],
          [
           2,
           "Case studies of AI model limitations in real-world applications"
          ],
          [
           0,
           "Technical reports and discussions on AI model shortcomings"
          ],
          [
           0,
           "Research papers on AI model scaling and optimization"
          ],
          [
           0,
           "Technical reports on AI system development strategies"
          ],
          [
           0,
           "Discussions on the limitations of current AI models in terms of agentified behavior"
          ],
          [
           0,
           "Research papers on AI error correction techniques"
          ],
          [
           0,
           "Studies on AI planning algorithms and implementations"
          ],
          [
           0,
           "Technical reports on advancements in AI model reasoning and problem-solving"
          ],
          [
           0,
           "Research papers on pre-training and representation learning in AI"
          ],
          [
           0,
           "Studies comparing the performance of AI models on tasks requiring System 2 thinking, such as complex problem solving and decision-making."
          ],
          [
           0,
           "Articles and discussions on the cognitive capabilities of AI models in relation to human intelligence."
          ],
          [
           0,
           "Research papers on reinforcement learning (RL) in AI, especially those focused on self-play and reward-based learning."
          ],
          [
           0,
           "Articles and discussions on the role of RL in developing AI agents with advanced cognitive capabilities."
          ],
          [
           0,
           "Studies comparing the performance of AI models trained with RL vs. those trained solely on pre-training data."
          ],
          [
           0,
           "Research papers on AI training methodologies and techniques."
          ],
          [
           0,
           "Studies exploring the effectiveness of specialized datasets and algorithms in developing specific cognitive abilities in AI models."
          ],
          [
           0,
           "Discussions and analyses of the training requirements for achieving true AI intelligence, particularly in relation to System 2 thinking."
          ],
          [
           1,
           "Expert opinions and forecasts on the future of AI development."
          ],
          [
           0,
           "Research papers exploring the technical challenges and limitations of current AI models."
          ],
          [
           1,
           "Articles and discussions on the long-term roadmap for AI development, including the estimated timeframes for achieving specific milestones."
          ],
          [
           0,
           "Research papers on AI transfer learning and generalization"
          ],
          [
           0,
           "Studies on AI performance in novel tasks beyond their training data"
          ],
          [
           0,
           "Examples of AI systems exhibiting emergent abilities not explicitly programmed"
          ],
          [
           0,
           "Research on active learning in AI, particularly focusing on self-supervised learning and reinforcement learning."
          ],
          [
           0,
           "Studies on AI systems that incorporate elements of social interaction or collaboration."
          ],
          [
           0,
           "Papers exploring the convergence of AI and cognitive science to develop more human-like learning models."
          ],
          [
           0,
           "Research on interpretable AI and explainable machine learning"
          ],
          [
           0,
           "Studies on AI systems that can provide justifications for their decisions."
          ],
          [
           0,
           "Work on developing AI models capable of introspection and self-awareness."
          ],
          [
           0,
           "Research papers and publications on AI model performance in problem-solving, error correction, and planning tasks"
          ],
          [
           2,
           "Technical reports and benchmarks evaluating the performance of AI models on tasks requiring longer chains of reasoning"
          ],
          [
           0,
           "Analyses of the effectiveness of in-context learning techniques for improving model reasoning abilities"
          ],
          [
           0,
           "Research papers and industry reports on AI model development trends, focusing on scaling strategies"
          ],
          [
           0,
           "Analysis of investment and research activities in the AI field to identify priorities and emerging trends"
          ],
          [
           0,
           "Discussions and debates among AI researchers regarding the relative importance of scaling versus incorporating new learning mechanisms"
          ],
          [
           0,
           "Research papers and reports showcasing AI models trained on specific tasks with limited pre-training data"
          ],
          [
           0,
           "Studies comparing the performance of AI models trained with and without extensive pre-training"
          ],
          [
           0,
           "Analyses of the effectiveness of techniques like few-shot learning and in-context learning for reducing reliance on pre-training data"
          ],
          [
           0,
           "Research papers and publications focusing on the application of reinforcement learning and self-play in AI model development"
          ],
          [
           0,
           "Analysis of advancements in RL algorithms and their application to AI tasks"
          ],
          [
           0,
           "Reports and discussions on the potential of RL and self-play for enhancing AI model autonomy and learning capabilities"
          ],
          [
           0,
           "Research papers on reinforcement learning in AI"
          ],
          [
           0,
           "Technical reports on AI applications in real-world settings"
          ],
          [
           0,
           "Reviews of recent advancements in reinforcement learning algorithms"
          ],
          [
           0,
           "Research papers comparing in-context learning and pre-training methods"
          ],
          [
           0,
           "Studies on the efficiency and effectiveness of in-context learning in various AI tasks"
          ],
          [
           0,
           "Empirical evaluations of AI models trained using different learning approaches"
          ],
          [
           0,
           "Research papers on large language models and their development"
          ],
          [
           0,
           "Technical reports on AI advancements in natural language processing and task-oriented dialogue"
          ],
          [
           0,
           "Reviews of recent progress in AI capabilities driven by scaling, reinforcement learning, and in-context learning"
          ],
          [
           0,
           "Research papers on the limitations of current AI models in real-world scenarios"
          ],
          [
           0,
           "Studies on the challenges of developing AI agents capable of long-term, collaborative interactions"
          ],
          [
           1,
           "Expert opinions and discussions on the future of AI and the challenges of achieving truly agentic systems"
          ],
          [
           0,
           "Research papers on robotic learning and control"
          ],
          [
           0,
           "Publications on RLHF applications in robotics"
          ],
          [
           3,
           "Industry reports on advancements in robotics with RLHF techniques"
          ],
          [
           0,
           "Research papers on pre-training in robotics"
          ],
          [
           0,
           "Comparisons of pre-training effectiveness in language models and robots"
          ],
          [
           1,
           "Expert opinions on the challenges of pre-training in robotics"
          ],
          [
           0,
           "Comparative analysis of RLHF applications in language models and robotics"
          ],
          [
           0,
           "Discussions on the challenges of transferring RLHF techniques to robotics"
          ],
          [
           0,
           "Research papers on the differences between language model and robotic data"
          ],
          [
           0,
           "Research papers on advancements in robotic manipulation and navigation"
          ],
          [
           0,
           "Publications on alternative methods for developing robotic intelligence"
          ],
          [
           0,
           "Industry reports on the progress of robotics without RLHF"
          ],
          [
           0,
           "Academic papers on AI self-learning and independent learning"
          ],
          [
           0,
           "Research reports on advancements in AI models' ability to learn without extensive pre-training"
          ],
          [
           0,
           "Studies comparing the performance of pre-trained AI models with models that learn independently"
          ],
          [
           0,
           "Studies on the amount of pre-training data required for AI models to achieve optimal performance"
          ],
          [
           0,
           "Research papers analyzing the impact of pre-training data on AI model accuracy and generalizability"
          ],
          [
           0,
           "Comparisons of AI model performance with varying amounts of pre-training data"
          ],
          [
           0,
           "Research papers on self-learning and independent learning in robotics"
          ],
          [
           0,
           "Reports on advancements in robotic systems' ability to learn autonomously"
          ],
          [
           0,
           "Studies comparing the self-learning capabilities of AI models and robotic systems"
          ],
          [
           0,
           "Studies on the rate of progress in self-learning and independent learning in AI and robotics"
          ],
          [
           0,
           "Research reports comparing the timelines for advancements in self-learning capabilities in both fields"
          ],
          [
           1,
           "Expert opinions on the future trajectory of AI and robotics in terms of self-learning"
          ],
          [
           0,
           "Studies on the cost and time required for pre-training AI models"
          ],
          [
           0,
           "Research papers analyzing the trade-offs between pre-training and other learning methods"
          ],
          [
           1,
           "Expert opinions on the cost-effectiveness of pre-training in AI development"
          ],
          [
           0,
           "Research papers on AI learning and reasoning"
          ],
          [
           0,
           "Studies comparing pre-training and reinforcement learning"
          ],
          [
           0,
           "Articles discussing the development of general intelligence in AI"
          ],
          [
           0,
           "Research papers on reinforcement learning and self-play in AI"
          ],
          [
           0,
           "Studies investigating the use of RL in developing general-purpose AI systems"
          ],
          [
           0,
           "Articles discussing the application of RL in various AI domains"
          ],
          [
           0,
           "Studies on the impact of training data on AI model performance"
          ],
          [
           0,
           "Research papers analyzing the limitations of pre-training with large datasets"
          ],
          [
           0,
           "Articles discussing the challenges of achieving robust generalization in AI"
          ],
          [
           0,
           "Research papers on RL and self-play in AI, particularly those focusing on the effectiveness of these methods in enabling active learning"
          ],
          [
           0,
           "Analysis of the architecture and training methods of current AI models, such as GPT-4, to identify the extent of active learning mechanisms incorporated"
          ],
          [
           1,
           "Expert opinions and commentaries from leading AI researchers on the progress and challenges in achieving active learning in AI"
          ],
          [
           0,
           "Research trends in AI, with a focus on the growing adoption of RL and self-play techniques"
          ],
          [
           0,
           "Reports and analyses of AI advancements in areas such as reinforcement learning, autonomous decision-making, and problem-solving"
          ],
          [
           0,
           "Publications from leading AI labs and research institutions showcasing the development and application of active learning methods"
          ],
          [
           0,
           "Benchmark studies comparing the performance of AI models trained through RL and self-play with those trained solely on pre-training data"
          ],
          [
           0,
           "Analyses of AI systems in real-world applications, showcasing the impact of active learning methods on their adaptability and problem-solving skills"
          ],
          [
           0,
           "Case studies demonstrating the success of RL and self-play in enabling AI to learn new tasks and adapt to changing environments"
          ],
          [
           0,
           "Research studies investigating the relationship between RL, self-play, and the development of higher-level cognitive abilities in AI"
          ],
          [
           0,
           "Analysis of the performance of AI models on tasks requiring complex reasoning and problem-solving, focusing on the contribution of active learning methods"
          ],
          [
           0,
           "Expert opinions and commentaries from researchers exploring the potential of RL and self-play in enabling AI to engage in more human-like cognitive processes"
          ],
          [
           0,
           "Empirical studies comparing the performance of AI systems trained using RL, self-play, and pre-training methods on specific tasks."
          ],
          [
           0,
           "Research papers analyzing the sample efficiency of various AI training methods."
          ],
          [
           2,
           "Data sets and benchmarks for evaluating the performance of AI systems in various domains."
          ],
          [
           0,
           "Research papers evaluating the generalization performance of AI systems trained using various methods."
          ],
          [
           2,
           "Benchmarks and tests designed to assess AI system generalization capabilities across different tasks and domains."
          ],
          [
           0,
           "Studies exploring the impact of RL and self-play on AI system's adaptability to novel scenarios."
          ],
          [
           0,
           "Forecasts and predictions for the growth of AI compute power in the coming years."
          ],
          [
           0,
           "Research papers and industry reports on the development and progress of RL and self-play techniques."
          ],
          [
           0,
           "Analyses of the computational requirements and scaling potential of RL and self-play algorithms."
          ],
          [
           0,
           "Research papers exploring the development and application of RL and self-play algorithms for specific cognitive tasks."
          ],
          [
           0,
           "Studies analyzing the cognitive capabilities of AI systems trained using RL and self-play compared to those trained solely on pre-training data."
          ],
          [
           2,
           "Benchmarks and evaluations specifically designed to measure AI system performance in cognitive domains."
          ],
          [
           0,
           "Empirical studies comparing the performance of AI models trained with and without RL on tasks requiring complex reasoning and adaptation"
          ],
          [
           0,
           "Research papers on the application of RL to various AI tasks, including problem-solving and decision-making"
          ],
          [
           2,
           "Case studies of successful RL implementations in AI systems"
          ],
          [
           0,
           "Research papers discussing the challenges and limitations of RL in AI development"
          ],
          [
           0,
           "Industry reports on the adoption and implementation of RL in AI applications"
          ],
          [
           1,
           "Expert opinions from researchers and practitioners in the field of RL"
          ],
          [
           1,
           "Predictions and forecasts for the future of AI, focusing on the development of increasingly complex AI models"
          ],
          [
           0,
           "Research on the application of RL to cutting-edge AI tasks, such as natural language processing, image recognition, and robotics"
          ],
          [
           1,
           "Industry reports and expert opinions on the future of AI and the role of RL"
          ],
          [
           0,
           "Research papers on AI model scaling and compute requirements"
          ],
          [
           2,
           "Data on compute power advancements in the AI industry"
          ],
          [
           0,
           "Reports from AI research institutions on trends in model scaling"
          ],
          [
           1,
           "Predictions on compute power advancements by technology analysts and researchers"
          ],
          [
           0,
           "Analysis of current trends in AI model performance and compute requirements"
          ],
          [
           1,
           "Expert opinions on the potential impact of future compute power on AI capabilities"
          ],
          [
           1,
           "Economic studies on the impact of automation on labor markets"
          ],
          [
           1,
           "Social science research on the societal implications of AI advancements"
          ],
          [
           1,
           "Geopolitical analyses on the potential influence of AI on international relations"
          ],
          [
           0,
           "Research papers on in-context learning and self-improvement in AI models"
          ],
          [
           0,
           "Analysis of the current state of AI algorithms and their limitations"
          ],
          [
           1,
           "Expert opinions on the future development of AI algorithms"
          ],
          [
           0,
           "Research papers on AI advancements"
          ],
          [
           2,
           "Data on compute power used in training AI models"
          ],
          [
           2,
           "Analysis of AI benchmarks over time"
          ],
          [
           1,
           "Interviews with AI researchers and experts"
          ],
          [
           0,
           "Reports from AI research institutions"
          ],
          [
           3,
           "Conferences and workshops on AI forecasting"
          ],
          [
           2,
           "Data on the growth of compute power used in AI"
          ],
          [
           0,
           "Reports on the scaling of AI models by companies and research labs"
          ],
          [
           0,
           "Analysis of the relationship between compute power and AI performance"
          ],
          [
           0,
           "Research papers on new AI algorithms"
          ],
          [
           3,
           "Conferences and workshops on AI algorithms"
          ],
          [
           0,
           "News and articles on breakthroughs in AI research"
          ],
          [
           0,
           "Reports on AI compute and hardware advancements (e.g., from research firms, tech companies)"
          ],
          [
           0,
           "Research papers on scaling laws in AI"
          ],
          [
           0,
           "Public statements from AI companies about their compute investments and model development plans"
          ],
          [
           2,
           "Benchmarks and evaluations of AI models in code generation, mathematical problem-solving, and general intelligence"
          ],
          [
           0,
           "Research papers analyzing the progress of AI capabilities in specific domains"
          ],
          [
           1,
           "Expert opinions and predictions on the evolution of AI capabilities"
          ],
          [
           2,
           "Research on the potential of AI for automation in different industries"
          ],
          [
           1,
           "Reports on the economic and social impact of AI automation"
          ],
          [
           1,
           "Studies on the future of work in the context of AI advancements"
          ],
          [
           1,
           "Economic forecasts and analyses on the impact of AI on labor markets"
          ],
          [
           1,
           "Reports on the future of work and automation"
          ],
          [
           1,
           "Studies on the socio-economic implications of AI advancements"
          ],
          [
           1,
           "Ethical guidelines and frameworks for AI development"
          ],
          [
           3,
           "Reports and discussions on AI regulation and governance"
          ],
          [
           1,
           "Research on the social and ethical implications of advanced AI"
          ],
          [
           0,
           "Research papers on AI hardware and software advancements"
          ],
          [
           0,
           "Industry reports on AI development trends"
          ],
          [
           1,
           "Expert opinions on the future of AI development"
          ],
          [
           0,
           "Industry reports on AI adoption in various sectors"
          ],
          [
           0,
           "Analysis of existing AI-powered workforce solutions"
          ],
          [
           1,
           "Economic projections on the impact of automation on employment"
          ],
          [
           0,
           "Research on AI capabilities in creative and analytical tasks"
          ],
          [
           1,
           "Expert opinions on the timeline for advanced AI development"
          ],
          [
           0,
           "Studies on the current capabilities of AI in various fields"
          ],
          [
           1,
           "Economic studies on the impact of AI automation on productivity and employment"
          ],
          [
           1,
           "Social research on the societal implications of AI automation"
          ],
          [
           1,
           "Policy discussions on the ethical and regulatory frameworks for AI development"
          ],
          [
           1,
           "Public opinion surveys on AI adoption and its societal implications"
          ],
          [
           1,
           "Analysis of social movements and resistance to technological change"
          ],
          [
           1,
           "Studies on the impact of automation on social inequality and employment"
          ],
          [
           1,
           "Public opinion polls on AI awareness in 2022 and 2023"
          ],
          [
           0,
           "Google Trends data for search terms related to AI, ChatGPT, and GPT-4"
          ],
          [
           0,
           "Media coverage of AI and its impact on society in 2023"
          ],
          [
           0,
           "Venture capital reports and funding data for AI companies in 2023"
          ],
          [
           0,
           "Annual reports and financial statements of major tech companies involved in AI"
          ],
          [
           0,
           "Market research reports on AI investments and funding trends"
          ],
          [
           3,
           "Academic papers and conference presentations in AI in 2022 and 2023"
          ],
          [
           1,
           "Interviews with AI researchers and developers on their experiences and perceptions of AI in 2023"
          ],
          [
           0,
           "Industry reports on AI development and advancements in 2023"
          ],
          [
           0,
           "Media archives and databases (e.g., LexisNexis, Factiva) for tracking media coverage of AI."
          ],
          [
           0,
           "Social media analytics platforms (e.g., Google Trends, Twitter API) for analyzing trends in online discussions about AI."
          ],
          [
           1,
           "Public opinion surveys and polls conducted before and after the release of ChatGPT and GPT-4."
          ],
          [
           0,
           "Financial databases (e.g., Crunchbase, PitchBook) for tracking funding rounds and investment in AI companies."
          ],
          [
           0,
           "Stock market data for analyzing the performance of AI-related companies."
          ],
          [
           0,
           "Data from funding agencies (e.g., National Science Foundation) on research grants allocated to AI projects."
          ],
          [
           0,
           "Market research reports on the adoption of AI technologies in various sectors."
          ],
          [
           2,
           "Case studies and reports on the successful implementation of AI-powered applications."
          ],
          [
           3,
           "Industry publications and conferences related to AI development and applications."
          ],
          [
           0,
           "Data from universities and research institutions on the number of AI students and graduates."
          ],
          [
           0,
           "Industry reports on the hiring trends in the AI sector."
          ],
          [
           3,
           "Membership data from professional organizations related to AI (e.g., Association for the Advancement of Artificial Intelligence)."
          ],
          [
           0,
           "Research papers on AI advancements"
          ],
          [
           0,
           "Industry reports on AI development trends"
          ],
          [
           2,
           "Publicly available data on AI model releases and performance improvements"
          ],
          [
           0,
           "Industry reports on AI adoption"
          ],
          [
           0,
           "Market analysis of AI applications"
          ],
          [
           1,
           "Surveys on AI implementation in different sectors"
          ],
          [
           0,
           "Patent databases"
          ],
          [
           0,
           "Reports on AI patents"
          ],
          [
           0,
           "Analysis of trends in AI patent filings"
          ],
          [
           0,
           "Venture capital reports on AI investments"
          ],
          [
           0,
           "Government funding data for AI research"
          ],
          [
           0,
           "Financial news and analysis on AI-related companies"
          ],
          [
           2,
           "Benchmarks and evaluations of AI model performance"
          ],
          [
           0,
           "Research papers on AI model development"
          ],
          [
           2,
           "Publicly available data on AI model capabilities"
          ],
          [
           1,
           "Public opinion polls on AI"
          ],
          [
           0,
           "Media coverage of AI"
          ],
          [
           1,
           "Social media discussions on AI"
          ],
          [
           0,
           "Business plans and financial statements of GPT wrapper companies"
          ],
          [
           0,
           "Market research reports on the AI software market"
          ],
          [
           1,
           "Expert interviews with AI industry analysts"
          ],
          [
           0,
           "News articles and research reports on AI development trends"
          ],
          [
           0,
           "Industry data on the adoption of AI models and solutions"
          ],
          [
           1,
           "Expert opinions from AI researchers and entrepreneurs"
          ],
          [
           0,
           "Financial data on AI investments"
          ],
          [
           0,
           "Industry reports on AI research and development"
          ],
          [
           1,
           "Expert interviews with AI investors and researchers"
          ],
          [
           3,
           "Publications on AI research and development"
          ],
          [
           2,
           "Data on the release dates and capabilities of new AI models"
          ],
          [
           1,
           "Expert opinions on the future of AI development"
          ],
          [
           0,
           "Research on the cost and complexity of AI model integration"
          ],
          [
           0,
           "Industry reports on the adoption of AI models"
          ],
          [
           2,
           "Case studies on the integration of AI models in various sectors"
          ],
          [
           0,
           "Research on general-purpose AI models"
          ],
          [
           0,
           "Industry trends in the use of AI models for different tasks"
          ],
          [
           1,
           "Expert opinions on the future of general-purpose AI"
          ],
          [
           0,
           "Market research reports on the AI industry"
          ],
          [
           0,
           "Analysis of the factors driving AI market growth"
          ],
          [
           1,
           "Expert opinions on the future of the AI market"
          ],
          [
           3,
           "Research papers and publications on AI progress and breakthroughs"
          ],
          [
           0,
           "Industry reports and analyses on the AI market and future trends"
          ],
          [
           1,
           "Expert opinions and predictions from leading AI researchers"
          ],
          [
           2,
           "Research on AI applications in specific industries and tasks"
          ],
          [
           1,
           "Expert opinions on the potential of AI to replace human workers"
          ],
          [
           1,
           "Studies on the impact of AI on the future of work"
          ],
          [
           0,
           "Financial reports and analyses on AI funding and investments"
          ],
          [
           3,
           "Government policies and initiatives related to AI development"
          ],
          [
           0,
           "Industry forecasts on the growth of the AI market"
          ],
          [
           0,
           "Industry trends and analysis on AI development and deployment"
          ],
          [
           1,
           "Interviews with AI industry leaders and stakeholders"
          ],
          [
           0,
           "Articles and reports on the evolution of AI strategies"
          ],
          [
           0,
           "Research papers and publications on AI development"
          ],
          [
           0,
           "Reports from AI research institutions"
          ],
          [
           1,
           "Industry forecasts on AI advancement timelines"
          ],
          [
           1,
           "Economic studies on the impact of AI on employment"
          ],
          [
           0,
           "Industry reports on AI adoption trends"
          ],
          [
           2,
           "Case studies of AI implementation in various sectors"
          ],
          [
           3,
           "Government documents and reports on national security strategies"
          ],
          [
           3,
           "News articles and research on AI applications in defense"
          ],
          [
           3,
           "Statements and publications from national security officials"
          ],
          [
           3,
           "Reports and analyses on international AI governance"
          ],
          [
           3,
           "Statements from international organizations on AI cooperation"
          ],
          [
           3,
           "News articles and research on geopolitical tensions related to AI"
          ],
          [
           3,
           "Research papers and publications on AI in creative industries"
          ],
          [
           0,
           "Industry reports on AI applications in creative fields"
          ],
          [
           2,
           "Case studies of AI-generated content in creative industries"
          ],
          [
           0,
           "Government budgets and spending data"
          ],
          [
           3,
           "Reports from national security agencies"
          ],
          [
           3,
           "News articles and research publications on AI in national security"
          ],
          [
           1,
           "Studies on the relationship between AI and geopolitical influence"
          ],
          [
           3,
           "Analysis of national AI strategies and policies"
          ],
          [
           1,
           "Data on international relations and military power"
          ],
          [
           1,
           "Publications and interviews with leading AI researchers"
          ],
          [
           3,
           "Expert panels and conferences on AI advancement"
          ],
          [
           0,
           "Research papers on AI timelines and capabilities"
          ],
          [
           3,
           "News articles and reports on AI collaboration"
          ],
          [
           3,
           "Government documents on AI initiatives"
          ],
          [
           3,
           "Analysis of research partnerships between universities and security agencies"
          ],
          [
           0,
           "Patent databases and analysis"
          ],
          [
           3,
           "Government reports on AI inventions"
          ],
          [
           3,
           "Publications on AI technology trends in defense"
          ],
          [
           0,
           "Research papers on AI progress"
          ],
          [
           1,
           "Expert opinions from AI researchers"
          ],
          [
           0,
           "Industry reports on AI hardware development"
          ],
          [
           0,
           "Research papers on AI automation"
          ],
          [
           2,
           "Case studies of AI-driven research projects"
          ],
          [
           1,
           "Expert opinions from AI researchers on automation potential"
          ],
          [
           3,
           "Publications from national security institutes"
          ],
          [
           1,
           "Expert interviews with national security analysts"
          ],
          [
           1,
           "International relations research on the impact of technological advancements"
          ],
          [
           3,
           "Research papers on AI ethics"
          ],
          [
           1,
           "Policy analysis of AI regulations"
          ],
          [
           1,
           "Expert opinions on potential roadblocks to AI progress"
          ],
          [
           3,
           "Analysis of US-China relations related to AI"
          ],
          [
           0,
           "Reports on international AI competition"
          ],
          [
           1,
           "Expert opinions on geopolitical implications of AI development"
          ],
          [
           3,
           "Peer-reviewed publications on AI advancements"
          ],
          [
           0,
           "Research papers and reports on algorithmic progress"
          ],
          [
           1,
           "Expert opinions from leading AI researchers"
          ],
          [
           0,
           "Market research reports on GPU trends"
          ],
          [
           0,
           "Data on GPU production and availability"
          ],
          [
           1,
           "Expert opinions on future trends in computing resources"
          ],
          [
           3,
           "Peer-reviewed publications on AI automation"
          ],
          [
           0,
           "Research papers on AI capabilities in specific domains"
          ],
          [
           1,
           "Expert opinions on the potential of AI to automate complex tasks"
          ],
          [
           3,
           "Reports on AI ethics and regulations"
          ],
          [
           1,
           "Expert opinions on challenges in AI development"
          ],
          [
           0,
           "Research on technical limitations of current AI systems"
          ],
          [
           0,
           "Research papers on specialized AI systems"
          ],
          [
           1,
           "Expert opinions on the future of AI development"
          ],
          [
           0,
           "Analysis of the current landscape of AI applications"
          ],
          [
           3,
           "Publications in top AI research journals and conferences (e.g., NeurIPS, ICML, ICLR)"
          ],
          [
           2,
           "Benchmark datasets and performance metrics for various AI tasks (e.g., ImageNet, GLUE)"
          ],
          [
           0,
           "Reports and analyses from reputable research organizations specializing in AI (e.g., OpenAI, Google AI, Stanford AI Lab)"
          ],
          [
           0,
           "Studies on the computational power required for AI development"
          ],
          [
           0,
           "Analyses of the cost and availability of advanced hardware like GPUs"
          ],
          [
           1,
           "Expert opinions from prominent AI researchers on the potential for future breakthroughs and limitations"
          ],
          [
           0,
           "Research papers and articles focusing on specific AI subfields (e.g., NLP, CV, robotics)"
          ],
          [
           2,
           "Data on the performance of AI systems in various domains (e.g., language understanding, image recognition, task automation)"
          ],
          [
           3,
           "Peer-reviewed research papers on robotics and AI"
          ],
          [
           3,
           "Reports from robotics research institutions"
          ],
          [
           1,
           "Expert opinions and analyses on the future of robotics"
          ],
          [
           2,
           "Data on the performance of AI algorithms over time"
          ],
          [
           0,
           "Analysis of trends in AI research and development"
          ],
          [
           1,
           "Expert opinions on the future of AI progress"
          ],
          [
           0,
           "Market reports on GPU and computing infrastructure"
          ],
          [
           1,
           "Forecasts of future trends in computational power"
          ],
          [
           2,
           "Analysis of the cost and availability of computing resources"
          ],
          [
           0,
           "Research papers on AI advancements"
          ],
          [
           0,
           "Industry reports on AI progress"
          ],
          [
           2,
           "Data on the performance of AI models over time"
          ],
          [
           1,
           "Interviews with robotics experts"
          ],
          [
           0,
           "Research papers on robotics challenges"
          ],
          [
           3,
           "Industry reports on robotics advancements"
          ],
          [
           1,
           "Historical accounts of military conflicts"
          ],
          [
           1,
           "Studies on the relationship between technology and political power"
          ],
          [
           1,
           "Analyses of historical technological innovations and their impact on global power dynamics"
          ],
          [
           3,
           "Research papers on AGI"
          ],
          [
           0,
           "Reports from AI research institutions"
          ],
          [
           1,
           "Expert opinions on the timeline for achieving AGI"
          ],
          [
           0,
           "Research papers on AI learning and adaptation"
          ],
          [
           2,
           "Data on the performance of AI systems across different tasks"
          ],
          [
           1,
           "Expert opinions on the current limitations of AI adaptability"
          ],
          [
           1,
           "Historical studies on technological advancements"
          ],
          [
           1,
           "Analysis of past technological revolutions"
          ],
          [
           1,
           "Expert opinions on historical technological trends"
          ],
          [
           3,
           "Simulation studies on AI-driven warfare scenarios"
          ],
          [
           1,
           "Expert analysis on the ethical implications of autonomous weapons"
          ],
          [
           1,
           "Research on the potential risks and limitations of AI in military applications"
          ],
          [
           1,
           "Reports from international organizations on global security"
          ],
          [
           1,
           "Analysis of international relations and geopolitical trends"
          ],
          [
           1,
           "Expert opinions on the impact of emerging technologies on international security"
          ],
          [
           3,
           "Reports on the effectiveness of current submarine detection systems"
          ],
          [
           3,
           "Scientific publications on advanced sensor technologies"
          ],
          [
           3,
           "Data on the performance of existing anti-submarine warfare capabilities"
          ],
          [
           3,
           "Reports on the CCP's AI research and development strategies"
          ],
          [
           3,
           "Publications on Chinese AI policy and investments"
          ],
          [
           3,
           "Analysis of the CCP's national strategic goals"
          ],
          [
           1,
           "Historical accounts of major wars and conflicts"
          ],
          [
           1,
           "Studies on the impact of technology on warfare"
          ],
          [
           1,
           "Analysis of geopolitical power dynamics in different eras"
          ],
          [
           1,
           "Ethical and legal discussions on superintelligence"
          ],
          [
           1,
           "Reports on international treaties and regulations concerning weapons development"
          ],
          [
           1,
           "Analysis of potential risks and consequences of weaponized superintelligence"
          ],
          [
           0,
           "Reports from AI research organizations"
          ],
          [
           1,
           "Expert opinions on AI timelines"
          ],
          [
           0,
           "Analysis of current AI capabilities and progress"
          ],
          [
           3,
           "Public statements by CCP officials on AI strategy"
          ],
          [
           3,
           "Analysis of CCP's AI research and development initiatives"
          ],
          [
           3,
           "Reports on the CCP's economic and technological goals"
          ],
          [
           0,
           "Data on international AI research collaborations"
          ],
          [
           3,
           "Reports on scientific exchanges and partnerships between the US and China"
          ],
          [
           3,
           "Statements from AI researchers and organizations regarding international cooperation"
          ],
          [
           0,
           "Government budget documents related to AI research"
          ],
          [
           3,
           "Statements from US officials on national AI strategy"
          ],
          [
           3,
           "Reports on AI security measures and counterintelligence efforts"
          ],
          [
           3,
           "Reports on the CCP's investments in robotics and automation"
          ],
          [
           3,
           "Analysis of CCP's industrial policies and plans"
          ],
          [
           1,
           "Expert opinions on the CCP's economic goals for AI development"
          ],
          [
           0,
           "Research papers on AI self-improvement"
          ],
          [
           0,
           "Publications on deep learning advancements"
          ],
          [
           0,
           "Reports from AI research institutions on progress in AI self-learning"
          ],
          [
           0,
           "Research papers on AI in robotics"
          ],
          [
           2,
           "Case studies of AI applications in manufacturing and automation"
          ],
          [
           0,
           "Reports from companies developing AI-powered robots"
          ],
          [
           0,
           "Data on the growth of computational power in AI"
          ],
          [
           0,
           "Research papers on advancements in AI algorithms"
          ],
          [
           0,
           "Reports on AI investment and industry trends"
          ],
          [
           0,
           "Research on AI transfer learning and multi-task learning"
          ],
          [
           0,
           "Studies on AI's ability to generalize knowledge across different domains"
          ],
          [
           2,
           "Analysis of AI systems' performance in various tasks"
          ],
          [
           3,
           "Research papers on AI ethics and social impact"
          ],
          [
           3,
           "Reports from AI ethics committees and organizations"
          ],
          [
           1,
           "Discussions and publications on responsible AI development"
          ],
          [
           0,
           "Research papers on AI-driven robotics"
          ],
          [
           3,
           "Industry reports on robotics advancements"
          ],
          [
           1,
           "Expert interviews and opinions on the pace of robotics development"
          ],
          [
           3,
           "Analysis of robotics industry progress"
          ],
          [
           0,
           "Comparative studies of AI-driven robotics vs. traditional robotics"
          ],
          [
           1,
           "Expert opinions on the challenges and limitations of AI-driven robotics"
          ],
          [
           1,
           "Economic studies on the impact of AI-driven robotics on employment"
          ],
          [
           3,
           "Industry reports on job creation and displacement in robotics-related fields"
          ],
          [
           3,
           "Government policies and initiatives related to AI and automation"
          ],
          [
           0,
           "Market analysis of robotics applications across industries"
          ],
          [
           3,
           "Research on the adoption of robotics in different sectors"
          ],
          [
           1,
           "Expert opinions on the limitations of current AI-driven robotics"
          ],
          [
           0,
           "Analysis of funding sources for AI-driven robotics research"
          ],
          [
           3,
           "Industry reports on venture capital investment in robotics"
          ],
          [
           0,
           "Government research grants and funding programs"
          ],
          [
           0,
           "Research papers on robotics and AI integration"
          ],
          [
           3,
           "Industry reports on automation trends"
          ],
          [
           3,
           "Patents and technical specifications of advanced robotics systems"
          ],
          [
           0,
           "Labor market analysis reports"
          ],
          [
           1,
           "Economic studies on automation impacts"
          ],
          [
           1,
           "Interviews with industry experts on workforce transitions"
          ],
          [
           3,
           "Educational policy reports"
          ],
          [
           0,
           "Training programs for emerging technologies"
          ],
          [
           1,
           "Research on skills gaps in the future workforce"
          ],
          [
           2,
           "Research on AI applications in specific industries"
          ],
          [
           2,
           "Case studies of successful AI-driven robotics implementations"
          ],
          [
           1,
           "Expert opinions on the future impact of AI on different sectors"
          ],
          [
           3,
           "Cybersecurity research on AI systems"
          ],
          [
           1,
           "Ethical guidelines and frameworks for AI development"
          ],
          [
           1,
           "Risk assessments of AI-driven robotics deployments"
          ],
          [
           0,
           "Reports and analyses on the semiconductor industry workforce"
          ],
          [
           0,
           "Studies on the effectiveness of AI-driven training programs in technical fields"
          ],
          [
           3,
           "Data on the demographics and skills of the current semiconductor workforce"
          ],
          [
           0,
           "Expert opinions from semiconductor industry professionals"
          ],
          [
           0,
           "Research on the transferability of AI-driven training to real-world technical applications"
          ],
          [
           2,
           "Case studies of AI-driven upskilling in other complex manufacturing industries"
          ],
          [
           0,
           "Industry reports and analyses on semiconductor manufacturing trends"
          ],
          [
           3,
           "News articles and publications on semiconductor industry automation and robotics investments"
          ],
          [
           3,
           "Data on the adoption of automation technologies in US semiconductor fabs"
          ],
          [
           3,
           "News articles and reports on semiconductor industry workforce development programs"
          ],
          [
           3,
           "Information on industry partnerships with educational institutions"
          ],
          [
           3,
           "Data on the effectiveness of existing workforce development initiatives in the semiconductor industry"
          ],
          [
           0,
           "Research papers on AI-powered training programs"
          ],
          [
           0,
           "Reports from companies using AI for workforce development"
          ],
          [
           1,
           "Expert opinions from AI researchers and educators"
          ],
          [
           1,
           "Economic studies on workforce training costs"
          ],
          [
           1,
           "Reports on the economic impact of automation"
          ],
          [
           0,
           "Data on the cost of implementing AI solutions in manufacturing"
          ],
          [
           3,
           "Robotics industry reports and forecasts"
          ],
          [
           0,
           "Research papers on the development of advanced robots for manufacturing"
          ],
          [
           1,
           "Expert opinions on the future of automation in manufacturing"
          ],
          [
           0,
           "Financial reports from major corporations in the technology sector"
          ],
          [
           0,
           "Data on corporate debt outstanding from financial institutions and regulatory bodies"
          ],
          [
           0,
           "Market analysis reports on the corporate debt market and trends in specific sectors"
          ],
          [
           0,
           "Research reports on AI investment and funding trends"
          ],
          [
           2,
           "Financial statements of AI companies and major tech corporations"
          ],
          [
           0,
           "Data on venture capital funding and other forms of financing for AI startups"
          ],
          [
           0,
           "Economic indicators such as interest rates and credit spreads"
          ],
          [
           0,
           "Reports from financial institutions and economists on macroeconomic conditions and credit markets"
          ],
          [
           0,
           "Data on corporate debt issuance and market trends"
          ],
          [
           0,
           "Reports and publications from leading AI research institutions and think tanks"
          ],
          [
           3,
           "Government documents and statements on AI strategy and national security"
          ],
          [
           3,
           "News articles and analyses on the development and deployment of advanced AI technologies"
          ],
          [
           1,
           "Expert interviews and opinions on the timeline for the development of superintelligence"
          ],
          [
           0,
           "Analysis of government budgets and resource allocations for AI development and research"
          ],
          [
           3,
           "Public statements and speeches from top national security officials in the US and CCP"
          ],
          [
           1,
           "Expert opinions on the current understanding of AI within the national security establishment"
          ],
          [
           0,
           "Data on private investment in AI research and development"
          ],
          [
           3,
           "Analysis of government policies and regulations related to AI development"
          ],
          [
           1,
           "Interviews with industry leaders and government officials on their perspectives on AI advancements"
          ],
          [
           1,
           "Predictions and forecasts from leading AI researchers on the timeline for achieving superintelligence"
          ],
          [
           0,
           "Analysis of the current state of AI research and development"
          ],
          [
           1,
           "Expert opinions on the limitations and challenges in achieving superintelligence"
          ],
          [
           3,
           "Research papers on AI advancements and AGI"
          ],
          [
           1,
           "Expert opinions from leading AI researchers"
          ],
          [
           0,
           "Reports on the progress of AI development from reputable organizations like OpenAI, Google AI, and the Allen Institute for AI"
          ],
          [
           3,
           "Government reports on AI strategy and investment"
          ],
          [
           3,
           "Public statements from officials involved in national security and AI"
          ],
          [
           3,
           "News articles and analyses on AI initiatives and policies in the United States and China"
          ],
          [
           1,
           "Studies on the potential risks of advanced AI"
          ],
          [
           1,
           "Expert analyses on the societal and ethical implications of superintelligence"
          ],
          [
           3,
           "Reports on AI safety and governance from international organizations"
          ],
          [
           0,
           "Research papers and reports from leading AI laboratories"
          ],
          [
           0,
           "Industry analysis on AI advancements and future projections"
          ],
          [
           1,
           "Expert opinions from prominent AI researchers"
          ],
          [
           1,
           "Economic studies on the impact of AI on employment"
          ],
          [
           1,
           "Social impact assessments of AI technologies"
          ],
          [
           3,
           "Government reports on AI policy and regulation"
          ],
          [
           1,
           "Ethical discussions on AI development and its potential risks"
          ],
          [
           3,
           "Research on AI safety and control mechanisms"
          ],
          [
           1,
           "Philosophical and scientific analysis of the implications of superintelligence"
          ],
          [
           3,
           "Government reports on national AI strategies"
          ],
          [
           0,
           "Analysis of defense budgets and research initiatives"
          ],
          [
           3,
           "Statements from national security officials on AI"
          ]
         ],
         "hovertemplate": "UMAP Dimension 1=%{x}<br>UMAP Dimension 2=%{y}<br>Topic=%{marker.color}<br>Document=%{customdata[1]}<extra></extra>",
         "legendgroup": "",
         "marker": {
          "color": [
           0,
           0,
           2,
           0,
           0,
           0,
           2,
           2,
           2,
           0,
           0,
           1,
           0,
           2,
           2,
           0,
           0,
           0,
           2,
           2,
           2,
           0,
           0,
           0,
           0,
           0,
           0,
           0,
           0,
           2,
           2,
           1,
           2,
           2,
           2,
           2,
           2,
           1,
           2,
           2,
           2,
           2,
           2,
           0,
           2,
           2,
           2,
           2,
           2,
           2,
           2,
           0,
           0,
           0,
           2,
           0,
           0,
           0,
           0,
           0,
           2,
           0,
           0,
           0,
           0,
           2,
           0,
           2,
           2,
           2,
           0,
           0,
           1,
           0,
           0,
           0,
           0,
           1,
           0,
           0,
           1,
           1,
           0,
           0,
           1,
           0,
           0,
           0,
           0,
           0,
           0,
           0,
           0,
           0,
           0,
           1,
           0,
           3,
           3,
           1,
           0,
           0,
           0,
           3,
           0,
           0,
           0,
           1,
           0,
           1,
           1,
           1,
           0,
           0,
           0,
           0,
           0,
           1,
           3,
           2,
           1,
           0,
           1,
           0,
           0,
           0,
           0,
           0,
           0,
           0,
           0,
           0,
           1,
           1,
           1,
           3,
           0,
           0,
           1,
           0,
           0,
           1,
           0,
           2,
           2,
           2,
           0,
           1,
           2,
           1,
           3,
           0,
           0,
           0,
           0,
           0,
           0,
           1,
           0,
           2,
           2,
           0,
           1,
           0,
           0,
           1,
           1,
           1,
           1,
           3,
           2,
           0,
           0,
           1,
           0,
           0,
           1,
           2,
           0,
           0,
           1,
           3,
           2,
           0,
           3,
           1,
           1,
           3,
           1,
           0,
           2,
           0,
           0,
           3,
           1,
           0,
           0,
           0,
           1,
           2,
           0,
           0,
           0,
           1,
           0,
           0,
           0,
           2,
           1,
           2,
           0,
           1,
           0,
           0,
           0,
           2,
           0,
           0,
           2,
           0,
           0,
           3,
           1,
           0,
           0,
           1,
           0,
           0,
           1,
           0,
           0,
           1,
           1,
           1,
           1,
           0,
           0,
           2,
           0,
           0,
           2,
           0,
           1,
           0,
           0,
           1,
           0,
           0,
           0,
           2,
           0,
           2,
           0,
           0,
           0,
           0,
           1,
           1,
           2,
           1,
           0,
           0,
           1,
           1,
           2,
           1,
           2,
           0,
           1,
           3,
           0,
           1,
           0,
           0,
           0,
           1,
           2,
           1,
           0,
           3,
           1,
           2,
           0,
           0,
           3,
           0,
           1,
           3,
           1,
           0,
           3,
           3,
           3,
           0,
           2,
           1,
           0,
           1,
           0,
           1,
           1,
           0,
           0,
           2,
           1,
           0,
           0,
           1,
           2,
           0,
           1,
           0,
           1,
           0,
           1,
           1,
           1,
           0,
           2,
           2,
           0,
           0,
           0,
           0,
           0,
           0,
           0,
           0,
           1,
           0,
           2,
           0,
           0,
           0,
           0,
           0,
           0,
           2,
           0,
           2,
           0,
           0,
           2,
           0,
           0,
           0,
           0,
           0,
           0,
           0,
           0,
           0,
           0,
           0,
           0,
           0,
           2,
           2,
           2,
           0,
           0,
           0,
           0,
           0,
           0,
           0,
           1,
           0,
           0,
           2,
           0,
           2,
           0,
           0,
           0,
           1,
           0,
           0,
           0,
           0,
           0,
           2,
           1,
           0,
           0,
           0,
           2,
           0,
           0,
           0,
           0,
           0,
           0,
           3,
           1,
           3,
           0,
           0,
           0,
           2,
           2,
           0,
           0,
           0,
           0,
           0,
           0,
           0,
           0,
           0,
           0,
           0,
           0,
           0,
           0,
           0,
           0,
           1,
           0,
           1,
           0,
           0,
           0,
           0,
           0,
           0,
           0,
           0,
           0,
           0,
           2,
           0,
           0,
           0,
           0,
           0,
           0,
           0,
           0,
           0,
           0,
           0,
           0,
           0,
           0,
           0,
           0,
           0,
           0,
           0,
           0,
           0,
           1,
           0,
           0,
           3,
           0,
           0,
           1,
           0,
           0,
           0,
           0,
           0,
           0,
           0,
           0,
           0,
           0,
           0,
           0,
           0,
           0,
           0,
           0,
           0,
           1,
           0,
           0,
           1,
           0,
           0,
           0,
           0,
           0,
           0,
           0,
           0,
           0,
           0,
           0,
           1,
           0,
           0,
           0,
           0,
           0,
           0,
           0,
           0,
           0,
           0,
           0,
           2,
           0,
           2,
           0,
           0,
           0,
           0,
           0,
           0,
           2,
           0,
           0,
           2,
           0,
           0,
           1,
           1,
           0,
           1,
           0,
           2,
           0,
           1,
           0,
           1,
           1,
           1,
           1,
           0,
           0,
           1,
           0,
           2,
           2,
           1,
           0,
           3,
           2,
           0,
           0,
           0,
           3,
           0,
           0,
           0,
           0,
           2,
           0,
           1,
           2,
           1,
           1,
           1,
           1,
           1,
           1,
           3,
           1,
           0,
           0,
           1,
           0,
           0,
           1,
           0,
           1,
           0,
           1,
           1,
           1,
           1,
           1,
           1,
           1,
           0,
           0,
           0,
           0,
           0,
           3,
           1,
           0,
           0,
           0,
           1,
           0,
           0,
           0,
           0,
           2,
           3,
           0,
           0,
           3,
           0,
           0,
           2,
           0,
           0,
           1,
           0,
           0,
           0,
           0,
           0,
           0,
           2,
           0,
           2,
           1,
           0,
           1,
           0,
           0,
           1,
           0,
           0,
           1,
           0,
           0,
           1,
           3,
           2,
           1,
           0,
           0,
           2,
           0,
           0,
           1,
           0,
           0,
           1,
           3,
           0,
           1,
           2,
           1,
           1,
           0,
           3,
           0,
           0,
           1,
           0,
           0,
           0,
           1,
           1,
           0,
           2,
           3,
           3,
           3,
           3,
           3,
           3,
           3,
           0,
           2,
           0,
           3,
           3,
           1,
           3,
           1,
           1,
           3,
           0,
           3,
           3,
           3,
           0,
           3,
           3,
           0,
           1,
           0,
           0,
           2,
           1,
           3,
           1,
           1,
           3,
           1,
           1,
           3,
           0,
           1,
           3,
           0,
           1,
           0,
           0,
           1,
           3,
           0,
           1,
           3,
           1,
           0,
           0,
           1,
           0,
           3,
           2,
           0,
           0,
           0,
           1,
           0,
           2,
           3,
           3,
           1,
           2,
           0,
           1,
           0,
           1,
           2,
           0,
           0,
           2,
           1,
           0,
           3,
           1,
           1,
           1,
           3,
           0,
           1,
           0,
           2,
           1,
           1,
           1,
           1,
           3,
           1,
           1,
           1,
           1,
           1,
           3,
           3,
           3,
           3,
           3,
           3,
           1,
           1,
           1,
           1,
           1,
           1,
           0,
           1,
           0,
           3,
           3,
           3,
           0,
           3,
           3,
           0,
           3,
           3,
           3,
           3,
           1,
           0,
           0,
           0,
           0,
           2,
           0,
           0,
           0,
           0,
           0,
           0,
           2,
           3,
           3,
           1,
           0,
           3,
           1,
           3,
           0,
           1,
           1,
           3,
           3,
           0,
           3,
           1,
           0,
           3,
           0,
           0,
           3,
           3,
           0,
           1,
           1,
           3,
           0,
           1,
           2,
           2,
           1,
           3,
           1,
           1,
           0,
           0,
           3,
           0,
           0,
           2,
           0,
           3,
           3,
           3,
           3,
           3,
           0,
           0,
           1,
           1,
           1,
           0,
           3,
           0,
           1,
           0,
           0,
           0,
           0,
           2,
           0,
           0,
           0,
           0,
           0,
           3,
           3,
           1,
           0,
           3,
           1,
           0,
           3,
           1,
           1,
           0,
           1,
           3,
           1,
           0,
           3,
           3,
           3,
           1,
           1,
           3,
           0,
           0,
           1,
           1,
           1,
           3,
           1,
           3,
           1,
           3,
           0,
           3
          ],
          "coloraxis": "coloraxis",
          "symbol": "circle"
         },
         "mode": "markers",
         "name": "",
         "orientation": "v",
         "showlegend": false,
         "type": "scatter",
         "x": [
          -2.0153136253356934,
          10.37391185760498,
          -5.3744730949401855,
          -6.103422164916992,
          -5.566051959991455,
          -5.205845832824707,
          -10.286076545715332,
          -10.769440650939941,
          -10.70676040649414,
          10.802680015563965,
          -1.124328374862671,
          13.64831256866455,
          -1.5490024089813232,
          -5.788527488708496,
          -5.358617305755615,
          10.876959800720215,
          13.525405883789062,
          4.169029235839844,
          -10.305631637573242,
          -10.706865310668945,
          -10.292060852050781,
          7.159607410430908,
          0.4290218949317932,
          0.5178084969520569,
          9.848529815673828,
          -6.517560958862305,
          -1.7819815874099731,
          10.584047317504883,
          -1.3806042671203613,
          -8.17739200592041,
          -5.644964218139648,
          13.6568603515625,
          3.00471568107605,
          -10.290072441101074,
          -6.725491523742676,
          -10.79638671875,
          -8.36672592163086,
          13.63249683380127,
          -8.149026870727539,
          -6.784467697143555,
          -5.839292526245117,
          -10.288225173950195,
          -10.419601440429688,
          7.9527058601379395,
          -6.519116401672363,
          -6.296084403991699,
          -10.771866798400879,
          -7.170576572418213,
          -10.799389839172363,
          -10.292451858520508,
          -10.522005081176758,
          -3.9937262535095215,
          10.0673189163208,
          5.61518669128418,
          -5.640059947967529,
          -6.4663801193237305,
          10.19560432434082,
          7.8166399002075195,
          -6.645743370056152,
          8.553694725036621,
          -5.437542915344238,
          -6.7008538246154785,
          9.841156005859375,
          0.835524320602417,
          10.776630401611328,
          -5.832997798919678,
          0.8234644532203674,
          -10.281149864196777,
          -8.114208221435547,
          -10.273649215698242,
          -6.473700523376465,
          -6.6392412185668945,
          13.850305557250977,
          10.531668663024902,
          15.540642738342285,
          -5.786410808563232,
          -6.703690528869629,
          14.110459327697754,
          -5.7867231369018555,
          -6.008285999298096,
          14.185194969177246,
          13.160567283630371,
          -6.51568078994751,
          -6.523129463195801,
          14.019224166870117,
          -1.520100474357605,
          -6.659883975982666,
          0.70699542760849,
          -6.4704484939575195,
          -5.770139217376709,
          -2.5893537998199463,
          -1.6854227781295776,
          -6.416723251342773,
          -3.9051802158355713,
          7.358811855316162,
          13.669708251953125,
          0.21444086730480194,
          13.758007049560547,
          14.381643295288086,
          13.028306007385254,
          -1.6940743923187256,
          0.8428554534912109,
          -1.0483639240264893,
          16.852155685424805,
          7.280185699462891,
          16.44133758544922,
          0.40358445048332214,
          14.669639587402344,
          -2.8143796920776367,
          13.124037742614746,
          13.03151798248291,
          13.104037284851074,
          -5.790613174438477,
          -6.333417892456055,
          -5.417689323425293,
          -6.553988933563232,
          0.311068058013916,
          14.144566535949707,
          18.047903060913086,
          3.033123016357422,
          13.943071365356445,
          -1.1684210300445557,
          14.641773223876953,
          0.5038495659828186,
          -1.3416002988815308,
          -1.7618495225906372,
          -6.537547588348389,
          -1.5426979064941406,
          -1.034497857093811,
          0.8081099390983582,
          5.721908092498779,
          7.444948196411133,
          13.698042869567871,
          14.265503883361816,
          13.040264129638672,
          13.957728385925293,
          15.752120018005371,
          7.414947032928467,
          13.656758308410645,
          -1.4741795063018799,
          -6.708065986633301,
          13.754164695739746,
          -5.806228160858154,
          -5.568619728088379,
          -5.37509298324585,
          2.961521863937378,
          0.6550779938697815,
          13.80377197265625,
          3.009679079055786,
          14.150233268737793,
          18.11772918701172,
          4.148655891418457,
          -2.6705517768859863,
          -1.0172231197357178,
          -6.2595319747924805,
          5.751447677612305,
          -1.61614191532135,
          13.057318687438965,
          -6.543770790100098,
          3.5436105728149414,
          3.7108776569366455,
          -1.4470199346542358,
          13.68834114074707,
          4.9524736404418945,
          0.48371952772140503,
          13.735215187072754,
          13.057275772094727,
          14.592361450195312,
          13.599576950073242,
          13.628244400024414,
          3.7157092094421387,
          14.682539939880371,
          7.960309982299805,
          14.659430503845215,
          13.494789123535156,
          -2.0978221893310547,
          14.227561950683594,
          -6.9428558349609375,
          -5.565413951873779,
          -5.725106239318848,
          13.66016960144043,
          18.12267303466797,
          3.131808280944824,
          16.369108200073242,
          17.630878448486328,
          14.254547119140625,
          13.658952713012695,
          15.528478622436523,
          14.690917015075684,
          12.880146980285645,
          -10.763126373291016,
          -0.9900770783424377,
          -5.270761013031006,
          17.91942596435547,
          13.614588737487793,
          -5.83350133895874,
          15.71791934967041,
          0.8009215593338013,
          14.043639183044434,
          -7.084690570831299,
          12.255411148071289,
          8.720003128051758,
          9.903888702392578,
          14.131006240844727,
          15.658961296081543,
          15.195601463317871,
          8.677764892578125,
          -6.209381103515625,
          14.142635345458984,
          -7.236318111419678,
          11.282147407531738,
          14.652137756347656,
          -5.789677619934082,
          6.229610443115234,
          4.950353622436523,
          -6.825709342956543,
          -1.732442855834961,
          9.804227828979492,
          -7.253580093383789,
          15.844915390014648,
          15.50844955444336,
          17.5266170501709,
          13.98770809173584,
          -1.6972719430923462,
          -6.632551193237305,
          14.6326322555542,
          -2.620593309402466,
          12.027566909790039,
          14.07629680633545,
          10.722026824951172,
          10.659140586853027,
          13.816807746887207,
          13.060254096984863,
          13.780268669128418,
          13.486584663391113,
          11.780730247497559,
          5.661889553070068,
          3.2837250232696533,
          -5.498510360717773,
          9.853386878967285,
          3.7896084785461426,
          -5.508343696594238,
          13.751520156860352,
          14.653804779052734,
          4.549625873565674,
          13.687112808227539,
          -0.7778764963150024,
          12.995140075683594,
          -0.9948025941848755,
          2.950914144515991,
          -5.416194438934326,
          3.7559561729431152,
          15.38991928100586,
          4.093157768249512,
          15.745611190795898,
          -5.876029014587402,
          14.124451637268066,
          14.635878562927246,
          3.750633716583252,
          14.02734375,
          9.139965057373047,
          9.906417846679688,
          13.966385841369629,
          13.063182830810547,
          3.3887851238250732,
          13.777700424194336,
          3.5153374671936035,
          13.03801155090332,
          13.9097318649292,
          18.115936279296875,
          -1.093269944190979,
          13.37939739227295,
          -5.650038719177246,
          -6.433490753173828,
          -1.234744668006897,
          13.339282989501953,
          3.2540512084960938,
          14.119913101196289,
          0.33339059352874756,
          15.868073463439941,
          13.706103324890137,
          3.132110834121704,
          14.681244850158691,
          3.8994107246398926,
          15.393848419189453,
          11.619523048400879,
          13.587381362915039,
          17.775325775146484,
          14.041755676269531,
          5.045902729034424,
          15.313718795776367,
          13.89371395111084,
          13.681140899658203,
          14.773214340209961,
          3.554300546646118,
          14.036751747131348,
          8.66539478302002,
          13.616223335266113,
          -5.707858085632324,
          14.080738067626953,
          13.601363182067871,
          0.42394885420799255,
          13.881840705871582,
          -5.748562335968018,
          13.651846885681152,
          -1.5931119918823242,
          8.62939167022705,
          14.652090072631836,
          -5.79432487487793,
          -5.965472221374512,
          14.583142280578613,
          -5.568571090698242,
          13.986532211303711,
          -5.431433200836182,
          13.775686264038086,
          13.0306978225708,
          14.008062362670898,
          4.36264705657959,
          -6.596606254577637,
          -6.581472873687744,
          -6.398525238037109,
          -6.057207107543945,
          -5.469153881072998,
          11.70105266571045,
          -5.8675971031188965,
          -5.6216139793396,
          -6.693010330200195,
          -0.8915642499923706,
          13.603494644165039,
          4.493649005889893,
          -7.000357627868652,
          5.553703784942627,
          -5.408229351043701,
          -6.228869438171387,
          -5.826773166656494,
          -5.411653995513916,
          -5.5071024894714355,
          -6.308727264404297,
          -5.60201358795166,
          -6.315789699554443,
          7.169670104980469,
          5.584041595458984,
          -8.030242919921875,
          4.258123874664307,
          7.349693775177002,
          12.913311958312988,
          7.431989669799805,
          3.981743335723877,
          -1.7092864513397217,
          -1.502624273300171,
          8.761534690856934,
          -1.0789921283721924,
          11.659157752990723,
          -1.4616897106170654,
          0.8419588804244995,
          0.7968253493309021,
          -10.371407508850098,
          -5.378979206085205,
          -8.140668869018555,
          6.207126617431641,
          0.34654468297958374,
          -1.6687231063842773,
          0.6508969068527222,
          10.181700706481934,
          -2.537426710128784,
          -6.489072322845459,
          13.634347915649414,
          -5.800416469573975,
          7.39035701751709,
          -6.128366470336914,
          6.305410861968994,
          -6.754772186279297,
          12.781503677368164,
          5.6198248863220215,
          -1.7397634983062744,
          14.203611373901367,
          -6.535743236541748,
          0.7474086880683899,
          -6.368114471435547,
          -2.05066180229187,
          -1.5329277515411377,
          -5.560713768005371,
          14.642184257507324,
          8.710590362548828,
          -6.55715274810791,
          16.52883529663086,
          -5.660346984863281,
          -5.939922332763672,
          -5.568323135375977,
          4.7224249839782715,
          -5.0771074295043945,
          11.937764167785645,
          0.6849897503852844,
          16.894699096679688,
          13.625179290771484,
          17.560989379882812,
          4.401182174682617,
          16.500885009765625,
          10.918130874633789,
          -5.579692363739014,
          3.0207293033599854,
          -1.5252056121826172,
          0.7688648700714111,
          5.930415630340576,
          0.8935843110084534,
          8.661480903625488,
          6.143759250640869,
          3.845923662185669,
          0.6819376349449158,
          -6.11099910736084,
          -0.7956863641738892,
          -1.572704553604126,
          0.5079241394996643,
          -6.682995319366455,
          3.7205002307891846,
          -6.705920696258545,
          -3.938833236694336,
          13.668892860412598,
          0.5738891363143921,
          13.694526672363281,
          0.41641291975975037,
          -5.935849189758301,
          -6.489149570465088,
          0.40180015563964844,
          -6.522810459136963,
          -1.1298617124557495,
          -1.578330397605896,
          -5.506772041320801,
          0.7925093173980713,
          6.183451175689697,
          -6.36567497253418,
          -6.708926200866699,
          0.8994321823120117,
          -1.0798805952072144,
          0.5831204652786255,
          -1.3639036417007446,
          -6.608978748321533,
          -6.300357341766357,
          0.8104716539382935,
          -1.488916277885437,
          -1.5660909414291382,
          -0.7663740515708923,
          -1.6246896982192993,
          0.8180903792381287,
          -5.38287353515625,
          -6.408161640167236,
          -5.883545875549316,
          0.24026133120059967,
          4.161112308502197,
          -1.64098060131073,
          -0.8069362044334412,
          -6.556241989135742,
          14.225293159484863,
          12.800863265991211,
          -1.6645328998565674,
          17.483911514282227,
          7.459702014923096,
          -5.455939769744873,
          14.682184219360352,
          0.1981799602508545,
          -0.47128525376319885,
          6.192476749420166,
          14.240636825561523,
          15.151759147644043,
          15.518898963928223,
          -1.4374275207519531,
          -5.26932430267334,
          -6.488979339599609,
          -6.151433944702148,
          -1.2873491048812866,
          -5.780534744262695,
          8.044766426086426,
          16.12237548828125,
          -6.584411144256592,
          -3.907135248184204,
          -1.3658219575881958,
          13.897567749023438,
          -5.518337726593018,
          -5.822413921356201,
          14.643837928771973,
          3.8572745323181152,
          -6.716361045837402,
          -1.5379033088684082,
          0.4945530593395233,
          -3.968184232711792,
          0.7449033856391907,
          -6.474798202514648,
          -3.9382994174957275,
          -1.5712701082229614,
          -1.991536259651184,
          -6.6724934577941895,
          13.862510681152344,
          -2.2696900367736816,
          3.9719367027282715,
          12.861222267150879,
          -6.721072196960449,
          -6.322755813598633,
          -5.530595302581787,
          -5.457732200622559,
          -5.438629150390625,
          -1.6537188291549683,
          -6.579139232635498,
          -1.9525114297866821,
          -8.184463500976562,
          0.44135022163391113,
          -8.130525588989258,
          -5.911542892456055,
          -6.070133209228516,
          -2.2601962089538574,
          -5.249670028686523,
          -1.7668499946594238,
          -6.555126190185547,
          -8.174051284790039,
          -6.349307060241699,
          0.8155553340911865,
          3.2678463459014893,
          -0.769095242023468,
          10.886468887329102,
          13.688861846923828,
          13.597850799560547,
          0.5327849984169006,
          14.613761901855469,
          -1.353540062904358,
          -5.3727335929870605,
          0.42595192790031433,
          14.006401062011719,
          -5.434436321258545,
          14.035754203796387,
          13.401888847351074,
          13.85858154296875,
          13.768631935119629,
          0.6388941407203674,
          -1.3415390253067017,
          13.828042030334473,
          12.764870643615723,
          -5.651798725128174,
          -6.650268077850342,
          13.612465858459473,
          13.374245643615723,
          18.054216384887695,
          -5.376814365386963,
          0.8753694891929626,
          -5.440375804901123,
          11.614866256713867,
          18.116451263427734,
          15.83959674835205,
          0.2958797514438629,
          0.6642868518829346,
          -0.398677796125412,
          -7.122688293457031,
          11.436659812927246,
          13.62067699432373,
          -10.754284858703613,
          13.09172248840332,
          13.169337272644043,
          13.093347549438477,
          13.309303283691406,
          13.603967666625977,
          13.068012237548828,
          13.696727752685547,
          13.602062225341797,
          14.184416770935059,
          -1.1140440702438354,
          13.756628036499023,
          8.060282707214355,
          -2.5535085201263428,
          13.336884498596191,
          -4.113147735595703,
          13.695099830627441,
          -2.196481227874756,
          13.482664108276367,
          13.882318496704102,
          13.2838773727417,
          14.651989936828613,
          14.084015846252441,
          13.849374771118164,
          14.644320487976074,
          -0.6293466091156006,
          15.498312950134277,
          -3.96451997756958,
          -5.527103424072266,
          0.5282895565032959,
          17.493999481201172,
          13.647026062011719,
          4.454264163970947,
          12.085037231445312,
          -1.7576111555099487,
          14.605965614318848,
          -5.347655296325684,
          -6.668844223022461,
          -1.245841383934021,
          5.007551670074463,
          2.978261709213257,
          18.110265731811523,
          12.876648902893066,
          3.8521320819854736,
          17.657739639282227,
          14.141179084777832,
          4.181297779083252,
          -5.667364597320557,
          10.009296417236328,
          0.7432396411895752,
          14.593700408935547,
          -1.4798717498779297,
          7.549257278442383,
          0.6889001131057739,
          -2.359619140625,
          -1.7262659072875977,
          -6.694679260253906,
          -7.069671154022217,
          9.931083679199219,
          -5.564542293548584,
          14.576652526855469,
          16.185794830322266,
          13.210977554321289,
          -5.690197467803955,
          -1.3577494621276855,
          13.60129165649414,
          13.90936279296875,
          5.591646194458008,
          13.882804870605469,
          -6.611782073974609,
          10.662670135498047,
          13.679991722106934,
          17.63208770751953,
          -5.559900283813477,
          13.788585662841797,
          -5.5265936851501465,
          3.863889694213867,
          3.211758852005005,
          -6.585434436798096,
          -2.5822808742523193,
          13.902327537536621,
          -0.6523818969726562,
          0.7434055209159851,
          13.689187049865723,
          16.888835906982422,
          -1.5269079208374023,
          14.015174865722656,
          -10.76695442199707,
          14.090643882751465,
          13.231979370117188,
          -5.588544845581055,
          14.040998458862305,
          -0.4903818666934967,
          0.1763683259487152,
          13.590991020202637,
          16.177383422851562,
          16.459426879882812,
          12.642182350158691,
          13.607867240905762,
          13.206070899963379,
          6.24268102645874,
          3.2819833755493164,
          14.438310623168945,
          18.1002254486084,
          14.645794868469238,
          14.08775520324707,
          15.793140411376953,
          16.15484619140625,
          18.093223571777344,
          4.123550891876221,
          3.007638931274414,
          7.4381794929504395,
          14.305868148803711,
          15.872236251831055,
          13.406028747558594,
          14.61316967010498,
          13.227071762084961,
          13.595949172973633,
          18.05561065673828,
          15.535371780395508,
          17.7757625579834,
          15.191797256469727,
          14.072765350341797,
          -1.5214120149612427,
          17.839923858642578,
          18.065967559814453,
          13.799890518188477,
          13.984227180480957,
          0.8977285027503967,
          14.706393241882324,
          2.9656572341918945,
          13.908413887023926,
          14.523544311523438,
          14.069920539855957,
          14.049220085144043,
          18.058225631713867,
          13.362664222717285,
          14.206877708435059,
          14.443060874938965,
          14.134822845458984,
          14.616000175476074,
          17.822038650512695,
          12.058356285095215,
          14.045844078063965,
          -5.5426435470581055,
          -5.74880838394165,
          14.05896282196045,
          18.13190460205078,
          10.826984405517578,
          14.054577827453613,
          13.71281623840332,
          14.284224510192871,
          0.8546587228775024,
          13.844390869140625,
          13.720793724060059,
          -2.1452550888061523,
          17.612302780151367,
          -8.156378746032715,
          12.122807502746582,
          -6.301672458648682,
          -5.444019794464111,
          13.666422843933105,
          15.414085388183594,
          -7.198678016662598,
          18.1153621673584,
          18.057985305786133,
          13.895156860351562,
          -6.239352703094482,
          -2.2631583213806152,
          13.875656127929688,
          -6.656487941741943,
          14.003189086914062,
          -8.12680435180664,
          13.933294296264648,
          6.3568291664123535,
          -6.261168003082275,
          13.688385009765625,
          13.92585563659668,
          17.99996566772461,
          13.217164993286133,
          14.06041431427002,
          14.100419998168945,
          18.000370025634766,
          13.663726806640625,
          13.91851806640625,
          4.025644302368164,
          -8.094050407409668,
          14.272270202636719,
          14.105144500732422,
          14.120478630065918,
          14.262873649597168,
          13.728765487670898,
          14.1011381149292,
          13.297977447509766,
          13.329876899719238,
          13.64202880859375,
          14.656673431396484,
          17.958341598510742,
          17.475318908691406,
          18.114028930664062,
          17.965972900390625,
          16.125585556030273,
          15.065183639526367,
          13.189457893371582,
          14.043102264404297,
          13.811296463012695,
          13.907269477844238,
          13.38231372833252,
          13.835705757141113,
          14.176825523376465,
          13.67923355102539,
          -2.673170566558838,
          15.408126831054688,
          17.997055053710938,
          16.036117553710938,
          12.958250045776367,
          16.115861892700195,
          16.134910583496094,
          6.2023234367370605,
          14.97464370727539,
          14.585139274597168,
          17.979990005493164,
          15.688225746154785,
          14.327221870422363,
          7.998023986816406,
          14.354365348815918,
          9.835412979125977,
          14.403457641601562,
          3.7830731868743896,
          16.07882308959961,
          -5.410944938659668,
          13.462294578552246,
          0.5571739673614502,
          0.7097798585891724,
          -6.709432125091553,
          -6.296218395233154,
          16.08475112915039,
          17.984235763549805,
          13.318625450134277,
          14.948625564575195,
          17.977561950683594,
          13.964126586914062,
          18.0441951751709,
          -5.3541765213012695,
          14.643813133239746,
          13.418523788452148,
          17.909120559692383,
          14.059083938598633,
          15.29603385925293,
          16.882911682128906,
          14.298554420471191,
          -0.7521111965179443,
          17.7208309173584,
          5.110370635986328,
          15.326627731323242,
          18.108816146850586,
          17.875993728637695,
          14.83564281463623,
          13.453279495239258,
          13.678038597106934,
          18.007598876953125,
          -1.1400420665740967,
          13.058213233947754,
          -10.802460670471191,
          3.7443923950195312,
          13.857719421386719,
          15.327156066894531,
          13.149835586547852,
          13.3021821975708,
          16.05449676513672,
          -5.868109703063965,
          17.77146339416504,
          16.548891067504883,
          -5.494089126586914,
          3.739715576171875,
          11.623845100402832,
          16.785717010498047,
          17.816753387451172,
          17.718608856201172,
          15.901841163635254,
          18.087696075439453,
          -1.1074942350387573,
          4.873254299163818,
          14.128691673278809,
          13.183820724487305,
          13.06152057647705,
          -5.540317058563232,
          17.40666961669922,
          16.490703582763672,
          13.981725692749023,
          -5.545098304748535,
          -6.653878211975098,
          0.5979374647140503,
          -2.094205141067505,
          -5.3847126960754395,
          -3.9411935806274414,
          -1.7431164979934692,
          -1.2295293807983398,
          -3.924022674560547,
          15.854500770568848,
          14.632570266723633,
          18.103736877441406,
          13.926698684692383,
          7.876309871673584,
          15.461893081665039,
          14.637372016906738,
          0.9064673185348511,
          13.858476638793945,
          13.655648231506348,
          13.712539672851562,
          0.4241960644721985,
          14.627412796020508,
          17.243223190307617,
          14.05631160736084,
          13.340227127075195,
          16.06708526611328,
          14.65688419342041,
          18.001689910888672,
          13.625852584838867,
          14.061607360839844,
          15.19945240020752,
          12.975475311279297,
          0.8404477834701538,
          14.011892318725586,
          13.21642780303955,
          13.848535537719727,
          15.283663749694824,
          13.147634506225586,
          14.681441307067871,
          14.03205680847168,
          15.58056640625,
          11.664823532104492,
          14.909734725952148
         ],
         "xaxis": "x",
         "y": [
          1.2957308292388916,
          -7.921827793121338,
          11.971060752868652,
          7.972326755523682,
          9.617136001586914,
          2.358337640762329,
          15.496274948120117,
          15.202556610107422,
          15.258418083190918,
          -7.776566505432129,
          -10.269577980041504,
          18.62929916381836,
          -9.58364486694336,
          14.109925270080566,
          11.96219539642334,
          -7.751104354858398,
          -6.40640926361084,
          -10.378737449645996,
          15.478547096252441,
          15.242225646972656,
          15.493353843688965,
          -8.970398902893066,
          -3.390672206878662,
          -6.155537128448486,
          -8.122029304504395,
          4.0987548828125,
          -8.969745635986328,
          -7.841248512268066,
          -9.917563438415527,
          15.949483871459961,
          13.826285362243652,
          18.52292251586914,
          16.87251091003418,
          15.482900619506836,
          15.270689010620117,
          15.227628707885742,
          15.881647109985352,
          19.760005950927734,
          15.902246475219727,
          15.316628456115723,
          14.185762405395508,
          15.514111518859863,
          15.403388023376465,
          -8.742239952087402,
          15.094952583312988,
          14.886744499206543,
          15.204973220825195,
          15.572980880737305,
          15.176861763000488,
          15.492218017578125,
          15.332157135009766,
          1.9829552173614502,
          -8.024491310119629,
          -9.665729522705078,
          13.815821647644043,
          6.825608730316162,
          -7.984791278839111,
          -8.763670921325684,
          5.923306941986084,
          -8.578143119812012,
          11.816834449768066,
          5.504007816314697,
          -8.132868766784668,
          -5.23183536529541,
          -7.799492835998535,
          14.180135726928711,
          -5.319820404052734,
          15.501872062683105,
          15.930082321166992,
          15.510031700134277,
          6.780816555023193,
          4.55803108215332,
          20.6729736328125,
          -7.858658313751221,
          -4.745181560516357,
          8.740887641906738,
          5.187440395355225,
          14.482137680053711,
          8.547378540039062,
          8.150334358215332,
          13.96379566192627,
          6.884644031524658,
          4.080453872680664,
          6.727269172668457,
          21.09654426574707,
          -8.220100402832031,
          5.9924116134643555,
          -4.00545072555542,
          3.96988582611084,
          8.810938835144043,
          1.6479616165161133,
          -9.311054229736328,
          3.8670201301574707,
          1.9549450874328613,
          -8.865625381469727,
          18.313812255859375,
          -6.487771034240723,
          3.9267241954803467,
          3.232938289642334,
          6.005728244781494,
          -9.279132843017578,
          -4.614046096801758,
          -10.393359184265137,
          -3.5262668132781982,
          -8.892664909362793,
          -3.9224913120269775,
          -3.343829870223999,
          11.26866340637207,
          1.7150484323501587,
          6.688083648681641,
          5.983017444610596,
          5.660129547119141,
          8.754924774169922,
          7.307224273681641,
          10.766469955444336,
          6.61862325668335,
          -6.393824577331543,
          14.323210716247559,
          -0.1504150927066803,
          16.864299774169922,
          15.48425006866455,
          -10.274592399597168,
          11.562726020812988,
          -3.4939513206481934,
          0.5180724263191223,
          -8.958072662353516,
          6.712580680847168,
          0.8334288001060486,
          -7.470865249633789,
          -4.333301067352295,
          -9.598482131958008,
          -8.83017349243164,
          17.500303268432617,
          13.691746711730957,
          5.99443244934082,
          3.6706674098968506,
          -4.554892539978027,
          -8.823396682739258,
          18.53018569946289,
          -9.762207984924316,
          5.320595741271973,
          16.843778610229492,
          8.515237808227539,
          13.747790336608887,
          11.957331657409668,
          16.82978057861328,
          -3.8653130531311035,
          16.553604125976562,
          16.86968421936035,
          14.293132781982422,
          -0.4984095096588135,
          -10.377766609191895,
          1.69185471534729,
          -7.447701454162598,
          7.529070854187012,
          -9.587813377380371,
          0.917134702205658,
          5.895521640777588,
          4.1486077308654785,
          17.18243980407715,
          17.312023162841797,
          -9.799838066101074,
          17.61899757385254,
          -10.054291725158691,
          -3.4268441200256348,
          17.03696632385254,
          5.855340957641602,
          11.940865516662598,
          8.032565116882324,
          4.130274772644043,
          17.31044578552246,
          -5.4803571701049805,
          -8.730171203613281,
          11.224867820739746,
          -6.434300899505615,
          1.3702428340911865,
          13.808229446411133,
          15.422893524169922,
          9.624896049499512,
          9.01822566986084,
          18.491504669189453,
          -0.6885038614273071,
          16.92753791809082,
          -3.988262414932251,
          -2.6581671237945557,
          13.719403266906738,
          18.51105308532715,
          2.24945068359375,
          11.068753242492676,
          -6.856966495513916,
          15.23870849609375,
          -7.421881675720215,
          2.398975133895874,
          -1.9886345863342285,
          19.148365020751953,
          2.8249056339263916,
          -4.584622859954834,
          -5.41440486907959,
          21.132081985473633,
          15.505890846252441,
          -7.211222171783447,
          -8.524625778198242,
          -8.081631660461426,
          21.218961715698242,
          -4.639354228973389,
          -5.0465474128723145,
          -8.537553787231445,
          14.785844802856445,
          21.230579376220703,
          15.607362747192383,
          -7.605606555938721,
          11.763327598571777,
          2.7706217765808105,
          -9.339316368103027,
          -10.043601989746094,
          15.348381042480469,
          -8.913897514343262,
          -8.153604507446289,
          15.6139497756958,
          -4.470332622528076,
          -4.773166656494141,
          -2.7995028495788574,
          21.071651458740234,
          -9.289481163024902,
          4.388943672180176,
          11.852265357971191,
          1.6224939823150635,
          -7.318066596984863,
          14.621651649475098,
          -7.78788948059082,
          -7.820747375488281,
          16.451446533203125,
          5.85161828994751,
          8.508021354675293,
          7.722616195678711,
          -7.409238815307617,
          -9.646215438842773,
          17.02752685546875,
          10.064706802368164,
          -8.131235122680664,
          17.36563491821289,
          10.020322799682617,
          16.87578010559082,
          -5.504393577575684,
          -10.259578704833984,
          20.1428165435791,
          -7.194761276245117,
          -6.778135299682617,
          -7.4198527336120605,
          16.79443359375,
          10.761820793151855,
          17.3416805267334,
          -4.882435321807861,
          -10.372344970703125,
          -4.559658050537109,
          2.8649072647094727,
          14.569098472595215,
          11.066410064697266,
          17.33769989013672,
          15.02287483215332,
          -8.372380256652832,
          -8.097589492797852,
          15.375182151794434,
          6.312249183654785,
          17.09695816040039,
          16.6750545501709,
          17.177701950073242,
          -6.757811069488525,
          16.09747314453125,
          -0.5131155848503113,
          -10.35736083984375,
          4.611186981201172,
          9.214563369750977,
          6.9993767738342285,
          -10.146759986877441,
          4.67732572555542,
          16.984451293945312,
          14.675989151000977,
          -6.366377830505371,
          2.0031445026397705,
          17.392576217651367,
          16.9278507232666,
          -5.483715534210205,
          -10.484621047973633,
          2.354135274887085,
          -7.501851558685303,
          19.780628204345703,
          -2.4134340286254883,
          21.125051498413086,
          -9.987207412719727,
          2.411921977996826,
          3.754213333129883,
          4.025496482849121,
          -5.403822422027588,
          17.205596923828125,
          21.1156005859375,
          -8.54382038116455,
          19.755712509155273,
          9.057502746582031,
          21.150381088256836,
          19.739782333374023,
          -3.3913962841033936,
          -6.141718864440918,
          14.026676177978516,
          18.616527557373047,
          -9.505677223205566,
          -8.565706253051758,
          11.078476905822754,
          14.117215156555176,
          8.238101959228516,
          11.939077377319336,
          2.62199330329895,
          21.0402774810791,
          10.695198059082031,
          8.478203773498535,
          5.895718097686768,
          15.14810848236084,
          -10.371428489685059,
          15.159086227416992,
          15.14822769165039,
          7.150571823120117,
          8.087050437927246,
          10.197769165039062,
          -7.444243431091309,
          8.418240547180176,
          9.388127326965332,
          5.049771785736084,
          -7.304117202758789,
          19.211841583251953,
          -10.291337966918945,
          15.457746505737305,
          -9.712965965270996,
          10.886747360229492,
          7.6202392578125,
          8.503016471862793,
          10.819003105163574,
          10.045634269714355,
          14.895780563354492,
          9.46660041809082,
          14.906755447387695,
          -8.968774795532227,
          -9.697065353393555,
          15.876604080200195,
          -10.383699417114258,
          -8.879691123962402,
          -6.843609809875488,
          -8.817449569702148,
          -10.448760986328125,
          -9.234966278076172,
          -8.19670581817627,
          -8.489814758300781,
          -10.357979774475098,
          -7.47524356842041,
          0.7374039888381958,
          -5.255404949188232,
          -5.410450458526611,
          15.437651634216309,
          11.92239761352539,
          15.961764335632324,
          -9.33833122253418,
          -6.355252265930176,
          -9.333708763122559,
          -3.8647584915161133,
          -7.985969066619873,
          1.6285691261291504,
          6.8196492195129395,
          19.050546646118164,
          8.613092422485352,
          -8.853297233581543,
          14.646743774414062,
          -9.278635025024414,
          15.297028541564941,
          -6.932219982147217,
          -9.676019668579102,
          -8.841196060180664,
          13.780851364135742,
          4.193594455718994,
          -4.1149702072143555,
          3.8040709495544434,
          1.329128623008728,
          0.8292705416679382,
          13.56258773803711,
          11.805596351623535,
          -8.528228759765625,
          4.2558274269104,
          -3.838716745376587,
          13.838990211486816,
          8.284516334533691,
          2.5917911529541016,
          -10.167400360107422,
          2.315774917602539,
          -7.356404781341553,
          -3.940202474594116,
          -3.4827394485473633,
          19.781906127929688,
          -2.7731146812438965,
          -10.335887908935547,
          -3.8647658824920654,
          -7.725371837615967,
          13.668143272399902,
          16.821308135986328,
          -8.219904899597168,
          -5.527252197265625,
          -9.4879732131958,
          -5.0588603019714355,
          -8.552115440368652,
          -9.381467819213867,
          -10.494315147399902,
          -5.831050395965576,
          7.916607856750488,
          -7.208316326141357,
          0.865824282169342,
          -3.5045604705810547,
          5.861212253570557,
          -10.56229305267334,
          5.254669666290283,
          1.9438101053237915,
          18.277807235717773,
          -6.074220657348633,
          17.526185989379883,
          -6.2826385498046875,
          8.294535636901855,
          4.04241418838501,
          -3.3446004390716553,
          6.777225494384766,
          -10.306609153747559,
          0.8770766258239746,
          2.5380983352661133,
          -4.263902187347412,
          -9.370259284973145,
          14.958358764648438,
          5.2395710945129395,
          -5.146645545959473,
          -7.523794651031494,
          -6.049404144287109,
          0.5440409183502197,
          6.387580394744873,
          3.6770007610321045,
          -4.325646877288818,
          0.7770293951034546,
          0.8646222352981567,
          -7.179746150970459,
          -9.432771682739258,
          -4.351526260375977,
          2.438701868057251,
          3.878807544708252,
          8.391279220581055,
          -6.468898773193359,
          -10.326557159423828,
          -9.425458908081055,
          -7.219329833984375,
          6.668025970458984,
          13.751541137695312,
          -6.922999858856201,
          -8.553285598754883,
          -2.8566739559173584,
          -8.83340835571289,
          2.51159405708313,
          11.140087127685547,
          -6.5022759437561035,
          -6.935600280761719,
          -9.350777626037598,
          -5.842672824859619,
          -5.083111763000488,
          -4.762845993041992,
          -9.814557075500488,
          2.379682779312134,
          6.809733867645264,
          7.826162338256836,
          0.43895599246025085,
          8.665730476379395,
          -8.70842170715332,
          -4.215630054473877,
          4.091826915740967,
          1.923535704612732,
          0.5336108803749084,
          16.01749610900879,
          9.958667755126953,
          2.801442861557007,
          11.234824180603027,
          -10.511739730834961,
          5.332823753356934,
          -9.610623359680176,
          -3.4521780014038086,
          1.9665831327438354,
          -4.135909080505371,
          6.855391025543213,
          1.942747712135315,
          -8.306912422180176,
          1.2796485424041748,
          5.950180530548096,
          20.67601776123047,
          1.4899446964263916,
          -10.434548377990723,
          -6.882149696350098,
          5.2755537033081055,
          7.360916614532471,
          2.564464569091797,
          2.501152515411377,
          10.560545921325684,
          0.9538580179214478,
          4.329290390014648,
          1.242012619972229,
          15.957207679748535,
          -3.388936758041382,
          15.938973426818848,
          2.8948919773101807,
          7.9766106605529785,
          1.483353853225708,
          2.4325876235961914,
          1.0650659799575806,
          4.168305397033691,
          15.960291862487793,
          7.276544094085693,
          -4.320967197418213,
          17.013931274414062,
          -7.1816816329956055,
          -7.722677707672119,
          20.12907600402832,
          19.816884994506836,
          -3.508263349533081,
          10.879209518432617,
          0.5276150703430176,
          11.959842681884766,
          -6.27164888381958,
          15.152557373046875,
          10.58958911895752,
          14.9497652053833,
          7.547075271606445,
          8.68136978149414,
          8.464442253112793,
          -5.938296794891357,
          0.5163081884384155,
          16.10211944580078,
          -6.95226526260376,
          13.840435981750488,
          15.210644721984863,
          19.648250579833984,
          -6.5265278816223145,
          -0.16956515610218048,
          11.954854011535645,
          -5.139133930206299,
          10.549454689025879,
          -7.500758171081543,
          -0.7871778607368469,
          -4.475122928619385,
          -6.414775848388672,
          -5.89137601852417,
          -6.885444641113281,
          15.534477233886719,
          -7.552680015563965,
          19.062009811401367,
          15.218727111816406,
          5.732369899749756,
          6.829550743103027,
          5.7031049728393555,
          4.726757526397705,
          8.040163040161133,
          5.789366245269775,
          4.01811408996582,
          8.036702156066895,
          -5.891590118408203,
          -10.33266830444336,
          16.79043960571289,
          -8.704769134521484,
          1.6236571073532104,
          7.422558784484863,
          2.016716718673706,
          17.511741638183594,
          1.4379212856292725,
          7.6579508781433105,
          8.635028839111328,
          4.8378095626831055,
          11.82694149017334,
          9.543728828430176,
          8.620099067687988,
          11.774057388305664,
          -7.06765079498291,
          -4.782836437225342,
          1.9899392127990723,
          9.930723190307617,
          -3.5117251873016357,
          -2.843280792236328,
          19.953899383544922,
          -10.301422119140625,
          -7.287868976593018,
          -8.96278190612793,
          11.77041244506836,
          2.4367010593414307,
          5.97802734375,
          -7.773521423339844,
          -10.01156234741211,
          16.81790542602539,
          -1.1696884632110596,
          -6.86077880859375,
          -10.524347305297852,
          -2.5922672748565674,
          -5.930163860321045,
          -10.374184608459473,
          13.883932113647461,
          -8.017961502075195,
          -5.61529541015625,
          10.860769271850586,
          -8.158320426940918,
          -8.792937278747559,
          -4.036259651184082,
          1.507359504699707,
          -9.17353630065918,
          5.815067768096924,
          15.506353378295898,
          -8.07634162902832,
          13.646330833435059,
          12.089471817016602,
          -4.15613317489624,
          7.038045406341553,
          9.172987937927246,
          -9.951472282409668,
          19.613618850708008,
          -6.120859622955322,
          -9.689461708068848,
          20.68770408630371,
          6.350573539733887,
          -7.814631462097168,
          20.102169036865234,
          -2.651428461074829,
          13.685296058654785,
          16.70045280456543,
          9.868008613586426,
          -10.536796569824219,
          16.976993560791016,
          4.300835609436035,
          1.632375717163086,
          15.857501983642578,
          -7.079828262329102,
          -5.6315789222717285,
          17.589752197265625,
          -3.488802671432495,
          -8.221697807312012,
          21.090238571166992,
          15.209736824035645,
          14.730520248413086,
          7.0952653884887695,
          2.6058268547058105,
          3.5824618339538574,
          -6.952583312988281,
          -6.512455940246582,
          19.606456756591797,
          -4.164992809295654,
          -3.9051263332366943,
          -7.02229118347168,
          19.258649826049805,
          7.01113748550415,
          -9.3203763961792,
          17.0208797454834,
          3.179964065551758,
          -1.0569932460784912,
          2.989555835723877,
          3.530054807662964,
          2.0604469776153564,
          1.7576980590820312,
          -1.1620899438858032,
          -10.406460762023926,
          16.83738136291504,
          -8.824760437011719,
          3.308537244796753,
          2.00522780418396,
          7.582709312438965,
          3.0154571533203125,
          7.065423011779785,
          19.959997177124023,
          -0.3017212450504303,
          -4.751741409301758,
          -2.4076449871063232,
          2.525611162185669,
          3.546760082244873,
          -8.21610164642334,
          -2.1992204189300537,
          -0.22893807291984558,
          -6.202544212341309,
          21.054155349731445,
          -5.133167266845703,
          -5.46262788772583,
          16.81251335144043,
          15.761327743530273,
          3.099074125289917,
          14.82269287109375,
          9.4617280960083,
          -0.20831982791423798,
          4.630184650421143,
          13.901220321655273,
          3.1769745349884033,
          -5.937419414520264,
          11.6627779006958,
          -2.283836603164673,
          -7.307689189910889,
          21.12973403930664,
          2.560180425643921,
          8.842248916625977,
          14.867100715637207,
          -0.5178613066673279,
          -7.749863147735596,
          14.842602729797363,
          3.9843554496765137,
          13.649848937988281,
          -4.6194047927856445,
          -6.169839382171631,
          17.202884674072266,
          1.4001458883285522,
          -2.6930086612701416,
          15.94063663482666,
          -7.310722827911377,
          7.43221378326416,
          10.54281234741211,
          20.058622360229492,
          -4.861419200897217,
          15.592629432678223,
          -1.1465479135513306,
          -1.4245073795318604,
          16.08608055114746,
          14.813933372497559,
          1.474167823791504,
          16.150371551513672,
          4.663733005523682,
          15.366108894348145,
          15.962737083435059,
          -6.0975470542907715,
          -9.249436378479004,
          14.848721504211426,
          17.64443016052246,
          -6.104427337646484,
          -1.6846266984939575,
          7.047097206115723,
          9.469340324401855,
          9.477079391479492,
          -1.746814250946045,
          -6.309214115142822,
          16.122283935546875,
          -10.442659378051758,
          15.93365478515625,
          13.666081428527832,
          9.583025932312012,
          9.620229721069336,
          13.70971393585205,
          3.9772307872772217,
          9.572531700134277,
          4.777690410614014,
          4.683597087860107,
          8.11051082611084,
          11.103343963623047,
          -1.848159670829773,
          -2.865428924560547,
          -1.1391533613204956,
          -0.04199027642607689,
          1.7891143560409546,
          2.6326441764831543,
          6.882853984832764,
          9.490690231323242,
          8.544005393981934,
          8.84921646118164,
          4.596779823303223,
          8.600730895996094,
          -5.898380756378174,
          17.947267532348633,
          1.6992895603179932,
          2.339729070663452,
          -0.07052523642778397,
          1.8706547021865845,
          -6.8099894523620605,
          1.7973297834396362,
          1.7799246311187744,
          -9.352911949157715,
          2.7120137214660645,
          3.042062997817993,
          -0.0496179461479187,
          2.1362855434417725,
          13.587370872497559,
          -8.720190048217773,
          -5.751269340515137,
          -8.137277603149414,
          -5.711272716522217,
          17.36334800720215,
          -4.254929065704346,
          10.901044845581055,
          -6.456203460693359,
          -3.4978504180908203,
          -4.01043701171875,
          5.192032814025879,
          14.88591194152832,
          1.826096773147583,
          -0.053695112466812134,
          4.69545841217041,
          -5.252448081970215,
          -1.7885009050369263,
          15.43916130065918,
          -1.4850788116455078,
          2.4390220642089844,
          11.728808403015137,
          7.565567970275879,
          0.026116369292140007,
          3.5624618530273438,
          -4.961037635803223,
          -3.4953436851501465,
          13.598259925842285,
          -7.187483310699463,
          -2.501689910888672,
          -9.941386222839355,
          -4.935606002807617,
          -0.9292076826095581,
          -2.1142096519470215,
          -5.347972869873047,
          7.671690940856934,
          17.954864501953125,
          -0.0808749794960022,
          -10.301712036132812,
          6.231070041656494,
          15.171829223632812,
          17.330337524414062,
          16.180908203125,
          2.4100430011749268,
          5.505188941955566,
          7.275218486785889,
          -4.2783589363098145,
          2.8494601249694824,
          -2.40933895111084,
          -3.8198258876800537,
          2.538881778717041,
          17.334054946899414,
          -7.46966552734375,
          -3.591730833053589,
          -2.3263771533966064,
          -2.5007824897766113,
          1.9719794988632202,
          -1.2669850587844849,
          -10.344789505004883,
          -10.101090431213379,
          21.21896743774414,
          6.871055603027344,
          5.846892356872559,
          9.735283851623535,
          -2.942654848098755,
          -3.8750388622283936,
          15.41930103302002,
          9.737044334411621,
          4.62924861907959,
          -6.0095086097717285,
          1.360694408416748,
          11.850874900817871,
          1.9587620496749878,
          -8.873750686645508,
          -10.188726425170898,
          1.933779001235962,
          -4.459924221038818,
          3.0007052421569824,
          -1.1920591592788696,
          15.700052261352539,
          -8.754081726074219,
          2.293818950653076,
          11.616121292114258,
          -5.077075481414795,
          3.791959524154663,
          18.4965877532959,
          20.18729019165039,
          -3.369899034500122,
          11.897686004638672,
          -3.1193127632141113,
          21.141834259033203,
          -6.5490241050720215,
          1.843135118484497,
          2.9750030040740967,
          -0.07143627852201462,
          8.094330787658691,
          9.531503677368164,
          2.5234909057617188,
          -6.800690650939941,
          -5.226559162139893,
          21.088716506958008,
          7.051036357879639,
          8.604791641235352,
          2.4469716548919678,
          6.882394313812256,
          2.9565236568450928,
          9.365055084228516,
          2.2109761238098145,
          -7.469316482543945,
          2.762651205062866
         ],
         "yaxis": "y"
        }
       ],
       "layout": {
        "coloraxis": {
         "colorbar": {
          "title": {
           "text": "Topic"
          }
         },
         "colorscale": [
          [
           0,
           "#0d0887"
          ],
          [
           0.1111111111111111,
           "#46039f"
          ],
          [
           0.2222222222222222,
           "#7201a8"
          ],
          [
           0.3333333333333333,
           "#9c179e"
          ],
          [
           0.4444444444444444,
           "#bd3786"
          ],
          [
           0.5555555555555556,
           "#d8576b"
          ],
          [
           0.6666666666666666,
           "#ed7953"
          ],
          [
           0.7777777777777778,
           "#fb9f3a"
          ],
          [
           0.8888888888888888,
           "#fdca26"
          ],
          [
           1,
           "#f0f921"
          ]
         ]
        },
        "legend": {
         "tracegroupgap": 0
        },
        "template": {
         "data": {
          "bar": [
           {
            "error_x": {
             "color": "#2a3f5f"
            },
            "error_y": {
             "color": "#2a3f5f"
            },
            "marker": {
             "line": {
              "color": "#E5ECF6",
              "width": 0.5
             },
             "pattern": {
              "fillmode": "overlay",
              "size": 10,
              "solidity": 0.2
             }
            },
            "type": "bar"
           }
          ],
          "barpolar": [
           {
            "marker": {
             "line": {
              "color": "#E5ECF6",
              "width": 0.5
             },
             "pattern": {
              "fillmode": "overlay",
              "size": 10,
              "solidity": 0.2
             }
            },
            "type": "barpolar"
           }
          ],
          "carpet": [
           {
            "aaxis": {
             "endlinecolor": "#2a3f5f",
             "gridcolor": "white",
             "linecolor": "white",
             "minorgridcolor": "white",
             "startlinecolor": "#2a3f5f"
            },
            "baxis": {
             "endlinecolor": "#2a3f5f",
             "gridcolor": "white",
             "linecolor": "white",
             "minorgridcolor": "white",
             "startlinecolor": "#2a3f5f"
            },
            "type": "carpet"
           }
          ],
          "choropleth": [
           {
            "colorbar": {
             "outlinewidth": 0,
             "ticks": ""
            },
            "type": "choropleth"
           }
          ],
          "contour": [
           {
            "colorbar": {
             "outlinewidth": 0,
             "ticks": ""
            },
            "colorscale": [
             [
              0,
              "#0d0887"
             ],
             [
              0.1111111111111111,
              "#46039f"
             ],
             [
              0.2222222222222222,
              "#7201a8"
             ],
             [
              0.3333333333333333,
              "#9c179e"
             ],
             [
              0.4444444444444444,
              "#bd3786"
             ],
             [
              0.5555555555555556,
              "#d8576b"
             ],
             [
              0.6666666666666666,
              "#ed7953"
             ],
             [
              0.7777777777777778,
              "#fb9f3a"
             ],
             [
              0.8888888888888888,
              "#fdca26"
             ],
             [
              1,
              "#f0f921"
             ]
            ],
            "type": "contour"
           }
          ],
          "contourcarpet": [
           {
            "colorbar": {
             "outlinewidth": 0,
             "ticks": ""
            },
            "type": "contourcarpet"
           }
          ],
          "heatmap": [
           {
            "colorbar": {
             "outlinewidth": 0,
             "ticks": ""
            },
            "colorscale": [
             [
              0,
              "#0d0887"
             ],
             [
              0.1111111111111111,
              "#46039f"
             ],
             [
              0.2222222222222222,
              "#7201a8"
             ],
             [
              0.3333333333333333,
              "#9c179e"
             ],
             [
              0.4444444444444444,
              "#bd3786"
             ],
             [
              0.5555555555555556,
              "#d8576b"
             ],
             [
              0.6666666666666666,
              "#ed7953"
             ],
             [
              0.7777777777777778,
              "#fb9f3a"
             ],
             [
              0.8888888888888888,
              "#fdca26"
             ],
             [
              1,
              "#f0f921"
             ]
            ],
            "type": "heatmap"
           }
          ],
          "heatmapgl": [
           {
            "colorbar": {
             "outlinewidth": 0,
             "ticks": ""
            },
            "colorscale": [
             [
              0,
              "#0d0887"
             ],
             [
              0.1111111111111111,
              "#46039f"
             ],
             [
              0.2222222222222222,
              "#7201a8"
             ],
             [
              0.3333333333333333,
              "#9c179e"
             ],
             [
              0.4444444444444444,
              "#bd3786"
             ],
             [
              0.5555555555555556,
              "#d8576b"
             ],
             [
              0.6666666666666666,
              "#ed7953"
             ],
             [
              0.7777777777777778,
              "#fb9f3a"
             ],
             [
              0.8888888888888888,
              "#fdca26"
             ],
             [
              1,
              "#f0f921"
             ]
            ],
            "type": "heatmapgl"
           }
          ],
          "histogram": [
           {
            "marker": {
             "pattern": {
              "fillmode": "overlay",
              "size": 10,
              "solidity": 0.2
             }
            },
            "type": "histogram"
           }
          ],
          "histogram2d": [
           {
            "colorbar": {
             "outlinewidth": 0,
             "ticks": ""
            },
            "colorscale": [
             [
              0,
              "#0d0887"
             ],
             [
              0.1111111111111111,
              "#46039f"
             ],
             [
              0.2222222222222222,
              "#7201a8"
             ],
             [
              0.3333333333333333,
              "#9c179e"
             ],
             [
              0.4444444444444444,
              "#bd3786"
             ],
             [
              0.5555555555555556,
              "#d8576b"
             ],
             [
              0.6666666666666666,
              "#ed7953"
             ],
             [
              0.7777777777777778,
              "#fb9f3a"
             ],
             [
              0.8888888888888888,
              "#fdca26"
             ],
             [
              1,
              "#f0f921"
             ]
            ],
            "type": "histogram2d"
           }
          ],
          "histogram2dcontour": [
           {
            "colorbar": {
             "outlinewidth": 0,
             "ticks": ""
            },
            "colorscale": [
             [
              0,
              "#0d0887"
             ],
             [
              0.1111111111111111,
              "#46039f"
             ],
             [
              0.2222222222222222,
              "#7201a8"
             ],
             [
              0.3333333333333333,
              "#9c179e"
             ],
             [
              0.4444444444444444,
              "#bd3786"
             ],
             [
              0.5555555555555556,
              "#d8576b"
             ],
             [
              0.6666666666666666,
              "#ed7953"
             ],
             [
              0.7777777777777778,
              "#fb9f3a"
             ],
             [
              0.8888888888888888,
              "#fdca26"
             ],
             [
              1,
              "#f0f921"
             ]
            ],
            "type": "histogram2dcontour"
           }
          ],
          "mesh3d": [
           {
            "colorbar": {
             "outlinewidth": 0,
             "ticks": ""
            },
            "type": "mesh3d"
           }
          ],
          "parcoords": [
           {
            "line": {
             "colorbar": {
              "outlinewidth": 0,
              "ticks": ""
             }
            },
            "type": "parcoords"
           }
          ],
          "pie": [
           {
            "automargin": true,
            "type": "pie"
           }
          ],
          "scatter": [
           {
            "fillpattern": {
             "fillmode": "overlay",
             "size": 10,
             "solidity": 0.2
            },
            "type": "scatter"
           }
          ],
          "scatter3d": [
           {
            "line": {
             "colorbar": {
              "outlinewidth": 0,
              "ticks": ""
             }
            },
            "marker": {
             "colorbar": {
              "outlinewidth": 0,
              "ticks": ""
             }
            },
            "type": "scatter3d"
           }
          ],
          "scattercarpet": [
           {
            "marker": {
             "colorbar": {
              "outlinewidth": 0,
              "ticks": ""
             }
            },
            "type": "scattercarpet"
           }
          ],
          "scattergeo": [
           {
            "marker": {
             "colorbar": {
              "outlinewidth": 0,
              "ticks": ""
             }
            },
            "type": "scattergeo"
           }
          ],
          "scattergl": [
           {
            "marker": {
             "colorbar": {
              "outlinewidth": 0,
              "ticks": ""
             }
            },
            "type": "scattergl"
           }
          ],
          "scattermapbox": [
           {
            "marker": {
             "colorbar": {
              "outlinewidth": 0,
              "ticks": ""
             }
            },
            "type": "scattermapbox"
           }
          ],
          "scatterpolar": [
           {
            "marker": {
             "colorbar": {
              "outlinewidth": 0,
              "ticks": ""
             }
            },
            "type": "scatterpolar"
           }
          ],
          "scatterpolargl": [
           {
            "marker": {
             "colorbar": {
              "outlinewidth": 0,
              "ticks": ""
             }
            },
            "type": "scatterpolargl"
           }
          ],
          "scatterternary": [
           {
            "marker": {
             "colorbar": {
              "outlinewidth": 0,
              "ticks": ""
             }
            },
            "type": "scatterternary"
           }
          ],
          "surface": [
           {
            "colorbar": {
             "outlinewidth": 0,
             "ticks": ""
            },
            "colorscale": [
             [
              0,
              "#0d0887"
             ],
             [
              0.1111111111111111,
              "#46039f"
             ],
             [
              0.2222222222222222,
              "#7201a8"
             ],
             [
              0.3333333333333333,
              "#9c179e"
             ],
             [
              0.4444444444444444,
              "#bd3786"
             ],
             [
              0.5555555555555556,
              "#d8576b"
             ],
             [
              0.6666666666666666,
              "#ed7953"
             ],
             [
              0.7777777777777778,
              "#fb9f3a"
             ],
             [
              0.8888888888888888,
              "#fdca26"
             ],
             [
              1,
              "#f0f921"
             ]
            ],
            "type": "surface"
           }
          ],
          "table": [
           {
            "cells": {
             "fill": {
              "color": "#EBF0F8"
             },
             "line": {
              "color": "white"
             }
            },
            "header": {
             "fill": {
              "color": "#C8D4E3"
             },
             "line": {
              "color": "white"
             }
            },
            "type": "table"
           }
          ]
         },
         "layout": {
          "annotationdefaults": {
           "arrowcolor": "#2a3f5f",
           "arrowhead": 0,
           "arrowwidth": 1
          },
          "autotypenumbers": "strict",
          "coloraxis": {
           "colorbar": {
            "outlinewidth": 0,
            "ticks": ""
           }
          },
          "colorscale": {
           "diverging": [
            [
             0,
             "#8e0152"
            ],
            [
             0.1,
             "#c51b7d"
            ],
            [
             0.2,
             "#de77ae"
            ],
            [
             0.3,
             "#f1b6da"
            ],
            [
             0.4,
             "#fde0ef"
            ],
            [
             0.5,
             "#f7f7f7"
            ],
            [
             0.6,
             "#e6f5d0"
            ],
            [
             0.7,
             "#b8e186"
            ],
            [
             0.8,
             "#7fbc41"
            ],
            [
             0.9,
             "#4d9221"
            ],
            [
             1,
             "#276419"
            ]
           ],
           "sequential": [
            [
             0,
             "#0d0887"
            ],
            [
             0.1111111111111111,
             "#46039f"
            ],
            [
             0.2222222222222222,
             "#7201a8"
            ],
            [
             0.3333333333333333,
             "#9c179e"
            ],
            [
             0.4444444444444444,
             "#bd3786"
            ],
            [
             0.5555555555555556,
             "#d8576b"
            ],
            [
             0.6666666666666666,
             "#ed7953"
            ],
            [
             0.7777777777777778,
             "#fb9f3a"
            ],
            [
             0.8888888888888888,
             "#fdca26"
            ],
            [
             1,
             "#f0f921"
            ]
           ],
           "sequentialminus": [
            [
             0,
             "#0d0887"
            ],
            [
             0.1111111111111111,
             "#46039f"
            ],
            [
             0.2222222222222222,
             "#7201a8"
            ],
            [
             0.3333333333333333,
             "#9c179e"
            ],
            [
             0.4444444444444444,
             "#bd3786"
            ],
            [
             0.5555555555555556,
             "#d8576b"
            ],
            [
             0.6666666666666666,
             "#ed7953"
            ],
            [
             0.7777777777777778,
             "#fb9f3a"
            ],
            [
             0.8888888888888888,
             "#fdca26"
            ],
            [
             1,
             "#f0f921"
            ]
           ]
          },
          "colorway": [
           "#636efa",
           "#EF553B",
           "#00cc96",
           "#ab63fa",
           "#FFA15A",
           "#19d3f3",
           "#FF6692",
           "#B6E880",
           "#FF97FF",
           "#FECB52"
          ],
          "font": {
           "color": "#2a3f5f"
          },
          "geo": {
           "bgcolor": "white",
           "lakecolor": "white",
           "landcolor": "#E5ECF6",
           "showlakes": true,
           "showland": true,
           "subunitcolor": "white"
          },
          "hoverlabel": {
           "align": "left"
          },
          "hovermode": "closest",
          "mapbox": {
           "style": "light"
          },
          "paper_bgcolor": "white",
          "plot_bgcolor": "#E5ECF6",
          "polar": {
           "angularaxis": {
            "gridcolor": "white",
            "linecolor": "white",
            "ticks": ""
           },
           "bgcolor": "#E5ECF6",
           "radialaxis": {
            "gridcolor": "white",
            "linecolor": "white",
            "ticks": ""
           }
          },
          "scene": {
           "xaxis": {
            "backgroundcolor": "#E5ECF6",
            "gridcolor": "white",
            "gridwidth": 2,
            "linecolor": "white",
            "showbackground": true,
            "ticks": "",
            "zerolinecolor": "white"
           },
           "yaxis": {
            "backgroundcolor": "#E5ECF6",
            "gridcolor": "white",
            "gridwidth": 2,
            "linecolor": "white",
            "showbackground": true,
            "ticks": "",
            "zerolinecolor": "white"
           },
           "zaxis": {
            "backgroundcolor": "#E5ECF6",
            "gridcolor": "white",
            "gridwidth": 2,
            "linecolor": "white",
            "showbackground": true,
            "ticks": "",
            "zerolinecolor": "white"
           }
          },
          "shapedefaults": {
           "line": {
            "color": "#2a3f5f"
           }
          },
          "ternary": {
           "aaxis": {
            "gridcolor": "white",
            "linecolor": "white",
            "ticks": ""
           },
           "baxis": {
            "gridcolor": "white",
            "linecolor": "white",
            "ticks": ""
           },
           "bgcolor": "#E5ECF6",
           "caxis": {
            "gridcolor": "white",
            "linecolor": "white",
            "ticks": ""
           }
          },
          "title": {
           "x": 0.05
          },
          "xaxis": {
           "automargin": true,
           "gridcolor": "white",
           "linecolor": "white",
           "ticks": "",
           "title": {
            "standoff": 15
           },
           "zerolinecolor": "white",
           "zerolinewidth": 2
          },
          "yaxis": {
           "automargin": true,
           "gridcolor": "white",
           "linecolor": "white",
           "ticks": "",
           "title": {
            "standoff": 15
           },
           "zerolinecolor": "white",
           "zerolinewidth": 2
          }
         }
        },
        "title": {
         "text": "UMAP Visualization of BERTopic Clusters (n_neighbors=200, n_components=4)"
        },
        "xaxis": {
         "anchor": "y",
         "domain": [
          0,
          1
         ],
         "title": {
          "text": "UMAP Dimension 1"
         }
        },
        "yaxis": {
         "anchor": "x",
         "domain": [
          0,
          1
         ],
         "title": {
          "text": "UMAP Dimension 2"
         }
        }
       }
      }
     },
     "metadata": {},
     "output_type": "display_data"
    }
   ],
   "source": [
    "\n",
    "# Further reduce dimensionality for visualization and plot all configurations\n",
    "for n_neighbors, n_components, _ in results:\n",
    "    config = {\n",
    "        'UMAP_N_NEIGHBORS_CLUSTER': n_neighbors,\n",
    "        'UMAP_N_COMPONENTS_CLUSTER': n_components,\n",
    "        'UMAP_METRIC_CLUSTER': 'cosine',\n",
    "        'UMAP_N_NEIGHBORS_VIS': 50,\n",
    "        'UMAP_N_COMPONENTS_VIS': 2,\n",
    "        'UMAP_METRIC_VIS': 'cosine',\n",
    "        'BERTOPIC_NR_TOPICS': 4,\n",
    "        'BERTOPIC_MIN_TOPIC_SIZE': 20,\n",
    "        'BERTOPIC_CALCULATE_PROBABILITIES': True,\n",
    "        'BERTOPIC_VERBOSE': True\n",
    "    }\n",
    "    \n",
    "    umap_embeddings_2d = UMAP(n_neighbors=config['UMAP_N_NEIGHBORS_VIS'], \n",
    "                              n_components=config['UMAP_N_COMPONENTS_VIS'], \n",
    "                              metric=config['UMAP_METRIC_VIS']).fit_transform(best_umap_embeddings)\n",
    "\n",
    "    # Create a DataFrame for visualization\n",
    "    visualization_df = pd.DataFrame({\n",
    "        'UMAP1': umap_embeddings_2d[:, 0],\n",
    "        'UMAP2': umap_embeddings_2d[:, 1],\n",
    "        'Topic': best_topics,\n",
    "        'Document': documents_sample\n",
    "    })\n",
    "\n",
    "    # Plot the clusters using Plotly\n",
    "    fig = px.scatter(visualization_df, x='UMAP1', y='UMAP2', color='Topic',\n",
    "                     title=f'UMAP Visualization of BERTopic Clusters (n_neighbors={n_neighbors}, n_components={n_components})',\n",
    "                     labels={'UMAP1': 'UMAP Dimension 1', 'UMAP2': 'UMAP Dimension 2'},\n",
    "                     hover_data=['Topic', 'Document'])\n",
    "\n",
    "    fig.show()\n"
   ]
  },
  {
   "cell_type": "code",
   "execution_count": 9,
   "metadata": {},
   "outputs": [
    {
     "data": {
      "text/markdown": [
       "### Topic 0\n",
       "**Count:** 469\n",
       "**Name:** 0_ai_on_and_research\n",
       "**Representation:** ai, on, and, research, of, reports, in, papers, the, industry\n",
       "**Representative Docs:** Research papers on chain-of-thought reasoning in AI, Analysis of trends in AI research and development, Research papers and industry reports on the development and progress of RL and self-play techniques.\n",
       "\n",
       "### Topic 1\n",
       "**Count:** 200\n",
       "**Name:** 1_expert_opinions_the_on\n",
       "**Representation:** expert, opinions, the, on, of, ai, and, future, researchers, impact\n",
       "**Representative Docs:** Expert opinions on the future of AI development, Expert opinions on the future of AI development, Expert opinions on the future of AI research\n",
       "\n",
       "### Topic 2\n",
       "**Count:** 110\n",
       "**Name:** 2_of_case_studies_energy\n",
       "**Representation:** of, case, studies, energy, ai, data, in, on, tasks, models\n",
       "**Representative Docs:** Studies on the impact of renewable energy on the AI industry, Case studies on the integration of AI models in various sectors, Analysis of case studies on successful AI implementations in various industries\n",
       "\n",
       "### Topic 3\n",
       "**Count:** 106\n",
       "**Name:** 3_and_on_ai_reports\n",
       "**Representation:** and, on, ai, reports, publications, national, research, government, security, in\n",
       "**Representative Docs:** Peer-reviewed research papers on robotics and AI, Publications on AI research and development, News articles and research publications on AI in national security\n",
       "\n"
      ],
      "text/plain": [
       "<IPython.core.display.Markdown object>"
      ]
     },
     "metadata": {},
     "output_type": "display_data"
    }
   ],
   "source": [
    "\n",
    "# Display topics in markdown format\n",
    "topic_info = best_topic_model.get_topic_info()\n",
    "topic_md = \"\"\n",
    "for idx, topic in topic_info.iterrows():\n",
    "    topic_md += f\"### Topic {topic['Topic']}\\n\"\n",
    "    topic_md += f\"**Count:** {topic['Count']}\\n\"\n",
    "    topic_md += f\"**Name:** {topic['Name']}\\n\"\n",
    "    topic_md += f\"**Representation:** {', '.join(topic['Representation'])}\\n\"\n",
    "    topic_md += f\"**Representative Docs:** {', '.join(topic['Representative_Docs'])}\\n\\n\"\n",
    "\n",
    "display(Markdown(topic_md))\n"
   ]
  },
  {
   "cell_type": "code",
   "execution_count": 10,
   "metadata": {},
   "outputs": [],
   "source": [
    "\n",
    "# Extract values for plotting\n",
    "neighbor_values = [result[0] for result in results]\n",
    "component_values = [result[1] for result in results]\n",
    "outlier_counts = [result[2] for result in results]\n",
    "\n",
    "# Create a DataFrame for plotting\n",
    "plot_df = pd.DataFrame({\n",
    "    'UMAP_n_neighbors': neighbor_values,\n",
    "    'UMAP_n_components': component_values,\n",
    "    'Outliers': outlier_counts\n",
    "})\n"
   ]
  },
  {
   "cell_type": "code",
   "execution_count": 11,
   "metadata": {},
   "outputs": [
    {
     "data": {
      "application/vnd.plotly.v1+json": {
       "config": {
        "plotlyServerURL": "https://plot.ly"
       },
       "data": [
        {
         "hovertemplate": "UMAP n_neighbors=%{x}<br>UMAP n_components=%{y}<br>Number of Outliers=%{marker.color}<extra></extra>",
         "legendgroup": "",
         "marker": {
          "color": [
           0,
           44,
           0,
           13
          ],
          "coloraxis": "coloraxis",
          "size": [
           0,
           44,
           0,
           13
          ],
          "sizemode": "area",
          "sizeref": 0.11,
          "symbol": "circle"
         },
         "mode": "markers",
         "name": "",
         "orientation": "v",
         "showlegend": false,
         "type": "scatter",
         "x": [
          50,
          50,
          200,
          200
         ],
         "xaxis": "x",
         "y": [
          2,
          4,
          2,
          4
         ],
         "yaxis": "y"
        }
       ],
       "layout": {
        "coloraxis": {
         "colorbar": {
          "title": {
           "text": "Number of Outliers"
          }
         },
         "colorscale": [
          [
           0,
           "#440154"
          ],
          [
           0.1111111111111111,
           "#482878"
          ],
          [
           0.2222222222222222,
           "#3e4989"
          ],
          [
           0.3333333333333333,
           "#31688e"
          ],
          [
           0.4444444444444444,
           "#26828e"
          ],
          [
           0.5555555555555556,
           "#1f9e89"
          ],
          [
           0.6666666666666666,
           "#35b779"
          ],
          [
           0.7777777777777778,
           "#6ece58"
          ],
          [
           0.8888888888888888,
           "#b5de2b"
          ],
          [
           1,
           "#fde725"
          ]
         ]
        },
        "legend": {
         "itemsizing": "constant",
         "tracegroupgap": 0
        },
        "template": {
         "data": {
          "bar": [
           {
            "error_x": {
             "color": "#2a3f5f"
            },
            "error_y": {
             "color": "#2a3f5f"
            },
            "marker": {
             "line": {
              "color": "white",
              "width": 0.5
             },
             "pattern": {
              "fillmode": "overlay",
              "size": 10,
              "solidity": 0.2
             }
            },
            "type": "bar"
           }
          ],
          "barpolar": [
           {
            "marker": {
             "line": {
              "color": "white",
              "width": 0.5
             },
             "pattern": {
              "fillmode": "overlay",
              "size": 10,
              "solidity": 0.2
             }
            },
            "type": "barpolar"
           }
          ],
          "carpet": [
           {
            "aaxis": {
             "endlinecolor": "#2a3f5f",
             "gridcolor": "#C8D4E3",
             "linecolor": "#C8D4E3",
             "minorgridcolor": "#C8D4E3",
             "startlinecolor": "#2a3f5f"
            },
            "baxis": {
             "endlinecolor": "#2a3f5f",
             "gridcolor": "#C8D4E3",
             "linecolor": "#C8D4E3",
             "minorgridcolor": "#C8D4E3",
             "startlinecolor": "#2a3f5f"
            },
            "type": "carpet"
           }
          ],
          "choropleth": [
           {
            "colorbar": {
             "outlinewidth": 0,
             "ticks": ""
            },
            "type": "choropleth"
           }
          ],
          "contour": [
           {
            "colorbar": {
             "outlinewidth": 0,
             "ticks": ""
            },
            "colorscale": [
             [
              0,
              "#0d0887"
             ],
             [
              0.1111111111111111,
              "#46039f"
             ],
             [
              0.2222222222222222,
              "#7201a8"
             ],
             [
              0.3333333333333333,
              "#9c179e"
             ],
             [
              0.4444444444444444,
              "#bd3786"
             ],
             [
              0.5555555555555556,
              "#d8576b"
             ],
             [
              0.6666666666666666,
              "#ed7953"
             ],
             [
              0.7777777777777778,
              "#fb9f3a"
             ],
             [
              0.8888888888888888,
              "#fdca26"
             ],
             [
              1,
              "#f0f921"
             ]
            ],
            "type": "contour"
           }
          ],
          "contourcarpet": [
           {
            "colorbar": {
             "outlinewidth": 0,
             "ticks": ""
            },
            "type": "contourcarpet"
           }
          ],
          "heatmap": [
           {
            "colorbar": {
             "outlinewidth": 0,
             "ticks": ""
            },
            "colorscale": [
             [
              0,
              "#0d0887"
             ],
             [
              0.1111111111111111,
              "#46039f"
             ],
             [
              0.2222222222222222,
              "#7201a8"
             ],
             [
              0.3333333333333333,
              "#9c179e"
             ],
             [
              0.4444444444444444,
              "#bd3786"
             ],
             [
              0.5555555555555556,
              "#d8576b"
             ],
             [
              0.6666666666666666,
              "#ed7953"
             ],
             [
              0.7777777777777778,
              "#fb9f3a"
             ],
             [
              0.8888888888888888,
              "#fdca26"
             ],
             [
              1,
              "#f0f921"
             ]
            ],
            "type": "heatmap"
           }
          ],
          "heatmapgl": [
           {
            "colorbar": {
             "outlinewidth": 0,
             "ticks": ""
            },
            "colorscale": [
             [
              0,
              "#0d0887"
             ],
             [
              0.1111111111111111,
              "#46039f"
             ],
             [
              0.2222222222222222,
              "#7201a8"
             ],
             [
              0.3333333333333333,
              "#9c179e"
             ],
             [
              0.4444444444444444,
              "#bd3786"
             ],
             [
              0.5555555555555556,
              "#d8576b"
             ],
             [
              0.6666666666666666,
              "#ed7953"
             ],
             [
              0.7777777777777778,
              "#fb9f3a"
             ],
             [
              0.8888888888888888,
              "#fdca26"
             ],
             [
              1,
              "#f0f921"
             ]
            ],
            "type": "heatmapgl"
           }
          ],
          "histogram": [
           {
            "marker": {
             "pattern": {
              "fillmode": "overlay",
              "size": 10,
              "solidity": 0.2
             }
            },
            "type": "histogram"
           }
          ],
          "histogram2d": [
           {
            "colorbar": {
             "outlinewidth": 0,
             "ticks": ""
            },
            "colorscale": [
             [
              0,
              "#0d0887"
             ],
             [
              0.1111111111111111,
              "#46039f"
             ],
             [
              0.2222222222222222,
              "#7201a8"
             ],
             [
              0.3333333333333333,
              "#9c179e"
             ],
             [
              0.4444444444444444,
              "#bd3786"
             ],
             [
              0.5555555555555556,
              "#d8576b"
             ],
             [
              0.6666666666666666,
              "#ed7953"
             ],
             [
              0.7777777777777778,
              "#fb9f3a"
             ],
             [
              0.8888888888888888,
              "#fdca26"
             ],
             [
              1,
              "#f0f921"
             ]
            ],
            "type": "histogram2d"
           }
          ],
          "histogram2dcontour": [
           {
            "colorbar": {
             "outlinewidth": 0,
             "ticks": ""
            },
            "colorscale": [
             [
              0,
              "#0d0887"
             ],
             [
              0.1111111111111111,
              "#46039f"
             ],
             [
              0.2222222222222222,
              "#7201a8"
             ],
             [
              0.3333333333333333,
              "#9c179e"
             ],
             [
              0.4444444444444444,
              "#bd3786"
             ],
             [
              0.5555555555555556,
              "#d8576b"
             ],
             [
              0.6666666666666666,
              "#ed7953"
             ],
             [
              0.7777777777777778,
              "#fb9f3a"
             ],
             [
              0.8888888888888888,
              "#fdca26"
             ],
             [
              1,
              "#f0f921"
             ]
            ],
            "type": "histogram2dcontour"
           }
          ],
          "mesh3d": [
           {
            "colorbar": {
             "outlinewidth": 0,
             "ticks": ""
            },
            "type": "mesh3d"
           }
          ],
          "parcoords": [
           {
            "line": {
             "colorbar": {
              "outlinewidth": 0,
              "ticks": ""
             }
            },
            "type": "parcoords"
           }
          ],
          "pie": [
           {
            "automargin": true,
            "type": "pie"
           }
          ],
          "scatter": [
           {
            "fillpattern": {
             "fillmode": "overlay",
             "size": 10,
             "solidity": 0.2
            },
            "type": "scatter"
           }
          ],
          "scatter3d": [
           {
            "line": {
             "colorbar": {
              "outlinewidth": 0,
              "ticks": ""
             }
            },
            "marker": {
             "colorbar": {
              "outlinewidth": 0,
              "ticks": ""
             }
            },
            "type": "scatter3d"
           }
          ],
          "scattercarpet": [
           {
            "marker": {
             "colorbar": {
              "outlinewidth": 0,
              "ticks": ""
             }
            },
            "type": "scattercarpet"
           }
          ],
          "scattergeo": [
           {
            "marker": {
             "colorbar": {
              "outlinewidth": 0,
              "ticks": ""
             }
            },
            "type": "scattergeo"
           }
          ],
          "scattergl": [
           {
            "marker": {
             "colorbar": {
              "outlinewidth": 0,
              "ticks": ""
             }
            },
            "type": "scattergl"
           }
          ],
          "scattermapbox": [
           {
            "marker": {
             "colorbar": {
              "outlinewidth": 0,
              "ticks": ""
             }
            },
            "type": "scattermapbox"
           }
          ],
          "scatterpolar": [
           {
            "marker": {
             "colorbar": {
              "outlinewidth": 0,
              "ticks": ""
             }
            },
            "type": "scatterpolar"
           }
          ],
          "scatterpolargl": [
           {
            "marker": {
             "colorbar": {
              "outlinewidth": 0,
              "ticks": ""
             }
            },
            "type": "scatterpolargl"
           }
          ],
          "scatterternary": [
           {
            "marker": {
             "colorbar": {
              "outlinewidth": 0,
              "ticks": ""
             }
            },
            "type": "scatterternary"
           }
          ],
          "surface": [
           {
            "colorbar": {
             "outlinewidth": 0,
             "ticks": ""
            },
            "colorscale": [
             [
              0,
              "#0d0887"
             ],
             [
              0.1111111111111111,
              "#46039f"
             ],
             [
              0.2222222222222222,
              "#7201a8"
             ],
             [
              0.3333333333333333,
              "#9c179e"
             ],
             [
              0.4444444444444444,
              "#bd3786"
             ],
             [
              0.5555555555555556,
              "#d8576b"
             ],
             [
              0.6666666666666666,
              "#ed7953"
             ],
             [
              0.7777777777777778,
              "#fb9f3a"
             ],
             [
              0.8888888888888888,
              "#fdca26"
             ],
             [
              1,
              "#f0f921"
             ]
            ],
            "type": "surface"
           }
          ],
          "table": [
           {
            "cells": {
             "fill": {
              "color": "#EBF0F8"
             },
             "line": {
              "color": "white"
             }
            },
            "header": {
             "fill": {
              "color": "#C8D4E3"
             },
             "line": {
              "color": "white"
             }
            },
            "type": "table"
           }
          ]
         },
         "layout": {
          "annotationdefaults": {
           "arrowcolor": "#2a3f5f",
           "arrowhead": 0,
           "arrowwidth": 1
          },
          "autotypenumbers": "strict",
          "coloraxis": {
           "colorbar": {
            "outlinewidth": 0,
            "ticks": ""
           }
          },
          "colorscale": {
           "diverging": [
            [
             0,
             "#8e0152"
            ],
            [
             0.1,
             "#c51b7d"
            ],
            [
             0.2,
             "#de77ae"
            ],
            [
             0.3,
             "#f1b6da"
            ],
            [
             0.4,
             "#fde0ef"
            ],
            [
             0.5,
             "#f7f7f7"
            ],
            [
             0.6,
             "#e6f5d0"
            ],
            [
             0.7,
             "#b8e186"
            ],
            [
             0.8,
             "#7fbc41"
            ],
            [
             0.9,
             "#4d9221"
            ],
            [
             1,
             "#276419"
            ]
           ],
           "sequential": [
            [
             0,
             "#0d0887"
            ],
            [
             0.1111111111111111,
             "#46039f"
            ],
            [
             0.2222222222222222,
             "#7201a8"
            ],
            [
             0.3333333333333333,
             "#9c179e"
            ],
            [
             0.4444444444444444,
             "#bd3786"
            ],
            [
             0.5555555555555556,
             "#d8576b"
            ],
            [
             0.6666666666666666,
             "#ed7953"
            ],
            [
             0.7777777777777778,
             "#fb9f3a"
            ],
            [
             0.8888888888888888,
             "#fdca26"
            ],
            [
             1,
             "#f0f921"
            ]
           ],
           "sequentialminus": [
            [
             0,
             "#0d0887"
            ],
            [
             0.1111111111111111,
             "#46039f"
            ],
            [
             0.2222222222222222,
             "#7201a8"
            ],
            [
             0.3333333333333333,
             "#9c179e"
            ],
            [
             0.4444444444444444,
             "#bd3786"
            ],
            [
             0.5555555555555556,
             "#d8576b"
            ],
            [
             0.6666666666666666,
             "#ed7953"
            ],
            [
             0.7777777777777778,
             "#fb9f3a"
            ],
            [
             0.8888888888888888,
             "#fdca26"
            ],
            [
             1,
             "#f0f921"
            ]
           ]
          },
          "colorway": [
           "#636efa",
           "#EF553B",
           "#00cc96",
           "#ab63fa",
           "#FFA15A",
           "#19d3f3",
           "#FF6692",
           "#B6E880",
           "#FF97FF",
           "#FECB52"
          ],
          "font": {
           "color": "#2a3f5f"
          },
          "geo": {
           "bgcolor": "white",
           "lakecolor": "white",
           "landcolor": "white",
           "showlakes": true,
           "showland": true,
           "subunitcolor": "#C8D4E3"
          },
          "hoverlabel": {
           "align": "left"
          },
          "hovermode": "closest",
          "mapbox": {
           "style": "light"
          },
          "paper_bgcolor": "white",
          "plot_bgcolor": "white",
          "polar": {
           "angularaxis": {
            "gridcolor": "#EBF0F8",
            "linecolor": "#EBF0F8",
            "ticks": ""
           },
           "bgcolor": "white",
           "radialaxis": {
            "gridcolor": "#EBF0F8",
            "linecolor": "#EBF0F8",
            "ticks": ""
           }
          },
          "scene": {
           "xaxis": {
            "backgroundcolor": "white",
            "gridcolor": "#DFE8F3",
            "gridwidth": 2,
            "linecolor": "#EBF0F8",
            "showbackground": true,
            "ticks": "",
            "zerolinecolor": "#EBF0F8"
           },
           "yaxis": {
            "backgroundcolor": "white",
            "gridcolor": "#DFE8F3",
            "gridwidth": 2,
            "linecolor": "#EBF0F8",
            "showbackground": true,
            "ticks": "",
            "zerolinecolor": "#EBF0F8"
           },
           "zaxis": {
            "backgroundcolor": "white",
            "gridcolor": "#DFE8F3",
            "gridwidth": 2,
            "linecolor": "#EBF0F8",
            "showbackground": true,
            "ticks": "",
            "zerolinecolor": "#EBF0F8"
           }
          },
          "shapedefaults": {
           "line": {
            "color": "#2a3f5f"
           }
          },
          "ternary": {
           "aaxis": {
            "gridcolor": "#DFE8F3",
            "linecolor": "#A2B1C6",
            "ticks": ""
           },
           "baxis": {
            "gridcolor": "#DFE8F3",
            "linecolor": "#A2B1C6",
            "ticks": ""
           },
           "bgcolor": "white",
           "caxis": {
            "gridcolor": "#DFE8F3",
            "linecolor": "#A2B1C6",
            "ticks": ""
           }
          },
          "title": {
           "x": 0.05
          },
          "xaxis": {
           "automargin": true,
           "gridcolor": "#EBF0F8",
           "linecolor": "#EBF0F8",
           "ticks": "",
           "title": {
            "standoff": 15
           },
           "zerolinecolor": "#EBF0F8",
           "zerolinewidth": 2
          },
          "yaxis": {
           "automargin": true,
           "gridcolor": "#EBF0F8",
           "linecolor": "#EBF0F8",
           "ticks": "",
           "title": {
            "standoff": 15
           },
           "zerolinecolor": "#EBF0F8",
           "zerolinewidth": 2
          }
         }
        },
        "title": {
         "text": "Outliers for Different UMAP Parameter Combinations"
        },
        "xaxis": {
         "anchor": "y",
         "domain": [
          0,
          1
         ],
         "title": {
          "text": "UMAP n_neighbors"
         }
        },
        "yaxis": {
         "anchor": "x",
         "domain": [
          0,
          1
         ],
         "title": {
          "text": "UMAP n_components"
         }
        }
       }
      }
     },
     "metadata": {},
     "output_type": "display_data"
    }
   ],
   "source": [
    "\n",
    "# Plotting the number of outliers for different parameter combinations using Plotly Express\n",
    "fig = px.scatter(\n",
    "    plot_df,\n",
    "    x='UMAP_n_neighbors',\n",
    "    y='UMAP_n_components',\n",
    "    color='Outliers',\n",
    "    size='Outliers',\n",
    "    color_continuous_scale='Viridis',\n",
    "    title='Outliers for Different UMAP Parameter Combinations',\n",
    "    labels={'UMAP_n_neighbors': 'UMAP n_neighbors', 'UMAP_n_components': 'UMAP n_components', 'Outliers': 'Number of Outliers'},\n",
    "    template='plotly_white'\n",
    ")\n",
    "\n",
    "fig.update_layout(coloraxis_colorbar=dict(title='Number of Outliers'))\n",
    "fig.show()\n"
   ]
  },
  {
   "cell_type": "code",
   "execution_count": null,
   "metadata": {},
   "outputs": [],
   "source": []
  }
 ],
 "metadata": {
  "kernelspec": {
   "display_name": "portfolio",
   "language": "python",
   "name": "python3"
  },
  "language_info": {
   "codemirror_mode": {
    "name": "ipython",
    "version": 3
   },
   "file_extension": ".py",
   "mimetype": "text/x-python",
   "name": "python",
   "nbconvert_exporter": "python",
   "pygments_lexer": "ipython3",
   "version": "3.1.undefined"
  }
 },
 "nbformat": 4,
 "nbformat_minor": 2
}
