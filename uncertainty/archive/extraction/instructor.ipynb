{
 "cells": [
  {
   "cell_type": "code",
   "execution_count": 11,
   "metadata": {},
   "outputs": [],
   "source": [
    "from pydantic import BaseModel, Field\n",
    "from typing import List, Dict, Any\n",
    "\n",
    "class Section(BaseModel):\n",
    "    title: str = Field(description=\"main topic of this section of the document\")\n",
    "    start_index: int = Field(description=\"line number where the section begins\")\n",
    "    end_index: int = Field(description=\"line number where the section ends\")\n",
    "\n",
    "\n",
    "class StructuredDocument(BaseModel):\n",
    "    \"\"\"obtains meaningful sections, each centered around a single concept/topic\"\"\"\n",
    "    sections: List[Section] = Field(description=\"a list of sections of the document\")"
   ]
  },
  {
   "cell_type": "code",
   "execution_count": 12,
   "metadata": {},
   "outputs": [],
   "source": [
    "def doc_with_lines(document):\n",
    "    document_lines = document.split(\"\\n\")\n",
    "    document_with_line_numbers = \"\"\n",
    "    line2text = {}\n",
    "    for i, line in enumerate(document_lines):\n",
    "        document_with_line_numbers += f\"[{i}] {line}\\n\"\n",
    "        line2text[i] = line\n",
    "    return document_with_line_numbers, line2text"
   ]
  },
  {
   "cell_type": "markdown",
   "metadata": {},
   "source": [
    "### Document Segmentation"
   ]
  },
  {
   "cell_type": "code",
   "execution_count": 13,
   "metadata": {},
   "outputs": [],
   "source": [
    "import instructor\n",
    "import vertexai  \n",
    "from vertexai.generative_models import GenerativeModel  \n",
    "\n",
    "# Load transcript\n",
    "def load_transcript(file_path):\n",
    "    with open(file_path, \"r\") as f:\n",
    "        return f.read()\n",
    "\n",
    "transcript = load_transcript(\"test.txt\")\n",
    "\n",
    "system_prompt = f\"\"\"\\\n",
    "You are a world class educator working on organizing your lecture notes.\n",
    "Read the document below and extract a StructuredDocument object from it where each section of the document is centered around a single concept/topic that can be taught in one lesson.\n",
    "Each line of the document is marked with its line number in square brackets (e.g. [1], [2], [3], etc). Use the line numbers to indicate section start and end.\n",
    "\"\"\"\n",
    "\n",
    "# Apply the patch to the cohere client\n",
    "# enables response_model keyword\n",
    "client = instructor.from_vertexai(\n",
    "    client=GenerativeModel(\n",
    "        model_name=\"gemini-1.5-pro\",\n",
    "        system_instruction=system_prompt\n",
    "        ),\n",
    "    mode=instructor.Mode.VERTEXAI_TOOLS,\n",
    ")\n",
    "\n",
    "def get_structured_document(document_with_line_numbers) -> StructuredDocument:\n",
    "    return client.create(\n",
    "        messages = [\n",
    "            {\n",
    "                \"role\": \"user\",\n",
    "                \"content\": document_with_line_numbers,\n",
    "            }\n",
    "        ],\n",
    "        response_model=StructuredDocument\n",
    "    ) # type: ignore"
   ]
  },
  {
   "cell_type": "code",
   "execution_count": 14,
   "metadata": {},
   "outputs": [],
   "source": [
    "def get_sections_text(structured_doc, line2text):\n",
    "    segments = []\n",
    "    for s in structured_doc.sections:\n",
    "        contents = []\n",
    "        for line_id in range(s.start_index, s.end_index):\n",
    "                contents.append(line2text.get(line_id, ''))\n",
    "        segments.append({\n",
    "            \"title\": s.title,\n",
    "            \"content\": \"\\n\".join(contents),\n",
    "            \"start\": s.start_index,\n",
    "            \"end\": s.end_index\n",
    "        })\n",
    "    return segments"
   ]
  },
  {
   "cell_type": "code",
   "execution_count": 15,
   "metadata": {},
   "outputs": [],
   "source": [
    "document_with_line_numbers, line2text = doc_with_lines(transcript)\n",
    "structured_doc = get_structured_document(document_with_line_numbers)\n",
    "segments = get_sections_text(structured_doc, line2text)"
   ]
  },
  {
   "cell_type": "code",
   "execution_count": 16,
   "metadata": {},
   "outputs": [
    {
     "data": {
      "text/plain": [
       "23"
      ]
     },
     "metadata": {},
     "output_type": "display_data"
    }
   ],
   "source": [
    "display(len(segments))"
   ]
  },
  {
   "cell_type": "code",
   "execution_count": 17,
   "metadata": {},
   "outputs": [
    {
     "data": {
      "text/plain": [
       "'The Trillion Dollar Cluster'"
      ]
     },
     "metadata": {},
     "output_type": "display_data"
    },
    {
     "data": {
      "text/plain": [
       "'AI Progress in the Next Few Years'"
      ]
     },
     "metadata": {},
     "output_type": "display_data"
    },
    {
     "data": {
      "text/plain": [
       "'Societal and Economic Impact of AI'"
      ]
     },
     "metadata": {},
     "output_type": "display_data"
    },
    {
     "data": {
      "text/plain": [
       "'Geopolitical Implications of AI: CCP and National Security'"
      ]
     },
     "metadata": {},
     "output_type": "display_data"
    },
    {
     "data": {
      "text/plain": [
       "'Historical Perspective on Stakes and Potential for Dictatorship'"
      ]
     },
     "metadata": {},
     "output_type": "display_data"
    },
    {
     "data": {
      "text/plain": [
       "'Chinese AI Researchers and the Role of Westernized Elites'"
      ]
     },
     "metadata": {},
     "output_type": "display_data"
    },
    {
     "data": {
      "text/plain": [
       "'Building AI Clusters in the US vs. Middle East: National Security and System Competition'"
      ]
     },
     "metadata": {},
     "output_type": "display_data"
    },
    {
     "data": {
      "text/plain": [
       "'Protecting Algorithmic Secrets: Importance of Security and Potential for Espionage'"
      ]
     },
     "metadata": {},
     "output_type": "display_data"
    },
    {
     "data": {
      "text/plain": [
       "'International Cooperation and Arms Control in the Age of AGI'"
      ]
     },
     "metadata": {},
     "output_type": "display_data"
    },
    {
     "data": {
      "text/plain": [
       "'Vulnerability of Data Centers and Potential for Conflict over Taiwan'"
      ]
     },
     "metadata": {},
     "output_type": "display_data"
    },
    {
     "data": {
      "text/plain": [
       "'State-led vs. Private-led AI Development: Arguments for and Against Nationalization'"
      ]
     },
     "metadata": {},
     "output_type": "display_data"
    },
    {
     "data": {
      "text/plain": [
       "'Government vs. Private Control of ASI: Checks and Balances, Corporate Governance, and Potential for Coups'"
      ]
     },
     "metadata": {},
     "output_type": "display_data"
    },
    {
     "data": {
      "text/plain": [
       "\"Leopold's Background: Valedictorian at Columbia, Future Fund, and OpenAI\""
      ]
     },
     "metadata": {},
     "output_type": "display_data"
    },
    {
     "data": {
      "text/plain": [
       "\"Leopold's Interest in Economics and Peak Productivity\""
      ]
     },
     "metadata": {},
     "output_type": "display_data"
    },
    {
     "data": {
      "text/plain": [
       "'Leaving Economics and Discovering the \\\\\"Twitter Weirdos\\\\\"'"
      ]
     },
     "metadata": {},
     "output_type": "display_data"
    },
    {
     "data": {
      "text/plain": [
       "'OpenAI: Superalignment Team and Reasons for its Dissolution'"
      ]
     },
     "metadata": {},
     "output_type": "display_data"
    },
    {
     "data": {
      "text/plain": [
       "'Accelerating AI Research Progress: Automated AI Researchers and the Data Wall'"
      ]
     },
     "metadata": {},
     "output_type": "display_data"
    },
    {
     "data": {
      "text/plain": [
       "'Alignment: Challenges, Potential Solutions, and Dual-Use Nature'"
      ]
     },
     "metadata": {},
     "output_type": "display_data"
    },
    {
     "data": {
      "text/plain": [
       "'Germany: Post-WWII Recovery, Societal Norms, and Political Landscape'"
      ]
     },
     "metadata": {},
     "output_type": "display_data"
    },
    {
     "data": {
      "text/plain": [
       "\"Dwarkesh's Immigration Story and Path to the Podcast\""
      ]
     },
     "metadata": {},
     "output_type": "display_data"
    },
    {
     "data": {
      "text/plain": [
       "'Launching an AGI Hedge Fund: Motivation, Investment Strategy, and Potential Risks'"
      ]
     },
     "metadata": {},
     "output_type": "display_data"
    },
    {
     "data": {
      "text/plain": [
       "'Lessons from WWII: Systems Competition, Industrial Capacity, and the Importance of Timing'"
      ]
     },
     "metadata": {},
     "output_type": "display_data"
    },
    {
     "data": {
      "text/plain": [
       "'Situational Awareness: A Continuous Process of Adaptation and Response to New Information'"
      ]
     },
     "metadata": {},
     "output_type": "display_data"
    }
   ],
   "source": [
    "for segment in segments:\n",
    "    display(segment.get(\"title\"))"
   ]
  },
  {
   "cell_type": "code",
   "execution_count": null,
   "metadata": {},
   "outputs": [],
   "source": []
  }
 ],
 "metadata": {
  "kernelspec": {
   "display_name": "portfolio",
   "language": "python",
   "name": "python3"
  },
  "language_info": {
   "codemirror_mode": {
    "name": "ipython",
    "version": 3
   },
   "file_extension": ".py",
   "mimetype": "text/x-python",
   "name": "python",
   "nbconvert_exporter": "python",
   "pygments_lexer": "ipython3",
   "version": "3.1.undefined"
  }
 },
 "nbformat": 4,
 "nbformat_minor": 2
}
